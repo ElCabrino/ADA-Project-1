{
 "cells": [
  {
   "cell_type": "code",
   "execution_count": null,
   "metadata": {},
   "outputs": [],
   "source": [
    "import pandas as pd\n",
    "import numpy as np\n",
    "import matplotlib.pyplot as plt\n",
    "import plotly.express as px\n",
    "from sklearn import preprocessing\n",
    "from sklearn.preprocessing import minmax_scale"
   ]
  },
  {
   "cell_type": "code",
   "execution_count": null,
   "metadata": {},
   "outputs": [],
   "source": [
    "path = 'data/'"
   ]
  },
  {
   "cell_type": "markdown",
   "metadata": {},
   "source": [
    "# Meat Consumption\n",
    "\n",
    "http://www.fao.org/faostat/en/?#data/FBS/visualize"
   ]
  },
  {
   "cell_type": "code",
   "execution_count": null,
   "metadata": {},
   "outputs": [],
   "source": [
    "meat_consumption_path = path + 'FoodBalanceSheets_E_Europe_1.csv'\n",
    "meat_consumption = pd.read_csv(meat_consumption_path, low_memory=False)"
   ]
  },
  {
   "cell_type": "code",
   "execution_count": null,
   "metadata": {},
   "outputs": [],
   "source": [
    "years_in_dataset = range(1961, 2014)\n",
    "years_to_keep = range(2004, 2014) # 2013 is the last year available in the dataset\n",
    "years_to_drop = range(1961, 2004) # we don't use data before 2004"
   ]
  },
  {
   "cell_type": "code",
   "execution_count": null,
   "metadata": {},
   "outputs": [],
   "source": [
    "columns_to_drop = ['Y' + str(x) + 'F' for x in years_in_dataset] # These columns doesn't contain relevant data\n",
    "columns_to_drop += ['Y' + str(x) for x in years_to_drop]\n",
    "meat_consumption = meat_consumption.drop(columns=columns_to_drop)"
   ]
  },
  {
   "cell_type": "code",
   "execution_count": null,
   "metadata": {},
   "outputs": [],
   "source": [
    "rename_columns = ['Area Code', 'Area', 'Item Code', 'Item', 'Element Code', 'Element', 'Unit'] + [x for x in years_to_keep]"
   ]
  },
  {
   "cell_type": "code",
   "execution_count": null,
   "metadata": {},
   "outputs": [],
   "source": [
    "rename_columns"
   ]
  },
  {
   "cell_type": "code",
   "execution_count": null,
   "metadata": {},
   "outputs": [],
   "source": [
    "meat_consumption.columns = rename_columns"
   ]
  },
  {
   "cell_type": "code",
   "execution_count": null,
   "metadata": {},
   "outputs": [],
   "source": [
    "# meat_consumption.Item.unique()\n",
    "meat_related_item = ['Bovine Meat', 'Mutton & Goat Meat', 'Pigmeat', 'Poultry Meat', 'Meat, Other']"
   ]
  },
  {
   "cell_type": "code",
   "execution_count": null,
   "metadata": {},
   "outputs": [],
   "source": [
    "meat_consumption = meat_consumption[meat_consumption.Item.isin(meat_related_item)]"
   ]
  },
  {
   "cell_type": "code",
   "execution_count": null,
   "metadata": {},
   "outputs": [],
   "source": [
    "europe = [\n",
    "    \"Austria\", \n",
    "    \"Belgium\", \n",
    "    \"Bulgaria\", \n",
    "    \"Croatia\", \n",
    "    \"Republic of Cyprus\", \n",
    "    \"Czech Republic\", \n",
    "    \"Denmark\", \n",
    "    \"Estonia\", \n",
    "    \"Finland\", \n",
    "    \"France\", \n",
    "    \"Germany\", \n",
    "    \"Greece\", \n",
    "    \"Hungary\", \n",
    "    \"Ireland\", \n",
    "    \"Italy\", \n",
    "    \"Latvia\", \n",
    "    \"Lithuania\", \n",
    "    \"Luxembourg\", \n",
    "    \"Malta\", \n",
    "    \"Netherlands\", \n",
    "    \"Poland\", \n",
    "    \"Portugal\", \n",
    "    \"Romania\", \n",
    "    \"Slovakia\", \n",
    "    \"Slovenia\", \n",
    "    \"Spain\", \n",
    "    \"Sweden\", \n",
    "    \"United Kingdom\"\n",
    "]"
   ]
  },
  {
   "cell_type": "code",
   "execution_count": null,
   "metadata": {},
   "outputs": [],
   "source": [
    "meat_consumption = meat_consumption[meat_consumption.Area.isin(europe)]"
   ]
  },
  {
   "cell_type": "code",
   "execution_count": null,
   "metadata": {},
   "outputs": [],
   "source": [
    "meat_consumption_melted = pd.melt(meat_consumption, id_vars=[\"Area Code\", \"Area\", \"Item Code\", \"Item\", 'Element Code' , 'Element', 'Unit'], \n",
    "             value_vars=years_to_keep)"
   ]
  },
  {
   "cell_type": "code",
   "execution_count": null,
   "metadata": {},
   "outputs": [],
   "source": [
    "meat_consumption_melted.columns"
   ]
  },
  {
   "cell_type": "code",
   "execution_count": null,
   "metadata": {},
   "outputs": [],
   "source": [
    "new_columns = [\"Area Code\", \"Area\", \"Item Code\", \"Item\", 'Element Code' , 'Element', 'Unit', 'years', 'value']"
   ]
  },
  {
   "cell_type": "code",
   "execution_count": null,
   "metadata": {},
   "outputs": [],
   "source": [
    "meat_consumption_melted.columns = new_columns"
   ]
  },
  {
   "cell_type": "code",
   "execution_count": null,
   "metadata": {},
   "outputs": [],
   "source": [
    "meat_consumption_melted = meat_consumption_melted[meat_consumption_melted['Element'] == 'Domestic supply quantity']"
   ]
  },
  {
   "cell_type": "code",
   "execution_count": null,
   "metadata": {},
   "outputs": [],
   "source": [
    "meat_consumption_melted.Item.unique()"
   ]
  },
  {
   "cell_type": "markdown",
   "metadata": {},
   "source": [
    "## All meats"
   ]
  },
  {
   "cell_type": "code",
   "execution_count": null,
   "metadata": {},
   "outputs": [],
   "source": [
    "meat_consumption_melted.head()"
   ]
  },
  {
   "cell_type": "code",
   "execution_count": null,
   "metadata": {},
   "outputs": [],
   "source": [
    "meat_consumption_melted = meat_consumption_melted.groupby(['years', 'Area'])['value'].sum().unstack(level=0)\n",
    "\n",
    "meat_consumption_melted['Area'] = meat_consumption_melted.index\n",
    "\n",
    "meat_consumption_melted = pd.melt(meat_consumption_melted, id_vars=['Area'], value_vars=years_to_keep)"
   ]
  },
  {
   "cell_type": "code",
   "execution_count": null,
   "metadata": {},
   "outputs": [],
   "source": [
    "meat_consumption_melted.head()"
   ]
  },
  {
   "cell_type": "code",
   "execution_count": null,
   "metadata": {},
   "outputs": [],
   "source": [
    "fig = px.line(meat_consumption_melted, x=\"years\", y='value', color='Area')\n",
    "fig.update_xaxes(title_text='Years')\n",
    "fig.update_yaxes(title_text='All meats consumption per 1000 tons')\n",
    "fig.show()"
   ]
  },
  {
   "cell_type": "code",
   "execution_count": null,
   "metadata": {},
   "outputs": [],
   "source": [
    "meat_consumption_melted.value.describe()"
   ]
  },
  {
   "cell_type": "code",
   "execution_count": null,
   "metadata": {},
   "outputs": [],
   "source": [
    "min_val = meat_consumption_melted.value.min()\n",
    "max_val = meat_consumption_melted.value.max()\n",
    "\n",
    "fig = px.choropleth(meat_consumption_melted, \n",
    "                    locations=\"Area\", \n",
    "                    scope=\"europe\", \n",
    "                    locationmode = 'country names', \n",
    "                    color='value', \n",
    "                    hover_name=\"Area\", \n",
    "                    animation_frame=\"years\", \n",
    "                    range_color=[min_val, 6500])\n",
    "fig.show()"
   ]
  },
  {
   "cell_type": "markdown",
   "metadata": {},
   "source": [
    "## Normalize all"
   ]
  },
  {
   "cell_type": "code",
   "execution_count": null,
   "metadata": {},
   "outputs": [],
   "source": [
    "meat_consumption_melted_normalized = meat_consumption_melted.copy()"
   ]
  },
  {
   "cell_type": "code",
   "execution_count": null,
   "metadata": {},
   "outputs": [],
   "source": [
    "# normalize value column for each country\n",
    "meat_consumption_melted_normalized['value'] = meat_consumption_melted_normalized.groupby(['Area']).value.transform(lambda x: minmax_scale(x.astype(float)))"
   ]
  },
  {
   "cell_type": "code",
   "execution_count": null,
   "metadata": {},
   "outputs": [],
   "source": [
    "fig = px.line(meat_consumption_melted_normalized, x=\"years\", y='value', color='Area')\n",
    "fig.update_xaxes(title_text='Years')\n",
    "fig.update_yaxes(title_text='All meats consumption per 1000 tons (normalized per country)')\n",
    "fig.show()"
   ]
  },
  {
   "cell_type": "code",
   "execution_count": null,
   "metadata": {},
   "outputs": [],
   "source": [
    "min_val = meat_consumption_melted_normalized.value.min()\n",
    "max_val = meat_consumption_melted_normalized.value.max()\n",
    "\n",
    "fig = px.choropleth(meat_consumption_melted_normalized, \n",
    "                    locations=\"Area\", \n",
    "                    scope=\"europe\", \n",
    "                    locationmode = 'country names', \n",
    "                    color='value', \n",
    "                    hover_name=\"Area\", \n",
    "                    animation_frame=\"years\", \n",
    "                    range_color=[min_val, max_val])\n",
    "fig.show()"
   ]
  },
  {
   "cell_type": "markdown",
   "metadata": {},
   "source": [
    "## Poultry Meat "
   ]
  },
  {
   "cell_type": "code",
   "execution_count": null,
   "metadata": {},
   "outputs": [],
   "source": [
    "poultry_consumption = meat_consumption_melted[meat_consumption_melted['Item'] == 'Poultry Meat']"
   ]
  },
  {
   "cell_type": "code",
   "execution_count": null,
   "metadata": {},
   "outputs": [],
   "source": [
    "# poultry_consumption = poultry_consumption[poultry_consumption['Element'] == 'Domestic supply quantity']"
   ]
  },
  {
   "cell_type": "code",
   "execution_count": null,
   "metadata": {},
   "outputs": [],
   "source": [
    "fig = px.line(poultry_consumption, x=\"years\", y='value', color='Area')\n",
    "fig.update_xaxes(title_text='Years')\n",
    "fig.update_yaxes(title_text='Poultry consumption in 1000 tons')\n",
    "fig.show()"
   ]
  },
  {
   "cell_type": "code",
   "execution_count": null,
   "metadata": {},
   "outputs": [],
   "source": [
    "poultry_consumption.value.describe()"
   ]
  },
  {
   "cell_type": "code",
   "execution_count": null,
   "metadata": {},
   "outputs": [],
   "source": [
    "min_val = poultry_consumption.value.min()\n",
    "max_val = poultry_consumption.value.max()\n",
    "\n",
    "fig = px.choropleth(poultry_consumption, \n",
    "                    locations=\"Area\", \n",
    "                    scope=\"europe\", \n",
    "                    locationmode = 'country names', \n",
    "                    color='value', \n",
    "                    hover_name=\"Area\", \n",
    "                    animation_frame=\"years\", \n",
    "                    range_color=[min_val, max_val])\n",
    "fig.show()"
   ]
  },
  {
   "cell_type": "code",
   "execution_count": null,
   "metadata": {},
   "outputs": [],
   "source": []
  }
 ],
 "metadata": {
  "kernelspec": {
   "display_name": "Python 3",
   "language": "python",
   "name": "python3"
  },
  "language_info": {
   "codemirror_mode": {
    "name": "ipython",
    "version": 3
   },
   "file_extension": ".py",
   "mimetype": "text/x-python",
   "name": "python",
   "nbconvert_exporter": "python",
   "pygments_lexer": "ipython3",
   "version": "3.6.9"
  }
 },
 "nbformat": 4,
 "nbformat_minor": 4
}
