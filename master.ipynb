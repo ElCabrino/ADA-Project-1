{
 "cells": [
  {
   "cell_type": "code",
   "execution_count": null,
   "metadata": {},
   "outputs": [],
   "source": [
    "from pytrends.request import TrendReq\n",
    "import matplotlib.pyplot as plt\n",
    "import pandas as pd\n",
    "import plotly.graph_objects as go\n",
    "import plotly.offline as pyo\n",
    "from scipy import signal\n",
    "import scipy.cluster.hierarchy as spc\n",
    "from pandas import read_excel\n",
    "from ipywidgets import widgets\n",
    "from ipywidgets import interactive, HBox, VBox\n",
    "import plotly.io as pio\n",
    "import seaborn as sns\n",
    "import numpy as np\n",
    "from sklearn.cluster import KMeans"
   ]
  },
  {
   "cell_type": "markdown",
   "metadata": {},
   "source": [
    "# Plan"
   ]
  },
  {
   "cell_type": "markdown",
   "metadata": {},
   "source": [
    "1. Introduction\n",
    "2. Ecolo\n",
    "3. Economic\n",
    "4. Animale care\n",
    "5. Gather\n",
    "6. What's next ?"
   ]
  },
  {
   "cell_type": "markdown",
   "metadata": {},
   "source": [
    "# 4. Animal care"
   ]
  },
  {
   "cell_type": "code",
   "execution_count": null,
   "metadata": {},
   "outputs": [],
   "source": [
    "country_list = [\"FR\",\"BE\",\"BG\",\"CY\",\"CZ\",\"DE\",\"DK\",\"EE\",\"ES\",\"FI\",\"AT\",\"GB\",\"GR\",\"HR\",\"HU\",\"IE\",\"IT\",\"LT\",\"LU\",\"LV\",\"MT\",\"NL\",\"PL\",\"PT\",\"RO\",\"SE\",\"SI\",\"SK\"]\n",
    "country_list_iso = [\"FRA\",\"BEL\",\"BGR\",\"CYP\",\"CZE\",\"DEU\",\"DNK\",\"EST\",\"ESP\",\"FIN\",\"AUT\",\"GBR\",\"GRC\",\"HRV\",\"HUN\",\"IRL\",\"ITA\",\"LTU\",\"LUX\",\"LVA\",\"MLT\",\"NLD\",\"POL\",\"PRT\",\"ROU\",\"SWE\",\"SVN\",\"SVK\"]"
   ]
  },
  {
   "cell_type": "code",
   "execution_count": null,
   "metadata": {},
   "outputs": [],
   "source": [
    "pytrends = TrendReq(hl='en-US', tz=360)\n",
    "\n",
    "#list topics \n",
    "kw_list = []\n",
    "kw_list.append([\"/m/032nch\"]) #cruauté envers les animaux, Sujet\n",
    "kw_list.append([\"l214\"])\n",
    "kw_list.append([\"/m/047v0jr\"]) #abattage\n",
    "kw_list.append([\"/m/07628\"]) #spécisme\n",
    "kw_list.append([\"/m/07_lq\"]) #cuisine vegetarienne\n",
    "kw_list.append([\"/m/07_jd\"]) #végétarisme\n",
    "kw_list.append([\"/m/07_hy\"]) #véganisme\n",
    "kw_list.append([\"/m/020953\"]) #substitut de viande"
   ]
  },
  {
   "cell_type": "code",
   "execution_count": null,
   "metadata": {},
   "outputs": [],
   "source": [
    "#loading data\n",
    "df_animal_cruelty = pd.read_pickle(\"./data_vinc/GoogleTrend0.pkl\")\n",
    "df_l214 = pd.read_pickle(\"./data_vinc/GoogleTrend1.pkl\")\n",
    "df_abattage = pd.read_pickle(\"./data_vinc/GoogleTrend2.pkl\")\n",
    "df_specism = pd.read_pickle(\"./data_vinc/GoogleTrend3.pkl\")\n",
    "df_vegan_cook = pd.read_pickle(\"./data_vinc/GoogleTrend4.pkl\")\n",
    "df_vegetarism = pd.read_pickle(\"./data_vinc/GoogleTrend5.pkl\")\n",
    "df_veganism = pd.read_pickle(\"./data_vinc/GoogleTrend6.pkl\")\n",
    "df_meat_substitute = pd.read_pickle(\"./data_vinc/GoogleTrend7.pkl\")"
   ]
  },
  {
   "cell_type": "code",
   "execution_count": null,
   "metadata": {},
   "outputs": [],
   "source": [
    "def plot_lines(df,value_smooth, title):\n",
    "    fig = go.Figure()\n",
    "    for x in df.columns:\n",
    "        if value_smooth == 0:\n",
    "            fig.add_trace(go.Scatter(x=df.index, y=df[x], mode='lines',name=x))\n",
    "        else:\n",
    "            fig.add_trace(go.Scatter(x=df.index, y=signal.savgol_filter(df[x],value_smooth, 3), mode='lines',name=x))\n",
    "    fig.update_layout(title_text=title)\n",
    "    fig.show()"
   ]
  },
  {
   "cell_type": "code",
   "execution_count": null,
   "metadata": {},
   "outputs": [],
   "source": [
    "    plot_lines((df_veganism+df_vegetarism+df_vegan_cook), 0, \"Interest over time of vegetarism/veganism and vegan recipes\")"
   ]
  },
  {
   "cell_type": "code",
   "execution_count": null,
   "metadata": {},
   "outputs": [],
   "source": [
    "plot_lines((df_veganism+df_vegetarism+df_vegan_cook)[['IT', 'FR', 'GR', 'PT', 'PL']], 0, \"Interest over time of vegetarism/veganism and vegan recipes\")"
   ]
  },
  {
   "cell_type": "markdown",
   "metadata": {},
   "source": [
    "As we can see the interest for this topic increased last 10 years, but as we saw before ...\n",
    "The most interesting fact with google trend is the spikes from a period to another:"
   ]
  },
  {
   "cell_type": "code",
   "execution_count": null,
   "metadata": {},
   "outputs": [],
   "source": [
    "plot_lines(df_l214[['FR']], 7, \"Interest over time of l214 in France\")"
   ]
  },
  {
   "cell_type": "code",
   "execution_count": null,
   "metadata": {},
   "outputs": [],
   "source": [
    "plot_lines(df_meat_substitute[['FR']], 7, \"Interest over time of vegetarism/veganism and vegan recipes\")"
   ]
  },
  {
   "cell_type": "markdown",
   "metadata": {},
   "source": [
    "Here we can see that something happened in France in April 2016 with the association L214, even the research for meat substitute has increased at that moment. What would be interesting is to find the exact event that happened at that moment."
   ]
  },
  {
   "cell_type": "code",
   "execution_count": null,
   "metadata": {},
   "outputs": [],
   "source": [
    "plot_lines(df_veganism[['IT']], 7, \"Interest over time of veganism in Italy\")"
   ]
  },
  {
   "cell_type": "markdown",
   "metadata": {},
   "source": [
    "Even in Italy the interest for veganism increase significantly between 2013 and 2014. "
   ]
  },
  {
   "cell_type": "code",
   "execution_count": null,
   "metadata": {},
   "outputs": [],
   "source": [
    "plot_lines(df_specism[['FR']], 0, \"Interest over time of specism\")"
   ]
  },
  {
   "cell_type": "markdown",
   "metadata": {},
   "source": [
    "Some event clearly happenened when those researches exploded.\n",
    "What are the triggers events for those researchs ?\n",
    "But can we see an actual change on the meat consumption ? \n",
    "Does the fact that people acknowledge theirselves on those subjects make an actual impact ?"
   ]
  },
  {
   "cell_type": "markdown",
   "metadata": {},
   "source": [
    "Also we can try to see some similar behaviours in those interests? K-means algorithm might be a first idea to cluster the differents countries:"
   ]
  },
  {
   "cell_type": "code",
   "execution_count": null,
   "metadata": {},
   "outputs": [],
   "source": [
    "#cluster countries based on correlation measure\n",
    "def getIdx(corr,variableTweak):\n",
    "    pdist = spc.distance.pdist(corr)\n",
    "    linkage = spc.linkage(pdist, method='complete')\n",
    "    idx = spc.fcluster(linkage, variableTweak * pdist.max(), 'distance')\n",
    "    return idx\n",
    "\n",
    "def getGroupe(number,idx):\n",
    "    groupe = []\n",
    "    for i in range(0,len(idx)):\n",
    "        x = idx[i]\n",
    "        if x == number:\n",
    "            groupe.append(i)\n",
    "    return groupe\n",
    "\n",
    "def plotDifferentGroup(idx,dfPlot,indicePlot, title):\n",
    "    for i in range(1,max(idx)+1):\n",
    "        df1 = dfPlot[dfPlot.columns[getGroupe(i,idx)]]\n",
    "        plot_lines(df1,indicePlot, title)\n",
    "\n",
    "def plotMapStatic(idx, title):\n",
    "    fig = go.Figure(data=go.Choropleth(\n",
    "        locations=country_list_iso, # Spatial coordinates\n",
    "        z = idx, # Data to be color-coded\n",
    "        locationmode = 'ISO-3', # set of locations match entries in `locations`\n",
    "        colorscale=\"Blugrn\",\n",
    "        colorbar_title = \"Millions USD\",\n",
    "        showscale = False,\n",
    "    ))\n",
    "\n",
    "    fig.update_layout(\n",
    "        title_text = title,\n",
    "        geo_scope='europe', # limite map scope to USA\n",
    "        autosize=False,\n",
    "        width=800,\n",
    "        height=800,\n",
    "        dragmode=False\n",
    "    )\n",
    "    fig.show()\n",
    "    \n",
    "def plotByGroup(df, title, threshold=0.5, method='hierarchical', n_clusters=3):\n",
    "    df_corr= df.corr(method='kendall')\n",
    "    idx = None\n",
    "    if method== 'hierarchical':\n",
    "        idx = getIdx(df_corr, threshold)\n",
    "    else:\n",
    "        idx=getKMeansGroups(df, n_clusters)+1\n",
    "    plotDifferentGroup(idx, df, 11, title)\n",
    "    plotMapStatic(idx, 'Clustering by interest on subject')\n",
    "    \n",
    "    \n",
    "def getKMeansGroups(df, n_clusters=3):\n",
    "    k_means = KMeans(n_clusters=n_clusters, random_state=0).fit(df.transpose().values)\n",
    "    return k_means.predict(df.transpose().values)"
   ]
  },
  {
   "cell_type": "code",
   "execution_count": null,
   "metadata": {},
   "outputs": [],
   "source": [
    "plotByGroup((df_veganism+df_vegetarism+df_vegan_cook), 'title temp', n_clusters=2, method='kmeans')"
   ]
  },
  {
   "cell_type": "code",
   "execution_count": null,
   "metadata": {},
   "outputs": [],
   "source": [
    "plotByGroup((df_veganism+df_vegan_cook), 'title temp', n_clusters=3, method='kmeans')"
   ]
  },
  {
   "cell_type": "markdown",
   "metadata": {},
   "source": [
    "As we can see, even if we have high dimensional data, the k-means split we obtained make sense. Even more, when we display the countries that are grouped together, we can see that they are geographicaly close to each other. That might be an avenue worth to explore.\n",
    "They are also some spike in the trends. For example here for the topic 'L214' in France, which is an association about animal care:"
   ]
  },
  {
   "cell_type": "code",
   "execution_count": null,
   "metadata": {},
   "outputs": [],
   "source": []
  }
 ],
 "metadata": {
  "kernelspec": {
   "display_name": "Python 3",
   "language": "python",
   "name": "python3"
  },
  "language_info": {
   "codemirror_mode": {
    "name": "ipython",
    "version": 3
   },
   "file_extension": ".py",
   "mimetype": "text/x-python",
   "name": "python",
   "nbconvert_exporter": "python",
   "pygments_lexer": "ipython3",
   "version": "3.7.4"
  }
 },
 "nbformat": 4,
 "nbformat_minor": 4
}
