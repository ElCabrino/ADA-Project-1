{
 "cells": [
  {
   "cell_type": "code",
   "execution_count": null,
   "metadata": {},
   "outputs": [],
   "source": [
    "import pandas as pd\n",
    "import numpy as np\n",
    "import matplotlib.pyplot as plt\n",
    "import plotly.express as px"
   ]
  },
  {
   "cell_type": "code",
   "execution_count": null,
   "metadata": {},
   "outputs": [],
   "source": [
    "path = 'data/'"
   ]
  },
  {
   "cell_type": "markdown",
   "metadata": {},
   "source": [
    "# GERMANY create the dataframe \n",
    "\n",
    "From 2004 to 2008: http://www.fao.org/faostat/en/?#data/FBS/visualize\n",
    "\n",
    "From 2008: Using data collected in https://de.statista.com/statistik/daten/studie/36573/umfrage/pro-kopf-verbrauch-von-fleisch-in-deutschland-seit-2000/ "
   ]
  },
  {
   "cell_type": "code",
   "execution_count": null,
   "metadata": {},
   "outputs": [],
   "source": [
    "\n",
    "# df = pd.DataFrame()\n",
    "\n",
    "data = [\n",
    "    [2004, 84.4],\n",
    "    [2005, 83.9],\n",
    "    [2006, 84.3],\n",
    "    [2007, 87.9],\n",
    "    [2008, 89.8],\n",
    "    [2009, 90.1],\n",
    "    [2010, 91.2],\n",
    "    [2011, 91.4],\n",
    "    [2012, 88.8],\n",
    "    [2013, 89],\n",
    "    [2014, 89.4],\n",
    "    [2015, 89.9],\n",
    "    [2016, 89.8],\n",
    "    [2017, 88.1],\n",
    "    [2018, 88.6],\n",
    "]\n",
    "\n",
    "  \n",
    "# Create the pandas DataFrame \n",
    "df = pd.DataFrame(data, columns = ['years', 'meat consumption (kg/person)']) \n",
    "# add Germany as country\n",
    "df['Area'] = 'Germany'"
   ]
  },
  {
   "cell_type": "code",
   "execution_count": null,
   "metadata": {},
   "outputs": [],
   "source": [
    "df"
   ]
  },
  {
   "cell_type": "code",
   "execution_count": null,
   "metadata": {},
   "outputs": [],
   "source": [
    "df.to_csv('data/Germany_dataset_2004_2019.csv')"
   ]
  },
  {
   "cell_type": "code",
   "execution_count": null,
   "metadata": {},
   "outputs": [],
   "source": [
    "fig = px.line(df, x=\"years\", y='meat consumption (kg/person)', color='Area')\n",
    "#fig.update_xaxes(title_text='Years')\n",
    "#fig.update_yaxes(title_text='All meats consumption per 1000 tons')\n",
    "fig.show()"
   ]
  },
  {
   "cell_type": "code",
   "execution_count": null,
   "metadata": {},
   "outputs": [],
   "source": []
  }
 ],
 "metadata": {
  "kernelspec": {
   "display_name": "Python 3",
   "language": "python",
   "name": "python3"
  },
  "language_info": {
   "codemirror_mode": {
    "name": "ipython",
    "version": 3
   },
   "file_extension": ".py",
   "mimetype": "text/x-python",
   "name": "python",
   "nbconvert_exporter": "python",
   "pygments_lexer": "ipython3",
   "version": "3.6.9"
  }
 },
 "nbformat": 4,
 "nbformat_minor": 4
}
