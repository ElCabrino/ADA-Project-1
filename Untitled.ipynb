{
 "cells": [
  {
   "cell_type": "code",
   "execution_count": 230,
   "metadata": {},
   "outputs": [],
   "source": [
    "import numpy as np\n",
    "import pandas as pd\n",
    "import os\n",
    "import matplotlib.pyplot as plt\n",
    "import plotly.graph_objects as go\n",
    "import plotly.offline as pyo\n",
    "from scipy import signal\n",
    "import scipy.cluster.hierarchy as spc\n",
    "from pandas import read_excel\n",
    "from ipywidgets import widgets\n",
    "from ipywidgets import interactive, HBox, VBox\n",
    "import plotly.io as pio\n",
    "from sklearn.cluster import KMeans\n",
    "from sklearn import linear_model\n",
    "from sklearn.linear_model import Ridge\n",
    "from sklearn.preprocessing import PolynomialFeatures\n",
    "from sklearn.pipeline import make_pipeline\n",
    "from plotly.graph_objs import *\n",
    "import json"
   ]
  },
  {
   "cell_type": "code",
   "execution_count": 188,
   "metadata": {},
   "outputs": [],
   "source": [
    "def change_config(fig):\n",
    "    # params \n",
    "    # title and labels\n",
    "    size_title = 15 \n",
    "    size_axes_labels = 10\n",
    "    family = 'Courier' # font \n",
    "    color = '#F2F2F2'\n",
    "    \n",
    "    \n",
    "    # plot config\n",
    "    width = 1300\n",
    "    height = 600\n",
    "    \n",
    "    # configuration of the axes (ticks for each label on the axes)\n",
    "    ticks = 'outside'\n",
    "    tickwidth = 2 \n",
    "    tickcolor = '#F2F2F2'\n",
    "    ticklen = 10\n",
    "    \n",
    "    # grid color \n",
    "    grid_color_x = 'rgba(153, 163, 164,0.5)'\n",
    "    grid_color_y = 'rgba(153, 163, 164,0.5)'\n",
    "    \n",
    "    \n",
    "    # font for title and labels \n",
    "    font_title = dict(size=size_title, family=family, color=color)\n",
    "    font_axes_labels =  dict(size=size_axes_labels, family=family, color=color)\n",
    "    \n",
    "    \n",
    "    # remove background and configure size\n",
    "    layout = Layout(\n",
    "        paper_bgcolor='rgba(0,0,0,0)',\n",
    "        plot_bgcolor='rgba(0,0,0,0)',\n",
    "        font = font_axes_labels,\n",
    "        titlefont = font_title,\n",
    "        #height=height,\n",
    "        #width=width,\n",
    "    )\n",
    "    \n",
    "    fig.update_layout(layout)\n",
    "    \n",
    "    # update the axes configuration\n",
    "    fig.update_xaxes(\n",
    "        ticks = ticks,\n",
    "        tickwidth = tickwidth, \n",
    "        tickcolor = tickcolor,\n",
    "        ticklen = ticklen,\n",
    "        title_font = font_axes_labels,\n",
    "        gridcolor = grid_color_x\n",
    "    )\n",
    "    \n",
    "    fig.update_yaxes(\n",
    "        ticks = ticks,\n",
    "        tickwidth = tickwidth, \n",
    "        tickcolor = tickcolor,\n",
    "        ticklen = ticklen,\n",
    "        title_font = font_axes_labels, \n",
    "        gridcolor = grid_color_y,\n",
    "        #gridwidth=None\n",
    "    )\n",
    "    \n",
    "    return fig"
   ]
  },
  {
   "cell_type": "code",
   "execution_count": 200,
   "metadata": {},
   "outputs": [],
   "source": [
    "country_list2 = ['AUT', 'BEL', 'BGR', 'HRV', 'DNK', 'EST',\n",
    "       'FIN', 'FRA', 'DEU', 'GRC', 'HUN', 'IRL', 'ITA',\n",
    "       'LVA', 'LTU', 'LUX', 'MLT', 'NLD', 'POL',\n",
    "       'POR', 'ROU', 'SVK', 'SVN', 'ESP', 'SWE',\n",
    "       'GBR']\n",
    "country_list = [\"FR\",\"BE\",\"BG\",\"CY\",\"CZ\",\"DE\",\"DK\",\"EE\",\"ES\",\"FI\",\"AT\",\"GB\",\"GR\",\"HR\",\"HU\",\"IE\",\"IT\",\"LT\",\"LU\",\"LV\",\"MT\",\"NL\",\"PL\",\"PT\",\"RO\",\"SE\",\"SI\",\"SK\"]\n",
    "country_list_iso = [\"FRA\",\"BEL\",\"BGR\",\"CYP\",\"CZE\",\"DEU\",\"DNK\",\"EST\",\"ESP\",\"FIN\",\"AUT\",\"GBR\",\"GRC\",\"HRV\",\"HUN\",\"IRL\",\"ITA\",\"LTU\",\"LUX\",\"LVA\",\"MLT\",\"NLD\",\"POL\",\"PRT\",\"ROU\",\"SWE\",\"SVN\",\"SVK\"]"
   ]
  },
  {
   "cell_type": "code",
   "execution_count": 201,
   "metadata": {},
   "outputs": [
    {
     "data": {
      "text/html": [
       "<div>\n",
       "<style scoped>\n",
       "    .dataframe tbody tr th:only-of-type {\n",
       "        vertical-align: middle;\n",
       "    }\n",
       "\n",
       "    .dataframe tbody tr th {\n",
       "        vertical-align: top;\n",
       "    }\n",
       "\n",
       "    .dataframe thead th {\n",
       "        text-align: right;\n",
       "    }\n",
       "</style>\n",
       "<table border=\"1\" class=\"dataframe\">\n",
       "  <thead>\n",
       "    <tr style=\"text-align: right;\">\n",
       "      <th></th>\n",
       "      <th>LOCATION</th>\n",
       "      <th>TIME</th>\n",
       "      <th>Value</th>\n",
       "    </tr>\n",
       "  </thead>\n",
       "  <tbody>\n",
       "    <tr>\n",
       "      <th>0</th>\n",
       "      <td>AUT</td>\n",
       "      <td>2004</td>\n",
       "      <td>33753.472389</td>\n",
       "    </tr>\n",
       "    <tr>\n",
       "      <th>1</th>\n",
       "      <td>AUT</td>\n",
       "      <td>2005</td>\n",
       "      <td>35024.557484</td>\n",
       "    </tr>\n",
       "    <tr>\n",
       "      <th>2</th>\n",
       "      <td>AUT</td>\n",
       "      <td>2006</td>\n",
       "      <td>37626.245494</td>\n",
       "    </tr>\n",
       "    <tr>\n",
       "      <th>3</th>\n",
       "      <td>AUT</td>\n",
       "      <td>2007</td>\n",
       "      <td>39393.953567</td>\n",
       "    </tr>\n",
       "    <tr>\n",
       "      <th>4</th>\n",
       "      <td>AUT</td>\n",
       "      <td>2008</td>\n",
       "      <td>41316.022642</td>\n",
       "    </tr>\n",
       "    <tr>\n",
       "      <th>...</th>\n",
       "      <td>...</td>\n",
       "      <td>...</td>\n",
       "      <td>...</td>\n",
       "    </tr>\n",
       "    <tr>\n",
       "      <th>430</th>\n",
       "      <td>ROU</td>\n",
       "      <td>2014</td>\n",
       "      <td>20615.540114</td>\n",
       "    </tr>\n",
       "    <tr>\n",
       "      <th>431</th>\n",
       "      <td>ROU</td>\n",
       "      <td>2015</td>\n",
       "      <td>21627.160758</td>\n",
       "    </tr>\n",
       "    <tr>\n",
       "      <th>432</th>\n",
       "      <td>ROU</td>\n",
       "      <td>2016</td>\n",
       "      <td>23863.058219</td>\n",
       "    </tr>\n",
       "    <tr>\n",
       "      <th>433</th>\n",
       "      <td>ROU</td>\n",
       "      <td>2017</td>\n",
       "      <td>26626.217154</td>\n",
       "    </tr>\n",
       "    <tr>\n",
       "      <th>434</th>\n",
       "      <td>ROU</td>\n",
       "      <td>2018</td>\n",
       "      <td>28209.087660</td>\n",
       "    </tr>\n",
       "  </tbody>\n",
       "</table>\n",
       "<p>435 rows × 3 columns</p>\n",
       "</div>"
      ],
      "text/plain": [
       "    LOCATION  TIME         Value\n",
       "0        AUT  2004  33753.472389\n",
       "1        AUT  2005  35024.557484\n",
       "2        AUT  2006  37626.245494\n",
       "3        AUT  2007  39393.953567\n",
       "4        AUT  2008  41316.022642\n",
       "..       ...   ...           ...\n",
       "430      ROU  2014  20615.540114\n",
       "431      ROU  2015  21627.160758\n",
       "432      ROU  2016  23863.058219\n",
       "433      ROU  2017  26626.217154\n",
       "434      ROU  2018  28209.087660\n",
       "\n",
       "[435 rows x 3 columns]"
      ]
     },
     "execution_count": 201,
     "metadata": {},
     "output_type": "execute_result"
    }
   ],
   "source": [
    "df_gdp = pd.read_csv('PIB28.csv')#, index_col=0)\n",
    "df_gdp"
   ]
  },
  {
   "cell_type": "code",
   "execution_count": 202,
   "metadata": {},
   "outputs": [
    {
     "data": {
      "text/html": [
       "<div>\n",
       "<style scoped>\n",
       "    .dataframe tbody tr th:only-of-type {\n",
       "        vertical-align: middle;\n",
       "    }\n",
       "\n",
       "    .dataframe tbody tr th {\n",
       "        vertical-align: top;\n",
       "    }\n",
       "\n",
       "    .dataframe thead th {\n",
       "        text-align: right;\n",
       "    }\n",
       "</style>\n",
       "<table border=\"1\" class=\"dataframe\">\n",
       "  <thead>\n",
       "    <tr style=\"text-align: right;\">\n",
       "      <th>LOCATION</th>\n",
       "      <th>AUT</th>\n",
       "      <th>BEL</th>\n",
       "      <th>BGR</th>\n",
       "      <th>CYP</th>\n",
       "      <th>CZE</th>\n",
       "      <th>DEU</th>\n",
       "      <th>DNK</th>\n",
       "      <th>ESP</th>\n",
       "      <th>EST</th>\n",
       "      <th>FIN</th>\n",
       "      <th>...</th>\n",
       "      <th>LVA</th>\n",
       "      <th>MLT</th>\n",
       "      <th>NLD</th>\n",
       "      <th>OECD</th>\n",
       "      <th>POL</th>\n",
       "      <th>PRT</th>\n",
       "      <th>ROU</th>\n",
       "      <th>SVK</th>\n",
       "      <th>SVN</th>\n",
       "      <th>SWE</th>\n",
       "    </tr>\n",
       "    <tr>\n",
       "      <th>TIME</th>\n",
       "      <th></th>\n",
       "      <th></th>\n",
       "      <th></th>\n",
       "      <th></th>\n",
       "      <th></th>\n",
       "      <th></th>\n",
       "      <th></th>\n",
       "      <th></th>\n",
       "      <th></th>\n",
       "      <th></th>\n",
       "      <th></th>\n",
       "      <th></th>\n",
       "      <th></th>\n",
       "      <th></th>\n",
       "      <th></th>\n",
       "      <th></th>\n",
       "      <th></th>\n",
       "      <th></th>\n",
       "      <th></th>\n",
       "      <th></th>\n",
       "      <th></th>\n",
       "    </tr>\n",
       "  </thead>\n",
       "  <tbody>\n",
       "    <tr>\n",
       "      <th>2004</th>\n",
       "      <td>33753.472389</td>\n",
       "      <td>32033.983077</td>\n",
       "      <td>9117.098653</td>\n",
       "      <td>25921.013055</td>\n",
       "      <td>20779.142527</td>\n",
       "      <td>31712.774026</td>\n",
       "      <td>32917.958893</td>\n",
       "      <td>26158.034977</td>\n",
       "      <td>14481.432753</td>\n",
       "      <td>31173.153761</td>\n",
       "      <td>...</td>\n",
       "      <td>12199.780284</td>\n",
       "      <td>21341.856268</td>\n",
       "      <td>35776.668812</td>\n",
       "      <td>29091.663707</td>\n",
       "      <td>13341.874444</td>\n",
       "      <td>21458.183025</td>\n",
       "      <td>8982.019325</td>\n",
       "      <td>15183.955756</td>\n",
       "      <td>22737.262303</td>\n",
       "      <td>33608.849355</td>\n",
       "    </tr>\n",
       "    <tr>\n",
       "      <th>2005</th>\n",
       "      <td>35024.557484</td>\n",
       "      <td>33177.947339</td>\n",
       "      <td>10183.806414</td>\n",
       "      <td>27763.105975</td>\n",
       "      <td>21907.305595</td>\n",
       "      <td>32236.740986</td>\n",
       "      <td>34152.881663</td>\n",
       "      <td>27600.937175</td>\n",
       "      <td>16574.460822</td>\n",
       "      <td>32051.762889</td>\n",
       "      <td>...</td>\n",
       "      <td>13837.089238</td>\n",
       "      <td>22265.719116</td>\n",
       "      <td>37625.252435</td>\n",
       "      <td>30478.990308</td>\n",
       "      <td>13897.543071</td>\n",
       "      <td>22725.351606</td>\n",
       "      <td>9602.103407</td>\n",
       "      <td>16595.261602</td>\n",
       "      <td>23848.605399</td>\n",
       "      <td>34029.085227</td>\n",
       "    </tr>\n",
       "    <tr>\n",
       "      <th>2006</th>\n",
       "      <td>37626.245494</td>\n",
       "      <td>35222.474358</td>\n",
       "      <td>11251.243922</td>\n",
       "      <td>29984.329856</td>\n",
       "      <td>23712.242435</td>\n",
       "      <td>34630.816470</td>\n",
       "      <td>37297.523836</td>\n",
       "      <td>30713.803154</td>\n",
       "      <td>19257.646402</td>\n",
       "      <td>34419.156888</td>\n",
       "      <td>...</td>\n",
       "      <td>15742.904798</td>\n",
       "      <td>23227.410451</td>\n",
       "      <td>40971.493263</td>\n",
       "      <td>32508.887051</td>\n",
       "      <td>15145.861194</td>\n",
       "      <td>24657.083629</td>\n",
       "      <td>11544.715086</td>\n",
       "      <td>18831.799020</td>\n",
       "      <td>25681.207419</td>\n",
       "      <td>37435.395276</td>\n",
       "    </tr>\n",
       "    <tr>\n",
       "      <th>2007</th>\n",
       "      <td>39393.953567</td>\n",
       "      <td>36755.650522</td>\n",
       "      <td>12607.887169</td>\n",
       "      <td>32850.086448</td>\n",
       "      <td>26064.506576</td>\n",
       "      <td>36822.840138</td>\n",
       "      <td>38978.780753</td>\n",
       "      <td>32431.570501</td>\n",
       "      <td>22133.611223</td>\n",
       "      <td>37801.926033</td>\n",
       "      <td>...</td>\n",
       "      <td>18121.545421</td>\n",
       "      <td>24892.495898</td>\n",
       "      <td>43895.900712</td>\n",
       "      <td>34066.083002</td>\n",
       "      <td>16789.980110</td>\n",
       "      <td>25708.159839</td>\n",
       "      <td>13686.942348</td>\n",
       "      <td>21115.656398</td>\n",
       "      <td>27533.363591</td>\n",
       "      <td>40592.764986</td>\n",
       "    </tr>\n",
       "    <tr>\n",
       "      <th>2008</th>\n",
       "      <td>41316.022642</td>\n",
       "      <td>37883.233422</td>\n",
       "      <td>14089.659789</td>\n",
       "      <td>34830.225272</td>\n",
       "      <td>27724.418767</td>\n",
       "      <td>38432.448211</td>\n",
       "      <td>41282.995471</td>\n",
       "      <td>33242.245427</td>\n",
       "      <td>22807.728472</td>\n",
       "      <td>40083.701943</td>\n",
       "      <td>...</td>\n",
       "      <td>19462.435513</td>\n",
       "      <td>26193.230358</td>\n",
       "      <td>46419.042594</td>\n",
       "      <td>34929.958400</td>\n",
       "      <td>18315.131090</td>\n",
       "      <td>26665.771577</td>\n",
       "      <td>16782.151849</td>\n",
       "      <td>23608.977522</td>\n",
       "      <td>29594.660350</td>\n",
       "      <td>41971.781211</td>\n",
       "    </tr>\n",
       "    <tr>\n",
       "      <th>2009</th>\n",
       "      <td>40935.528801</td>\n",
       "      <td>37757.239173</td>\n",
       "      <td>13914.467312</td>\n",
       "      <td>33891.829308</td>\n",
       "      <td>27474.197993</td>\n",
       "      <td>37472.754357</td>\n",
       "      <td>40340.373142</td>\n",
       "      <td>32095.778361</td>\n",
       "      <td>20579.678682</td>\n",
       "      <td>37979.854491</td>\n",
       "      <td>...</td>\n",
       "      <td>16921.577956</td>\n",
       "      <td>26141.314851</td>\n",
       "      <td>44567.119952</td>\n",
       "      <td>33982.940292</td>\n",
       "      <td>19080.704660</td>\n",
       "      <td>26464.441285</td>\n",
       "      <td>16635.328127</td>\n",
       "      <td>22951.723337</td>\n",
       "      <td>27516.532192</td>\n",
       "      <td>40156.476371</td>\n",
       "    </tr>\n",
       "    <tr>\n",
       "      <th>2010</th>\n",
       "      <td>42017.796539</td>\n",
       "      <td>39836.849331</td>\n",
       "      <td>14587.638194</td>\n",
       "      <td>33420.855508</td>\n",
       "      <td>27554.742856</td>\n",
       "      <td>39673.860480</td>\n",
       "      <td>43004.912769</td>\n",
       "      <td>31689.975609</td>\n",
       "      <td>21766.793095</td>\n",
       "      <td>38953.010667</td>\n",
       "      <td>...</td>\n",
       "      <td>17589.444565</td>\n",
       "      <td>27811.504613</td>\n",
       "      <td>45041.369847</td>\n",
       "      <td>35286.421485</td>\n",
       "      <td>20789.191989</td>\n",
       "      <td>27259.769598</td>\n",
       "      <td>16966.414345</td>\n",
       "      <td>24974.227631</td>\n",
       "      <td>27821.436958</td>\n",
       "      <td>42179.452526</td>\n",
       "    </tr>\n",
       "    <tr>\n",
       "      <th>2011</th>\n",
       "      <td>44469.209642</td>\n",
       "      <td>41108.701911</td>\n",
       "      <td>15661.177049</td>\n",
       "      <td>33313.512960</td>\n",
       "      <td>28795.816027</td>\n",
       "      <td>42541.513126</td>\n",
       "      <td>44407.942070</td>\n",
       "      <td>31872.363088</td>\n",
       "      <td>24738.851279</td>\n",
       "      <td>40916.647325</td>\n",
       "      <td>...</td>\n",
       "      <td>19797.965061</td>\n",
       "      <td>28585.575738</td>\n",
       "      <td>46599.227659</td>\n",
       "      <td>36689.581710</td>\n",
       "      <td>22576.179383</td>\n",
       "      <td>26769.427690</td>\n",
       "      <td>17907.570971</td>\n",
       "      <td>26051.137711</td>\n",
       "      <td>28931.421879</td>\n",
       "      <td>44503.736723</td>\n",
       "    </tr>\n",
       "    <tr>\n",
       "      <th>2012</th>\n",
       "      <td>46477.655075</td>\n",
       "      <td>42440.262340</td>\n",
       "      <td>16241.600465</td>\n",
       "      <td>31834.648622</td>\n",
       "      <td>29051.390424</td>\n",
       "      <td>43359.541048</td>\n",
       "      <td>44808.549212</td>\n",
       "      <td>31724.631513</td>\n",
       "      <td>26141.083529</td>\n",
       "      <td>40872.854802</td>\n",
       "      <td>...</td>\n",
       "      <td>21298.207498</td>\n",
       "      <td>29434.899196</td>\n",
       "      <td>47271.968226</td>\n",
       "      <td>37668.444646</td>\n",
       "      <td>23542.002955</td>\n",
       "      <td>26438.140472</td>\n",
       "      <td>18929.530639</td>\n",
       "      <td>26940.079741</td>\n",
       "      <td>29048.331295</td>\n",
       "      <td>45304.291021</td>\n",
       "    </tr>\n",
       "    <tr>\n",
       "      <th>2013</th>\n",
       "      <td>47936.677963</td>\n",
       "      <td>43806.183952</td>\n",
       "      <td>16581.738181</td>\n",
       "      <td>30375.135687</td>\n",
       "      <td>30496.020039</td>\n",
       "      <td>44993.667838</td>\n",
       "      <td>46742.939663</td>\n",
       "      <td>32452.659676</td>\n",
       "      <td>27596.458609</td>\n",
       "      <td>41492.918416</td>\n",
       "      <td>...</td>\n",
       "      <td>22690.891022</td>\n",
       "      <td>31072.386018</td>\n",
       "      <td>49242.786711</td>\n",
       "      <td>39028.618277</td>\n",
       "      <td>24422.763907</td>\n",
       "      <td>27936.006299</td>\n",
       "      <td>19792.281449</td>\n",
       "      <td>27969.200116</td>\n",
       "      <td>29979.622480</td>\n",
       "      <td>46138.356247</td>\n",
       "    </tr>\n",
       "    <tr>\n",
       "      <th>2014</th>\n",
       "      <td>48813.534409</td>\n",
       "      <td>45047.283733</td>\n",
       "      <td>17555.491920</td>\n",
       "      <td>30042.757464</td>\n",
       "      <td>32265.045158</td>\n",
       "      <td>47011.280402</td>\n",
       "      <td>47905.477079</td>\n",
       "      <td>33544.352014</td>\n",
       "      <td>29107.891120</td>\n",
       "      <td>41749.864733</td>\n",
       "      <td>...</td>\n",
       "      <td>23838.653425</td>\n",
       "      <td>33366.322340</td>\n",
       "      <td>49233.230349</td>\n",
       "      <td>40189.709957</td>\n",
       "      <td>25297.950445</td>\n",
       "      <td>28742.313125</td>\n",
       "      <td>20615.540114</td>\n",
       "      <td>28992.074628</td>\n",
       "      <td>30872.723265</td>\n",
       "      <td>47045.696469</td>\n",
       "    </tr>\n",
       "    <tr>\n",
       "      <th>2015</th>\n",
       "      <td>49955.456118</td>\n",
       "      <td>46360.062536</td>\n",
       "      <td>18342.011724</td>\n",
       "      <td>31722.233659</td>\n",
       "      <td>33701.384000</td>\n",
       "      <td>47683.547301</td>\n",
       "      <td>49071.304706</td>\n",
       "      <td>34938.581464</td>\n",
       "      <td>29444.318328</td>\n",
       "      <td>42527.950728</td>\n",
       "      <td>...</td>\n",
       "      <td>24833.581204</td>\n",
       "      <td>36171.793230</td>\n",
       "      <td>50301.845624</td>\n",
       "      <td>41368.539078</td>\n",
       "      <td>26529.036797</td>\n",
       "      <td>29668.804155</td>\n",
       "      <td>21627.160758</td>\n",
       "      <td>29932.196336</td>\n",
       "      <td>31640.325490</td>\n",
       "      <td>48974.933430</td>\n",
       "    </tr>\n",
       "    <tr>\n",
       "      <th>2016</th>\n",
       "      <td>51790.942027</td>\n",
       "      <td>48009.777277</td>\n",
       "      <td>19699.642204</td>\n",
       "      <td>34379.575534</td>\n",
       "      <td>35234.017075</td>\n",
       "      <td>49515.862019</td>\n",
       "      <td>50868.657145</td>\n",
       "      <td>36581.478491</td>\n",
       "      <td>30910.607493</td>\n",
       "      <td>44015.559826</td>\n",
       "      <td>...</td>\n",
       "      <td>25878.635673</td>\n",
       "      <td>38321.425212</td>\n",
       "      <td>51339.511031</td>\n",
       "      <td>42477.024107</td>\n",
       "      <td>27406.094967</td>\n",
       "      <td>31043.431449</td>\n",
       "      <td>23863.058219</td>\n",
       "      <td>30824.561057</td>\n",
       "      <td>33198.254511</td>\n",
       "      <td>49423.140100</td>\n",
       "    </tr>\n",
       "    <tr>\n",
       "      <th>2017</th>\n",
       "      <td>53952.333840</td>\n",
       "      <td>50336.152395</td>\n",
       "      <td>21210.586190</td>\n",
       "      <td>36875.176388</td>\n",
       "      <td>38037.214886</td>\n",
       "      <td>52055.309073</td>\n",
       "      <td>54263.537389</td>\n",
       "      <td>38939.213628</td>\n",
       "      <td>33721.128605</td>\n",
       "      <td>46735.525585</td>\n",
       "      <td>...</td>\n",
       "      <td>28131.141002</td>\n",
       "      <td>41466.381246</td>\n",
       "      <td>54504.011325</td>\n",
       "      <td>44325.468623</td>\n",
       "      <td>29583.190056</td>\n",
       "      <td>32777.379384</td>\n",
       "      <td>26626.217154</td>\n",
       "      <td>32248.832146</td>\n",
       "      <td>36152.761010</td>\n",
       "      <td>51878.682906</td>\n",
       "    </tr>\n",
       "    <tr>\n",
       "      <th>2018</th>\n",
       "      <td>55513.222069</td>\n",
       "      <td>51490.800223</td>\n",
       "      <td>22317.959295</td>\n",
       "      <td>38513.410770</td>\n",
       "      <td>39740.849024</td>\n",
       "      <td>53088.605595</td>\n",
       "      <td>55704.272034</td>\n",
       "      <td>39711.034588</td>\n",
       "      <td>36022.427422</td>\n",
       "      <td>48433.151215</td>\n",
       "      <td>...</td>\n",
       "      <td>30309.508037</td>\n",
       "      <td>42710.098443</td>\n",
       "      <td>56325.699457</td>\n",
       "      <td>45766.028363</td>\n",
       "      <td>30982.188526</td>\n",
       "      <td>33408.807326</td>\n",
       "      <td>28209.087660</td>\n",
       "      <td>33742.625728</td>\n",
       "      <td>37964.634599</td>\n",
       "      <td>53250.517330</td>\n",
       "    </tr>\n",
       "  </tbody>\n",
       "</table>\n",
       "<p>15 rows × 29 columns</p>\n",
       "</div>"
      ],
      "text/plain": [
       "LOCATION           AUT           BEL           BGR           CYP  \\\n",
       "TIME                                                               \n",
       "2004      33753.472389  32033.983077   9117.098653  25921.013055   \n",
       "2005      35024.557484  33177.947339  10183.806414  27763.105975   \n",
       "2006      37626.245494  35222.474358  11251.243922  29984.329856   \n",
       "2007      39393.953567  36755.650522  12607.887169  32850.086448   \n",
       "2008      41316.022642  37883.233422  14089.659789  34830.225272   \n",
       "2009      40935.528801  37757.239173  13914.467312  33891.829308   \n",
       "2010      42017.796539  39836.849331  14587.638194  33420.855508   \n",
       "2011      44469.209642  41108.701911  15661.177049  33313.512960   \n",
       "2012      46477.655075  42440.262340  16241.600465  31834.648622   \n",
       "2013      47936.677963  43806.183952  16581.738181  30375.135687   \n",
       "2014      48813.534409  45047.283733  17555.491920  30042.757464   \n",
       "2015      49955.456118  46360.062536  18342.011724  31722.233659   \n",
       "2016      51790.942027  48009.777277  19699.642204  34379.575534   \n",
       "2017      53952.333840  50336.152395  21210.586190  36875.176388   \n",
       "2018      55513.222069  51490.800223  22317.959295  38513.410770   \n",
       "\n",
       "LOCATION           CZE           DEU           DNK           ESP  \\\n",
       "TIME                                                               \n",
       "2004      20779.142527  31712.774026  32917.958893  26158.034977   \n",
       "2005      21907.305595  32236.740986  34152.881663  27600.937175   \n",
       "2006      23712.242435  34630.816470  37297.523836  30713.803154   \n",
       "2007      26064.506576  36822.840138  38978.780753  32431.570501   \n",
       "2008      27724.418767  38432.448211  41282.995471  33242.245427   \n",
       "2009      27474.197993  37472.754357  40340.373142  32095.778361   \n",
       "2010      27554.742856  39673.860480  43004.912769  31689.975609   \n",
       "2011      28795.816027  42541.513126  44407.942070  31872.363088   \n",
       "2012      29051.390424  43359.541048  44808.549212  31724.631513   \n",
       "2013      30496.020039  44993.667838  46742.939663  32452.659676   \n",
       "2014      32265.045158  47011.280402  47905.477079  33544.352014   \n",
       "2015      33701.384000  47683.547301  49071.304706  34938.581464   \n",
       "2016      35234.017075  49515.862019  50868.657145  36581.478491   \n",
       "2017      38037.214886  52055.309073  54263.537389  38939.213628   \n",
       "2018      39740.849024  53088.605595  55704.272034  39711.034588   \n",
       "\n",
       "LOCATION           EST           FIN  ...           LVA           MLT  \\\n",
       "TIME                                  ...                               \n",
       "2004      14481.432753  31173.153761  ...  12199.780284  21341.856268   \n",
       "2005      16574.460822  32051.762889  ...  13837.089238  22265.719116   \n",
       "2006      19257.646402  34419.156888  ...  15742.904798  23227.410451   \n",
       "2007      22133.611223  37801.926033  ...  18121.545421  24892.495898   \n",
       "2008      22807.728472  40083.701943  ...  19462.435513  26193.230358   \n",
       "2009      20579.678682  37979.854491  ...  16921.577956  26141.314851   \n",
       "2010      21766.793095  38953.010667  ...  17589.444565  27811.504613   \n",
       "2011      24738.851279  40916.647325  ...  19797.965061  28585.575738   \n",
       "2012      26141.083529  40872.854802  ...  21298.207498  29434.899196   \n",
       "2013      27596.458609  41492.918416  ...  22690.891022  31072.386018   \n",
       "2014      29107.891120  41749.864733  ...  23838.653425  33366.322340   \n",
       "2015      29444.318328  42527.950728  ...  24833.581204  36171.793230   \n",
       "2016      30910.607493  44015.559826  ...  25878.635673  38321.425212   \n",
       "2017      33721.128605  46735.525585  ...  28131.141002  41466.381246   \n",
       "2018      36022.427422  48433.151215  ...  30309.508037  42710.098443   \n",
       "\n",
       "LOCATION           NLD          OECD           POL           PRT  \\\n",
       "TIME                                                               \n",
       "2004      35776.668812  29091.663707  13341.874444  21458.183025   \n",
       "2005      37625.252435  30478.990308  13897.543071  22725.351606   \n",
       "2006      40971.493263  32508.887051  15145.861194  24657.083629   \n",
       "2007      43895.900712  34066.083002  16789.980110  25708.159839   \n",
       "2008      46419.042594  34929.958400  18315.131090  26665.771577   \n",
       "2009      44567.119952  33982.940292  19080.704660  26464.441285   \n",
       "2010      45041.369847  35286.421485  20789.191989  27259.769598   \n",
       "2011      46599.227659  36689.581710  22576.179383  26769.427690   \n",
       "2012      47271.968226  37668.444646  23542.002955  26438.140472   \n",
       "2013      49242.786711  39028.618277  24422.763907  27936.006299   \n",
       "2014      49233.230349  40189.709957  25297.950445  28742.313125   \n",
       "2015      50301.845624  41368.539078  26529.036797  29668.804155   \n",
       "2016      51339.511031  42477.024107  27406.094967  31043.431449   \n",
       "2017      54504.011325  44325.468623  29583.190056  32777.379384   \n",
       "2018      56325.699457  45766.028363  30982.188526  33408.807326   \n",
       "\n",
       "LOCATION           ROU           SVK           SVN           SWE  \n",
       "TIME                                                              \n",
       "2004       8982.019325  15183.955756  22737.262303  33608.849355  \n",
       "2005       9602.103407  16595.261602  23848.605399  34029.085227  \n",
       "2006      11544.715086  18831.799020  25681.207419  37435.395276  \n",
       "2007      13686.942348  21115.656398  27533.363591  40592.764986  \n",
       "2008      16782.151849  23608.977522  29594.660350  41971.781211  \n",
       "2009      16635.328127  22951.723337  27516.532192  40156.476371  \n",
       "2010      16966.414345  24974.227631  27821.436958  42179.452526  \n",
       "2011      17907.570971  26051.137711  28931.421879  44503.736723  \n",
       "2012      18929.530639  26940.079741  29048.331295  45304.291021  \n",
       "2013      19792.281449  27969.200116  29979.622480  46138.356247  \n",
       "2014      20615.540114  28992.074628  30872.723265  47045.696469  \n",
       "2015      21627.160758  29932.196336  31640.325490  48974.933430  \n",
       "2016      23863.058219  30824.561057  33198.254511  49423.140100  \n",
       "2017      26626.217154  32248.832146  36152.761010  51878.682906  \n",
       "2018      28209.087660  33742.625728  37964.634599  53250.517330  \n",
       "\n",
       "[15 rows x 29 columns]"
      ]
     },
     "execution_count": 202,
     "metadata": {},
     "output_type": "execute_result"
    }
   ],
   "source": [
    "#select column name\n",
    "column = \"Value\"\n",
    "df_gdp = df_gdp[[\"LOCATION\",\"TIME\",column]].pivot_table(values=column, index='TIME', columns ='LOCATION')#values=column, index='TIME', columns='LOCATION')\n",
    "df_gdp"
   ]
  },
  {
   "cell_type": "code",
   "execution_count": 260,
   "metadata": {},
   "outputs": [],
   "source": [
    "def plotMapSlider(data,title,zMax,zMin,colorbarTitle,vWidth,vHeight):\n",
    "    data_slider = []\n",
    "    for ix in range(0,10):\n",
    "        data_one_year = dict(\n",
    "                            type='choropleth',\n",
    "                            locations=country_list_iso, # Spatial coordinates\n",
    "                            z = list(data[country_list_iso].iloc[ix].values),\n",
    "                            locationmode = 'ISO-3', # set of locations match entries in `locations`\n",
    "                            autocolorscale=False,\n",
    "                            colorscale = \"Magma\",\n",
    "                            reversescale=True,\n",
    "                            zmax = zMax,\n",
    "                            zmin = zMin,\n",
    "                            colorbar_title = colorbarTitle,\n",
    "                            )\n",
    "        ix = ix+1\n",
    "        data_slider.append(data_one_year) \n",
    "    steps = []\n",
    "\n",
    "    for i in range(len(data_slider)):\n",
    "        step = dict(method='restyle',args=['visible', [False] * len(data_slider)],label=str(2004+i))\n",
    "        step['args'][1][i] = True\n",
    "        steps.append(step)\n",
    "\n",
    "    #create 'sliders' object from the 'steps' \n",
    "    sliders = [dict(active=0, pad={\"t\": 1}, steps=steps)] \n",
    "\n",
    "    layout = dict(geo=dict(scope='europe', bgcolor='rgba(0,0,0,0)'),sliders=sliders,title={\n",
    "        'text': \"Evolution of the GDP over the years\",\n",
    "        'y':0.9,\n",
    "        'x':0.5,\n",
    "        'xanchor': 'center',\n",
    "        'yanchor': 'top'},autosize=False,dragmode = False, paper_bgcolor='rgba(0,0,0,0)',\n",
    "        plot_bgcolor='rgba(0,0,0,0)')\n",
    "    fig = dict(data=data_slider, layout=layout,) \n",
    "    #pio.show(fig)\n",
    "    l = pio.from_json(json.dumps(fig))\n",
    "    pio.write_html(fig, '../DataStoryMeatConsumption/graphs/economy/map_gdp')"
   ]
  },
  {
   "cell_type": "code",
   "execution_count": 261,
   "metadata": {},
   "outputs": [],
   "source": [
    "plotMapSlider(df_gdp, 'GDP over the years', 50000, 0, 'oij', 1300, 900)"
   ]
  },
  {
   "cell_type": "markdown",
   "metadata": {},
   "source": [
    "### PIB / CONSO VIANDE"
   ]
  },
  {
   "cell_type": "code",
   "execution_count": 7,
   "metadata": {},
   "outputs": [],
   "source": [
    "import plotly.express as px"
   ]
  },
  {
   "cell_type": "code",
   "execution_count": 8,
   "metadata": {},
   "outputs": [],
   "source": [
    "df_meat = pd.read_csv('meat_consumption_per_habita_2004_2013.csv',  index_col=0)\n",
    "#select column name\n",
    "column = \"consumption per habita\"\n",
    "df_meat = df_meat[[\"Area\",\"years\",column]].pivot_table(values=column, index='years', columns ='Area')#values=column, index='TIME', columns='LOCATION')\n",
    "df_meat.columns = country_list2"
   ]
  },
  {
   "cell_type": "code",
   "execution_count": null,
   "metadata": {},
   "outputs": [],
   "source": []
  },
  {
   "cell_type": "code",
   "execution_count": 9,
   "metadata": {},
   "outputs": [
    {
     "data": {
      "text/html": [
       "<div>\n",
       "<style scoped>\n",
       "    .dataframe tbody tr th:only-of-type {\n",
       "        vertical-align: middle;\n",
       "    }\n",
       "\n",
       "    .dataframe tbody tr th {\n",
       "        vertical-align: top;\n",
       "    }\n",
       "\n",
       "    .dataframe thead th {\n",
       "        text-align: right;\n",
       "    }\n",
       "</style>\n",
       "<table border=\"1\" class=\"dataframe\">\n",
       "  <thead>\n",
       "    <tr style=\"text-align: right;\">\n",
       "      <th></th>\n",
       "      <th>AUT</th>\n",
       "      <th>BEL</th>\n",
       "      <th>BGR</th>\n",
       "      <th>HRV</th>\n",
       "      <th>DNK</th>\n",
       "      <th>EST</th>\n",
       "      <th>FIN</th>\n",
       "      <th>FRA</th>\n",
       "      <th>DEU</th>\n",
       "      <th>GRC</th>\n",
       "      <th>...</th>\n",
       "      <th>MLT</th>\n",
       "      <th>NLD</th>\n",
       "      <th>POL</th>\n",
       "      <th>POR</th>\n",
       "      <th>ROU</th>\n",
       "      <th>SVK</th>\n",
       "      <th>SVN</th>\n",
       "      <th>ESP</th>\n",
       "      <th>SWE</th>\n",
       "      <th>GBR</th>\n",
       "    </tr>\n",
       "    <tr>\n",
       "      <th>years</th>\n",
       "      <th></th>\n",
       "      <th></th>\n",
       "      <th></th>\n",
       "      <th></th>\n",
       "      <th></th>\n",
       "      <th></th>\n",
       "      <th></th>\n",
       "      <th></th>\n",
       "      <th></th>\n",
       "      <th></th>\n",
       "      <th></th>\n",
       "      <th></th>\n",
       "      <th></th>\n",
       "      <th></th>\n",
       "      <th></th>\n",
       "      <th></th>\n",
       "      <th></th>\n",
       "      <th></th>\n",
       "      <th></th>\n",
       "      <th></th>\n",
       "      <th></th>\n",
       "    </tr>\n",
       "  </thead>\n",
       "  <tbody>\n",
       "    <tr>\n",
       "      <th>2004</th>\n",
       "      <td>96.161250</td>\n",
       "      <td>80.508475</td>\n",
       "      <td>50.483225</td>\n",
       "      <td>50.165768</td>\n",
       "      <td>73.550663</td>\n",
       "      <td>61.482159</td>\n",
       "      <td>72.225930</td>\n",
       "      <td>90.701505</td>\n",
       "      <td>84.403962</td>\n",
       "      <td>81.350090</td>\n",
       "      <td>...</td>\n",
       "      <td>100.033261</td>\n",
       "      <td>78.853332</td>\n",
       "      <td>77.715442</td>\n",
       "      <td>86.507751</td>\n",
       "      <td>55.991452</td>\n",
       "      <td>62.175684</td>\n",
       "      <td>90.160802</td>\n",
       "      <td>108.772674</td>\n",
       "      <td>77.765782</td>\n",
       "      <td>86.246459</td>\n",
       "    </tr>\n",
       "    <tr>\n",
       "      <th>2005</th>\n",
       "      <td>95.471982</td>\n",
       "      <td>83.573843</td>\n",
       "      <td>50.464501</td>\n",
       "      <td>50.337972</td>\n",
       "      <td>94.430190</td>\n",
       "      <td>66.232476</td>\n",
       "      <td>72.756980</td>\n",
       "      <td>87.665260</td>\n",
       "      <td>83.926409</td>\n",
       "      <td>84.595027</td>\n",
       "      <td>...</td>\n",
       "      <td>96.853984</td>\n",
       "      <td>77.029100</td>\n",
       "      <td>77.251866</td>\n",
       "      <td>87.472958</td>\n",
       "      <td>65.848690</td>\n",
       "      <td>66.074970</td>\n",
       "      <td>91.610391</td>\n",
       "      <td>108.277056</td>\n",
       "      <td>78.012365</td>\n",
       "      <td>85.357677</td>\n",
       "    </tr>\n",
       "    <tr>\n",
       "      <th>2006</th>\n",
       "      <td>92.315543</td>\n",
       "      <td>80.293914</td>\n",
       "      <td>47.710355</td>\n",
       "      <td>58.434959</td>\n",
       "      <td>80.700748</td>\n",
       "      <td>70.333901</td>\n",
       "      <td>71.923556</td>\n",
       "      <td>82.793456</td>\n",
       "      <td>84.342177</td>\n",
       "      <td>85.417924</td>\n",
       "      <td>...</td>\n",
       "      <td>98.765676</td>\n",
       "      <td>81.240537</td>\n",
       "      <td>77.600328</td>\n",
       "      <td>90.087622</td>\n",
       "      <td>65.154959</td>\n",
       "      <td>62.349616</td>\n",
       "      <td>87.353334</td>\n",
       "      <td>107.248423</td>\n",
       "      <td>77.919908</td>\n",
       "      <td>87.099448</td>\n",
       "    </tr>\n",
       "    <tr>\n",
       "      <th>2007</th>\n",
       "      <td>94.531150</td>\n",
       "      <td>83.801516</td>\n",
       "      <td>46.747034</td>\n",
       "      <td>63.521060</td>\n",
       "      <td>91.792232</td>\n",
       "      <td>74.464600</td>\n",
       "      <td>76.180297</td>\n",
       "      <td>83.400025</td>\n",
       "      <td>87.857720</td>\n",
       "      <td>80.554490</td>\n",
       "      <td>...</td>\n",
       "      <td>108.476983</td>\n",
       "      <td>74.703546</td>\n",
       "      <td>79.631786</td>\n",
       "      <td>97.032182</td>\n",
       "      <td>65.545056</td>\n",
       "      <td>60.299487</td>\n",
       "      <td>85.058673</td>\n",
       "      <td>110.439587</td>\n",
       "      <td>79.554434</td>\n",
       "      <td>86.044177</td>\n",
       "    </tr>\n",
       "    <tr>\n",
       "      <th>2008</th>\n",
       "      <td>90.274554</td>\n",
       "      <td>69.373704</td>\n",
       "      <td>51.343429</td>\n",
       "      <td>63.080260</td>\n",
       "      <td>79.623200</td>\n",
       "      <td>70.231015</td>\n",
       "      <td>75.653469</td>\n",
       "      <td>90.958527</td>\n",
       "      <td>87.328982</td>\n",
       "      <td>80.644162</td>\n",
       "      <td>...</td>\n",
       "      <td>100.531591</td>\n",
       "      <td>89.726559</td>\n",
       "      <td>76.792622</td>\n",
       "      <td>95.704307</td>\n",
       "      <td>67.262857</td>\n",
       "      <td>61.383198</td>\n",
       "      <td>89.540256</td>\n",
       "      <td>101.513197</td>\n",
       "      <td>80.475430</td>\n",
       "      <td>82.229407</td>\n",
       "    </tr>\n",
       "    <tr>\n",
       "      <th>2009</th>\n",
       "      <td>93.101346</td>\n",
       "      <td>67.701533</td>\n",
       "      <td>55.576990</td>\n",
       "      <td>67.752627</td>\n",
       "      <td>67.677278</td>\n",
       "      <td>75.613518</td>\n",
       "      <td>74.347851</td>\n",
       "      <td>90.131774</td>\n",
       "      <td>87.948693</td>\n",
       "      <td>82.651742</td>\n",
       "      <td>...</td>\n",
       "      <td>99.774655</td>\n",
       "      <td>89.774301</td>\n",
       "      <td>78.718527</td>\n",
       "      <td>96.563348</td>\n",
       "      <td>71.525404</td>\n",
       "      <td>61.310928</td>\n",
       "      <td>88.074861</td>\n",
       "      <td>97.363122</td>\n",
       "      <td>79.404975</td>\n",
       "      <td>81.412141</td>\n",
       "    </tr>\n",
       "    <tr>\n",
       "      <th>2010</th>\n",
       "      <td>94.352692</td>\n",
       "      <td>69.926812</td>\n",
       "      <td>52.817618</td>\n",
       "      <td>61.587131</td>\n",
       "      <td>78.052475</td>\n",
       "      <td>76.502486</td>\n",
       "      <td>76.054480</td>\n",
       "      <td>90.010872</td>\n",
       "      <td>89.667453</td>\n",
       "      <td>83.188772</td>\n",
       "      <td>...</td>\n",
       "      <td>96.612057</td>\n",
       "      <td>81.206690</td>\n",
       "      <td>78.557986</td>\n",
       "      <td>96.373199</td>\n",
       "      <td>63.464899</td>\n",
       "      <td>59.364687</td>\n",
       "      <td>86.469016</td>\n",
       "      <td>95.984610</td>\n",
       "      <td>81.578626</td>\n",
       "      <td>82.674511</td>\n",
       "    </tr>\n",
       "    <tr>\n",
       "      <th>2011</th>\n",
       "      <td>93.729508</td>\n",
       "      <td>67.177922</td>\n",
       "      <td>56.449406</td>\n",
       "      <td>61.074297</td>\n",
       "      <td>75.890709</td>\n",
       "      <td>79.719628</td>\n",
       "      <td>75.717042</td>\n",
       "      <td>88.705963</td>\n",
       "      <td>91.994640</td>\n",
       "      <td>81.180273</td>\n",
       "      <td>...</td>\n",
       "      <td>98.797799</td>\n",
       "      <td>77.150307</td>\n",
       "      <td>79.815635</td>\n",
       "      <td>93.258869</td>\n",
       "      <td>58.963143</td>\n",
       "      <td>61.753052</td>\n",
       "      <td>82.919185</td>\n",
       "      <td>95.420391</td>\n",
       "      <td>82.841506</td>\n",
       "      <td>83.620887</td>\n",
       "    </tr>\n",
       "    <tr>\n",
       "      <th>2012</th>\n",
       "      <td>89.556275</td>\n",
       "      <td>72.680396</td>\n",
       "      <td>56.228662</td>\n",
       "      <td>69.223832</td>\n",
       "      <td>111.100837</td>\n",
       "      <td>63.385845</td>\n",
       "      <td>79.610951</td>\n",
       "      <td>88.959381</td>\n",
       "      <td>90.180373</td>\n",
       "      <td>78.294084</td>\n",
       "      <td>...</td>\n",
       "      <td>95.797828</td>\n",
       "      <td>91.570122</td>\n",
       "      <td>77.265029</td>\n",
       "      <td>91.535152</td>\n",
       "      <td>58.618642</td>\n",
       "      <td>51.625347</td>\n",
       "      <td>79.299595</td>\n",
       "      <td>95.838759</td>\n",
       "      <td>80.882814</td>\n",
       "      <td>83.675764</td>\n",
       "    </tr>\n",
       "    <tr>\n",
       "      <th>2013</th>\n",
       "      <td>92.760647</td>\n",
       "      <td>70.389821</td>\n",
       "      <td>53.400676</td>\n",
       "      <td>66.867818</td>\n",
       "      <td>109.412940</td>\n",
       "      <td>60.598073</td>\n",
       "      <td>78.685397</td>\n",
       "      <td>86.234296</td>\n",
       "      <td>89.613317</td>\n",
       "      <td>80.609872</td>\n",
       "      <td>...</td>\n",
       "      <td>97.039353</td>\n",
       "      <td>91.301478</td>\n",
       "      <td>77.976940</td>\n",
       "      <td>92.111508</td>\n",
       "      <td>54.195604</td>\n",
       "      <td>54.889854</td>\n",
       "      <td>72.371517</td>\n",
       "      <td>94.761394</td>\n",
       "      <td>83.508679</td>\n",
       "      <td>82.230997</td>\n",
       "    </tr>\n",
       "  </tbody>\n",
       "</table>\n",
       "<p>10 rows × 26 columns</p>\n",
       "</div>"
      ],
      "text/plain": [
       "             AUT        BEL        BGR        HRV         DNK        EST  \\\n",
       "years                                                                      \n",
       "2004   96.161250  80.508475  50.483225  50.165768   73.550663  61.482159   \n",
       "2005   95.471982  83.573843  50.464501  50.337972   94.430190  66.232476   \n",
       "2006   92.315543  80.293914  47.710355  58.434959   80.700748  70.333901   \n",
       "2007   94.531150  83.801516  46.747034  63.521060   91.792232  74.464600   \n",
       "2008   90.274554  69.373704  51.343429  63.080260   79.623200  70.231015   \n",
       "2009   93.101346  67.701533  55.576990  67.752627   67.677278  75.613518   \n",
       "2010   94.352692  69.926812  52.817618  61.587131   78.052475  76.502486   \n",
       "2011   93.729508  67.177922  56.449406  61.074297   75.890709  79.719628   \n",
       "2012   89.556275  72.680396  56.228662  69.223832  111.100837  63.385845   \n",
       "2013   92.760647  70.389821  53.400676  66.867818  109.412940  60.598073   \n",
       "\n",
       "             FIN        FRA        DEU        GRC  ...         MLT        NLD  \\\n",
       "years                                              ...                          \n",
       "2004   72.225930  90.701505  84.403962  81.350090  ...  100.033261  78.853332   \n",
       "2005   72.756980  87.665260  83.926409  84.595027  ...   96.853984  77.029100   \n",
       "2006   71.923556  82.793456  84.342177  85.417924  ...   98.765676  81.240537   \n",
       "2007   76.180297  83.400025  87.857720  80.554490  ...  108.476983  74.703546   \n",
       "2008   75.653469  90.958527  87.328982  80.644162  ...  100.531591  89.726559   \n",
       "2009   74.347851  90.131774  87.948693  82.651742  ...   99.774655  89.774301   \n",
       "2010   76.054480  90.010872  89.667453  83.188772  ...   96.612057  81.206690   \n",
       "2011   75.717042  88.705963  91.994640  81.180273  ...   98.797799  77.150307   \n",
       "2012   79.610951  88.959381  90.180373  78.294084  ...   95.797828  91.570122   \n",
       "2013   78.685397  86.234296  89.613317  80.609872  ...   97.039353  91.301478   \n",
       "\n",
       "             POL        POR        ROU        SVK        SVN         ESP  \\\n",
       "years                                                                      \n",
       "2004   77.715442  86.507751  55.991452  62.175684  90.160802  108.772674   \n",
       "2005   77.251866  87.472958  65.848690  66.074970  91.610391  108.277056   \n",
       "2006   77.600328  90.087622  65.154959  62.349616  87.353334  107.248423   \n",
       "2007   79.631786  97.032182  65.545056  60.299487  85.058673  110.439587   \n",
       "2008   76.792622  95.704307  67.262857  61.383198  89.540256  101.513197   \n",
       "2009   78.718527  96.563348  71.525404  61.310928  88.074861   97.363122   \n",
       "2010   78.557986  96.373199  63.464899  59.364687  86.469016   95.984610   \n",
       "2011   79.815635  93.258869  58.963143  61.753052  82.919185   95.420391   \n",
       "2012   77.265029  91.535152  58.618642  51.625347  79.299595   95.838759   \n",
       "2013   77.976940  92.111508  54.195604  54.889854  72.371517   94.761394   \n",
       "\n",
       "             SWE        GBR  \n",
       "years                        \n",
       "2004   77.765782  86.246459  \n",
       "2005   78.012365  85.357677  \n",
       "2006   77.919908  87.099448  \n",
       "2007   79.554434  86.044177  \n",
       "2008   80.475430  82.229407  \n",
       "2009   79.404975  81.412141  \n",
       "2010   81.578626  82.674511  \n",
       "2011   82.841506  83.620887  \n",
       "2012   80.882814  83.675764  \n",
       "2013   83.508679  82.230997  \n",
       "\n",
       "[10 rows x 26 columns]"
      ]
     },
     "execution_count": 9,
     "metadata": {},
     "output_type": "execute_result"
    }
   ],
   "source": [
    "df_meat"
   ]
  },
  {
   "cell_type": "code",
   "execution_count": 10,
   "metadata": {},
   "outputs": [
    {
     "data": {
      "text/plain": [
       "Index(['AUT', 'BEL', 'BGR', 'CYP', 'CZE', 'DEU', 'DNK', 'ESP', 'EST', 'FIN',\n",
       "       'FRA', 'GBR', 'GRC', 'HRV', 'HUN', 'IRL', 'ITA', 'LTU', 'LUX', 'LVA',\n",
       "       'MLT', 'NLD', 'OECD', 'POL', 'PRT', 'ROU', 'SVK', 'SVN', 'SWE'],\n",
       "      dtype='object', name='LOCATION')"
      ]
     },
     "execution_count": 10,
     "metadata": {},
     "output_type": "execute_result"
    }
   ],
   "source": [
    "df_gdp.columns"
   ]
  },
  {
   "cell_type": "code",
   "execution_count": 11,
   "metadata": {},
   "outputs": [
    {
     "name": "stdout",
     "output_type": "stream",
     "text": [
      "['AUT', 'BEL', 'BGR', 'HRV', 'DNK', 'EST', 'FIN', 'FRA', 'DEU', 'GRC', 'HUN', 'IRL', 'ITA', 'LVA', 'LTU', 'LUX', 'MLT', 'NLD', 'POL', 'ROU', 'SVK', 'SVN', 'ESP', 'SWE', 'GBR']\n"
     ]
    }
   ],
   "source": [
    "def intersection(lst1, lst2): \n",
    "    lst3 = [value for value in lst1 if value in lst2] \n",
    "    return lst3 \n",
    "\n",
    "countries_both = intersection(df_meat.columns, df_gdp.columns)\n",
    "print(countries_both)"
   ]
  },
  {
   "cell_type": "code",
   "execution_count": 12,
   "metadata": {},
   "outputs": [],
   "source": [
    "df_meat = df_meat[countries_both].reindex(sorted(df_meat[countries_both].columns), axis=1)\n",
    "df_gdp = df_gdp[countries_both].reindex(sorted(df_gdp[countries_both].columns), axis=1)"
   ]
  },
  {
   "cell_type": "code",
   "execution_count": null,
   "metadata": {},
   "outputs": [],
   "source": [
    "fig = go.Figure(data=go.Scatter(y=df_meat[countries_both].iloc[0], x=df_gdp[countries_both].iloc[0], mode='markers', \n",
    "        marker=dict(\n",
    "        size=16#[str(i) for i in range(df_gdp.iloc[0].size)]\n",
    "    ), text=countries_both))\n",
    "\n",
    "fig.add_trace(go.Scatter(x = t[:,0],\n",
    "y = yt[:,0]))\n",
    "fig.show()"
   ]
  },
  {
   "cell_type": "code",
   "execution_count": 15,
   "metadata": {},
   "outputs": [],
   "source": [
    "color=[f'rgb({np.random.randint(0,256)}, {np.random.randint(0,256)}, {np.random.randint(0,256)})' for _ in range(25)]"
   ]
  },
  {
   "cell_type": "code",
   "execution_count": 28,
   "metadata": {},
   "outputs": [
    {
     "name": "stdout",
     "output_type": "stream",
     "text": [
      "(25, 2)\n"
     ]
    }
   ],
   "source": []
  },
  {
   "cell_type": "code",
   "execution_count": 34,
   "metadata": {},
   "outputs": [
    {
     "name": "stdout",
     "output_type": "stream",
     "text": [
      "[[31672.23759231    86.30860136]\n",
      " [14652.38383236    69.69659388]\n",
      " [63993.308202     103.30578512]]\n"
     ]
    }
   ],
   "source": [
    "data_kmean = []\n",
    "for c in countries_both:\n",
    "    data_kmean.append([df_gdp[c].iloc[0], df_meat[c].iloc[0]])\n",
    "data_kmean = np.array(data_kmean)\n",
    "k_means = KMeans(n_clusters=3, random_state=0).fit(data_kmean)\n",
    "groups = k_means.predict(data_kmean)\n",
    "#print(k_means.cluster_centers_)"
   ]
  },
  {
   "cell_type": "code",
   "execution_count": null,
   "metadata": {},
   "outputs": [],
   "source": [
    "#FF4464 #2B2B2B #F2F2F2 "
   ]
  },
  {
   "cell_type": "code",
   "execution_count": 169,
   "metadata": {},
   "outputs": [
    {
     "data": {
      "application/vnd.plotly.v1+json": {
       "config": {
        "plotlyServerURL": "https://plot.ly"
       },
       "data": [
        {
         "marker": {
          "color": "#2B2B2B",
          "line": {
           "color": "purple",
           "width": 2
          },
          "size": 16
         },
         "mode": "markers",
         "name": "AUT",
         "text": "AUT",
         "type": "scatter",
         "visible": false,
         "x": [
          33753.472388999995
         ],
         "y": [
          96.16125025836428
         ]
        },
        {
         "marker": {
          "color": "#2B2B2B",
          "line": {
           "color": "purple",
           "width": 2
          },
          "size": 16
         },
         "mode": "markers",
         "name": "BEL",
         "text": "BEL",
         "type": "scatter",
         "visible": false,
         "x": [
          32033.983076999997
         ],
         "y": [
          80.508474983843
         ]
        },
        {
         "marker": {
          "color": "#FF4464",
          "line": {
           "color": "purple",
           "width": 2
          },
          "size": 16
         },
         "mode": "markers",
         "name": "BGR",
         "text": "BGR",
         "type": "scatter",
         "visible": false,
         "x": [
          9117.098653000001
         ],
         "y": [
          50.483225173131
         ]
        },
        {
         "marker": {
          "color": "#FF4464",
          "line": {
           "color": "purple",
           "width": 2
          },
          "size": 16
         },
         "mode": "markers",
         "name": "HRV",
         "text": "HRV",
         "type": "scatter",
         "visible": false,
         "x": [
          14530.588793
         ],
         "y": [
          50.16576766978847
         ]
        },
        {
         "marker": {
          "color": "#2B2B2B",
          "line": {
           "color": "purple",
           "width": 2
          },
          "size": 16
         },
         "mode": "markers",
         "name": "DNK",
         "text": "DNK",
         "type": "scatter",
         "visible": false,
         "x": [
          32917.958893
         ],
         "y": [
          73.5506628822967
         ]
        },
        {
         "marker": {
          "color": "#FF4464",
          "line": {
           "color": "purple",
           "width": 2
          },
          "size": 16
         },
         "mode": "markers",
         "name": "EST",
         "text": "EST",
         "type": "scatter",
         "visible": false,
         "x": [
          14481.432753000001
         ],
         "y": [
          61.48215919487649
         ]
        },
        {
         "marker": {
          "color": "#2B2B2B",
          "line": {
           "color": "purple",
           "width": 2
          },
          "size": 16
         },
         "mode": "markers",
         "name": "FIN",
         "text": "FIN",
         "type": "scatter",
         "visible": false,
         "x": [
          31173.153761
         ],
         "y": [
          72.2259303734368
         ]
        },
        {
         "marker": {
          "color": "#2B2B2B",
          "line": {
           "color": "purple",
           "width": 2
          },
          "size": 16
         },
         "mode": "markers",
         "name": "FRA",
         "text": "FRA",
         "type": "scatter",
         "visible": false,
         "x": [
          29038.567562
         ],
         "y": [
          90.70150486318191
         ]
        },
        {
         "marker": {
          "color": "#2B2B2B",
          "line": {
           "color": "purple",
           "width": 2
          },
          "size": 16
         },
         "mode": "markers",
         "name": "DEU",
         "text": "DEU",
         "type": "scatter",
         "visible": false,
         "x": [
          31712.774026
         ],
         "y": [
          84.40396172276702
         ]
        },
        {
         "marker": {
          "color": "#2B2B2B",
          "line": {
           "color": "purple",
           "width": 2
          },
          "size": 16
         },
         "mode": "markers",
         "name": "GRC",
         "text": "GRC",
         "type": "scatter",
         "visible": false,
         "x": [
          25437.218509000002
         ],
         "y": [
          81.35008974560182
         ]
        },
        {
         "marker": {
          "color": "#FF4464",
          "line": {
           "color": "purple",
           "width": 2
          },
          "size": 16
         },
         "mode": "markers",
         "name": "HUN",
         "text": "HUN",
         "type": "scatter",
         "visible": false,
         "x": [
          16228.920601
         ],
         "y": [
          89.55452259235236
         ]
        },
        {
         "marker": {
          "color": "#2B2B2B",
          "line": {
           "color": "purple",
           "width": 2
          },
          "size": 16
         },
         "mode": "markers",
         "name": "IRL",
         "text": "IRL",
         "type": "scatter",
         "visible": false,
         "x": [
          38697.209778
         ],
         "y": [
          104.24808462760227
         ]
        },
        {
         "marker": {
          "color": "#2B2B2B",
          "line": {
           "color": "purple",
           "width": 2
          },
          "size": 16
         },
         "mode": "markers",
         "name": "ITA",
         "text": "ITA",
         "type": "scatter",
         "visible": false,
         "x": [
          29446.371235000002
         ],
         "y": [
          87.22361072702576
         ]
        },
        {
         "marker": {
          "color": "#FF4464",
          "line": {
           "color": "purple",
           "width": 2
          },
          "size": 16
         },
         "mode": "markers",
         "name": "LVA",
         "text": "LVA",
         "type": "scatter",
         "visible": false,
         "x": [
          12199.780284
         ],
         "y": [
          55.34763586526804
         ]
        },
        {
         "marker": {
          "color": "#FF4464",
          "line": {
           "color": "purple",
           "width": 2
          },
          "size": 16
         },
         "mode": "markers",
         "name": "LTU",
         "text": "LTU",
         "type": "scatter",
         "visible": false,
         "x": [
          13031.432976
         ],
         "y": [
          73.5525808276666
         ]
        },
        {
         "marker": {
          "color": "#F2F2F2",
          "line": {
           "color": "purple",
           "width": 2
          },
          "size": 16
         },
         "mode": "markers",
         "name": "LUX",
         "text": "LUX",
         "type": "scatter",
         "visible": false,
         "x": [
          63993.308202
         ],
         "y": [
          103.30578512396694
         ]
        },
        {
         "marker": {
          "color": "#FF4464",
          "line": {
           "color": "purple",
           "width": 2
          },
          "size": 16
         },
         "mode": "markers",
         "name": "MLT",
         "text": "MLT",
         "type": "scatter",
         "visible": false,
         "x": [
          21341.856268
         ],
         "y": [
          100.03326105930222
         ]
        },
        {
         "marker": {
          "color": "#2B2B2B",
          "line": {
           "color": "purple",
           "width": 2
          },
          "size": 16
         },
         "mode": "markers",
         "name": "NLD",
         "text": "NLD",
         "type": "scatter",
         "visible": false,
         "x": [
          35776.668812
         ],
         "y": [
          78.85333230983922
         ]
        },
        {
         "marker": {
          "color": "#FF4464",
          "line": {
           "color": "purple",
           "width": 2
          },
          "size": 16
         },
         "mode": "markers",
         "name": "POL",
         "text": "POL",
         "type": "scatter",
         "visible": false,
         "x": [
          13341.874444
         ],
         "y": [
          77.71544249832314
         ]
        },
        {
         "marker": {
          "color": "#FF4464",
          "line": {
           "color": "purple",
           "width": 2
          },
          "size": 16
         },
         "mode": "markers",
         "name": "ROU",
         "text": "ROU",
         "type": "scatter",
         "visible": false,
         "x": [
          8982.019325
         ],
         "y": [
          55.991452498199216
         ]
        },
        {
         "marker": {
          "color": "#FF4464",
          "line": {
           "color": "purple",
           "width": 2
          },
          "size": 16
         },
         "mode": "markers",
         "name": "SVK",
         "text": "SVK",
         "type": "scatter",
         "visible": false,
         "x": [
          15183.955756
         ],
         "y": [
          62.1756835369401
         ]
        },
        {
         "marker": {
          "color": "#FF4464",
          "line": {
           "color": "purple",
           "width": 2
          },
          "size": 16
         },
         "mode": "markers",
         "name": "SVN",
         "text": "SVN",
         "type": "scatter",
         "visible": false,
         "x": [
          22737.262303
         ],
         "y": [
          90.16080178999245
         ]
        },
        {
         "marker": {
          "color": "#2B2B2B",
          "line": {
           "color": "purple",
           "width": 2
          },
          "size": 16
         },
         "mode": "markers",
         "name": "ESP",
         "text": "ESP",
         "type": "scatter",
         "visible": false,
         "x": [
          26158.034977
         ],
         "y": [
          108.77267359682722
         ]
        },
        {
         "marker": {
          "color": "#2B2B2B",
          "line": {
           "color": "purple",
           "width": 2
          },
          "size": 16
         },
         "mode": "markers",
         "name": "SWE",
         "text": "SWE",
         "type": "scatter",
         "visible": false,
         "x": [
          33608.849355
         ],
         "y": [
          77.7657823872758
         ]
        },
        {
         "marker": {
          "color": "#2B2B2B",
          "line": {
           "color": "purple",
           "width": 2
          },
          "size": 16
         },
         "mode": "markers",
         "name": "GBR",
         "text": "GBR",
         "type": "scatter",
         "visible": false,
         "x": [
          31984.826326
         ],
         "y": [
          86.2464592667606
         ]
        },
        {
         "marker": {
          "color": "#16a085",
          "line": {
           "color": "black",
           "width": 1
          },
          "size": 10,
          "symbol": "square"
         },
         "mode": "markers",
         "name": "K means centroïds",
         "opacity": 1,
         "type": "scatter",
         "visible": false,
         "x": [
          14652.383832363637,
          31672.23759230769,
          63993.308202
         ],
         "y": [
          69.6965938823491,
          86.30860136498634,
          103.30578512396694
         ]
        },
        {
         "marker": {
          "color": "#2B2B2B",
          "line": {
           "color": "purple",
           "width": 2
          },
          "size": 16
         },
         "mode": "markers",
         "name": "AUT",
         "text": "AUT",
         "type": "scatter",
         "visible": false,
         "x": [
          35024.557484
         ],
         "y": [
          95.4719821434472
         ]
        },
        {
         "marker": {
          "color": "#2B2B2B",
          "line": {
           "color": "purple",
           "width": 2
          },
          "size": 16
         },
         "mode": "markers",
         "name": "BEL",
         "text": "BEL",
         "type": "scatter",
         "visible": false,
         "x": [
          33177.947339
         ],
         "y": [
          83.57384347394543
         ]
        },
        {
         "marker": {
          "color": "#FF4464",
          "line": {
           "color": "purple",
           "width": 2
          },
          "size": 16
         },
         "mode": "markers",
         "name": "BGR",
         "text": "BGR",
         "type": "scatter",
         "visible": false,
         "x": [
          10183.806414
         ],
         "y": [
          50.46450101989016
         ]
        },
        {
         "marker": {
          "color": "#FF4464",
          "line": {
           "color": "purple",
           "width": 2
          },
          "size": 16
         },
         "mode": "markers",
         "name": "HRV",
         "text": "HRV",
         "type": "scatter",
         "visible": false,
         "x": [
          15301.2886
         ],
         "y": [
          50.337971927185784
         ]
        },
        {
         "marker": {
          "color": "#2B2B2B",
          "line": {
           "color": "purple",
           "width": 2
          },
          "size": 16
         },
         "mode": "markers",
         "name": "DNK",
         "text": "DNK",
         "type": "scatter",
         "visible": false,
         "x": [
          34152.881663
         ],
         "y": [
          94.43018957183949
         ]
        },
        {
         "marker": {
          "color": "#FF4464",
          "line": {
           "color": "purple",
           "width": 2
          },
          "size": 16
         },
         "mode": "markers",
         "name": "EST",
         "text": "EST",
         "type": "scatter",
         "visible": false,
         "x": [
          16574.460822
         ],
         "y": [
          66.23247599072745
         ]
        },
        {
         "marker": {
          "color": "#2B2B2B",
          "line": {
           "color": "purple",
           "width": 2
          },
          "size": 16
         },
         "mode": "markers",
         "name": "FIN",
         "text": "FIN",
         "type": "scatter",
         "visible": false,
         "x": [
          32051.762888999998
         ],
         "y": [
          72.75697965726306
         ]
        },
        {
         "marker": {
          "color": "#2B2B2B",
          "line": {
           "color": "purple",
           "width": 2
          },
          "size": 16
         },
         "mode": "markers",
         "name": "FRA",
         "text": "FRA",
         "type": "scatter",
         "visible": false,
         "x": [
          30504.058783999997
         ],
         "y": [
          87.66526048593924
         ]
        },
        {
         "marker": {
          "color": "#2B2B2B",
          "line": {
           "color": "purple",
           "width": 2
          },
          "size": 16
         },
         "mode": "markers",
         "name": "DEU",
         "text": "DEU",
         "type": "scatter",
         "visible": false,
         "x": [
          32236.740986
         ],
         "y": [
          83.92640904822689
         ]
        },
        {
         "marker": {
          "color": "#2B2B2B",
          "line": {
           "color": "purple",
           "width": 2
          },
          "size": 16
         },
         "mode": "markers",
         "name": "GRC",
         "text": "GRC",
         "type": "scatter",
         "visible": false,
         "x": [
          25577.445437000002
         ],
         "y": [
          84.59502683339666
         ]
        },
        {
         "marker": {
          "color": "#FF4464",
          "line": {
           "color": "purple",
           "width": 2
          },
          "size": 16
         },
         "mode": "markers",
         "name": "HUN",
         "text": "HUN",
         "type": "scatter",
         "visible": false,
         "x": [
          17073.551438
         ],
         "y": [
          84.27787773052648
         ]
        },
        {
         "marker": {
          "color": "#2B2B2B",
          "line": {
           "color": "purple",
           "width": 2
          },
          "size": 16
         },
         "mode": "markers",
         "name": "IRL",
         "text": "IRL",
         "type": "scatter",
         "visible": false,
         "x": [
          40437.080879
         ],
         "y": [
          102.39143589274632
         ]
        },
        {
         "marker": {
          "color": "#2B2B2B",
          "line": {
           "color": "purple",
           "width": 2
          },
          "size": 16
         },
         "mode": "markers",
         "name": "ITA",
         "text": "ITA",
         "type": "scatter",
         "visible": false,
         "x": [
          30016.1557
         ],
         "y": [
          86.03060474400642
         ]
        },
        {
         "marker": {
          "color": "#FF4464",
          "line": {
           "color": "purple",
           "width": 2
          },
          "size": 16
         },
         "mode": "markers",
         "name": "LVA",
         "text": "LVA",
         "type": "scatter",
         "visible": false,
         "x": [
          13837.089237999999
         ],
         "y": [
          59.56286193328604
         ]
        },
        {
         "marker": {
          "color": "#FF4464",
          "line": {
           "color": "purple",
           "width": 2
          },
          "size": 16
         },
         "mode": "markers",
         "name": "LTU",
         "text": "LTU",
         "type": "scatter",
         "visible": false,
         "x": [
          14526.159527000002
         ],
         "y": [
          81.66379551862471
         ]
        },
        {
         "marker": {
          "color": "#F2F2F2",
          "line": {
           "color": "purple",
           "width": 2
          },
          "size": 16
         },
         "mode": "markers",
         "name": "LUX",
         "text": "LUX",
         "type": "scatter",
         "visible": false,
         "x": [
          68140.65238
         ],
         "y": [
          104.06955315135616
         ]
        },
        {
         "marker": {
          "color": "#FF4464",
          "line": {
           "color": "purple",
           "width": 2
          },
          "size": 16
         },
         "mode": "markers",
         "name": "MLT",
         "text": "MLT",
         "type": "scatter",
         "visible": false,
         "x": [
          22265.719116
         ],
         "y": [
          96.85398392720552
         ]
        },
        {
         "marker": {
          "color": "#2B2B2B",
          "line": {
           "color": "purple",
           "width": 2
          },
          "size": 16
         },
         "mode": "markers",
         "name": "NLD",
         "text": "NLD",
         "type": "scatter",
         "visible": false,
         "x": [
          37625.252435
         ],
         "y": [
          77.02910044116331
         ]
        },
        {
         "marker": {
          "color": "#FF4464",
          "line": {
           "color": "purple",
           "width": 2
          },
          "size": 16
         },
         "mode": "markers",
         "name": "POL",
         "text": "POL",
         "type": "scatter",
         "visible": false,
         "x": [
          13897.543071
         ],
         "y": [
          77.25186636343977
         ]
        },
        {
         "marker": {
          "color": "#FF4464",
          "line": {
           "color": "purple",
           "width": 2
          },
          "size": 16
         },
         "mode": "markers",
         "name": "ROU",
         "text": "ROU",
         "type": "scatter",
         "visible": false,
         "x": [
          9602.103406999999
         ],
         "y": [
          65.84868999923955
         ]
        },
        {
         "marker": {
          "color": "#FF4464",
          "line": {
           "color": "purple",
           "width": 2
          },
          "size": 16
         },
         "mode": "markers",
         "name": "SVK",
         "text": "SVK",
         "type": "scatter",
         "visible": false,
         "x": [
          16595.261602000002
         ],
         "y": [
          66.07496996380767
         ]
        },
        {
         "marker": {
          "color": "#FF4464",
          "line": {
           "color": "purple",
           "width": 2
          },
          "size": 16
         },
         "mode": "markers",
         "name": "SVN",
         "text": "SVN",
         "type": "scatter",
         "visible": false,
         "x": [
          23848.605399
         ],
         "y": [
          91.6103905205773
         ]
        },
        {
         "marker": {
          "color": "#2B2B2B",
          "line": {
           "color": "purple",
           "width": 2
          },
          "size": 16
         },
         "mode": "markers",
         "name": "ESP",
         "text": "ESP",
         "type": "scatter",
         "visible": false,
         "x": [
          27600.937175
         ],
         "y": [
          108.2770556715443
         ]
        },
        {
         "marker": {
          "color": "#2B2B2B",
          "line": {
           "color": "purple",
           "width": 2
          },
          "size": 16
         },
         "mode": "markers",
         "name": "SWE",
         "text": "SWE",
         "type": "scatter",
         "visible": false,
         "x": [
          34029.085226999996
         ],
         "y": [
          78.01236479336376
         ]
        },
        {
         "marker": {
          "color": "#2B2B2B",
          "line": {
           "color": "purple",
           "width": 2
          },
          "size": 16
         },
         "mode": "markers",
         "name": "GBR",
         "text": "GBR",
         "type": "scatter",
         "visible": false,
         "x": [
          32661.847992000003
         ],
         "y": [
          85.35767724761786
         ]
        },
        {
         "marker": {
          "color": "#16a085",
          "line": {
           "color": "black",
           "width": 1
          },
          "size": 10,
          "symbol": "square"
         },
         "mode": "markers",
         "name": "K means centroïds",
         "opacity": 1,
         "type": "scatter",
         "visible": false,
         "x": [
          15791.417148545454,
          32699.67338384615,
          68140.65238
         ],
         "y": [
          71.83448953586459,
          87.65522538496154,
          104.06955315135616
         ]
        },
        {
         "marker": {
          "color": "#2B2B2B",
          "line": {
           "color": "purple",
           "width": 2
          },
          "size": 16
         },
         "mode": "markers",
         "name": "AUT",
         "text": "AUT",
         "type": "scatter",
         "visible": true,
         "x": [
          37626.245494
         ],
         "y": [
          92.31554276329737
         ]
        },
        {
         "marker": {
          "color": "#2B2B2B",
          "line": {
           "color": "purple",
           "width": 2
          },
          "size": 16
         },
         "mode": "markers",
         "name": "BEL",
         "text": "BEL",
         "type": "scatter",
         "visible": true,
         "x": [
          35222.474358
         ],
         "y": [
          80.29391377841658
         ]
        },
        {
         "marker": {
          "color": "#FF4464",
          "line": {
           "color": "purple",
           "width": 2
          },
          "size": 16
         },
         "mode": "markers",
         "name": "BGR",
         "text": "BGR",
         "type": "scatter",
         "visible": true,
         "x": [
          11251.243922
         ],
         "y": [
          47.71035515247586
         ]
        },
        {
         "marker": {
          "color": "#FF4464",
          "line": {
           "color": "purple",
           "width": 2
          },
          "size": 16
         },
         "mode": "markers",
         "name": "HRV",
         "text": "HRV",
         "type": "scatter",
         "visible": true,
         "x": [
          17425.914018
         ],
         "y": [
          58.4349587604554
         ]
        },
        {
         "marker": {
          "color": "#2B2B2B",
          "line": {
           "color": "purple",
           "width": 2
          },
          "size": 16
         },
         "mode": "markers",
         "name": "DNK",
         "text": "DNK",
         "type": "scatter",
         "visible": true,
         "x": [
          37297.523836
         ],
         "y": [
          80.70074780850486
         ]
        },
        {
         "marker": {
          "color": "#FF4464",
          "line": {
           "color": "purple",
           "width": 2
          },
          "size": 16
         },
         "mode": "markers",
         "name": "EST",
         "text": "EST",
         "type": "scatter",
         "visible": true,
         "x": [
          19257.646402000002
         ],
         "y": [
          70.3339009402532
         ]
        },
        {
         "marker": {
          "color": "#2B2B2B",
          "line": {
           "color": "purple",
           "width": 2
          },
          "size": 16
         },
         "mode": "markers",
         "name": "FIN",
         "text": "FIN",
         "type": "scatter",
         "visible": true,
         "x": [
          34419.156888
         ],
         "y": [
          71.92355553525968
         ]
        },
        {
         "marker": {
          "color": "#2B2B2B",
          "line": {
           "color": "purple",
           "width": 2
          },
          "size": 16
         },
         "mode": "markers",
         "name": "FRA",
         "text": "FRA",
         "type": "scatter",
         "visible": true,
         "x": [
          32441.180775999997
         ],
         "y": [
          82.79345594830652
         ]
        },
        {
         "marker": {
          "color": "#2B2B2B",
          "line": {
           "color": "purple",
           "width": 2
          },
          "size": 16
         },
         "mode": "markers",
         "name": "DEU",
         "text": "DEU",
         "type": "scatter",
         "visible": true,
         "x": [
          34630.81647
         ],
         "y": [
          84.34217741467391
         ]
        },
        {
         "marker": {
          "color": "#2B2B2B",
          "line": {
           "color": "purple",
           "width": 2
          },
          "size": 16
         },
         "mode": "markers",
         "name": "GRC",
         "text": "GRC",
         "type": "scatter",
         "visible": true,
         "x": [
          28519.445057999998
         ],
         "y": [
          85.41792446074938
         ]
        },
        {
         "marker": {
          "color": "#FF4464",
          "line": {
           "color": "purple",
           "width": 2
          },
          "size": 16
         },
         "mode": "markers",
         "name": "HUN",
         "text": "HUN",
         "type": "scatter",
         "visible": true,
         "x": [
          18342.715276
         ],
         "y": [
          83.75856850652022
         ]
        },
        {
         "marker": {
          "color": "#2B2B2B",
          "line": {
           "color": "purple",
           "width": 2
          },
          "size": 16
         },
         "mode": "markers",
         "name": "IRL",
         "text": "IRL",
         "type": "scatter",
         "visible": true,
         "x": [
          44243.985255
         ],
         "y": [
          102.42015742762388
         ]
        },
        {
         "marker": {
          "color": "#2B2B2B",
          "line": {
           "color": "purple",
           "width": 2
          },
          "size": 16
         },
         "mode": "markers",
         "name": "ITA",
         "text": "ITA",
         "type": "scatter",
         "visible": true,
         "x": [
          32262.115849
         ],
         "y": [
          86.83489627535472
         ]
        },
        {
         "marker": {
          "color": "#FF4464",
          "line": {
           "color": "purple",
           "width": 2
          },
          "size": 16
         },
         "mode": "markers",
         "name": "LVA",
         "text": "LVA",
         "type": "scatter",
         "visible": true,
         "x": [
          15742.904798
         ],
         "y": [
          60.59588648191056
         ]
        },
        {
         "marker": {
          "color": "#FF4464",
          "line": {
           "color": "purple",
           "width": 2
          },
          "size": 16
         },
         "mode": "markers",
         "name": "LTU",
         "text": "LTU",
         "type": "scatter",
         "visible": true,
         "x": [
          16484.558405
         ],
         "y": [
          80.2471856491283
         ]
        },
        {
         "marker": {
          "color": "#F2F2F2",
          "line": {
           "color": "purple",
           "width": 2
          },
          "size": 16
         },
         "mode": "markers",
         "name": "LUX",
         "text": "LUX",
         "type": "scatter",
         "visible": true,
         "x": [
          77903.93005
         ],
         "y": [
          104.45845751098946
         ]
        },
        {
         "marker": {
          "color": "#FF4464",
          "line": {
           "color": "purple",
           "width": 2
          },
          "size": 16
         },
         "mode": "markers",
         "name": "MLT",
         "text": "MLT",
         "type": "scatter",
         "visible": true,
         "x": [
          23227.410451
         ],
         "y": [
          98.765675964632
         ]
        },
        {
         "marker": {
          "color": "#2B2B2B",
          "line": {
           "color": "purple",
           "width": 2
          },
          "size": 16
         },
         "mode": "markers",
         "name": "NLD",
         "text": "NLD",
         "type": "scatter",
         "visible": true,
         "x": [
          40971.493263
         ],
         "y": [
          81.24053749768125
         ]
        },
        {
         "marker": {
          "color": "#FF4464",
          "line": {
           "color": "purple",
           "width": 2
          },
          "size": 16
         },
         "mode": "markers",
         "name": "POL",
         "text": "POL",
         "type": "scatter",
         "visible": true,
         "x": [
          15145.861194
         ],
         "y": [
          77.60032843205536
         ]
        },
        {
         "marker": {
          "color": "#FF4464",
          "line": {
           "color": "purple",
           "width": 2
          },
          "size": 16
         },
         "mode": "markers",
         "name": "ROU",
         "text": "ROU",
         "type": "scatter",
         "visible": true,
         "x": [
          11544.715086
         ],
         "y": [
          65.15495872045257
         ]
        },
        {
         "marker": {
          "color": "#FF4464",
          "line": {
           "color": "purple",
           "width": 2
          },
          "size": 16
         },
         "mode": "markers",
         "name": "SVK",
         "text": "SVK",
         "type": "scatter",
         "visible": true,
         "x": [
          18831.79902
         ],
         "y": [
          62.34961644749381
         ]
        },
        {
         "marker": {
          "color": "#FF4464",
          "line": {
           "color": "purple",
           "width": 2
          },
          "size": 16
         },
         "mode": "markers",
         "name": "SVN",
         "text": "SVN",
         "type": "scatter",
         "visible": true,
         "x": [
          25681.207419
         ],
         "y": [
          87.35333375262934
         ]
        },
        {
         "marker": {
          "color": "#2B2B2B",
          "line": {
           "color": "purple",
           "width": 2
          },
          "size": 16
         },
         "mode": "markers",
         "name": "ESP",
         "text": "ESP",
         "type": "scatter",
         "visible": true,
         "x": [
          30713.803154
         ],
         "y": [
          107.24842331752502
         ]
        },
        {
         "marker": {
          "color": "#2B2B2B",
          "line": {
           "color": "purple",
           "width": 2
          },
          "size": 16
         },
         "mode": "markers",
         "name": "SWE",
         "text": "SWE",
         "type": "scatter",
         "visible": true,
         "x": [
          37435.395275999996
         ],
         "y": [
          77.91990761904172
         ]
        },
        {
         "marker": {
          "color": "#2B2B2B",
          "line": {
           "color": "purple",
           "width": 2
          },
          "size": 16
         },
         "mode": "markers",
         "name": "GBR",
         "text": "GBR",
         "type": "scatter",
         "visible": true,
         "x": [
          34778.350938999996
         ],
         "y": [
          87.0994483190227
         ]
        },
        {
         "marker": {
          "color": "#16a085",
          "line": {
           "color": "black",
           "width": 1
          },
          "size": 10,
          "symbol": "square"
         },
         "mode": "markers",
         "name": "K means centroïds",
         "opacity": 1,
         "type": "scatter",
         "visible": true,
         "x": [
          17539.634181,
          35427.84512430769,
          77903.93005
         ],
         "y": [
          72.02770625527333,
          86.19620678195828,
          104.45845751098946
         ]
        },
        {
         "marker": {
          "color": "#2B2B2B",
          "line": {
           "color": "purple",
           "width": 2
          },
          "size": 16
         },
         "mode": "markers",
         "name": "AUT",
         "text": "AUT",
         "type": "scatter",
         "visible": false,
         "x": [
          39393.953567000004
         ],
         "y": [
          94.531149643655
         ]
        },
        {
         "marker": {
          "color": "#2B2B2B",
          "line": {
           "color": "purple",
           "width": 2
          },
          "size": 16
         },
         "mode": "markers",
         "name": "BEL",
         "text": "BEL",
         "type": "scatter",
         "visible": false,
         "x": [
          36755.650522
         ],
         "y": [
          83.80151643898543
         ]
        },
        {
         "marker": {
          "color": "#FF4464",
          "line": {
           "color": "purple",
           "width": 2
          },
          "size": 16
         },
         "mode": "markers",
         "name": "BGR",
         "text": "BGR",
         "type": "scatter",
         "visible": false,
         "x": [
          12607.887169
         ],
         "y": [
          46.747033709233186
         ]
        },
        {
         "marker": {
          "color": "#FF4464",
          "line": {
           "color": "purple",
           "width": 2
          },
          "size": 16
         },
         "mode": "markers",
         "name": "HRV",
         "text": "HRV",
         "type": "scatter",
         "visible": false,
         "x": [
          19340.283023
         ],
         "y": [
          63.5210604771498
         ]
        },
        {
         "marker": {
          "color": "#2B2B2B",
          "line": {
           "color": "purple",
           "width": 2
          },
          "size": 16
         },
         "mode": "markers",
         "name": "DNK",
         "text": "DNK",
         "type": "scatter",
         "visible": false,
         "x": [
          38978.780753
         ],
         "y": [
          91.79223232099964
         ]
        },
        {
         "marker": {
          "color": "#FF4464",
          "line": {
           "color": "purple",
           "width": 2
          },
          "size": 16
         },
         "mode": "markers",
         "name": "EST",
         "text": "EST",
         "type": "scatter",
         "visible": false,
         "x": [
          22133.611223
         ],
         "y": [
          74.46459952938373
         ]
        },
        {
         "marker": {
          "color": "#2B2B2B",
          "line": {
           "color": "purple",
           "width": 2
          },
          "size": 16
         },
         "mode": "markers",
         "name": "FIN",
         "text": "FIN",
         "type": "scatter",
         "visible": false,
         "x": [
          37801.926032999996
         ],
         "y": [
          76.18029716000989
         ]
        },
        {
         "marker": {
          "color": "#2B2B2B",
          "line": {
           "color": "purple",
           "width": 2
          },
          "size": 16
         },
         "mode": "markers",
         "name": "FRA",
         "text": "FRA",
         "type": "scatter",
         "visible": false,
         "x": [
          34095.407473
         ],
         "y": [
          83.40002480946481
         ]
        },
        {
         "marker": {
          "color": "#2B2B2B",
          "line": {
           "color": "purple",
           "width": 2
          },
          "size": 16
         },
         "mode": "markers",
         "name": "DEU",
         "text": "DEU",
         "type": "scatter",
         "visible": false,
         "x": [
          36822.840138
         ],
         "y": [
          87.8577204473756
         ]
        },
        {
         "marker": {
          "color": "#2B2B2B",
          "line": {
           "color": "purple",
           "width": 2
          },
          "size": 16
         },
         "mode": "markers",
         "name": "GRC",
         "text": "GRC",
         "type": "scatter",
         "visible": false,
         "x": [
          29291.872922000002
         ],
         "y": [
          80.55449035557061
         ]
        },
        {
         "marker": {
          "color": "#FF4464",
          "line": {
           "color": "purple",
           "width": 2
          },
          "size": 16
         },
         "mode": "markers",
         "name": "HUN",
         "text": "HUN",
         "type": "scatter",
         "visible": false,
         "x": [
          19045.808484
         ],
         "y": [
          83.14989691200951
         ]
        },
        {
         "marker": {
          "color": "#2B2B2B",
          "line": {
           "color": "purple",
           "width": 2
          },
          "size": 16
         },
         "mode": "markers",
         "name": "IRL",
         "text": "IRL",
         "type": "scatter",
         "visible": false,
         "x": [
          46746.547399
         ],
         "y": [
          91.93298431056485
         ]
        },
        {
         "marker": {
          "color": "#2B2B2B",
          "line": {
           "color": "purple",
           "width": 2
          },
          "size": 16
         },
         "mode": "markers",
         "name": "ITA",
         "text": "ITA",
         "type": "scatter",
         "visible": false,
         "x": [
          33905.682103
         ],
         "y": [
          89.92894720064722
         ]
        },
        {
         "marker": {
          "color": "#FF4464",
          "line": {
           "color": "purple",
           "width": 2
          },
          "size": 16
         },
         "mode": "markers",
         "name": "LVA",
         "text": "LVA",
         "type": "scatter",
         "visible": false,
         "x": [
          18121.545421000003
         ],
         "y": [
          64.73986345774253
         ]
        },
        {
         "marker": {
          "color": "#FF4464",
          "line": {
           "color": "purple",
           "width": 2
          },
          "size": 16
         },
         "mode": "markers",
         "name": "LTU",
         "text": "LTU",
         "type": "scatter",
         "visible": false,
         "x": [
          19095.571569
         ],
         "y": [
          84.6158272212501
         ]
        },
        {
         "marker": {
          "color": "#F2F2F2",
          "line": {
           "color": "purple",
           "width": 2
          },
          "size": 16
         },
         "mode": "markers",
         "name": "LUX",
         "text": "LUX",
         "type": "scatter",
         "visible": false,
         "x": [
          83858.23572699999
         ],
         "y": [
          102.90075117548356
         ]
        },
        {
         "marker": {
          "color": "#FF4464",
          "line": {
           "color": "purple",
           "width": 2
          },
          "size": 16
         },
         "mode": "markers",
         "name": "MLT",
         "text": "MLT",
         "type": "scatter",
         "visible": false,
         "x": [
          24892.495897999997
         ],
         "y": [
          108.47698315648294
         ]
        },
        {
         "marker": {
          "color": "#2B2B2B",
          "line": {
           "color": "purple",
           "width": 2
          },
          "size": 16
         },
         "mode": "markers",
         "name": "NLD",
         "text": "NLD",
         "type": "scatter",
         "visible": false,
         "x": [
          43895.900712
         ],
         "y": [
          74.70354552074606
         ]
        },
        {
         "marker": {
          "color": "#FF4464",
          "line": {
           "color": "purple",
           "width": 2
          },
          "size": 16
         },
         "mode": "markers",
         "name": "POL",
         "text": "POL",
         "type": "scatter",
         "visible": false,
         "x": [
          16789.98011
         ],
         "y": [
          79.63178639670338
         ]
        },
        {
         "marker": {
          "color": "#FF4464",
          "line": {
           "color": "purple",
           "width": 2
          },
          "size": 16
         },
         "mode": "markers",
         "name": "ROU",
         "text": "ROU",
         "type": "scatter",
         "visible": false,
         "x": [
          13686.942347999999
         ],
         "y": [
          65.54505588437718
         ]
        },
        {
         "marker": {
          "color": "#FF4464",
          "line": {
           "color": "purple",
           "width": 2
          },
          "size": 16
         },
         "mode": "markers",
         "name": "SVK",
         "text": "SVK",
         "type": "scatter",
         "visible": false,
         "x": [
          21115.656398
         ],
         "y": [
          60.299487454356644
         ]
        },
        {
         "marker": {
          "color": "#FF4464",
          "line": {
           "color": "purple",
           "width": 2
          },
          "size": 16
         },
         "mode": "markers",
         "name": "SVN",
         "text": "SVN",
         "type": "scatter",
         "visible": false,
         "x": [
          27533.363591
         ],
         "y": [
          85.05867307475165
         ]
        },
        {
         "marker": {
          "color": "#2B2B2B",
          "line": {
           "color": "purple",
           "width": 2
          },
          "size": 16
         },
         "mode": "markers",
         "name": "ESP",
         "text": "ESP",
         "type": "scatter",
         "visible": false,
         "x": [
          32431.570501
         ],
         "y": [
          110.43958662100997
         ]
        },
        {
         "marker": {
          "color": "#2B2B2B",
          "line": {
           "color": "purple",
           "width": 2
          },
          "size": 16
         },
         "mode": "markers",
         "name": "SWE",
         "text": "SWE",
         "type": "scatter",
         "visible": false,
         "x": [
          40592.764986
         ],
         "y": [
          79.55443372221369
         ]
        },
        {
         "marker": {
          "color": "#2B2B2B",
          "line": {
           "color": "purple",
           "width": 2
          },
          "size": 16
         },
         "mode": "markers",
         "name": "GBR",
         "text": "GBR",
         "type": "scatter",
         "visible": false,
         "x": [
          35601.9985
         ],
         "y": [
          86.04417653750014
         ]
        },
        {
         "marker": {
          "color": "#16a085",
          "line": {
           "color": "black",
           "width": 1
          },
          "size": 10,
          "symbol": "square"
         },
         "mode": "markers",
         "name": "K means centroïds",
         "opacity": 1,
         "type": "scatter",
         "visible": false,
         "x": [
          19487.558657636364,
          37408.83812376923,
          83858.23572699999
         ],
         "y": [
          74.20456975213096,
          86.97854654528791,
          102.90075117548356
         ]
        },
        {
         "marker": {
          "color": "#2B2B2B",
          "line": {
           "color": "purple",
           "width": 2
          },
          "size": 16
         },
         "mode": "markers",
         "name": "AUT",
         "text": "AUT",
         "type": "scatter",
         "visible": false,
         "x": [
          41316.022642
         ],
         "y": [
          90.2745538059812
         ]
        },
        {
         "marker": {
          "color": "#2B2B2B",
          "line": {
           "color": "purple",
           "width": 2
          },
          "size": 16
         },
         "mode": "markers",
         "name": "BEL",
         "text": "BEL",
         "type": "scatter",
         "visible": false,
         "x": [
          37883.233422000005
         ],
         "y": [
          69.37370357891436
         ]
        },
        {
         "marker": {
          "color": "#FF4464",
          "line": {
           "color": "purple",
           "width": 2
          },
          "size": 16
         },
         "mode": "markers",
         "name": "BGR",
         "text": "BGR",
         "type": "scatter",
         "visible": false,
         "x": [
          14089.659789
         ],
         "y": [
          51.343428746095036
         ]
        },
        {
         "marker": {
          "color": "#FF4464",
          "line": {
           "color": "purple",
           "width": 2
          },
          "size": 16
         },
         "mode": "markers",
         "name": "HRV",
         "text": "HRV",
         "type": "scatter",
         "visible": false,
         "x": [
          20765.46326
         ],
         "y": [
          63.08026012258443
         ]
        },
        {
         "marker": {
          "color": "#2B2B2B",
          "line": {
           "color": "purple",
           "width": 2
          },
          "size": 16
         },
         "mode": "markers",
         "name": "DNK",
         "text": "DNK",
         "type": "scatter",
         "visible": false,
         "x": [
          41282.995470999995
         ],
         "y": [
          79.62319964366792
         ]
        },
        {
         "marker": {
          "color": "#FF4464",
          "line": {
           "color": "purple",
           "width": 2
          },
          "size": 16
         },
         "mode": "markers",
         "name": "EST",
         "text": "EST",
         "type": "scatter",
         "visible": false,
         "x": [
          22807.728472
         ],
         "y": [
          70.23101521173903
         ]
        },
        {
         "marker": {
          "color": "#2B2B2B",
          "line": {
           "color": "purple",
           "width": 2
          },
          "size": 16
         },
         "mode": "markers",
         "name": "FIN",
         "text": "FIN",
         "type": "scatter",
         "visible": false,
         "x": [
          40083.701943
         ],
         "y": [
          75.65346862663863
         ]
        },
        {
         "marker": {
          "color": "#2B2B2B",
          "line": {
           "color": "purple",
           "width": 2
          },
          "size": 16
         },
         "mode": "markers",
         "name": "FRA",
         "text": "FRA",
         "type": "scatter",
         "visible": false,
         "x": [
          35102.870427999995
         ],
         "y": [
          90.95852711428854
         ]
        },
        {
         "marker": {
          "color": "#2B2B2B",
          "line": {
           "color": "purple",
           "width": 2
          },
          "size": 16
         },
         "mode": "markers",
         "name": "DEU",
         "text": "DEU",
         "type": "scatter",
         "visible": false,
         "x": [
          38432.448211
         ],
         "y": [
          87.32898190936353
         ]
        },
        {
         "marker": {
          "color": "#2B2B2B",
          "line": {
           "color": "purple",
           "width": 2
          },
          "size": 16
         },
         "mode": "markers",
         "name": "GRC",
         "text": "GRC",
         "type": "scatter",
         "visible": false,
         "x": [
          30855.935774
         ],
         "y": [
          80.64416242493742
         ]
        },
        {
         "marker": {
          "color": "#FF4464",
          "line": {
           "color": "purple",
           "width": 2
          },
          "size": 16
         },
         "mode": "markers",
         "name": "HUN",
         "text": "HUN",
         "type": "scatter",
         "visible": false,
         "x": [
          20696.728568000002
         ],
         "y": [
          80.63391396719753
         ]
        },
        {
         "marker": {
          "color": "#2B2B2B",
          "line": {
           "color": "purple",
           "width": 2
          },
          "size": 16
         },
         "mode": "markers",
         "name": "IRL",
         "text": "IRL",
         "type": "scatter",
         "visible": false,
         "x": [
          44219.775877
         ],
         "y": [
          88.16077114877073
         ]
        },
        {
         "marker": {
          "color": "#2B2B2B",
          "line": {
           "color": "purple",
           "width": 2
          },
          "size": 16
         },
         "mode": "markers",
         "name": "ITA",
         "text": "ITA",
         "type": "scatter",
         "visible": false,
         "x": [
          35274.312724
         ],
         "y": [
          88.11162283178787
         ]
        },
        {
         "marker": {
          "color": "#FF4464",
          "line": {
           "color": "purple",
           "width": 2
          },
          "size": 16
         },
         "mode": "markers",
         "name": "LVA",
         "text": "LVA",
         "type": "scatter",
         "visible": false,
         "x": [
          19462.435513
         ],
         "y": [
          67.98034501165704
         ]
        },
        {
         "marker": {
          "color": "#FF4464",
          "line": {
           "color": "purple",
           "width": 2
          },
          "size": 16
         },
         "mode": "markers",
         "name": "LTU",
         "text": "LTU",
         "type": "scatter",
         "visible": false,
         "x": [
          20744.011329
         ],
         "y": [
          84.04394564535635
         ]
        },
        {
         "marker": {
          "color": "#F2F2F2",
          "line": {
           "color": "purple",
           "width": 2
          },
          "size": 16
         },
         "mode": "markers",
         "name": "LUX",
         "text": "LUX",
         "type": "scatter",
         "visible": false,
         "x": [
          86591.985457
         ],
         "y": [
          107.48265291991095
         ]
        },
        {
         "marker": {
          "color": "#FF4464",
          "line": {
           "color": "purple",
           "width": 2
          },
          "size": 16
         },
         "mode": "markers",
         "name": "MLT",
         "text": "MLT",
         "type": "scatter",
         "visible": false,
         "x": [
          26193.230358
         ],
         "y": [
          100.53159143961237
         ]
        },
        {
         "marker": {
          "color": "#2B2B2B",
          "line": {
           "color": "purple",
           "width": 2
          },
          "size": 16
         },
         "mode": "markers",
         "name": "NLD",
         "text": "NLD",
         "type": "scatter",
         "visible": false,
         "x": [
          46419.042594
         ],
         "y": [
          89.72655892124294
         ]
        },
        {
         "marker": {
          "color": "#FF4464",
          "line": {
           "color": "purple",
           "width": 2
          },
          "size": 16
         },
         "mode": "markers",
         "name": "POL",
         "text": "POL",
         "type": "scatter",
         "visible": false,
         "x": [
          18315.13109
         ],
         "y": [
          76.79262169564458
         ]
        },
        {
         "marker": {
          "color": "#FF4464",
          "line": {
           "color": "purple",
           "width": 2
          },
          "size": 16
         },
         "mode": "markers",
         "name": "ROU",
         "text": "ROU",
         "type": "scatter",
         "visible": false,
         "x": [
          16782.151849
         ],
         "y": [
          67.26285723700853
         ]
        },
        {
         "marker": {
          "color": "#FF4464",
          "line": {
           "color": "purple",
           "width": 2
          },
          "size": 16
         },
         "mode": "markers",
         "name": "SVK",
         "text": "SVK",
         "type": "scatter",
         "visible": false,
         "x": [
          23608.977522
         ],
         "y": [
          61.38319781907358
         ]
        },
        {
         "marker": {
          "color": "#2B2B2B",
          "line": {
           "color": "purple",
           "width": 2
          },
          "size": 16
         },
         "mode": "markers",
         "name": "SVN",
         "text": "SVN",
         "type": "scatter",
         "visible": false,
         "x": [
          29594.66035
         ],
         "y": [
          89.5402555578383
         ]
        },
        {
         "marker": {
          "color": "#2B2B2B",
          "line": {
           "color": "purple",
           "width": 2
          },
          "size": 16
         },
         "mode": "markers",
         "name": "ESP",
         "text": "ESP",
         "type": "scatter",
         "visible": false,
         "x": [
          33242.245427
         ],
         "y": [
          101.51319696741804
         ]
        },
        {
         "marker": {
          "color": "#2B2B2B",
          "line": {
           "color": "purple",
           "width": 2
          },
          "size": 16
         },
         "mode": "markers",
         "name": "SWE",
         "text": "SWE",
         "type": "scatter",
         "visible": false,
         "x": [
          41971.781211
         ],
         "y": [
          80.47543011068258
         ]
        },
        {
         "marker": {
          "color": "#2B2B2B",
          "line": {
           "color": "purple",
           "width": 2
          },
          "size": 16
         },
         "mode": "markers",
         "name": "GBR",
         "text": "GBR",
         "type": "scatter",
         "visible": false,
         "x": [
          36650.101264
         ],
         "y": [
          82.22940666180328
         ]
        },
        {
         "marker": {
          "color": "#16a085",
          "line": {
           "color": "black",
           "width": 1
          },
          "size": 10,
          "symbol": "square"
         },
         "mode": "markers",
         "name": "K means centroïds",
         "opacity": 1,
         "type": "scatter",
         "visible": false,
         "x": [
          20346.551775,
          38023.509095571426,
          86591.985457
         ],
         "y": [
          72.32831768959684,
          85.25813137880967,
          107.48265291991095
         ]
        },
        {
         "marker": {
          "color": "#2B2B2B",
          "line": {
           "color": "purple",
           "width": 2
          },
          "size": 16
         },
         "mode": "markers",
         "name": "AUT",
         "text": "AUT",
         "type": "scatter",
         "visible": false,
         "x": [
          40935.528801
         ],
         "y": [
          93.10134621427252
         ]
        },
        {
         "marker": {
          "color": "#2B2B2B",
          "line": {
           "color": "purple",
           "width": 2
          },
          "size": 16
         },
         "mode": "markers",
         "name": "BEL",
         "text": "BEL",
         "type": "scatter",
         "visible": false,
         "x": [
          37757.239173
         ],
         "y": [
          67.70153295613908
         ]
        },
        {
         "marker": {
          "color": "#FF4464",
          "line": {
           "color": "purple",
           "width": 2
          },
          "size": 16
         },
         "mode": "markers",
         "name": "BGR",
         "text": "BGR",
         "type": "scatter",
         "visible": false,
         "x": [
          13914.467312
         ],
         "y": [
          55.57699026893773
         ]
        },
        {
         "marker": {
          "color": "#FF4464",
          "line": {
           "color": "purple",
           "width": 2
          },
          "size": 16
         },
         "mode": "markers",
         "name": "HRV",
         "text": "HRV",
         "type": "scatter",
         "visible": false,
         "x": [
          19977.356811
         ],
         "y": [
          67.75262680646601
         ]
        },
        {
         "marker": {
          "color": "#2B2B2B",
          "line": {
           "color": "purple",
           "width": 2
          },
          "size": 16
         },
         "mode": "markers",
         "name": "DNK",
         "text": "DNK",
         "type": "scatter",
         "visible": false,
         "x": [
          40340.373142000004
         ],
         "y": [
          67.67727772595636
         ]
        },
        {
         "marker": {
          "color": "#FF4464",
          "line": {
           "color": "purple",
           "width": 2
          },
          "size": 16
         },
         "mode": "markers",
         "name": "EST",
         "text": "EST",
         "type": "scatter",
         "visible": false,
         "x": [
          20579.678681999998
         ],
         "y": [
          75.61351760073069
         ]
        },
        {
         "marker": {
          "color": "#2B2B2B",
          "line": {
           "color": "purple",
           "width": 2
          },
          "size": 16
         },
         "mode": "markers",
         "name": "FIN",
         "text": "FIN",
         "type": "scatter",
         "visible": false,
         "x": [
          37979.854491000006
         ],
         "y": [
          74.34785106548355
         ]
        },
        {
         "marker": {
          "color": "#2B2B2B",
          "line": {
           "color": "purple",
           "width": 2
          },
          "size": 16
         },
         "mode": "markers",
         "name": "FRA",
         "text": "FRA",
         "type": "scatter",
         "visible": false,
         "x": [
          34693.236376
         ],
         "y": [
          90.13177358537949
         ]
        },
        {
         "marker": {
          "color": "#2B2B2B",
          "line": {
           "color": "purple",
           "width": 2
          },
          "size": 16
         },
         "mode": "markers",
         "name": "DEU",
         "text": "DEU",
         "type": "scatter",
         "visible": false,
         "x": [
          37472.754357
         ],
         "y": [
          87.94869259610054
         ]
        },
        {
         "marker": {
          "color": "#2B2B2B",
          "line": {
           "color": "purple",
           "width": 2
          },
          "size": 16
         },
         "mode": "markers",
         "name": "GRC",
         "text": "GRC",
         "type": "scatter",
         "visible": false,
         "x": [
          30365.360391000002
         ],
         "y": [
          82.65174188320687
         ]
        },
        {
         "marker": {
          "color": "#FF4464",
          "line": {
           "color": "purple",
           "width": 2
          },
          "size": 16
         },
         "mode": "markers",
         "name": "HUN",
         "text": "HUN",
         "type": "scatter",
         "visible": false,
         "x": [
          20678.068296
         ],
         "y": [
          78.45697950598023
         ]
        },
        {
         "marker": {
          "color": "#2B2B2B",
          "line": {
           "color": "purple",
           "width": 2
          },
          "size": 16
         },
         "mode": "markers",
         "name": "IRL",
         "text": "IRL",
         "type": "scatter",
         "visible": false,
         "x": [
          41587.138158
         ],
         "y": [
          86.25795729656059
         ]
        },
        {
         "marker": {
          "color": "#2B2B2B",
          "line": {
           "color": "purple",
           "width": 2
          },
          "size": 16
         },
         "mode": "markers",
         "name": "ITA",
         "text": "ITA",
         "type": "scatter",
         "visible": false,
         "x": [
          34329.471244
         ],
         "y": [
          89.79571830015385
         ]
        },
        {
         "marker": {
          "color": "#FF4464",
          "line": {
           "color": "purple",
           "width": 2
          },
          "size": 16
         },
         "mode": "markers",
         "name": "LVA",
         "text": "LVA",
         "type": "scatter",
         "visible": false,
         "x": [
          16921.577956
         ],
         "y": [
          65.19224314025024
         ]
        },
        {
         "marker": {
          "color": "#FF4464",
          "line": {
           "color": "purple",
           "width": 2
          },
          "size": 16
         },
         "mode": "markers",
         "name": "LTU",
         "text": "LTU",
         "type": "scatter",
         "visible": false,
         "x": [
          18145.907109
         ],
         "y": [
          76.0084626942927
         ]
        },
        {
         "marker": {
          "color": "#F2F2F2",
          "line": {
           "color": "purple",
           "width": 2
          },
          "size": 16
         },
         "mode": "markers",
         "name": "LUX",
         "text": "LUX",
         "type": "scatter",
         "visible": false,
         "x": [
          82206.353504
         ],
         "y": [
          99.29078014184395
         ]
        },
        {
         "marker": {
          "color": "#FF4464",
          "line": {
           "color": "purple",
           "width": 2
          },
          "size": 16
         },
         "mode": "markers",
         "name": "MLT",
         "text": "MLT",
         "type": "scatter",
         "visible": false,
         "x": [
          26141.314851
         ],
         "y": [
          99.77465529073359
         ]
        },
        {
         "marker": {
          "color": "#2B2B2B",
          "line": {
           "color": "purple",
           "width": 2
          },
          "size": 16
         },
         "mode": "markers",
         "name": "NLD",
         "text": "NLD",
         "type": "scatter",
         "visible": false,
         "x": [
          44567.119952
         ],
         "y": [
          89.77430073553661
         ]
        },
        {
         "marker": {
          "color": "#FF4464",
          "line": {
           "color": "purple",
           "width": 2
          },
          "size": 16
         },
         "mode": "markers",
         "name": "POL",
         "text": "POL",
         "type": "scatter",
         "visible": false,
         "x": [
          19080.70466
         ],
         "y": [
          78.71852740448391
         ]
        },
        {
         "marker": {
          "color": "#FF4464",
          "line": {
           "color": "purple",
           "width": 2
          },
          "size": 16
         },
         "mode": "markers",
         "name": "ROU",
         "text": "ROU",
         "type": "scatter",
         "visible": false,
         "x": [
          16635.328127
         ],
         "y": [
          71.52540399377895
         ]
        },
        {
         "marker": {
          "color": "#FF4464",
          "line": {
           "color": "purple",
           "width": 2
          },
          "size": 16
         },
         "mode": "markers",
         "name": "SVK",
         "text": "SVK",
         "type": "scatter",
         "visible": false,
         "x": [
          22951.723337
         ],
         "y": [
          61.31092796690547
         ]
        },
        {
         "marker": {
          "color": "#FF4464",
          "line": {
           "color": "purple",
           "width": 2
          },
          "size": 16
         },
         "mode": "markers",
         "name": "SVN",
         "text": "SVN",
         "type": "scatter",
         "visible": false,
         "x": [
          27516.532192000002
         ],
         "y": [
          88.07486067934748
         ]
        },
        {
         "marker": {
          "color": "#2B2B2B",
          "line": {
           "color": "purple",
           "width": 2
          },
          "size": 16
         },
         "mode": "markers",
         "name": "ESP",
         "text": "ESP",
         "type": "scatter",
         "visible": false,
         "x": [
          32095.778361
         ],
         "y": [
          97.3631224695077
         ]
        },
        {
         "marker": {
          "color": "#2B2B2B",
          "line": {
           "color": "purple",
           "width": 2
          },
          "size": 16
         },
         "mode": "markers",
         "name": "SWE",
         "text": "SWE",
         "type": "scatter",
         "visible": false,
         "x": [
          40156.476371
         ],
         "y": [
          79.40497477028465
         ]
        },
        {
         "marker": {
          "color": "#2B2B2B",
          "line": {
           "color": "purple",
           "width": 2
          },
          "size": 16
         },
         "mode": "markers",
         "name": "GBR",
         "text": "GBR",
         "type": "scatter",
         "visible": false,
         "x": [
          35012.082006
         ],
         "y": [
          81.41214138221699
         ]
        },
        {
         "marker": {
          "color": "#16a085",
          "line": {
           "color": "black",
           "width": 1
          },
          "size": 10,
          "symbol": "square"
         },
         "mode": "markers",
         "name": "K means centroïds",
         "opacity": 1,
         "type": "scatter",
         "visible": false,
         "x": [
          20231.150848454545,
          37484.03175561539,
          82206.353504
         ],
         "y": [
          74.36410866835519,
          83.65911007544607,
          99.29078014184395
         ]
        },
        {
         "marker": {
          "color": "#2B2B2B",
          "line": {
           "color": "purple",
           "width": 2
          },
          "size": 16
         },
         "mode": "markers",
         "name": "AUT",
         "text": "AUT",
         "type": "scatter",
         "visible": false,
         "x": [
          42017.796538999995
         ],
         "y": [
          94.35269203915924
         ]
        },
        {
         "marker": {
          "color": "#2B2B2B",
          "line": {
           "color": "purple",
           "width": 2
          },
          "size": 16
         },
         "mode": "markers",
         "name": "BEL",
         "text": "BEL",
         "type": "scatter",
         "visible": false,
         "x": [
          39836.849331
         ],
         "y": [
          69.92681208922032
         ]
        },
        {
         "marker": {
          "color": "#FF4464",
          "line": {
           "color": "purple",
           "width": 2
          },
          "size": 16
         },
         "mode": "markers",
         "name": "BGR",
         "text": "BGR",
         "type": "scatter",
         "visible": false,
         "x": [
          14587.638194
         ],
         "y": [
          52.81761780147744
         ]
        },
        {
         "marker": {
          "color": "#FF4464",
          "line": {
           "color": "purple",
           "width": 2
          },
          "size": 16
         },
         "mode": "markers",
         "name": "HRV",
         "text": "HRV",
         "type": "scatter",
         "visible": false,
         "x": [
          19727.254504
         ],
         "y": [
          61.587130567273256
         ]
        },
        {
         "marker": {
          "color": "#2B2B2B",
          "line": {
           "color": "purple",
           "width": 2
          },
          "size": 16
         },
         "mode": "markers",
         "name": "DNK",
         "text": "DNK",
         "type": "scatter",
         "visible": false,
         "x": [
          43004.912769
         ],
         "y": [
          78.0524751126431
         ]
        },
        {
         "marker": {
          "color": "#FF4464",
          "line": {
           "color": "purple",
           "width": 2
          },
          "size": 16
         },
         "mode": "markers",
         "name": "EST",
         "text": "EST",
         "type": "scatter",
         "visible": false,
         "x": [
          21766.793094999997
         ],
         "y": [
          76.50248633080575
         ]
        },
        {
         "marker": {
          "color": "#2B2B2B",
          "line": {
           "color": "purple",
           "width": 2
          },
          "size": 16
         },
         "mode": "markers",
         "name": "FIN",
         "text": "FIN",
         "type": "scatter",
         "visible": false,
         "x": [
          38953.010667
         ],
         "y": [
          76.05448042176414
         ]
        },
        {
         "marker": {
          "color": "#2B2B2B",
          "line": {
           "color": "purple",
           "width": 2
          },
          "size": 16
         },
         "mode": "markers",
         "name": "FRA",
         "text": "FRA",
         "type": "scatter",
         "visible": false,
         "x": [
          35909.162325
         ],
         "y": [
          90.0108718286015
         ]
        },
        {
         "marker": {
          "color": "#2B2B2B",
          "line": {
           "color": "purple",
           "width": 2
          },
          "size": 16
         },
         "mode": "markers",
         "name": "DEU",
         "text": "DEU",
         "type": "scatter",
         "visible": false,
         "x": [
          39673.86048
         ],
         "y": [
          89.66745257407752
         ]
        },
        {
         "marker": {
          "color": "#FF4464",
          "line": {
           "color": "purple",
           "width": 2
          },
          "size": 16
         },
         "mode": "markers",
         "name": "GRC",
         "text": "GRC",
         "type": "scatter",
         "visible": false,
         "x": [
          28148.306881
         ],
         "y": [
          83.18877223174971
         ]
        },
        {
         "marker": {
          "color": "#FF4464",
          "line": {
           "color": "purple",
           "width": 2
          },
          "size": 16
         },
         "mode": "markers",
         "name": "HUN",
         "text": "HUN",
         "type": "scatter",
         "visible": false,
         "x": [
          21569.890078
         ],
         "y": [
          70.79858810240212
         ]
        },
        {
         "marker": {
          "color": "#2B2B2B",
          "line": {
           "color": "purple",
           "width": 2
          },
          "size": 16
         },
         "mode": "markers",
         "name": "IRL",
         "text": "IRL",
         "type": "scatter",
         "visible": false,
         "x": [
          43298.660675
         ],
         "y": [
          81.10909767117977
         ]
        },
        {
         "marker": {
          "color": "#2B2B2B",
          "line": {
           "color": "purple",
           "width": 2
          },
          "size": 16
         },
         "mode": "markers",
         "name": "ITA",
         "text": "ITA",
         "type": "scatter",
         "visible": false,
         "x": [
          34831.193927
         ],
         "y": [
          91.85651063556308
         ]
        },
        {
         "marker": {
          "color": "#FF4464",
          "line": {
           "color": "purple",
           "width": 2
          },
          "size": 16
         },
         "mode": "markers",
         "name": "LVA",
         "text": "LVA",
         "type": "scatter",
         "visible": false,
         "x": [
          17589.444565
         ],
         "y": [
          65.07886804269175
         ]
        },
        {
         "marker": {
          "color": "#FF4464",
          "line": {
           "color": "purple",
           "width": 2
          },
          "size": 16
         },
         "mode": "markers",
         "name": "LTU",
         "text": "LTU",
         "type": "scatter",
         "visible": false,
         "x": [
          20038.874647999997
         ],
         "y": [
          73.83888355608063
         ]
        },
        {
         "marker": {
          "color": "#F2F2F2",
          "line": {
           "color": "purple",
           "width": 2
          },
          "size": 16
         },
         "mode": "markers",
         "name": "LUX",
         "text": "LUX",
         "type": "scatter",
         "visible": false,
         "x": [
          85514.872976
         ],
         "y": [
          99.58850031669144
         ]
        },
        {
         "marker": {
          "color": "#FF4464",
          "line": {
           "color": "purple",
           "width": 2
          },
          "size": 16
         },
         "mode": "markers",
         "name": "MLT",
         "text": "MLT",
         "type": "scatter",
         "visible": false,
         "x": [
          27811.504613
         ],
         "y": [
          96.61205670161608
         ]
        },
        {
         "marker": {
          "color": "#2B2B2B",
          "line": {
           "color": "purple",
           "width": 2
          },
          "size": 16
         },
         "mode": "markers",
         "name": "NLD",
         "text": "NLD",
         "type": "scatter",
         "visible": false,
         "x": [
          45041.369847
         ],
         "y": [
          81.20669039358035
         ]
        },
        {
         "marker": {
          "color": "#FF4464",
          "line": {
           "color": "purple",
           "width": 2
          },
          "size": 16
         },
         "mode": "markers",
         "name": "POL",
         "text": "POL",
         "type": "scatter",
         "visible": false,
         "x": [
          20789.191989
         ],
         "y": [
          78.55798572169817
         ]
        },
        {
         "marker": {
          "color": "#FF4464",
          "line": {
           "color": "purple",
           "width": 2
          },
          "size": 16
         },
         "mode": "markers",
         "name": "ROU",
         "text": "ROU",
         "type": "scatter",
         "visible": false,
         "x": [
          16966.414344999997
         ],
         "y": [
          63.46489866335926
         ]
        },
        {
         "marker": {
          "color": "#FF4464",
          "line": {
           "color": "purple",
           "width": 2
          },
          "size": 16
         },
         "mode": "markers",
         "name": "SVK",
         "text": "SVK",
         "type": "scatter",
         "visible": false,
         "x": [
          24974.227631
         ],
         "y": [
          59.36468654517931
         ]
        },
        {
         "marker": {
          "color": "#FF4464",
          "line": {
           "color": "purple",
           "width": 2
          },
          "size": 16
         },
         "mode": "markers",
         "name": "SVN",
         "text": "SVN",
         "type": "scatter",
         "visible": false,
         "x": [
          27821.436958
         ],
         "y": [
          86.46901575787894
         ]
        },
        {
         "marker": {
          "color": "#2B2B2B",
          "line": {
           "color": "purple",
           "width": 2
          },
          "size": 16
         },
         "mode": "markers",
         "name": "ESP",
         "text": "ESP",
         "type": "scatter",
         "visible": false,
         "x": [
          31689.975608999997
         ],
         "y": [
          95.98461010898642
         ]
        },
        {
         "marker": {
          "color": "#2B2B2B",
          "line": {
           "color": "purple",
           "width": 2
          },
          "size": 16
         },
         "mode": "markers",
         "name": "SWE",
         "text": "SWE",
         "type": "scatter",
         "visible": false,
         "x": [
          42179.452526
         ],
         "y": [
          81.57862562926347
         ]
        },
        {
         "marker": {
          "color": "#2B2B2B",
          "line": {
           "color": "purple",
           "width": 2
          },
          "size": 16
         },
         "mode": "markers",
         "name": "GBR",
         "text": "GBR",
         "type": "scatter",
         "visible": false,
         "x": [
          36344.412859
         ],
         "y": [
          82.6745114881017
         ]
        },
        {
         "marker": {
          "color": "#16a085",
          "line": {
           "color": "black",
           "width": 1
          },
          "size": 10,
          "symbol": "square"
         },
         "mode": "markers",
         "name": "K means centroïds",
         "opacity": 1,
         "type": "scatter",
         "visible": false,
         "x": [
          21815.91479175,
          39398.388129499996,
          85514.872976
         ],
         "y": [
          72.35674916851771,
          84.37290249934505,
          99.58850031669144
         ]
        },
        {
         "marker": {
          "color": "#2B2B2B",
          "line": {
           "color": "purple",
           "width": 2
          },
          "size": 16
         },
         "mode": "markers",
         "name": "AUT",
         "text": "AUT",
         "type": "scatter",
         "visible": false,
         "x": [
          44469.209642
         ],
         "y": [
          93.7295078639654
         ]
        },
        {
         "marker": {
          "color": "#2B2B2B",
          "line": {
           "color": "purple",
           "width": 2
          },
          "size": 16
         },
         "mode": "markers",
         "name": "BEL",
         "text": "BEL",
         "type": "scatter",
         "visible": false,
         "x": [
          41108.701911000004
         ],
         "y": [
          67.17792186235016
         ]
        },
        {
         "marker": {
          "color": "#FF4464",
          "line": {
           "color": "purple",
           "width": 2
          },
          "size": 16
         },
         "mode": "markers",
         "name": "BGR",
         "text": "BGR",
         "type": "scatter",
         "visible": false,
         "x": [
          15661.177049000002
         ],
         "y": [
          56.44940565967711
         ]
        },
        {
         "marker": {
          "color": "#FF4464",
          "line": {
           "color": "purple",
           "width": 2
          },
          "size": 16
         },
         "mode": "markers",
         "name": "HRV",
         "text": "HRV",
         "type": "scatter",
         "visible": false,
         "x": [
          20698.839662000002
         ],
         "y": [
          61.07429688215714
         ]
        },
        {
         "marker": {
          "color": "#2B2B2B",
          "line": {
           "color": "purple",
           "width": 2
          },
          "size": 16
         },
         "mode": "markers",
         "name": "DNK",
         "text": "DNK",
         "type": "scatter",
         "visible": false,
         "x": [
          44407.94207
         ],
         "y": [
          75.89070874728537
         ]
        },
        {
         "marker": {
          "color": "#FF4464",
          "line": {
           "color": "purple",
           "width": 2
          },
          "size": 16
         },
         "mode": "markers",
         "name": "EST",
         "text": "EST",
         "type": "scatter",
         "visible": false,
         "x": [
          24738.851279
         ],
         "y": [
          79.71962757396628
         ]
        },
        {
         "marker": {
          "color": "#2B2B2B",
          "line": {
           "color": "purple",
           "width": 2
          },
          "size": 16
         },
         "mode": "markers",
         "name": "FIN",
         "text": "FIN",
         "type": "scatter",
         "visible": false,
         "x": [
          40916.647325
         ],
         "y": [
          75.71704225048165
         ]
        },
        {
         "marker": {
          "color": "#2B2B2B",
          "line": {
           "color": "purple",
           "width": 2
          },
          "size": 16
         },
         "mode": "markers",
         "name": "FRA",
         "text": "FRA",
         "type": "scatter",
         "visible": false,
         "x": [
          37447.949543
         ],
         "y": [
          88.70596267969017
         ]
        },
        {
         "marker": {
          "color": "#2B2B2B",
          "line": {
           "color": "purple",
           "width": 2
          },
          "size": 16
         },
         "mode": "markers",
         "name": "DEU",
         "text": "DEU",
         "type": "scatter",
         "visible": false,
         "x": [
          42541.513126
         ],
         "y": [
          91.9946401279997
         ]
        },
        {
         "marker": {
          "color": "#FF4464",
          "line": {
           "color": "purple",
           "width": 2
          },
          "size": 16
         },
         "mode": "markers",
         "name": "GRC",
         "text": "GRC",
         "type": "scatter",
         "visible": false,
         "x": [
          26141.091034
         ],
         "y": [
          81.18027306778366
         ]
        },
        {
         "marker": {
          "color": "#FF4464",
          "line": {
           "color": "purple",
           "width": 2
          },
          "size": 16
         },
         "mode": "markers",
         "name": "HUN",
         "text": "HUN",
         "type": "scatter",
         "visible": false,
         "x": [
          22894.347639
         ],
         "y": [
          73.30466439983006
         ]
        },
        {
         "marker": {
          "color": "#2B2B2B",
          "line": {
           "color": "purple",
           "width": 2
          },
          "size": 16
         },
         "mode": "markers",
         "name": "IRL",
         "text": "IRL",
         "type": "scatter",
         "visible": false,
         "x": [
          44870.463335
         ],
         "y": [
          78.32188149286756
         ]
        },
        {
         "marker": {
          "color": "#2B2B2B",
          "line": {
           "color": "purple",
           "width": 2
          },
          "size": 16
         },
         "mode": "markers",
         "name": "ITA",
         "text": "ITA",
         "type": "scatter",
         "visible": false,
         "x": [
          36183.316026
         ],
         "y": [
          88.99229491470435
         ]
        },
        {
         "marker": {
          "color": "#FF4464",
          "line": {
           "color": "purple",
           "width": 2
          },
          "size": 16
         },
         "mode": "markers",
         "name": "LVA",
         "text": "LVA",
         "type": "scatter",
         "visible": false,
         "x": [
          19797.965061000003
         ],
         "y": [
          68.9287840335871
         ]
        },
        {
         "marker": {
          "color": "#FF4464",
          "line": {
           "color": "purple",
           "width": 2
          },
          "size": 16
         },
         "mode": "markers",
         "name": "LTU",
         "text": "LTU",
         "type": "scatter",
         "visible": false,
         "x": [
          22823.934252000003
         ],
         "y": [
          74.36313056331218
         ]
        },
        {
         "marker": {
          "color": "#F2F2F2",
          "line": {
           "color": "purple",
           "width": 2
          },
          "size": 16
         },
         "mode": "markers",
         "name": "LUX",
         "text": "LUX",
         "type": "scatter",
         "visible": false,
         "x": [
          91814.036613
         ],
         "y": [
          99.64051266020631
         ]
        },
        {
         "marker": {
          "color": "#FF4464",
          "line": {
           "color": "purple",
           "width": 2
          },
          "size": 16
         },
         "mode": "markers",
         "name": "MLT",
         "text": "MLT",
         "type": "scatter",
         "visible": false,
         "x": [
          28585.575738
         ],
         "y": [
          98.79779945974472
         ]
        },
        {
         "marker": {
          "color": "#2B2B2B",
          "line": {
           "color": "purple",
           "width": 2
          },
          "size": 16
         },
         "mode": "markers",
         "name": "NLD",
         "text": "NLD",
         "type": "scatter",
         "visible": false,
         "x": [
          46599.227659
         ],
         "y": [
          77.15030662894047
         ]
        },
        {
         "marker": {
          "color": "#FF4464",
          "line": {
           "color": "purple",
           "width": 2
          },
          "size": 16
         },
         "mode": "markers",
         "name": "POL",
         "text": "POL",
         "type": "scatter",
         "visible": false,
         "x": [
          22576.179383000002
         ],
         "y": [
          79.81563481619995
         ]
        },
        {
         "marker": {
          "color": "#FF4464",
          "line": {
           "color": "purple",
           "width": 2
          },
          "size": 16
         },
         "mode": "markers",
         "name": "ROU",
         "text": "ROU",
         "type": "scatter",
         "visible": false,
         "x": [
          17907.570971
         ],
         "y": [
          58.96314278798829
         ]
        },
        {
         "marker": {
          "color": "#FF4464",
          "line": {
           "color": "purple",
           "width": 2
          },
          "size": 16
         },
         "mode": "markers",
         "name": "SVK",
         "text": "SVK",
         "type": "scatter",
         "visible": false,
         "x": [
          26051.137711000003
         ],
         "y": [
          61.75305232541968
         ]
        },
        {
         "marker": {
          "color": "#FF4464",
          "line": {
           "color": "purple",
           "width": 2
          },
          "size": 16
         },
         "mode": "markers",
         "name": "SVN",
         "text": "SVN",
         "type": "scatter",
         "visible": false,
         "x": [
          28931.421879
         ],
         "y": [
          82.91918452396341
         ]
        },
        {
         "marker": {
          "color": "#FF4464",
          "line": {
           "color": "purple",
           "width": 2
          },
          "size": 16
         },
         "mode": "markers",
         "name": "ESP",
         "text": "ESP",
         "type": "scatter",
         "visible": false,
         "x": [
          31872.363088
         ],
         "y": [
          95.4203912154612
         ]
        },
        {
         "marker": {
          "color": "#2B2B2B",
          "line": {
           "color": "purple",
           "width": 2
          },
          "size": 16
         },
         "mode": "markers",
         "name": "SWE",
         "text": "SWE",
         "type": "scatter",
         "visible": false,
         "x": [
          44503.736723
         ],
         "y": [
          82.84150614354732
         ]
        },
        {
         "marker": {
          "color": "#2B2B2B",
          "line": {
           "color": "purple",
           "width": 2
          },
          "size": 16
         },
         "mode": "markers",
         "name": "GBR",
         "text": "GBR",
         "type": "scatter",
         "visible": false,
         "x": [
          37146.173273
         ],
         "y": [
          83.62088657434455
         ]
        },
        {
         "marker": {
          "color": "#16a085",
          "line": {
           "color": "black",
           "width": 1
          },
          "size": 10,
          "symbol": "square"
         },
         "mode": "markers",
         "name": "K means centroïds",
         "opacity": 1,
         "type": "scatter",
         "visible": false,
         "x": [
          23744.650365076923,
          41835.89823936364,
          91814.036613
         ],
         "y": [
          74.82226056223776,
          82.19478720783425,
          99.64051266020631
         ]
        },
        {
         "marker": {
          "color": "#2B2B2B",
          "line": {
           "color": "purple",
           "width": 2
          },
          "size": 16
         },
         "mode": "markers",
         "name": "AUT",
         "text": "AUT",
         "type": "scatter",
         "visible": false,
         "x": [
          46477.655075
         ],
         "y": [
          89.55627541516114
         ]
        },
        {
         "marker": {
          "color": "#2B2B2B",
          "line": {
           "color": "purple",
           "width": 2
          },
          "size": 16
         },
         "mode": "markers",
         "name": "BEL",
         "text": "BEL",
         "type": "scatter",
         "visible": false,
         "x": [
          42440.26234
         ],
         "y": [
          72.68039612892473
         ]
        },
        {
         "marker": {
          "color": "#FF4464",
          "line": {
           "color": "purple",
           "width": 2
          },
          "size": 16
         },
         "mode": "markers",
         "name": "BGR",
         "text": "BGR",
         "type": "scatter",
         "visible": false,
         "x": [
          16241.600465000001
         ],
         "y": [
          56.22866176876809
         ]
        },
        {
         "marker": {
          "color": "#FF4464",
          "line": {
           "color": "purple",
           "width": 2
          },
          "size": 16
         },
         "mode": "markers",
         "name": "HRV",
         "text": "HRV",
         "type": "scatter",
         "visible": false,
         "x": [
          21094.81931
         ],
         "y": [
          69.22383245587449
         ]
        },
        {
         "marker": {
          "color": "#2B2B2B",
          "line": {
           "color": "purple",
           "width": 2
          },
          "size": 16
         },
         "mode": "markers",
         "name": "DNK",
         "text": "DNK",
         "type": "scatter",
         "visible": false,
         "x": [
          44808.549212
         ],
         "y": [
          111.10083727024526
         ]
        },
        {
         "marker": {
          "color": "#FF4464",
          "line": {
           "color": "purple",
           "width": 2
          },
          "size": 16
         },
         "mode": "markers",
         "name": "EST",
         "text": "EST",
         "type": "scatter",
         "visible": false,
         "x": [
          26141.083529
         ],
         "y": [
          63.385845487946504
         ]
        },
        {
         "marker": {
          "color": "#2B2B2B",
          "line": {
           "color": "purple",
           "width": 2
          },
          "size": 16
         },
         "mode": "markers",
         "name": "FIN",
         "text": "FIN",
         "type": "scatter",
         "visible": false,
         "x": [
          40872.854802
         ],
         "y": [
          79.61095054178955
         ]
        },
        {
         "marker": {
          "color": "#2B2B2B",
          "line": {
           "color": "purple",
           "width": 2
          },
          "size": 16
         },
         "mode": "markers",
         "name": "FRA",
         "text": "FRA",
         "type": "scatter",
         "visible": false,
         "x": [
          37684.198067000005
         ],
         "y": [
          88.95938098119517
         ]
        },
        {
         "marker": {
          "color": "#2B2B2B",
          "line": {
           "color": "purple",
           "width": 2
          },
          "size": 16
         },
         "mode": "markers",
         "name": "DEU",
         "text": "DEU",
         "type": "scatter",
         "visible": false,
         "x": [
          43359.541048
         ],
         "y": [
          90.18037319536549
         ]
        },
        {
         "marker": {
          "color": "#FF4464",
          "line": {
           "color": "purple",
           "width": 2
          },
          "size": 16
         },
         "mode": "markers",
         "name": "GRC",
         "text": "GRC",
         "type": "scatter",
         "visible": false,
         "x": [
          25284.405781999998
         ],
         "y": [
          78.29408376348476
         ]
        },
        {
         "marker": {
          "color": "#FF4464",
          "line": {
           "color": "purple",
           "width": 2
          },
          "size": 16
         },
         "mode": "markers",
         "name": "HUN",
         "text": "HUN",
         "type": "scatter",
         "visible": false,
         "x": [
          23148.127881
         ],
         "y": [
          72.29212866589306
         ]
        },
        {
         "marker": {
          "color": "#2B2B2B",
          "line": {
           "color": "purple",
           "width": 2
          },
          "size": 16
         },
         "mode": "markers",
         "name": "IRL",
         "text": "IRL",
         "type": "scatter",
         "visible": false,
         "x": [
          46277.631708999994
         ],
         "y": [
          81.92993813635972
         ]
        },
        {
         "marker": {
          "color": "#2B2B2B",
          "line": {
           "color": "purple",
           "width": 2
          },
          "size": 16
         },
         "mode": "markers",
         "name": "ITA",
         "text": "ITA",
         "type": "scatter",
         "visible": false,
         "x": [
          36002.908697000006
         ],
         "y": [
          89.04908857525447
         ]
        },
        {
         "marker": {
          "color": "#FF4464",
          "line": {
           "color": "purple",
           "width": 2
          },
          "size": 16
         },
         "mode": "markers",
         "name": "LVA",
         "text": "LVA",
         "type": "scatter",
         "visible": false,
         "x": [
          21298.207498
         ],
         "y": [
          64.55358020513367
         ]
        },
        {
         "marker": {
          "color": "#FF4464",
          "line": {
           "color": "purple",
           "width": 2
          },
          "size": 16
         },
         "mode": "markers",
         "name": "LTU",
         "text": "LTU",
         "type": "scatter",
         "visible": false,
         "x": [
          24645.651236
         ],
         "y": [
          76.24080241280501
         ]
        },
        {
         "marker": {
          "color": "#F2F2F2",
          "line": {
           "color": "purple",
           "width": 2
          },
          "size": 16
         },
         "mode": "markers",
         "name": "LUX",
         "text": "LUX",
         "type": "scatter",
         "visible": false,
         "x": [
          91526.720705
         ],
         "y": [
          97.1700647609902
         ]
        },
        {
         "marker": {
          "color": "#FF4464",
          "line": {
           "color": "purple",
           "width": 2
          },
          "size": 16
         },
         "mode": "markers",
         "name": "MLT",
         "text": "MLT",
         "type": "scatter",
         "visible": false,
         "x": [
          29434.899196
         ],
         "y": [
          95.79782826323328
         ]
        },
        {
         "marker": {
          "color": "#2B2B2B",
          "line": {
           "color": "purple",
           "width": 2
          },
          "size": 16
         },
         "mode": "markers",
         "name": "NLD",
         "text": "NLD",
         "type": "scatter",
         "visible": false,
         "x": [
          47271.968226
         ],
         "y": [
          91.57012155395692
         ]
        },
        {
         "marker": {
          "color": "#FF4464",
          "line": {
           "color": "purple",
           "width": 2
          },
          "size": 16
         },
         "mode": "markers",
         "name": "POL",
         "text": "POL",
         "type": "scatter",
         "visible": false,
         "x": [
          23542.002955
         ],
         "y": [
          77.265029190996
         ]
        },
        {
         "marker": {
          "color": "#FF4464",
          "line": {
           "color": "purple",
           "width": 2
          },
          "size": 16
         },
         "mode": "markers",
         "name": "ROU",
         "text": "ROU",
         "type": "scatter",
         "visible": false,
         "x": [
          18929.530638999997
         ],
         "y": [
          58.61864224097179
         ]
        },
        {
         "marker": {
          "color": "#FF4464",
          "line": {
           "color": "purple",
           "width": 2
          },
          "size": 16
         },
         "mode": "markers",
         "name": "SVK",
         "text": "SVK",
         "type": "scatter",
         "visible": false,
         "x": [
          26940.079741
         ],
         "y": [
          51.625347268353
         ]
        },
        {
         "marker": {
          "color": "#FF4464",
          "line": {
           "color": "purple",
           "width": 2
          },
          "size": 16
         },
         "mode": "markers",
         "name": "SVN",
         "text": "SVN",
         "type": "scatter",
         "visible": false,
         "x": [
          29048.331295
         ],
         "y": [
          79.29959484231543
         ]
        },
        {
         "marker": {
          "color": "#FF4464",
          "line": {
           "color": "purple",
           "width": 2
          },
          "size": 16
         },
         "mode": "markers",
         "name": "ESP",
         "text": "ESP",
         "type": "scatter",
         "visible": false,
         "x": [
          31724.631513
         ],
         "y": [
          95.83875883873327
         ]
        },
        {
         "marker": {
          "color": "#2B2B2B",
          "line": {
           "color": "purple",
           "width": 2
          },
          "size": 16
         },
         "mode": "markers",
         "name": "SWE",
         "text": "SWE",
         "type": "scatter",
         "visible": false,
         "x": [
          45304.291021
         ],
         "y": [
          80.88281430012375
         ]
        },
        {
         "marker": {
          "color": "#2B2B2B",
          "line": {
           "color": "purple",
           "width": 2
          },
          "size": 16
         },
         "mode": "markers",
         "name": "GBR",
         "text": "GBR",
         "type": "scatter",
         "visible": false,
         "x": [
          38309.028313
         ],
         "y": [
          83.67576402130507
         ]
        },
        {
         "marker": {
          "color": "#16a085",
          "line": {
           "color": "black",
           "width": 1
          },
          "size": 10,
          "symbol": "square"
         },
         "mode": "markers",
         "name": "K means centroïds",
         "opacity": 1,
         "type": "scatter",
         "visible": false,
         "x": [
          24421.02854153846,
          42618.98986454545,
          91526.720705
         ],
         "y": [
          72.20493349265449,
          87.19963091997103,
          97.1700647609902
         ]
        },
        {
         "marker": {
          "color": "#2B2B2B",
          "line": {
           "color": "purple",
           "width": 2
          },
          "size": 16
         },
         "mode": "markers",
         "name": "AUT",
         "text": "AUT",
         "type": "scatter",
         "visible": false,
         "x": [
          47936.677963
         ],
         "y": [
          92.76064676887691
         ]
        },
        {
         "marker": {
          "color": "#2B2B2B",
          "line": {
           "color": "purple",
           "width": 2
          },
          "size": 16
         },
         "mode": "markers",
         "name": "BEL",
         "text": "BEL",
         "type": "scatter",
         "visible": false,
         "x": [
          43806.183952
         ],
         "y": [
          70.38982134452819
         ]
        },
        {
         "marker": {
          "color": "#FF4464",
          "line": {
           "color": "purple",
           "width": 2
          },
          "size": 16
         },
         "mode": "markers",
         "name": "BGR",
         "text": "BGR",
         "type": "scatter",
         "visible": false,
         "x": [
          16581.738181
         ],
         "y": [
          53.400675841149884
         ]
        },
        {
         "marker": {
          "color": "#FF4464",
          "line": {
           "color": "purple",
           "width": 2
          },
          "size": 16
         },
         "mode": "markers",
         "name": "HRV",
         "text": "HRV",
         "type": "scatter",
         "visible": false,
         "x": [
          21736.211938
         ],
         "y": [
          66.8678175752087
         ]
        },
        {
         "marker": {
          "color": "#2B2B2B",
          "line": {
           "color": "purple",
           "width": 2
          },
          "size": 16
         },
         "mode": "markers",
         "name": "DNK",
         "text": "DNK",
         "type": "scatter",
         "visible": false,
         "x": [
          46742.939663
         ],
         "y": [
          109.41293978468676
         ]
        },
        {
         "marker": {
          "color": "#FF4464",
          "line": {
           "color": "purple",
           "width": 2
          },
          "size": 16
         },
         "mode": "markers",
         "name": "EST",
         "text": "EST",
         "type": "scatter",
         "visible": false,
         "x": [
          27596.458608999998
         ],
         "y": [
          60.59807267829847
         ]
        },
        {
         "marker": {
          "color": "#2B2B2B",
          "line": {
           "color": "purple",
           "width": 2
          },
          "size": 16
         },
         "mode": "markers",
         "name": "FIN",
         "text": "FIN",
         "type": "scatter",
         "visible": false,
         "x": [
          41492.918416
         ],
         "y": [
          78.68539735388562
         ]
        },
        {
         "marker": {
          "color": "#2B2B2B",
          "line": {
           "color": "purple",
           "width": 2
          },
          "size": 16
         },
         "mode": "markers",
         "name": "FRA",
         "text": "FRA",
         "type": "scatter",
         "visible": false,
         "x": [
          39528.473644
         ],
         "y": [
          86.23429600604265
         ]
        },
        {
         "marker": {
          "color": "#2B2B2B",
          "line": {
           "color": "purple",
           "width": 2
          },
          "size": 16
         },
         "mode": "markers",
         "name": "DEU",
         "text": "DEU",
         "type": "scatter",
         "visible": false,
         "x": [
          44993.667838
         ],
         "y": [
          89.61331729400665
         ]
        },
        {
         "marker": {
          "color": "#FF4464",
          "line": {
           "color": "purple",
           "width": 2
          },
          "size": 16
         },
         "mode": "markers",
         "name": "GRC",
         "text": "GRC",
         "type": "scatter",
         "visible": false,
         "x": [
          26097.797516
         ],
         "y": [
          80.60987230105742
         ]
        },
        {
         "marker": {
          "color": "#FF4464",
          "line": {
           "color": "purple",
           "width": 2
          },
          "size": 16
         },
         "mode": "markers",
         "name": "HUN",
         "text": "HUN",
         "type": "scatter",
         "visible": false,
         "x": [
          24498.179083000003
         ],
         "y": [
          65.80011016472432
         ]
        },
        {
         "marker": {
          "color": "#2B2B2B",
          "line": {
           "color": "purple",
           "width": 2
          },
          "size": 16
         },
         "mode": "markers",
         "name": "IRL",
         "text": "IRL",
         "type": "scatter",
         "visible": false,
         "x": [
          47936.388703
         ],
         "y": [
          86.33819538854247
         ]
        },
        {
         "marker": {
          "color": "#2B2B2B",
          "line": {
           "color": "purple",
           "width": 2
          },
          "size": 16
         },
         "mode": "markers",
         "name": "ITA",
         "text": "ITA",
         "type": "scatter",
         "visible": false,
         "x": [
          36067.707344
         ],
         "y": [
          86.20223560513557
         ]
        },
        {
         "marker": {
          "color": "#FF4464",
          "line": {
           "color": "purple",
           "width": 2
          },
          "size": 16
         },
         "mode": "markers",
         "name": "LVA",
         "text": "LVA",
         "type": "scatter",
         "visible": false,
         "x": [
          22690.891022
         ],
         "y": [
          62.25834743616666
         ]
        },
        {
         "marker": {
          "color": "#FF4464",
          "line": {
           "color": "purple",
           "width": 2
          },
          "size": 16
         },
         "mode": "markers",
         "name": "LTU",
         "text": "LTU",
         "type": "scatter",
         "visible": false,
         "x": [
          26679.905255
         ],
         "y": [
          80.08331356486832
         ]
        },
        {
         "marker": {
          "color": "#F2F2F2",
          "line": {
           "color": "purple",
           "width": 2
          },
          "size": 16
         },
         "mode": "markers",
         "name": "LUX",
         "text": "LUX",
         "type": "scatter",
         "visible": false,
         "x": [
          95246.113893
         ],
         "y": [
          96.8272322866682
         ]
        },
        {
         "marker": {
          "color": "#FF4464",
          "line": {
           "color": "purple",
           "width": 2
          },
          "size": 16
         },
         "mode": "markers",
         "name": "MLT",
         "text": "MLT",
         "type": "scatter",
         "visible": false,
         "x": [
          31072.386018
         ],
         "y": [
          97.03935300786492
         ]
        },
        {
         "marker": {
          "color": "#2B2B2B",
          "line": {
           "color": "purple",
           "width": 2
          },
          "size": 16
         },
         "mode": "markers",
         "name": "NLD",
         "text": "NLD",
         "type": "scatter",
         "visible": false,
         "x": [
          49242.786711
         ],
         "y": [
          91.3014781363652
         ]
        },
        {
         "marker": {
          "color": "#FF4464",
          "line": {
           "color": "purple",
           "width": 2
          },
          "size": 16
         },
         "mode": "markers",
         "name": "POL",
         "text": "POL",
         "type": "scatter",
         "visible": false,
         "x": [
          24422.763907
         ],
         "y": [
          77.97693979131974
         ]
        },
        {
         "marker": {
          "color": "#FF4464",
          "line": {
           "color": "purple",
           "width": 2
          },
          "size": 16
         },
         "mode": "markers",
         "name": "ROU",
         "text": "ROU",
         "type": "scatter",
         "visible": false,
         "x": [
          19792.281449000002
         ],
         "y": [
          54.195603872393285
         ]
        },
        {
         "marker": {
          "color": "#FF4464",
          "line": {
           "color": "purple",
           "width": 2
          },
          "size": 16
         },
         "mode": "markers",
         "name": "SVK",
         "text": "SVK",
         "type": "scatter",
         "visible": false,
         "x": [
          27969.200116000004
         ],
         "y": [
          54.88985435891977
         ]
        },
        {
         "marker": {
          "color": "#FF4464",
          "line": {
           "color": "purple",
           "width": 2
          },
          "size": 16
         },
         "mode": "markers",
         "name": "SVN",
         "text": "SVN",
         "type": "scatter",
         "visible": false,
         "x": [
          29979.62248
         ],
         "y": [
          72.37151748500719
         ]
        },
        {
         "marker": {
          "color": "#FF4464",
          "line": {
           "color": "purple",
           "width": 2
          },
          "size": 16
         },
         "mode": "markers",
         "name": "ESP",
         "text": "ESP",
         "type": "scatter",
         "visible": false,
         "x": [
          32452.659676
         ],
         "y": [
          94.76139410531911
         ]
        },
        {
         "marker": {
          "color": "#2B2B2B",
          "line": {
           "color": "purple",
           "width": 2
          },
          "size": 16
         },
         "mode": "markers",
         "name": "SWE",
         "text": "SWE",
         "type": "scatter",
         "visible": false,
         "x": [
          46138.356247
         ],
         "y": [
          83.50867888537469
         ]
        },
        {
         "marker": {
          "color": "#2B2B2B",
          "line": {
           "color": "purple",
           "width": 2
          },
          "size": 16
         },
         "mode": "markers",
         "name": "GBR",
         "text": "GBR",
         "type": "scatter",
         "visible": false,
         "x": [
          39984.885036
         ],
         "y": [
          82.23099721459907
         ]
        },
        {
         "marker": {
          "color": "#16a085",
          "line": {
           "color": "black",
           "width": 1
          },
          "size": 10,
          "symbol": "square"
         },
         "mode": "markers",
         "name": "K means centroïds",
         "opacity": 1,
         "type": "scatter",
         "visible": false,
         "x": [
          25505.39194230769,
          43988.271410636364,
          95246.113893
         ],
         "y": [
          70.83483632171522,
          86.97072761654944,
          96.8272322866682
         ]
        }
       ],
       "layout": {
        "autosize": true,
        "font": {
         "color": "#F2F2F2",
         "family": "Courier",
         "size": 10
        },
        "paper_bgcolor": "rgba(0, 0, 0, 0)",
        "plot_bgcolor": "rgba(0, 0, 0, 0)",
        "sliders": [
         {
          "active": 2,
          "currentvalue": {
           "prefix": "year: "
          },
          "name": "date",
          "pad": {
           "t": 50
          },
          "steps": [
           {
            "args": [
             "visible",
             [
              true,
              true,
              true,
              true,
              true,
              true,
              true,
              true,
              true,
              true,
              true,
              true,
              true,
              true,
              true,
              true,
              true,
              true,
              true,
              true,
              true,
              true,
              true,
              true,
              true,
              true,
              false,
              false,
              false,
              false,
              false,
              false,
              false,
              false,
              false,
              false,
              false,
              false,
              false,
              false,
              false,
              false,
              false,
              false,
              false,
              false,
              false,
              false,
              false,
              false,
              false,
              false,
              false,
              false,
              false,
              false,
              false,
              false,
              false,
              false,
              false,
              false,
              false,
              false,
              false,
              false,
              false,
              false,
              false,
              false,
              false,
              false,
              false,
              false,
              false,
              false,
              false,
              false,
              false,
              false,
              false,
              false,
              false,
              false,
              false,
              false,
              false,
              false,
              false,
              false,
              false,
              false,
              false,
              false,
              false,
              false,
              false,
              false,
              false,
              false,
              false,
              false,
              false,
              false,
              false,
              false,
              false,
              false,
              false,
              false,
              false,
              false,
              false,
              false,
              false,
              false,
              false,
              false,
              false,
              false,
              false,
              false,
              false,
              false,
              false,
              false,
              false,
              false,
              false,
              false,
              false,
              false,
              false,
              false,
              false,
              false,
              false,
              false,
              false,
              false,
              false,
              false,
              false,
              false,
              false,
              false,
              false,
              false,
              false,
              false,
              false,
              false,
              false,
              false,
              false,
              false,
              false,
              false,
              false,
              false,
              false,
              false,
              false,
              false,
              false,
              false,
              false,
              false,
              false,
              false,
              false,
              false,
              false,
              false,
              false,
              false,
              false,
              false,
              false,
              false,
              false,
              false,
              false,
              false,
              false,
              false,
              false,
              false,
              false,
              false,
              false,
              false,
              false,
              false,
              false,
              false,
              false,
              false,
              false,
              false,
              false,
              false,
              false,
              false,
              false,
              false,
              false,
              false,
              false,
              false,
              false,
              false,
              false,
              false,
              false,
              false,
              false,
              false,
              false,
              false,
              false,
              false,
              false,
              false,
              false,
              false,
              false,
              false,
              false,
              false,
              false,
              false,
              false,
              false,
              false,
              false,
              false,
              false,
              false,
              false,
              false,
              false,
              false,
              false,
              false,
              false,
              false,
              false,
              false,
              false,
              false,
              false,
              false,
              false,
              false,
              false,
              false,
              false,
              false,
              false
             ]
            ],
            "label": "2004",
            "method": "restyle"
           },
           {
            "args": [
             "visible",
             [
              false,
              false,
              false,
              false,
              false,
              false,
              false,
              false,
              false,
              false,
              false,
              false,
              false,
              false,
              false,
              false,
              false,
              false,
              false,
              false,
              false,
              false,
              false,
              false,
              false,
              false,
              true,
              true,
              true,
              true,
              true,
              true,
              true,
              true,
              true,
              true,
              true,
              true,
              true,
              true,
              true,
              true,
              true,
              true,
              true,
              true,
              true,
              true,
              true,
              true,
              true,
              true,
              false,
              false,
              false,
              false,
              false,
              false,
              false,
              false,
              false,
              false,
              false,
              false,
              false,
              false,
              false,
              false,
              false,
              false,
              false,
              false,
              false,
              false,
              false,
              false,
              false,
              false,
              false,
              false,
              false,
              false,
              false,
              false,
              false,
              false,
              false,
              false,
              false,
              false,
              false,
              false,
              false,
              false,
              false,
              false,
              false,
              false,
              false,
              false,
              false,
              false,
              false,
              false,
              false,
              false,
              false,
              false,
              false,
              false,
              false,
              false,
              false,
              false,
              false,
              false,
              false,
              false,
              false,
              false,
              false,
              false,
              false,
              false,
              false,
              false,
              false,
              false,
              false,
              false,
              false,
              false,
              false,
              false,
              false,
              false,
              false,
              false,
              false,
              false,
              false,
              false,
              false,
              false,
              false,
              false,
              false,
              false,
              false,
              false,
              false,
              false,
              false,
              false,
              false,
              false,
              false,
              false,
              false,
              false,
              false,
              false,
              false,
              false,
              false,
              false,
              false,
              false,
              false,
              false,
              false,
              false,
              false,
              false,
              false,
              false,
              false,
              false,
              false,
              false,
              false,
              false,
              false,
              false,
              false,
              false,
              false,
              false,
              false,
              false,
              false,
              false,
              false,
              false,
              false,
              false,
              false,
              false,
              false,
              false,
              false,
              false,
              false,
              false,
              false,
              false,
              false,
              false,
              false,
              false,
              false,
              false,
              false,
              false,
              false,
              false,
              false,
              false,
              false,
              false,
              false,
              false,
              false,
              false,
              false,
              false,
              false,
              false,
              false,
              false,
              false,
              false,
              false,
              false,
              false,
              false,
              false,
              false,
              false,
              false,
              false,
              false,
              false,
              false,
              false,
              false,
              false,
              false,
              false,
              false,
              false,
              false,
              false,
              false,
              false,
              false,
              false,
              false,
              false,
              false
             ]
            ],
            "label": "2005",
            "method": "restyle"
           },
           {
            "args": [
             "visible",
             [
              false,
              false,
              false,
              false,
              false,
              false,
              false,
              false,
              false,
              false,
              false,
              false,
              false,
              false,
              false,
              false,
              false,
              false,
              false,
              false,
              false,
              false,
              false,
              false,
              false,
              false,
              false,
              false,
              false,
              false,
              false,
              false,
              false,
              false,
              false,
              false,
              false,
              false,
              false,
              false,
              false,
              false,
              false,
              false,
              false,
              false,
              false,
              false,
              false,
              false,
              false,
              false,
              true,
              true,
              true,
              true,
              true,
              true,
              true,
              true,
              true,
              true,
              true,
              true,
              true,
              true,
              true,
              true,
              true,
              true,
              true,
              true,
              true,
              true,
              true,
              true,
              true,
              true,
              false,
              false,
              false,
              false,
              false,
              false,
              false,
              false,
              false,
              false,
              false,
              false,
              false,
              false,
              false,
              false,
              false,
              false,
              false,
              false,
              false,
              false,
              false,
              false,
              false,
              false,
              false,
              false,
              false,
              false,
              false,
              false,
              false,
              false,
              false,
              false,
              false,
              false,
              false,
              false,
              false,
              false,
              false,
              false,
              false,
              false,
              false,
              false,
              false,
              false,
              false,
              false,
              false,
              false,
              false,
              false,
              false,
              false,
              false,
              false,
              false,
              false,
              false,
              false,
              false,
              false,
              false,
              false,
              false,
              false,
              false,
              false,
              false,
              false,
              false,
              false,
              false,
              false,
              false,
              false,
              false,
              false,
              false,
              false,
              false,
              false,
              false,
              false,
              false,
              false,
              false,
              false,
              false,
              false,
              false,
              false,
              false,
              false,
              false,
              false,
              false,
              false,
              false,
              false,
              false,
              false,
              false,
              false,
              false,
              false,
              false,
              false,
              false,
              false,
              false,
              false,
              false,
              false,
              false,
              false,
              false,
              false,
              false,
              false,
              false,
              false,
              false,
              false,
              false,
              false,
              false,
              false,
              false,
              false,
              false,
              false,
              false,
              false,
              false,
              false,
              false,
              false,
              false,
              false,
              false,
              false,
              false,
              false,
              false,
              false,
              false,
              false,
              false,
              false,
              false,
              false,
              false,
              false,
              false,
              false,
              false,
              false,
              false,
              false,
              false,
              false,
              false,
              false,
              false,
              false,
              false,
              false,
              false,
              false,
              false,
              false,
              false,
              false,
              false,
              false,
              false,
              false
             ]
            ],
            "label": "2006",
            "method": "restyle"
           },
           {
            "args": [
             "visible",
             [
              false,
              false,
              false,
              false,
              false,
              false,
              false,
              false,
              false,
              false,
              false,
              false,
              false,
              false,
              false,
              false,
              false,
              false,
              false,
              false,
              false,
              false,
              false,
              false,
              false,
              false,
              false,
              false,
              false,
              false,
              false,
              false,
              false,
              false,
              false,
              false,
              false,
              false,
              false,
              false,
              false,
              false,
              false,
              false,
              false,
              false,
              false,
              false,
              false,
              false,
              false,
              false,
              false,
              false,
              false,
              false,
              false,
              false,
              false,
              false,
              false,
              false,
              false,
              false,
              false,
              false,
              false,
              false,
              false,
              false,
              false,
              false,
              false,
              false,
              false,
              false,
              false,
              false,
              true,
              true,
              true,
              true,
              true,
              true,
              true,
              true,
              true,
              true,
              true,
              true,
              true,
              true,
              true,
              true,
              true,
              true,
              true,
              true,
              true,
              true,
              true,
              true,
              true,
              true,
              false,
              false,
              false,
              false,
              false,
              false,
              false,
              false,
              false,
              false,
              false,
              false,
              false,
              false,
              false,
              false,
              false,
              false,
              false,
              false,
              false,
              false,
              false,
              false,
              false,
              false,
              false,
              false,
              false,
              false,
              false,
              false,
              false,
              false,
              false,
              false,
              false,
              false,
              false,
              false,
              false,
              false,
              false,
              false,
              false,
              false,
              false,
              false,
              false,
              false,
              false,
              false,
              false,
              false,
              false,
              false,
              false,
              false,
              false,
              false,
              false,
              false,
              false,
              false,
              false,
              false,
              false,
              false,
              false,
              false,
              false,
              false,
              false,
              false,
              false,
              false,
              false,
              false,
              false,
              false,
              false,
              false,
              false,
              false,
              false,
              false,
              false,
              false,
              false,
              false,
              false,
              false,
              false,
              false,
              false,
              false,
              false,
              false,
              false,
              false,
              false,
              false,
              false,
              false,
              false,
              false,
              false,
              false,
              false,
              false,
              false,
              false,
              false,
              false,
              false,
              false,
              false,
              false,
              false,
              false,
              false,
              false,
              false,
              false,
              false,
              false,
              false,
              false,
              false,
              false,
              false,
              false,
              false,
              false,
              false,
              false,
              false,
              false,
              false,
              false,
              false,
              false,
              false,
              false,
              false,
              false,
              false,
              false,
              false,
              false,
              false,
              false,
              false,
              false,
              false,
              false
             ]
            ],
            "label": "2007",
            "method": "restyle"
           },
           {
            "args": [
             "visible",
             [
              false,
              false,
              false,
              false,
              false,
              false,
              false,
              false,
              false,
              false,
              false,
              false,
              false,
              false,
              false,
              false,
              false,
              false,
              false,
              false,
              false,
              false,
              false,
              false,
              false,
              false,
              false,
              false,
              false,
              false,
              false,
              false,
              false,
              false,
              false,
              false,
              false,
              false,
              false,
              false,
              false,
              false,
              false,
              false,
              false,
              false,
              false,
              false,
              false,
              false,
              false,
              false,
              false,
              false,
              false,
              false,
              false,
              false,
              false,
              false,
              false,
              false,
              false,
              false,
              false,
              false,
              false,
              false,
              false,
              false,
              false,
              false,
              false,
              false,
              false,
              false,
              false,
              false,
              false,
              false,
              false,
              false,
              false,
              false,
              false,
              false,
              false,
              false,
              false,
              false,
              false,
              false,
              false,
              false,
              false,
              false,
              false,
              false,
              false,
              false,
              false,
              false,
              false,
              false,
              true,
              true,
              true,
              true,
              true,
              true,
              true,
              true,
              true,
              true,
              true,
              true,
              true,
              true,
              true,
              true,
              true,
              true,
              true,
              true,
              true,
              true,
              true,
              true,
              true,
              true,
              false,
              false,
              false,
              false,
              false,
              false,
              false,
              false,
              false,
              false,
              false,
              false,
              false,
              false,
              false,
              false,
              false,
              false,
              false,
              false,
              false,
              false,
              false,
              false,
              false,
              false,
              false,
              false,
              false,
              false,
              false,
              false,
              false,
              false,
              false,
              false,
              false,
              false,
              false,
              false,
              false,
              false,
              false,
              false,
              false,
              false,
              false,
              false,
              false,
              false,
              false,
              false,
              false,
              false,
              false,
              false,
              false,
              false,
              false,
              false,
              false,
              false,
              false,
              false,
              false,
              false,
              false,
              false,
              false,
              false,
              false,
              false,
              false,
              false,
              false,
              false,
              false,
              false,
              false,
              false,
              false,
              false,
              false,
              false,
              false,
              false,
              false,
              false,
              false,
              false,
              false,
              false,
              false,
              false,
              false,
              false,
              false,
              false,
              false,
              false,
              false,
              false,
              false,
              false,
              false,
              false,
              false,
              false,
              false,
              false,
              false,
              false,
              false,
              false,
              false,
              false,
              false,
              false,
              false,
              false,
              false,
              false,
              false,
              false,
              false,
              false,
              false,
              false,
              false,
              false
             ]
            ],
            "label": "2008",
            "method": "restyle"
           },
           {
            "args": [
             "visible",
             [
              false,
              false,
              false,
              false,
              false,
              false,
              false,
              false,
              false,
              false,
              false,
              false,
              false,
              false,
              false,
              false,
              false,
              false,
              false,
              false,
              false,
              false,
              false,
              false,
              false,
              false,
              false,
              false,
              false,
              false,
              false,
              false,
              false,
              false,
              false,
              false,
              false,
              false,
              false,
              false,
              false,
              false,
              false,
              false,
              false,
              false,
              false,
              false,
              false,
              false,
              false,
              false,
              false,
              false,
              false,
              false,
              false,
              false,
              false,
              false,
              false,
              false,
              false,
              false,
              false,
              false,
              false,
              false,
              false,
              false,
              false,
              false,
              false,
              false,
              false,
              false,
              false,
              false,
              false,
              false,
              false,
              false,
              false,
              false,
              false,
              false,
              false,
              false,
              false,
              false,
              false,
              false,
              false,
              false,
              false,
              false,
              false,
              false,
              false,
              false,
              false,
              false,
              false,
              false,
              false,
              false,
              false,
              false,
              false,
              false,
              false,
              false,
              false,
              false,
              false,
              false,
              false,
              false,
              false,
              false,
              false,
              false,
              false,
              false,
              false,
              false,
              false,
              false,
              false,
              false,
              true,
              true,
              true,
              true,
              true,
              true,
              true,
              true,
              true,
              true,
              true,
              true,
              true,
              true,
              true,
              true,
              true,
              true,
              true,
              true,
              true,
              true,
              true,
              true,
              true,
              true,
              false,
              false,
              false,
              false,
              false,
              false,
              false,
              false,
              false,
              false,
              false,
              false,
              false,
              false,
              false,
              false,
              false,
              false,
              false,
              false,
              false,
              false,
              false,
              false,
              false,
              false,
              false,
              false,
              false,
              false,
              false,
              false,
              false,
              false,
              false,
              false,
              false,
              false,
              false,
              false,
              false,
              false,
              false,
              false,
              false,
              false,
              false,
              false,
              false,
              false,
              false,
              false,
              false,
              false,
              false,
              false,
              false,
              false,
              false,
              false,
              false,
              false,
              false,
              false,
              false,
              false,
              false,
              false,
              false,
              false,
              false,
              false,
              false,
              false,
              false,
              false,
              false,
              false,
              false,
              false,
              false,
              false,
              false,
              false,
              false,
              false,
              false,
              false,
              false,
              false,
              false,
              false,
              false,
              false,
              false,
              false,
              false,
              false,
              false,
              false,
              false,
              false,
              false,
              false
             ]
            ],
            "label": "2009",
            "method": "restyle"
           },
           {
            "args": [
             "visible",
             [
              false,
              false,
              false,
              false,
              false,
              false,
              false,
              false,
              false,
              false,
              false,
              false,
              false,
              false,
              false,
              false,
              false,
              false,
              false,
              false,
              false,
              false,
              false,
              false,
              false,
              false,
              false,
              false,
              false,
              false,
              false,
              false,
              false,
              false,
              false,
              false,
              false,
              false,
              false,
              false,
              false,
              false,
              false,
              false,
              false,
              false,
              false,
              false,
              false,
              false,
              false,
              false,
              false,
              false,
              false,
              false,
              false,
              false,
              false,
              false,
              false,
              false,
              false,
              false,
              false,
              false,
              false,
              false,
              false,
              false,
              false,
              false,
              false,
              false,
              false,
              false,
              false,
              false,
              false,
              false,
              false,
              false,
              false,
              false,
              false,
              false,
              false,
              false,
              false,
              false,
              false,
              false,
              false,
              false,
              false,
              false,
              false,
              false,
              false,
              false,
              false,
              false,
              false,
              false,
              false,
              false,
              false,
              false,
              false,
              false,
              false,
              false,
              false,
              false,
              false,
              false,
              false,
              false,
              false,
              false,
              false,
              false,
              false,
              false,
              false,
              false,
              false,
              false,
              false,
              false,
              false,
              false,
              false,
              false,
              false,
              false,
              false,
              false,
              false,
              false,
              false,
              false,
              false,
              false,
              false,
              false,
              false,
              false,
              false,
              false,
              false,
              false,
              false,
              false,
              false,
              false,
              true,
              true,
              true,
              true,
              true,
              true,
              true,
              true,
              true,
              true,
              true,
              true,
              true,
              true,
              true,
              true,
              true,
              true,
              true,
              true,
              true,
              true,
              true,
              true,
              true,
              true,
              false,
              false,
              false,
              false,
              false,
              false,
              false,
              false,
              false,
              false,
              false,
              false,
              false,
              false,
              false,
              false,
              false,
              false,
              false,
              false,
              false,
              false,
              false,
              false,
              false,
              false,
              false,
              false,
              false,
              false,
              false,
              false,
              false,
              false,
              false,
              false,
              false,
              false,
              false,
              false,
              false,
              false,
              false,
              false,
              false,
              false,
              false,
              false,
              false,
              false,
              false,
              false,
              false,
              false,
              false,
              false,
              false,
              false,
              false,
              false,
              false,
              false,
              false,
              false,
              false,
              false,
              false,
              false,
              false,
              false,
              false,
              false,
              false,
              false,
              false,
              false,
              false,
              false
             ]
            ],
            "label": "2010",
            "method": "restyle"
           },
           {
            "args": [
             "visible",
             [
              false,
              false,
              false,
              false,
              false,
              false,
              false,
              false,
              false,
              false,
              false,
              false,
              false,
              false,
              false,
              false,
              false,
              false,
              false,
              false,
              false,
              false,
              false,
              false,
              false,
              false,
              false,
              false,
              false,
              false,
              false,
              false,
              false,
              false,
              false,
              false,
              false,
              false,
              false,
              false,
              false,
              false,
              false,
              false,
              false,
              false,
              false,
              false,
              false,
              false,
              false,
              false,
              false,
              false,
              false,
              false,
              false,
              false,
              false,
              false,
              false,
              false,
              false,
              false,
              false,
              false,
              false,
              false,
              false,
              false,
              false,
              false,
              false,
              false,
              false,
              false,
              false,
              false,
              false,
              false,
              false,
              false,
              false,
              false,
              false,
              false,
              false,
              false,
              false,
              false,
              false,
              false,
              false,
              false,
              false,
              false,
              false,
              false,
              false,
              false,
              false,
              false,
              false,
              false,
              false,
              false,
              false,
              false,
              false,
              false,
              false,
              false,
              false,
              false,
              false,
              false,
              false,
              false,
              false,
              false,
              false,
              false,
              false,
              false,
              false,
              false,
              false,
              false,
              false,
              false,
              false,
              false,
              false,
              false,
              false,
              false,
              false,
              false,
              false,
              false,
              false,
              false,
              false,
              false,
              false,
              false,
              false,
              false,
              false,
              false,
              false,
              false,
              false,
              false,
              false,
              false,
              false,
              false,
              false,
              false,
              false,
              false,
              false,
              false,
              false,
              false,
              false,
              false,
              false,
              false,
              false,
              false,
              false,
              false,
              false,
              false,
              false,
              false,
              false,
              false,
              false,
              false,
              true,
              true,
              true,
              true,
              true,
              true,
              true,
              true,
              true,
              true,
              true,
              true,
              true,
              true,
              true,
              true,
              true,
              true,
              true,
              true,
              true,
              true,
              true,
              true,
              true,
              true,
              false,
              false,
              false,
              false,
              false,
              false,
              false,
              false,
              false,
              false,
              false,
              false,
              false,
              false,
              false,
              false,
              false,
              false,
              false,
              false,
              false,
              false,
              false,
              false,
              false,
              false,
              false,
              false,
              false,
              false,
              false,
              false,
              false,
              false,
              false,
              false,
              false,
              false,
              false,
              false,
              false,
              false,
              false,
              false,
              false,
              false,
              false,
              false,
              false,
              false,
              false,
              false
             ]
            ],
            "label": "2011",
            "method": "restyle"
           },
           {
            "args": [
             "visible",
             [
              false,
              false,
              false,
              false,
              false,
              false,
              false,
              false,
              false,
              false,
              false,
              false,
              false,
              false,
              false,
              false,
              false,
              false,
              false,
              false,
              false,
              false,
              false,
              false,
              false,
              false,
              false,
              false,
              false,
              false,
              false,
              false,
              false,
              false,
              false,
              false,
              false,
              false,
              false,
              false,
              false,
              false,
              false,
              false,
              false,
              false,
              false,
              false,
              false,
              false,
              false,
              false,
              false,
              false,
              false,
              false,
              false,
              false,
              false,
              false,
              false,
              false,
              false,
              false,
              false,
              false,
              false,
              false,
              false,
              false,
              false,
              false,
              false,
              false,
              false,
              false,
              false,
              false,
              false,
              false,
              false,
              false,
              false,
              false,
              false,
              false,
              false,
              false,
              false,
              false,
              false,
              false,
              false,
              false,
              false,
              false,
              false,
              false,
              false,
              false,
              false,
              false,
              false,
              false,
              false,
              false,
              false,
              false,
              false,
              false,
              false,
              false,
              false,
              false,
              false,
              false,
              false,
              false,
              false,
              false,
              false,
              false,
              false,
              false,
              false,
              false,
              false,
              false,
              false,
              false,
              false,
              false,
              false,
              false,
              false,
              false,
              false,
              false,
              false,
              false,
              false,
              false,
              false,
              false,
              false,
              false,
              false,
              false,
              false,
              false,
              false,
              false,
              false,
              false,
              false,
              false,
              false,
              false,
              false,
              false,
              false,
              false,
              false,
              false,
              false,
              false,
              false,
              false,
              false,
              false,
              false,
              false,
              false,
              false,
              false,
              false,
              false,
              false,
              false,
              false,
              false,
              false,
              false,
              false,
              false,
              false,
              false,
              false,
              false,
              false,
              false,
              false,
              false,
              false,
              false,
              false,
              false,
              false,
              false,
              false,
              false,
              false,
              false,
              false,
              false,
              false,
              false,
              false,
              true,
              true,
              true,
              true,
              true,
              true,
              true,
              true,
              true,
              true,
              true,
              true,
              true,
              true,
              true,
              true,
              true,
              true,
              true,
              true,
              true,
              true,
              true,
              true,
              true,
              true,
              false,
              false,
              false,
              false,
              false,
              false,
              false,
              false,
              false,
              false,
              false,
              false,
              false,
              false,
              false,
              false,
              false,
              false,
              false,
              false,
              false,
              false,
              false,
              false,
              false,
              false
             ]
            ],
            "label": "2012",
            "method": "restyle"
           },
           {
            "args": [
             "visible",
             [
              false,
              false,
              false,
              false,
              false,
              false,
              false,
              false,
              false,
              false,
              false,
              false,
              false,
              false,
              false,
              false,
              false,
              false,
              false,
              false,
              false,
              false,
              false,
              false,
              false,
              false,
              false,
              false,
              false,
              false,
              false,
              false,
              false,
              false,
              false,
              false,
              false,
              false,
              false,
              false,
              false,
              false,
              false,
              false,
              false,
              false,
              false,
              false,
              false,
              false,
              false,
              false,
              false,
              false,
              false,
              false,
              false,
              false,
              false,
              false,
              false,
              false,
              false,
              false,
              false,
              false,
              false,
              false,
              false,
              false,
              false,
              false,
              false,
              false,
              false,
              false,
              false,
              false,
              false,
              false,
              false,
              false,
              false,
              false,
              false,
              false,
              false,
              false,
              false,
              false,
              false,
              false,
              false,
              false,
              false,
              false,
              false,
              false,
              false,
              false,
              false,
              false,
              false,
              false,
              false,
              false,
              false,
              false,
              false,
              false,
              false,
              false,
              false,
              false,
              false,
              false,
              false,
              false,
              false,
              false,
              false,
              false,
              false,
              false,
              false,
              false,
              false,
              false,
              false,
              false,
              false,
              false,
              false,
              false,
              false,
              false,
              false,
              false,
              false,
              false,
              false,
              false,
              false,
              false,
              false,
              false,
              false,
              false,
              false,
              false,
              false,
              false,
              false,
              false,
              false,
              false,
              false,
              false,
              false,
              false,
              false,
              false,
              false,
              false,
              false,
              false,
              false,
              false,
              false,
              false,
              false,
              false,
              false,
              false,
              false,
              false,
              false,
              false,
              false,
              false,
              false,
              false,
              false,
              false,
              false,
              false,
              false,
              false,
              false,
              false,
              false,
              false,
              false,
              false,
              false,
              false,
              false,
              false,
              false,
              false,
              false,
              false,
              false,
              false,
              false,
              false,
              false,
              false,
              false,
              false,
              false,
              false,
              false,
              false,
              false,
              false,
              false,
              false,
              false,
              false,
              false,
              false,
              false,
              false,
              false,
              false,
              false,
              false,
              false,
              false,
              false,
              false,
              false,
              false,
              true,
              true,
              true,
              true,
              true,
              true,
              true,
              true,
              true,
              true,
              true,
              true,
              true,
              true,
              true,
              true,
              true,
              true,
              true,
              true,
              true,
              true,
              true,
              true,
              true,
              true
             ]
            ],
            "label": "2013",
            "method": "restyle"
           }
          ]
         }
        ],
        "template": {
         "data": {
          "bar": [
           {
            "error_x": {
             "color": "#2a3f5f"
            },
            "error_y": {
             "color": "#2a3f5f"
            },
            "marker": {
             "line": {
              "color": "#E5ECF6",
              "width": 0.5
             }
            },
            "type": "bar"
           }
          ],
          "barpolar": [
           {
            "marker": {
             "line": {
              "color": "#E5ECF6",
              "width": 0.5
             }
            },
            "type": "barpolar"
           }
          ],
          "carpet": [
           {
            "aaxis": {
             "endlinecolor": "#2a3f5f",
             "gridcolor": "white",
             "linecolor": "white",
             "minorgridcolor": "white",
             "startlinecolor": "#2a3f5f"
            },
            "baxis": {
             "endlinecolor": "#2a3f5f",
             "gridcolor": "white",
             "linecolor": "white",
             "minorgridcolor": "white",
             "startlinecolor": "#2a3f5f"
            },
            "type": "carpet"
           }
          ],
          "choropleth": [
           {
            "colorbar": {
             "outlinewidth": 0,
             "ticks": ""
            },
            "type": "choropleth"
           }
          ],
          "contour": [
           {
            "colorbar": {
             "outlinewidth": 0,
             "ticks": ""
            },
            "colorscale": [
             [
              0,
              "#0d0887"
             ],
             [
              0.1111111111111111,
              "#46039f"
             ],
             [
              0.2222222222222222,
              "#7201a8"
             ],
             [
              0.3333333333333333,
              "#9c179e"
             ],
             [
              0.4444444444444444,
              "#bd3786"
             ],
             [
              0.5555555555555556,
              "#d8576b"
             ],
             [
              0.6666666666666666,
              "#ed7953"
             ],
             [
              0.7777777777777778,
              "#fb9f3a"
             ],
             [
              0.8888888888888888,
              "#fdca26"
             ],
             [
              1,
              "#f0f921"
             ]
            ],
            "type": "contour"
           }
          ],
          "contourcarpet": [
           {
            "colorbar": {
             "outlinewidth": 0,
             "ticks": ""
            },
            "type": "contourcarpet"
           }
          ],
          "heatmap": [
           {
            "colorbar": {
             "outlinewidth": 0,
             "ticks": ""
            },
            "colorscale": [
             [
              0,
              "#0d0887"
             ],
             [
              0.1111111111111111,
              "#46039f"
             ],
             [
              0.2222222222222222,
              "#7201a8"
             ],
             [
              0.3333333333333333,
              "#9c179e"
             ],
             [
              0.4444444444444444,
              "#bd3786"
             ],
             [
              0.5555555555555556,
              "#d8576b"
             ],
             [
              0.6666666666666666,
              "#ed7953"
             ],
             [
              0.7777777777777778,
              "#fb9f3a"
             ],
             [
              0.8888888888888888,
              "#fdca26"
             ],
             [
              1,
              "#f0f921"
             ]
            ],
            "type": "heatmap"
           }
          ],
          "heatmapgl": [
           {
            "colorbar": {
             "outlinewidth": 0,
             "ticks": ""
            },
            "colorscale": [
             [
              0,
              "#0d0887"
             ],
             [
              0.1111111111111111,
              "#46039f"
             ],
             [
              0.2222222222222222,
              "#7201a8"
             ],
             [
              0.3333333333333333,
              "#9c179e"
             ],
             [
              0.4444444444444444,
              "#bd3786"
             ],
             [
              0.5555555555555556,
              "#d8576b"
             ],
             [
              0.6666666666666666,
              "#ed7953"
             ],
             [
              0.7777777777777778,
              "#fb9f3a"
             ],
             [
              0.8888888888888888,
              "#fdca26"
             ],
             [
              1,
              "#f0f921"
             ]
            ],
            "type": "heatmapgl"
           }
          ],
          "histogram": [
           {
            "marker": {
             "colorbar": {
              "outlinewidth": 0,
              "ticks": ""
             }
            },
            "type": "histogram"
           }
          ],
          "histogram2d": [
           {
            "colorbar": {
             "outlinewidth": 0,
             "ticks": ""
            },
            "colorscale": [
             [
              0,
              "#0d0887"
             ],
             [
              0.1111111111111111,
              "#46039f"
             ],
             [
              0.2222222222222222,
              "#7201a8"
             ],
             [
              0.3333333333333333,
              "#9c179e"
             ],
             [
              0.4444444444444444,
              "#bd3786"
             ],
             [
              0.5555555555555556,
              "#d8576b"
             ],
             [
              0.6666666666666666,
              "#ed7953"
             ],
             [
              0.7777777777777778,
              "#fb9f3a"
             ],
             [
              0.8888888888888888,
              "#fdca26"
             ],
             [
              1,
              "#f0f921"
             ]
            ],
            "type": "histogram2d"
           }
          ],
          "histogram2dcontour": [
           {
            "colorbar": {
             "outlinewidth": 0,
             "ticks": ""
            },
            "colorscale": [
             [
              0,
              "#0d0887"
             ],
             [
              0.1111111111111111,
              "#46039f"
             ],
             [
              0.2222222222222222,
              "#7201a8"
             ],
             [
              0.3333333333333333,
              "#9c179e"
             ],
             [
              0.4444444444444444,
              "#bd3786"
             ],
             [
              0.5555555555555556,
              "#d8576b"
             ],
             [
              0.6666666666666666,
              "#ed7953"
             ],
             [
              0.7777777777777778,
              "#fb9f3a"
             ],
             [
              0.8888888888888888,
              "#fdca26"
             ],
             [
              1,
              "#f0f921"
             ]
            ],
            "type": "histogram2dcontour"
           }
          ],
          "mesh3d": [
           {
            "colorbar": {
             "outlinewidth": 0,
             "ticks": ""
            },
            "type": "mesh3d"
           }
          ],
          "parcoords": [
           {
            "line": {
             "colorbar": {
              "outlinewidth": 0,
              "ticks": ""
             }
            },
            "type": "parcoords"
           }
          ],
          "pie": [
           {
            "automargin": true,
            "type": "pie"
           }
          ],
          "scatter": [
           {
            "marker": {
             "colorbar": {
              "outlinewidth": 0,
              "ticks": ""
             }
            },
            "type": "scatter"
           }
          ],
          "scatter3d": [
           {
            "line": {
             "colorbar": {
              "outlinewidth": 0,
              "ticks": ""
             }
            },
            "marker": {
             "colorbar": {
              "outlinewidth": 0,
              "ticks": ""
             }
            },
            "type": "scatter3d"
           }
          ],
          "scattercarpet": [
           {
            "marker": {
             "colorbar": {
              "outlinewidth": 0,
              "ticks": ""
             }
            },
            "type": "scattercarpet"
           }
          ],
          "scattergeo": [
           {
            "marker": {
             "colorbar": {
              "outlinewidth": 0,
              "ticks": ""
             }
            },
            "type": "scattergeo"
           }
          ],
          "scattergl": [
           {
            "marker": {
             "colorbar": {
              "outlinewidth": 0,
              "ticks": ""
             }
            },
            "type": "scattergl"
           }
          ],
          "scattermapbox": [
           {
            "marker": {
             "colorbar": {
              "outlinewidth": 0,
              "ticks": ""
             }
            },
            "type": "scattermapbox"
           }
          ],
          "scatterpolar": [
           {
            "marker": {
             "colorbar": {
              "outlinewidth": 0,
              "ticks": ""
             }
            },
            "type": "scatterpolar"
           }
          ],
          "scatterpolargl": [
           {
            "marker": {
             "colorbar": {
              "outlinewidth": 0,
              "ticks": ""
             }
            },
            "type": "scatterpolargl"
           }
          ],
          "scatterternary": [
           {
            "marker": {
             "colorbar": {
              "outlinewidth": 0,
              "ticks": ""
             }
            },
            "type": "scatterternary"
           }
          ],
          "surface": [
           {
            "colorbar": {
             "outlinewidth": 0,
             "ticks": ""
            },
            "colorscale": [
             [
              0,
              "#0d0887"
             ],
             [
              0.1111111111111111,
              "#46039f"
             ],
             [
              0.2222222222222222,
              "#7201a8"
             ],
             [
              0.3333333333333333,
              "#9c179e"
             ],
             [
              0.4444444444444444,
              "#bd3786"
             ],
             [
              0.5555555555555556,
              "#d8576b"
             ],
             [
              0.6666666666666666,
              "#ed7953"
             ],
             [
              0.7777777777777778,
              "#fb9f3a"
             ],
             [
              0.8888888888888888,
              "#fdca26"
             ],
             [
              1,
              "#f0f921"
             ]
            ],
            "type": "surface"
           }
          ],
          "table": [
           {
            "cells": {
             "fill": {
              "color": "#EBF0F8"
             },
             "line": {
              "color": "white"
             }
            },
            "header": {
             "fill": {
              "color": "#C8D4E3"
             },
             "line": {
              "color": "white"
             }
            },
            "type": "table"
           }
          ]
         },
         "layout": {
          "annotationdefaults": {
           "arrowcolor": "#2a3f5f",
           "arrowhead": 0,
           "arrowwidth": 1
          },
          "coloraxis": {
           "colorbar": {
            "outlinewidth": 0,
            "ticks": ""
           }
          },
          "colorscale": {
           "diverging": [
            [
             0,
             "#8e0152"
            ],
            [
             0.1,
             "#c51b7d"
            ],
            [
             0.2,
             "#de77ae"
            ],
            [
             0.3,
             "#f1b6da"
            ],
            [
             0.4,
             "#fde0ef"
            ],
            [
             0.5,
             "#f7f7f7"
            ],
            [
             0.6,
             "#e6f5d0"
            ],
            [
             0.7,
             "#b8e186"
            ],
            [
             0.8,
             "#7fbc41"
            ],
            [
             0.9,
             "#4d9221"
            ],
            [
             1,
             "#276419"
            ]
           ],
           "sequential": [
            [
             0,
             "#0d0887"
            ],
            [
             0.1111111111111111,
             "#46039f"
            ],
            [
             0.2222222222222222,
             "#7201a8"
            ],
            [
             0.3333333333333333,
             "#9c179e"
            ],
            [
             0.4444444444444444,
             "#bd3786"
            ],
            [
             0.5555555555555556,
             "#d8576b"
            ],
            [
             0.6666666666666666,
             "#ed7953"
            ],
            [
             0.7777777777777778,
             "#fb9f3a"
            ],
            [
             0.8888888888888888,
             "#fdca26"
            ],
            [
             1,
             "#f0f921"
            ]
           ],
           "sequentialminus": [
            [
             0,
             "#0d0887"
            ],
            [
             0.1111111111111111,
             "#46039f"
            ],
            [
             0.2222222222222222,
             "#7201a8"
            ],
            [
             0.3333333333333333,
             "#9c179e"
            ],
            [
             0.4444444444444444,
             "#bd3786"
            ],
            [
             0.5555555555555556,
             "#d8576b"
            ],
            [
             0.6666666666666666,
             "#ed7953"
            ],
            [
             0.7777777777777778,
             "#fb9f3a"
            ],
            [
             0.8888888888888888,
             "#fdca26"
            ],
            [
             1,
             "#f0f921"
            ]
           ]
          },
          "colorway": [
           "#636efa",
           "#EF553B",
           "#00cc96",
           "#ab63fa",
           "#FFA15A",
           "#19d3f3",
           "#FF6692",
           "#B6E880",
           "#FF97FF",
           "#FECB52"
          ],
          "font": {
           "color": "#2a3f5f"
          },
          "geo": {
           "bgcolor": "white",
           "lakecolor": "white",
           "landcolor": "#E5ECF6",
           "showlakes": true,
           "showland": true,
           "subunitcolor": "white"
          },
          "hoverlabel": {
           "align": "left"
          },
          "hovermode": "closest",
          "mapbox": {
           "style": "light"
          },
          "paper_bgcolor": "white",
          "plot_bgcolor": "#E5ECF6",
          "polar": {
           "angularaxis": {
            "gridcolor": "white",
            "linecolor": "white",
            "ticks": ""
           },
           "bgcolor": "#E5ECF6",
           "radialaxis": {
            "gridcolor": "white",
            "linecolor": "white",
            "ticks": ""
           }
          },
          "scene": {
           "xaxis": {
            "backgroundcolor": "#E5ECF6",
            "gridcolor": "white",
            "gridwidth": 2,
            "linecolor": "white",
            "showbackground": true,
            "ticks": "",
            "zerolinecolor": "white"
           },
           "yaxis": {
            "backgroundcolor": "#E5ECF6",
            "gridcolor": "white",
            "gridwidth": 2,
            "linecolor": "white",
            "showbackground": true,
            "ticks": "",
            "zerolinecolor": "white"
           },
           "zaxis": {
            "backgroundcolor": "#E5ECF6",
            "gridcolor": "white",
            "gridwidth": 2,
            "linecolor": "white",
            "showbackground": true,
            "ticks": "",
            "zerolinecolor": "white"
           }
          },
          "shapedefaults": {
           "line": {
            "color": "#2a3f5f"
           }
          },
          "ternary": {
           "aaxis": {
            "gridcolor": "white",
            "linecolor": "white",
            "ticks": ""
           },
           "baxis": {
            "gridcolor": "white",
            "linecolor": "white",
            "ticks": ""
           },
           "bgcolor": "#E5ECF6",
           "caxis": {
            "gridcolor": "white",
            "linecolor": "white",
            "ticks": ""
           }
          },
          "title": {
           "x": 0.05
          },
          "xaxis": {
           "automargin": true,
           "gridcolor": "white",
           "linecolor": "white",
           "ticks": "",
           "title": {
            "standoff": 15
           },
           "zerolinecolor": "white",
           "zerolinewidth": 2
          },
          "yaxis": {
           "automargin": true,
           "gridcolor": "white",
           "linecolor": "white",
           "ticks": "",
           "title": {
            "standoff": 15
           },
           "zerolinecolor": "white",
           "zerolinewidth": 2
          }
         }
        },
        "title": {
         "font": {
          "color": "#F2F2F2",
          "family": "Courier",
          "size": 15
         },
         "text": "Meat consumption depending on the salary",
         "x": 0.5,
         "xanchor": "center",
         "y": 0.9,
         "yanchor": "top"
        },
        "xaxis": {
         "range": [
          8000,
          100000
         ],
         "tickcolor": "#F2F2F2",
         "ticklen": 10,
         "ticks": "outside",
         "tickwidth": 2,
         "title": {
          "font": {
           "color": "#F2F2F2",
           "family": "Courier",
           "size": 10
          }
         },
         "type": "linear"
        },
        "yaxis": {
         "gridcolor": "rgba(0, 0, 0, 0)",
         "range": [
          30,
          120
         ],
         "tickcolor": "#F2F2F2",
         "ticklen": 10,
         "ticks": "outside",
         "tickwidth": 2,
         "title": {
          "font": {
           "color": "#F2F2F2",
           "family": "Courier",
           "size": 10
          },
          "text": "Yearly meat consumption per capita"
         },
         "type": "linear"
        }
       }
      },
      "image/png": "[encoded data removed]",
      "text/html": [
       "<div>\n",
       "        \n",
       "        \n",
       "            <div id=\"cdf262dc-721b-4fe6-825d-35bfcfb99d2e\" class=\"plotly-graph-div\" style=\"height:525px; width:100%;\"></div>\n",
       "            <script type=\"text/javascript\">\n",
       "                require([\"plotly\"], function(Plotly) {\n",
       "                    window.PLOTLYENV=window.PLOTLYENV || {};\n",
       "                    \n",
       "                if (document.getElementById(\"cdf262dc-721b-4fe6-825d-35bfcfb99d2e\")) {\n",
       "                    Plotly.newPlot(\n",
       "                        'cdf262dc-721b-4fe6-825d-35bfcfb99d2e',\n",
       "                        [{\"marker\": {\"color\": \"#2B2B2B\", \"line\": {\"color\": \"purple\", \"width\": 2}, \"size\": 16}, \"mode\": \"markers\", \"name\": \"AUT\", \"text\": \"AUT\", \"type\": \"scatter\", \"visible\": true, \"x\": [33753.472388999995], \"y\": [96.16125025836428]}, {\"marker\": {\"color\": \"#2B2B2B\", \"line\": {\"color\": \"purple\", \"width\": 2}, \"size\": 16}, \"mode\": \"markers\", \"name\": \"BEL\", \"text\": \"BEL\", \"type\": \"scatter\", \"visible\": true, \"x\": [32033.983076999997], \"y\": [80.508474983843]}, {\"marker\": {\"color\": \"#FF4464\", \"line\": {\"color\": \"purple\", \"width\": 2}, \"size\": 16}, \"mode\": \"markers\", \"name\": \"BGR\", \"text\": \"BGR\", \"type\": \"scatter\", \"visible\": true, \"x\": [9117.098653000001], \"y\": [50.483225173131]}, {\"marker\": {\"color\": \"#FF4464\", \"line\": {\"color\": \"purple\", \"width\": 2}, \"size\": 16}, \"mode\": \"markers\", \"name\": \"HRV\", \"text\": \"HRV\", \"type\": \"scatter\", \"visible\": true, \"x\": [14530.588793], \"y\": [50.16576766978847]}, {\"marker\": {\"color\": \"#2B2B2B\", \"line\": {\"color\": \"purple\", \"width\": 2}, \"size\": 16}, \"mode\": \"markers\", \"name\": \"DNK\", \"text\": \"DNK\", \"type\": \"scatter\", \"visible\": true, \"x\": [32917.958893], \"y\": [73.5506628822967]}, {\"marker\": {\"color\": \"#FF4464\", \"line\": {\"color\": \"purple\", \"width\": 2}, \"size\": 16}, \"mode\": \"markers\", \"name\": \"EST\", \"text\": \"EST\", \"type\": \"scatter\", \"visible\": true, \"x\": [14481.432753000001], \"y\": [61.48215919487649]}, {\"marker\": {\"color\": \"#2B2B2B\", \"line\": {\"color\": \"purple\", \"width\": 2}, \"size\": 16}, \"mode\": \"markers\", \"name\": \"FIN\", \"text\": \"FIN\", \"type\": \"scatter\", \"visible\": true, \"x\": [31173.153761], \"y\": [72.2259303734368]}, {\"marker\": {\"color\": \"#2B2B2B\", \"line\": {\"color\": \"purple\", \"width\": 2}, \"size\": 16}, \"mode\": \"markers\", \"name\": \"FRA\", \"text\": \"FRA\", \"type\": \"scatter\", \"visible\": true, \"x\": [29038.567562], \"y\": [90.70150486318191]}, {\"marker\": {\"color\": \"#2B2B2B\", \"line\": {\"color\": \"purple\", \"width\": 2}, \"size\": 16}, \"mode\": \"markers\", \"name\": \"DEU\", \"text\": \"DEU\", \"type\": \"scatter\", \"visible\": true, \"x\": [31712.774026], \"y\": [84.40396172276702]}, {\"marker\": {\"color\": \"#2B2B2B\", \"line\": {\"color\": \"purple\", \"width\": 2}, \"size\": 16}, \"mode\": \"markers\", \"name\": \"GRC\", \"text\": \"GRC\", \"type\": \"scatter\", \"visible\": true, \"x\": [25437.218509000002], \"y\": [81.35008974560182]}, {\"marker\": {\"color\": \"#FF4464\", \"line\": {\"color\": \"purple\", \"width\": 2}, \"size\": 16}, \"mode\": \"markers\", \"name\": \"HUN\", \"text\": \"HUN\", \"type\": \"scatter\", \"visible\": true, \"x\": [16228.920601], \"y\": [89.55452259235236]}, {\"marker\": {\"color\": \"#2B2B2B\", \"line\": {\"color\": \"purple\", \"width\": 2}, \"size\": 16}, \"mode\": \"markers\", \"name\": \"IRL\", \"text\": \"IRL\", \"type\": \"scatter\", \"visible\": true, \"x\": [38697.209778], \"y\": [104.24808462760227]}, {\"marker\": {\"color\": \"#2B2B2B\", \"line\": {\"color\": \"purple\", \"width\": 2}, \"size\": 16}, \"mode\": \"markers\", \"name\": \"ITA\", \"text\": \"ITA\", \"type\": \"scatter\", \"visible\": true, \"x\": [29446.371235000002], \"y\": [87.22361072702576]}, {\"marker\": {\"color\": \"#FF4464\", \"line\": {\"color\": \"purple\", \"width\": 2}, \"size\": 16}, \"mode\": \"markers\", \"name\": \"LVA\", \"text\": \"LVA\", \"type\": \"scatter\", \"visible\": true, \"x\": [12199.780284], \"y\": [55.34763586526804]}, {\"marker\": {\"color\": \"#FF4464\", \"line\": {\"color\": \"purple\", \"width\": 2}, \"size\": 16}, \"mode\": \"markers\", \"name\": \"LTU\", \"text\": \"LTU\", \"type\": \"scatter\", \"visible\": true, \"x\": [13031.432976], \"y\": [73.5525808276666]}, {\"marker\": {\"color\": \"#F2F2F2\", \"line\": {\"color\": \"purple\", \"width\": 2}, \"size\": 16}, \"mode\": \"markers\", \"name\": \"LUX\", \"text\": \"LUX\", \"type\": \"scatter\", \"visible\": true, \"x\": [63993.308202], \"y\": [103.30578512396694]}, {\"marker\": {\"color\": \"#FF4464\", \"line\": {\"color\": \"purple\", \"width\": 2}, \"size\": 16}, \"mode\": \"markers\", \"name\": \"MLT\", \"text\": \"MLT\", \"type\": \"scatter\", \"visible\": true, \"x\": [21341.856268], \"y\": [100.03326105930222]}, {\"marker\": {\"color\": \"#2B2B2B\", \"line\": {\"color\": \"purple\", \"width\": 2}, \"size\": 16}, \"mode\": \"markers\", \"name\": \"NLD\", \"text\": \"NLD\", \"type\": \"scatter\", \"visible\": true, \"x\": [35776.668812], \"y\": [78.85333230983922]}, {\"marker\": {\"color\": \"#FF4464\", \"line\": {\"color\": \"purple\", \"width\": 2}, \"size\": 16}, \"mode\": \"markers\", \"name\": \"POL\", \"text\": \"POL\", \"type\": \"scatter\", \"visible\": true, \"x\": [13341.874444], \"y\": [77.71544249832314]}, {\"marker\": {\"color\": \"#FF4464\", \"line\": {\"color\": \"purple\", \"width\": 2}, \"size\": 16}, \"mode\": \"markers\", \"name\": \"ROU\", \"text\": \"ROU\", \"type\": \"scatter\", \"visible\": true, \"x\": [8982.019325], \"y\": [55.991452498199216]}, {\"marker\": {\"color\": \"#FF4464\", \"line\": {\"color\": \"purple\", \"width\": 2}, \"size\": 16}, \"mode\": \"markers\", \"name\": \"SVK\", \"text\": \"SVK\", \"type\": \"scatter\", \"visible\": true, \"x\": [15183.955756], \"y\": [62.1756835369401]}, {\"marker\": {\"color\": \"#FF4464\", \"line\": {\"color\": \"purple\", \"width\": 2}, \"size\": 16}, \"mode\": \"markers\", \"name\": \"SVN\", \"text\": \"SVN\", \"type\": \"scatter\", \"visible\": true, \"x\": [22737.262303], \"y\": [90.16080178999245]}, {\"marker\": {\"color\": \"#2B2B2B\", \"line\": {\"color\": \"purple\", \"width\": 2}, \"size\": 16}, \"mode\": \"markers\", \"name\": \"ESP\", \"text\": \"ESP\", \"type\": \"scatter\", \"visible\": true, \"x\": [26158.034977], \"y\": [108.77267359682722]}, {\"marker\": {\"color\": \"#2B2B2B\", \"line\": {\"color\": \"purple\", \"width\": 2}, \"size\": 16}, \"mode\": \"markers\", \"name\": \"SWE\", \"text\": \"SWE\", \"type\": \"scatter\", \"visible\": true, \"x\": [33608.849355], \"y\": [77.7657823872758]}, {\"marker\": {\"color\": \"#2B2B2B\", \"line\": {\"color\": \"purple\", \"width\": 2}, \"size\": 16}, \"mode\": \"markers\", \"name\": \"GBR\", \"text\": \"GBR\", \"type\": \"scatter\", \"visible\": true, \"x\": [31984.826326], \"y\": [86.2464592667606]}, {\"marker\": {\"color\": \"#16a085\", \"line\": {\"color\": \"black\", \"width\": 1}, \"size\": 10, \"symbol\": \"square\"}, \"mode\": \"markers\", \"name\": \"K means centro\\u00efds\", \"opacity\": 1, \"type\": \"scatter\", \"visible\": true, \"x\": [14652.383832363637, 31672.23759230769, 63993.308202], \"y\": [69.6965938823491, 86.30860136498634, 103.30578512396694]}, {\"marker\": {\"color\": \"#2B2B2B\", \"line\": {\"color\": \"purple\", \"width\": 2}, \"size\": 16}, \"mode\": \"markers\", \"name\": \"AUT\", \"text\": \"AUT\", \"type\": \"scatter\", \"visible\": false, \"x\": [35024.557484], \"y\": [95.4719821434472]}, {\"marker\": {\"color\": \"#2B2B2B\", \"line\": {\"color\": \"purple\", \"width\": 2}, \"size\": 16}, \"mode\": \"markers\", \"name\": \"BEL\", \"text\": \"BEL\", \"type\": \"scatter\", \"visible\": false, \"x\": [33177.947339], \"y\": [83.57384347394543]}, {\"marker\": {\"color\": \"#FF4464\", \"line\": {\"color\": \"purple\", \"width\": 2}, \"size\": 16}, \"mode\": \"markers\", \"name\": \"BGR\", \"text\": \"BGR\", \"type\": \"scatter\", \"visible\": false, \"x\": [10183.806414], \"y\": [50.46450101989016]}, {\"marker\": {\"color\": \"#FF4464\", \"line\": {\"color\": \"purple\", \"width\": 2}, \"size\": 16}, \"mode\": \"markers\", \"name\": \"HRV\", \"text\": \"HRV\", \"type\": \"scatter\", \"visible\": false, \"x\": [15301.2886], \"y\": [50.337971927185784]}, {\"marker\": {\"color\": \"#2B2B2B\", \"line\": {\"color\": \"purple\", \"width\": 2}, \"size\": 16}, \"mode\": \"markers\", \"name\": \"DNK\", \"text\": \"DNK\", \"type\": \"scatter\", \"visible\": false, \"x\": [34152.881663], \"y\": [94.43018957183949]}, {\"marker\": {\"color\": \"#FF4464\", \"line\": {\"color\": \"purple\", \"width\": 2}, \"size\": 16}, \"mode\": \"markers\", \"name\": \"EST\", \"text\": \"EST\", \"type\": \"scatter\", \"visible\": false, \"x\": [16574.460822], \"y\": [66.23247599072745]}, {\"marker\": {\"color\": \"#2B2B2B\", \"line\": {\"color\": \"purple\", \"width\": 2}, \"size\": 16}, \"mode\": \"markers\", \"name\": \"FIN\", \"text\": \"FIN\", \"type\": \"scatter\", \"visible\": false, \"x\": [32051.762888999998], \"y\": [72.75697965726306]}, {\"marker\": {\"color\": \"#2B2B2B\", \"line\": {\"color\": \"purple\", \"width\": 2}, \"size\": 16}, \"mode\": \"markers\", \"name\": \"FRA\", \"text\": \"FRA\", \"type\": \"scatter\", \"visible\": false, \"x\": [30504.058783999997], \"y\": [87.66526048593924]}, {\"marker\": {\"color\": \"#2B2B2B\", \"line\": {\"color\": \"purple\", \"width\": 2}, \"size\": 16}, \"mode\": \"markers\", \"name\": \"DEU\", \"text\": \"DEU\", \"type\": \"scatter\", \"visible\": false, \"x\": [32236.740986], \"y\": [83.92640904822689]}, {\"marker\": {\"color\": \"#2B2B2B\", \"line\": {\"color\": \"purple\", \"width\": 2}, \"size\": 16}, \"mode\": \"markers\", \"name\": \"GRC\", \"text\": \"GRC\", \"type\": \"scatter\", \"visible\": false, \"x\": [25577.445437000002], \"y\": [84.59502683339666]}, {\"marker\": {\"color\": \"#FF4464\", \"line\": {\"color\": \"purple\", \"width\": 2}, \"size\": 16}, \"mode\": \"markers\", \"name\": \"HUN\", \"text\": \"HUN\", \"type\": \"scatter\", \"visible\": false, \"x\": [17073.551438], \"y\": [84.27787773052648]}, {\"marker\": {\"color\": \"#2B2B2B\", \"line\": {\"color\": \"purple\", \"width\": 2}, \"size\": 16}, \"mode\": \"markers\", \"name\": \"IRL\", \"text\": \"IRL\", \"type\": \"scatter\", \"visible\": false, \"x\": [40437.080879], \"y\": [102.39143589274632]}, {\"marker\": {\"color\": \"#2B2B2B\", \"line\": {\"color\": \"purple\", \"width\": 2}, \"size\": 16}, \"mode\": \"markers\", \"name\": \"ITA\", \"text\": \"ITA\", \"type\": \"scatter\", \"visible\": false, \"x\": [30016.1557], \"y\": [86.03060474400642]}, {\"marker\": {\"color\": \"#FF4464\", \"line\": {\"color\": \"purple\", \"width\": 2}, \"size\": 16}, \"mode\": \"markers\", \"name\": \"LVA\", \"text\": \"LVA\", \"type\": \"scatter\", \"visible\": false, \"x\": [13837.089237999999], \"y\": [59.56286193328604]}, {\"marker\": {\"color\": \"#FF4464\", \"line\": {\"color\": \"purple\", \"width\": 2}, \"size\": 16}, \"mode\": \"markers\", \"name\": \"LTU\", \"text\": \"LTU\", \"type\": \"scatter\", \"visible\": false, \"x\": [14526.159527000002], \"y\": [81.66379551862471]}, {\"marker\": {\"color\": \"#F2F2F2\", \"line\": {\"color\": \"purple\", \"width\": 2}, \"size\": 16}, \"mode\": \"markers\", \"name\": \"LUX\", \"text\": \"LUX\", \"type\": \"scatter\", \"visible\": false, \"x\": [68140.65238], \"y\": [104.06955315135616]}, {\"marker\": {\"color\": \"#FF4464\", \"line\": {\"color\": \"purple\", \"width\": 2}, \"size\": 16}, \"mode\": \"markers\", \"name\": \"MLT\", \"text\": \"MLT\", \"type\": \"scatter\", \"visible\": false, \"x\": [22265.719116], \"y\": [96.85398392720552]}, {\"marker\": {\"color\": \"#2B2B2B\", \"line\": {\"color\": \"purple\", \"width\": 2}, \"size\": 16}, \"mode\": \"markers\", \"name\": \"NLD\", \"text\": \"NLD\", \"type\": \"scatter\", \"visible\": false, \"x\": [37625.252435], \"y\": [77.02910044116331]}, {\"marker\": {\"color\": \"#FF4464\", \"line\": {\"color\": \"purple\", \"width\": 2}, \"size\": 16}, \"mode\": \"markers\", \"name\": \"POL\", \"text\": \"POL\", \"type\": \"scatter\", \"visible\": false, \"x\": [13897.543071], \"y\": [77.25186636343977]}, {\"marker\": {\"color\": \"#FF4464\", \"line\": {\"color\": \"purple\", \"width\": 2}, \"size\": 16}, \"mode\": \"markers\", \"name\": \"ROU\", \"text\": \"ROU\", \"type\": \"scatter\", \"visible\": false, \"x\": [9602.103406999999], \"y\": [65.84868999923955]}, {\"marker\": {\"color\": \"#FF4464\", \"line\": {\"color\": \"purple\", \"width\": 2}, \"size\": 16}, \"mode\": \"markers\", \"name\": \"SVK\", \"text\": \"SVK\", \"type\": \"scatter\", \"visible\": false, \"x\": [16595.261602000002], \"y\": [66.07496996380767]}, {\"marker\": {\"color\": \"#FF4464\", \"line\": {\"color\": \"purple\", \"width\": 2}, \"size\": 16}, \"mode\": \"markers\", \"name\": \"SVN\", \"text\": \"SVN\", \"type\": \"scatter\", \"visible\": false, \"x\": [23848.605399], \"y\": [91.6103905205773]}, {\"marker\": {\"color\": \"#2B2B2B\", \"line\": {\"color\": \"purple\", \"width\": 2}, \"size\": 16}, \"mode\": \"markers\", \"name\": \"ESP\", \"text\": \"ESP\", \"type\": \"scatter\", \"visible\": false, \"x\": [27600.937175], \"y\": [108.2770556715443]}, {\"marker\": {\"color\": \"#2B2B2B\", \"line\": {\"color\": \"purple\", \"width\": 2}, \"size\": 16}, \"mode\": \"markers\", \"name\": \"SWE\", \"text\": \"SWE\", \"type\": \"scatter\", \"visible\": false, \"x\": [34029.085226999996], \"y\": [78.01236479336376]}, {\"marker\": {\"color\": \"#2B2B2B\", \"line\": {\"color\": \"purple\", \"width\": 2}, \"size\": 16}, \"mode\": \"markers\", \"name\": \"GBR\", \"text\": \"GBR\", \"type\": \"scatter\", \"visible\": false, \"x\": [32661.847992000003], \"y\": [85.35767724761786]}, {\"marker\": {\"color\": \"#16a085\", \"line\": {\"color\": \"black\", \"width\": 1}, \"size\": 10, \"symbol\": \"square\"}, \"mode\": \"markers\", \"name\": \"K means centro\\u00efds\", \"opacity\": 1, \"type\": \"scatter\", \"visible\": false, \"x\": [15791.417148545454, 32699.67338384615, 68140.65238], \"y\": [71.83448953586459, 87.65522538496154, 104.06955315135616]}, {\"marker\": {\"color\": \"#2B2B2B\", \"line\": {\"color\": \"purple\", \"width\": 2}, \"size\": 16}, \"mode\": \"markers\", \"name\": \"AUT\", \"text\": \"AUT\", \"type\": \"scatter\", \"visible\": false, \"x\": [37626.245494], \"y\": [92.31554276329737]}, {\"marker\": {\"color\": \"#2B2B2B\", \"line\": {\"color\": \"purple\", \"width\": 2}, \"size\": 16}, \"mode\": \"markers\", \"name\": \"BEL\", \"text\": \"BEL\", \"type\": \"scatter\", \"visible\": false, \"x\": [35222.474358], \"y\": [80.29391377841658]}, {\"marker\": {\"color\": \"#FF4464\", \"line\": {\"color\": \"purple\", \"width\": 2}, \"size\": 16}, \"mode\": \"markers\", \"name\": \"BGR\", \"text\": \"BGR\", \"type\": \"scatter\", \"visible\": false, \"x\": [11251.243922], \"y\": [47.71035515247586]}, {\"marker\": {\"color\": \"#FF4464\", \"line\": {\"color\": \"purple\", \"width\": 2}, \"size\": 16}, \"mode\": \"markers\", \"name\": \"HRV\", \"text\": \"HRV\", \"type\": \"scatter\", \"visible\": false, \"x\": [17425.914018], \"y\": [58.4349587604554]}, {\"marker\": {\"color\": \"#2B2B2B\", \"line\": {\"color\": \"purple\", \"width\": 2}, \"size\": 16}, \"mode\": \"markers\", \"name\": \"DNK\", \"text\": \"DNK\", \"type\": \"scatter\", \"visible\": false, \"x\": [37297.523836], \"y\": [80.70074780850486]}, {\"marker\": {\"color\": \"#FF4464\", \"line\": {\"color\": \"purple\", \"width\": 2}, \"size\": 16}, \"mode\": \"markers\", \"name\": \"EST\", \"text\": \"EST\", \"type\": \"scatter\", \"visible\": false, \"x\": [19257.646402000002], \"y\": [70.3339009402532]}, {\"marker\": {\"color\": \"#2B2B2B\", \"line\": {\"color\": \"purple\", \"width\": 2}, \"size\": 16}, \"mode\": \"markers\", \"name\": \"FIN\", \"text\": \"FIN\", \"type\": \"scatter\", \"visible\": false, \"x\": [34419.156888], \"y\": [71.92355553525968]}, {\"marker\": {\"color\": \"#2B2B2B\", \"line\": {\"color\": \"purple\", \"width\": 2}, \"size\": 16}, \"mode\": \"markers\", \"name\": \"FRA\", \"text\": \"FRA\", \"type\": \"scatter\", \"visible\": false, \"x\": [32441.180775999997], \"y\": [82.79345594830652]}, {\"marker\": {\"color\": \"#2B2B2B\", \"line\": {\"color\": \"purple\", \"width\": 2}, \"size\": 16}, \"mode\": \"markers\", \"name\": \"DEU\", \"text\": \"DEU\", \"type\": \"scatter\", \"visible\": false, \"x\": [34630.81647], \"y\": [84.34217741467391]}, {\"marker\": {\"color\": \"#2B2B2B\", \"line\": {\"color\": \"purple\", \"width\": 2}, \"size\": 16}, \"mode\": \"markers\", \"name\": \"GRC\", \"text\": \"GRC\", \"type\": \"scatter\", \"visible\": false, \"x\": [28519.445057999998], \"y\": [85.41792446074938]}, {\"marker\": {\"color\": \"#FF4464\", \"line\": {\"color\": \"purple\", \"width\": 2}, \"size\": 16}, \"mode\": \"markers\", \"name\": \"HUN\", \"text\": \"HUN\", \"type\": \"scatter\", \"visible\": false, \"x\": [18342.715276], \"y\": [83.75856850652022]}, {\"marker\": {\"color\": \"#2B2B2B\", \"line\": {\"color\": \"purple\", \"width\": 2}, \"size\": 16}, \"mode\": \"markers\", \"name\": \"IRL\", \"text\": \"IRL\", \"type\": \"scatter\", \"visible\": false, \"x\": [44243.985255], \"y\": [102.42015742762388]}, {\"marker\": {\"color\": \"#2B2B2B\", \"line\": {\"color\": \"purple\", \"width\": 2}, \"size\": 16}, \"mode\": \"markers\", \"name\": \"ITA\", \"text\": \"ITA\", \"type\": \"scatter\", \"visible\": false, \"x\": [32262.115849], \"y\": [86.83489627535472]}, {\"marker\": {\"color\": \"#FF4464\", \"line\": {\"color\": \"purple\", \"width\": 2}, \"size\": 16}, \"mode\": \"markers\", \"name\": \"LVA\", \"text\": \"LVA\", \"type\": \"scatter\", \"visible\": false, \"x\": [15742.904798], \"y\": [60.59588648191056]}, {\"marker\": {\"color\": \"#FF4464\", \"line\": {\"color\": \"purple\", \"width\": 2}, \"size\": 16}, \"mode\": \"markers\", \"name\": \"LTU\", \"text\": \"LTU\", \"type\": \"scatter\", \"visible\": false, \"x\": [16484.558405], \"y\": [80.2471856491283]}, {\"marker\": {\"color\": \"#F2F2F2\", \"line\": {\"color\": \"purple\", \"width\": 2}, \"size\": 16}, \"mode\": \"markers\", \"name\": \"LUX\", \"text\": \"LUX\", \"type\": \"scatter\", \"visible\": false, \"x\": [77903.93005], \"y\": [104.45845751098946]}, {\"marker\": {\"color\": \"#FF4464\", \"line\": {\"color\": \"purple\", \"width\": 2}, \"size\": 16}, \"mode\": \"markers\", \"name\": \"MLT\", \"text\": \"MLT\", \"type\": \"scatter\", \"visible\": false, \"x\": [23227.410451], \"y\": [98.765675964632]}, {\"marker\": {\"color\": \"#2B2B2B\", \"line\": {\"color\": \"purple\", \"width\": 2}, \"size\": 16}, \"mode\": \"markers\", \"name\": \"NLD\", \"text\": \"NLD\", \"type\": \"scatter\", \"visible\": false, \"x\": [40971.493263], \"y\": [81.24053749768125]}, {\"marker\": {\"color\": \"#FF4464\", \"line\": {\"color\": \"purple\", \"width\": 2}, \"size\": 16}, \"mode\": \"markers\", \"name\": \"POL\", \"text\": \"POL\", \"type\": \"scatter\", \"visible\": false, \"x\": [15145.861194], \"y\": [77.60032843205536]}, {\"marker\": {\"color\": \"#FF4464\", \"line\": {\"color\": \"purple\", \"width\": 2}, \"size\": 16}, \"mode\": \"markers\", \"name\": \"ROU\", \"text\": \"ROU\", \"type\": \"scatter\", \"visible\": false, \"x\": [11544.715086], \"y\": [65.15495872045257]}, {\"marker\": {\"color\": \"#FF4464\", \"line\": {\"color\": \"purple\", \"width\": 2}, \"size\": 16}, \"mode\": \"markers\", \"name\": \"SVK\", \"text\": \"SVK\", \"type\": \"scatter\", \"visible\": false, \"x\": [18831.79902], \"y\": [62.34961644749381]}, {\"marker\": {\"color\": \"#FF4464\", \"line\": {\"color\": \"purple\", \"width\": 2}, \"size\": 16}, \"mode\": \"markers\", \"name\": \"SVN\", \"text\": \"SVN\", \"type\": \"scatter\", \"visible\": false, \"x\": [25681.207419], \"y\": [87.35333375262934]}, {\"marker\": {\"color\": \"#2B2B2B\", \"line\": {\"color\": \"purple\", \"width\": 2}, \"size\": 16}, \"mode\": \"markers\", \"name\": \"ESP\", \"text\": \"ESP\", \"type\": \"scatter\", \"visible\": false, \"x\": [30713.803154], \"y\": [107.24842331752502]}, {\"marker\": {\"color\": \"#2B2B2B\", \"line\": {\"color\": \"purple\", \"width\": 2}, \"size\": 16}, \"mode\": \"markers\", \"name\": \"SWE\", \"text\": \"SWE\", \"type\": \"scatter\", \"visible\": false, \"x\": [37435.395275999996], \"y\": [77.91990761904172]}, {\"marker\": {\"color\": \"#2B2B2B\", \"line\": {\"color\": \"purple\", \"width\": 2}, \"size\": 16}, \"mode\": \"markers\", \"name\": \"GBR\", \"text\": \"GBR\", \"type\": \"scatter\", \"visible\": false, \"x\": [34778.350938999996], \"y\": [87.0994483190227]}, {\"marker\": {\"color\": \"#16a085\", \"line\": {\"color\": \"black\", \"width\": 1}, \"size\": 10, \"symbol\": \"square\"}, \"mode\": \"markers\", \"name\": \"K means centro\\u00efds\", \"opacity\": 1, \"type\": \"scatter\", \"visible\": false, \"x\": [17539.634181, 35427.84512430769, 77903.93005], \"y\": [72.02770625527333, 86.19620678195828, 104.45845751098946]}, {\"marker\": {\"color\": \"#2B2B2B\", \"line\": {\"color\": \"purple\", \"width\": 2}, \"size\": 16}, \"mode\": \"markers\", \"name\": \"AUT\", \"text\": \"AUT\", \"type\": \"scatter\", \"visible\": false, \"x\": [39393.953567000004], \"y\": [94.531149643655]}, {\"marker\": {\"color\": \"#2B2B2B\", \"line\": {\"color\": \"purple\", \"width\": 2}, \"size\": 16}, \"mode\": \"markers\", \"name\": \"BEL\", \"text\": \"BEL\", \"type\": \"scatter\", \"visible\": false, \"x\": [36755.650522], \"y\": [83.80151643898543]}, {\"marker\": {\"color\": \"#FF4464\", \"line\": {\"color\": \"purple\", \"width\": 2}, \"size\": 16}, \"mode\": \"markers\", \"name\": \"BGR\", \"text\": \"BGR\", \"type\": \"scatter\", \"visible\": false, \"x\": [12607.887169], \"y\": [46.747033709233186]}, {\"marker\": {\"color\": \"#FF4464\", \"line\": {\"color\": \"purple\", \"width\": 2}, \"size\": 16}, \"mode\": \"markers\", \"name\": \"HRV\", \"text\": \"HRV\", \"type\": \"scatter\", \"visible\": false, \"x\": [19340.283023], \"y\": [63.5210604771498]}, {\"marker\": {\"color\": \"#2B2B2B\", \"line\": {\"color\": \"purple\", \"width\": 2}, \"size\": 16}, \"mode\": \"markers\", \"name\": \"DNK\", \"text\": \"DNK\", \"type\": \"scatter\", \"visible\": false, \"x\": [38978.780753], \"y\": [91.79223232099964]}, {\"marker\": {\"color\": \"#FF4464\", \"line\": {\"color\": \"purple\", \"width\": 2}, \"size\": 16}, \"mode\": \"markers\", \"name\": \"EST\", \"text\": \"EST\", \"type\": \"scatter\", \"visible\": false, \"x\": [22133.611223], \"y\": [74.46459952938373]}, {\"marker\": {\"color\": \"#2B2B2B\", \"line\": {\"color\": \"purple\", \"width\": 2}, \"size\": 16}, \"mode\": \"markers\", \"name\": \"FIN\", \"text\": \"FIN\", \"type\": \"scatter\", \"visible\": false, \"x\": [37801.926032999996], \"y\": [76.18029716000989]}, {\"marker\": {\"color\": \"#2B2B2B\", \"line\": {\"color\": \"purple\", \"width\": 2}, \"size\": 16}, \"mode\": \"markers\", \"name\": \"FRA\", \"text\": \"FRA\", \"type\": \"scatter\", \"visible\": false, \"x\": [34095.407473], \"y\": [83.40002480946481]}, {\"marker\": {\"color\": \"#2B2B2B\", \"line\": {\"color\": \"purple\", \"width\": 2}, \"size\": 16}, \"mode\": \"markers\", \"name\": \"DEU\", \"text\": \"DEU\", \"type\": \"scatter\", \"visible\": false, \"x\": [36822.840138], \"y\": [87.8577204473756]}, {\"marker\": {\"color\": \"#2B2B2B\", \"line\": {\"color\": \"purple\", \"width\": 2}, \"size\": 16}, \"mode\": \"markers\", \"name\": \"GRC\", \"text\": \"GRC\", \"type\": \"scatter\", \"visible\": false, \"x\": [29291.872922000002], \"y\": [80.55449035557061]}, {\"marker\": {\"color\": \"#FF4464\", \"line\": {\"color\": \"purple\", \"width\": 2}, \"size\": 16}, \"mode\": \"markers\", \"name\": \"HUN\", \"text\": \"HUN\", \"type\": \"scatter\", \"visible\": false, \"x\": [19045.808484], \"y\": [83.14989691200951]}, {\"marker\": {\"color\": \"#2B2B2B\", \"line\": {\"color\": \"purple\", \"width\": 2}, \"size\": 16}, \"mode\": \"markers\", \"name\": \"IRL\", \"text\": \"IRL\", \"type\": \"scatter\", \"visible\": false, \"x\": [46746.547399], \"y\": [91.93298431056485]}, {\"marker\": {\"color\": \"#2B2B2B\", \"line\": {\"color\": \"purple\", \"width\": 2}, \"size\": 16}, \"mode\": \"markers\", \"name\": \"ITA\", \"text\": \"ITA\", \"type\": \"scatter\", \"visible\": false, \"x\": [33905.682103], \"y\": [89.92894720064722]}, {\"marker\": {\"color\": \"#FF4464\", \"line\": {\"color\": \"purple\", \"width\": 2}, \"size\": 16}, \"mode\": \"markers\", \"name\": \"LVA\", \"text\": \"LVA\", \"type\": \"scatter\", \"visible\": false, \"x\": [18121.545421000003], \"y\": [64.73986345774253]}, {\"marker\": {\"color\": \"#FF4464\", \"line\": {\"color\": \"purple\", \"width\": 2}, \"size\": 16}, \"mode\": \"markers\", \"name\": \"LTU\", \"text\": \"LTU\", \"type\": \"scatter\", \"visible\": false, \"x\": [19095.571569], \"y\": [84.6158272212501]}, {\"marker\": {\"color\": \"#F2F2F2\", \"line\": {\"color\": \"purple\", \"width\": 2}, \"size\": 16}, \"mode\": \"markers\", \"name\": \"LUX\", \"text\": \"LUX\", \"type\": \"scatter\", \"visible\": false, \"x\": [83858.23572699999], \"y\": [102.90075117548356]}, {\"marker\": {\"color\": \"#FF4464\", \"line\": {\"color\": \"purple\", \"width\": 2}, \"size\": 16}, \"mode\": \"markers\", \"name\": \"MLT\", \"text\": \"MLT\", \"type\": \"scatter\", \"visible\": false, \"x\": [24892.495897999997], \"y\": [108.47698315648294]}, {\"marker\": {\"color\": \"#2B2B2B\", \"line\": {\"color\": \"purple\", \"width\": 2}, \"size\": 16}, \"mode\": \"markers\", \"name\": \"NLD\", \"text\": \"NLD\", \"type\": \"scatter\", \"visible\": false, \"x\": [43895.900712], \"y\": [74.70354552074606]}, {\"marker\": {\"color\": \"#FF4464\", \"line\": {\"color\": \"purple\", \"width\": 2}, \"size\": 16}, \"mode\": \"markers\", \"name\": \"POL\", \"text\": \"POL\", \"type\": \"scatter\", \"visible\": false, \"x\": [16789.98011], \"y\": [79.63178639670338]}, {\"marker\": {\"color\": \"#FF4464\", \"line\": {\"color\": \"purple\", \"width\": 2}, \"size\": 16}, \"mode\": \"markers\", \"name\": \"ROU\", \"text\": \"ROU\", \"type\": \"scatter\", \"visible\": false, \"x\": [13686.942347999999], \"y\": [65.54505588437718]}, {\"marker\": {\"color\": \"#FF4464\", \"line\": {\"color\": \"purple\", \"width\": 2}, \"size\": 16}, \"mode\": \"markers\", \"name\": \"SVK\", \"text\": \"SVK\", \"type\": \"scatter\", \"visible\": false, \"x\": [21115.656398], \"y\": [60.299487454356644]}, {\"marker\": {\"color\": \"#FF4464\", \"line\": {\"color\": \"purple\", \"width\": 2}, \"size\": 16}, \"mode\": \"markers\", \"name\": \"SVN\", \"text\": \"SVN\", \"type\": \"scatter\", \"visible\": false, \"x\": [27533.363591], \"y\": [85.05867307475165]}, {\"marker\": {\"color\": \"#2B2B2B\", \"line\": {\"color\": \"purple\", \"width\": 2}, \"size\": 16}, \"mode\": \"markers\", \"name\": \"ESP\", \"text\": \"ESP\", \"type\": \"scatter\", \"visible\": false, \"x\": [32431.570501], \"y\": [110.43958662100997]}, {\"marker\": {\"color\": \"#2B2B2B\", \"line\": {\"color\": \"purple\", \"width\": 2}, \"size\": 16}, \"mode\": \"markers\", \"name\": \"SWE\", \"text\": \"SWE\", \"type\": \"scatter\", \"visible\": false, \"x\": [40592.764986], \"y\": [79.55443372221369]}, {\"marker\": {\"color\": \"#2B2B2B\", \"line\": {\"color\": \"purple\", \"width\": 2}, \"size\": 16}, \"mode\": \"markers\", \"name\": \"GBR\", \"text\": \"GBR\", \"type\": \"scatter\", \"visible\": false, \"x\": [35601.9985], \"y\": [86.04417653750014]}, {\"marker\": {\"color\": \"#16a085\", \"line\": {\"color\": \"black\", \"width\": 1}, \"size\": 10, \"symbol\": \"square\"}, \"mode\": \"markers\", \"name\": \"K means centro\\u00efds\", \"opacity\": 1, \"type\": \"scatter\", \"visible\": false, \"x\": [19487.558657636364, 37408.83812376923, 83858.23572699999], \"y\": [74.20456975213096, 86.97854654528791, 102.90075117548356]}, {\"marker\": {\"color\": \"#2B2B2B\", \"line\": {\"color\": \"purple\", \"width\": 2}, \"size\": 16}, \"mode\": \"markers\", \"name\": \"AUT\", \"text\": \"AUT\", \"type\": \"scatter\", \"visible\": false, \"x\": [41316.022642], \"y\": [90.2745538059812]}, {\"marker\": {\"color\": \"#2B2B2B\", \"line\": {\"color\": \"purple\", \"width\": 2}, \"size\": 16}, \"mode\": \"markers\", \"name\": \"BEL\", \"text\": \"BEL\", \"type\": \"scatter\", \"visible\": false, \"x\": [37883.233422000005], \"y\": [69.37370357891436]}, {\"marker\": {\"color\": \"#FF4464\", \"line\": {\"color\": \"purple\", \"width\": 2}, \"size\": 16}, \"mode\": \"markers\", \"name\": \"BGR\", \"text\": \"BGR\", \"type\": \"scatter\", \"visible\": false, \"x\": [14089.659789], \"y\": [51.343428746095036]}, {\"marker\": {\"color\": \"#FF4464\", \"line\": {\"color\": \"purple\", \"width\": 2}, \"size\": 16}, \"mode\": \"markers\", \"name\": \"HRV\", \"text\": \"HRV\", \"type\": \"scatter\", \"visible\": false, \"x\": [20765.46326], \"y\": [63.08026012258443]}, {\"marker\": {\"color\": \"#2B2B2B\", \"line\": {\"color\": \"purple\", \"width\": 2}, \"size\": 16}, \"mode\": \"markers\", \"name\": \"DNK\", \"text\": \"DNK\", \"type\": \"scatter\", \"visible\": false, \"x\": [41282.995470999995], \"y\": [79.62319964366792]}, {\"marker\": {\"color\": \"#FF4464\", \"line\": {\"color\": \"purple\", \"width\": 2}, \"size\": 16}, \"mode\": \"markers\", \"name\": \"EST\", \"text\": \"EST\", \"type\": \"scatter\", \"visible\": false, \"x\": [22807.728472], \"y\": [70.23101521173903]}, {\"marker\": {\"color\": \"#2B2B2B\", \"line\": {\"color\": \"purple\", \"width\": 2}, \"size\": 16}, \"mode\": \"markers\", \"name\": \"FIN\", \"text\": \"FIN\", \"type\": \"scatter\", \"visible\": false, \"x\": [40083.701943], \"y\": [75.65346862663863]}, {\"marker\": {\"color\": \"#2B2B2B\", \"line\": {\"color\": \"purple\", \"width\": 2}, \"size\": 16}, \"mode\": \"markers\", \"name\": \"FRA\", \"text\": \"FRA\", \"type\": \"scatter\", \"visible\": false, \"x\": [35102.870427999995], \"y\": [90.95852711428854]}, {\"marker\": {\"color\": \"#2B2B2B\", \"line\": {\"color\": \"purple\", \"width\": 2}, \"size\": 16}, \"mode\": \"markers\", \"name\": \"DEU\", \"text\": \"DEU\", \"type\": \"scatter\", \"visible\": false, \"x\": [38432.448211], \"y\": [87.32898190936353]}, {\"marker\": {\"color\": \"#2B2B2B\", \"line\": {\"color\": \"purple\", \"width\": 2}, \"size\": 16}, \"mode\": \"markers\", \"name\": \"GRC\", \"text\": \"GRC\", \"type\": \"scatter\", \"visible\": false, \"x\": [30855.935774], \"y\": [80.64416242493742]}, {\"marker\": {\"color\": \"#FF4464\", \"line\": {\"color\": \"purple\", \"width\": 2}, \"size\": 16}, \"mode\": \"markers\", \"name\": \"HUN\", \"text\": \"HUN\", \"type\": \"scatter\", \"visible\": false, \"x\": [20696.728568000002], \"y\": [80.63391396719753]}, {\"marker\": {\"color\": \"#2B2B2B\", \"line\": {\"color\": \"purple\", \"width\": 2}, \"size\": 16}, \"mode\": \"markers\", \"name\": \"IRL\", \"text\": \"IRL\", \"type\": \"scatter\", \"visible\": false, \"x\": [44219.775877], \"y\": [88.16077114877073]}, {\"marker\": {\"color\": \"#2B2B2B\", \"line\": {\"color\": \"purple\", \"width\": 2}, \"size\": 16}, \"mode\": \"markers\", \"name\": \"ITA\", \"text\": \"ITA\", \"type\": \"scatter\", \"visible\": false, \"x\": [35274.312724], \"y\": [88.11162283178787]}, {\"marker\": {\"color\": \"#FF4464\", \"line\": {\"color\": \"purple\", \"width\": 2}, \"size\": 16}, \"mode\": \"markers\", \"name\": \"LVA\", \"text\": \"LVA\", \"type\": \"scatter\", \"visible\": false, \"x\": [19462.435513], \"y\": [67.98034501165704]}, {\"marker\": {\"color\": \"#FF4464\", \"line\": {\"color\": \"purple\", \"width\": 2}, \"size\": 16}, \"mode\": \"markers\", \"name\": \"LTU\", \"text\": \"LTU\", \"type\": \"scatter\", \"visible\": false, \"x\": [20744.011329], \"y\": [84.04394564535635]}, {\"marker\": {\"color\": \"#F2F2F2\", \"line\": {\"color\": \"purple\", \"width\": 2}, \"size\": 16}, \"mode\": \"markers\", \"name\": \"LUX\", \"text\": \"LUX\", \"type\": \"scatter\", \"visible\": false, \"x\": [86591.985457], \"y\": [107.48265291991095]}, {\"marker\": {\"color\": \"#FF4464\", \"line\": {\"color\": \"purple\", \"width\": 2}, \"size\": 16}, \"mode\": \"markers\", \"name\": \"MLT\", \"text\": \"MLT\", \"type\": \"scatter\", \"visible\": false, \"x\": [26193.230358], \"y\": [100.53159143961237]}, {\"marker\": {\"color\": \"#2B2B2B\", \"line\": {\"color\": \"purple\", \"width\": 2}, \"size\": 16}, \"mode\": \"markers\", \"name\": \"NLD\", \"text\": \"NLD\", \"type\": \"scatter\", \"visible\": false, \"x\": [46419.042594], \"y\": [89.72655892124294]}, {\"marker\": {\"color\": \"#FF4464\", \"line\": {\"color\": \"purple\", \"width\": 2}, \"size\": 16}, \"mode\": \"markers\", \"name\": \"POL\", \"text\": \"POL\", \"type\": \"scatter\", \"visible\": false, \"x\": [18315.13109], \"y\": [76.79262169564458]}, {\"marker\": {\"color\": \"#FF4464\", \"line\": {\"color\": \"purple\", \"width\": 2}, \"size\": 16}, \"mode\": \"markers\", \"name\": \"ROU\", \"text\": \"ROU\", \"type\": \"scatter\", \"visible\": false, \"x\": [16782.151849], \"y\": [67.26285723700853]}, {\"marker\": {\"color\": \"#FF4464\", \"line\": {\"color\": \"purple\", \"width\": 2}, \"size\": 16}, \"mode\": \"markers\", \"name\": \"SVK\", \"text\": \"SVK\", \"type\": \"scatter\", \"visible\": false, \"x\": [23608.977522], \"y\": [61.38319781907358]}, {\"marker\": {\"color\": \"#2B2B2B\", \"line\": {\"color\": \"purple\", \"width\": 2}, \"size\": 16}, \"mode\": \"markers\", \"name\": \"SVN\", \"text\": \"SVN\", \"type\": \"scatter\", \"visible\": false, \"x\": [29594.66035], \"y\": [89.5402555578383]}, {\"marker\": {\"color\": \"#2B2B2B\", \"line\": {\"color\": \"purple\", \"width\": 2}, \"size\": 16}, \"mode\": \"markers\", \"name\": \"ESP\", \"text\": \"ESP\", \"type\": \"scatter\", \"visible\": false, \"x\": [33242.245427], \"y\": [101.51319696741804]}, {\"marker\": {\"color\": \"#2B2B2B\", \"line\": {\"color\": \"purple\", \"width\": 2}, \"size\": 16}, \"mode\": \"markers\", \"name\": \"SWE\", \"text\": \"SWE\", \"type\": \"scatter\", \"visible\": false, \"x\": [41971.781211], \"y\": [80.47543011068258]}, {\"marker\": {\"color\": \"#2B2B2B\", \"line\": {\"color\": \"purple\", \"width\": 2}, \"size\": 16}, \"mode\": \"markers\", \"name\": \"GBR\", \"text\": \"GBR\", \"type\": \"scatter\", \"visible\": false, \"x\": [36650.101264], \"y\": [82.22940666180328]}, {\"marker\": {\"color\": \"#16a085\", \"line\": {\"color\": \"black\", \"width\": 1}, \"size\": 10, \"symbol\": \"square\"}, \"mode\": \"markers\", \"name\": \"K means centro\\u00efds\", \"opacity\": 1, \"type\": \"scatter\", \"visible\": false, \"x\": [20346.551775, 38023.509095571426, 86591.985457], \"y\": [72.32831768959684, 85.25813137880967, 107.48265291991095]}, {\"marker\": {\"color\": \"#2B2B2B\", \"line\": {\"color\": \"purple\", \"width\": 2}, \"size\": 16}, \"mode\": \"markers\", \"name\": \"AUT\", \"text\": \"AUT\", \"type\": \"scatter\", \"visible\": false, \"x\": [40935.528801], \"y\": [93.10134621427252]}, {\"marker\": {\"color\": \"#2B2B2B\", \"line\": {\"color\": \"purple\", \"width\": 2}, \"size\": 16}, \"mode\": \"markers\", \"name\": \"BEL\", \"text\": \"BEL\", \"type\": \"scatter\", \"visible\": false, \"x\": [37757.239173], \"y\": [67.70153295613908]}, {\"marker\": {\"color\": \"#FF4464\", \"line\": {\"color\": \"purple\", \"width\": 2}, \"size\": 16}, \"mode\": \"markers\", \"name\": \"BGR\", \"text\": \"BGR\", \"type\": \"scatter\", \"visible\": false, \"x\": [13914.467312], \"y\": [55.57699026893773]}, {\"marker\": {\"color\": \"#FF4464\", \"line\": {\"color\": \"purple\", \"width\": 2}, \"size\": 16}, \"mode\": \"markers\", \"name\": \"HRV\", \"text\": \"HRV\", \"type\": \"scatter\", \"visible\": false, \"x\": [19977.356811], \"y\": [67.75262680646601]}, {\"marker\": {\"color\": \"#2B2B2B\", \"line\": {\"color\": \"purple\", \"width\": 2}, \"size\": 16}, \"mode\": \"markers\", \"name\": \"DNK\", \"text\": \"DNK\", \"type\": \"scatter\", \"visible\": false, \"x\": [40340.373142000004], \"y\": [67.67727772595636]}, {\"marker\": {\"color\": \"#FF4464\", \"line\": {\"color\": \"purple\", \"width\": 2}, \"size\": 16}, \"mode\": \"markers\", \"name\": \"EST\", \"text\": \"EST\", \"type\": \"scatter\", \"visible\": false, \"x\": [20579.678681999998], \"y\": [75.61351760073069]}, {\"marker\": {\"color\": \"#2B2B2B\", \"line\": {\"color\": \"purple\", \"width\": 2}, \"size\": 16}, \"mode\": \"markers\", \"name\": \"FIN\", \"text\": \"FIN\", \"type\": \"scatter\", \"visible\": false, \"x\": [37979.854491000006], \"y\": [74.34785106548355]}, {\"marker\": {\"color\": \"#2B2B2B\", \"line\": {\"color\": \"purple\", \"width\": 2}, \"size\": 16}, \"mode\": \"markers\", \"name\": \"FRA\", \"text\": \"FRA\", \"type\": \"scatter\", \"visible\": false, \"x\": [34693.236376], \"y\": [90.13177358537949]}, {\"marker\": {\"color\": \"#2B2B2B\", \"line\": {\"color\": \"purple\", \"width\": 2}, \"size\": 16}, \"mode\": \"markers\", \"name\": \"DEU\", \"text\": \"DEU\", \"type\": \"scatter\", \"visible\": false, \"x\": [37472.754357], \"y\": [87.94869259610054]}, {\"marker\": {\"color\": \"#2B2B2B\", \"line\": {\"color\": \"purple\", \"width\": 2}, \"size\": 16}, \"mode\": \"markers\", \"name\": \"GRC\", \"text\": \"GRC\", \"type\": \"scatter\", \"visible\": false, \"x\": [30365.360391000002], \"y\": [82.65174188320687]}, {\"marker\": {\"color\": \"#FF4464\", \"line\": {\"color\": \"purple\", \"width\": 2}, \"size\": 16}, \"mode\": \"markers\", \"name\": \"HUN\", \"text\": \"HUN\", \"type\": \"scatter\", \"visible\": false, \"x\": [20678.068296], \"y\": [78.45697950598023]}, {\"marker\": {\"color\": \"#2B2B2B\", \"line\": {\"color\": \"purple\", \"width\": 2}, \"size\": 16}, \"mode\": \"markers\", \"name\": \"IRL\", \"text\": \"IRL\", \"type\": \"scatter\", \"visible\": false, \"x\": [41587.138158], \"y\": [86.25795729656059]}, {\"marker\": {\"color\": \"#2B2B2B\", \"line\": {\"color\": \"purple\", \"width\": 2}, \"size\": 16}, \"mode\": \"markers\", \"name\": \"ITA\", \"text\": \"ITA\", \"type\": \"scatter\", \"visible\": false, \"x\": [34329.471244], \"y\": [89.79571830015385]}, {\"marker\": {\"color\": \"#FF4464\", \"line\": {\"color\": \"purple\", \"width\": 2}, \"size\": 16}, \"mode\": \"markers\", \"name\": \"LVA\", \"text\": \"LVA\", \"type\": \"scatter\", \"visible\": false, \"x\": [16921.577956], \"y\": [65.19224314025024]}, {\"marker\": {\"color\": \"#FF4464\", \"line\": {\"color\": \"purple\", \"width\": 2}, \"size\": 16}, \"mode\": \"markers\", \"name\": \"LTU\", \"text\": \"LTU\", \"type\": \"scatter\", \"visible\": false, \"x\": [18145.907109], \"y\": [76.0084626942927]}, {\"marker\": {\"color\": \"#F2F2F2\", \"line\": {\"color\": \"purple\", \"width\": 2}, \"size\": 16}, \"mode\": \"markers\", \"name\": \"LUX\", \"text\": \"LUX\", \"type\": \"scatter\", \"visible\": false, \"x\": [82206.353504], \"y\": [99.29078014184395]}, {\"marker\": {\"color\": \"#FF4464\", \"line\": {\"color\": \"purple\", \"width\": 2}, \"size\": 16}, \"mode\": \"markers\", \"name\": \"MLT\", \"text\": \"MLT\", \"type\": \"scatter\", \"visible\": false, \"x\": [26141.314851], \"y\": [99.77465529073359]}, {\"marker\": {\"color\": \"#2B2B2B\", \"line\": {\"color\": \"purple\", \"width\": 2}, \"size\": 16}, \"mode\": \"markers\", \"name\": \"NLD\", \"text\": \"NLD\", \"type\": \"scatter\", \"visible\": false, \"x\": [44567.119952], \"y\": [89.77430073553661]}, {\"marker\": {\"color\": \"#FF4464\", \"line\": {\"color\": \"purple\", \"width\": 2}, \"size\": 16}, \"mode\": \"markers\", \"name\": \"POL\", \"text\": \"POL\", \"type\": \"scatter\", \"visible\": false, \"x\": [19080.70466], \"y\": [78.71852740448391]}, {\"marker\": {\"color\": \"#FF4464\", \"line\": {\"color\": \"purple\", \"width\": 2}, \"size\": 16}, \"mode\": \"markers\", \"name\": \"ROU\", \"text\": \"ROU\", \"type\": \"scatter\", \"visible\": false, \"x\": [16635.328127], \"y\": [71.52540399377895]}, {\"marker\": {\"color\": \"#FF4464\", \"line\": {\"color\": \"purple\", \"width\": 2}, \"size\": 16}, \"mode\": \"markers\", \"name\": \"SVK\", \"text\": \"SVK\", \"type\": \"scatter\", \"visible\": false, \"x\": [22951.723337], \"y\": [61.31092796690547]}, {\"marker\": {\"color\": \"#FF4464\", \"line\": {\"color\": \"purple\", \"width\": 2}, \"size\": 16}, \"mode\": \"markers\", \"name\": \"SVN\", \"text\": \"SVN\", \"type\": \"scatter\", \"visible\": false, \"x\": [27516.532192000002], \"y\": [88.07486067934748]}, {\"marker\": {\"color\": \"#2B2B2B\", \"line\": {\"color\": \"purple\", \"width\": 2}, \"size\": 16}, \"mode\": \"markers\", \"name\": \"ESP\", \"text\": \"ESP\", \"type\": \"scatter\", \"visible\": false, \"x\": [32095.778361], \"y\": [97.3631224695077]}, {\"marker\": {\"color\": \"#2B2B2B\", \"line\": {\"color\": \"purple\", \"width\": 2}, \"size\": 16}, \"mode\": \"markers\", \"name\": \"SWE\", \"text\": \"SWE\", \"type\": \"scatter\", \"visible\": false, \"x\": [40156.476371], \"y\": [79.40497477028465]}, {\"marker\": {\"color\": \"#2B2B2B\", \"line\": {\"color\": \"purple\", \"width\": 2}, \"size\": 16}, \"mode\": \"markers\", \"name\": \"GBR\", \"text\": \"GBR\", \"type\": \"scatter\", \"visible\": false, \"x\": [35012.082006], \"y\": [81.41214138221699]}, {\"marker\": {\"color\": \"#16a085\", \"line\": {\"color\": \"black\", \"width\": 1}, \"size\": 10, \"symbol\": \"square\"}, \"mode\": \"markers\", \"name\": \"K means centro\\u00efds\", \"opacity\": 1, \"type\": \"scatter\", \"visible\": false, \"x\": [20231.150848454545, 37484.03175561539, 82206.353504], \"y\": [74.36410866835519, 83.65911007544607, 99.29078014184395]}, {\"marker\": {\"color\": \"#2B2B2B\", \"line\": {\"color\": \"purple\", \"width\": 2}, \"size\": 16}, \"mode\": \"markers\", \"name\": \"AUT\", \"text\": \"AUT\", \"type\": \"scatter\", \"visible\": false, \"x\": [42017.796538999995], \"y\": [94.35269203915924]}, {\"marker\": {\"color\": \"#2B2B2B\", \"line\": {\"color\": \"purple\", \"width\": 2}, \"size\": 16}, \"mode\": \"markers\", \"name\": \"BEL\", \"text\": \"BEL\", \"type\": \"scatter\", \"visible\": false, \"x\": [39836.849331], \"y\": [69.92681208922032]}, {\"marker\": {\"color\": \"#FF4464\", \"line\": {\"color\": \"purple\", \"width\": 2}, \"size\": 16}, \"mode\": \"markers\", \"name\": \"BGR\", \"text\": \"BGR\", \"type\": \"scatter\", \"visible\": false, \"x\": [14587.638194], \"y\": [52.81761780147744]}, {\"marker\": {\"color\": \"#FF4464\", \"line\": {\"color\": \"purple\", \"width\": 2}, \"size\": 16}, \"mode\": \"markers\", \"name\": \"HRV\", \"text\": \"HRV\", \"type\": \"scatter\", \"visible\": false, \"x\": [19727.254504], \"y\": [61.587130567273256]}, {\"marker\": {\"color\": \"#2B2B2B\", \"line\": {\"color\": \"purple\", \"width\": 2}, \"size\": 16}, \"mode\": \"markers\", \"name\": \"DNK\", \"text\": \"DNK\", \"type\": \"scatter\", \"visible\": false, \"x\": [43004.912769], \"y\": [78.0524751126431]}, {\"marker\": {\"color\": \"#FF4464\", \"line\": {\"color\": \"purple\", \"width\": 2}, \"size\": 16}, \"mode\": \"markers\", \"name\": \"EST\", \"text\": \"EST\", \"type\": \"scatter\", \"visible\": false, \"x\": [21766.793094999997], \"y\": [76.50248633080575]}, {\"marker\": {\"color\": \"#2B2B2B\", \"line\": {\"color\": \"purple\", \"width\": 2}, \"size\": 16}, \"mode\": \"markers\", \"name\": \"FIN\", \"text\": \"FIN\", \"type\": \"scatter\", \"visible\": false, \"x\": [38953.010667], \"y\": [76.05448042176414]}, {\"marker\": {\"color\": \"#2B2B2B\", \"line\": {\"color\": \"purple\", \"width\": 2}, \"size\": 16}, \"mode\": \"markers\", \"name\": \"FRA\", \"text\": \"FRA\", \"type\": \"scatter\", \"visible\": false, \"x\": [35909.162325], \"y\": [90.0108718286015]}, {\"marker\": {\"color\": \"#2B2B2B\", \"line\": {\"color\": \"purple\", \"width\": 2}, \"size\": 16}, \"mode\": \"markers\", \"name\": \"DEU\", \"text\": \"DEU\", \"type\": \"scatter\", \"visible\": false, \"x\": [39673.86048], \"y\": [89.66745257407752]}, {\"marker\": {\"color\": \"#FF4464\", \"line\": {\"color\": \"purple\", \"width\": 2}, \"size\": 16}, \"mode\": \"markers\", \"name\": \"GRC\", \"text\": \"GRC\", \"type\": \"scatter\", \"visible\": false, \"x\": [28148.306881], \"y\": [83.18877223174971]}, {\"marker\": {\"color\": \"#FF4464\", \"line\": {\"color\": \"purple\", \"width\": 2}, \"size\": 16}, \"mode\": \"markers\", \"name\": \"HUN\", \"text\": \"HUN\", \"type\": \"scatter\", \"visible\": false, \"x\": [21569.890078], \"y\": [70.79858810240212]}, {\"marker\": {\"color\": \"#2B2B2B\", \"line\": {\"color\": \"purple\", \"width\": 2}, \"size\": 16}, \"mode\": \"markers\", \"name\": \"IRL\", \"text\": \"IRL\", \"type\": \"scatter\", \"visible\": false, \"x\": [43298.660675], \"y\": [81.10909767117977]}, {\"marker\": {\"color\": \"#2B2B2B\", \"line\": {\"color\": \"purple\", \"width\": 2}, \"size\": 16}, \"mode\": \"markers\", \"name\": \"ITA\", \"text\": \"ITA\", \"type\": \"scatter\", \"visible\": false, \"x\": [34831.193927], \"y\": [91.85651063556308]}, {\"marker\": {\"color\": \"#FF4464\", \"line\": {\"color\": \"purple\", \"width\": 2}, \"size\": 16}, \"mode\": \"markers\", \"name\": \"LVA\", \"text\": \"LVA\", \"type\": \"scatter\", \"visible\": false, \"x\": [17589.444565], \"y\": [65.07886804269175]}, {\"marker\": {\"color\": \"#FF4464\", \"line\": {\"color\": \"purple\", \"width\": 2}, \"size\": 16}, \"mode\": \"markers\", \"name\": \"LTU\", \"text\": \"LTU\", \"type\": \"scatter\", \"visible\": false, \"x\": [20038.874647999997], \"y\": [73.83888355608063]}, {\"marker\": {\"color\": \"#F2F2F2\", \"line\": {\"color\": \"purple\", \"width\": 2}, \"size\": 16}, \"mode\": \"markers\", \"name\": \"LUX\", \"text\": \"LUX\", \"type\": \"scatter\", \"visible\": false, \"x\": [85514.872976], \"y\": [99.58850031669144]}, {\"marker\": {\"color\": \"#FF4464\", \"line\": {\"color\": \"purple\", \"width\": 2}, \"size\": 16}, \"mode\": \"markers\", \"name\": \"MLT\", \"text\": \"MLT\", \"type\": \"scatter\", \"visible\": false, \"x\": [27811.504613], \"y\": [96.61205670161608]}, {\"marker\": {\"color\": \"#2B2B2B\", \"line\": {\"color\": \"purple\", \"width\": 2}, \"size\": 16}, \"mode\": \"markers\", \"name\": \"NLD\", \"text\": \"NLD\", \"type\": \"scatter\", \"visible\": false, \"x\": [45041.369847], \"y\": [81.20669039358035]}, {\"marker\": {\"color\": \"#FF4464\", \"line\": {\"color\": \"purple\", \"width\": 2}, \"size\": 16}, \"mode\": \"markers\", \"name\": \"POL\", \"text\": \"POL\", \"type\": \"scatter\", \"visible\": false, \"x\": [20789.191989], \"y\": [78.55798572169817]}, {\"marker\": {\"color\": \"#FF4464\", \"line\": {\"color\": \"purple\", \"width\": 2}, \"size\": 16}, \"mode\": \"markers\", \"name\": \"ROU\", \"text\": \"ROU\", \"type\": \"scatter\", \"visible\": false, \"x\": [16966.414344999997], \"y\": [63.46489866335926]}, {\"marker\": {\"color\": \"#FF4464\", \"line\": {\"color\": \"purple\", \"width\": 2}, \"size\": 16}, \"mode\": \"markers\", \"name\": \"SVK\", \"text\": \"SVK\", \"type\": \"scatter\", \"visible\": false, \"x\": [24974.227631], \"y\": [59.36468654517931]}, {\"marker\": {\"color\": \"#FF4464\", \"line\": {\"color\": \"purple\", \"width\": 2}, \"size\": 16}, \"mode\": \"markers\", \"name\": \"SVN\", \"text\": \"SVN\", \"type\": \"scatter\", \"visible\": false, \"x\": [27821.436958], \"y\": [86.46901575787894]}, {\"marker\": {\"color\": \"#2B2B2B\", \"line\": {\"color\": \"purple\", \"width\": 2}, \"size\": 16}, \"mode\": \"markers\", \"name\": \"ESP\", \"text\": \"ESP\", \"type\": \"scatter\", \"visible\": false, \"x\": [31689.975608999997], \"y\": [95.98461010898642]}, {\"marker\": {\"color\": \"#2B2B2B\", \"line\": {\"color\": \"purple\", \"width\": 2}, \"size\": 16}, \"mode\": \"markers\", \"name\": \"SWE\", \"text\": \"SWE\", \"type\": \"scatter\", \"visible\": false, \"x\": [42179.452526], \"y\": [81.57862562926347]}, {\"marker\": {\"color\": \"#2B2B2B\", \"line\": {\"color\": \"purple\", \"width\": 2}, \"size\": 16}, \"mode\": \"markers\", \"name\": \"GBR\", \"text\": \"GBR\", \"type\": \"scatter\", \"visible\": false, \"x\": [36344.412859], \"y\": [82.6745114881017]}, {\"marker\": {\"color\": \"#16a085\", \"line\": {\"color\": \"black\", \"width\": 1}, \"size\": 10, \"symbol\": \"square\"}, \"mode\": \"markers\", \"name\": \"K means centro\\u00efds\", \"opacity\": 1, \"type\": \"scatter\", \"visible\": false, \"x\": [21815.91479175, 39398.388129499996, 85514.872976], \"y\": [72.35674916851771, 84.37290249934505, 99.58850031669144]}, {\"marker\": {\"color\": \"#2B2B2B\", \"line\": {\"color\": \"purple\", \"width\": 2}, \"size\": 16}, \"mode\": \"markers\", \"name\": \"AUT\", \"text\": \"AUT\", \"type\": \"scatter\", \"visible\": false, \"x\": [44469.209642], \"y\": [93.7295078639654]}, {\"marker\": {\"color\": \"#2B2B2B\", \"line\": {\"color\": \"purple\", \"width\": 2}, \"size\": 16}, \"mode\": \"markers\", \"name\": \"BEL\", \"text\": \"BEL\", \"type\": \"scatter\", \"visible\": false, \"x\": [41108.701911000004], \"y\": [67.17792186235016]}, {\"marker\": {\"color\": \"#FF4464\", \"line\": {\"color\": \"purple\", \"width\": 2}, \"size\": 16}, \"mode\": \"markers\", \"name\": \"BGR\", \"text\": \"BGR\", \"type\": \"scatter\", \"visible\": false, \"x\": [15661.177049000002], \"y\": [56.44940565967711]}, {\"marker\": {\"color\": \"#FF4464\", \"line\": {\"color\": \"purple\", \"width\": 2}, \"size\": 16}, \"mode\": \"markers\", \"name\": \"HRV\", \"text\": \"HRV\", \"type\": \"scatter\", \"visible\": false, \"x\": [20698.839662000002], \"y\": [61.07429688215714]}, {\"marker\": {\"color\": \"#2B2B2B\", \"line\": {\"color\": \"purple\", \"width\": 2}, \"size\": 16}, \"mode\": \"markers\", \"name\": \"DNK\", \"text\": \"DNK\", \"type\": \"scatter\", \"visible\": false, \"x\": [44407.94207], \"y\": [75.89070874728537]}, {\"marker\": {\"color\": \"#FF4464\", \"line\": {\"color\": \"purple\", \"width\": 2}, \"size\": 16}, \"mode\": \"markers\", \"name\": \"EST\", \"text\": \"EST\", \"type\": \"scatter\", \"visible\": false, \"x\": [24738.851279], \"y\": [79.71962757396628]}, {\"marker\": {\"color\": \"#2B2B2B\", \"line\": {\"color\": \"purple\", \"width\": 2}, \"size\": 16}, \"mode\": \"markers\", \"name\": \"FIN\", \"text\": \"FIN\", \"type\": \"scatter\", \"visible\": false, \"x\": [40916.647325], \"y\": [75.71704225048165]}, {\"marker\": {\"color\": \"#2B2B2B\", \"line\": {\"color\": \"purple\", \"width\": 2}, \"size\": 16}, \"mode\": \"markers\", \"name\": \"FRA\", \"text\": \"FRA\", \"type\": \"scatter\", \"visible\": false, \"x\": [37447.949543], \"y\": [88.70596267969017]}, {\"marker\": {\"color\": \"#2B2B2B\", \"line\": {\"color\": \"purple\", \"width\": 2}, \"size\": 16}, \"mode\": \"markers\", \"name\": \"DEU\", \"text\": \"DEU\", \"type\": \"scatter\", \"visible\": false, \"x\": [42541.513126], \"y\": [91.9946401279997]}, {\"marker\": {\"color\": \"#FF4464\", \"line\": {\"color\": \"purple\", \"width\": 2}, \"size\": 16}, \"mode\": \"markers\", \"name\": \"GRC\", \"text\": \"GRC\", \"type\": \"scatter\", \"visible\": false, \"x\": [26141.091034], \"y\": [81.18027306778366]}, {\"marker\": {\"color\": \"#FF4464\", \"line\": {\"color\": \"purple\", \"width\": 2}, \"size\": 16}, \"mode\": \"markers\", \"name\": \"HUN\", \"text\": \"HUN\", \"type\": \"scatter\", \"visible\": false, \"x\": [22894.347639], \"y\": [73.30466439983006]}, {\"marker\": {\"color\": \"#2B2B2B\", \"line\": {\"color\": \"purple\", \"width\": 2}, \"size\": 16}, \"mode\": \"markers\", \"name\": \"IRL\", \"text\": \"IRL\", \"type\": \"scatter\", \"visible\": false, \"x\": [44870.463335], \"y\": [78.32188149286756]}, {\"marker\": {\"color\": \"#2B2B2B\", \"line\": {\"color\": \"purple\", \"width\": 2}, \"size\": 16}, \"mode\": \"markers\", \"name\": \"ITA\", \"text\": \"ITA\", \"type\": \"scatter\", \"visible\": false, \"x\": [36183.316026], \"y\": [88.99229491470435]}, {\"marker\": {\"color\": \"#FF4464\", \"line\": {\"color\": \"purple\", \"width\": 2}, \"size\": 16}, \"mode\": \"markers\", \"name\": \"LVA\", \"text\": \"LVA\", \"type\": \"scatter\", \"visible\": false, \"x\": [19797.965061000003], \"y\": [68.9287840335871]}, {\"marker\": {\"color\": \"#FF4464\", \"line\": {\"color\": \"purple\", \"width\": 2}, \"size\": 16}, \"mode\": \"markers\", \"name\": \"LTU\", \"text\": \"LTU\", \"type\": \"scatter\", \"visible\": false, \"x\": [22823.934252000003], \"y\": [74.36313056331218]}, {\"marker\": {\"color\": \"#F2F2F2\", \"line\": {\"color\": \"purple\", \"width\": 2}, \"size\": 16}, \"mode\": \"markers\", \"name\": \"LUX\", \"text\": \"LUX\", \"type\": \"scatter\", \"visible\": false, \"x\": [91814.036613], \"y\": [99.64051266020631]}, {\"marker\": {\"color\": \"#FF4464\", \"line\": {\"color\": \"purple\", \"width\": 2}, \"size\": 16}, \"mode\": \"markers\", \"name\": \"MLT\", \"text\": \"MLT\", \"type\": \"scatter\", \"visible\": false, \"x\": [28585.575738], \"y\": [98.79779945974472]}, {\"marker\": {\"color\": \"#2B2B2B\", \"line\": {\"color\": \"purple\", \"width\": 2}, \"size\": 16}, \"mode\": \"markers\", \"name\": \"NLD\", \"text\": \"NLD\", \"type\": \"scatter\", \"visible\": false, \"x\": [46599.227659], \"y\": [77.15030662894047]}, {\"marker\": {\"color\": \"#FF4464\", \"line\": {\"color\": \"purple\", \"width\": 2}, \"size\": 16}, \"mode\": \"markers\", \"name\": \"POL\", \"text\": \"POL\", \"type\": \"scatter\", \"visible\": false, \"x\": [22576.179383000002], \"y\": [79.81563481619995]}, {\"marker\": {\"color\": \"#FF4464\", \"line\": {\"color\": \"purple\", \"width\": 2}, \"size\": 16}, \"mode\": \"markers\", \"name\": \"ROU\", \"text\": \"ROU\", \"type\": \"scatter\", \"visible\": false, \"x\": [17907.570971], \"y\": [58.96314278798829]}, {\"marker\": {\"color\": \"#FF4464\", \"line\": {\"color\": \"purple\", \"width\": 2}, \"size\": 16}, \"mode\": \"markers\", \"name\": \"SVK\", \"text\": \"SVK\", \"type\": \"scatter\", \"visible\": false, \"x\": [26051.137711000003], \"y\": [61.75305232541968]}, {\"marker\": {\"color\": \"#FF4464\", \"line\": {\"color\": \"purple\", \"width\": 2}, \"size\": 16}, \"mode\": \"markers\", \"name\": \"SVN\", \"text\": \"SVN\", \"type\": \"scatter\", \"visible\": false, \"x\": [28931.421879], \"y\": [82.91918452396341]}, {\"marker\": {\"color\": \"#FF4464\", \"line\": {\"color\": \"purple\", \"width\": 2}, \"size\": 16}, \"mode\": \"markers\", \"name\": \"ESP\", \"text\": \"ESP\", \"type\": \"scatter\", \"visible\": false, \"x\": [31872.363088], \"y\": [95.4203912154612]}, {\"marker\": {\"color\": \"#2B2B2B\", \"line\": {\"color\": \"purple\", \"width\": 2}, \"size\": 16}, \"mode\": \"markers\", \"name\": \"SWE\", \"text\": \"SWE\", \"type\": \"scatter\", \"visible\": false, \"x\": [44503.736723], \"y\": [82.84150614354732]}, {\"marker\": {\"color\": \"#2B2B2B\", \"line\": {\"color\": \"purple\", \"width\": 2}, \"size\": 16}, \"mode\": \"markers\", \"name\": \"GBR\", \"text\": \"GBR\", \"type\": \"scatter\", \"visible\": false, \"x\": [37146.173273], \"y\": [83.62088657434455]}, {\"marker\": {\"color\": \"#16a085\", \"line\": {\"color\": \"black\", \"width\": 1}, \"size\": 10, \"symbol\": \"square\"}, \"mode\": \"markers\", \"name\": \"K means centro\\u00efds\", \"opacity\": 1, \"type\": \"scatter\", \"visible\": false, \"x\": [23744.650365076923, 41835.89823936364, 91814.036613], \"y\": [74.82226056223776, 82.19478720783425, 99.64051266020631]}, {\"marker\": {\"color\": \"#2B2B2B\", \"line\": {\"color\": \"purple\", \"width\": 2}, \"size\": 16}, \"mode\": \"markers\", \"name\": \"AUT\", \"text\": \"AUT\", \"type\": \"scatter\", \"visible\": false, \"x\": [46477.655075], \"y\": [89.55627541516114]}, {\"marker\": {\"color\": \"#2B2B2B\", \"line\": {\"color\": \"purple\", \"width\": 2}, \"size\": 16}, \"mode\": \"markers\", \"name\": \"BEL\", \"text\": \"BEL\", \"type\": \"scatter\", \"visible\": false, \"x\": [42440.26234], \"y\": [72.68039612892473]}, {\"marker\": {\"color\": \"#FF4464\", \"line\": {\"color\": \"purple\", \"width\": 2}, \"size\": 16}, \"mode\": \"markers\", \"name\": \"BGR\", \"text\": \"BGR\", \"type\": \"scatter\", \"visible\": false, \"x\": [16241.600465000001], \"y\": [56.22866176876809]}, {\"marker\": {\"color\": \"#FF4464\", \"line\": {\"color\": \"purple\", \"width\": 2}, \"size\": 16}, \"mode\": \"markers\", \"name\": \"HRV\", \"text\": \"HRV\", \"type\": \"scatter\", \"visible\": false, \"x\": [21094.81931], \"y\": [69.22383245587449]}, {\"marker\": {\"color\": \"#2B2B2B\", \"line\": {\"color\": \"purple\", \"width\": 2}, \"size\": 16}, \"mode\": \"markers\", \"name\": \"DNK\", \"text\": \"DNK\", \"type\": \"scatter\", \"visible\": false, \"x\": [44808.549212], \"y\": [111.10083727024526]}, {\"marker\": {\"color\": \"#FF4464\", \"line\": {\"color\": \"purple\", \"width\": 2}, \"size\": 16}, \"mode\": \"markers\", \"name\": \"EST\", \"text\": \"EST\", \"type\": \"scatter\", \"visible\": false, \"x\": [26141.083529], \"y\": [63.385845487946504]}, {\"marker\": {\"color\": \"#2B2B2B\", \"line\": {\"color\": \"purple\", \"width\": 2}, \"size\": 16}, \"mode\": \"markers\", \"name\": \"FIN\", \"text\": \"FIN\", \"type\": \"scatter\", \"visible\": false, \"x\": [40872.854802], \"y\": [79.61095054178955]}, {\"marker\": {\"color\": \"#2B2B2B\", \"line\": {\"color\": \"purple\", \"width\": 2}, \"size\": 16}, \"mode\": \"markers\", \"name\": \"FRA\", \"text\": \"FRA\", \"type\": \"scatter\", \"visible\": false, \"x\": [37684.198067000005], \"y\": [88.95938098119517]}, {\"marker\": {\"color\": \"#2B2B2B\", \"line\": {\"color\": \"purple\", \"width\": 2}, \"size\": 16}, \"mode\": \"markers\", \"name\": \"DEU\", \"text\": \"DEU\", \"type\": \"scatter\", \"visible\": false, \"x\": [43359.541048], \"y\": [90.18037319536549]}, {\"marker\": {\"color\": \"#FF4464\", \"line\": {\"color\": \"purple\", \"width\": 2}, \"size\": 16}, \"mode\": \"markers\", \"name\": \"GRC\", \"text\": \"GRC\", \"type\": \"scatter\", \"visible\": false, \"x\": [25284.405781999998], \"y\": [78.29408376348476]}, {\"marker\": {\"color\": \"#FF4464\", \"line\": {\"color\": \"purple\", \"width\": 2}, \"size\": 16}, \"mode\": \"markers\", \"name\": \"HUN\", \"text\": \"HUN\", \"type\": \"scatter\", \"visible\": false, \"x\": [23148.127881], \"y\": [72.29212866589306]}, {\"marker\": {\"color\": \"#2B2B2B\", \"line\": {\"color\": \"purple\", \"width\": 2}, \"size\": 16}, \"mode\": \"markers\", \"name\": \"IRL\", \"text\": \"IRL\", \"type\": \"scatter\", \"visible\": false, \"x\": [46277.631708999994], \"y\": [81.92993813635972]}, {\"marker\": {\"color\": \"#2B2B2B\", \"line\": {\"color\": \"purple\", \"width\": 2}, \"size\": 16}, \"mode\": \"markers\", \"name\": \"ITA\", \"text\": \"ITA\", \"type\": \"scatter\", \"visible\": false, \"x\": [36002.908697000006], \"y\": [89.04908857525447]}, {\"marker\": {\"color\": \"#FF4464\", \"line\": {\"color\": \"purple\", \"width\": 2}, \"size\": 16}, \"mode\": \"markers\", \"name\": \"LVA\", \"text\": \"LVA\", \"type\": \"scatter\", \"visible\": false, \"x\": [21298.207498], \"y\": [64.55358020513367]}, {\"marker\": {\"color\": \"#FF4464\", \"line\": {\"color\": \"purple\", \"width\": 2}, \"size\": 16}, \"mode\": \"markers\", \"name\": \"LTU\", \"text\": \"LTU\", \"type\": \"scatter\", \"visible\": false, \"x\": [24645.651236], \"y\": [76.24080241280501]}, {\"marker\": {\"color\": \"#F2F2F2\", \"line\": {\"color\": \"purple\", \"width\": 2}, \"size\": 16}, \"mode\": \"markers\", \"name\": \"LUX\", \"text\": \"LUX\", \"type\": \"scatter\", \"visible\": false, \"x\": [91526.720705], \"y\": [97.1700647609902]}, {\"marker\": {\"color\": \"#FF4464\", \"line\": {\"color\": \"purple\", \"width\": 2}, \"size\": 16}, \"mode\": \"markers\", \"name\": \"MLT\", \"text\": \"MLT\", \"type\": \"scatter\", \"visible\": false, \"x\": [29434.899196], \"y\": [95.79782826323328]}, {\"marker\": {\"color\": \"#2B2B2B\", \"line\": {\"color\": \"purple\", \"width\": 2}, \"size\": 16}, \"mode\": \"markers\", \"name\": \"NLD\", \"text\": \"NLD\", \"type\": \"scatter\", \"visible\": false, \"x\": [47271.968226], \"y\": [91.57012155395692]}, {\"marker\": {\"color\": \"#FF4464\", \"line\": {\"color\": \"purple\", \"width\": 2}, \"size\": 16}, \"mode\": \"markers\", \"name\": \"POL\", \"text\": \"POL\", \"type\": \"scatter\", \"visible\": false, \"x\": [23542.002955], \"y\": [77.265029190996]}, {\"marker\": {\"color\": \"#FF4464\", \"line\": {\"color\": \"purple\", \"width\": 2}, \"size\": 16}, \"mode\": \"markers\", \"name\": \"ROU\", \"text\": \"ROU\", \"type\": \"scatter\", \"visible\": false, \"x\": [18929.530638999997], \"y\": [58.61864224097179]}, {\"marker\": {\"color\": \"#FF4464\", \"line\": {\"color\": \"purple\", \"width\": 2}, \"size\": 16}, \"mode\": \"markers\", \"name\": \"SVK\", \"text\": \"SVK\", \"type\": \"scatter\", \"visible\": false, \"x\": [26940.079741], \"y\": [51.625347268353]}, {\"marker\": {\"color\": \"#FF4464\", \"line\": {\"color\": \"purple\", \"width\": 2}, \"size\": 16}, \"mode\": \"markers\", \"name\": \"SVN\", \"text\": \"SVN\", \"type\": \"scatter\", \"visible\": false, \"x\": [29048.331295], \"y\": [79.29959484231543]}, {\"marker\": {\"color\": \"#FF4464\", \"line\": {\"color\": \"purple\", \"width\": 2}, \"size\": 16}, \"mode\": \"markers\", \"name\": \"ESP\", \"text\": \"ESP\", \"type\": \"scatter\", \"visible\": false, \"x\": [31724.631513], \"y\": [95.83875883873327]}, {\"marker\": {\"color\": \"#2B2B2B\", \"line\": {\"color\": \"purple\", \"width\": 2}, \"size\": 16}, \"mode\": \"markers\", \"name\": \"SWE\", \"text\": \"SWE\", \"type\": \"scatter\", \"visible\": false, \"x\": [45304.291021], \"y\": [80.88281430012375]}, {\"marker\": {\"color\": \"#2B2B2B\", \"line\": {\"color\": \"purple\", \"width\": 2}, \"size\": 16}, \"mode\": \"markers\", \"name\": \"GBR\", \"text\": \"GBR\", \"type\": \"scatter\", \"visible\": false, \"x\": [38309.028313], \"y\": [83.67576402130507]}, {\"marker\": {\"color\": \"#16a085\", \"line\": {\"color\": \"black\", \"width\": 1}, \"size\": 10, \"symbol\": \"square\"}, \"mode\": \"markers\", \"name\": \"K means centro\\u00efds\", \"opacity\": 1, \"type\": \"scatter\", \"visible\": false, \"x\": [24421.02854153846, 42618.98986454545, 91526.720705], \"y\": [72.20493349265449, 87.19963091997103, 97.1700647609902]}, {\"marker\": {\"color\": \"#2B2B2B\", \"line\": {\"color\": \"purple\", \"width\": 2}, \"size\": 16}, \"mode\": \"markers\", \"name\": \"AUT\", \"text\": \"AUT\", \"type\": \"scatter\", \"visible\": false, \"x\": [47936.677963], \"y\": [92.76064676887691]}, {\"marker\": {\"color\": \"#2B2B2B\", \"line\": {\"color\": \"purple\", \"width\": 2}, \"size\": 16}, \"mode\": \"markers\", \"name\": \"BEL\", \"text\": \"BEL\", \"type\": \"scatter\", \"visible\": false, \"x\": [43806.183952], \"y\": [70.38982134452819]}, {\"marker\": {\"color\": \"#FF4464\", \"line\": {\"color\": \"purple\", \"width\": 2}, \"size\": 16}, \"mode\": \"markers\", \"name\": \"BGR\", \"text\": \"BGR\", \"type\": \"scatter\", \"visible\": false, \"x\": [16581.738181], \"y\": [53.400675841149884]}, {\"marker\": {\"color\": \"#FF4464\", \"line\": {\"color\": \"purple\", \"width\": 2}, \"size\": 16}, \"mode\": \"markers\", \"name\": \"HRV\", \"text\": \"HRV\", \"type\": \"scatter\", \"visible\": false, \"x\": [21736.211938], \"y\": [66.8678175752087]}, {\"marker\": {\"color\": \"#2B2B2B\", \"line\": {\"color\": \"purple\", \"width\": 2}, \"size\": 16}, \"mode\": \"markers\", \"name\": \"DNK\", \"text\": \"DNK\", \"type\": \"scatter\", \"visible\": false, \"x\": [46742.939663], \"y\": [109.41293978468676]}, {\"marker\": {\"color\": \"#FF4464\", \"line\": {\"color\": \"purple\", \"width\": 2}, \"size\": 16}, \"mode\": \"markers\", \"name\": \"EST\", \"text\": \"EST\", \"type\": \"scatter\", \"visible\": false, \"x\": [27596.458608999998], \"y\": [60.59807267829847]}, {\"marker\": {\"color\": \"#2B2B2B\", \"line\": {\"color\": \"purple\", \"width\": 2}, \"size\": 16}, \"mode\": \"markers\", \"name\": \"FIN\", \"text\": \"FIN\", \"type\": \"scatter\", \"visible\": false, \"x\": [41492.918416], \"y\": [78.68539735388562]}, {\"marker\": {\"color\": \"#2B2B2B\", \"line\": {\"color\": \"purple\", \"width\": 2}, \"size\": 16}, \"mode\": \"markers\", \"name\": \"FRA\", \"text\": \"FRA\", \"type\": \"scatter\", \"visible\": false, \"x\": [39528.473644], \"y\": [86.23429600604265]}, {\"marker\": {\"color\": \"#2B2B2B\", \"line\": {\"color\": \"purple\", \"width\": 2}, \"size\": 16}, \"mode\": \"markers\", \"name\": \"DEU\", \"text\": \"DEU\", \"type\": \"scatter\", \"visible\": false, \"x\": [44993.667838], \"y\": [89.61331729400665]}, {\"marker\": {\"color\": \"#FF4464\", \"line\": {\"color\": \"purple\", \"width\": 2}, \"size\": 16}, \"mode\": \"markers\", \"name\": \"GRC\", \"text\": \"GRC\", \"type\": \"scatter\", \"visible\": false, \"x\": [26097.797516], \"y\": [80.60987230105742]}, {\"marker\": {\"color\": \"#FF4464\", \"line\": {\"color\": \"purple\", \"width\": 2}, \"size\": 16}, \"mode\": \"markers\", \"name\": \"HUN\", \"text\": \"HUN\", \"type\": \"scatter\", \"visible\": false, \"x\": [24498.179083000003], \"y\": [65.80011016472432]}, {\"marker\": {\"color\": \"#2B2B2B\", \"line\": {\"color\": \"purple\", \"width\": 2}, \"size\": 16}, \"mode\": \"markers\", \"name\": \"IRL\", \"text\": \"IRL\", \"type\": \"scatter\", \"visible\": false, \"x\": [47936.388703], \"y\": [86.33819538854247]}, {\"marker\": {\"color\": \"#2B2B2B\", \"line\": {\"color\": \"purple\", \"width\": 2}, \"size\": 16}, \"mode\": \"markers\", \"name\": \"ITA\", \"text\": \"ITA\", \"type\": \"scatter\", \"visible\": false, \"x\": [36067.707344], \"y\": [86.20223560513557]}, {\"marker\": {\"color\": \"#FF4464\", \"line\": {\"color\": \"purple\", \"width\": 2}, \"size\": 16}, \"mode\": \"markers\", \"name\": \"LVA\", \"text\": \"LVA\", \"type\": \"scatter\", \"visible\": false, \"x\": [22690.891022], \"y\": [62.25834743616666]}, {\"marker\": {\"color\": \"#FF4464\", \"line\": {\"color\": \"purple\", \"width\": 2}, \"size\": 16}, \"mode\": \"markers\", \"name\": \"LTU\", \"text\": \"LTU\", \"type\": \"scatter\", \"visible\": false, \"x\": [26679.905255], \"y\": [80.08331356486832]}, {\"marker\": {\"color\": \"#F2F2F2\", \"line\": {\"color\": \"purple\", \"width\": 2}, \"size\": 16}, \"mode\": \"markers\", \"name\": \"LUX\", \"text\": \"LUX\", \"type\": \"scatter\", \"visible\": false, \"x\": [95246.113893], \"y\": [96.8272322866682]}, {\"marker\": {\"color\": \"#FF4464\", \"line\": {\"color\": \"purple\", \"width\": 2}, \"size\": 16}, \"mode\": \"markers\", \"name\": \"MLT\", \"text\": \"MLT\", \"type\": \"scatter\", \"visible\": false, \"x\": [31072.386018], \"y\": [97.03935300786492]}, {\"marker\": {\"color\": \"#2B2B2B\", \"line\": {\"color\": \"purple\", \"width\": 2}, \"size\": 16}, \"mode\": \"markers\", \"name\": \"NLD\", \"text\": \"NLD\", \"type\": \"scatter\", \"visible\": false, \"x\": [49242.786711], \"y\": [91.3014781363652]}, {\"marker\": {\"color\": \"#FF4464\", \"line\": {\"color\": \"purple\", \"width\": 2}, \"size\": 16}, \"mode\": \"markers\", \"name\": \"POL\", \"text\": \"POL\", \"type\": \"scatter\", \"visible\": false, \"x\": [24422.763907], \"y\": [77.97693979131974]}, {\"marker\": {\"color\": \"#FF4464\", \"line\": {\"color\": \"purple\", \"width\": 2}, \"size\": 16}, \"mode\": \"markers\", \"name\": \"ROU\", \"text\": \"ROU\", \"type\": \"scatter\", \"visible\": false, \"x\": [19792.281449000002], \"y\": [54.195603872393285]}, {\"marker\": {\"color\": \"#FF4464\", \"line\": {\"color\": \"purple\", \"width\": 2}, \"size\": 16}, \"mode\": \"markers\", \"name\": \"SVK\", \"text\": \"SVK\", \"type\": \"scatter\", \"visible\": false, \"x\": [27969.200116000004], \"y\": [54.88985435891977]}, {\"marker\": {\"color\": \"#FF4464\", \"line\": {\"color\": \"purple\", \"width\": 2}, \"size\": 16}, \"mode\": \"markers\", \"name\": \"SVN\", \"text\": \"SVN\", \"type\": \"scatter\", \"visible\": false, \"x\": [29979.62248], \"y\": [72.37151748500719]}, {\"marker\": {\"color\": \"#FF4464\", \"line\": {\"color\": \"purple\", \"width\": 2}, \"size\": 16}, \"mode\": \"markers\", \"name\": \"ESP\", \"text\": \"ESP\", \"type\": \"scatter\", \"visible\": false, \"x\": [32452.659676], \"y\": [94.76139410531911]}, {\"marker\": {\"color\": \"#2B2B2B\", \"line\": {\"color\": \"purple\", \"width\": 2}, \"size\": 16}, \"mode\": \"markers\", \"name\": \"SWE\", \"text\": \"SWE\", \"type\": \"scatter\", \"visible\": false, \"x\": [46138.356247], \"y\": [83.50867888537469]}, {\"marker\": {\"color\": \"#2B2B2B\", \"line\": {\"color\": \"purple\", \"width\": 2}, \"size\": 16}, \"mode\": \"markers\", \"name\": \"GBR\", \"text\": \"GBR\", \"type\": \"scatter\", \"visible\": false, \"x\": [39984.885036], \"y\": [82.23099721459907]}, {\"marker\": {\"color\": \"#16a085\", \"line\": {\"color\": \"black\", \"width\": 1}, \"size\": 10, \"symbol\": \"square\"}, \"mode\": \"markers\", \"name\": \"K means centro\\u00efds\", \"opacity\": 1, \"type\": \"scatter\", \"visible\": false, \"x\": [25505.39194230769, 43988.271410636364, 95246.113893], \"y\": [70.83483632171522, 86.97072761654944, 96.8272322866682]}],\n",
       "                        {\"font\": {\"color\": \"#F2F2F2\", \"family\": \"Courier\", \"size\": 10}, \"paper_bgcolor\": \"rgba(0,0,0,0)\", \"plot_bgcolor\": \"rgba(0,0,0,0)\", \"sliders\": [{\"active\": 10, \"currentvalue\": {\"prefix\": \"year: \"}, \"name\": \"date\", \"pad\": {\"t\": 50}, \"steps\": [{\"args\": [\"visible\", [true, true, true, true, true, true, true, true, true, true, true, true, true, true, true, true, true, true, true, true, true, true, true, true, true, true, false, false, false, false, false, false, false, false, false, false, false, false, false, false, false, false, false, false, false, false, false, false, false, false, false, false, false, false, false, false, false, false, false, false, false, false, false, false, false, false, false, false, false, false, false, false, false, false, false, false, false, false, false, false, false, false, false, false, false, false, false, false, false, false, false, false, false, false, false, false, false, false, false, false, false, false, false, false, false, false, false, false, false, false, false, false, false, false, false, false, false, false, false, false, false, false, false, false, false, false, false, false, false, false, false, false, false, false, false, false, false, false, false, false, false, false, false, false, false, false, false, false, false, false, false, false, false, false, false, false, false, false, false, false, false, false, false, false, false, false, false, false, false, false, false, false, false, false, false, false, false, false, false, false, false, false, false, false, false, false, false, false, false, false, false, false, false, false, false, false, false, false, false, false, false, false, false, false, false, false, false, false, false, false, false, false, false, false, false, false, false, false, false, false, false, false, false, false, false, false, false, false, false, false, false, false, false, false, false, false, false, false, false, false, false, false, false, false, false, false, false, false, false, false, false, false, false, false, false, false, false, false, false, false]], \"label\": \"2004\", \"method\": \"restyle\"}, {\"args\": [\"visible\", [false, false, false, false, false, false, false, false, false, false, false, false, false, false, false, false, false, false, false, false, false, false, false, false, false, false, true, true, true, true, true, true, true, true, true, true, true, true, true, true, true, true, true, true, true, true, true, true, true, true, true, true, false, false, false, false, false, false, false, false, false, false, false, false, false, false, false, false, false, false, false, false, false, false, false, false, false, false, false, false, false, false, false, false, false, false, false, false, false, false, false, false, false, false, false, false, false, false, false, false, false, false, false, false, false, false, false, false, false, false, false, false, false, false, false, false, false, false, false, false, false, false, false, false, false, false, false, false, false, false, false, false, false, false, false, false, false, false, false, false, false, false, false, false, false, false, false, false, false, false, false, false, false, false, false, false, false, false, false, false, false, false, false, false, false, false, false, false, false, false, false, false, false, false, false, false, false, false, false, false, false, false, false, false, false, false, false, false, false, false, false, false, false, false, false, false, false, false, false, false, false, false, false, false, false, false, false, false, false, false, false, false, false, false, false, false, false, false, false, false, false, false, false, false, false, false, false, false, false, false, false, false, false, false, false, false, false, false, false, false, false, false, false, false, false, false, false, false, false, false, false, false, false, false, false, false, false, false, false, false]], \"label\": \"2005\", \"method\": \"restyle\"}, {\"args\": [\"visible\", [false, false, false, false, false, false, false, false, false, false, false, false, false, false, false, false, false, false, false, false, false, false, false, false, false, false, false, false, false, false, false, false, false, false, false, false, false, false, false, false, false, false, false, false, false, false, false, false, false, false, false, false, true, true, true, true, true, true, true, true, true, true, true, true, true, true, true, true, true, true, true, true, true, true, true, true, true, true, false, false, false, false, false, false, false, false, false, false, false, false, false, false, false, false, false, false, false, false, false, false, false, false, false, false, false, false, false, false, false, false, false, false, false, false, false, false, false, false, false, false, false, false, false, false, false, false, false, false, false, false, false, false, false, false, false, false, false, false, false, false, false, false, false, false, false, false, false, false, false, false, false, false, false, false, false, false, false, false, false, false, false, false, false, false, false, false, false, false, false, false, false, false, false, false, false, false, false, false, false, false, false, false, false, false, false, false, false, false, false, false, false, false, false, false, false, false, false, false, false, false, false, false, false, false, false, false, false, false, false, false, false, false, false, false, false, false, false, false, false, false, false, false, false, false, false, false, false, false, false, false, false, false, false, false, false, false, false, false, false, false, false, false, false, false, false, false, false, false, false, false, false, false, false, false, false, false, false, false, false, false]], \"label\": \"2006\", \"method\": \"restyle\"}, {\"args\": [\"visible\", [false, false, false, false, false, false, false, false, false, false, false, false, false, false, false, false, false, false, false, false, false, false, false, false, false, false, false, false, false, false, false, false, false, false, false, false, false, false, false, false, false, false, false, false, false, false, false, false, false, false, false, false, false, false, false, false, false, false, false, false, false, false, false, false, false, false, false, false, false, false, false, false, false, false, false, false, false, false, true, true, true, true, true, true, true, true, true, true, true, true, true, true, true, true, true, true, true, true, true, true, true, true, true, true, false, false, false, false, false, false, false, false, false, false, false, false, false, false, false, false, false, false, false, false, false, false, false, false, false, false, false, false, false, false, false, false, false, false, false, false, false, false, false, false, false, false, false, false, false, false, false, false, false, false, false, false, false, false, false, false, false, false, false, false, false, false, false, false, false, false, false, false, false, false, false, false, false, false, false, false, false, false, false, false, false, false, false, false, false, false, false, false, false, false, false, false, false, false, false, false, false, false, false, false, false, false, false, false, false, false, false, false, false, false, false, false, false, false, false, false, false, false, false, false, false, false, false, false, false, false, false, false, false, false, false, false, false, false, false, false, false, false, false, false, false, false, false, false, false, false, false, false, false, false, false, false, false, false, false, false]], \"label\": \"2007\", \"method\": \"restyle\"}, {\"args\": [\"visible\", [false, false, false, false, false, false, false, false, false, false, false, false, false, false, false, false, false, false, false, false, false, false, false, false, false, false, false, false, false, false, false, false, false, false, false, false, false, false, false, false, false, false, false, false, false, false, false, false, false, false, false, false, false, false, false, false, false, false, false, false, false, false, false, false, false, false, false, false, false, false, false, false, false, false, false, false, false, false, false, false, false, false, false, false, false, false, false, false, false, false, false, false, false, false, false, false, false, false, false, false, false, false, false, false, true, true, true, true, true, true, true, true, true, true, true, true, true, true, true, true, true, true, true, true, true, true, true, true, true, true, false, false, false, false, false, false, false, false, false, false, false, false, false, false, false, false, false, false, false, false, false, false, false, false, false, false, false, false, false, false, false, false, false, false, false, false, false, false, false, false, false, false, false, false, false, false, false, false, false, false, false, false, false, false, false, false, false, false, false, false, false, false, false, false, false, false, false, false, false, false, false, false, false, false, false, false, false, false, false, false, false, false, false, false, false, false, false, false, false, false, false, false, false, false, false, false, false, false, false, false, false, false, false, false, false, false, false, false, false, false, false, false, false, false, false, false, false, false, false, false, false, false, false, false, false, false, false, false, false, false]], \"label\": \"2008\", \"method\": \"restyle\"}, {\"args\": [\"visible\", [false, false, false, false, false, false, false, false, false, false, false, false, false, false, false, false, false, false, false, false, false, false, false, false, false, false, false, false, false, false, false, false, false, false, false, false, false, false, false, false, false, false, false, false, false, false, false, false, false, false, false, false, false, false, false, false, false, false, false, false, false, false, false, false, false, false, false, false, false, false, false, false, false, false, false, false, false, false, false, false, false, false, false, false, false, false, false, false, false, false, false, false, false, false, false, false, false, false, false, false, false, false, false, false, false, false, false, false, false, false, false, false, false, false, false, false, false, false, false, false, false, false, false, false, false, false, false, false, false, false, true, true, true, true, true, true, true, true, true, true, true, true, true, true, true, true, true, true, true, true, true, true, true, true, true, true, false, false, false, false, false, false, false, false, false, false, false, false, false, false, false, false, false, false, false, false, false, false, false, false, false, false, false, false, false, false, false, false, false, false, false, false, false, false, false, false, false, false, false, false, false, false, false, false, false, false, false, false, false, false, false, false, false, false, false, false, false, false, false, false, false, false, false, false, false, false, false, false, false, false, false, false, false, false, false, false, false, false, false, false, false, false, false, false, false, false, false, false, false, false, false, false, false, false, false, false, false, false, false, false]], \"label\": \"2009\", \"method\": \"restyle\"}, {\"args\": [\"visible\", [false, false, false, false, false, false, false, false, false, false, false, false, false, false, false, false, false, false, false, false, false, false, false, false, false, false, false, false, false, false, false, false, false, false, false, false, false, false, false, false, false, false, false, false, false, false, false, false, false, false, false, false, false, false, false, false, false, false, false, false, false, false, false, false, false, false, false, false, false, false, false, false, false, false, false, false, false, false, false, false, false, false, false, false, false, false, false, false, false, false, false, false, false, false, false, false, false, false, false, false, false, false, false, false, false, false, false, false, false, false, false, false, false, false, false, false, false, false, false, false, false, false, false, false, false, false, false, false, false, false, false, false, false, false, false, false, false, false, false, false, false, false, false, false, false, false, false, false, false, false, false, false, false, false, false, false, true, true, true, true, true, true, true, true, true, true, true, true, true, true, true, true, true, true, true, true, true, true, true, true, true, true, false, false, false, false, false, false, false, false, false, false, false, false, false, false, false, false, false, false, false, false, false, false, false, false, false, false, false, false, false, false, false, false, false, false, false, false, false, false, false, false, false, false, false, false, false, false, false, false, false, false, false, false, false, false, false, false, false, false, false, false, false, false, false, false, false, false, false, false, false, false, false, false, false, false, false, false, false, false]], \"label\": \"2010\", \"method\": \"restyle\"}, {\"args\": [\"visible\", [false, false, false, false, false, false, false, false, false, false, false, false, false, false, false, false, false, false, false, false, false, false, false, false, false, false, false, false, false, false, false, false, false, false, false, false, false, false, false, false, false, false, false, false, false, false, false, false, false, false, false, false, false, false, false, false, false, false, false, false, false, false, false, false, false, false, false, false, false, false, false, false, false, false, false, false, false, false, false, false, false, false, false, false, false, false, false, false, false, false, false, false, false, false, false, false, false, false, false, false, false, false, false, false, false, false, false, false, false, false, false, false, false, false, false, false, false, false, false, false, false, false, false, false, false, false, false, false, false, false, false, false, false, false, false, false, false, false, false, false, false, false, false, false, false, false, false, false, false, false, false, false, false, false, false, false, false, false, false, false, false, false, false, false, false, false, false, false, false, false, false, false, false, false, false, false, false, false, false, false, false, false, true, true, true, true, true, true, true, true, true, true, true, true, true, true, true, true, true, true, true, true, true, true, true, true, true, true, false, false, false, false, false, false, false, false, false, false, false, false, false, false, false, false, false, false, false, false, false, false, false, false, false, false, false, false, false, false, false, false, false, false, false, false, false, false, false, false, false, false, false, false, false, false, false, false, false, false, false, false]], \"label\": \"2011\", \"method\": \"restyle\"}, {\"args\": [\"visible\", [false, false, false, false, false, false, false, false, false, false, false, false, false, false, false, false, false, false, false, false, false, false, false, false, false, false, false, false, false, false, false, false, false, false, false, false, false, false, false, false, false, false, false, false, false, false, false, false, false, false, false, false, false, false, false, false, false, false, false, false, false, false, false, false, false, false, false, false, false, false, false, false, false, false, false, false, false, false, false, false, false, false, false, false, false, false, false, false, false, false, false, false, false, false, false, false, false, false, false, false, false, false, false, false, false, false, false, false, false, false, false, false, false, false, false, false, false, false, false, false, false, false, false, false, false, false, false, false, false, false, false, false, false, false, false, false, false, false, false, false, false, false, false, false, false, false, false, false, false, false, false, false, false, false, false, false, false, false, false, false, false, false, false, false, false, false, false, false, false, false, false, false, false, false, false, false, false, false, false, false, false, false, false, false, false, false, false, false, false, false, false, false, false, false, false, false, false, false, false, false, false, false, false, false, false, false, false, false, true, true, true, true, true, true, true, true, true, true, true, true, true, true, true, true, true, true, true, true, true, true, true, true, true, true, false, false, false, false, false, false, false, false, false, false, false, false, false, false, false, false, false, false, false, false, false, false, false, false, false, false]], \"label\": \"2012\", \"method\": \"restyle\"}, {\"args\": [\"visible\", [false, false, false, false, false, false, false, false, false, false, false, false, false, false, false, false, false, false, false, false, false, false, false, false, false, false, false, false, false, false, false, false, false, false, false, false, false, false, false, false, false, false, false, false, false, false, false, false, false, false, false, false, false, false, false, false, false, false, false, false, false, false, false, false, false, false, false, false, false, false, false, false, false, false, false, false, false, false, false, false, false, false, false, false, false, false, false, false, false, false, false, false, false, false, false, false, false, false, false, false, false, false, false, false, false, false, false, false, false, false, false, false, false, false, false, false, false, false, false, false, false, false, false, false, false, false, false, false, false, false, false, false, false, false, false, false, false, false, false, false, false, false, false, false, false, false, false, false, false, false, false, false, false, false, false, false, false, false, false, false, false, false, false, false, false, false, false, false, false, false, false, false, false, false, false, false, false, false, false, false, false, false, false, false, false, false, false, false, false, false, false, false, false, false, false, false, false, false, false, false, false, false, false, false, false, false, false, false, false, false, false, false, false, false, false, false, false, false, false, false, false, false, false, false, false, false, false, false, false, false, false, false, false, false, true, true, true, true, true, true, true, true, true, true, true, true, true, true, true, true, true, true, true, true, true, true, true, true, true, true]], \"label\": \"2013\", \"method\": \"restyle\"}]}], \"template\": {\"data\": {\"bar\": [{\"error_x\": {\"color\": \"#2a3f5f\"}, \"error_y\": {\"color\": \"#2a3f5f\"}, \"marker\": {\"line\": {\"color\": \"#E5ECF6\", \"width\": 0.5}}, \"type\": \"bar\"}], \"barpolar\": [{\"marker\": {\"line\": {\"color\": \"#E5ECF6\", \"width\": 0.5}}, \"type\": \"barpolar\"}], \"carpet\": [{\"aaxis\": {\"endlinecolor\": \"#2a3f5f\", \"gridcolor\": \"white\", \"linecolor\": \"white\", \"minorgridcolor\": \"white\", \"startlinecolor\": \"#2a3f5f\"}, \"baxis\": {\"endlinecolor\": \"#2a3f5f\", \"gridcolor\": \"white\", \"linecolor\": \"white\", \"minorgridcolor\": \"white\", \"startlinecolor\": \"#2a3f5f\"}, \"type\": \"carpet\"}], \"choropleth\": [{\"colorbar\": {\"outlinewidth\": 0, \"ticks\": \"\"}, \"type\": \"choropleth\"}], \"contour\": [{\"colorbar\": {\"outlinewidth\": 0, \"ticks\": \"\"}, \"colorscale\": [[0.0, \"#0d0887\"], [0.1111111111111111, \"#46039f\"], [0.2222222222222222, \"#7201a8\"], [0.3333333333333333, \"#9c179e\"], [0.4444444444444444, \"#bd3786\"], [0.5555555555555556, \"#d8576b\"], [0.6666666666666666, \"#ed7953\"], [0.7777777777777778, \"#fb9f3a\"], [0.8888888888888888, \"#fdca26\"], [1.0, \"#f0f921\"]], \"type\": \"contour\"}], \"contourcarpet\": [{\"colorbar\": {\"outlinewidth\": 0, \"ticks\": \"\"}, \"type\": \"contourcarpet\"}], \"heatmap\": [{\"colorbar\": {\"outlinewidth\": 0, \"ticks\": \"\"}, \"colorscale\": [[0.0, \"#0d0887\"], [0.1111111111111111, \"#46039f\"], [0.2222222222222222, \"#7201a8\"], [0.3333333333333333, \"#9c179e\"], [0.4444444444444444, \"#bd3786\"], [0.5555555555555556, \"#d8576b\"], [0.6666666666666666, \"#ed7953\"], [0.7777777777777778, \"#fb9f3a\"], [0.8888888888888888, \"#fdca26\"], [1.0, \"#f0f921\"]], \"type\": \"heatmap\"}], \"heatmapgl\": [{\"colorbar\": {\"outlinewidth\": 0, \"ticks\": \"\"}, \"colorscale\": [[0.0, \"#0d0887\"], [0.1111111111111111, \"#46039f\"], [0.2222222222222222, \"#7201a8\"], [0.3333333333333333, \"#9c179e\"], [0.4444444444444444, \"#bd3786\"], [0.5555555555555556, \"#d8576b\"], [0.6666666666666666, \"#ed7953\"], [0.7777777777777778, \"#fb9f3a\"], [0.8888888888888888, \"#fdca26\"], [1.0, \"#f0f921\"]], \"type\": \"heatmapgl\"}], \"histogram\": [{\"marker\": {\"colorbar\": {\"outlinewidth\": 0, \"ticks\": \"\"}}, \"type\": \"histogram\"}], \"histogram2d\": [{\"colorbar\": {\"outlinewidth\": 0, \"ticks\": \"\"}, \"colorscale\": [[0.0, \"#0d0887\"], [0.1111111111111111, \"#46039f\"], [0.2222222222222222, \"#7201a8\"], [0.3333333333333333, \"#9c179e\"], [0.4444444444444444, \"#bd3786\"], [0.5555555555555556, \"#d8576b\"], [0.6666666666666666, \"#ed7953\"], [0.7777777777777778, \"#fb9f3a\"], [0.8888888888888888, \"#fdca26\"], [1.0, \"#f0f921\"]], \"type\": \"histogram2d\"}], \"histogram2dcontour\": [{\"colorbar\": {\"outlinewidth\": 0, \"ticks\": \"\"}, \"colorscale\": [[0.0, \"#0d0887\"], [0.1111111111111111, \"#46039f\"], [0.2222222222222222, \"#7201a8\"], [0.3333333333333333, \"#9c179e\"], [0.4444444444444444, \"#bd3786\"], [0.5555555555555556, \"#d8576b\"], [0.6666666666666666, \"#ed7953\"], [0.7777777777777778, \"#fb9f3a\"], [0.8888888888888888, \"#fdca26\"], [1.0, \"#f0f921\"]], \"type\": \"histogram2dcontour\"}], \"mesh3d\": [{\"colorbar\": {\"outlinewidth\": 0, \"ticks\": \"\"}, \"type\": \"mesh3d\"}], \"parcoords\": [{\"line\": {\"colorbar\": {\"outlinewidth\": 0, \"ticks\": \"\"}}, \"type\": \"parcoords\"}], \"pie\": [{\"automargin\": true, \"type\": \"pie\"}], \"scatter\": [{\"marker\": {\"colorbar\": {\"outlinewidth\": 0, \"ticks\": \"\"}}, \"type\": \"scatter\"}], \"scatter3d\": [{\"line\": {\"colorbar\": {\"outlinewidth\": 0, \"ticks\": \"\"}}, \"marker\": {\"colorbar\": {\"outlinewidth\": 0, \"ticks\": \"\"}}, \"type\": \"scatter3d\"}], \"scattercarpet\": [{\"marker\": {\"colorbar\": {\"outlinewidth\": 0, \"ticks\": \"\"}}, \"type\": \"scattercarpet\"}], \"scattergeo\": [{\"marker\": {\"colorbar\": {\"outlinewidth\": 0, \"ticks\": \"\"}}, \"type\": \"scattergeo\"}], \"scattergl\": [{\"marker\": {\"colorbar\": {\"outlinewidth\": 0, \"ticks\": \"\"}}, \"type\": \"scattergl\"}], \"scattermapbox\": [{\"marker\": {\"colorbar\": {\"outlinewidth\": 0, \"ticks\": \"\"}}, \"type\": \"scattermapbox\"}], \"scatterpolar\": [{\"marker\": {\"colorbar\": {\"outlinewidth\": 0, \"ticks\": \"\"}}, \"type\": \"scatterpolar\"}], \"scatterpolargl\": [{\"marker\": {\"colorbar\": {\"outlinewidth\": 0, \"ticks\": \"\"}}, \"type\": \"scatterpolargl\"}], \"scatterternary\": [{\"marker\": {\"colorbar\": {\"outlinewidth\": 0, \"ticks\": \"\"}}, \"type\": \"scatterternary\"}], \"surface\": [{\"colorbar\": {\"outlinewidth\": 0, \"ticks\": \"\"}, \"colorscale\": [[0.0, \"#0d0887\"], [0.1111111111111111, \"#46039f\"], [0.2222222222222222, \"#7201a8\"], [0.3333333333333333, \"#9c179e\"], [0.4444444444444444, \"#bd3786\"], [0.5555555555555556, \"#d8576b\"], [0.6666666666666666, \"#ed7953\"], [0.7777777777777778, \"#fb9f3a\"], [0.8888888888888888, \"#fdca26\"], [1.0, \"#f0f921\"]], \"type\": \"surface\"}], \"table\": [{\"cells\": {\"fill\": {\"color\": \"#EBF0F8\"}, \"line\": {\"color\": \"white\"}}, \"header\": {\"fill\": {\"color\": \"#C8D4E3\"}, \"line\": {\"color\": \"white\"}}, \"type\": \"table\"}]}, \"layout\": {\"annotationdefaults\": {\"arrowcolor\": \"#2a3f5f\", \"arrowhead\": 0, \"arrowwidth\": 1}, \"coloraxis\": {\"colorbar\": {\"outlinewidth\": 0, \"ticks\": \"\"}}, \"colorscale\": {\"diverging\": [[0, \"#8e0152\"], [0.1, \"#c51b7d\"], [0.2, \"#de77ae\"], [0.3, \"#f1b6da\"], [0.4, \"#fde0ef\"], [0.5, \"#f7f7f7\"], [0.6, \"#e6f5d0\"], [0.7, \"#b8e186\"], [0.8, \"#7fbc41\"], [0.9, \"#4d9221\"], [1, \"#276419\"]], \"sequential\": [[0.0, \"#0d0887\"], [0.1111111111111111, \"#46039f\"], [0.2222222222222222, \"#7201a8\"], [0.3333333333333333, \"#9c179e\"], [0.4444444444444444, \"#bd3786\"], [0.5555555555555556, \"#d8576b\"], [0.6666666666666666, \"#ed7953\"], [0.7777777777777778, \"#fb9f3a\"], [0.8888888888888888, \"#fdca26\"], [1.0, \"#f0f921\"]], \"sequentialminus\": [[0.0, \"#0d0887\"], [0.1111111111111111, \"#46039f\"], [0.2222222222222222, \"#7201a8\"], [0.3333333333333333, \"#9c179e\"], [0.4444444444444444, \"#bd3786\"], [0.5555555555555556, \"#d8576b\"], [0.6666666666666666, \"#ed7953\"], [0.7777777777777778, \"#fb9f3a\"], [0.8888888888888888, \"#fdca26\"], [1.0, \"#f0f921\"]]}, \"colorway\": [\"#636efa\", \"#EF553B\", \"#00cc96\", \"#ab63fa\", \"#FFA15A\", \"#19d3f3\", \"#FF6692\", \"#B6E880\", \"#FF97FF\", \"#FECB52\"], \"font\": {\"color\": \"#2a3f5f\"}, \"geo\": {\"bgcolor\": \"white\", \"lakecolor\": \"white\", \"landcolor\": \"#E5ECF6\", \"showlakes\": true, \"showland\": true, \"subunitcolor\": \"white\"}, \"hoverlabel\": {\"align\": \"left\"}, \"hovermode\": \"closest\", \"mapbox\": {\"style\": \"light\"}, \"paper_bgcolor\": \"white\", \"plot_bgcolor\": \"#E5ECF6\", \"polar\": {\"angularaxis\": {\"gridcolor\": \"white\", \"linecolor\": \"white\", \"ticks\": \"\"}, \"bgcolor\": \"#E5ECF6\", \"radialaxis\": {\"gridcolor\": \"white\", \"linecolor\": \"white\", \"ticks\": \"\"}}, \"scene\": {\"xaxis\": {\"backgroundcolor\": \"#E5ECF6\", \"gridcolor\": \"white\", \"gridwidth\": 2, \"linecolor\": \"white\", \"showbackground\": true, \"ticks\": \"\", \"zerolinecolor\": \"white\"}, \"yaxis\": {\"backgroundcolor\": \"#E5ECF6\", \"gridcolor\": \"white\", \"gridwidth\": 2, \"linecolor\": \"white\", \"showbackground\": true, \"ticks\": \"\", \"zerolinecolor\": \"white\"}, \"zaxis\": {\"backgroundcolor\": \"#E5ECF6\", \"gridcolor\": \"white\", \"gridwidth\": 2, \"linecolor\": \"white\", \"showbackground\": true, \"ticks\": \"\", \"zerolinecolor\": \"white\"}}, \"shapedefaults\": {\"line\": {\"color\": \"#2a3f5f\"}}, \"ternary\": {\"aaxis\": {\"gridcolor\": \"white\", \"linecolor\": \"white\", \"ticks\": \"\"}, \"baxis\": {\"gridcolor\": \"white\", \"linecolor\": \"white\", \"ticks\": \"\"}, \"bgcolor\": \"#E5ECF6\", \"caxis\": {\"gridcolor\": \"white\", \"linecolor\": \"white\", \"ticks\": \"\"}}, \"title\": {\"x\": 0.05}, \"xaxis\": {\"automargin\": true, \"gridcolor\": \"white\", \"linecolor\": \"white\", \"ticks\": \"\", \"title\": {\"standoff\": 15}, \"zerolinecolor\": \"white\", \"zerolinewidth\": 2}, \"yaxis\": {\"automargin\": true, \"gridcolor\": \"white\", \"linecolor\": \"white\", \"ticks\": \"\", \"title\": {\"standoff\": 15}, \"zerolinecolor\": \"white\", \"zerolinewidth\": 2}}}, \"title\": {\"font\": {\"color\": \"#F2F2F2\", \"family\": \"Courier\", \"size\": 15}, \"text\": \"Meat consumption depending on the salary\", \"x\": 0.5, \"xanchor\": \"center\", \"y\": 0.9, \"yanchor\": \"top\"}, \"xaxis\": {\"range\": [8000, 100000], \"tickcolor\": \"#F2F2F2\", \"ticklen\": 10, \"ticks\": \"outside\", \"tickwidth\": 2, \"title\": {\"font\": {\"color\": \"#F2F2F2\", \"family\": \"Courier\", \"size\": 10}}}, \"yaxis\": {\"gridcolor\": \"rgba(0,0,0,0)\", \"range\": [30, 120], \"tickcolor\": \"#F2F2F2\", \"ticklen\": 10, \"ticks\": \"outside\", \"tickwidth\": 2, \"title\": {\"font\": {\"color\": \"#F2F2F2\", \"family\": \"Courier\", \"size\": 10}, \"text\": \"Yearly meat consumption per capita\"}}},\n",
       "                        {\"responsive\": true}\n",
       "                    ).then(function(){\n",
       "                            \n",
       "var gd = document.getElementById('cdf262dc-721b-4fe6-825d-35bfcfb99d2e');\n",
       "var x = new MutationObserver(function (mutations, observer) {{\n",
       "        var display = window.getComputedStyle(gd).display;\n",
       "        if (!display || display === 'none') {{\n",
       "            console.log([gd, 'removed!']);\n",
       "            Plotly.purge(gd);\n",
       "            observer.disconnect();\n",
       "        }}\n",
       "}});\n",
       "\n",
       "// Listen for the removal of the full notebook cells\n",
       "var notebookContainer = gd.closest('#notebook-container');\n",
       "if (notebookContainer) {{\n",
       "    x.observe(notebookContainer, {childList: true});\n",
       "}}\n",
       "\n",
       "// Listen for the clearing of the current output cell\n",
       "var outputEl = gd.closest('.output');\n",
       "if (outputEl) {{\n",
       "    x.observe(outputEl, {childList: true});\n",
       "}}\n",
       "\n",
       "                        })\n",
       "                };\n",
       "                });\n",
       "            </script>\n",
       "        </div>"
      ]
     },
     "metadata": {},
     "output_type": "display_data"
    }
   ],
   "source": [
    "degree = 2\n",
    "\n",
    "colors_kmeans = ['#FF4464', '#2B2B2B', '#F2F2F2']\n",
    "color_centroid = '#16a085'\n",
    "\n",
    "k_means_groups = []\n",
    "\n",
    "# Create figure\n",
    "fig = go.Figure()\n",
    "fig_lin = go.Figure()\n",
    "\n",
    "for i in range(10):\n",
    "    visible = (i==0)\n",
    "    #regression on data of one year\n",
    "    model = make_pipeline(PolynomialFeatures(degree), linear_model.LinearRegression())\n",
    "    y=df_meat[countries_both].iloc[i].to_numpy()[:, np.newaxis]\n",
    "    x=df_gdp[countries_both].iloc[i].to_numpy()[:, np.newaxis]\n",
    "    model.fit(x, y)\n",
    "    t = np.linspace(0, 100000, 1000)\n",
    "    t = t[:, np.newaxis]\n",
    "    yt = model.predict(t)\n",
    "    #fig.add_trace(go.Scatter(x = t[:,0],y = yt[:,0], name='Interpolation', marker_color = 'red', opacity=0.,line=dict(color='firebrick', width=3, dash='dot'), visible=visible))\n",
    "    \n",
    "    #kmean\n",
    "    data_kmean = []\n",
    "    for c in countries_both:\n",
    "        data_kmean.append([df_gdp[c].iloc[i], df_meat[c].iloc[i]])\n",
    "    data_kmean = np.array(data_kmean)\n",
    "    k_means = KMeans(n_clusters=3, random_state=39847).fit(data_kmean)#81982 #123 #39847\n",
    "    groups = k_means.predict(data_kmean)\n",
    "    k_means_groups.append(groups)\n",
    "    \n",
    "    #one scatter per country\n",
    "    for j, c in enumerate(countries_both):\n",
    "        fig.add_trace(go.Scatter(y=[df_meat[c].iloc[i]], x=[df_gdp[c].iloc[i]], mode='markers', \n",
    "            marker=dict(\n",
    "                size=16,\n",
    "                color=colors_kmeans[groups[j]],#[str(i) for i in range(df_gdp.iloc[0].size)]\n",
    "                line=dict(\n",
    "                width=2,\n",
    "                color='purple')),\n",
    "            text=c, name=c, visible=visible))\n",
    "        \n",
    "    fig.add_trace(go.Scatter(x = k_means.cluster_centers_[:,0],y = k_means.cluster_centers_[:,1],\n",
    "                             mode = 'markers', name='K means centroïds',\n",
    "                             marker_color = color_centroid,\n",
    "                             opacity=1, visible=visible,\n",
    "                             marker=dict(size=10, symbol = 'square', line=dict(width=1, color='black'))))\n",
    "    \n",
    "    \n",
    "fig.update_xaxes(range=[8000, 100000])\n",
    "fig.update_yaxes(range=[30, 120])\n",
    "\n",
    "# Make 10th trace visible\n",
    "fig.data[0].visible = True\n",
    "\n",
    "# Create and add slider\n",
    "n = 26\n",
    "steps = []\n",
    "for i in range(0, len(fig.data), n):\n",
    "    step = dict(\n",
    "        method=\"restyle\",\n",
    "        args=[\"visible\", [False] * len(fig.data)],\n",
    "        label=str(int(2004+i/n))\n",
    "    )\n",
    "    for j in range(n):\n",
    "        step[\"args\"][1][i+j] = True  # Toggle i'th trace to \"visible\"\n",
    "    steps.append(step)\n",
    "    \n",
    "\n",
    "\n",
    "\n",
    "    \n",
    "sliders = [dict(\n",
    "    active=10,\n",
    "    currentvalue={\"prefix\": \"year: \"},\n",
    "    pad={\"t\": 50},\n",
    "    steps=steps,\n",
    "    name = \"date\"\n",
    ")]\n",
    "\n",
    "fig.update_layout(\n",
    "    #visible=[False for i in range(270)],\n",
    "    sliders=sliders,\n",
    "    title={\n",
    "        'text': \"Meat consumption depending on the salary\",\n",
    "        'y':0.9,\n",
    "        'x':0.5,\n",
    "        'xanchor': 'center',\n",
    "        'yanchor': 'top'},\n",
    "    yaxis_title=\"Yearly meat consumption per capita\",\n",
    ")\n",
    "\n",
    "change_config(fig).show()"
   ]
  },
  {
   "cell_type": "code",
   "execution_count": 246,
   "metadata": {},
   "outputs": [],
   "source": [
    "pio.write_html(fig, file='couillespoilues2', auto_open=True)"
   ]
  },
  {
   "cell_type": "markdown",
   "metadata": {},
   "source": [
    "### interpolation"
   ]
  },
  {
   "cell_type": "code",
   "execution_count": 154,
   "metadata": {},
   "outputs": [],
   "source": [
    "degree = 1"
   ]
  },
  {
   "cell_type": "code",
   "execution_count": 155,
   "metadata": {},
   "outputs": [
    {
     "name": "stdout",
     "output_type": "stream",
     "text": [
      "['AUT', 'BEL', 'BGR', 'HRV', 'DNK', 'EST', 'FIN', 'FRA', 'DEU', 'GRC', 'HUN', 'IRL', 'ITA', 'LVA', 'LTU', 'LUX', 'MLT', 'NLD', 'POL', 'ROU', 'SVK', 'SVN', 'ESP', 'SWE', 'GBR']\n"
     ]
    }
   ],
   "source": [
    "print(countries_both)"
   ]
  },
  {
   "cell_type": "code",
   "execution_count": 183,
   "metadata": {},
   "outputs": [],
   "source": [
    "countries_both_nLUX = ['AUT', 'BEL', 'BGR', 'HRV', 'DNK', 'EST', 'FIN', 'FRA', 'DEU', 'GRC', 'HUN', 'IRL', 'ITA', 'LVA', 'LTU', 'MLT', 'NLD', 'POL', 'ROU', 'SVK', 'SVN', 'ESP', 'SWE', 'GBR']"
   ]
  },
  {
   "cell_type": "code",
   "execution_count": 184,
   "metadata": {},
   "outputs": [
    {
     "data": {
      "text/plain": [
       "'l'"
      ]
     },
     "execution_count": 184,
     "metadata": {},
     "output_type": "execute_result"
    }
   ],
   "source": [
    "model1 = make_pipeline(PolynomialFeatures(1), linear_model.LinearRegression())\n",
    "model2 = make_pipeline(PolynomialFeatures(2), linear_model.LinearRegression())\n",
    "model3 = make_pipeline(PolynomialFeatures(3), linear_model.LinearRegression())\n",
    "model4 = make_pipeline(PolynomialFeatures(4), linear_model.LinearRegression())\n",
    "y=df_meat[countries_both_nLUX].iloc[0].to_numpy()#[:, np.newaxis]\n",
    "x=df_gdp[countries_both_nLUX].iloc[0].to_numpy()#[:, np.newaxis]\n",
    "for i in range(1, 10):\n",
    "    y = np.concatenate((y, df_meat[countries_both_nLUX].iloc[i].to_numpy()))\n",
    "    x = np.concatenate((x, df_gdp[countries_both_nLUX].iloc[i].to_numpy()))\n",
    "y_=y[:, np.newaxis]\n",
    "x_=x[:, np.newaxis]\n",
    "model1.fit(x_, y_)\n",
    "model2.fit(x_, y_)\n",
    "model3.fit(x_, y_)\n",
    "model4.fit(x_, y_)\n",
    "'l'"
   ]
  },
  {
   "cell_type": "code",
   "execution_count": 185,
   "metadata": {},
   "outputs": [
    {
     "data": {
      "text/plain": [
       "'l'"
      ]
     },
     "execution_count": 185,
     "metadata": {},
     "output_type": "execute_result"
    }
   ],
   "source": [
    "t = np.linspace(0, 100000, 1000)\n",
    "t = t[:, np.newaxis]\n",
    "yt1 = model1.predict(t)\n",
    "yt2 = model2.predict(t)\n",
    "yt3 = model3.predict(t)\n",
    "yt4 = model4.predict(t)\n",
    "'l'"
   ]
  },
  {
   "cell_type": "markdown",
   "metadata": {},
   "source": [
    "### fit data from all years"
   ]
  },
  {
   "cell_type": "code",
   "execution_count": 186,
   "metadata": {},
   "outputs": [],
   "source": [
    "#FF4464 #2B2B2B #F2F2F2 "
   ]
  },
  {
   "cell_type": "code",
   "execution_count": 189,
   "metadata": {},
   "outputs": [
    {
     "data": {
      "application/vnd.plotly.v1+json": {
       "config": {
        "plotlyServerURL": "https://plot.ly"
       },
       "data": [
        {
         "marker": {
          "color": "#FF4464",
          "line": {
           "color": "DarkSlateGrey",
           "width": 1
          },
          "opacity": 0.5,
          "size": 16
         },
         "mode": "markers",
         "name": "Countries",
         "text": [
          "AUT",
          "BEL",
          "BGR",
          "HRV",
          "DNK",
          "EST",
          "FIN",
          "FRA",
          "DEU",
          "GRC",
          "HUN",
          "IRL",
          "ITA",
          "LVA",
          "LTU",
          "MLT",
          "NLD",
          "POL",
          "ROU",
          "SVK",
          "SVN",
          "ESP",
          "SWE",
          "GBR",
          "AUT",
          "BEL",
          "BGR",
          "HRV",
          "DNK",
          "EST",
          "FIN",
          "FRA",
          "DEU",
          "GRC",
          "HUN",
          "IRL",
          "ITA",
          "LVA",
          "LTU",
          "MLT",
          "NLD",
          "POL",
          "ROU",
          "SVK",
          "SVN",
          "ESP",
          "SWE",
          "GBR",
          "AUT",
          "BEL",
          "BGR",
          "HRV",
          "DNK",
          "EST",
          "FIN",
          "FRA",
          "DEU",
          "GRC",
          "HUN",
          "IRL",
          "ITA",
          "LVA",
          "LTU",
          "MLT",
          "NLD",
          "POL",
          "ROU",
          "SVK",
          "SVN",
          "ESP",
          "SWE",
          "GBR",
          "AUT",
          "BEL",
          "BGR",
          "HRV",
          "DNK",
          "EST",
          "FIN",
          "FRA",
          "DEU",
          "GRC",
          "HUN",
          "IRL",
          "ITA",
          "LVA",
          "LTU",
          "MLT",
          "NLD",
          "POL",
          "ROU",
          "SVK",
          "SVN",
          "ESP",
          "SWE",
          "GBR",
          "AUT",
          "BEL",
          "BGR",
          "HRV",
          "DNK",
          "EST",
          "FIN",
          "FRA",
          "DEU",
          "GRC",
          "HUN",
          "IRL",
          "ITA",
          "LVA",
          "LTU",
          "MLT",
          "NLD",
          "POL",
          "ROU",
          "SVK",
          "SVN",
          "ESP",
          "SWE",
          "GBR",
          "AUT",
          "BEL",
          "BGR",
          "HRV",
          "DNK",
          "EST",
          "FIN",
          "FRA",
          "DEU",
          "GRC",
          "HUN",
          "IRL",
          "ITA",
          "LVA",
          "LTU",
          "MLT",
          "NLD",
          "POL",
          "ROU",
          "SVK",
          "SVN",
          "ESP",
          "SWE",
          "GBR",
          "AUT",
          "BEL",
          "BGR",
          "HRV",
          "DNK",
          "EST",
          "FIN",
          "FRA",
          "DEU",
          "GRC",
          "HUN",
          "IRL",
          "ITA",
          "LVA",
          "LTU",
          "MLT",
          "NLD",
          "POL",
          "ROU",
          "SVK",
          "SVN",
          "ESP",
          "SWE",
          "GBR",
          "AUT",
          "BEL",
          "BGR",
          "HRV",
          "DNK",
          "EST",
          "FIN",
          "FRA",
          "DEU",
          "GRC",
          "HUN",
          "IRL",
          "ITA",
          "LVA",
          "LTU",
          "MLT",
          "NLD",
          "POL",
          "ROU",
          "SVK",
          "SVN",
          "ESP",
          "SWE",
          "GBR",
          "AUT",
          "BEL",
          "BGR",
          "HRV",
          "DNK",
          "EST",
          "FIN",
          "FRA",
          "DEU",
          "GRC",
          "HUN",
          "IRL",
          "ITA",
          "LVA",
          "LTU",
          "MLT",
          "NLD",
          "POL",
          "ROU",
          "SVK",
          "SVN",
          "ESP",
          "SWE",
          "GBR",
          "AUT",
          "BEL",
          "BGR",
          "HRV",
          "DNK",
          "EST",
          "FIN",
          "FRA",
          "DEU",
          "GRC",
          "HUN",
          "IRL",
          "ITA",
          "LVA",
          "LTU",
          "MLT",
          "NLD",
          "POL",
          "ROU",
          "SVK",
          "SVN",
          "ESP",
          "SWE",
          "GBR"
         ],
         "type": "scatter",
         "x": [
          33753.472388999995,
          32033.983076999997,
          9117.098653000001,
          14530.588793,
          32917.958893,
          14481.432753000001,
          31173.153761,
          29038.567562,
          31712.774026,
          25437.218509000002,
          16228.920601,
          38697.209778,
          29446.371235000002,
          12199.780284,
          13031.432976,
          21341.856268,
          35776.668812,
          13341.874444,
          8982.019325,
          15183.955756,
          22737.262303,
          26158.034977,
          33608.849355,
          31984.826326,
          35024.557484,
          33177.947339,
          10183.806414,
          15301.2886,
          34152.881663,
          16574.460822,
          32051.762888999998,
          30504.058783999997,
          32236.740986,
          25577.445437000002,
          17073.551438,
          40437.080879,
          30016.1557,
          13837.089237999999,
          14526.159527000002,
          22265.719116,
          37625.252435,
          13897.543071,
          9602.103406999999,
          16595.261602000002,
          23848.605399,
          27600.937175,
          34029.085226999996,
          32661.847992000003,
          37626.245494,
          35222.474358,
          11251.243922,
          17425.914018,
          37297.523836,
          19257.646402000002,
          34419.156888,
          32441.180775999997,
          34630.81647,
          28519.445057999998,
          18342.715276,
          44243.985255,
          32262.115849,
          15742.904798,
          16484.558405,
          23227.410451,
          40971.493263,
          15145.861194,
          11544.715086,
          18831.79902,
          25681.207419,
          30713.803154,
          37435.395275999996,
          34778.350938999996,
          39393.953567000004,
          36755.650522,
          12607.887169,
          19340.283023,
          38978.780753,
          22133.611223,
          37801.926032999996,
          34095.407473,
          36822.840138,
          29291.872922000002,
          19045.808484,
          46746.547399,
          33905.682103,
          18121.545421000003,
          19095.571569,
          24892.495897999997,
          43895.900712,
          16789.98011,
          13686.942347999999,
          21115.656398,
          27533.363591,
          32431.570501,
          40592.764986,
          35601.9985,
          41316.022642,
          37883.233422000005,
          14089.659789,
          20765.46326,
          41282.995470999995,
          22807.728472,
          40083.701943,
          35102.870427999995,
          38432.448211,
          30855.935774,
          20696.728568000002,
          44219.775877,
          35274.312724,
          19462.435513,
          20744.011329,
          26193.230358,
          46419.042594,
          18315.13109,
          16782.151849,
          23608.977522,
          29594.66035,
          33242.245427,
          41971.781211,
          36650.101264,
          40935.528801,
          37757.239173,
          13914.467312,
          19977.356811,
          40340.373142000004,
          20579.678681999998,
          37979.854491000006,
          34693.236376,
          37472.754357,
          30365.360391000002,
          20678.068296,
          41587.138158,
          34329.471244,
          16921.577956,
          18145.907109,
          26141.314851,
          44567.119952,
          19080.70466,
          16635.328127,
          22951.723337,
          27516.532192000002,
          32095.778361,
          40156.476371,
          35012.082006,
          42017.796538999995,
          39836.849331,
          14587.638194,
          19727.254504,
          43004.912769,
          21766.793094999997,
          38953.010667,
          35909.162325,
          39673.86048,
          28148.306881,
          21569.890078,
          43298.660675,
          34831.193927,
          17589.444565,
          20038.874647999997,
          27811.504613,
          45041.369847,
          20789.191989,
          16966.414344999997,
          24974.227631,
          27821.436958,
          31689.975608999997,
          42179.452526,
          36344.412859,
          44469.209642,
          41108.701911000004,
          15661.177049000002,
          20698.839662000002,
          44407.94207,
          24738.851279,
          40916.647325,
          37447.949543,
          42541.513126,
          26141.091034,
          22894.347639,
          44870.463335,
          36183.316026,
          19797.965061000003,
          22823.934252000003,
          28585.575738,
          46599.227659,
          22576.179383000002,
          17907.570971,
          26051.137711000003,
          28931.421879,
          31872.363088,
          44503.736723,
          37146.173273,
          46477.655075,
          42440.26234,
          16241.600465000001,
          21094.81931,
          44808.549212,
          26141.083529,
          40872.854802,
          37684.198067000005,
          43359.541048,
          25284.405781999998,
          23148.127881,
          46277.631708999994,
          36002.908697000006,
          21298.207498,
          24645.651236,
          29434.899196,
          47271.968226,
          23542.002955,
          18929.530638999997,
          26940.079741,
          29048.331295,
          31724.631513,
          45304.291021,
          38309.028313,
          47936.677963,
          43806.183952,
          16581.738181,
          21736.211938,
          46742.939663,
          27596.458608999998,
          41492.918416,
          39528.473644,
          44993.667838,
          26097.797516,
          24498.179083000003,
          47936.388703,
          36067.707344,
          22690.891022,
          26679.905255,
          31072.386018,
          49242.786711,
          24422.763907,
          19792.281449000002,
          27969.200116000004,
          29979.62248,
          32452.659676,
          46138.356247,
          39984.885036
         ],
         "y": [
          96.16125025836428,
          80.508474983843,
          50.483225173131,
          50.16576766978847,
          73.5506628822967,
          61.48215919487649,
          72.2259303734368,
          90.70150486318191,
          84.40396172276702,
          81.35008974560182,
          89.55452259235236,
          104.24808462760227,
          87.22361072702576,
          55.34763586526804,
          73.5525808276666,
          100.03326105930222,
          78.85333230983922,
          77.71544249832314,
          55.991452498199216,
          62.1756835369401,
          90.16080178999245,
          108.77267359682722,
          77.7657823872758,
          86.2464592667606,
          95.4719821434472,
          83.57384347394543,
          50.46450101989016,
          50.337971927185784,
          94.43018957183949,
          66.23247599072745,
          72.75697965726306,
          87.66526048593924,
          83.92640904822689,
          84.59502683339666,
          84.27787773052648,
          102.39143589274632,
          86.03060474400642,
          59.56286193328604,
          81.66379551862471,
          96.85398392720552,
          77.02910044116331,
          77.25186636343977,
          65.84868999923955,
          66.07496996380767,
          91.6103905205773,
          108.2770556715443,
          78.01236479336376,
          85.35767724761786,
          92.31554276329737,
          80.29391377841658,
          47.71035515247586,
          58.4349587604554,
          80.70074780850486,
          70.3339009402532,
          71.92355553525968,
          82.79345594830652,
          84.34217741467391,
          85.41792446074938,
          83.75856850652022,
          102.42015742762388,
          86.83489627535472,
          60.59588648191056,
          80.2471856491283,
          98.765675964632,
          81.24053749768125,
          77.60032843205536,
          65.15495872045257,
          62.34961644749381,
          87.35333375262934,
          107.24842331752502,
          77.91990761904172,
          87.0994483190227,
          94.531149643655,
          83.80151643898543,
          46.747033709233186,
          63.5210604771498,
          91.79223232099964,
          74.46459952938373,
          76.18029716000989,
          83.40002480946481,
          87.8577204473756,
          80.55449035557061,
          83.14989691200951,
          91.93298431056485,
          89.92894720064722,
          64.73986345774253,
          84.6158272212501,
          108.47698315648294,
          74.70354552074606,
          79.63178639670338,
          65.54505588437718,
          60.299487454356644,
          85.05867307475165,
          110.43958662100997,
          79.55443372221369,
          86.04417653750014,
          90.2745538059812,
          69.37370357891436,
          51.343428746095036,
          63.08026012258443,
          79.62319964366792,
          70.23101521173903,
          75.65346862663863,
          90.95852711428854,
          87.32898190936353,
          80.64416242493742,
          80.63391396719753,
          88.16077114877073,
          88.11162283178787,
          67.98034501165704,
          84.04394564535635,
          100.53159143961237,
          89.72655892124294,
          76.79262169564458,
          67.26285723700853,
          61.38319781907358,
          89.5402555578383,
          101.51319696741804,
          80.47543011068258,
          82.22940666180328,
          93.10134621427252,
          67.70153295613908,
          55.57699026893773,
          67.75262680646601,
          67.67727772595636,
          75.61351760073069,
          74.34785106548355,
          90.13177358537949,
          87.94869259610054,
          82.65174188320687,
          78.45697950598023,
          86.25795729656059,
          89.79571830015385,
          65.19224314025024,
          76.0084626942927,
          99.77465529073359,
          89.77430073553661,
          78.71852740448391,
          71.52540399377895,
          61.31092796690547,
          88.07486067934748,
          97.3631224695077,
          79.40497477028465,
          81.41214138221699,
          94.35269203915924,
          69.92681208922032,
          52.81761780147744,
          61.587130567273256,
          78.0524751126431,
          76.50248633080575,
          76.05448042176414,
          90.0108718286015,
          89.66745257407752,
          83.18877223174971,
          70.79858810240212,
          81.10909767117977,
          91.85651063556308,
          65.07886804269175,
          73.83888355608063,
          96.61205670161608,
          81.20669039358035,
          78.55798572169817,
          63.46489866335926,
          59.36468654517931,
          86.46901575787894,
          95.98461010898642,
          81.57862562926347,
          82.6745114881017,
          93.7295078639654,
          67.17792186235016,
          56.44940565967711,
          61.07429688215714,
          75.89070874728537,
          79.71962757396628,
          75.71704225048165,
          88.70596267969017,
          91.9946401279997,
          81.18027306778366,
          73.30466439983006,
          78.32188149286756,
          88.99229491470435,
          68.9287840335871,
          74.36313056331218,
          98.79779945974472,
          77.15030662894047,
          79.81563481619995,
          58.96314278798829,
          61.75305232541968,
          82.91918452396341,
          95.4203912154612,
          82.84150614354732,
          83.62088657434455,
          89.55627541516114,
          72.68039612892473,
          56.22866176876809,
          69.22383245587449,
          111.10083727024526,
          63.385845487946504,
          79.61095054178955,
          88.95938098119517,
          90.18037319536549,
          78.29408376348476,
          72.29212866589306,
          81.92993813635972,
          89.04908857525447,
          64.55358020513367,
          76.24080241280501,
          95.79782826323328,
          91.57012155395692,
          77.265029190996,
          58.61864224097179,
          51.625347268353,
          79.29959484231543,
          95.83875883873327,
          80.88281430012375,
          83.67576402130507,
          92.76064676887691,
          70.38982134452819,
          53.400675841149884,
          66.8678175752087,
          109.41293978468676,
          60.59807267829847,
          78.68539735388562,
          86.23429600604265,
          89.61331729400665,
          80.60987230105742,
          65.80011016472432,
          86.33819538854247,
          86.20223560513557,
          62.25834743616666,
          80.08331356486832,
          97.03935300786492,
          91.3014781363652,
          77.97693979131974,
          54.195603872393285,
          54.88985435891977,
          72.37151748500719,
          94.76139410531911,
          83.50867888537469,
          82.23099721459907
         ]
        },
        {
         "line": {
          "color": "LightGrey",
          "dash": "dashdot",
          "width": 3
         },
         "marker": {
          "color": "red"
         },
         "name": "Interpolation with d=1",
         "opacity": 1,
         "type": "scatter",
         "visible": true,
         "x": [
          0,
          100.10010010010011,
          200.20020020020021,
          300.3003003003003,
          400.40040040040043,
          500.50050050050055,
          600.6006006006006,
          700.7007007007007,
          800.8008008008009,
          900.900900900901,
          1001.0010010010011,
          1101.1011011011012,
          1201.2012012012012,
          1301.3013013013015,
          1401.4014014014015,
          1501.5015015015017,
          1601.6016016016017,
          1701.7017017017017,
          1801.801801801802,
          1901.901901901902,
          2002.0020020020022,
          2102.1021021021024,
          2202.2022022022024,
          2302.3023023023025,
          2402.4024024024025,
          2502.5025025025025,
          2602.602602602603,
          2702.702702702703,
          2802.802802802803,
          2902.902902902903,
          3003.0030030030034,
          3103.1031031031034,
          3203.2032032032034,
          3303.3033033033034,
          3403.4034034034034,
          3503.503503503504,
          3603.603603603604,
          3703.703703703704,
          3803.803803803804,
          3903.9039039039044,
          4004.0040040040044,
          4104.104104104104,
          4204.204204204205,
          4304.304304304304,
          4404.404404404405,
          4504.504504504504,
          4604.604604604605,
          4704.704704704705,
          4804.804804804805,
          4904.904904904905,
          5005.005005005005,
          5105.105105105105,
          5205.205205205206,
          5305.305305305305,
          5405.405405405406,
          5505.505505505506,
          5605.605605605606,
          5705.705705705706,
          5805.805805805806,
          5905.905905905906,
          6006.006006006007,
          6106.106106106106,
          6206.206206206207,
          6306.306306306306,
          6406.406406406407,
          6506.506506506507,
          6606.606606606607,
          6706.706706706707,
          6806.806806806807,
          6906.906906906907,
          7007.007007007008,
          7107.107107107107,
          7207.207207207208,
          7307.307307307307,
          7407.407407407408,
          7507.507507507508,
          7607.607607607608,
          7707.707707707708,
          7807.807807807809,
          7907.907907907908,
          8008.008008008009,
          8108.108108108108,
          8208.208208208209,
          8308.30830830831,
          8408.40840840841,
          8508.508508508508,
          8608.608608608609,
          8708.70870870871,
          8808.80880880881,
          8908.90890890891,
          9009.009009009009,
          9109.10910910911,
          9209.20920920921,
          9309.30930930931,
          9409.40940940941,
          9509.50950950951,
          9609.60960960961,
          9709.70970970971,
          9809.80980980981,
          9909.909909909911,
          10010.01001001001,
          10110.11011011011,
          10210.21021021021,
          10310.310310310311,
          10410.410410410412,
          10510.51051051051,
          10610.61061061061,
          10710.710710710711,
          10810.810810810812,
          10910.910910910912,
          11011.011011011013,
          11111.111111111111,
          11211.211211211212,
          11311.311311311312,
          11411.411411411413,
          11511.511511511513,
          11611.611611611612,
          11711.711711711712,
          11811.811811811813,
          11911.911911911913,
          12012.012012012014,
          12112.112112112112,
          12212.212212212213,
          12312.312312312313,
          12412.412412412414,
          12512.512512512514,
          12612.612612612613,
          12712.712712712713,
          12812.812812812814,
          12912.912912912914,
          13013.013013013015,
          13113.113113113113,
          13213.213213213214,
          13313.313313313314,
          13413.413413413415,
          13513.513513513515,
          13613.613613613614,
          13713.713713713714,
          13813.813813813815,
          13913.913913913915,
          14014.014014014016,
          14114.114114114114,
          14214.214214214215,
          14314.314314314315,
          14414.414414414416,
          14514.514514514516,
          14614.614614614615,
          14714.714714714715,
          14814.814814814816,
          14914.914914914916,
          15015.015015015017,
          15115.115115115117,
          15215.215215215216,
          15315.315315315316,
          15415.415415415417,
          15515.515515515517,
          15615.615615615618,
          15715.715715715716,
          15815.815815815817,
          15915.915915915917,
          16016.016016016018,
          16116.116116116118,
          16216.216216216217,
          16316.316316316317,
          16416.416416416418,
          16516.516516516516,
          16616.61661661662,
          16716.716716716717,
          16816.81681681682,
          16916.916916916918,
          17017.017017017017,
          17117.11711711712,
          17217.217217217218,
          17317.31731731732,
          17417.41741741742,
          17517.517517517517,
          17617.61761761762,
          17717.71771771772,
          17817.81781781782,
          17917.91791791792,
          18018.018018018018,
          18118.11811811812,
          18218.21821821822,
          18318.31831831832,
          18418.41841841842,
          18518.51851851852,
          18618.61861861862,
          18718.71871871872,
          18818.81881881882,
          18918.91891891892,
          19019.01901901902,
          19119.11911911912,
          19219.21921921922,
          19319.319319319322,
          19419.41941941942,
          19519.51951951952,
          19619.61961961962,
          19719.71971971972,
          19819.819819819822,
          19919.91991991992,
          20020.02002002002,
          20120.120120120122,
          20220.22022022022,
          20320.320320320323,
          20420.42042042042,
          20520.52052052052,
          20620.620620620623,
          20720.72072072072,
          20820.820820820823,
          20920.920920920922,
          21021.02102102102,
          21121.121121121123,
          21221.22122122122,
          21321.321321321324,
          21421.421421421423,
          21521.521521521525,
          21621.621621621623,
          21721.721721721722,
          21821.821821821824,
          21921.921921921923,
          22022.022022022025,
          22122.122122122124,
          22222.222222222223,
          22322.322322322325,
          22422.422422422424,
          22522.522522522526,
          22622.622622622624,
          22722.722722722723,
          22822.822822822825,
          22922.922922922924,
          23023.023023023026,
          23123.123123123125,
          23223.223223223224,
          23323.323323323326,
          23423.423423423425,
          23523.523523523527,
          23623.623623623625,
          23723.723723723724,
          23823.823823823826,
          23923.923923923925,
          24024.024024024027,
          24124.124124124126,
          24224.224224224225,
          24324.324324324327,
          24424.424424424426,
          24524.524524524528,
          24624.624624624626,
          24724.724724724725,
          24824.824824824827,
          24924.924924924926,
          25025.02502502503,
          25125.125125125127,
          25225.225225225226,
          25325.325325325328,
          25425.425425425427,
          25525.52552552553,
          25625.625625625627,
          25725.725725725726,
          25825.82582582583,
          25925.925925925927,
          26026.02602602603,
          26126.126126126128,
          26226.226226226227,
          26326.32632632633,
          26426.426426426427,
          26526.52652652653,
          26626.62662662663,
          26726.726726726727,
          26826.82682682683,
          26926.926926926928,
          27027.02702702703,
          27127.12712712713,
          27227.227227227228,
          27327.32732732733,
          27427.42742742743,
          27527.52752752753,
          27627.62762762763,
          27727.727727727728,
          27827.82782782783,
          27927.92792792793,
          28028.02802802803,
          28128.12812812813,
          28228.22822822823,
          28328.32832832833,
          28428.42842842843,
          28528.52852852853,
          28628.62862862863,
          28728.72872872873,
          28828.82882882883,
          28928.92892892893,
          29029.029029029032,
          29129.12912912913,
          29229.22922922923,
          29329.32932932933,
          29429.42942942943,
          29529.529529529533,
          29629.62962962963,
          29729.72972972973,
          29829.829829829832,
          29929.92992992993,
          30030.030030030033,
          30130.130130130132,
          30230.230230230234,
          30330.330330330333,
          30430.43043043043,
          30530.530530530534,
          30630.630630630632,
          30730.730730730735,
          30830.830830830833,
          30930.930930930932,
          31031.031031031034,
          31131.131131131133,
          31231.231231231235,
          31331.331331331334,
          31431.431431431432,
          31531.531531531535,
          31631.631631631633,
          31731.731731731736,
          31831.831831831834,
          31931.931931931933,
          32032.032032032035,
          32132.132132132134,
          32232.232232232236,
          32332.332332332335,
          32432.432432432433,
          32532.532532532536,
          32632.632632632634,
          32732.732732732737,
          32832.832832832835,
          32932.932932932934,
          33033.03303303303,
          33133.13313313314,
          33233.23323323324,
          33333.333333333336,
          33433.433433433434,
          33533.53353353353,
          33633.63363363364,
          33733.73373373374,
          33833.833833833836,
          33933.933933933935,
          34034.03403403403,
          34134.13413413414,
          34234.23423423424,
          34334.33433433434,
          34434.434434434435,
          34534.534534534534,
          34634.63463463464,
          34734.73473473474,
          34834.83483483484,
          34934.934934934936,
          35035.035035035035,
          35135.13513513514,
          35235.23523523524,
          35335.33533533534,
          35435.43543543544,
          35535.535535535535,
          35635.63563563564,
          35735.73573573574,
          35835.83583583584,
          35935.93593593594,
          36036.036036036036,
          36136.13613613614,
          36236.23623623624,
          36336.33633633634,
          36436.43643643644,
          36536.536536536536,
          36636.63663663664,
          36736.73673673674,
          36836.83683683684,
          36936.93693693694,
          37037.03703703704,
          37137.13713713714,
          37237.23723723724,
          37337.33733733734,
          37437.43743743744,
          37537.53753753754,
          37637.63763763764,
          37737.73773773774,
          37837.83783783784,
          37937.93793793794,
          38038.03803803804,
          38138.13813813814,
          38238.23823823824,
          38338.33833833834,
          38438.43843843844,
          38538.53853853854,
          38638.638638638644,
          38738.73873873874,
          38838.83883883884,
          38938.93893893894,
          39039.03903903904,
          39139.139139139144,
          39239.23923923924,
          39339.33933933934,
          39439.43943943944,
          39539.53953953954,
          39639.639639639645,
          39739.73973973974,
          39839.83983983984,
          39939.93993993994,
          40040.04004004004,
          40140.140140140145,
          40240.240240240244,
          40340.34034034034,
          40440.44044044044,
          40540.54054054054,
          40640.640640640646,
          40740.740740740745,
          40840.84084084084,
          40940.94094094094,
          41041.04104104104,
          41141.14114114115,
          41241.241241241245,
          41341.341341341344,
          41441.44144144144,
          41541.54154154154,
          41641.64164164165,
          41741.741741741745,
          41841.841841841844,
          41941.94194194194,
          42042.04204204204,
          42142.14214214215,
          42242.242242242246,
          42342.342342342345,
          42442.44244244244,
          42542.54254254254,
          42642.64264264265,
          42742.74274274275,
          42842.842842842845,
          42942.942942942944,
          43043.04304304305,
          43143.14314314315,
          43243.24324324325,
          43343.343343343346,
          43443.443443443444,
          43543.54354354355,
          43643.64364364365,
          43743.74374374375,
          43843.843843843846,
          43943.943943943945,
          44044.04404404405,
          44144.14414414415,
          44244.24424424425,
          44344.34434434435,
          44444.444444444445,
          44544.54454454455,
          44644.64464464465,
          44744.74474474475,
          44844.84484484485,
          44944.944944944946,
          45045.04504504505,
          45145.14514514515,
          45245.24524524525,
          45345.34534534535,
          45445.445445445446,
          45545.54554554555,
          45645.64564564565,
          45745.74574574575,
          45845.84584584585,
          45945.94594594595,
          46046.04604604605,
          46146.14614614615,
          46246.24624624625,
          46346.34634634635,
          46446.44644644645,
          46546.54654654655,
          46646.64664664665,
          46746.74674674675,
          46846.84684684685,
          46946.94694694695,
          47047.047047047054,
          47147.14714714715,
          47247.24724724725,
          47347.34734734735,
          47447.44744744745,
          47547.547547547554,
          47647.64764764765,
          47747.74774774775,
          47847.84784784785,
          47947.94794794795,
          48048.048048048055,
          48148.14814814815,
          48248.24824824825,
          48348.34834834835,
          48448.44844844845,
          48548.548548548555,
          48648.648648648654,
          48748.74874874875,
          48848.84884884885,
          48948.94894894895,
          49049.049049049056,
          49149.149149149154,
          49249.24924924925,
          49349.34934934935,
          49449.44944944945,
          49549.549549549556,
          49649.649649649655,
          49749.74974974975,
          49849.84984984985,
          49949.94994994995,
          50050.05005005006,
          50150.150150150155,
          50250.250250250254,
          50350.35035035035,
          50450.45045045045,
          50550.55055055056,
          50650.650650650656,
          50750.750750750754,
          50850.85085085085,
          50950.95095095095,
          51051.05105105106,
          51151.151151151156,
          51251.251251251255,
          51351.35135135135,
          51451.45145145145,
          51551.55155155156,
          51651.65165165166,
          51751.751751751755,
          51851.851851851854,
          51951.95195195195,
          52052.05205205206,
          52152.15215215216,
          52252.252252252256,
          52352.352352352355,
          52452.45245245245,
          52552.55255255256,
          52652.65265265266,
          52752.752752752756,
          52852.852852852855,
          52952.95295295295,
          53053.05305305306,
          53153.15315315316,
          53253.25325325326,
          53353.353353353355,
          53453.453453453454,
          53553.55355355356,
          53653.65365365366,
          53753.75375375376,
          53853.853853853856,
          53953.953953953955,
          54054.05405405406,
          54154.15415415416,
          54254.25425425426,
          54354.35435435436,
          54454.454454454455,
          54554.55455455456,
          54654.65465465466,
          54754.75475475476,
          54854.85485485486,
          54954.954954954956,
          55055.05505505506,
          55155.15515515516,
          55255.25525525526,
          55355.35535535536,
          55455.455455455456,
          55555.55555555556,
          55655.65565565566,
          55755.75575575576,
          55855.85585585586,
          55955.95595595596,
          56056.05605605606,
          56156.15615615616,
          56256.25625625626,
          56356.35635635636,
          56456.45645645646,
          56556.55655655656,
          56656.65665665666,
          56756.75675675676,
          56856.85685685686,
          56956.95695695696,
          57057.05705705706,
          57157.15715715716,
          57257.25725725726,
          57357.35735735736,
          57457.45745745746,
          57557.557557557564,
          57657.65765765766,
          57757.75775775776,
          57857.85785785786,
          57957.95795795796,
          58058.058058058064,
          58158.15815815816,
          58258.25825825826,
          58358.35835835836,
          58458.45845845846,
          58558.558558558565,
          58658.65865865866,
          58758.75875875876,
          58858.85885885886,
          58958.95895895896,
          59059.059059059065,
          59159.159159159164,
          59259.25925925926,
          59359.35935935936,
          59459.45945945946,
          59559.559559559566,
          59659.659659659665,
          59759.75975975976,
          59859.85985985986,
          59959.95995995997,
          60060.06006006007,
          60160.160160160165,
          60260.260260260264,
          60360.36036036036,
          60460.46046046047,
          60560.56056056057,
          60660.660660660666,
          60760.760760760764,
          60860.86086086086,
          60960.96096096097,
          61061.06106106107,
          61161.161161161166,
          61261.261261261265,
          61361.36136136136,
          61461.46146146147,
          61561.56156156157,
          61661.66166166167,
          61761.761761761765,
          61861.861861861864,
          61961.96196196197,
          62062.06206206207,
          62162.16216216217,
          62262.262262262266,
          62362.362362362364,
          62462.46246246247,
          62562.56256256257,
          62662.66266266267,
          62762.762762762766,
          62862.862862862865,
          62962.96296296297,
          63063.06306306307,
          63163.16316316317,
          63263.26326326327,
          63363.363363363365,
          63463.46346346347,
          63563.56356356357,
          63663.66366366367,
          63763.76376376377,
          63863.863863863866,
          63963.96396396397,
          64064.06406406407,
          64164.16416416417,
          64264.26426426427,
          64364.364364364366,
          64464.46446446447,
          64564.56456456457,
          64664.66466466467,
          64764.76476476477,
          64864.86486486487,
          64964.96496496497,
          65065.06506506507,
          65165.16516516517,
          65265.26526526527,
          65365.36536536537,
          65465.46546546547,
          65565.56556556557,
          65665.66566566567,
          65765.76576576577,
          65865.86586586587,
          65965.96596596597,
          66066.06606606607,
          66166.16616616616,
          66266.26626626628,
          66366.36636636638,
          66466.46646646647,
          66566.56656656657,
          66666.66666666667,
          66766.76676676677,
          66866.86686686687,
          66966.96696696697,
          67067.06706706707,
          67167.16716716716,
          67267.26726726728,
          67367.36736736738,
          67467.46746746748,
          67567.56756756757,
          67667.66766766767,
          67767.76776776777,
          67867.86786786787,
          67967.96796796797,
          68068.06806806807,
          68168.16816816817,
          68268.26826826828,
          68368.36836836838,
          68468.46846846848,
          68568.56856856857,
          68668.66866866867,
          68768.76876876877,
          68868.86886886887,
          68968.96896896897,
          69069.06906906907,
          69169.16916916918,
          69269.26926926928,
          69369.36936936938,
          69469.46946946948,
          69569.56956956958,
          69669.66966966967,
          69769.76976976977,
          69869.86986986987,
          69969.96996996997,
          70070.07007007007,
          70170.17017017018,
          70270.27027027028,
          70370.37037037038,
          70470.47047047048,
          70570.57057057058,
          70670.67067067068,
          70770.77077077077,
          70870.87087087087,
          70970.97097097097,
          71071.07107107107,
          71171.17117117118,
          71271.27127127128,
          71371.37137137138,
          71471.47147147148,
          71571.57157157158,
          71671.67167167168,
          71771.77177177178,
          71871.87187187187,
          71971.97197197197,
          72072.07207207207,
          72172.17217217218,
          72272.27227227228,
          72372.37237237238,
          72472.47247247248,
          72572.57257257258,
          72672.67267267268,
          72772.77277277278,
          72872.87287287287,
          72972.97297297297,
          73073.07307307307,
          73173.17317317319,
          73273.27327327328,
          73373.37337337338,
          73473.47347347348,
          73573.57357357358,
          73673.67367367368,
          73773.77377377378,
          73873.87387387388,
          73973.97397397397,
          74074.07407407407,
          74174.17417417419,
          74274.27427427428,
          74374.37437437438,
          74474.47447447448,
          74574.57457457458,
          74674.67467467468,
          74774.77477477478,
          74874.87487487488,
          74974.97497497498,
          75075.07507507507,
          75175.17517517519,
          75275.27527527529,
          75375.37537537538,
          75475.47547547548,
          75575.57557557558,
          75675.67567567568,
          75775.77577577578,
          75875.87587587588,
          75975.97597597598,
          76076.07607607607,
          76176.17617617619,
          76276.27627627629,
          76376.37637637639,
          76476.47647647648,
          76576.57657657658,
          76676.67667667668,
          76776.77677677678,
          76876.87687687688,
          76976.97697697698,
          77077.07707707708,
          77177.17717717719,
          77277.27727727729,
          77377.37737737739,
          77477.47747747749,
          77577.57757757758,
          77677.67767767768,
          77777.77777777778,
          77877.87787787788,
          77977.97797797798,
          78078.07807807808,
          78178.17817817819,
          78278.27827827829,
          78378.37837837839,
          78478.47847847849,
          78578.57857857858,
          78678.67867867868,
          78778.77877877878,
          78878.87887887888,
          78978.97897897898,
          79079.07907907908,
          79179.17917917919,
          79279.27927927929,
          79379.37937937939,
          79479.47947947949,
          79579.57957957959,
          79679.67967967968,
          79779.77977977978,
          79879.87987987988,
          79979.97997997998,
          80080.08008008008,
          80180.18018018019,
          80280.28028028029,
          80380.38038038039,
          80480.48048048049,
          80580.58058058059,
          80680.68068068069,
          80780.78078078078,
          80880.88088088088,
          80980.98098098098,
          81081.08108108108,
          81181.1811811812,
          81281.28128128129,
          81381.38138138139,
          81481.48148148149,
          81581.58158158159,
          81681.68168168169,
          81781.78178178178,
          81881.88188188188,
          81981.98198198198,
          82082.08208208208,
          82182.1821821822,
          82282.2822822823,
          82382.38238238239,
          82482.48248248249,
          82582.58258258259,
          82682.68268268269,
          82782.78278278279,
          82882.88288288288,
          82982.98298298298,
          83083.08308308308,
          83183.1831831832,
          83283.2832832833,
          83383.38338338339,
          83483.48348348349,
          83583.58358358359,
          83683.68368368369,
          83783.78378378379,
          83883.88388388389,
          83983.98398398398,
          84084.08408408408,
          84184.1841841842,
          84284.2842842843,
          84384.3843843844,
          84484.48448448449,
          84584.58458458459,
          84684.68468468469,
          84784.78478478479,
          84884.88488488489,
          84984.98498498499,
          85085.08508508508,
          85185.1851851852,
          85285.2852852853,
          85385.3853853854,
          85485.4854854855,
          85585.58558558559,
          85685.68568568569,
          85785.78578578579,
          85885.88588588589,
          85985.98598598599,
          86086.0860860861,
          86186.1861861862,
          86286.2862862863,
          86386.3863863864,
          86486.4864864865,
          86586.58658658659,
          86686.68668668669,
          86786.78678678679,
          86886.88688688689,
          86986.98698698699,
          87087.0870870871,
          87187.1871871872,
          87287.2872872873,
          87387.3873873874,
          87487.4874874875,
          87587.5875875876,
          87687.68768768769,
          87787.78778778779,
          87887.88788788789,
          87987.98798798799,
          88088.0880880881,
          88188.1881881882,
          88288.2882882883,
          88388.3883883884,
          88488.4884884885,
          88588.5885885886,
          88688.6886886887,
          88788.78878878879,
          88888.88888888889,
          88988.98898898899,
          89089.0890890891,
          89189.1891891892,
          89289.2892892893,
          89389.3893893894,
          89489.4894894895,
          89589.5895895896,
          89689.6896896897,
          89789.7897897898,
          89889.88988988989,
          89989.98998998999,
          90090.0900900901,
          90190.1901901902,
          90290.2902902903,
          90390.3903903904,
          90490.4904904905,
          90590.5905905906,
          90690.6906906907,
          90790.7907907908,
          90890.89089089089,
          90990.99099099099,
          91091.0910910911,
          91191.1911911912,
          91291.2912912913,
          91391.3913913914,
          91491.4914914915,
          91591.5915915916,
          91691.6916916917,
          91791.7917917918,
          91891.8918918919,
          91991.99199199199,
          92092.0920920921,
          92192.1921921922,
          92292.2922922923,
          92392.3923923924,
          92492.4924924925,
          92592.5925925926,
          92692.6926926927,
          92792.7927927928,
          92892.8928928929,
          92992.992992993,
          93093.0930930931,
          93193.1931931932,
          93293.2932932933,
          93393.3933933934,
          93493.4934934935,
          93593.5935935936,
          93693.6936936937,
          93793.7937937938,
          93893.8938938939,
          93993.993993994,
          94094.09409409411,
          94194.1941941942,
          94294.2942942943,
          94394.3943943944,
          94494.4944944945,
          94594.5945945946,
          94694.6946946947,
          94794.7947947948,
          94894.8948948949,
          94994.994994995,
          95095.09509509511,
          95195.1951951952,
          95295.2952952953,
          95395.3953953954,
          95495.4954954955,
          95595.5955955956,
          95695.6956956957,
          95795.7957957958,
          95895.8958958959,
          95995.995995996,
          96096.09609609611,
          96196.19619619621,
          96296.2962962963,
          96396.3963963964,
          96496.4964964965,
          96596.5965965966,
          96696.6966966967,
          96796.7967967968,
          96896.8968968969,
          96996.996996997,
          97097.09709709711,
          97197.19719719721,
          97297.29729729731,
          97397.3973973974,
          97497.4974974975,
          97597.5975975976,
          97697.6976976977,
          97797.7977977978,
          97897.8978978979,
          97997.997997998,
          98098.09809809811,
          98198.19819819821,
          98298.29829829831,
          98398.3983983984,
          98498.4984984985,
          98598.5985985986,
          98698.6986986987,
          98798.7987987988,
          98898.8988988989,
          98998.998998999,
          99099.09909909911,
          99199.19919919921,
          99299.29929929931,
          99399.39939939941,
          99499.4994994995,
          99599.5995995996,
          99699.6996996997,
          99799.7997997998,
          99899.8998998999,
          100000
         ],
         "y": [
          57.791595655305045,
          57.864635902522295,
          57.937676149739545,
          58.01071639695679,
          58.08375664417404,
          58.15679689139129,
          58.22983713860854,
          58.30287738582578,
          58.37591763304303,
          58.44895788026028,
          58.52199812747753,
          58.595038374694774,
          58.668078621912024,
          58.741118869129274,
          58.814159116346524,
          58.88719936356377,
          58.96023961078102,
          59.03327985799827,
          59.10632010521552,
          59.17936035243276,
          59.25240059965001,
          59.32544084686726,
          59.39848109408451,
          59.47152134130175,
          59.544561588519,
          59.61760183573625,
          59.6906420829535,
          59.763682330170745,
          59.836722577387995,
          59.909762824605245,
          59.982803071822495,
          60.05584331903974,
          60.12888356625699,
          60.20192381347424,
          60.27496406069149,
          60.34800430790873,
          60.42104455512598,
          60.49408480234323,
          60.56712504956048,
          60.640165296777724,
          60.713205543994974,
          60.786245791212224,
          60.859286038429474,
          60.93232628564672,
          61.00536653286397,
          61.07840678008122,
          61.15144702729847,
          61.22448727451571,
          61.29752752173296,
          61.37056776895021,
          61.44360801616746,
          61.5166482633847,
          61.58968851060195,
          61.6627287578192,
          61.73576900503645,
          61.808809252253695,
          61.881849499470945,
          61.954889746688195,
          62.027929993905445,
          62.100970241122695,
          62.17401048833994,
          62.24705073555719,
          62.32009098277444,
          62.39313122999168,
          62.46617147720893,
          62.53921172442618,
          62.61225197164343,
          62.68529221886068,
          62.758332466077924,
          62.831372713295174,
          62.904412960512424,
          62.97745320772967,
          63.05049345494692,
          63.12353370216417,
          63.19657394938142,
          63.26961419659867,
          63.34265444381591,
          63.41569469103316,
          63.48873493825041,
          63.56177518546766,
          63.6348154326849,
          63.70785567990215,
          63.7808959271194,
          63.85393617433665,
          63.926976421553896,
          64.00001666877114,
          64.07305691598839,
          64.14609716320564,
          64.21913741042289,
          64.29217765764014,
          64.36521790485739,
          64.43825815207464,
          64.51129839929189,
          64.58433864650914,
          64.65737889372639,
          64.73041914094362,
          64.80345938816087,
          64.87649963537812,
          64.94953988259537,
          65.02258012981262,
          65.09562037702987,
          65.16866062424712,
          65.24170087146436,
          65.31474111868161,
          65.38778136589886,
          65.46082161311611,
          65.53386186033336,
          65.60690210755061,
          65.67994235476786,
          65.75298260198511,
          65.82602284920236,
          65.8990630964196,
          65.97210334363685,
          66.0451435908541,
          66.11818383807135,
          66.1912240852886,
          66.26426433250585,
          66.3373045797231,
          66.41034482694033,
          66.48338507415758,
          66.55642532137483,
          66.62946556859208,
          66.70250581580933,
          66.77554606302658,
          66.84858631024383,
          66.92162655746108,
          66.99466680467833,
          67.06770705189557,
          67.14074729911282,
          67.21378754633007,
          67.28682779354732,
          67.35986804076457,
          67.43290828798182,
          67.50594853519907,
          67.5789887824163,
          67.65202902963355,
          67.7250692768508,
          67.79810952406805,
          67.8711497712853,
          67.94419001850255,
          68.0172302657198,
          68.09027051293705,
          68.1633107601543,
          68.23635100737154,
          68.30939125458879,
          68.38243150180604,
          68.45547174902329,
          68.52851199624054,
          68.60155224345779,
          68.67459249067504,
          68.74763273789229,
          68.82067298510952,
          68.89371323232677,
          68.96675347954402,
          69.03979372676127,
          69.11283397397852,
          69.18587422119577,
          69.25891446841302,
          69.33195471563027,
          69.40499496284752,
          69.47803521006476,
          69.55107545728201,
          69.62411570449926,
          69.69715595171651,
          69.77019619893376,
          69.84323644615101,
          69.91627669336826,
          69.9893169405855,
          70.06235718780275,
          70.13539743502,
          70.20843768223725,
          70.2814779294545,
          70.35451817667175,
          70.427558423889,
          70.50059867110625,
          70.57363891832348,
          70.64667916554073,
          70.71971941275798,
          70.79275965997523,
          70.86579990719248,
          70.93884015440973,
          71.01188040162698,
          71.08492064884423,
          71.15796089606148,
          71.23100114327872,
          71.30404139049597,
          71.37708163771322,
          71.45012188493047,
          71.52316213214772,
          71.59620237936497,
          71.66924262658222,
          71.74228287379947,
          71.8153231210167,
          71.88836336823395,
          71.9614036154512,
          72.03444386266845,
          72.1074841098857,
          72.18052435710295,
          72.2535646043202,
          72.32660485153744,
          72.39964509875469,
          72.47268534597194,
          72.54572559318919,
          72.61876584040644,
          72.69180608762369,
          72.76484633484094,
          72.83788658205819,
          72.91092682927544,
          72.98396707649269,
          73.05700732370993,
          73.13004757092718,
          73.20308781814443,
          73.27612806536168,
          73.34916831257893,
          73.42220855979618,
          73.49524880701343,
          73.56828905423066,
          73.64132930144791,
          73.71436954866516,
          73.78740979588241,
          73.86045004309966,
          73.93349029031691,
          74.00653053753416,
          74.07957078475141,
          74.15261103196866,
          74.22565127918591,
          74.29869152640315,
          74.3717317736204,
          74.44477202083765,
          74.5178122680549,
          74.59085251527215,
          74.66389276248938,
          74.73693300970663,
          74.80997325692388,
          74.88301350414113,
          74.95605375135838,
          75.02909399857563,
          75.10213424579288,
          75.17517449301013,
          75.24821474022738,
          75.32125498744463,
          75.39429523466188,
          75.46733548187912,
          75.54037572909637,
          75.61341597631362,
          75.68645622353087,
          75.75949647074812,
          75.83253671796535,
          75.9055769651826,
          75.97861721239985,
          76.0516574596171,
          76.12469770683435,
          76.1977379540516,
          76.27077820126885,
          76.3438184484861,
          76.41685869570335,
          76.4898989429206,
          76.56293919013784,
          76.63597943735509,
          76.70901968457234,
          76.78205993178959,
          76.85510017900684,
          76.92814042622409,
          77.00118067344134,
          77.07422092065858,
          77.14726116787583,
          77.22030141509308,
          77.29334166231033,
          77.36638190952758,
          77.43942215674483,
          77.51246240396208,
          77.58550265117933,
          77.65854289839658,
          77.73158314561383,
          77.80462339283106,
          77.87766364004831,
          77.95070388726556,
          78.02374413448281,
          78.09678438170006,
          78.16982462891731,
          78.24286487613456,
          78.3159051233518,
          78.38894537056905,
          78.4619856177863,
          78.53502586500355,
          78.6080661122208,
          78.68110635943805,
          78.7541466066553,
          78.82718685387255,
          78.9002271010898,
          78.97326734830705,
          79.04630759552428,
          79.11934784274153,
          79.19238808995878,
          79.26542833717603,
          79.33846858439328,
          79.41150883161052,
          79.48454907882777,
          79.55758932604502,
          79.63062957326227,
          79.70366982047952,
          79.77671006769677,
          79.84975031491402,
          79.92279056213127,
          79.99583080934852,
          80.06887105656577,
          80.141911303783,
          80.21495155100025,
          80.2879917982175,
          80.36103204543475,
          80.434072292652,
          80.50711253986925,
          80.5801527870865,
          80.65319303430374,
          80.72623328152099,
          80.79927352873824,
          80.87231377595549,
          80.94535402317274,
          81.01839427038999,
          81.09143451760724,
          81.16447476482449,
          81.23751501204174,
          81.31055525925899,
          81.38359550647623,
          81.45663575369348,
          81.52967600091073,
          81.60271624812798,
          81.67575649534523,
          81.74879674256248,
          81.82183698977971,
          81.89487723699696,
          81.96791748421421,
          82.04095773143146,
          82.11399797864871,
          82.18703822586596,
          82.26007847308321,
          82.33311872030046,
          82.40615896751771,
          82.47919921473496,
          82.5522394619522,
          82.62527970916945,
          82.6983199563867,
          82.77136020360395,
          82.8444004508212,
          82.91744069803845,
          82.99048094525568,
          83.06352119247293,
          83.13656143969018,
          83.20960168690743,
          83.28264193412468,
          83.35568218134193,
          83.42872242855918,
          83.50176267577643,
          83.57480292299368,
          83.64784317021093,
          83.72088341742817,
          83.79392366464543,
          83.86696391186267,
          83.94000415907992,
          84.01304440629717,
          84.0860846535144,
          84.15912490073167,
          84.2321651479489,
          84.30520539516615,
          84.3782456423834,
          84.45128588960065,
          84.5243261368179,
          84.59736638403515,
          84.6704066312524,
          84.74344687846965,
          84.81648712568689,
          84.88952737290415,
          84.96256762012139,
          85.03560786733864,
          85.10864811455589,
          85.18168836177314,
          85.25472860899039,
          85.32776885620764,
          85.40080910342488,
          85.47384935064213,
          85.54688959785938,
          85.61992984507663,
          85.69297009229388,
          85.76601033951113,
          85.83905058672838,
          85.91209083394563,
          85.98513108116288,
          86.05817132838013,
          86.13121157559736,
          86.20425182281461,
          86.27729207003186,
          86.35033231724911,
          86.42337256446636,
          86.49641281168361,
          86.56945305890085,
          86.6424933061181,
          86.71553355333535,
          86.7885738005526,
          86.86161404776985,
          86.9346542949871,
          87.00769454220435,
          87.0807347894216,
          87.15377503663885,
          87.2268152838561,
          87.29985553107333,
          87.37289577829058,
          87.44593602550783,
          87.51897627272508,
          87.59201651994233,
          87.66505676715957,
          87.73809701437682,
          87.81113726159407,
          87.88417750881132,
          87.95721775602857,
          88.03025800324582,
          88.10329825046307,
          88.17633849768032,
          88.24937874489757,
          88.32241899211482,
          88.39545923933207,
          88.4684994865493,
          88.54153973376656,
          88.6145799809838,
          88.68762022820106,
          88.7606604754183,
          88.83370072263554,
          88.9067409698528,
          88.97978121707004,
          89.05282146428729,
          89.12586171150454,
          89.19890195872179,
          89.27194220593904,
          89.34498245315629,
          89.41802270037354,
          89.49106294759079,
          89.56410319480804,
          89.63714344202529,
          89.71018368924253,
          89.78322393645978,
          89.85626418367703,
          89.92930443089428,
          90.00234467811153,
          90.07538492532876,
          90.14842517254601,
          90.22146541976326,
          90.29450566698051,
          90.36754591419776,
          90.44058616141501,
          90.51362640863226,
          90.58666665584951,
          90.65970690306676,
          90.73274715028401,
          90.80578739750126,
          90.87882764471851,
          90.95186789193575,
          91.024908139153,
          91.09794838637025,
          91.1709886335875,
          91.24402888080473,
          91.31706912802198,
          91.39010937523923,
          91.46314962245648,
          91.53618986967373,
          91.60923011689098,
          91.68227036410823,
          91.75531061132548,
          91.82835085854273,
          91.90139110575998,
          91.97443135297723,
          92.04747160019447,
          92.12051184741173,
          92.19355209462897,
          92.26659234184622,
          92.33963258906347,
          92.4126728362807,
          92.48571308349797,
          92.5587533307152,
          92.63179357793246,
          92.7048338251497,
          92.77787407236696,
          92.8509143195842,
          92.92395456680146,
          92.9969948140187,
          93.07003506123596,
          93.1430753084532,
          93.21611555567046,
          93.2891558028877,
          93.36219605010494,
          93.43523629732219,
          93.50827654453943,
          93.58131679175669,
          93.65435703897393,
          93.72739728619118,
          93.80043753340843,
          93.87347778062568,
          93.94651802784293,
          94.01955827506018,
          94.09259852227743,
          94.16563876949468,
          94.23867901671193,
          94.31171926392918,
          94.38475951114643,
          94.45779975836368,
          94.53084000558091,
          94.60388025279816,
          94.67692050001541,
          94.74996074723266,
          94.8230009944499,
          94.89604124166715,
          94.9690814888844,
          95.04212173610165,
          95.1151619833189,
          95.18820223053615,
          95.2612424777534,
          95.33428272497065,
          95.4073229721879,
          95.48036321940515,
          95.5534034666224,
          95.62644371383963,
          95.69948396105688,
          95.77252420827413,
          95.84556445549138,
          95.91860470270863,
          95.99164494992587,
          96.06468519714312,
          96.13772544436037,
          96.21076569157762,
          96.28380593879487,
          96.35684618601212,
          96.42988643322937,
          96.50292668044662,
          96.57596692766387,
          96.64900717488112,
          96.72204742209837,
          96.7950876693156,
          96.86812791653287,
          96.9411681637501,
          97.01420841096736,
          97.0872486581846,
          97.16028890540184,
          97.2333291526191,
          97.30636939983634,
          97.37940964705359,
          97.45244989427084,
          97.52549014148809,
          97.59853038870534,
          97.67157063592259,
          97.74461088313984,
          97.81765113035709,
          97.89069137757434,
          97.96373162479159,
          98.03677187200884,
          98.10981211922608,
          98.18285236644333,
          98.25589261366056,
          98.32893286087783,
          98.40197310809506,
          98.47501335531231,
          98.54805360252956,
          98.62109384974681,
          98.69413409696406,
          98.76717434418131,
          98.84021459139856,
          98.91325483861581,
          98.98629508583306,
          99.05933533305031,
          99.13237558026756,
          99.20541582748481,
          99.27845607470205,
          99.3514963219193,
          99.42453656913655,
          99.4975768163538,
          99.57061706357104,
          99.64365731078829,
          99.71669755800554,
          99.78973780522279,
          99.86277805244004,
          99.93581829965729,
          100.00885854687454,
          100.08189879409179,
          100.15493904130904,
          100.22797928852629,
          100.30101953574354,
          100.37405978296077,
          100.44710003017802,
          100.52014027739527,
          100.59318052461252,
          100.66622077182977,
          100.739261019047,
          100.81230126626426,
          100.8853415134815,
          100.95838176069876,
          101.031422007916,
          101.10446225513326,
          101.1775025023505,
          101.25054274956776,
          101.323582996785,
          101.39662324400226,
          101.4696634912195,
          101.54270373843676,
          101.615743985654,
          101.68878423287124,
          101.76182448008849,
          101.83486472730574,
          101.90790497452299,
          101.98094522174023,
          102.05398546895748,
          102.12702571617473,
          102.20006596339198,
          102.27310621060923,
          102.34614645782648,
          102.41918670504373,
          102.49222695226098,
          102.56526719947823,
          102.63830744669548,
          102.71134769391273,
          102.78438794112998,
          102.85742818834721,
          102.93046843556446,
          103.00350868278171,
          103.07654892999896,
          103.1495891772162,
          103.22262942443345,
          103.2956696716507,
          103.36870991886795,
          103.4417501660852,
          103.51479041330245,
          103.5878306605197,
          103.66087090773695,
          103.7339111549542,
          103.80695140217145,
          103.8799916493887,
          103.95303189660595,
          104.02607214382319,
          104.09911239104044,
          104.17215263825769,
          104.24519288547494,
          104.31823313269217,
          104.39127337990942,
          104.46431362712667,
          104.53735387434392,
          104.61039412156117,
          104.68343436877842,
          104.75647461599567,
          104.82951486321292,
          104.90255511043017,
          104.97559535764742,
          105.04863560486467,
          105.1216758520819,
          105.19471609929917,
          105.2677563465164,
          105.34079659373366,
          105.4138368409509,
          105.48687708816814,
          105.5599173353854,
          105.63295758260264,
          105.70599782981989,
          105.77903807703714,
          105.85207832425439,
          105.92511857147164,
          105.99815881868889,
          106.07119906590614,
          106.14423931312339,
          106.21727956034064,
          106.29031980755789,
          106.36336005477514,
          106.43640030199238,
          106.50944054920963,
          106.58248079642686,
          106.65552104364411,
          106.72856129086136,
          106.80160153807861,
          106.87464178529586,
          106.94768203251311,
          107.02072227973036,
          107.09376252694761,
          107.16680277416486,
          107.23984302138211,
          107.31288326859936,
          107.38592351581661,
          107.45896376303385,
          107.5320040102511,
          107.60504425746836,
          107.67808450468561,
          107.75112475190285,
          107.8241649991201,
          107.89720524633734,
          107.97024549355459,
          108.04328574077184,
          108.11632598798909,
          108.18936623520634,
          108.26240648242359,
          108.33544672964084,
          108.40848697685809,
          108.48152722407534,
          108.55456747129259,
          108.62760771850984,
          108.70064796572707,
          108.77368821294432,
          108.84672846016157,
          108.91976870737881,
          108.99280895459607,
          109.06584920181332,
          109.13888944903057,
          109.21192969624781,
          109.28496994346506,
          109.35801019068231,
          109.43105043789956,
          109.50409068511681,
          109.57713093233406,
          109.65017117955131,
          109.72321142676856,
          109.79625167398581,
          109.86929192120306,
          109.94233216842031,
          110.01537241563754,
          110.0884126628548,
          110.16145291007204,
          110.23449315728928,
          110.30753340450653,
          110.38057365172378,
          110.45361389894103,
          110.52665414615828,
          110.59969439337553,
          110.67273464059278,
          110.74577488781003,
          110.81881513502728,
          110.89185538224453,
          110.96489562946178,
          111.03793587667901,
          111.11097612389626,
          111.18401637111353,
          111.25705661833078,
          111.33009686554801,
          111.40313711276526,
          111.4761773599825,
          111.54921760719975,
          111.622257854417,
          111.69529810163425,
          111.7683383488515,
          111.84137859606875,
          111.914418843286,
          111.98745909050325,
          112.0604993377205,
          112.13353958493775,
          112.206579832155,
          112.27962007937225,
          112.35266032658949,
          112.42570057380674,
          112.49874082102397,
          112.57178106824122,
          112.64482131545849,
          112.71786156267574,
          112.79090180989297,
          112.86394205711022,
          112.93698230432747,
          113.01002255154472,
          113.08306279876197,
          113.15610304597922,
          113.22914329319647,
          113.30218354041371,
          113.37522378763097,
          113.44826403484822,
          113.52130428206547,
          113.59434452928271,
          113.66738477649996,
          113.74042502371721,
          113.81346527093444,
          113.8865055181517,
          113.95954576536894,
          114.0325860125862,
          114.10562625980344,
          114.1786665070207,
          114.25170675423794,
          114.3247470014552,
          114.39778724867244,
          114.4708274958897,
          114.54386774310694,
          114.61690799032418,
          114.68994823754143,
          114.76298848475868,
          114.83602873197594,
          114.90906897919318,
          114.98210922641043,
          115.05514947362767,
          115.12818972084492,
          115.20122996806217,
          115.27427021527942,
          115.34731046249667,
          115.42035070971392,
          115.49339095693117,
          115.56643120414842,
          115.63947145136567,
          115.71251169858292,
          115.78555194580017,
          115.85859219301742,
          115.93163244023465,
          116.0046726874519,
          116.07771293466914,
          116.15075318188639,
          116.22379342910364,
          116.2968336763209,
          116.36987392353814,
          116.44291417075539,
          116.51595441797264,
          116.58899466518989,
          116.66203491240714,
          116.73507515962439,
          116.80811540684164,
          116.88115565405889,
          116.95419590127612,
          117.02723614849339,
          117.10027639571064,
          117.17331664292787,
          117.24635689014512,
          117.31939713736237,
          117.39243738457961,
          117.46547763179686,
          117.53851787901411,
          117.61155812623136,
          117.68459837344861,
          117.75763862066586,
          117.83067886788311,
          117.90371911510036,
          117.97675936231761,
          118.04979960953486,
          118.12283985675211,
          118.19588010396934,
          118.2689203511866,
          118.34196059840384,
          118.41500084562108,
          118.48804109283834,
          118.5610813400556,
          118.63412158727284,
          118.70716183449008,
          118.78020208170733,
          118.85324232892458,
          118.92628257614183,
          118.99932282335908,
          119.07236307057633,
          119.14540331779358,
          119.21844356501083,
          119.29148381222808,
          119.36452405944533,
          119.43756430666258,
          119.51060455387982,
          119.58364480109707,
          119.6566850483143,
          119.72972529553155,
          119.8027655427488,
          119.87580578996605,
          119.9488460371833,
          120.02188628440055,
          120.0949265316178,
          120.16796677883505,
          120.2410070260523,
          120.31404727326955,
          120.3870875204868,
          120.46012776770405,
          120.53316801492129,
          120.60620826213855,
          120.6792485093558,
          120.75228875657305,
          120.82532900379029,
          120.89836925100754,
          120.97140949822477,
          121.04444974544202,
          121.11748999265927,
          121.19053023987652,
          121.26357048709377,
          121.33661073431102,
          121.40965098152827,
          121.48269122874552,
          121.55573147596277,
          121.62877172318002,
          121.70181197039727,
          121.77485221761451,
          121.84789246483176,
          121.92093271204901,
          121.99397295926626,
          122.06701320648351,
          122.14005345370076,
          122.21309370091801,
          122.28613394813526,
          122.3591741953525,
          122.43221444256974,
          122.505254689787,
          122.57829493700424,
          122.6513351842215,
          122.72437543143873,
          122.797415678656,
          122.87045592587324,
          122.9434961730905,
          123.01653642030773,
          123.08957666752498,
          123.16261691474223,
          123.23565716195948,
          123.30869740917673,
          123.38173765639397,
          123.45477790361122,
          123.52781815082848,
          123.60085839804573,
          123.67389864526297,
          123.74693889248022,
          123.81997913969747,
          123.89301938691472,
          123.96605963413197,
          124.0390998813492,
          124.11214012856645,
          124.1851803757837,
          124.25822062300095,
          124.3312608702182,
          124.40430111743545,
          124.4773413646527,
          124.55038161186995,
          124.62342185908719,
          124.69646210630444,
          124.76950235352169,
          124.84254260073894,
          124.91558284795619,
          124.98862309517344,
          125.06166334239069,
          125.13470358960794,
          125.20774383682519,
          125.28078408404242,
          125.35382433125967,
          125.42686457847692,
          125.49990482569417,
          125.57294507291142,
          125.64598532012866,
          125.71902556734592,
          125.79206581456317,
          125.86510606178042,
          125.93814630899766,
          126.01118655621491,
          126.08422680343216,
          126.15726705064941,
          126.23030729786666,
          126.3033475450839,
          126.37638779230114,
          126.44942803951841,
          126.52246828673566,
          126.5955085339529,
          126.66854878117014,
          126.7415890283874,
          126.81462927560464,
          126.8876695228219,
          126.96070977003913,
          127.03375001725638,
          127.10679026447363,
          127.1798305116909,
          127.25287075890813,
          127.32591100612538,
          127.39895125334263,
          127.47199150055988,
          127.54503174777713,
          127.61807199499437,
          127.69111224221162,
          127.76415248942887,
          127.83719273664612,
          127.91023298386337,
          127.98327323108062,
          128.05631347829785,
          128.1293537255151,
          128.20239397273235,
          128.2754342199496,
          128.34847446716685,
          128.4215147143841,
          128.49455496160135,
          128.5675952088186,
          128.64063545603585,
          128.7136757032531,
          128.78671595047035,
          128.8597561976876,
          128.93279644490485,
          129.0058366921221,
          129.07887693933935,
          129.1519171865566,
          129.22495743377382,
          129.29799768099107,
          129.37103792820835,
          129.4440781754256,
          129.51711842264282,
          129.59015866986007,
          129.66319891707732,
          129.73623916429457,
          129.80927941151182,
          129.88231965872905,
          129.9553599059463,
          130.02840015316355,
          130.10144040038082,
          130.17448064759805,
          130.2475208948153,
          130.32056114203255,
          130.3936013892498,
          130.46664163646705,
          130.5396818836843,
          130.61272213090155,
          130.6857623781188,
          130.75880262533605
         ]
        },
        {
         "line": {
          "color": "#2980b9 ",
          "dash": "longdashdot",
          "width": 3
         },
         "marker": {
          "color": "red"
         },
         "name": "Interpolation with d=3",
         "opacity": 1,
         "type": "scatter",
         "x": [
          0,
          100.10010010010011,
          200.20020020020021,
          300.3003003003003,
          400.40040040040043,
          500.50050050050055,
          600.6006006006006,
          700.7007007007007,
          800.8008008008009,
          900.900900900901,
          1001.0010010010011,
          1101.1011011011012,
          1201.2012012012012,
          1301.3013013013015,
          1401.4014014014015,
          1501.5015015015017,
          1601.6016016016017,
          1701.7017017017017,
          1801.801801801802,
          1901.901901901902,
          2002.0020020020022,
          2102.1021021021024,
          2202.2022022022024,
          2302.3023023023025,
          2402.4024024024025,
          2502.5025025025025,
          2602.602602602603,
          2702.702702702703,
          2802.802802802803,
          2902.902902902903,
          3003.0030030030034,
          3103.1031031031034,
          3203.2032032032034,
          3303.3033033033034,
          3403.4034034034034,
          3503.503503503504,
          3603.603603603604,
          3703.703703703704,
          3803.803803803804,
          3903.9039039039044,
          4004.0040040040044,
          4104.104104104104,
          4204.204204204205,
          4304.304304304304,
          4404.404404404405,
          4504.504504504504,
          4604.604604604605,
          4704.704704704705,
          4804.804804804805,
          4904.904904904905,
          5005.005005005005,
          5105.105105105105,
          5205.205205205206,
          5305.305305305305,
          5405.405405405406,
          5505.505505505506,
          5605.605605605606,
          5705.705705705706,
          5805.805805805806,
          5905.905905905906,
          6006.006006006007,
          6106.106106106106,
          6206.206206206207,
          6306.306306306306,
          6406.406406406407,
          6506.506506506507,
          6606.606606606607,
          6706.706706706707,
          6806.806806806807,
          6906.906906906907,
          7007.007007007008,
          7107.107107107107,
          7207.207207207208,
          7307.307307307307,
          7407.407407407408,
          7507.507507507508,
          7607.607607607608,
          7707.707707707708,
          7807.807807807809,
          7907.907907907908,
          8008.008008008009,
          8108.108108108108,
          8208.208208208209,
          8308.30830830831,
          8408.40840840841,
          8508.508508508508,
          8608.608608608609,
          8708.70870870871,
          8808.80880880881,
          8908.90890890891,
          9009.009009009009,
          9109.10910910911,
          9209.20920920921,
          9309.30930930931,
          9409.40940940941,
          9509.50950950951,
          9609.60960960961,
          9709.70970970971,
          9809.80980980981,
          9909.909909909911,
          10010.01001001001,
          10110.11011011011,
          10210.21021021021,
          10310.310310310311,
          10410.410410410412,
          10510.51051051051,
          10610.61061061061,
          10710.710710710711,
          10810.810810810812,
          10910.910910910912,
          11011.011011011013,
          11111.111111111111,
          11211.211211211212,
          11311.311311311312,
          11411.411411411413,
          11511.511511511513,
          11611.611611611612,
          11711.711711711712,
          11811.811811811813,
          11911.911911911913,
          12012.012012012014,
          12112.112112112112,
          12212.212212212213,
          12312.312312312313,
          12412.412412412414,
          12512.512512512514,
          12612.612612612613,
          12712.712712712713,
          12812.812812812814,
          12912.912912912914,
          13013.013013013015,
          13113.113113113113,
          13213.213213213214,
          13313.313313313314,
          13413.413413413415,
          13513.513513513515,
          13613.613613613614,
          13713.713713713714,
          13813.813813813815,
          13913.913913913915,
          14014.014014014016,
          14114.114114114114,
          14214.214214214215,
          14314.314314314315,
          14414.414414414416,
          14514.514514514516,
          14614.614614614615,
          14714.714714714715,
          14814.814814814816,
          14914.914914914916,
          15015.015015015017,
          15115.115115115117,
          15215.215215215216,
          15315.315315315316,
          15415.415415415417,
          15515.515515515517,
          15615.615615615618,
          15715.715715715716,
          15815.815815815817,
          15915.915915915917,
          16016.016016016018,
          16116.116116116118,
          16216.216216216217,
          16316.316316316317,
          16416.416416416418,
          16516.516516516516,
          16616.61661661662,
          16716.716716716717,
          16816.81681681682,
          16916.916916916918,
          17017.017017017017,
          17117.11711711712,
          17217.217217217218,
          17317.31731731732,
          17417.41741741742,
          17517.517517517517,
          17617.61761761762,
          17717.71771771772,
          17817.81781781782,
          17917.91791791792,
          18018.018018018018,
          18118.11811811812,
          18218.21821821822,
          18318.31831831832,
          18418.41841841842,
          18518.51851851852,
          18618.61861861862,
          18718.71871871872,
          18818.81881881882,
          18918.91891891892,
          19019.01901901902,
          19119.11911911912,
          19219.21921921922,
          19319.319319319322,
          19419.41941941942,
          19519.51951951952,
          19619.61961961962,
          19719.71971971972,
          19819.819819819822,
          19919.91991991992,
          20020.02002002002,
          20120.120120120122,
          20220.22022022022,
          20320.320320320323,
          20420.42042042042,
          20520.52052052052,
          20620.620620620623,
          20720.72072072072,
          20820.820820820823,
          20920.920920920922,
          21021.02102102102,
          21121.121121121123,
          21221.22122122122,
          21321.321321321324,
          21421.421421421423,
          21521.521521521525,
          21621.621621621623,
          21721.721721721722,
          21821.821821821824,
          21921.921921921923,
          22022.022022022025,
          22122.122122122124,
          22222.222222222223,
          22322.322322322325,
          22422.422422422424,
          22522.522522522526,
          22622.622622622624,
          22722.722722722723,
          22822.822822822825,
          22922.922922922924,
          23023.023023023026,
          23123.123123123125,
          23223.223223223224,
          23323.323323323326,
          23423.423423423425,
          23523.523523523527,
          23623.623623623625,
          23723.723723723724,
          23823.823823823826,
          23923.923923923925,
          24024.024024024027,
          24124.124124124126,
          24224.224224224225,
          24324.324324324327,
          24424.424424424426,
          24524.524524524528,
          24624.624624624626,
          24724.724724724725,
          24824.824824824827,
          24924.924924924926,
          25025.02502502503,
          25125.125125125127,
          25225.225225225226,
          25325.325325325328,
          25425.425425425427,
          25525.52552552553,
          25625.625625625627,
          25725.725725725726,
          25825.82582582583,
          25925.925925925927,
          26026.02602602603,
          26126.126126126128,
          26226.226226226227,
          26326.32632632633,
          26426.426426426427,
          26526.52652652653,
          26626.62662662663,
          26726.726726726727,
          26826.82682682683,
          26926.926926926928,
          27027.02702702703,
          27127.12712712713,
          27227.227227227228,
          27327.32732732733,
          27427.42742742743,
          27527.52752752753,
          27627.62762762763,
          27727.727727727728,
          27827.82782782783,
          27927.92792792793,
          28028.02802802803,
          28128.12812812813,
          28228.22822822823,
          28328.32832832833,
          28428.42842842843,
          28528.52852852853,
          28628.62862862863,
          28728.72872872873,
          28828.82882882883,
          28928.92892892893,
          29029.029029029032,
          29129.12912912913,
          29229.22922922923,
          29329.32932932933,
          29429.42942942943,
          29529.529529529533,
          29629.62962962963,
          29729.72972972973,
          29829.829829829832,
          29929.92992992993,
          30030.030030030033,
          30130.130130130132,
          30230.230230230234,
          30330.330330330333,
          30430.43043043043,
          30530.530530530534,
          30630.630630630632,
          30730.730730730735,
          30830.830830830833,
          30930.930930930932,
          31031.031031031034,
          31131.131131131133,
          31231.231231231235,
          31331.331331331334,
          31431.431431431432,
          31531.531531531535,
          31631.631631631633,
          31731.731731731736,
          31831.831831831834,
          31931.931931931933,
          32032.032032032035,
          32132.132132132134,
          32232.232232232236,
          32332.332332332335,
          32432.432432432433,
          32532.532532532536,
          32632.632632632634,
          32732.732732732737,
          32832.832832832835,
          32932.932932932934,
          33033.03303303303,
          33133.13313313314,
          33233.23323323324,
          33333.333333333336,
          33433.433433433434,
          33533.53353353353,
          33633.63363363364,
          33733.73373373374,
          33833.833833833836,
          33933.933933933935,
          34034.03403403403,
          34134.13413413414,
          34234.23423423424,
          34334.33433433434,
          34434.434434434435,
          34534.534534534534,
          34634.63463463464,
          34734.73473473474,
          34834.83483483484,
          34934.934934934936,
          35035.035035035035,
          35135.13513513514,
          35235.23523523524,
          35335.33533533534,
          35435.43543543544,
          35535.535535535535,
          35635.63563563564,
          35735.73573573574,
          35835.83583583584,
          35935.93593593594,
          36036.036036036036,
          36136.13613613614,
          36236.23623623624,
          36336.33633633634,
          36436.43643643644,
          36536.536536536536,
          36636.63663663664,
          36736.73673673674,
          36836.83683683684,
          36936.93693693694,
          37037.03703703704,
          37137.13713713714,
          37237.23723723724,
          37337.33733733734,
          37437.43743743744,
          37537.53753753754,
          37637.63763763764,
          37737.73773773774,
          37837.83783783784,
          37937.93793793794,
          38038.03803803804,
          38138.13813813814,
          38238.23823823824,
          38338.33833833834,
          38438.43843843844,
          38538.53853853854,
          38638.638638638644,
          38738.73873873874,
          38838.83883883884,
          38938.93893893894,
          39039.03903903904,
          39139.139139139144,
          39239.23923923924,
          39339.33933933934,
          39439.43943943944,
          39539.53953953954,
          39639.639639639645,
          39739.73973973974,
          39839.83983983984,
          39939.93993993994,
          40040.04004004004,
          40140.140140140145,
          40240.240240240244,
          40340.34034034034,
          40440.44044044044,
          40540.54054054054,
          40640.640640640646,
          40740.740740740745,
          40840.84084084084,
          40940.94094094094,
          41041.04104104104,
          41141.14114114115,
          41241.241241241245,
          41341.341341341344,
          41441.44144144144,
          41541.54154154154,
          41641.64164164165,
          41741.741741741745,
          41841.841841841844,
          41941.94194194194,
          42042.04204204204,
          42142.14214214215,
          42242.242242242246,
          42342.342342342345,
          42442.44244244244,
          42542.54254254254,
          42642.64264264265,
          42742.74274274275,
          42842.842842842845,
          42942.942942942944,
          43043.04304304305,
          43143.14314314315,
          43243.24324324325,
          43343.343343343346,
          43443.443443443444,
          43543.54354354355,
          43643.64364364365,
          43743.74374374375,
          43843.843843843846,
          43943.943943943945,
          44044.04404404405,
          44144.14414414415,
          44244.24424424425,
          44344.34434434435,
          44444.444444444445,
          44544.54454454455,
          44644.64464464465,
          44744.74474474475,
          44844.84484484485,
          44944.944944944946,
          45045.04504504505,
          45145.14514514515,
          45245.24524524525,
          45345.34534534535,
          45445.445445445446,
          45545.54554554555,
          45645.64564564565,
          45745.74574574575,
          45845.84584584585,
          45945.94594594595,
          46046.04604604605,
          46146.14614614615,
          46246.24624624625,
          46346.34634634635,
          46446.44644644645,
          46546.54654654655,
          46646.64664664665,
          46746.74674674675,
          46846.84684684685,
          46946.94694694695,
          47047.047047047054,
          47147.14714714715,
          47247.24724724725,
          47347.34734734735,
          47447.44744744745,
          47547.547547547554,
          47647.64764764765,
          47747.74774774775,
          47847.84784784785,
          47947.94794794795,
          48048.048048048055,
          48148.14814814815,
          48248.24824824825,
          48348.34834834835,
          48448.44844844845,
          48548.548548548555,
          48648.648648648654,
          48748.74874874875,
          48848.84884884885,
          48948.94894894895,
          49049.049049049056,
          49149.149149149154,
          49249.24924924925,
          49349.34934934935,
          49449.44944944945,
          49549.549549549556,
          49649.649649649655,
          49749.74974974975,
          49849.84984984985,
          49949.94994994995,
          50050.05005005006,
          50150.150150150155,
          50250.250250250254,
          50350.35035035035,
          50450.45045045045,
          50550.55055055056,
          50650.650650650656,
          50750.750750750754,
          50850.85085085085,
          50950.95095095095,
          51051.05105105106,
          51151.151151151156,
          51251.251251251255,
          51351.35135135135,
          51451.45145145145,
          51551.55155155156,
          51651.65165165166,
          51751.751751751755,
          51851.851851851854,
          51951.95195195195,
          52052.05205205206,
          52152.15215215216,
          52252.252252252256,
          52352.352352352355,
          52452.45245245245,
          52552.55255255256,
          52652.65265265266,
          52752.752752752756,
          52852.852852852855,
          52952.95295295295,
          53053.05305305306,
          53153.15315315316,
          53253.25325325326,
          53353.353353353355,
          53453.453453453454,
          53553.55355355356,
          53653.65365365366,
          53753.75375375376,
          53853.853853853856,
          53953.953953953955,
          54054.05405405406,
          54154.15415415416,
          54254.25425425426,
          54354.35435435436,
          54454.454454454455,
          54554.55455455456,
          54654.65465465466,
          54754.75475475476,
          54854.85485485486,
          54954.954954954956,
          55055.05505505506,
          55155.15515515516,
          55255.25525525526,
          55355.35535535536,
          55455.455455455456,
          55555.55555555556,
          55655.65565565566,
          55755.75575575576,
          55855.85585585586,
          55955.95595595596,
          56056.05605605606,
          56156.15615615616,
          56256.25625625626,
          56356.35635635636,
          56456.45645645646,
          56556.55655655656,
          56656.65665665666,
          56756.75675675676,
          56856.85685685686,
          56956.95695695696,
          57057.05705705706,
          57157.15715715716,
          57257.25725725726,
          57357.35735735736,
          57457.45745745746,
          57557.557557557564,
          57657.65765765766,
          57757.75775775776,
          57857.85785785786,
          57957.95795795796,
          58058.058058058064,
          58158.15815815816,
          58258.25825825826,
          58358.35835835836,
          58458.45845845846,
          58558.558558558565,
          58658.65865865866,
          58758.75875875876,
          58858.85885885886,
          58958.95895895896,
          59059.059059059065,
          59159.159159159164,
          59259.25925925926,
          59359.35935935936,
          59459.45945945946,
          59559.559559559566,
          59659.659659659665,
          59759.75975975976,
          59859.85985985986,
          59959.95995995997,
          60060.06006006007,
          60160.160160160165,
          60260.260260260264,
          60360.36036036036,
          60460.46046046047,
          60560.56056056057,
          60660.660660660666,
          60760.760760760764,
          60860.86086086086,
          60960.96096096097,
          61061.06106106107,
          61161.161161161166,
          61261.261261261265,
          61361.36136136136,
          61461.46146146147,
          61561.56156156157,
          61661.66166166167,
          61761.761761761765,
          61861.861861861864,
          61961.96196196197,
          62062.06206206207,
          62162.16216216217,
          62262.262262262266,
          62362.362362362364,
          62462.46246246247,
          62562.56256256257,
          62662.66266266267,
          62762.762762762766,
          62862.862862862865,
          62962.96296296297,
          63063.06306306307,
          63163.16316316317,
          63263.26326326327,
          63363.363363363365,
          63463.46346346347,
          63563.56356356357,
          63663.66366366367,
          63763.76376376377,
          63863.863863863866,
          63963.96396396397,
          64064.06406406407,
          64164.16416416417,
          64264.26426426427,
          64364.364364364366,
          64464.46446446447,
          64564.56456456457,
          64664.66466466467,
          64764.76476476477,
          64864.86486486487,
          64964.96496496497,
          65065.06506506507,
          65165.16516516517,
          65265.26526526527,
          65365.36536536537,
          65465.46546546547,
          65565.56556556557,
          65665.66566566567,
          65765.76576576577,
          65865.86586586587,
          65965.96596596597,
          66066.06606606607,
          66166.16616616616,
          66266.26626626628,
          66366.36636636638,
          66466.46646646647,
          66566.56656656657,
          66666.66666666667,
          66766.76676676677,
          66866.86686686687,
          66966.96696696697,
          67067.06706706707,
          67167.16716716716,
          67267.26726726728,
          67367.36736736738,
          67467.46746746748,
          67567.56756756757,
          67667.66766766767,
          67767.76776776777,
          67867.86786786787,
          67967.96796796797,
          68068.06806806807,
          68168.16816816817,
          68268.26826826828,
          68368.36836836838,
          68468.46846846848,
          68568.56856856857,
          68668.66866866867,
          68768.76876876877,
          68868.86886886887,
          68968.96896896897,
          69069.06906906907,
          69169.16916916918,
          69269.26926926928,
          69369.36936936938,
          69469.46946946948,
          69569.56956956958,
          69669.66966966967,
          69769.76976976977,
          69869.86986986987,
          69969.96996996997,
          70070.07007007007,
          70170.17017017018,
          70270.27027027028,
          70370.37037037038,
          70470.47047047048,
          70570.57057057058,
          70670.67067067068,
          70770.77077077077,
          70870.87087087087,
          70970.97097097097,
          71071.07107107107,
          71171.17117117118,
          71271.27127127128,
          71371.37137137138,
          71471.47147147148,
          71571.57157157158,
          71671.67167167168,
          71771.77177177178,
          71871.87187187187,
          71971.97197197197,
          72072.07207207207,
          72172.17217217218,
          72272.27227227228,
          72372.37237237238,
          72472.47247247248,
          72572.57257257258,
          72672.67267267268,
          72772.77277277278,
          72872.87287287287,
          72972.97297297297,
          73073.07307307307,
          73173.17317317319,
          73273.27327327328,
          73373.37337337338,
          73473.47347347348,
          73573.57357357358,
          73673.67367367368,
          73773.77377377378,
          73873.87387387388,
          73973.97397397397,
          74074.07407407407,
          74174.17417417419,
          74274.27427427428,
          74374.37437437438,
          74474.47447447448,
          74574.57457457458,
          74674.67467467468,
          74774.77477477478,
          74874.87487487488,
          74974.97497497498,
          75075.07507507507,
          75175.17517517519,
          75275.27527527529,
          75375.37537537538,
          75475.47547547548,
          75575.57557557558,
          75675.67567567568,
          75775.77577577578,
          75875.87587587588,
          75975.97597597598,
          76076.07607607607,
          76176.17617617619,
          76276.27627627629,
          76376.37637637639,
          76476.47647647648,
          76576.57657657658,
          76676.67667667668,
          76776.77677677678,
          76876.87687687688,
          76976.97697697698,
          77077.07707707708,
          77177.17717717719,
          77277.27727727729,
          77377.37737737739,
          77477.47747747749,
          77577.57757757758,
          77677.67767767768,
          77777.77777777778,
          77877.87787787788,
          77977.97797797798,
          78078.07807807808,
          78178.17817817819,
          78278.27827827829,
          78378.37837837839,
          78478.47847847849,
          78578.57857857858,
          78678.67867867868,
          78778.77877877878,
          78878.87887887888,
          78978.97897897898,
          79079.07907907908,
          79179.17917917919,
          79279.27927927929,
          79379.37937937939,
          79479.47947947949,
          79579.57957957959,
          79679.67967967968,
          79779.77977977978,
          79879.87987987988,
          79979.97997997998,
          80080.08008008008,
          80180.18018018019,
          80280.28028028029,
          80380.38038038039,
          80480.48048048049,
          80580.58058058059,
          80680.68068068069,
          80780.78078078078,
          80880.88088088088,
          80980.98098098098,
          81081.08108108108,
          81181.1811811812,
          81281.28128128129,
          81381.38138138139,
          81481.48148148149,
          81581.58158158159,
          81681.68168168169,
          81781.78178178178,
          81881.88188188188,
          81981.98198198198,
          82082.08208208208,
          82182.1821821822,
          82282.2822822823,
          82382.38238238239,
          82482.48248248249,
          82582.58258258259,
          82682.68268268269,
          82782.78278278279,
          82882.88288288288,
          82982.98298298298,
          83083.08308308308,
          83183.1831831832,
          83283.2832832833,
          83383.38338338339,
          83483.48348348349,
          83583.58358358359,
          83683.68368368369,
          83783.78378378379,
          83883.88388388389,
          83983.98398398398,
          84084.08408408408,
          84184.1841841842,
          84284.2842842843,
          84384.3843843844,
          84484.48448448449,
          84584.58458458459,
          84684.68468468469,
          84784.78478478479,
          84884.88488488489,
          84984.98498498499,
          85085.08508508508,
          85185.1851851852,
          85285.2852852853,
          85385.3853853854,
          85485.4854854855,
          85585.58558558559,
          85685.68568568569,
          85785.78578578579,
          85885.88588588589,
          85985.98598598599,
          86086.0860860861,
          86186.1861861862,
          86286.2862862863,
          86386.3863863864,
          86486.4864864865,
          86586.58658658659,
          86686.68668668669,
          86786.78678678679,
          86886.88688688689,
          86986.98698698699,
          87087.0870870871,
          87187.1871871872,
          87287.2872872873,
          87387.3873873874,
          87487.4874874875,
          87587.5875875876,
          87687.68768768769,
          87787.78778778779,
          87887.88788788789,
          87987.98798798799,
          88088.0880880881,
          88188.1881881882,
          88288.2882882883,
          88388.3883883884,
          88488.4884884885,
          88588.5885885886,
          88688.6886886887,
          88788.78878878879,
          88888.88888888889,
          88988.98898898899,
          89089.0890890891,
          89189.1891891892,
          89289.2892892893,
          89389.3893893894,
          89489.4894894895,
          89589.5895895896,
          89689.6896896897,
          89789.7897897898,
          89889.88988988989,
          89989.98998998999,
          90090.0900900901,
          90190.1901901902,
          90290.2902902903,
          90390.3903903904,
          90490.4904904905,
          90590.5905905906,
          90690.6906906907,
          90790.7907907908,
          90890.89089089089,
          90990.99099099099,
          91091.0910910911,
          91191.1911911912,
          91291.2912912913,
          91391.3913913914,
          91491.4914914915,
          91591.5915915916,
          91691.6916916917,
          91791.7917917918,
          91891.8918918919,
          91991.99199199199,
          92092.0920920921,
          92192.1921921922,
          92292.2922922923,
          92392.3923923924,
          92492.4924924925,
          92592.5925925926,
          92692.6926926927,
          92792.7927927928,
          92892.8928928929,
          92992.992992993,
          93093.0930930931,
          93193.1931931932,
          93293.2932932933,
          93393.3933933934,
          93493.4934934935,
          93593.5935935936,
          93693.6936936937,
          93793.7937937938,
          93893.8938938939,
          93993.993993994,
          94094.09409409411,
          94194.1941941942,
          94294.2942942943,
          94394.3943943944,
          94494.4944944945,
          94594.5945945946,
          94694.6946946947,
          94794.7947947948,
          94894.8948948949,
          94994.994994995,
          95095.09509509511,
          95195.1951951952,
          95295.2952952953,
          95395.3953953954,
          95495.4954954955,
          95595.5955955956,
          95695.6956956957,
          95795.7957957958,
          95895.8958958959,
          95995.995995996,
          96096.09609609611,
          96196.19619619621,
          96296.2962962963,
          96396.3963963964,
          96496.4964964965,
          96596.5965965966,
          96696.6966966967,
          96796.7967967968,
          96896.8968968969,
          96996.996996997,
          97097.09709709711,
          97197.19719719721,
          97297.29729729731,
          97397.3973973974,
          97497.4974974975,
          97597.5975975976,
          97697.6976976977,
          97797.7977977978,
          97897.8978978979,
          97997.997997998,
          98098.09809809811,
          98198.19819819821,
          98298.29829829831,
          98398.3983983984,
          98498.4984984985,
          98598.5985985986,
          98698.6986986987,
          98798.7987987988,
          98898.8988988989,
          98998.998998999,
          99099.09909909911,
          99199.19919919921,
          99299.29929929931,
          99399.39939939941,
          99499.4994994995,
          99599.5995995996,
          99699.6996996997,
          99799.7997997998,
          99899.8998998999,
          100000
         ],
         "y": [
          14.656306382156302,
          15.12983909057903,
          15.601284317509826,
          16.070646640261195,
          16.537930636145642,
          17.00314088247567,
          17.466281956563783,
          17.92735843572249,
          18.38637489726429,
          18.843335918501687,
          19.29824607674719,
          19.751109949313296,
          20.201932113512516,
          20.650717146657357,
          21.09746962606031,
          21.54219412903389,
          21.9848952328906,
          22.425577514942944,
          22.864245552503423,
          23.300903922884544,
          23.735557203398812,
          24.16820997135873,
          24.598866804076803,
          25.027532278865536,
          25.454210973037426,
          25.878907463904987,
          26.301626328780724,
          26.722372144977133,
          27.141149489806722,
          27.557962940581994,
          27.972817074615456,
          28.38571646921961,
          28.796665701706964,
          29.205669349390014,
          29.612731989581274,
          30.017858199593245,
          30.421052556738427,
          30.82231963832933,
          31.221664021678457,
          31.61909028409831,
          32.014603002901396,
          32.408206755400215,
          32.79990611890727,
          33.18970567073508,
          33.57760998819613,
          33.96362364860293,
          34.347751229268,
          34.72999730750382,
          35.11036646062291,
          35.48886326593777,
          35.865492300760906,
          36.24025814240482,
          36.61316536818202,
          36.984218555405,
          37.35342228138627,
          37.72078112343834,
          38.08629965887371,
          38.44998246500489,
          38.811834119144365,
          39.171859198604665,
          39.53006228069828,
          39.88644794273771,
          40.241020762035475,
          40.59378531590406,
          40.94474618165599,
          41.293907936603745,
          41.641275158059855,
          41.9868524233368,
          42.3306443097471,
          42.67265539460326,
          43.01289025521778,
          43.35135346890316,
          43.688049612971916,
          44.02298326473654,
          44.35615900150954,
          44.68758140060342,
          45.01725503933069,
          45.34518449500385,
          45.6713743449354,
          45.99582916643786,
          46.31855353682371,
          46.63955203340546,
          46.958829233495635,
          47.276389714406726,
          47.59223805345123,
          47.90637882794165,
          48.21881661519051,
          48.5295559925103,
          48.83860153721353,
          49.14595782661271,
          49.45162943802032,
          49.755620948748884,
          50.057936936110906,
          50.35858197741888,
          50.657560649985314,
          50.95487753112272,
          51.25053719814359,
          51.54454422836046,
          51.83690319908579,
          52.12761868763211,
          52.4166952713119,
          52.7041375274377,
          52.989950033321996,
          53.274137366277294,
          53.5567041036161,
          53.837654822650904,
          54.11699410069423,
          54.39472651505857,
          54.67085664305644,
          54.945389062000324,
          55.21832834920275,
          55.489679081976206,
          55.75944583763321,
          56.02763319348625,
          56.29424572684784,
          56.55928801503048,
          56.82276463534667,
          57.084680165108935,
          57.34503918162976,
          57.60384626222166,
          57.86110598419713,
          58.11682292486867,
          58.3710016615488,
          58.623646771550014,
          58.87476283218482,
          59.12435442076573,
          59.372426114605226,
          59.61898249101583,
          59.86402812731004,
          60.10756760080037,
          60.34960548879931,
          60.59014636861937,
          60.82919481757307,
          61.06675541297288,
          61.30283273213133,
          61.53743135236092,
          61.77055585097415,
          62.00221080528354,
          62.23240079260155,
          62.46113039024075,
          62.6884041755136,
          62.914226725732604,
          63.138602618210264,
          63.36153643025912,
          63.58303273919164,
          63.803096122320355,
          64.02173115695774,
          64.23894242041634,
          64.4547344900086,
          64.66911194304707,
          64.88207935684424,
          65.09364130871262,
          65.30380237596472,
          65.51256713591302,
          65.71994016587004,
          65.92592604314831,
          66.13052934506028,
          66.33375464891849,
          66.53560653203543,
          66.73608957172361,
          66.93520834529555,
          67.13296743006374,
          67.32937140334066,
          67.52442484243885,
          67.71813232467082,
          67.91049842734903,
          68.10152772778602,
          68.29122480329428,
          68.47959423118633,
          68.66664058877467,
          68.85236845337177,
          69.03678240229019,
          69.21988701284239,
          69.4016868623409,
          69.58218652809819,
          69.76139058742683,
          69.93930361763927,
          70.115930196048,
          70.2912748999656,
          70.46534230670449,
          70.63813699357723,
          70.8096635378963,
          70.97992651697419,
          71.14893050812344,
          71.31668008865654,
          71.48317983588598,
          71.64843432712429,
          71.81244813968397,
          71.97522585087748,
          72.13677203801737,
          72.29709127841616,
          72.45618814938629,
          72.61406722824033,
          72.77073309229077,
          72.92619031885008,
          73.08044348523077,
          73.23349716874537,
          73.38535594670638,
          73.53602439642628,
          73.68550709521762,
          73.83380862039286,
          73.98093354926452,
          74.1268864591451,
          74.27167192734711,
          74.41529453118306,
          74.55775884796546,
          74.69906945500678,
          74.83923092961956,
          74.97824784911629,
          75.11612479080947,
          75.2528663320116,
          75.38847705003522,
          75.52296152219279,
          75.65632432579683,
          75.78857003815985,
          75.91970323659433,
          76.04972849841282,
          76.1786504009278,
          76.30647352145175,
          76.43320243729723,
          76.55884172577669,
          76.68339596420265,
          76.80686972988764,
          76.92926760014413,
          77.05059415228465,
          77.17085396362168,
          77.29005161146776,
          77.40819167313535,
          77.52527872593697,
          77.64131734718516,
          77.75631211419237,
          77.87026760427113,
          77.98318839473396,
          78.09507906289333,
          78.20594418606177,
          78.31578834155178,
          78.42461610667586,
          78.5324320587465,
          78.63924077507625,
          78.74504683297754,
          78.84985480976296,
          78.95366928274494,
          79.05649482923603,
          79.15833602654871,
          79.25919745199549,
          79.35908368288891,
          79.45799929654142,
          79.55594887026554,
          79.6529369813738,
          79.74896820717869,
          79.84404712499268,
          79.93817831212834,
          80.03136634589812,
          80.12361580361453,
          80.21493126259011,
          80.30531730013735,
          80.39477849356872,
          80.48331942019676,
          80.57094465733395,
          80.65765878229284,
          80.74346637238587,
          80.82837200492561,
          80.91238025722451,
          80.9954957065951,
          81.07772293034988,
          81.15906650580135,
          81.23953101026203,
          81.3191210210444,
          81.39784111546099,
          81.47569587082427,
          81.55268986444678,
          81.62882767364104,
          81.70411387571946,
          81.77855304799466,
          81.85214976777908,
          81.92490861238524,
          81.99683415912561,
          82.06793098531276,
          82.13820366825915,
          82.20765678527732,
          82.2762949136797,
          82.34412263077888,
          82.41114451388732,
          82.47736514031752,
          82.54278908738199,
          82.60742093239325,
          82.6712652526638,
          82.73432662550613,
          82.79660962823276,
          82.85811883815617,
          82.91885883258891,
          82.97883418884342,
          83.03804948423227,
          83.09650929606794,
          83.15421820166291,
          83.21118077832973,
          83.26740160338082,
          83.3228852541288,
          83.37763630788609,
          83.4316593419652,
          83.48495893367866,
          83.53753966033901,
          83.58940609925868,
          83.6405628277502,
          83.6910144231261,
          83.74076546269887,
          83.78982052378099,
          83.83818418368502,
          83.88586101972338,
          83.93285560920867,
          83.97917252945332,
          84.02481635776984,
          84.06979167147077,
          84.11410304786862,
          84.15775506427585,
          84.200752298005,
          84.24309932636858,
          84.28480072667905,
          84.32586107624894,
          84.36628495239077,
          84.40607693241702,
          84.4452415936402,
          84.48378351337287,
          84.52170726892743,
          84.55901743761642,
          84.59571859675243,
          84.63181532364783,
          84.66731219561521,
          84.70221378996708,
          84.73652468401585,
          84.77024945507418,
          84.80339268045441,
          84.83595893746917,
          84.8679528034309,
          84.89937885565215,
          84.93024167144534,
          84.96054582812307,
          84.99029590299779,
          85.019496473382,
          85.04815211658823,
          85.07626740992899,
          85.10384693071676,
          85.13089525626404,
          85.15741696388338,
          85.18341663088722,
          85.20889883458813,
          85.23386815229856,
          85.25832916133105,
          85.28228643899804,
          85.30574456261216,
          85.32870810948576,
          85.35118165693147,
          85.37316978226174,
          85.39467706278909,
          85.41570807582598,
          85.43626739868502,
          85.4563596086786,
          85.47598928311923,
          85.49516099931951,
          85.51387933459183,
          85.53214886624879,
          85.54997417160284,
          85.56735982796654,
          85.58431041265233,
          85.60083050297273,
          85.61692467624023,
          85.6325975097674,
          85.64785358086665,
          85.66269746685059,
          85.67713374503164,
          85.69116699272236,
          85.70480178723518,
          85.7180427058827,
          85.73089432597733,
          85.74336122483167,
          85.75544797975816,
          85.76715916806928,
          85.77849936707766,
          85.78947315409563,
          85.80008510643584,
          85.8103398014107,
          85.82024181633277,
          85.8297957285145,
          85.83900611526848,
          85.84787755390714,
          85.85641462174301,
          85.8646218960886,
          85.87250395425637,
          85.88006537355893,
          85.88731073130866,
          85.89424460481816,
          85.90087157139983,
          85.90719620836627,
          85.91322309302994,
          85.91895680270342,
          85.92440191469909,
          85.92956300632953,
          85.93444465490721,
          85.93905143774471,
          85.94338793215441,
          85.94745871544892,
          85.9512683649407,
          85.95482145794226,
          85.95812257176614,
          85.9611762837247,
          85.96398717113068,
          85.96655981129636,
          85.9688987815344,
          85.97100865915722,
          85.97289402147739,
          85.97455944580734,
          85.97600950945962,
          85.9772487897467,
          85.97828186398114,
          85.97911330947541,
          85.979747703542,
          85.98018962349347,
          85.98044364664223,
          85.98051435030085,
          85.98040631178183,
          85.9801241083977,
          85.9796723174609,
          85.97905551628394,
          85.9782782821794,
          85.97734519245974,
          85.97626082443746,
          85.97502975542501,
          85.97365656273492,
          85.97214582367981,
          85.97050211557207,
          85.96873001572423,
          85.96683410144881,
          85.96481895005827,
          85.96268913886514,
          85.96044924518192,
          85.95810384632118,
          85.9556575195953,
          85.95311484231691,
          85.95048039179842,
          85.9477587453524,
          85.94495448029126,
          85.9420721739276,
          85.93911640357389,
          85.93609174654263,
          85.93300278014637,
          85.92985408169754,
          85.92665022850868,
          85.9233957978923,
          85.92009536716093,
          85.91675351362697,
          85.91337481460305,
          85.90996384740158,
          85.90652518933517,
          85.90306341771618,
          85.89958310985726,
          85.89608884307079,
          85.89258519466937,
          85.88907674196544,
          85.88556806227162,
          85.88206373290019,
          85.87856833116383,
          85.87508643437504,
          85.87162261984632,
          85.86818146489007,
          85.86476754681887,
          85.86138544294523,
          85.85803973058161,
          85.85473498704063,
          85.85147578963468,
          85.8482667156763,
          85.845112342478,
          85.84201724735222,
          85.83898600761161,
          85.8360232005685,
          85.83313340353551,
          85.83032119382513,
          85.82759114874987,
          85.8249478456221,
          85.82239586175454,
          85.8199397744596,
          85.81758416104974,
          85.81533359883748,
          85.81319266513539,
          85.81116593725584,
          85.80925799251149,
          85.80747340821476,
          85.80581676167817,
          85.80429263021422,
          85.80290559113546,
          85.80166022175435,
          85.80056109938336,
          85.79961280133504,
          85.79881990492184,
          85.79818698745636,
          85.79771862625101,
          85.79741939861846,
          85.79729388187094,
          85.79734665332121,
          85.79758229028165,
          85.79800537006481,
          85.79862046998308,
          85.79943216734905,
          85.80044503947535,
          85.80166366367429,
          85.80309261725849,
          85.80473647754037,
          85.80659982183245,
          85.80868722744732,
          85.81100327169737,
          85.81355253189521,
          85.81633958535328,
          85.81936900938412,
          85.82264538130012,
          85.82617327841395,
          85.82995727803804,
          85.83400195748489,
          85.83831189406699,
          85.84289166509684,
          85.84774584788705,
          85.85287901974995,
          85.85829575799819,
          85.86400063994422,
          85.86999824290054,
          85.87629314417963,
          85.88288992109405,
          85.88979315095624,
          85.89700741107875,
          85.90453727877413,
          85.91238733135476,
          85.92056214613326,
          85.92906630042212,
          85.93790437153372,
          85.94708093678072,
          85.95660057347557,
          85.96646785893076,
          85.97668737045878,
          85.98726368537218,
          85.99820138098342,
          86.00950503460491,
          86.0211792235494,
          86.03322852512925,
          86.04565751665702,
          86.05847077544514,
          86.07167287880607,
          86.0852684040524,
          86.09926192849669,
          86.11365802945132,
          86.12846128422895,
          86.14367627014191,
          86.15930756450275,
          86.17535974462403,
          86.19183738781818,
          86.20874507139781,
          86.22608737267542,
          86.24386886896339,
          86.26209413757427,
          86.28076775582066,
          86.29989430101496,
          86.31947835046971,
          86.33952448149746,
          86.3600372714106,
          86.38102129752174,
          86.40248113714325,
          86.42442136758781,
          86.4468465661679,
          86.4697613101958,
          86.49317017698435,
          86.51707774384586,
          86.54148858809283,
          86.56640728703782,
          86.5918384179932,
          86.61778655827176,
          86.6442562851857,
          86.6712521760477,
          86.69877880817025,
          86.72684075886572,
          86.75544260544673,
          86.78458892522583,
          86.81428429551546,
          86.84453329362812,
          86.87534049687635,
          86.90671048257254,
          86.93864782802935,
          86.97115711055922,
          87.00424290747465,
          87.03790979608807,
          87.0721623537121,
          87.10700515765923,
          87.14244278524195,
          87.17847981377271,
          87.21512082056411,
          87.25237038292848,
          87.29023307817853,
          87.3287134836266,
          87.36781617658541,
          87.40754573436722,
          87.44790673428476,
          87.48890375365029,
          87.53054136977643,
          87.57282415997578,
          87.61575670156073,
          87.65934357184382,
          87.7035893481375,
          87.74849860775443,
          87.79407592800688,
          87.84032588620757,
          87.88725305966882,
          87.93486202570331,
          87.98315736162341,
          88.03214364474174,
          88.08182545237067,
          88.13220736182281,
          88.1832939504106,
          88.23508979544665,
          88.28759947424335,
          88.34082756411318,
          88.39477864236876,
          88.44945728632253,
          88.50486807328708,
          88.56101558057465,
          88.61790438549811,
          88.67553906536973,
          88.73392419750208,
          88.79306435920758,
          88.8529641277989,
          88.91362808058842,
          88.97506079488876,
          89.0372668480123,
          89.10025081727152,
          89.16401727997898,
          89.22857081344729,
          89.29391599498884,
          89.36005740191611,
          89.42699961154166,
          89.4947472011781,
          89.5633047481377,
          89.63267682973306,
          89.70286802327679,
          89.77388290608123,
          89.84572605545902,
          89.91840204872257,
          89.99191546318441,
          90.06627087615716,
          90.1414728649532,
          90.21752600688502,
          90.29443487926507,
          90.37220405940606,
          90.45083812462032,
          90.53034165222046,
          90.61071921951886,
          90.6919754038283,
          90.77411478246093,
          90.85714193272942,
          90.94106143194621,
          91.02587785742391,
          91.11159578647495,
          91.19821979641195,
          91.28575446454728,
          91.37420436819345,
          91.46357408466305,
          91.55386819126842,
          91.64509126532239,
          91.737247884137,
          91.83034262502521,
          91.92438006529916,
          92.01936478227164,
          92.11530135325502,
          92.2121943555618,
          92.31004836650449,
          92.40886796339556,
          92.50865772354759,
          92.60942222427316,
          92.71116604288461,
          92.81389375669438,
          92.91760994301525,
          93.02231917915942,
          93.12802604243957,
          93.23473511016824,
          93.34245095965788,
          93.45117816822092,
          93.56092131316997,
          93.67168497181753,
          93.78347372147603,
          93.89629213945797,
          94.01014480307596,
          94.1250362896425,
          94.2409711764699,
          94.3579540408709,
          94.47598946015786,
          94.5950820116433,
          94.71523627263981,
          94.83645682045984,
          94.95874823241583,
          95.08211508582043,
          95.20656195798604,
          95.33209342622509,
          95.4587140678503,
          95.58642846017405,
          95.71524118050884,
          95.84515680616694,
          95.97617991446141,
          96.10831508270435,
          96.2415668882082,
          96.37593990828596,
          96.5114387202495,
          96.64806790141172,
          96.78583202908494,
          96.92473568058183,
          97.06478343321471,
          97.20597986429637,
          97.348329551139,
          97.49183707105517,
          97.63650700135766,
          97.78234391935867,
          97.92935240237075,
          98.07753702770636,
          98.22690237267825,
          98.37745301459877,
          98.52919353078023,
          98.68212849853553,
          98.83626249517688,
          98.99160009801695,
          99.14814588436805,
          99.30590443154297,
          99.46488031685392,
          99.62507811761357,
          99.78650241113435,
          99.94915777472882,
          100.11304878570941,
          100.2781800213889,
          100.4445560590794,
          100.61218147609357,
          100.78106084974395,
          100.9511987573431,
          101.12259977620336,
          101.29526848363749,
          101.4692094569577,
          101.64442727347655,
          101.82092651050682,
          101.99871174536061,
          102.1777875553508,
          102.3581585177895,
          102.5398292099896,
          102.72280420926343,
          102.90708809292342,
          103.09268543828223,
          103.27960082265231,
          103.4678388233461,
          103.65740401767626,
          103.848300982955,
          104.04053429649521,
          104.23410853560911,
          104.42902827760925,
          104.62529809980829,
          104.82292257951856,
          105.02190629405239,
          105.22225382072277,
          105.42396973684204,
          105.6270586197224,
          105.83152504667653,
          106.03737359501709,
          106.24460884205651,
          106.45323536510723,
          106.6632577414817,
          106.87468054849246,
          107.08750836345219,
          107.3017457636732,
          107.51739732646804,
          107.73446762914928,
          107.95296124902923,
          108.17288276342067,
          108.39423674963605,
          108.61702778498768,
          108.84126044678824,
          109.06693931235004,
          109.29406895898565,
          109.52265396400794,
          109.7526989047288,
          109.98420835846134,
          110.21718690251755,
          110.45163911421032,
          110.68756957085198,
          110.92498284975495,
          111.16388352823192,
          111.4042761835952,
          111.64616539315746,
          111.88955573423114,
          112.13445178412879,
          112.38085812016284,
          112.62877931964574,
          112.87821995989016,
          113.12918461820864,
          113.3816778719134,
          113.63570429831721,
          113.8912684747324,
          114.14837497847152,
          114.40702838684736,
          114.66723327717189,
          114.9289942267579,
          115.19231581291804,
          115.45720261296454,
          115.72365920421016,
          115.99169016396725,
          116.26130006954823,
          116.53249349826577,
          116.8052750274323,
          117.0796492343605,
          117.35562069636246,
          117.63319399075097,
          117.91237369483868,
          118.1931643859378,
          118.47557064136102,
          118.75959703842075,
          119.04524815442956,
          119.33252856669976,
          119.62144285254415,
          119.91199558927492,
          120.20419135420487,
          120.49803472464642,
          120.79353027791201,
          121.09068259131409,
          121.38949624216544,
          121.68997580777814,
          121.99212586546498,
          122.29595099253852,
          122.60145576631108,
          122.9086447640952,
          123.21752256320345,
          123.52809374094825,
          123.84036287464228,
          124.15433454159786,
          124.47001331912755,
          124.78740378454388,
          125.10651051515931,
          125.42733808828628,
          125.74989108123744,
          126.07417407132534,
          126.40019163586233,
          126.72794835216094,
          127.05744879753372,
          127.38869754929324,
          127.7216991847517,
          128.05645828122198,
          128.39297941601643,
          128.73126716644748,
          129.0713261098279,
          129.4131608234698,
          129.75677588468585,
          130.1021758707888,
          130.44936535909056,
          130.79834892690457,
          131.14913115154246,
          131.50171661031715,
          131.85610988054083,
          132.2123155395263,
          132.5703381645862,
          132.93018233303263,
          133.2918526221784,
          133.6553536093358,
          134.02068987181752,
          134.38786598693588,
          134.75688653200353,
          135.12775608433316,
          135.50047922123684,
          135.87506052002726,
          136.25150455801685,
          136.62981591251827,
          137.00999916084407,
          137.3920588803066,
          137.77599964821837,
          138.16182604189208,
          138.54954263863993,
          138.9391540157746,
          139.33066475060838,
          139.7240794204543,
          140.11940260262423,
          140.51663887443118,
          140.91579281318747,
          141.31686899620541,
          141.71987200079758,
          142.12480640427674,
          142.53167678395533,
          142.94048771714557,
          143.35124378116024,
          143.76394955331176,
          144.1786096109127,
          144.59522853127527,
          145.01381089171235,
          145.43436126953628,
          145.8568842420595,
          146.28138438659477,
          146.70786628045408,
          147.13633450095057,
          147.56679362539643,
          147.999248231104,
          148.43370289538615,
          148.87016219555488,
          149.30863070892332,
          149.74911301280355,
          150.19161368450813,
          150.63613730134995,
          151.08268844064088,
          151.53127167969382,
          151.9818915958212,
          152.43455276633534,
          152.88925976854904,
          153.3460171797746,
          153.8048295773246,
          154.2657015385118,
          154.7286376406483,
          155.19364246104664,
          155.6607205770195,
          156.12987656587944,
          156.60111500493866,
          157.07444047150983,
          157.54985754290573,
          158.02737079643856,
          158.50698480942077,
          158.9887041591648,
          159.47253342298364,
          159.95847717818918,
          160.44654000209476,
          160.93672647201169,
          161.42904116525364,
          161.92348865913237,
          162.42007353096045,
          162.91880035805076,
          163.41967371771563,
          163.92269818726737,
          164.42787834401878,
          164.9352187652823,
          165.44472402837033,
          165.956398710595,
          166.4702473892699,
          166.9862746417063,
          167.50448504521768,
          168.02488317711567,
          168.54747361471362,
          169.07226093532353,
          169.59924971625793,
          170.1284445348296,
          170.65984996835078,
          171.19347059413388,
          171.7293109894918,
          172.26737573173676,
          172.8076693981812,
          173.35019656613798,
          173.89496181291923,
          174.4419697158375,
          174.99122485220545,
          175.54273179933574,
          176.09649513454048,
          176.65251943513232,
          177.21080927842382,
          177.7713692417273,
          178.33420390235568,
          178.89931783762114,
          179.46671562483635,
          180.03640184131365,
          180.60838106436546,
          181.1826578713049,
          181.75923683944342,
          182.33812254609455,
          182.91931956856996,
          183.502832484183,
          184.08866587024562,
          184.67682430407018,
          185.26731236296956,
          185.8601346242561,
          186.45529566524255,
          187.05280006324102,
          187.65265239556442,
          188.25485723952482,
          188.85941917243503,
          189.46634277160746,
          190.07563261435456,
          190.68729327798889,
          191.3013293398231,
          191.91774537716964,
          192.5365459673406,
          193.1577356876491,
          193.78131911540737,
          194.4073008279277,
          195.0356854025227,
          195.6664774165052,
          196.29968144718742,
          196.93530207188172,
          197.57334386790097,
          198.21381141255785,
          198.85670928316398,
          199.50204205703307,
          200.1498143114763,
          200.80003062380678,
          201.45269557133764,
          202.10781373138042,
          202.76538968124822,
          203.42542799825327,
          204.087933259708,
          204.75291004292552,
          205.42036292521715
         ]
        }
       ],
       "layout": {
        "autosize": true,
        "font": {
         "color": "#F2F2F2",
         "family": "Courier",
         "size": 10
        },
        "paper_bgcolor": "rgba(0, 0, 0, 0)",
        "plot_bgcolor": "rgba(0, 0, 0, 0)",
        "template": {
         "data": {
          "bar": [
           {
            "error_x": {
             "color": "#2a3f5f"
            },
            "error_y": {
             "color": "#2a3f5f"
            },
            "marker": {
             "line": {
              "color": "#E5ECF6",
              "width": 0.5
             }
            },
            "type": "bar"
           }
          ],
          "barpolar": [
           {
            "marker": {
             "line": {
              "color": "#E5ECF6",
              "width": 0.5
             }
            },
            "type": "barpolar"
           }
          ],
          "carpet": [
           {
            "aaxis": {
             "endlinecolor": "#2a3f5f",
             "gridcolor": "white",
             "linecolor": "white",
             "minorgridcolor": "white",
             "startlinecolor": "#2a3f5f"
            },
            "baxis": {
             "endlinecolor": "#2a3f5f",
             "gridcolor": "white",
             "linecolor": "white",
             "minorgridcolor": "white",
             "startlinecolor": "#2a3f5f"
            },
            "type": "carpet"
           }
          ],
          "choropleth": [
           {
            "colorbar": {
             "outlinewidth": 0,
             "ticks": ""
            },
            "type": "choropleth"
           }
          ],
          "contour": [
           {
            "colorbar": {
             "outlinewidth": 0,
             "ticks": ""
            },
            "colorscale": [
             [
              0,
              "#0d0887"
             ],
             [
              0.1111111111111111,
              "#46039f"
             ],
             [
              0.2222222222222222,
              "#7201a8"
             ],
             [
              0.3333333333333333,
              "#9c179e"
             ],
             [
              0.4444444444444444,
              "#bd3786"
             ],
             [
              0.5555555555555556,
              "#d8576b"
             ],
             [
              0.6666666666666666,
              "#ed7953"
             ],
             [
              0.7777777777777778,
              "#fb9f3a"
             ],
             [
              0.8888888888888888,
              "#fdca26"
             ],
             [
              1,
              "#f0f921"
             ]
            ],
            "type": "contour"
           }
          ],
          "contourcarpet": [
           {
            "colorbar": {
             "outlinewidth": 0,
             "ticks": ""
            },
            "type": "contourcarpet"
           }
          ],
          "heatmap": [
           {
            "colorbar": {
             "outlinewidth": 0,
             "ticks": ""
            },
            "colorscale": [
             [
              0,
              "#0d0887"
             ],
             [
              0.1111111111111111,
              "#46039f"
             ],
             [
              0.2222222222222222,
              "#7201a8"
             ],
             [
              0.3333333333333333,
              "#9c179e"
             ],
             [
              0.4444444444444444,
              "#bd3786"
             ],
             [
              0.5555555555555556,
              "#d8576b"
             ],
             [
              0.6666666666666666,
              "#ed7953"
             ],
             [
              0.7777777777777778,
              "#fb9f3a"
             ],
             [
              0.8888888888888888,
              "#fdca26"
             ],
             [
              1,
              "#f0f921"
             ]
            ],
            "type": "heatmap"
           }
          ],
          "heatmapgl": [
           {
            "colorbar": {
             "outlinewidth": 0,
             "ticks": ""
            },
            "colorscale": [
             [
              0,
              "#0d0887"
             ],
             [
              0.1111111111111111,
              "#46039f"
             ],
             [
              0.2222222222222222,
              "#7201a8"
             ],
             [
              0.3333333333333333,
              "#9c179e"
             ],
             [
              0.4444444444444444,
              "#bd3786"
             ],
             [
              0.5555555555555556,
              "#d8576b"
             ],
             [
              0.6666666666666666,
              "#ed7953"
             ],
             [
              0.7777777777777778,
              "#fb9f3a"
             ],
             [
              0.8888888888888888,
              "#fdca26"
             ],
             [
              1,
              "#f0f921"
             ]
            ],
            "type": "heatmapgl"
           }
          ],
          "histogram": [
           {
            "marker": {
             "colorbar": {
              "outlinewidth": 0,
              "ticks": ""
             }
            },
            "type": "histogram"
           }
          ],
          "histogram2d": [
           {
            "colorbar": {
             "outlinewidth": 0,
             "ticks": ""
            },
            "colorscale": [
             [
              0,
              "#0d0887"
             ],
             [
              0.1111111111111111,
              "#46039f"
             ],
             [
              0.2222222222222222,
              "#7201a8"
             ],
             [
              0.3333333333333333,
              "#9c179e"
             ],
             [
              0.4444444444444444,
              "#bd3786"
             ],
             [
              0.5555555555555556,
              "#d8576b"
             ],
             [
              0.6666666666666666,
              "#ed7953"
             ],
             [
              0.7777777777777778,
              "#fb9f3a"
             ],
             [
              0.8888888888888888,
              "#fdca26"
             ],
             [
              1,
              "#f0f921"
             ]
            ],
            "type": "histogram2d"
           }
          ],
          "histogram2dcontour": [
           {
            "colorbar": {
             "outlinewidth": 0,
             "ticks": ""
            },
            "colorscale": [
             [
              0,
              "#0d0887"
             ],
             [
              0.1111111111111111,
              "#46039f"
             ],
             [
              0.2222222222222222,
              "#7201a8"
             ],
             [
              0.3333333333333333,
              "#9c179e"
             ],
             [
              0.4444444444444444,
              "#bd3786"
             ],
             [
              0.5555555555555556,
              "#d8576b"
             ],
             [
              0.6666666666666666,
              "#ed7953"
             ],
             [
              0.7777777777777778,
              "#fb9f3a"
             ],
             [
              0.8888888888888888,
              "#fdca26"
             ],
             [
              1,
              "#f0f921"
             ]
            ],
            "type": "histogram2dcontour"
           }
          ],
          "mesh3d": [
           {
            "colorbar": {
             "outlinewidth": 0,
             "ticks": ""
            },
            "type": "mesh3d"
           }
          ],
          "parcoords": [
           {
            "line": {
             "colorbar": {
              "outlinewidth": 0,
              "ticks": ""
             }
            },
            "type": "parcoords"
           }
          ],
          "pie": [
           {
            "automargin": true,
            "type": "pie"
           }
          ],
          "scatter": [
           {
            "marker": {
             "colorbar": {
              "outlinewidth": 0,
              "ticks": ""
             }
            },
            "type": "scatter"
           }
          ],
          "scatter3d": [
           {
            "line": {
             "colorbar": {
              "outlinewidth": 0,
              "ticks": ""
             }
            },
            "marker": {
             "colorbar": {
              "outlinewidth": 0,
              "ticks": ""
             }
            },
            "type": "scatter3d"
           }
          ],
          "scattercarpet": [
           {
            "marker": {
             "colorbar": {
              "outlinewidth": 0,
              "ticks": ""
             }
            },
            "type": "scattercarpet"
           }
          ],
          "scattergeo": [
           {
            "marker": {
             "colorbar": {
              "outlinewidth": 0,
              "ticks": ""
             }
            },
            "type": "scattergeo"
           }
          ],
          "scattergl": [
           {
            "marker": {
             "colorbar": {
              "outlinewidth": 0,
              "ticks": ""
             }
            },
            "type": "scattergl"
           }
          ],
          "scattermapbox": [
           {
            "marker": {
             "colorbar": {
              "outlinewidth": 0,
              "ticks": ""
             }
            },
            "type": "scattermapbox"
           }
          ],
          "scatterpolar": [
           {
            "marker": {
             "colorbar": {
              "outlinewidth": 0,
              "ticks": ""
             }
            },
            "type": "scatterpolar"
           }
          ],
          "scatterpolargl": [
           {
            "marker": {
             "colorbar": {
              "outlinewidth": 0,
              "ticks": ""
             }
            },
            "type": "scatterpolargl"
           }
          ],
          "scatterternary": [
           {
            "marker": {
             "colorbar": {
              "outlinewidth": 0,
              "ticks": ""
             }
            },
            "type": "scatterternary"
           }
          ],
          "surface": [
           {
            "colorbar": {
             "outlinewidth": 0,
             "ticks": ""
            },
            "colorscale": [
             [
              0,
              "#0d0887"
             ],
             [
              0.1111111111111111,
              "#46039f"
             ],
             [
              0.2222222222222222,
              "#7201a8"
             ],
             [
              0.3333333333333333,
              "#9c179e"
             ],
             [
              0.4444444444444444,
              "#bd3786"
             ],
             [
              0.5555555555555556,
              "#d8576b"
             ],
             [
              0.6666666666666666,
              "#ed7953"
             ],
             [
              0.7777777777777778,
              "#fb9f3a"
             ],
             [
              0.8888888888888888,
              "#fdca26"
             ],
             [
              1,
              "#f0f921"
             ]
            ],
            "type": "surface"
           }
          ],
          "table": [
           {
            "cells": {
             "fill": {
              "color": "#EBF0F8"
             },
             "line": {
              "color": "white"
             }
            },
            "header": {
             "fill": {
              "color": "#C8D4E3"
             },
             "line": {
              "color": "white"
             }
            },
            "type": "table"
           }
          ]
         },
         "layout": {
          "annotationdefaults": {
           "arrowcolor": "#2a3f5f",
           "arrowhead": 0,
           "arrowwidth": 1
          },
          "coloraxis": {
           "colorbar": {
            "outlinewidth": 0,
            "ticks": ""
           }
          },
          "colorscale": {
           "diverging": [
            [
             0,
             "#8e0152"
            ],
            [
             0.1,
             "#c51b7d"
            ],
            [
             0.2,
             "#de77ae"
            ],
            [
             0.3,
             "#f1b6da"
            ],
            [
             0.4,
             "#fde0ef"
            ],
            [
             0.5,
             "#f7f7f7"
            ],
            [
             0.6,
             "#e6f5d0"
            ],
            [
             0.7,
             "#b8e186"
            ],
            [
             0.8,
             "#7fbc41"
            ],
            [
             0.9,
             "#4d9221"
            ],
            [
             1,
             "#276419"
            ]
           ],
           "sequential": [
            [
             0,
             "#0d0887"
            ],
            [
             0.1111111111111111,
             "#46039f"
            ],
            [
             0.2222222222222222,
             "#7201a8"
            ],
            [
             0.3333333333333333,
             "#9c179e"
            ],
            [
             0.4444444444444444,
             "#bd3786"
            ],
            [
             0.5555555555555556,
             "#d8576b"
            ],
            [
             0.6666666666666666,
             "#ed7953"
            ],
            [
             0.7777777777777778,
             "#fb9f3a"
            ],
            [
             0.8888888888888888,
             "#fdca26"
            ],
            [
             1,
             "#f0f921"
            ]
           ],
           "sequentialminus": [
            [
             0,
             "#0d0887"
            ],
            [
             0.1111111111111111,
             "#46039f"
            ],
            [
             0.2222222222222222,
             "#7201a8"
            ],
            [
             0.3333333333333333,
             "#9c179e"
            ],
            [
             0.4444444444444444,
             "#bd3786"
            ],
            [
             0.5555555555555556,
             "#d8576b"
            ],
            [
             0.6666666666666666,
             "#ed7953"
            ],
            [
             0.7777777777777778,
             "#fb9f3a"
            ],
            [
             0.8888888888888888,
             "#fdca26"
            ],
            [
             1,
             "#f0f921"
            ]
           ]
          },
          "colorway": [
           "#636efa",
           "#EF553B",
           "#00cc96",
           "#ab63fa",
           "#FFA15A",
           "#19d3f3",
           "#FF6692",
           "#B6E880",
           "#FF97FF",
           "#FECB52"
          ],
          "font": {
           "color": "#2a3f5f"
          },
          "geo": {
           "bgcolor": "white",
           "lakecolor": "white",
           "landcolor": "#E5ECF6",
           "showlakes": true,
           "showland": true,
           "subunitcolor": "white"
          },
          "hoverlabel": {
           "align": "left"
          },
          "hovermode": "closest",
          "mapbox": {
           "style": "light"
          },
          "paper_bgcolor": "white",
          "plot_bgcolor": "#E5ECF6",
          "polar": {
           "angularaxis": {
            "gridcolor": "white",
            "linecolor": "white",
            "ticks": ""
           },
           "bgcolor": "#E5ECF6",
           "radialaxis": {
            "gridcolor": "white",
            "linecolor": "white",
            "ticks": ""
           }
          },
          "scene": {
           "xaxis": {
            "backgroundcolor": "#E5ECF6",
            "gridcolor": "white",
            "gridwidth": 2,
            "linecolor": "white",
            "showbackground": true,
            "ticks": "",
            "zerolinecolor": "white"
           },
           "yaxis": {
            "backgroundcolor": "#E5ECF6",
            "gridcolor": "white",
            "gridwidth": 2,
            "linecolor": "white",
            "showbackground": true,
            "ticks": "",
            "zerolinecolor": "white"
           },
           "zaxis": {
            "backgroundcolor": "#E5ECF6",
            "gridcolor": "white",
            "gridwidth": 2,
            "linecolor": "white",
            "showbackground": true,
            "ticks": "",
            "zerolinecolor": "white"
           }
          },
          "shapedefaults": {
           "line": {
            "color": "#2a3f5f"
           }
          },
          "ternary": {
           "aaxis": {
            "gridcolor": "white",
            "linecolor": "white",
            "ticks": ""
           },
           "baxis": {
            "gridcolor": "white",
            "linecolor": "white",
            "ticks": ""
           },
           "bgcolor": "#E5ECF6",
           "caxis": {
            "gridcolor": "white",
            "linecolor": "white",
            "ticks": ""
           }
          },
          "title": {
           "x": 0.05
          },
          "xaxis": {
           "automargin": true,
           "gridcolor": "white",
           "linecolor": "white",
           "ticks": "",
           "title": {
            "standoff": 15
           },
           "zerolinecolor": "white",
           "zerolinewidth": 2
          },
          "yaxis": {
           "automargin": true,
           "gridcolor": "white",
           "linecolor": "white",
           "ticks": "",
           "title": {
            "standoff": 15
           },
           "zerolinecolor": "white",
           "zerolinewidth": 2
          }
         }
        },
        "title": {
         "font": {
          "color": "#F2F2F2",
          "family": "Courier",
          "size": 15
         },
         "text": "Meat consumption depending on the salary from 2004 to 2013",
         "x": 0.5,
         "xanchor": "center",
         "y": 0.9,
         "yanchor": "top"
        },
        "xaxis": {
         "gridcolor": "rgba(153, 163, 164,0.5)",
         "range": [
          8000,
          60000
         ],
         "tickcolor": "#F2F2F2",
         "ticklen": 10,
         "ticks": "outside",
         "tickwidth": 2,
         "title": {
          "font": {
           "color": "#F2F2F2",
           "family": "Courier",
           "size": 10
          }
         },
         "type": "linear"
        },
        "yaxis": {
         "gridcolor": "rgba(153, 163, 164,0.5)",
         "range": [
          30,
          120
         ],
         "tickcolor": "#F2F2F2",
         "ticklen": 10,
         "ticks": "outside",
         "tickwidth": 2,
         "title": {
          "font": {
           "color": "#F2F2F2",
           "family": "Courier",
           "size": 10
          }
         },
         "type": "linear"
        }
       }
      },
      "image/png": "[encoded data removed]",
      "text/html": [
       "<div>\n",
       "        \n",
       "        \n",
       "            <div id=\"3c0879cd-7829-49c7-9930-d9170df821db\" class=\"plotly-graph-div\" style=\"height:525px; width:100%;\"></div>\n",
       "            <script type=\"text/javascript\">\n",
       "                require([\"plotly\"], function(Plotly) {\n",
       "                    window.PLOTLYENV=window.PLOTLYENV || {};\n",
       "                    \n",
       "                if (document.getElementById(\"3c0879cd-7829-49c7-9930-d9170df821db\")) {\n",
       "                    Plotly.newPlot(\n",
       "                        '3c0879cd-7829-49c7-9930-d9170df821db',\n",
       "                        [{\"marker\": {\"color\": \"#FF4464\", \"line\": {\"color\": \"DarkSlateGrey\", \"width\": 1}, \"opacity\": 0.5, \"size\": 16}, \"mode\": \"markers\", \"name\": \"Countries\", \"text\": [\"AUT\", \"BEL\", \"BGR\", \"HRV\", \"DNK\", \"EST\", \"FIN\", \"FRA\", \"DEU\", \"GRC\", \"HUN\", \"IRL\", \"ITA\", \"LVA\", \"LTU\", \"MLT\", \"NLD\", \"POL\", \"ROU\", \"SVK\", \"SVN\", \"ESP\", \"SWE\", \"GBR\", \"AUT\", \"BEL\", \"BGR\", \"HRV\", \"DNK\", \"EST\", \"FIN\", \"FRA\", \"DEU\", \"GRC\", \"HUN\", \"IRL\", \"ITA\", \"LVA\", \"LTU\", \"MLT\", \"NLD\", \"POL\", \"ROU\", \"SVK\", \"SVN\", \"ESP\", \"SWE\", \"GBR\", \"AUT\", \"BEL\", \"BGR\", \"HRV\", \"DNK\", \"EST\", \"FIN\", \"FRA\", \"DEU\", \"GRC\", \"HUN\", \"IRL\", \"ITA\", \"LVA\", \"LTU\", \"MLT\", \"NLD\", \"POL\", \"ROU\", \"SVK\", \"SVN\", \"ESP\", \"SWE\", \"GBR\", \"AUT\", \"BEL\", \"BGR\", \"HRV\", \"DNK\", \"EST\", \"FIN\", \"FRA\", \"DEU\", \"GRC\", \"HUN\", \"IRL\", \"ITA\", \"LVA\", \"LTU\", \"MLT\", \"NLD\", \"POL\", \"ROU\", \"SVK\", \"SVN\", \"ESP\", \"SWE\", \"GBR\", \"AUT\", \"BEL\", \"BGR\", \"HRV\", \"DNK\", \"EST\", \"FIN\", \"FRA\", \"DEU\", \"GRC\", \"HUN\", \"IRL\", \"ITA\", \"LVA\", \"LTU\", \"MLT\", \"NLD\", \"POL\", \"ROU\", \"SVK\", \"SVN\", \"ESP\", \"SWE\", \"GBR\", \"AUT\", \"BEL\", \"BGR\", \"HRV\", \"DNK\", \"EST\", \"FIN\", \"FRA\", \"DEU\", \"GRC\", \"HUN\", \"IRL\", \"ITA\", \"LVA\", \"LTU\", \"MLT\", \"NLD\", \"POL\", \"ROU\", \"SVK\", \"SVN\", \"ESP\", \"SWE\", \"GBR\", \"AUT\", \"BEL\", \"BGR\", \"HRV\", \"DNK\", \"EST\", \"FIN\", \"FRA\", \"DEU\", \"GRC\", \"HUN\", \"IRL\", \"ITA\", \"LVA\", \"LTU\", \"MLT\", \"NLD\", \"POL\", \"ROU\", \"SVK\", \"SVN\", \"ESP\", \"SWE\", \"GBR\", \"AUT\", \"BEL\", \"BGR\", \"HRV\", \"DNK\", \"EST\", \"FIN\", \"FRA\", \"DEU\", \"GRC\", \"HUN\", \"IRL\", \"ITA\", \"LVA\", \"LTU\", \"MLT\", \"NLD\", \"POL\", \"ROU\", \"SVK\", \"SVN\", \"ESP\", \"SWE\", \"GBR\", \"AUT\", \"BEL\", \"BGR\", \"HRV\", \"DNK\", \"EST\", \"FIN\", \"FRA\", \"DEU\", \"GRC\", \"HUN\", \"IRL\", \"ITA\", \"LVA\", \"LTU\", \"MLT\", \"NLD\", \"POL\", \"ROU\", \"SVK\", \"SVN\", \"ESP\", \"SWE\", \"GBR\", \"AUT\", \"BEL\", \"BGR\", \"HRV\", \"DNK\", \"EST\", \"FIN\", \"FRA\", \"DEU\", \"GRC\", \"HUN\", \"IRL\", \"ITA\", \"LVA\", \"LTU\", \"MLT\", \"NLD\", \"POL\", \"ROU\", \"SVK\", \"SVN\", \"ESP\", \"SWE\", \"GBR\"], \"type\": \"scatter\", \"x\": [33753.472388999995, 32033.983076999997, 9117.098653000001, 14530.588793, 32917.958893, 14481.432753000001, 31173.153761, 29038.567562, 31712.774026, 25437.218509000002, 16228.920601, 38697.209778, 29446.371235000002, 12199.780284, 13031.432976, 21341.856268, 35776.668812, 13341.874444, 8982.019325, 15183.955756, 22737.262303, 26158.034977, 33608.849355, 31984.826326, 35024.557484, 33177.947339, 10183.806414, 15301.2886, 34152.881663, 16574.460822, 32051.762888999998, 30504.058783999997, 32236.740986, 25577.445437000002, 17073.551438, 40437.080879, 30016.1557, 13837.089237999999, 14526.159527000002, 22265.719116, 37625.252435, 13897.543071, 9602.103406999999, 16595.261602000002, 23848.605399, 27600.937175, 34029.085226999996, 32661.847992000003, 37626.245494, 35222.474358, 11251.243922, 17425.914018, 37297.523836, 19257.646402000002, 34419.156888, 32441.180775999997, 34630.81647, 28519.445057999998, 18342.715276, 44243.985255, 32262.115849, 15742.904798, 16484.558405, 23227.410451, 40971.493263, 15145.861194, 11544.715086, 18831.79902, 25681.207419, 30713.803154, 37435.395275999996, 34778.350938999996, 39393.953567000004, 36755.650522, 12607.887169, 19340.283023, 38978.780753, 22133.611223, 37801.926032999996, 34095.407473, 36822.840138, 29291.872922000002, 19045.808484, 46746.547399, 33905.682103, 18121.545421000003, 19095.571569, 24892.495897999997, 43895.900712, 16789.98011, 13686.942347999999, 21115.656398, 27533.363591, 32431.570501, 40592.764986, 35601.9985, 41316.022642, 37883.233422000005, 14089.659789, 20765.46326, 41282.995470999995, 22807.728472, 40083.701943, 35102.870427999995, 38432.448211, 30855.935774, 20696.728568000002, 44219.775877, 35274.312724, 19462.435513, 20744.011329, 26193.230358, 46419.042594, 18315.13109, 16782.151849, 23608.977522, 29594.66035, 33242.245427, 41971.781211, 36650.101264, 40935.528801, 37757.239173, 13914.467312, 19977.356811, 40340.373142000004, 20579.678681999998, 37979.854491000006, 34693.236376, 37472.754357, 30365.360391000002, 20678.068296, 41587.138158, 34329.471244, 16921.577956, 18145.907109, 26141.314851, 44567.119952, 19080.70466, 16635.328127, 22951.723337, 27516.532192000002, 32095.778361, 40156.476371, 35012.082006, 42017.796538999995, 39836.849331, 14587.638194, 19727.254504, 43004.912769, 21766.793094999997, 38953.010667, 35909.162325, 39673.86048, 28148.306881, 21569.890078, 43298.660675, 34831.193927, 17589.444565, 20038.874647999997, 27811.504613, 45041.369847, 20789.191989, 16966.414344999997, 24974.227631, 27821.436958, 31689.975608999997, 42179.452526, 36344.412859, 44469.209642, 41108.701911000004, 15661.177049000002, 20698.839662000002, 44407.94207, 24738.851279, 40916.647325, 37447.949543, 42541.513126, 26141.091034, 22894.347639, 44870.463335, 36183.316026, 19797.965061000003, 22823.934252000003, 28585.575738, 46599.227659, 22576.179383000002, 17907.570971, 26051.137711000003, 28931.421879, 31872.363088, 44503.736723, 37146.173273, 46477.655075, 42440.26234, 16241.600465000001, 21094.81931, 44808.549212, 26141.083529, 40872.854802, 37684.198067000005, 43359.541048, 25284.405781999998, 23148.127881, 46277.631708999994, 36002.908697000006, 21298.207498, 24645.651236, 29434.899196, 47271.968226, 23542.002955, 18929.530638999997, 26940.079741, 29048.331295, 31724.631513, 45304.291021, 38309.028313, 47936.677963, 43806.183952, 16581.738181, 21736.211938, 46742.939663, 27596.458608999998, 41492.918416, 39528.473644, 44993.667838, 26097.797516, 24498.179083000003, 47936.388703, 36067.707344, 22690.891022, 26679.905255, 31072.386018, 49242.786711, 24422.763907, 19792.281449000002, 27969.200116000004, 29979.62248, 32452.659676, 46138.356247, 39984.885036], \"y\": [96.16125025836428, 80.508474983843, 50.483225173131, 50.16576766978847, 73.5506628822967, 61.48215919487649, 72.2259303734368, 90.70150486318191, 84.40396172276702, 81.35008974560182, 89.55452259235236, 104.24808462760227, 87.22361072702576, 55.34763586526804, 73.5525808276666, 100.03326105930222, 78.85333230983922, 77.71544249832314, 55.991452498199216, 62.1756835369401, 90.16080178999245, 108.77267359682722, 77.7657823872758, 86.2464592667606, 95.4719821434472, 83.57384347394543, 50.46450101989016, 50.337971927185784, 94.43018957183949, 66.23247599072745, 72.75697965726306, 87.66526048593924, 83.92640904822689, 84.59502683339666, 84.27787773052648, 102.39143589274632, 86.03060474400642, 59.56286193328604, 81.66379551862471, 96.85398392720552, 77.02910044116331, 77.25186636343977, 65.84868999923955, 66.07496996380767, 91.6103905205773, 108.2770556715443, 78.01236479336376, 85.35767724761786, 92.31554276329737, 80.29391377841658, 47.71035515247586, 58.4349587604554, 80.70074780850486, 70.3339009402532, 71.92355553525968, 82.79345594830652, 84.34217741467391, 85.41792446074938, 83.75856850652022, 102.42015742762388, 86.83489627535472, 60.59588648191056, 80.2471856491283, 98.765675964632, 81.24053749768125, 77.60032843205536, 65.15495872045257, 62.34961644749381, 87.35333375262934, 107.24842331752502, 77.91990761904172, 87.0994483190227, 94.531149643655, 83.80151643898543, 46.747033709233186, 63.5210604771498, 91.79223232099964, 74.46459952938373, 76.18029716000989, 83.40002480946481, 87.8577204473756, 80.55449035557061, 83.14989691200951, 91.93298431056485, 89.92894720064722, 64.73986345774253, 84.6158272212501, 108.47698315648294, 74.70354552074606, 79.63178639670338, 65.54505588437718, 60.299487454356644, 85.05867307475165, 110.43958662100997, 79.55443372221369, 86.04417653750014, 90.2745538059812, 69.37370357891436, 51.343428746095036, 63.08026012258443, 79.62319964366792, 70.23101521173903, 75.65346862663863, 90.95852711428854, 87.32898190936353, 80.64416242493742, 80.63391396719753, 88.16077114877073, 88.11162283178787, 67.98034501165704, 84.04394564535635, 100.53159143961237, 89.72655892124294, 76.79262169564458, 67.26285723700853, 61.38319781907358, 89.5402555578383, 101.51319696741804, 80.47543011068258, 82.22940666180328, 93.10134621427252, 67.70153295613908, 55.57699026893773, 67.75262680646601, 67.67727772595636, 75.61351760073069, 74.34785106548355, 90.13177358537949, 87.94869259610054, 82.65174188320687, 78.45697950598023, 86.25795729656059, 89.79571830015385, 65.19224314025024, 76.0084626942927, 99.77465529073359, 89.77430073553661, 78.71852740448391, 71.52540399377895, 61.31092796690547, 88.07486067934748, 97.3631224695077, 79.40497477028465, 81.41214138221699, 94.35269203915924, 69.92681208922032, 52.81761780147744, 61.587130567273256, 78.0524751126431, 76.50248633080575, 76.05448042176414, 90.0108718286015, 89.66745257407752, 83.18877223174971, 70.79858810240212, 81.10909767117977, 91.85651063556308, 65.07886804269175, 73.83888355608063, 96.61205670161608, 81.20669039358035, 78.55798572169817, 63.46489866335926, 59.36468654517931, 86.46901575787894, 95.98461010898642, 81.57862562926347, 82.6745114881017, 93.7295078639654, 67.17792186235016, 56.44940565967711, 61.07429688215714, 75.89070874728537, 79.71962757396628, 75.71704225048165, 88.70596267969017, 91.9946401279997, 81.18027306778366, 73.30466439983006, 78.32188149286756, 88.99229491470435, 68.9287840335871, 74.36313056331218, 98.79779945974472, 77.15030662894047, 79.81563481619995, 58.96314278798829, 61.75305232541968, 82.91918452396341, 95.4203912154612, 82.84150614354732, 83.62088657434455, 89.55627541516114, 72.68039612892473, 56.22866176876809, 69.22383245587449, 111.10083727024526, 63.385845487946504, 79.61095054178955, 88.95938098119517, 90.18037319536549, 78.29408376348476, 72.29212866589306, 81.92993813635972, 89.04908857525447, 64.55358020513367, 76.24080241280501, 95.79782826323328, 91.57012155395692, 77.265029190996, 58.61864224097179, 51.625347268353, 79.29959484231543, 95.83875883873327, 80.88281430012375, 83.67576402130507, 92.76064676887691, 70.38982134452819, 53.400675841149884, 66.8678175752087, 109.41293978468676, 60.59807267829847, 78.68539735388562, 86.23429600604265, 89.61331729400665, 80.60987230105742, 65.80011016472432, 86.33819538854247, 86.20223560513557, 62.25834743616666, 80.08331356486832, 97.03935300786492, 91.3014781363652, 77.97693979131974, 54.195603872393285, 54.88985435891977, 72.37151748500719, 94.76139410531911, 83.50867888537469, 82.23099721459907]}, {\"line\": {\"color\": \"LightGrey\", \"dash\": \"dashdot\", \"width\": 3}, \"marker\": {\"color\": \"red\"}, \"name\": \"Interpolation with d=1\", \"opacity\": 1, \"type\": \"scatter\", \"visible\": true, \"x\": [0.0, 100.10010010010011, 200.20020020020021, 300.3003003003003, 400.40040040040043, 500.50050050050055, 600.6006006006006, 700.7007007007007, 800.8008008008009, 900.900900900901, 1001.0010010010011, 1101.1011011011012, 1201.2012012012012, 1301.3013013013015, 1401.4014014014015, 1501.5015015015017, 1601.6016016016017, 1701.7017017017017, 1801.801801801802, 1901.901901901902, 2002.0020020020022, 2102.1021021021024, 2202.2022022022024, 2302.3023023023025, 2402.4024024024025, 2502.5025025025025, 2602.602602602603, 2702.702702702703, 2802.802802802803, 2902.902902902903, 3003.0030030030034, 3103.1031031031034, 3203.2032032032034, 3303.3033033033034, 3403.4034034034034, 3503.503503503504, 3603.603603603604, 3703.703703703704, 3803.803803803804, 3903.9039039039044, 4004.0040040040044, 4104.104104104104, 4204.204204204205, 4304.304304304304, 4404.404404404405, 4504.504504504504, 4604.604604604605, 4704.704704704705, 4804.804804804805, 4904.904904904905, 5005.005005005005, 5105.105105105105, 5205.205205205206, 5305.305305305305, 5405.405405405406, 5505.505505505506, 5605.605605605606, 5705.705705705706, 5805.805805805806, 5905.905905905906, 6006.006006006007, 6106.106106106106, 6206.206206206207, 6306.306306306306, 6406.406406406407, 6506.506506506507, 6606.606606606607, 6706.706706706707, 6806.806806806807, 6906.906906906907, 7007.007007007008, 7107.107107107107, 7207.207207207208, 7307.307307307307, 7407.407407407408, 7507.507507507508, 7607.607607607608, 7707.707707707708, 7807.807807807809, 7907.907907907908, 8008.008008008009, 8108.108108108108, 8208.208208208209, 8308.30830830831, 8408.40840840841, 8508.508508508508, 8608.608608608609, 8708.70870870871, 8808.80880880881, 8908.90890890891, 9009.009009009009, 9109.10910910911, 9209.20920920921, 9309.30930930931, 9409.40940940941, 9509.50950950951, 9609.60960960961, 9709.70970970971, 9809.80980980981, 9909.909909909911, 10010.01001001001, 10110.11011011011, 10210.21021021021, 10310.310310310311, 10410.410410410412, 10510.51051051051, 10610.61061061061, 10710.710710710711, 10810.810810810812, 10910.910910910912, 11011.011011011013, 11111.111111111111, 11211.211211211212, 11311.311311311312, 11411.411411411413, 11511.511511511513, 11611.611611611612, 11711.711711711712, 11811.811811811813, 11911.911911911913, 12012.012012012014, 12112.112112112112, 12212.212212212213, 12312.312312312313, 12412.412412412414, 12512.512512512514, 12612.612612612613, 12712.712712712713, 12812.812812812814, 12912.912912912914, 13013.013013013015, 13113.113113113113, 13213.213213213214, 13313.313313313314, 13413.413413413415, 13513.513513513515, 13613.613613613614, 13713.713713713714, 13813.813813813815, 13913.913913913915, 14014.014014014016, 14114.114114114114, 14214.214214214215, 14314.314314314315, 14414.414414414416, 14514.514514514516, 14614.614614614615, 14714.714714714715, 14814.814814814816, 14914.914914914916, 15015.015015015017, 15115.115115115117, 15215.215215215216, 15315.315315315316, 15415.415415415417, 15515.515515515517, 15615.615615615618, 15715.715715715716, 15815.815815815817, 15915.915915915917, 16016.016016016018, 16116.116116116118, 16216.216216216217, 16316.316316316317, 16416.416416416418, 16516.516516516516, 16616.61661661662, 16716.716716716717, 16816.81681681682, 16916.916916916918, 17017.017017017017, 17117.11711711712, 17217.217217217218, 17317.31731731732, 17417.41741741742, 17517.517517517517, 17617.61761761762, 17717.71771771772, 17817.81781781782, 17917.91791791792, 18018.018018018018, 18118.11811811812, 18218.21821821822, 18318.31831831832, 18418.41841841842, 18518.51851851852, 18618.61861861862, 18718.71871871872, 18818.81881881882, 18918.91891891892, 19019.01901901902, 19119.11911911912, 19219.21921921922, 19319.319319319322, 19419.41941941942, 19519.51951951952, 19619.61961961962, 19719.71971971972, 19819.819819819822, 19919.91991991992, 20020.02002002002, 20120.120120120122, 20220.22022022022, 20320.320320320323, 20420.42042042042, 20520.52052052052, 20620.620620620623, 20720.72072072072, 20820.820820820823, 20920.920920920922, 21021.02102102102, 21121.121121121123, 21221.22122122122, 21321.321321321324, 21421.421421421423, 21521.521521521525, 21621.621621621623, 21721.721721721722, 21821.821821821824, 21921.921921921923, 22022.022022022025, 22122.122122122124, 22222.222222222223, 22322.322322322325, 22422.422422422424, 22522.522522522526, 22622.622622622624, 22722.722722722723, 22822.822822822825, 22922.922922922924, 23023.023023023026, 23123.123123123125, 23223.223223223224, 23323.323323323326, 23423.423423423425, 23523.523523523527, 23623.623623623625, 23723.723723723724, 23823.823823823826, 23923.923923923925, 24024.024024024027, 24124.124124124126, 24224.224224224225, 24324.324324324327, 24424.424424424426, 24524.524524524528, 24624.624624624626, 24724.724724724725, 24824.824824824827, 24924.924924924926, 25025.02502502503, 25125.125125125127, 25225.225225225226, 25325.325325325328, 25425.425425425427, 25525.52552552553, 25625.625625625627, 25725.725725725726, 25825.82582582583, 25925.925925925927, 26026.02602602603, 26126.126126126128, 26226.226226226227, 26326.32632632633, 26426.426426426427, 26526.52652652653, 26626.62662662663, 26726.726726726727, 26826.82682682683, 26926.926926926928, 27027.02702702703, 27127.12712712713, 27227.227227227228, 27327.32732732733, 27427.42742742743, 27527.52752752753, 27627.62762762763, 27727.727727727728, 27827.82782782783, 27927.92792792793, 28028.02802802803, 28128.12812812813, 28228.22822822823, 28328.32832832833, 28428.42842842843, 28528.52852852853, 28628.62862862863, 28728.72872872873, 28828.82882882883, 28928.92892892893, 29029.029029029032, 29129.12912912913, 29229.22922922923, 29329.32932932933, 29429.42942942943, 29529.529529529533, 29629.62962962963, 29729.72972972973, 29829.829829829832, 29929.92992992993, 30030.030030030033, 30130.130130130132, 30230.230230230234, 30330.330330330333, 30430.43043043043, 30530.530530530534, 30630.630630630632, 30730.730730730735, 30830.830830830833, 30930.930930930932, 31031.031031031034, 31131.131131131133, 31231.231231231235, 31331.331331331334, 31431.431431431432, 31531.531531531535, 31631.631631631633, 31731.731731731736, 31831.831831831834, 31931.931931931933, 32032.032032032035, 32132.132132132134, 32232.232232232236, 32332.332332332335, 32432.432432432433, 32532.532532532536, 32632.632632632634, 32732.732732732737, 32832.832832832835, 32932.932932932934, 33033.03303303303, 33133.13313313314, 33233.23323323324, 33333.333333333336, 33433.433433433434, 33533.53353353353, 33633.63363363364, 33733.73373373374, 33833.833833833836, 33933.933933933935, 34034.03403403403, 34134.13413413414, 34234.23423423424, 34334.33433433434, 34434.434434434435, 34534.534534534534, 34634.63463463464, 34734.73473473474, 34834.83483483484, 34934.934934934936, 35035.035035035035, 35135.13513513514, 35235.23523523524, 35335.33533533534, 35435.43543543544, 35535.535535535535, 35635.63563563564, 35735.73573573574, 35835.83583583584, 35935.93593593594, 36036.036036036036, 36136.13613613614, 36236.23623623624, 36336.33633633634, 36436.43643643644, 36536.536536536536, 36636.63663663664, 36736.73673673674, 36836.83683683684, 36936.93693693694, 37037.03703703704, 37137.13713713714, 37237.23723723724, 37337.33733733734, 37437.43743743744, 37537.53753753754, 37637.63763763764, 37737.73773773774, 37837.83783783784, 37937.93793793794, 38038.03803803804, 38138.13813813814, 38238.23823823824, 38338.33833833834, 38438.43843843844, 38538.53853853854, 38638.638638638644, 38738.73873873874, 38838.83883883884, 38938.93893893894, 39039.03903903904, 39139.139139139144, 39239.23923923924, 39339.33933933934, 39439.43943943944, 39539.53953953954, 39639.639639639645, 39739.73973973974, 39839.83983983984, 39939.93993993994, 40040.04004004004, 40140.140140140145, 40240.240240240244, 40340.34034034034, 40440.44044044044, 40540.54054054054, 40640.640640640646, 40740.740740740745, 40840.84084084084, 40940.94094094094, 41041.04104104104, 41141.14114114115, 41241.241241241245, 41341.341341341344, 41441.44144144144, 41541.54154154154, 41641.64164164165, 41741.741741741745, 41841.841841841844, 41941.94194194194, 42042.04204204204, 42142.14214214215, 42242.242242242246, 42342.342342342345, 42442.44244244244, 42542.54254254254, 42642.64264264265, 42742.74274274275, 42842.842842842845, 42942.942942942944, 43043.04304304305, 43143.14314314315, 43243.24324324325, 43343.343343343346, 43443.443443443444, 43543.54354354355, 43643.64364364365, 43743.74374374375, 43843.843843843846, 43943.943943943945, 44044.04404404405, 44144.14414414415, 44244.24424424425, 44344.34434434435, 44444.444444444445, 44544.54454454455, 44644.64464464465, 44744.74474474475, 44844.84484484485, 44944.944944944946, 45045.04504504505, 45145.14514514515, 45245.24524524525, 45345.34534534535, 45445.445445445446, 45545.54554554555, 45645.64564564565, 45745.74574574575, 45845.84584584585, 45945.94594594595, 46046.04604604605, 46146.14614614615, 46246.24624624625, 46346.34634634635, 46446.44644644645, 46546.54654654655, 46646.64664664665, 46746.74674674675, 46846.84684684685, 46946.94694694695, 47047.047047047054, 47147.14714714715, 47247.24724724725, 47347.34734734735, 47447.44744744745, 47547.547547547554, 47647.64764764765, 47747.74774774775, 47847.84784784785, 47947.94794794795, 48048.048048048055, 48148.14814814815, 48248.24824824825, 48348.34834834835, 48448.44844844845, 48548.548548548555, 48648.648648648654, 48748.74874874875, 48848.84884884885, 48948.94894894895, 49049.049049049056, 49149.149149149154, 49249.24924924925, 49349.34934934935, 49449.44944944945, 49549.549549549556, 49649.649649649655, 49749.74974974975, 49849.84984984985, 49949.94994994995, 50050.05005005006, 50150.150150150155, 50250.250250250254, 50350.35035035035, 50450.45045045045, 50550.55055055056, 50650.650650650656, 50750.750750750754, 50850.85085085085, 50950.95095095095, 51051.05105105106, 51151.151151151156, 51251.251251251255, 51351.35135135135, 51451.45145145145, 51551.55155155156, 51651.65165165166, 51751.751751751755, 51851.851851851854, 51951.95195195195, 52052.05205205206, 52152.15215215216, 52252.252252252256, 52352.352352352355, 52452.45245245245, 52552.55255255256, 52652.65265265266, 52752.752752752756, 52852.852852852855, 52952.95295295295, 53053.05305305306, 53153.15315315316, 53253.25325325326, 53353.353353353355, 53453.453453453454, 53553.55355355356, 53653.65365365366, 53753.75375375376, 53853.853853853856, 53953.953953953955, 54054.05405405406, 54154.15415415416, 54254.25425425426, 54354.35435435436, 54454.454454454455, 54554.55455455456, 54654.65465465466, 54754.75475475476, 54854.85485485486, 54954.954954954956, 55055.05505505506, 55155.15515515516, 55255.25525525526, 55355.35535535536, 55455.455455455456, 55555.55555555556, 55655.65565565566, 55755.75575575576, 55855.85585585586, 55955.95595595596, 56056.05605605606, 56156.15615615616, 56256.25625625626, 56356.35635635636, 56456.45645645646, 56556.55655655656, 56656.65665665666, 56756.75675675676, 56856.85685685686, 56956.95695695696, 57057.05705705706, 57157.15715715716, 57257.25725725726, 57357.35735735736, 57457.45745745746, 57557.557557557564, 57657.65765765766, 57757.75775775776, 57857.85785785786, 57957.95795795796, 58058.058058058064, 58158.15815815816, 58258.25825825826, 58358.35835835836, 58458.45845845846, 58558.558558558565, 58658.65865865866, 58758.75875875876, 58858.85885885886, 58958.95895895896, 59059.059059059065, 59159.159159159164, 59259.25925925926, 59359.35935935936, 59459.45945945946, 59559.559559559566, 59659.659659659665, 59759.75975975976, 59859.85985985986, 59959.95995995997, 60060.06006006007, 60160.160160160165, 60260.260260260264, 60360.36036036036, 60460.46046046047, 60560.56056056057, 60660.660660660666, 60760.760760760764, 60860.86086086086, 60960.96096096097, 61061.06106106107, 61161.161161161166, 61261.261261261265, 61361.36136136136, 61461.46146146147, 61561.56156156157, 61661.66166166167, 61761.761761761765, 61861.861861861864, 61961.96196196197, 62062.06206206207, 62162.16216216217, 62262.262262262266, 62362.362362362364, 62462.46246246247, 62562.56256256257, 62662.66266266267, 62762.762762762766, 62862.862862862865, 62962.96296296297, 63063.06306306307, 63163.16316316317, 63263.26326326327, 63363.363363363365, 63463.46346346347, 63563.56356356357, 63663.66366366367, 63763.76376376377, 63863.863863863866, 63963.96396396397, 64064.06406406407, 64164.16416416417, 64264.26426426427, 64364.364364364366, 64464.46446446447, 64564.56456456457, 64664.66466466467, 64764.76476476477, 64864.86486486487, 64964.96496496497, 65065.06506506507, 65165.16516516517, 65265.26526526527, 65365.36536536537, 65465.46546546547, 65565.56556556557, 65665.66566566567, 65765.76576576577, 65865.86586586587, 65965.96596596597, 66066.06606606607, 66166.16616616616, 66266.26626626628, 66366.36636636638, 66466.46646646647, 66566.56656656657, 66666.66666666667, 66766.76676676677, 66866.86686686687, 66966.96696696697, 67067.06706706707, 67167.16716716716, 67267.26726726728, 67367.36736736738, 67467.46746746748, 67567.56756756757, 67667.66766766767, 67767.76776776777, 67867.86786786787, 67967.96796796797, 68068.06806806807, 68168.16816816817, 68268.26826826828, 68368.36836836838, 68468.46846846848, 68568.56856856857, 68668.66866866867, 68768.76876876877, 68868.86886886887, 68968.96896896897, 69069.06906906907, 69169.16916916918, 69269.26926926928, 69369.36936936938, 69469.46946946948, 69569.56956956958, 69669.66966966967, 69769.76976976977, 69869.86986986987, 69969.96996996997, 70070.07007007007, 70170.17017017018, 70270.27027027028, 70370.37037037038, 70470.47047047048, 70570.57057057058, 70670.67067067068, 70770.77077077077, 70870.87087087087, 70970.97097097097, 71071.07107107107, 71171.17117117118, 71271.27127127128, 71371.37137137138, 71471.47147147148, 71571.57157157158, 71671.67167167168, 71771.77177177178, 71871.87187187187, 71971.97197197197, 72072.07207207207, 72172.17217217218, 72272.27227227228, 72372.37237237238, 72472.47247247248, 72572.57257257258, 72672.67267267268, 72772.77277277278, 72872.87287287287, 72972.97297297297, 73073.07307307307, 73173.17317317319, 73273.27327327328, 73373.37337337338, 73473.47347347348, 73573.57357357358, 73673.67367367368, 73773.77377377378, 73873.87387387388, 73973.97397397397, 74074.07407407407, 74174.17417417419, 74274.27427427428, 74374.37437437438, 74474.47447447448, 74574.57457457458, 74674.67467467468, 74774.77477477478, 74874.87487487488, 74974.97497497498, 75075.07507507507, 75175.17517517519, 75275.27527527529, 75375.37537537538, 75475.47547547548, 75575.57557557558, 75675.67567567568, 75775.77577577578, 75875.87587587588, 75975.97597597598, 76076.07607607607, 76176.17617617619, 76276.27627627629, 76376.37637637639, 76476.47647647648, 76576.57657657658, 76676.67667667668, 76776.77677677678, 76876.87687687688, 76976.97697697698, 77077.07707707708, 77177.17717717719, 77277.27727727729, 77377.37737737739, 77477.47747747749, 77577.57757757758, 77677.67767767768, 77777.77777777778, 77877.87787787788, 77977.97797797798, 78078.07807807808, 78178.17817817819, 78278.27827827829, 78378.37837837839, 78478.47847847849, 78578.57857857858, 78678.67867867868, 78778.77877877878, 78878.87887887888, 78978.97897897898, 79079.07907907908, 79179.17917917919, 79279.27927927929, 79379.37937937939, 79479.47947947949, 79579.57957957959, 79679.67967967968, 79779.77977977978, 79879.87987987988, 79979.97997997998, 80080.08008008008, 80180.18018018019, 80280.28028028029, 80380.38038038039, 80480.48048048049, 80580.58058058059, 80680.68068068069, 80780.78078078078, 80880.88088088088, 80980.98098098098, 81081.08108108108, 81181.1811811812, 81281.28128128129, 81381.38138138139, 81481.48148148149, 81581.58158158159, 81681.68168168169, 81781.78178178178, 81881.88188188188, 81981.98198198198, 82082.08208208208, 82182.1821821822, 82282.2822822823, 82382.38238238239, 82482.48248248249, 82582.58258258259, 82682.68268268269, 82782.78278278279, 82882.88288288288, 82982.98298298298, 83083.08308308308, 83183.1831831832, 83283.2832832833, 83383.38338338339, 83483.48348348349, 83583.58358358359, 83683.68368368369, 83783.78378378379, 83883.88388388389, 83983.98398398398, 84084.08408408408, 84184.1841841842, 84284.2842842843, 84384.3843843844, 84484.48448448449, 84584.58458458459, 84684.68468468469, 84784.78478478479, 84884.88488488489, 84984.98498498499, 85085.08508508508, 85185.1851851852, 85285.2852852853, 85385.3853853854, 85485.4854854855, 85585.58558558559, 85685.68568568569, 85785.78578578579, 85885.88588588589, 85985.98598598599, 86086.0860860861, 86186.1861861862, 86286.2862862863, 86386.3863863864, 86486.4864864865, 86586.58658658659, 86686.68668668669, 86786.78678678679, 86886.88688688689, 86986.98698698699, 87087.0870870871, 87187.1871871872, 87287.2872872873, 87387.3873873874, 87487.4874874875, 87587.5875875876, 87687.68768768769, 87787.78778778779, 87887.88788788789, 87987.98798798799, 88088.0880880881, 88188.1881881882, 88288.2882882883, 88388.3883883884, 88488.4884884885, 88588.5885885886, 88688.6886886887, 88788.78878878879, 88888.88888888889, 88988.98898898899, 89089.0890890891, 89189.1891891892, 89289.2892892893, 89389.3893893894, 89489.4894894895, 89589.5895895896, 89689.6896896897, 89789.7897897898, 89889.88988988989, 89989.98998998999, 90090.0900900901, 90190.1901901902, 90290.2902902903, 90390.3903903904, 90490.4904904905, 90590.5905905906, 90690.6906906907, 90790.7907907908, 90890.89089089089, 90990.99099099099, 91091.0910910911, 91191.1911911912, 91291.2912912913, 91391.3913913914, 91491.4914914915, 91591.5915915916, 91691.6916916917, 91791.7917917918, 91891.8918918919, 91991.99199199199, 92092.0920920921, 92192.1921921922, 92292.2922922923, 92392.3923923924, 92492.4924924925, 92592.5925925926, 92692.6926926927, 92792.7927927928, 92892.8928928929, 92992.992992993, 93093.0930930931, 93193.1931931932, 93293.2932932933, 93393.3933933934, 93493.4934934935, 93593.5935935936, 93693.6936936937, 93793.7937937938, 93893.8938938939, 93993.993993994, 94094.09409409411, 94194.1941941942, 94294.2942942943, 94394.3943943944, 94494.4944944945, 94594.5945945946, 94694.6946946947, 94794.7947947948, 94894.8948948949, 94994.994994995, 95095.09509509511, 95195.1951951952, 95295.2952952953, 95395.3953953954, 95495.4954954955, 95595.5955955956, 95695.6956956957, 95795.7957957958, 95895.8958958959, 95995.995995996, 96096.09609609611, 96196.19619619621, 96296.2962962963, 96396.3963963964, 96496.4964964965, 96596.5965965966, 96696.6966966967, 96796.7967967968, 96896.8968968969, 96996.996996997, 97097.09709709711, 97197.19719719721, 97297.29729729731, 97397.3973973974, 97497.4974974975, 97597.5975975976, 97697.6976976977, 97797.7977977978, 97897.8978978979, 97997.997997998, 98098.09809809811, 98198.19819819821, 98298.29829829831, 98398.3983983984, 98498.4984984985, 98598.5985985986, 98698.6986986987, 98798.7987987988, 98898.8988988989, 98998.998998999, 99099.09909909911, 99199.19919919921, 99299.29929929931, 99399.39939939941, 99499.4994994995, 99599.5995995996, 99699.6996996997, 99799.7997997998, 99899.8998998999, 100000.0], \"y\": [57.791595655305045, 57.864635902522295, 57.937676149739545, 58.01071639695679, 58.08375664417404, 58.15679689139129, 58.22983713860854, 58.30287738582578, 58.37591763304303, 58.44895788026028, 58.52199812747753, 58.595038374694774, 58.668078621912024, 58.741118869129274, 58.814159116346524, 58.88719936356377, 58.96023961078102, 59.03327985799827, 59.10632010521552, 59.17936035243276, 59.25240059965001, 59.32544084686726, 59.39848109408451, 59.47152134130175, 59.544561588519, 59.61760183573625, 59.6906420829535, 59.763682330170745, 59.836722577387995, 59.909762824605245, 59.982803071822495, 60.05584331903974, 60.12888356625699, 60.20192381347424, 60.27496406069149, 60.34800430790873, 60.42104455512598, 60.49408480234323, 60.56712504956048, 60.640165296777724, 60.713205543994974, 60.786245791212224, 60.859286038429474, 60.93232628564672, 61.00536653286397, 61.07840678008122, 61.15144702729847, 61.22448727451571, 61.29752752173296, 61.37056776895021, 61.44360801616746, 61.5166482633847, 61.58968851060195, 61.6627287578192, 61.73576900503645, 61.808809252253695, 61.881849499470945, 61.954889746688195, 62.027929993905445, 62.100970241122695, 62.17401048833994, 62.24705073555719, 62.32009098277444, 62.39313122999168, 62.46617147720893, 62.53921172442618, 62.61225197164343, 62.68529221886068, 62.758332466077924, 62.831372713295174, 62.904412960512424, 62.97745320772967, 63.05049345494692, 63.12353370216417, 63.19657394938142, 63.26961419659867, 63.34265444381591, 63.41569469103316, 63.48873493825041, 63.56177518546766, 63.6348154326849, 63.70785567990215, 63.7808959271194, 63.85393617433665, 63.926976421553896, 64.00001666877114, 64.07305691598839, 64.14609716320564, 64.21913741042289, 64.29217765764014, 64.36521790485739, 64.43825815207464, 64.51129839929189, 64.58433864650914, 64.65737889372639, 64.73041914094362, 64.80345938816087, 64.87649963537812, 64.94953988259537, 65.02258012981262, 65.09562037702987, 65.16866062424712, 65.24170087146436, 65.31474111868161, 65.38778136589886, 65.46082161311611, 65.53386186033336, 65.60690210755061, 65.67994235476786, 65.75298260198511, 65.82602284920236, 65.8990630964196, 65.97210334363685, 66.0451435908541, 66.11818383807135, 66.1912240852886, 66.26426433250585, 66.3373045797231, 66.41034482694033, 66.48338507415758, 66.55642532137483, 66.62946556859208, 66.70250581580933, 66.77554606302658, 66.84858631024383, 66.92162655746108, 66.99466680467833, 67.06770705189557, 67.14074729911282, 67.21378754633007, 67.28682779354732, 67.35986804076457, 67.43290828798182, 67.50594853519907, 67.5789887824163, 67.65202902963355, 67.7250692768508, 67.79810952406805, 67.8711497712853, 67.94419001850255, 68.0172302657198, 68.09027051293705, 68.1633107601543, 68.23635100737154, 68.30939125458879, 68.38243150180604, 68.45547174902329, 68.52851199624054, 68.60155224345779, 68.67459249067504, 68.74763273789229, 68.82067298510952, 68.89371323232677, 68.96675347954402, 69.03979372676127, 69.11283397397852, 69.18587422119577, 69.25891446841302, 69.33195471563027, 69.40499496284752, 69.47803521006476, 69.55107545728201, 69.62411570449926, 69.69715595171651, 69.77019619893376, 69.84323644615101, 69.91627669336826, 69.9893169405855, 70.06235718780275, 70.13539743502, 70.20843768223725, 70.2814779294545, 70.35451817667175, 70.427558423889, 70.50059867110625, 70.57363891832348, 70.64667916554073, 70.71971941275798, 70.79275965997523, 70.86579990719248, 70.93884015440973, 71.01188040162698, 71.08492064884423, 71.15796089606148, 71.23100114327872, 71.30404139049597, 71.37708163771322, 71.45012188493047, 71.52316213214772, 71.59620237936497, 71.66924262658222, 71.74228287379947, 71.8153231210167, 71.88836336823395, 71.9614036154512, 72.03444386266845, 72.1074841098857, 72.18052435710295, 72.2535646043202, 72.32660485153744, 72.39964509875469, 72.47268534597194, 72.54572559318919, 72.61876584040644, 72.69180608762369, 72.76484633484094, 72.83788658205819, 72.91092682927544, 72.98396707649269, 73.05700732370993, 73.13004757092718, 73.20308781814443, 73.27612806536168, 73.34916831257893, 73.42220855979618, 73.49524880701343, 73.56828905423066, 73.64132930144791, 73.71436954866516, 73.78740979588241, 73.86045004309966, 73.93349029031691, 74.00653053753416, 74.07957078475141, 74.15261103196866, 74.22565127918591, 74.29869152640315, 74.3717317736204, 74.44477202083765, 74.5178122680549, 74.59085251527215, 74.66389276248938, 74.73693300970663, 74.80997325692388, 74.88301350414113, 74.95605375135838, 75.02909399857563, 75.10213424579288, 75.17517449301013, 75.24821474022738, 75.32125498744463, 75.39429523466188, 75.46733548187912, 75.54037572909637, 75.61341597631362, 75.68645622353087, 75.75949647074812, 75.83253671796535, 75.9055769651826, 75.97861721239985, 76.0516574596171, 76.12469770683435, 76.1977379540516, 76.27077820126885, 76.3438184484861, 76.41685869570335, 76.4898989429206, 76.56293919013784, 76.63597943735509, 76.70901968457234, 76.78205993178959, 76.85510017900684, 76.92814042622409, 77.00118067344134, 77.07422092065858, 77.14726116787583, 77.22030141509308, 77.29334166231033, 77.36638190952758, 77.43942215674483, 77.51246240396208, 77.58550265117933, 77.65854289839658, 77.73158314561383, 77.80462339283106, 77.87766364004831, 77.95070388726556, 78.02374413448281, 78.09678438170006, 78.16982462891731, 78.24286487613456, 78.3159051233518, 78.38894537056905, 78.4619856177863, 78.53502586500355, 78.6080661122208, 78.68110635943805, 78.7541466066553, 78.82718685387255, 78.9002271010898, 78.97326734830705, 79.04630759552428, 79.11934784274153, 79.19238808995878, 79.26542833717603, 79.33846858439328, 79.41150883161052, 79.48454907882777, 79.55758932604502, 79.63062957326227, 79.70366982047952, 79.77671006769677, 79.84975031491402, 79.92279056213127, 79.99583080934852, 80.06887105656577, 80.141911303783, 80.21495155100025, 80.2879917982175, 80.36103204543475, 80.434072292652, 80.50711253986925, 80.5801527870865, 80.65319303430374, 80.72623328152099, 80.79927352873824, 80.87231377595549, 80.94535402317274, 81.01839427038999, 81.09143451760724, 81.16447476482449, 81.23751501204174, 81.31055525925899, 81.38359550647623, 81.45663575369348, 81.52967600091073, 81.60271624812798, 81.67575649534523, 81.74879674256248, 81.82183698977971, 81.89487723699696, 81.96791748421421, 82.04095773143146, 82.11399797864871, 82.18703822586596, 82.26007847308321, 82.33311872030046, 82.40615896751771, 82.47919921473496, 82.5522394619522, 82.62527970916945, 82.6983199563867, 82.77136020360395, 82.8444004508212, 82.91744069803845, 82.99048094525568, 83.06352119247293, 83.13656143969018, 83.20960168690743, 83.28264193412468, 83.35568218134193, 83.42872242855918, 83.50176267577643, 83.57480292299368, 83.64784317021093, 83.72088341742817, 83.79392366464543, 83.86696391186267, 83.94000415907992, 84.01304440629717, 84.0860846535144, 84.15912490073167, 84.2321651479489, 84.30520539516615, 84.3782456423834, 84.45128588960065, 84.5243261368179, 84.59736638403515, 84.6704066312524, 84.74344687846965, 84.81648712568689, 84.88952737290415, 84.96256762012139, 85.03560786733864, 85.10864811455589, 85.18168836177314, 85.25472860899039, 85.32776885620764, 85.40080910342488, 85.47384935064213, 85.54688959785938, 85.61992984507663, 85.69297009229388, 85.76601033951113, 85.83905058672838, 85.91209083394563, 85.98513108116288, 86.05817132838013, 86.13121157559736, 86.20425182281461, 86.27729207003186, 86.35033231724911, 86.42337256446636, 86.49641281168361, 86.56945305890085, 86.6424933061181, 86.71553355333535, 86.7885738005526, 86.86161404776985, 86.9346542949871, 87.00769454220435, 87.0807347894216, 87.15377503663885, 87.2268152838561, 87.29985553107333, 87.37289577829058, 87.44593602550783, 87.51897627272508, 87.59201651994233, 87.66505676715957, 87.73809701437682, 87.81113726159407, 87.88417750881132, 87.95721775602857, 88.03025800324582, 88.10329825046307, 88.17633849768032, 88.24937874489757, 88.32241899211482, 88.39545923933207, 88.4684994865493, 88.54153973376656, 88.6145799809838, 88.68762022820106, 88.7606604754183, 88.83370072263554, 88.9067409698528, 88.97978121707004, 89.05282146428729, 89.12586171150454, 89.19890195872179, 89.27194220593904, 89.34498245315629, 89.41802270037354, 89.49106294759079, 89.56410319480804, 89.63714344202529, 89.71018368924253, 89.78322393645978, 89.85626418367703, 89.92930443089428, 90.00234467811153, 90.07538492532876, 90.14842517254601, 90.22146541976326, 90.29450566698051, 90.36754591419776, 90.44058616141501, 90.51362640863226, 90.58666665584951, 90.65970690306676, 90.73274715028401, 90.80578739750126, 90.87882764471851, 90.95186789193575, 91.024908139153, 91.09794838637025, 91.1709886335875, 91.24402888080473, 91.31706912802198, 91.39010937523923, 91.46314962245648, 91.53618986967373, 91.60923011689098, 91.68227036410823, 91.75531061132548, 91.82835085854273, 91.90139110575998, 91.97443135297723, 92.04747160019447, 92.12051184741173, 92.19355209462897, 92.26659234184622, 92.33963258906347, 92.4126728362807, 92.48571308349797, 92.5587533307152, 92.63179357793246, 92.7048338251497, 92.77787407236696, 92.8509143195842, 92.92395456680146, 92.9969948140187, 93.07003506123596, 93.1430753084532, 93.21611555567046, 93.2891558028877, 93.36219605010494, 93.43523629732219, 93.50827654453943, 93.58131679175669, 93.65435703897393, 93.72739728619118, 93.80043753340843, 93.87347778062568, 93.94651802784293, 94.01955827506018, 94.09259852227743, 94.16563876949468, 94.23867901671193, 94.31171926392918, 94.38475951114643, 94.45779975836368, 94.53084000558091, 94.60388025279816, 94.67692050001541, 94.74996074723266, 94.8230009944499, 94.89604124166715, 94.9690814888844, 95.04212173610165, 95.1151619833189, 95.18820223053615, 95.2612424777534, 95.33428272497065, 95.4073229721879, 95.48036321940515, 95.5534034666224, 95.62644371383963, 95.69948396105688, 95.77252420827413, 95.84556445549138, 95.91860470270863, 95.99164494992587, 96.06468519714312, 96.13772544436037, 96.21076569157762, 96.28380593879487, 96.35684618601212, 96.42988643322937, 96.50292668044662, 96.57596692766387, 96.64900717488112, 96.72204742209837, 96.7950876693156, 96.86812791653287, 96.9411681637501, 97.01420841096736, 97.0872486581846, 97.16028890540184, 97.2333291526191, 97.30636939983634, 97.37940964705359, 97.45244989427084, 97.52549014148809, 97.59853038870534, 97.67157063592259, 97.74461088313984, 97.81765113035709, 97.89069137757434, 97.96373162479159, 98.03677187200884, 98.10981211922608, 98.18285236644333, 98.25589261366056, 98.32893286087783, 98.40197310809506, 98.47501335531231, 98.54805360252956, 98.62109384974681, 98.69413409696406, 98.76717434418131, 98.84021459139856, 98.91325483861581, 98.98629508583306, 99.05933533305031, 99.13237558026756, 99.20541582748481, 99.27845607470205, 99.3514963219193, 99.42453656913655, 99.4975768163538, 99.57061706357104, 99.64365731078829, 99.71669755800554, 99.78973780522279, 99.86277805244004, 99.93581829965729, 100.00885854687454, 100.08189879409179, 100.15493904130904, 100.22797928852629, 100.30101953574354, 100.37405978296077, 100.44710003017802, 100.52014027739527, 100.59318052461252, 100.66622077182977, 100.739261019047, 100.81230126626426, 100.8853415134815, 100.95838176069876, 101.031422007916, 101.10446225513326, 101.1775025023505, 101.25054274956776, 101.323582996785, 101.39662324400226, 101.4696634912195, 101.54270373843676, 101.615743985654, 101.68878423287124, 101.76182448008849, 101.83486472730574, 101.90790497452299, 101.98094522174023, 102.05398546895748, 102.12702571617473, 102.20006596339198, 102.27310621060923, 102.34614645782648, 102.41918670504373, 102.49222695226098, 102.56526719947823, 102.63830744669548, 102.71134769391273, 102.78438794112998, 102.85742818834721, 102.93046843556446, 103.00350868278171, 103.07654892999896, 103.1495891772162, 103.22262942443345, 103.2956696716507, 103.36870991886795, 103.4417501660852, 103.51479041330245, 103.5878306605197, 103.66087090773695, 103.7339111549542, 103.80695140217145, 103.8799916493887, 103.95303189660595, 104.02607214382319, 104.09911239104044, 104.17215263825769, 104.24519288547494, 104.31823313269217, 104.39127337990942, 104.46431362712667, 104.53735387434392, 104.61039412156117, 104.68343436877842, 104.75647461599567, 104.82951486321292, 104.90255511043017, 104.97559535764742, 105.04863560486467, 105.1216758520819, 105.19471609929917, 105.2677563465164, 105.34079659373366, 105.4138368409509, 105.48687708816814, 105.5599173353854, 105.63295758260264, 105.70599782981989, 105.77903807703714, 105.85207832425439, 105.92511857147164, 105.99815881868889, 106.07119906590614, 106.14423931312339, 106.21727956034064, 106.29031980755789, 106.36336005477514, 106.43640030199238, 106.50944054920963, 106.58248079642686, 106.65552104364411, 106.72856129086136, 106.80160153807861, 106.87464178529586, 106.94768203251311, 107.02072227973036, 107.09376252694761, 107.16680277416486, 107.23984302138211, 107.31288326859936, 107.38592351581661, 107.45896376303385, 107.5320040102511, 107.60504425746836, 107.67808450468561, 107.75112475190285, 107.8241649991201, 107.89720524633734, 107.97024549355459, 108.04328574077184, 108.11632598798909, 108.18936623520634, 108.26240648242359, 108.33544672964084, 108.40848697685809, 108.48152722407534, 108.55456747129259, 108.62760771850984, 108.70064796572707, 108.77368821294432, 108.84672846016157, 108.91976870737881, 108.99280895459607, 109.06584920181332, 109.13888944903057, 109.21192969624781, 109.28496994346506, 109.35801019068231, 109.43105043789956, 109.50409068511681, 109.57713093233406, 109.65017117955131, 109.72321142676856, 109.79625167398581, 109.86929192120306, 109.94233216842031, 110.01537241563754, 110.0884126628548, 110.16145291007204, 110.23449315728928, 110.30753340450653, 110.38057365172378, 110.45361389894103, 110.52665414615828, 110.59969439337553, 110.67273464059278, 110.74577488781003, 110.81881513502728, 110.89185538224453, 110.96489562946178, 111.03793587667901, 111.11097612389626, 111.18401637111353, 111.25705661833078, 111.33009686554801, 111.40313711276526, 111.4761773599825, 111.54921760719975, 111.622257854417, 111.69529810163425, 111.7683383488515, 111.84137859606875, 111.914418843286, 111.98745909050325, 112.0604993377205, 112.13353958493775, 112.206579832155, 112.27962007937225, 112.35266032658949, 112.42570057380674, 112.49874082102397, 112.57178106824122, 112.64482131545849, 112.71786156267574, 112.79090180989297, 112.86394205711022, 112.93698230432747, 113.01002255154472, 113.08306279876197, 113.15610304597922, 113.22914329319647, 113.30218354041371, 113.37522378763097, 113.44826403484822, 113.52130428206547, 113.59434452928271, 113.66738477649996, 113.74042502371721, 113.81346527093444, 113.8865055181517, 113.95954576536894, 114.0325860125862, 114.10562625980344, 114.1786665070207, 114.25170675423794, 114.3247470014552, 114.39778724867244, 114.4708274958897, 114.54386774310694, 114.61690799032418, 114.68994823754143, 114.76298848475868, 114.83602873197594, 114.90906897919318, 114.98210922641043, 115.05514947362767, 115.12818972084492, 115.20122996806217, 115.27427021527942, 115.34731046249667, 115.42035070971392, 115.49339095693117, 115.56643120414842, 115.63947145136567, 115.71251169858292, 115.78555194580017, 115.85859219301742, 115.93163244023465, 116.0046726874519, 116.07771293466914, 116.15075318188639, 116.22379342910364, 116.2968336763209, 116.36987392353814, 116.44291417075539, 116.51595441797264, 116.58899466518989, 116.66203491240714, 116.73507515962439, 116.80811540684164, 116.88115565405889, 116.95419590127612, 117.02723614849339, 117.10027639571064, 117.17331664292787, 117.24635689014512, 117.31939713736237, 117.39243738457961, 117.46547763179686, 117.53851787901411, 117.61155812623136, 117.68459837344861, 117.75763862066586, 117.83067886788311, 117.90371911510036, 117.97675936231761, 118.04979960953486, 118.12283985675211, 118.19588010396934, 118.2689203511866, 118.34196059840384, 118.41500084562108, 118.48804109283834, 118.5610813400556, 118.63412158727284, 118.70716183449008, 118.78020208170733, 118.85324232892458, 118.92628257614183, 118.99932282335908, 119.07236307057633, 119.14540331779358, 119.21844356501083, 119.29148381222808, 119.36452405944533, 119.43756430666258, 119.51060455387982, 119.58364480109707, 119.6566850483143, 119.72972529553155, 119.8027655427488, 119.87580578996605, 119.9488460371833, 120.02188628440055, 120.0949265316178, 120.16796677883505, 120.2410070260523, 120.31404727326955, 120.3870875204868, 120.46012776770405, 120.53316801492129, 120.60620826213855, 120.6792485093558, 120.75228875657305, 120.82532900379029, 120.89836925100754, 120.97140949822477, 121.04444974544202, 121.11748999265927, 121.19053023987652, 121.26357048709377, 121.33661073431102, 121.40965098152827, 121.48269122874552, 121.55573147596277, 121.62877172318002, 121.70181197039727, 121.77485221761451, 121.84789246483176, 121.92093271204901, 121.99397295926626, 122.06701320648351, 122.14005345370076, 122.21309370091801, 122.28613394813526, 122.3591741953525, 122.43221444256974, 122.505254689787, 122.57829493700424, 122.6513351842215, 122.72437543143873, 122.797415678656, 122.87045592587324, 122.9434961730905, 123.01653642030773, 123.08957666752498, 123.16261691474223, 123.23565716195948, 123.30869740917673, 123.38173765639397, 123.45477790361122, 123.52781815082848, 123.60085839804573, 123.67389864526297, 123.74693889248022, 123.81997913969747, 123.89301938691472, 123.96605963413197, 124.0390998813492, 124.11214012856645, 124.1851803757837, 124.25822062300095, 124.3312608702182, 124.40430111743545, 124.4773413646527, 124.55038161186995, 124.62342185908719, 124.69646210630444, 124.76950235352169, 124.84254260073894, 124.91558284795619, 124.98862309517344, 125.06166334239069, 125.13470358960794, 125.20774383682519, 125.28078408404242, 125.35382433125967, 125.42686457847692, 125.49990482569417, 125.57294507291142, 125.64598532012866, 125.71902556734592, 125.79206581456317, 125.86510606178042, 125.93814630899766, 126.01118655621491, 126.08422680343216, 126.15726705064941, 126.23030729786666, 126.3033475450839, 126.37638779230114, 126.44942803951841, 126.52246828673566, 126.5955085339529, 126.66854878117014, 126.7415890283874, 126.81462927560464, 126.8876695228219, 126.96070977003913, 127.03375001725638, 127.10679026447363, 127.1798305116909, 127.25287075890813, 127.32591100612538, 127.39895125334263, 127.47199150055988, 127.54503174777713, 127.61807199499437, 127.69111224221162, 127.76415248942887, 127.83719273664612, 127.91023298386337, 127.98327323108062, 128.05631347829785, 128.1293537255151, 128.20239397273235, 128.2754342199496, 128.34847446716685, 128.4215147143841, 128.49455496160135, 128.5675952088186, 128.64063545603585, 128.7136757032531, 128.78671595047035, 128.8597561976876, 128.93279644490485, 129.0058366921221, 129.07887693933935, 129.1519171865566, 129.22495743377382, 129.29799768099107, 129.37103792820835, 129.4440781754256, 129.51711842264282, 129.59015866986007, 129.66319891707732, 129.73623916429457, 129.80927941151182, 129.88231965872905, 129.9553599059463, 130.02840015316355, 130.10144040038082, 130.17448064759805, 130.2475208948153, 130.32056114203255, 130.3936013892498, 130.46664163646705, 130.5396818836843, 130.61272213090155, 130.6857623781188, 130.75880262533605]}, {\"line\": {\"color\": \"#2980b9 \", \"dash\": \"longdashdot\", \"width\": 3}, \"marker\": {\"color\": \"red\"}, \"name\": \"Interpolation with d=3\", \"opacity\": 1, \"type\": \"scatter\", \"x\": [0.0, 100.10010010010011, 200.20020020020021, 300.3003003003003, 400.40040040040043, 500.50050050050055, 600.6006006006006, 700.7007007007007, 800.8008008008009, 900.900900900901, 1001.0010010010011, 1101.1011011011012, 1201.2012012012012, 1301.3013013013015, 1401.4014014014015, 1501.5015015015017, 1601.6016016016017, 1701.7017017017017, 1801.801801801802, 1901.901901901902, 2002.0020020020022, 2102.1021021021024, 2202.2022022022024, 2302.3023023023025, 2402.4024024024025, 2502.5025025025025, 2602.602602602603, 2702.702702702703, 2802.802802802803, 2902.902902902903, 3003.0030030030034, 3103.1031031031034, 3203.2032032032034, 3303.3033033033034, 3403.4034034034034, 3503.503503503504, 3603.603603603604, 3703.703703703704, 3803.803803803804, 3903.9039039039044, 4004.0040040040044, 4104.104104104104, 4204.204204204205, 4304.304304304304, 4404.404404404405, 4504.504504504504, 4604.604604604605, 4704.704704704705, 4804.804804804805, 4904.904904904905, 5005.005005005005, 5105.105105105105, 5205.205205205206, 5305.305305305305, 5405.405405405406, 5505.505505505506, 5605.605605605606, 5705.705705705706, 5805.805805805806, 5905.905905905906, 6006.006006006007, 6106.106106106106, 6206.206206206207, 6306.306306306306, 6406.406406406407, 6506.506506506507, 6606.606606606607, 6706.706706706707, 6806.806806806807, 6906.906906906907, 7007.007007007008, 7107.107107107107, 7207.207207207208, 7307.307307307307, 7407.407407407408, 7507.507507507508, 7607.607607607608, 7707.707707707708, 7807.807807807809, 7907.907907907908, 8008.008008008009, 8108.108108108108, 8208.208208208209, 8308.30830830831, 8408.40840840841, 8508.508508508508, 8608.608608608609, 8708.70870870871, 8808.80880880881, 8908.90890890891, 9009.009009009009, 9109.10910910911, 9209.20920920921, 9309.30930930931, 9409.40940940941, 9509.50950950951, 9609.60960960961, 9709.70970970971, 9809.80980980981, 9909.909909909911, 10010.01001001001, 10110.11011011011, 10210.21021021021, 10310.310310310311, 10410.410410410412, 10510.51051051051, 10610.61061061061, 10710.710710710711, 10810.810810810812, 10910.910910910912, 11011.011011011013, 11111.111111111111, 11211.211211211212, 11311.311311311312, 11411.411411411413, 11511.511511511513, 11611.611611611612, 11711.711711711712, 11811.811811811813, 11911.911911911913, 12012.012012012014, 12112.112112112112, 12212.212212212213, 12312.312312312313, 12412.412412412414, 12512.512512512514, 12612.612612612613, 12712.712712712713, 12812.812812812814, 12912.912912912914, 13013.013013013015, 13113.113113113113, 13213.213213213214, 13313.313313313314, 13413.413413413415, 13513.513513513515, 13613.613613613614, 13713.713713713714, 13813.813813813815, 13913.913913913915, 14014.014014014016, 14114.114114114114, 14214.214214214215, 14314.314314314315, 14414.414414414416, 14514.514514514516, 14614.614614614615, 14714.714714714715, 14814.814814814816, 14914.914914914916, 15015.015015015017, 15115.115115115117, 15215.215215215216, 15315.315315315316, 15415.415415415417, 15515.515515515517, 15615.615615615618, 15715.715715715716, 15815.815815815817, 15915.915915915917, 16016.016016016018, 16116.116116116118, 16216.216216216217, 16316.316316316317, 16416.416416416418, 16516.516516516516, 16616.61661661662, 16716.716716716717, 16816.81681681682, 16916.916916916918, 17017.017017017017, 17117.11711711712, 17217.217217217218, 17317.31731731732, 17417.41741741742, 17517.517517517517, 17617.61761761762, 17717.71771771772, 17817.81781781782, 17917.91791791792, 18018.018018018018, 18118.11811811812, 18218.21821821822, 18318.31831831832, 18418.41841841842, 18518.51851851852, 18618.61861861862, 18718.71871871872, 18818.81881881882, 18918.91891891892, 19019.01901901902, 19119.11911911912, 19219.21921921922, 19319.319319319322, 19419.41941941942, 19519.51951951952, 19619.61961961962, 19719.71971971972, 19819.819819819822, 19919.91991991992, 20020.02002002002, 20120.120120120122, 20220.22022022022, 20320.320320320323, 20420.42042042042, 20520.52052052052, 20620.620620620623, 20720.72072072072, 20820.820820820823, 20920.920920920922, 21021.02102102102, 21121.121121121123, 21221.22122122122, 21321.321321321324, 21421.421421421423, 21521.521521521525, 21621.621621621623, 21721.721721721722, 21821.821821821824, 21921.921921921923, 22022.022022022025, 22122.122122122124, 22222.222222222223, 22322.322322322325, 22422.422422422424, 22522.522522522526, 22622.622622622624, 22722.722722722723, 22822.822822822825, 22922.922922922924, 23023.023023023026, 23123.123123123125, 23223.223223223224, 23323.323323323326, 23423.423423423425, 23523.523523523527, 23623.623623623625, 23723.723723723724, 23823.823823823826, 23923.923923923925, 24024.024024024027, 24124.124124124126, 24224.224224224225, 24324.324324324327, 24424.424424424426, 24524.524524524528, 24624.624624624626, 24724.724724724725, 24824.824824824827, 24924.924924924926, 25025.02502502503, 25125.125125125127, 25225.225225225226, 25325.325325325328, 25425.425425425427, 25525.52552552553, 25625.625625625627, 25725.725725725726, 25825.82582582583, 25925.925925925927, 26026.02602602603, 26126.126126126128, 26226.226226226227, 26326.32632632633, 26426.426426426427, 26526.52652652653, 26626.62662662663, 26726.726726726727, 26826.82682682683, 26926.926926926928, 27027.02702702703, 27127.12712712713, 27227.227227227228, 27327.32732732733, 27427.42742742743, 27527.52752752753, 27627.62762762763, 27727.727727727728, 27827.82782782783, 27927.92792792793, 28028.02802802803, 28128.12812812813, 28228.22822822823, 28328.32832832833, 28428.42842842843, 28528.52852852853, 28628.62862862863, 28728.72872872873, 28828.82882882883, 28928.92892892893, 29029.029029029032, 29129.12912912913, 29229.22922922923, 29329.32932932933, 29429.42942942943, 29529.529529529533, 29629.62962962963, 29729.72972972973, 29829.829829829832, 29929.92992992993, 30030.030030030033, 30130.130130130132, 30230.230230230234, 30330.330330330333, 30430.43043043043, 30530.530530530534, 30630.630630630632, 30730.730730730735, 30830.830830830833, 30930.930930930932, 31031.031031031034, 31131.131131131133, 31231.231231231235, 31331.331331331334, 31431.431431431432, 31531.531531531535, 31631.631631631633, 31731.731731731736, 31831.831831831834, 31931.931931931933, 32032.032032032035, 32132.132132132134, 32232.232232232236, 32332.332332332335, 32432.432432432433, 32532.532532532536, 32632.632632632634, 32732.732732732737, 32832.832832832835, 32932.932932932934, 33033.03303303303, 33133.13313313314, 33233.23323323324, 33333.333333333336, 33433.433433433434, 33533.53353353353, 33633.63363363364, 33733.73373373374, 33833.833833833836, 33933.933933933935, 34034.03403403403, 34134.13413413414, 34234.23423423424, 34334.33433433434, 34434.434434434435, 34534.534534534534, 34634.63463463464, 34734.73473473474, 34834.83483483484, 34934.934934934936, 35035.035035035035, 35135.13513513514, 35235.23523523524, 35335.33533533534, 35435.43543543544, 35535.535535535535, 35635.63563563564, 35735.73573573574, 35835.83583583584, 35935.93593593594, 36036.036036036036, 36136.13613613614, 36236.23623623624, 36336.33633633634, 36436.43643643644, 36536.536536536536, 36636.63663663664, 36736.73673673674, 36836.83683683684, 36936.93693693694, 37037.03703703704, 37137.13713713714, 37237.23723723724, 37337.33733733734, 37437.43743743744, 37537.53753753754, 37637.63763763764, 37737.73773773774, 37837.83783783784, 37937.93793793794, 38038.03803803804, 38138.13813813814, 38238.23823823824, 38338.33833833834, 38438.43843843844, 38538.53853853854, 38638.638638638644, 38738.73873873874, 38838.83883883884, 38938.93893893894, 39039.03903903904, 39139.139139139144, 39239.23923923924, 39339.33933933934, 39439.43943943944, 39539.53953953954, 39639.639639639645, 39739.73973973974, 39839.83983983984, 39939.93993993994, 40040.04004004004, 40140.140140140145, 40240.240240240244, 40340.34034034034, 40440.44044044044, 40540.54054054054, 40640.640640640646, 40740.740740740745, 40840.84084084084, 40940.94094094094, 41041.04104104104, 41141.14114114115, 41241.241241241245, 41341.341341341344, 41441.44144144144, 41541.54154154154, 41641.64164164165, 41741.741741741745, 41841.841841841844, 41941.94194194194, 42042.04204204204, 42142.14214214215, 42242.242242242246, 42342.342342342345, 42442.44244244244, 42542.54254254254, 42642.64264264265, 42742.74274274275, 42842.842842842845, 42942.942942942944, 43043.04304304305, 43143.14314314315, 43243.24324324325, 43343.343343343346, 43443.443443443444, 43543.54354354355, 43643.64364364365, 43743.74374374375, 43843.843843843846, 43943.943943943945, 44044.04404404405, 44144.14414414415, 44244.24424424425, 44344.34434434435, 44444.444444444445, 44544.54454454455, 44644.64464464465, 44744.74474474475, 44844.84484484485, 44944.944944944946, 45045.04504504505, 45145.14514514515, 45245.24524524525, 45345.34534534535, 45445.445445445446, 45545.54554554555, 45645.64564564565, 45745.74574574575, 45845.84584584585, 45945.94594594595, 46046.04604604605, 46146.14614614615, 46246.24624624625, 46346.34634634635, 46446.44644644645, 46546.54654654655, 46646.64664664665, 46746.74674674675, 46846.84684684685, 46946.94694694695, 47047.047047047054, 47147.14714714715, 47247.24724724725, 47347.34734734735, 47447.44744744745, 47547.547547547554, 47647.64764764765, 47747.74774774775, 47847.84784784785, 47947.94794794795, 48048.048048048055, 48148.14814814815, 48248.24824824825, 48348.34834834835, 48448.44844844845, 48548.548548548555, 48648.648648648654, 48748.74874874875, 48848.84884884885, 48948.94894894895, 49049.049049049056, 49149.149149149154, 49249.24924924925, 49349.34934934935, 49449.44944944945, 49549.549549549556, 49649.649649649655, 49749.74974974975, 49849.84984984985, 49949.94994994995, 50050.05005005006, 50150.150150150155, 50250.250250250254, 50350.35035035035, 50450.45045045045, 50550.55055055056, 50650.650650650656, 50750.750750750754, 50850.85085085085, 50950.95095095095, 51051.05105105106, 51151.151151151156, 51251.251251251255, 51351.35135135135, 51451.45145145145, 51551.55155155156, 51651.65165165166, 51751.751751751755, 51851.851851851854, 51951.95195195195, 52052.05205205206, 52152.15215215216, 52252.252252252256, 52352.352352352355, 52452.45245245245, 52552.55255255256, 52652.65265265266, 52752.752752752756, 52852.852852852855, 52952.95295295295, 53053.05305305306, 53153.15315315316, 53253.25325325326, 53353.353353353355, 53453.453453453454, 53553.55355355356, 53653.65365365366, 53753.75375375376, 53853.853853853856, 53953.953953953955, 54054.05405405406, 54154.15415415416, 54254.25425425426, 54354.35435435436, 54454.454454454455, 54554.55455455456, 54654.65465465466, 54754.75475475476, 54854.85485485486, 54954.954954954956, 55055.05505505506, 55155.15515515516, 55255.25525525526, 55355.35535535536, 55455.455455455456, 55555.55555555556, 55655.65565565566, 55755.75575575576, 55855.85585585586, 55955.95595595596, 56056.05605605606, 56156.15615615616, 56256.25625625626, 56356.35635635636, 56456.45645645646, 56556.55655655656, 56656.65665665666, 56756.75675675676, 56856.85685685686, 56956.95695695696, 57057.05705705706, 57157.15715715716, 57257.25725725726, 57357.35735735736, 57457.45745745746, 57557.557557557564, 57657.65765765766, 57757.75775775776, 57857.85785785786, 57957.95795795796, 58058.058058058064, 58158.15815815816, 58258.25825825826, 58358.35835835836, 58458.45845845846, 58558.558558558565, 58658.65865865866, 58758.75875875876, 58858.85885885886, 58958.95895895896, 59059.059059059065, 59159.159159159164, 59259.25925925926, 59359.35935935936, 59459.45945945946, 59559.559559559566, 59659.659659659665, 59759.75975975976, 59859.85985985986, 59959.95995995997, 60060.06006006007, 60160.160160160165, 60260.260260260264, 60360.36036036036, 60460.46046046047, 60560.56056056057, 60660.660660660666, 60760.760760760764, 60860.86086086086, 60960.96096096097, 61061.06106106107, 61161.161161161166, 61261.261261261265, 61361.36136136136, 61461.46146146147, 61561.56156156157, 61661.66166166167, 61761.761761761765, 61861.861861861864, 61961.96196196197, 62062.06206206207, 62162.16216216217, 62262.262262262266, 62362.362362362364, 62462.46246246247, 62562.56256256257, 62662.66266266267, 62762.762762762766, 62862.862862862865, 62962.96296296297, 63063.06306306307, 63163.16316316317, 63263.26326326327, 63363.363363363365, 63463.46346346347, 63563.56356356357, 63663.66366366367, 63763.76376376377, 63863.863863863866, 63963.96396396397, 64064.06406406407, 64164.16416416417, 64264.26426426427, 64364.364364364366, 64464.46446446447, 64564.56456456457, 64664.66466466467, 64764.76476476477, 64864.86486486487, 64964.96496496497, 65065.06506506507, 65165.16516516517, 65265.26526526527, 65365.36536536537, 65465.46546546547, 65565.56556556557, 65665.66566566567, 65765.76576576577, 65865.86586586587, 65965.96596596597, 66066.06606606607, 66166.16616616616, 66266.26626626628, 66366.36636636638, 66466.46646646647, 66566.56656656657, 66666.66666666667, 66766.76676676677, 66866.86686686687, 66966.96696696697, 67067.06706706707, 67167.16716716716, 67267.26726726728, 67367.36736736738, 67467.46746746748, 67567.56756756757, 67667.66766766767, 67767.76776776777, 67867.86786786787, 67967.96796796797, 68068.06806806807, 68168.16816816817, 68268.26826826828, 68368.36836836838, 68468.46846846848, 68568.56856856857, 68668.66866866867, 68768.76876876877, 68868.86886886887, 68968.96896896897, 69069.06906906907, 69169.16916916918, 69269.26926926928, 69369.36936936938, 69469.46946946948, 69569.56956956958, 69669.66966966967, 69769.76976976977, 69869.86986986987, 69969.96996996997, 70070.07007007007, 70170.17017017018, 70270.27027027028, 70370.37037037038, 70470.47047047048, 70570.57057057058, 70670.67067067068, 70770.77077077077, 70870.87087087087, 70970.97097097097, 71071.07107107107, 71171.17117117118, 71271.27127127128, 71371.37137137138, 71471.47147147148, 71571.57157157158, 71671.67167167168, 71771.77177177178, 71871.87187187187, 71971.97197197197, 72072.07207207207, 72172.17217217218, 72272.27227227228, 72372.37237237238, 72472.47247247248, 72572.57257257258, 72672.67267267268, 72772.77277277278, 72872.87287287287, 72972.97297297297, 73073.07307307307, 73173.17317317319, 73273.27327327328, 73373.37337337338, 73473.47347347348, 73573.57357357358, 73673.67367367368, 73773.77377377378, 73873.87387387388, 73973.97397397397, 74074.07407407407, 74174.17417417419, 74274.27427427428, 74374.37437437438, 74474.47447447448, 74574.57457457458, 74674.67467467468, 74774.77477477478, 74874.87487487488, 74974.97497497498, 75075.07507507507, 75175.17517517519, 75275.27527527529, 75375.37537537538, 75475.47547547548, 75575.57557557558, 75675.67567567568, 75775.77577577578, 75875.87587587588, 75975.97597597598, 76076.07607607607, 76176.17617617619, 76276.27627627629, 76376.37637637639, 76476.47647647648, 76576.57657657658, 76676.67667667668, 76776.77677677678, 76876.87687687688, 76976.97697697698, 77077.07707707708, 77177.17717717719, 77277.27727727729, 77377.37737737739, 77477.47747747749, 77577.57757757758, 77677.67767767768, 77777.77777777778, 77877.87787787788, 77977.97797797798, 78078.07807807808, 78178.17817817819, 78278.27827827829, 78378.37837837839, 78478.47847847849, 78578.57857857858, 78678.67867867868, 78778.77877877878, 78878.87887887888, 78978.97897897898, 79079.07907907908, 79179.17917917919, 79279.27927927929, 79379.37937937939, 79479.47947947949, 79579.57957957959, 79679.67967967968, 79779.77977977978, 79879.87987987988, 79979.97997997998, 80080.08008008008, 80180.18018018019, 80280.28028028029, 80380.38038038039, 80480.48048048049, 80580.58058058059, 80680.68068068069, 80780.78078078078, 80880.88088088088, 80980.98098098098, 81081.08108108108, 81181.1811811812, 81281.28128128129, 81381.38138138139, 81481.48148148149, 81581.58158158159, 81681.68168168169, 81781.78178178178, 81881.88188188188, 81981.98198198198, 82082.08208208208, 82182.1821821822, 82282.2822822823, 82382.38238238239, 82482.48248248249, 82582.58258258259, 82682.68268268269, 82782.78278278279, 82882.88288288288, 82982.98298298298, 83083.08308308308, 83183.1831831832, 83283.2832832833, 83383.38338338339, 83483.48348348349, 83583.58358358359, 83683.68368368369, 83783.78378378379, 83883.88388388389, 83983.98398398398, 84084.08408408408, 84184.1841841842, 84284.2842842843, 84384.3843843844, 84484.48448448449, 84584.58458458459, 84684.68468468469, 84784.78478478479, 84884.88488488489, 84984.98498498499, 85085.08508508508, 85185.1851851852, 85285.2852852853, 85385.3853853854, 85485.4854854855, 85585.58558558559, 85685.68568568569, 85785.78578578579, 85885.88588588589, 85985.98598598599, 86086.0860860861, 86186.1861861862, 86286.2862862863, 86386.3863863864, 86486.4864864865, 86586.58658658659, 86686.68668668669, 86786.78678678679, 86886.88688688689, 86986.98698698699, 87087.0870870871, 87187.1871871872, 87287.2872872873, 87387.3873873874, 87487.4874874875, 87587.5875875876, 87687.68768768769, 87787.78778778779, 87887.88788788789, 87987.98798798799, 88088.0880880881, 88188.1881881882, 88288.2882882883, 88388.3883883884, 88488.4884884885, 88588.5885885886, 88688.6886886887, 88788.78878878879, 88888.88888888889, 88988.98898898899, 89089.0890890891, 89189.1891891892, 89289.2892892893, 89389.3893893894, 89489.4894894895, 89589.5895895896, 89689.6896896897, 89789.7897897898, 89889.88988988989, 89989.98998998999, 90090.0900900901, 90190.1901901902, 90290.2902902903, 90390.3903903904, 90490.4904904905, 90590.5905905906, 90690.6906906907, 90790.7907907908, 90890.89089089089, 90990.99099099099, 91091.0910910911, 91191.1911911912, 91291.2912912913, 91391.3913913914, 91491.4914914915, 91591.5915915916, 91691.6916916917, 91791.7917917918, 91891.8918918919, 91991.99199199199, 92092.0920920921, 92192.1921921922, 92292.2922922923, 92392.3923923924, 92492.4924924925, 92592.5925925926, 92692.6926926927, 92792.7927927928, 92892.8928928929, 92992.992992993, 93093.0930930931, 93193.1931931932, 93293.2932932933, 93393.3933933934, 93493.4934934935, 93593.5935935936, 93693.6936936937, 93793.7937937938, 93893.8938938939, 93993.993993994, 94094.09409409411, 94194.1941941942, 94294.2942942943, 94394.3943943944, 94494.4944944945, 94594.5945945946, 94694.6946946947, 94794.7947947948, 94894.8948948949, 94994.994994995, 95095.09509509511, 95195.1951951952, 95295.2952952953, 95395.3953953954, 95495.4954954955, 95595.5955955956, 95695.6956956957, 95795.7957957958, 95895.8958958959, 95995.995995996, 96096.09609609611, 96196.19619619621, 96296.2962962963, 96396.3963963964, 96496.4964964965, 96596.5965965966, 96696.6966966967, 96796.7967967968, 96896.8968968969, 96996.996996997, 97097.09709709711, 97197.19719719721, 97297.29729729731, 97397.3973973974, 97497.4974974975, 97597.5975975976, 97697.6976976977, 97797.7977977978, 97897.8978978979, 97997.997997998, 98098.09809809811, 98198.19819819821, 98298.29829829831, 98398.3983983984, 98498.4984984985, 98598.5985985986, 98698.6986986987, 98798.7987987988, 98898.8988988989, 98998.998998999, 99099.09909909911, 99199.19919919921, 99299.29929929931, 99399.39939939941, 99499.4994994995, 99599.5995995996, 99699.6996996997, 99799.7997997998, 99899.8998998999, 100000.0], \"y\": [14.656306382156302, 15.12983909057903, 15.601284317509826, 16.070646640261195, 16.537930636145642, 17.00314088247567, 17.466281956563783, 17.92735843572249, 18.38637489726429, 18.843335918501687, 19.29824607674719, 19.751109949313296, 20.201932113512516, 20.650717146657357, 21.09746962606031, 21.54219412903389, 21.9848952328906, 22.425577514942944, 22.864245552503423, 23.300903922884544, 23.735557203398812, 24.16820997135873, 24.598866804076803, 25.027532278865536, 25.454210973037426, 25.878907463904987, 26.301626328780724, 26.722372144977133, 27.141149489806722, 27.557962940581994, 27.972817074615456, 28.38571646921961, 28.796665701706964, 29.205669349390014, 29.612731989581274, 30.017858199593245, 30.421052556738427, 30.82231963832933, 31.221664021678457, 31.61909028409831, 32.014603002901396, 32.408206755400215, 32.79990611890727, 33.18970567073508, 33.57760998819613, 33.96362364860293, 34.347751229268, 34.72999730750382, 35.11036646062291, 35.48886326593777, 35.865492300760906, 36.24025814240482, 36.61316536818202, 36.984218555405, 37.35342228138627, 37.72078112343834, 38.08629965887371, 38.44998246500489, 38.811834119144365, 39.171859198604665, 39.53006228069828, 39.88644794273771, 40.241020762035475, 40.59378531590406, 40.94474618165599, 41.293907936603745, 41.641275158059855, 41.9868524233368, 42.3306443097471, 42.67265539460326, 43.01289025521778, 43.35135346890316, 43.688049612971916, 44.02298326473654, 44.35615900150954, 44.68758140060342, 45.01725503933069, 45.34518449500385, 45.6713743449354, 45.99582916643786, 46.31855353682371, 46.63955203340546, 46.958829233495635, 47.276389714406726, 47.59223805345123, 47.90637882794165, 48.21881661519051, 48.5295559925103, 48.83860153721353, 49.14595782661271, 49.45162943802032, 49.755620948748884, 50.057936936110906, 50.35858197741888, 50.657560649985314, 50.95487753112272, 51.25053719814359, 51.54454422836046, 51.83690319908579, 52.12761868763211, 52.4166952713119, 52.7041375274377, 52.989950033321996, 53.274137366277294, 53.5567041036161, 53.837654822650904, 54.11699410069423, 54.39472651505857, 54.67085664305644, 54.945389062000324, 55.21832834920275, 55.489679081976206, 55.75944583763321, 56.02763319348625, 56.29424572684784, 56.55928801503048, 56.82276463534667, 57.084680165108935, 57.34503918162976, 57.60384626222166, 57.86110598419713, 58.11682292486867, 58.3710016615488, 58.623646771550014, 58.87476283218482, 59.12435442076573, 59.372426114605226, 59.61898249101583, 59.86402812731004, 60.10756760080037, 60.34960548879931, 60.59014636861937, 60.82919481757307, 61.06675541297288, 61.30283273213133, 61.53743135236092, 61.77055585097415, 62.00221080528354, 62.23240079260155, 62.46113039024075, 62.6884041755136, 62.914226725732604, 63.138602618210264, 63.36153643025912, 63.58303273919164, 63.803096122320355, 64.02173115695774, 64.23894242041634, 64.4547344900086, 64.66911194304707, 64.88207935684424, 65.09364130871262, 65.30380237596472, 65.51256713591302, 65.71994016587004, 65.92592604314831, 66.13052934506028, 66.33375464891849, 66.53560653203543, 66.73608957172361, 66.93520834529555, 67.13296743006374, 67.32937140334066, 67.52442484243885, 67.71813232467082, 67.91049842734903, 68.10152772778602, 68.29122480329428, 68.47959423118633, 68.66664058877467, 68.85236845337177, 69.03678240229019, 69.21988701284239, 69.4016868623409, 69.58218652809819, 69.76139058742683, 69.93930361763927, 70.115930196048, 70.2912748999656, 70.46534230670449, 70.63813699357723, 70.8096635378963, 70.97992651697419, 71.14893050812344, 71.31668008865654, 71.48317983588598, 71.64843432712429, 71.81244813968397, 71.97522585087748, 72.13677203801737, 72.29709127841616, 72.45618814938629, 72.61406722824033, 72.77073309229077, 72.92619031885008, 73.08044348523077, 73.23349716874537, 73.38535594670638, 73.53602439642628, 73.68550709521762, 73.83380862039286, 73.98093354926452, 74.1268864591451, 74.27167192734711, 74.41529453118306, 74.55775884796546, 74.69906945500678, 74.83923092961956, 74.97824784911629, 75.11612479080947, 75.2528663320116, 75.38847705003522, 75.52296152219279, 75.65632432579683, 75.78857003815985, 75.91970323659433, 76.04972849841282, 76.1786504009278, 76.30647352145175, 76.43320243729723, 76.55884172577669, 76.68339596420265, 76.80686972988764, 76.92926760014413, 77.05059415228465, 77.17085396362168, 77.29005161146776, 77.40819167313535, 77.52527872593697, 77.64131734718516, 77.75631211419237, 77.87026760427113, 77.98318839473396, 78.09507906289333, 78.20594418606177, 78.31578834155178, 78.42461610667586, 78.5324320587465, 78.63924077507625, 78.74504683297754, 78.84985480976296, 78.95366928274494, 79.05649482923603, 79.15833602654871, 79.25919745199549, 79.35908368288891, 79.45799929654142, 79.55594887026554, 79.6529369813738, 79.74896820717869, 79.84404712499268, 79.93817831212834, 80.03136634589812, 80.12361580361453, 80.21493126259011, 80.30531730013735, 80.39477849356872, 80.48331942019676, 80.57094465733395, 80.65765878229284, 80.74346637238587, 80.82837200492561, 80.91238025722451, 80.9954957065951, 81.07772293034988, 81.15906650580135, 81.23953101026203, 81.3191210210444, 81.39784111546099, 81.47569587082427, 81.55268986444678, 81.62882767364104, 81.70411387571946, 81.77855304799466, 81.85214976777908, 81.92490861238524, 81.99683415912561, 82.06793098531276, 82.13820366825915, 82.20765678527732, 82.2762949136797, 82.34412263077888, 82.41114451388732, 82.47736514031752, 82.54278908738199, 82.60742093239325, 82.6712652526638, 82.73432662550613, 82.79660962823276, 82.85811883815617, 82.91885883258891, 82.97883418884342, 83.03804948423227, 83.09650929606794, 83.15421820166291, 83.21118077832973, 83.26740160338082, 83.3228852541288, 83.37763630788609, 83.4316593419652, 83.48495893367866, 83.53753966033901, 83.58940609925868, 83.6405628277502, 83.6910144231261, 83.74076546269887, 83.78982052378099, 83.83818418368502, 83.88586101972338, 83.93285560920867, 83.97917252945332, 84.02481635776984, 84.06979167147077, 84.11410304786862, 84.15775506427585, 84.200752298005, 84.24309932636858, 84.28480072667905, 84.32586107624894, 84.36628495239077, 84.40607693241702, 84.4452415936402, 84.48378351337287, 84.52170726892743, 84.55901743761642, 84.59571859675243, 84.63181532364783, 84.66731219561521, 84.70221378996708, 84.73652468401585, 84.77024945507418, 84.80339268045441, 84.83595893746917, 84.8679528034309, 84.89937885565215, 84.93024167144534, 84.96054582812307, 84.99029590299779, 85.019496473382, 85.04815211658823, 85.07626740992899, 85.10384693071676, 85.13089525626404, 85.15741696388338, 85.18341663088722, 85.20889883458813, 85.23386815229856, 85.25832916133105, 85.28228643899804, 85.30574456261216, 85.32870810948576, 85.35118165693147, 85.37316978226174, 85.39467706278909, 85.41570807582598, 85.43626739868502, 85.4563596086786, 85.47598928311923, 85.49516099931951, 85.51387933459183, 85.53214886624879, 85.54997417160284, 85.56735982796654, 85.58431041265233, 85.60083050297273, 85.61692467624023, 85.6325975097674, 85.64785358086665, 85.66269746685059, 85.67713374503164, 85.69116699272236, 85.70480178723518, 85.7180427058827, 85.73089432597733, 85.74336122483167, 85.75544797975816, 85.76715916806928, 85.77849936707766, 85.78947315409563, 85.80008510643584, 85.8103398014107, 85.82024181633277, 85.8297957285145, 85.83900611526848, 85.84787755390714, 85.85641462174301, 85.8646218960886, 85.87250395425637, 85.88006537355893, 85.88731073130866, 85.89424460481816, 85.90087157139983, 85.90719620836627, 85.91322309302994, 85.91895680270342, 85.92440191469909, 85.92956300632953, 85.93444465490721, 85.93905143774471, 85.94338793215441, 85.94745871544892, 85.9512683649407, 85.95482145794226, 85.95812257176614, 85.9611762837247, 85.96398717113068, 85.96655981129636, 85.9688987815344, 85.97100865915722, 85.97289402147739, 85.97455944580734, 85.97600950945962, 85.9772487897467, 85.97828186398114, 85.97911330947541, 85.979747703542, 85.98018962349347, 85.98044364664223, 85.98051435030085, 85.98040631178183, 85.9801241083977, 85.9796723174609, 85.97905551628394, 85.9782782821794, 85.97734519245974, 85.97626082443746, 85.97502975542501, 85.97365656273492, 85.97214582367981, 85.97050211557207, 85.96873001572423, 85.96683410144881, 85.96481895005827, 85.96268913886514, 85.96044924518192, 85.95810384632118, 85.9556575195953, 85.95311484231691, 85.95048039179842, 85.9477587453524, 85.94495448029126, 85.9420721739276, 85.93911640357389, 85.93609174654263, 85.93300278014637, 85.92985408169754, 85.92665022850868, 85.9233957978923, 85.92009536716093, 85.91675351362697, 85.91337481460305, 85.90996384740158, 85.90652518933517, 85.90306341771618, 85.89958310985726, 85.89608884307079, 85.89258519466937, 85.88907674196544, 85.88556806227162, 85.88206373290019, 85.87856833116383, 85.87508643437504, 85.87162261984632, 85.86818146489007, 85.86476754681887, 85.86138544294523, 85.85803973058161, 85.85473498704063, 85.85147578963468, 85.8482667156763, 85.845112342478, 85.84201724735222, 85.83898600761161, 85.8360232005685, 85.83313340353551, 85.83032119382513, 85.82759114874987, 85.8249478456221, 85.82239586175454, 85.8199397744596, 85.81758416104974, 85.81533359883748, 85.81319266513539, 85.81116593725584, 85.80925799251149, 85.80747340821476, 85.80581676167817, 85.80429263021422, 85.80290559113546, 85.80166022175435, 85.80056109938336, 85.79961280133504, 85.79881990492184, 85.79818698745636, 85.79771862625101, 85.79741939861846, 85.79729388187094, 85.79734665332121, 85.79758229028165, 85.79800537006481, 85.79862046998308, 85.79943216734905, 85.80044503947535, 85.80166366367429, 85.80309261725849, 85.80473647754037, 85.80659982183245, 85.80868722744732, 85.81100327169737, 85.81355253189521, 85.81633958535328, 85.81936900938412, 85.82264538130012, 85.82617327841395, 85.82995727803804, 85.83400195748489, 85.83831189406699, 85.84289166509684, 85.84774584788705, 85.85287901974995, 85.85829575799819, 85.86400063994422, 85.86999824290054, 85.87629314417963, 85.88288992109405, 85.88979315095624, 85.89700741107875, 85.90453727877413, 85.91238733135476, 85.92056214613326, 85.92906630042212, 85.93790437153372, 85.94708093678072, 85.95660057347557, 85.96646785893076, 85.97668737045878, 85.98726368537218, 85.99820138098342, 86.00950503460491, 86.0211792235494, 86.03322852512925, 86.04565751665702, 86.05847077544514, 86.07167287880607, 86.0852684040524, 86.09926192849669, 86.11365802945132, 86.12846128422895, 86.14367627014191, 86.15930756450275, 86.17535974462403, 86.19183738781818, 86.20874507139781, 86.22608737267542, 86.24386886896339, 86.26209413757427, 86.28076775582066, 86.29989430101496, 86.31947835046971, 86.33952448149746, 86.3600372714106, 86.38102129752174, 86.40248113714325, 86.42442136758781, 86.4468465661679, 86.4697613101958, 86.49317017698435, 86.51707774384586, 86.54148858809283, 86.56640728703782, 86.5918384179932, 86.61778655827176, 86.6442562851857, 86.6712521760477, 86.69877880817025, 86.72684075886572, 86.75544260544673, 86.78458892522583, 86.81428429551546, 86.84453329362812, 86.87534049687635, 86.90671048257254, 86.93864782802935, 86.97115711055922, 87.00424290747465, 87.03790979608807, 87.0721623537121, 87.10700515765923, 87.14244278524195, 87.17847981377271, 87.21512082056411, 87.25237038292848, 87.29023307817853, 87.3287134836266, 87.36781617658541, 87.40754573436722, 87.44790673428476, 87.48890375365029, 87.53054136977643, 87.57282415997578, 87.61575670156073, 87.65934357184382, 87.7035893481375, 87.74849860775443, 87.79407592800688, 87.84032588620757, 87.88725305966882, 87.93486202570331, 87.98315736162341, 88.03214364474174, 88.08182545237067, 88.13220736182281, 88.1832939504106, 88.23508979544665, 88.28759947424335, 88.34082756411318, 88.39477864236876, 88.44945728632253, 88.50486807328708, 88.56101558057465, 88.61790438549811, 88.67553906536973, 88.73392419750208, 88.79306435920758, 88.8529641277989, 88.91362808058842, 88.97506079488876, 89.0372668480123, 89.10025081727152, 89.16401727997898, 89.22857081344729, 89.29391599498884, 89.36005740191611, 89.42699961154166, 89.4947472011781, 89.5633047481377, 89.63267682973306, 89.70286802327679, 89.77388290608123, 89.84572605545902, 89.91840204872257, 89.99191546318441, 90.06627087615716, 90.1414728649532, 90.21752600688502, 90.29443487926507, 90.37220405940606, 90.45083812462032, 90.53034165222046, 90.61071921951886, 90.6919754038283, 90.77411478246093, 90.85714193272942, 90.94106143194621, 91.02587785742391, 91.11159578647495, 91.19821979641195, 91.28575446454728, 91.37420436819345, 91.46357408466305, 91.55386819126842, 91.64509126532239, 91.737247884137, 91.83034262502521, 91.92438006529916, 92.01936478227164, 92.11530135325502, 92.2121943555618, 92.31004836650449, 92.40886796339556, 92.50865772354759, 92.60942222427316, 92.71116604288461, 92.81389375669438, 92.91760994301525, 93.02231917915942, 93.12802604243957, 93.23473511016824, 93.34245095965788, 93.45117816822092, 93.56092131316997, 93.67168497181753, 93.78347372147603, 93.89629213945797, 94.01014480307596, 94.1250362896425, 94.2409711764699, 94.3579540408709, 94.47598946015786, 94.5950820116433, 94.71523627263981, 94.83645682045984, 94.95874823241583, 95.08211508582043, 95.20656195798604, 95.33209342622509, 95.4587140678503, 95.58642846017405, 95.71524118050884, 95.84515680616694, 95.97617991446141, 96.10831508270435, 96.2415668882082, 96.37593990828596, 96.5114387202495, 96.64806790141172, 96.78583202908494, 96.92473568058183, 97.06478343321471, 97.20597986429637, 97.348329551139, 97.49183707105517, 97.63650700135766, 97.78234391935867, 97.92935240237075, 98.07753702770636, 98.22690237267825, 98.37745301459877, 98.52919353078023, 98.68212849853553, 98.83626249517688, 98.99160009801695, 99.14814588436805, 99.30590443154297, 99.46488031685392, 99.62507811761357, 99.78650241113435, 99.94915777472882, 100.11304878570941, 100.2781800213889, 100.4445560590794, 100.61218147609357, 100.78106084974395, 100.9511987573431, 101.12259977620336, 101.29526848363749, 101.4692094569577, 101.64442727347655, 101.82092651050682, 101.99871174536061, 102.1777875553508, 102.3581585177895, 102.5398292099896, 102.72280420926343, 102.90708809292342, 103.09268543828223, 103.27960082265231, 103.4678388233461, 103.65740401767626, 103.848300982955, 104.04053429649521, 104.23410853560911, 104.42902827760925, 104.62529809980829, 104.82292257951856, 105.02190629405239, 105.22225382072277, 105.42396973684204, 105.6270586197224, 105.83152504667653, 106.03737359501709, 106.24460884205651, 106.45323536510723, 106.6632577414817, 106.87468054849246, 107.08750836345219, 107.3017457636732, 107.51739732646804, 107.73446762914928, 107.95296124902923, 108.17288276342067, 108.39423674963605, 108.61702778498768, 108.84126044678824, 109.06693931235004, 109.29406895898565, 109.52265396400794, 109.7526989047288, 109.98420835846134, 110.21718690251755, 110.45163911421032, 110.68756957085198, 110.92498284975495, 111.16388352823192, 111.4042761835952, 111.64616539315746, 111.88955573423114, 112.13445178412879, 112.38085812016284, 112.62877931964574, 112.87821995989016, 113.12918461820864, 113.3816778719134, 113.63570429831721, 113.8912684747324, 114.14837497847152, 114.40702838684736, 114.66723327717189, 114.9289942267579, 115.19231581291804, 115.45720261296454, 115.72365920421016, 115.99169016396725, 116.26130006954823, 116.53249349826577, 116.8052750274323, 117.0796492343605, 117.35562069636246, 117.63319399075097, 117.91237369483868, 118.1931643859378, 118.47557064136102, 118.75959703842075, 119.04524815442956, 119.33252856669976, 119.62144285254415, 119.91199558927492, 120.20419135420487, 120.49803472464642, 120.79353027791201, 121.09068259131409, 121.38949624216544, 121.68997580777814, 121.99212586546498, 122.29595099253852, 122.60145576631108, 122.9086447640952, 123.21752256320345, 123.52809374094825, 123.84036287464228, 124.15433454159786, 124.47001331912755, 124.78740378454388, 125.10651051515931, 125.42733808828628, 125.74989108123744, 126.07417407132534, 126.40019163586233, 126.72794835216094, 127.05744879753372, 127.38869754929324, 127.7216991847517, 128.05645828122198, 128.39297941601643, 128.73126716644748, 129.0713261098279, 129.4131608234698, 129.75677588468585, 130.1021758707888, 130.44936535909056, 130.79834892690457, 131.14913115154246, 131.50171661031715, 131.85610988054083, 132.2123155395263, 132.5703381645862, 132.93018233303263, 133.2918526221784, 133.6553536093358, 134.02068987181752, 134.38786598693588, 134.75688653200353, 135.12775608433316, 135.50047922123684, 135.87506052002726, 136.25150455801685, 136.62981591251827, 137.00999916084407, 137.3920588803066, 137.77599964821837, 138.16182604189208, 138.54954263863993, 138.9391540157746, 139.33066475060838, 139.7240794204543, 140.11940260262423, 140.51663887443118, 140.91579281318747, 141.31686899620541, 141.71987200079758, 142.12480640427674, 142.53167678395533, 142.94048771714557, 143.35124378116024, 143.76394955331176, 144.1786096109127, 144.59522853127527, 145.01381089171235, 145.43436126953628, 145.8568842420595, 146.28138438659477, 146.70786628045408, 147.13633450095057, 147.56679362539643, 147.999248231104, 148.43370289538615, 148.87016219555488, 149.30863070892332, 149.74911301280355, 150.19161368450813, 150.63613730134995, 151.08268844064088, 151.53127167969382, 151.9818915958212, 152.43455276633534, 152.88925976854904, 153.3460171797746, 153.8048295773246, 154.2657015385118, 154.7286376406483, 155.19364246104664, 155.6607205770195, 156.12987656587944, 156.60111500493866, 157.07444047150983, 157.54985754290573, 158.02737079643856, 158.50698480942077, 158.9887041591648, 159.47253342298364, 159.95847717818918, 160.44654000209476, 160.93672647201169, 161.42904116525364, 161.92348865913237, 162.42007353096045, 162.91880035805076, 163.41967371771563, 163.92269818726737, 164.42787834401878, 164.9352187652823, 165.44472402837033, 165.956398710595, 166.4702473892699, 166.9862746417063, 167.50448504521768, 168.02488317711567, 168.54747361471362, 169.07226093532353, 169.59924971625793, 170.1284445348296, 170.65984996835078, 171.19347059413388, 171.7293109894918, 172.26737573173676, 172.8076693981812, 173.35019656613798, 173.89496181291923, 174.4419697158375, 174.99122485220545, 175.54273179933574, 176.09649513454048, 176.65251943513232, 177.21080927842382, 177.7713692417273, 178.33420390235568, 178.89931783762114, 179.46671562483635, 180.03640184131365, 180.60838106436546, 181.1826578713049, 181.75923683944342, 182.33812254609455, 182.91931956856996, 183.502832484183, 184.08866587024562, 184.67682430407018, 185.26731236296956, 185.8601346242561, 186.45529566524255, 187.05280006324102, 187.65265239556442, 188.25485723952482, 188.85941917243503, 189.46634277160746, 190.07563261435456, 190.68729327798889, 191.3013293398231, 191.91774537716964, 192.5365459673406, 193.1577356876491, 193.78131911540737, 194.4073008279277, 195.0356854025227, 195.6664774165052, 196.29968144718742, 196.93530207188172, 197.57334386790097, 198.21381141255785, 198.85670928316398, 199.50204205703307, 200.1498143114763, 200.80003062380678, 201.45269557133764, 202.10781373138042, 202.76538968124822, 203.42542799825327, 204.087933259708, 204.75291004292552, 205.42036292521715]}],\n",
       "                        {\"font\": {\"color\": \"#F2F2F2\", \"family\": \"Courier\", \"size\": 10}, \"paper_bgcolor\": \"rgba(0,0,0,0)\", \"plot_bgcolor\": \"rgba(0,0,0,0)\", \"template\": {\"data\": {\"bar\": [{\"error_x\": {\"color\": \"#2a3f5f\"}, \"error_y\": {\"color\": \"#2a3f5f\"}, \"marker\": {\"line\": {\"color\": \"#E5ECF6\", \"width\": 0.5}}, \"type\": \"bar\"}], \"barpolar\": [{\"marker\": {\"line\": {\"color\": \"#E5ECF6\", \"width\": 0.5}}, \"type\": \"barpolar\"}], \"carpet\": [{\"aaxis\": {\"endlinecolor\": \"#2a3f5f\", \"gridcolor\": \"white\", \"linecolor\": \"white\", \"minorgridcolor\": \"white\", \"startlinecolor\": \"#2a3f5f\"}, \"baxis\": {\"endlinecolor\": \"#2a3f5f\", \"gridcolor\": \"white\", \"linecolor\": \"white\", \"minorgridcolor\": \"white\", \"startlinecolor\": \"#2a3f5f\"}, \"type\": \"carpet\"}], \"choropleth\": [{\"colorbar\": {\"outlinewidth\": 0, \"ticks\": \"\"}, \"type\": \"choropleth\"}], \"contour\": [{\"colorbar\": {\"outlinewidth\": 0, \"ticks\": \"\"}, \"colorscale\": [[0.0, \"#0d0887\"], [0.1111111111111111, \"#46039f\"], [0.2222222222222222, \"#7201a8\"], [0.3333333333333333, \"#9c179e\"], [0.4444444444444444, \"#bd3786\"], [0.5555555555555556, \"#d8576b\"], [0.6666666666666666, \"#ed7953\"], [0.7777777777777778, \"#fb9f3a\"], [0.8888888888888888, \"#fdca26\"], [1.0, \"#f0f921\"]], \"type\": \"contour\"}], \"contourcarpet\": [{\"colorbar\": {\"outlinewidth\": 0, \"ticks\": \"\"}, \"type\": \"contourcarpet\"}], \"heatmap\": [{\"colorbar\": {\"outlinewidth\": 0, \"ticks\": \"\"}, \"colorscale\": [[0.0, \"#0d0887\"], [0.1111111111111111, \"#46039f\"], [0.2222222222222222, \"#7201a8\"], [0.3333333333333333, \"#9c179e\"], [0.4444444444444444, \"#bd3786\"], [0.5555555555555556, \"#d8576b\"], [0.6666666666666666, \"#ed7953\"], [0.7777777777777778, \"#fb9f3a\"], [0.8888888888888888, \"#fdca26\"], [1.0, \"#f0f921\"]], \"type\": \"heatmap\"}], \"heatmapgl\": [{\"colorbar\": {\"outlinewidth\": 0, \"ticks\": \"\"}, \"colorscale\": [[0.0, \"#0d0887\"], [0.1111111111111111, \"#46039f\"], [0.2222222222222222, \"#7201a8\"], [0.3333333333333333, \"#9c179e\"], [0.4444444444444444, \"#bd3786\"], [0.5555555555555556, \"#d8576b\"], [0.6666666666666666, \"#ed7953\"], [0.7777777777777778, \"#fb9f3a\"], [0.8888888888888888, \"#fdca26\"], [1.0, \"#f0f921\"]], \"type\": \"heatmapgl\"}], \"histogram\": [{\"marker\": {\"colorbar\": {\"outlinewidth\": 0, \"ticks\": \"\"}}, \"type\": \"histogram\"}], \"histogram2d\": [{\"colorbar\": {\"outlinewidth\": 0, \"ticks\": \"\"}, \"colorscale\": [[0.0, \"#0d0887\"], [0.1111111111111111, \"#46039f\"], [0.2222222222222222, \"#7201a8\"], [0.3333333333333333, \"#9c179e\"], [0.4444444444444444, \"#bd3786\"], [0.5555555555555556, \"#d8576b\"], [0.6666666666666666, \"#ed7953\"], [0.7777777777777778, \"#fb9f3a\"], [0.8888888888888888, \"#fdca26\"], [1.0, \"#f0f921\"]], \"type\": \"histogram2d\"}], \"histogram2dcontour\": [{\"colorbar\": {\"outlinewidth\": 0, \"ticks\": \"\"}, \"colorscale\": [[0.0, \"#0d0887\"], [0.1111111111111111, \"#46039f\"], [0.2222222222222222, \"#7201a8\"], [0.3333333333333333, \"#9c179e\"], [0.4444444444444444, \"#bd3786\"], [0.5555555555555556, \"#d8576b\"], [0.6666666666666666, \"#ed7953\"], [0.7777777777777778, \"#fb9f3a\"], [0.8888888888888888, \"#fdca26\"], [1.0, \"#f0f921\"]], \"type\": \"histogram2dcontour\"}], \"mesh3d\": [{\"colorbar\": {\"outlinewidth\": 0, \"ticks\": \"\"}, \"type\": \"mesh3d\"}], \"parcoords\": [{\"line\": {\"colorbar\": {\"outlinewidth\": 0, \"ticks\": \"\"}}, \"type\": \"parcoords\"}], \"pie\": [{\"automargin\": true, \"type\": \"pie\"}], \"scatter\": [{\"marker\": {\"colorbar\": {\"outlinewidth\": 0, \"ticks\": \"\"}}, \"type\": \"scatter\"}], \"scatter3d\": [{\"line\": {\"colorbar\": {\"outlinewidth\": 0, \"ticks\": \"\"}}, \"marker\": {\"colorbar\": {\"outlinewidth\": 0, \"ticks\": \"\"}}, \"type\": \"scatter3d\"}], \"scattercarpet\": [{\"marker\": {\"colorbar\": {\"outlinewidth\": 0, \"ticks\": \"\"}}, \"type\": \"scattercarpet\"}], \"scattergeo\": [{\"marker\": {\"colorbar\": {\"outlinewidth\": 0, \"ticks\": \"\"}}, \"type\": \"scattergeo\"}], \"scattergl\": [{\"marker\": {\"colorbar\": {\"outlinewidth\": 0, \"ticks\": \"\"}}, \"type\": \"scattergl\"}], \"scattermapbox\": [{\"marker\": {\"colorbar\": {\"outlinewidth\": 0, \"ticks\": \"\"}}, \"type\": \"scattermapbox\"}], \"scatterpolar\": [{\"marker\": {\"colorbar\": {\"outlinewidth\": 0, \"ticks\": \"\"}}, \"type\": \"scatterpolar\"}], \"scatterpolargl\": [{\"marker\": {\"colorbar\": {\"outlinewidth\": 0, \"ticks\": \"\"}}, \"type\": \"scatterpolargl\"}], \"scatterternary\": [{\"marker\": {\"colorbar\": {\"outlinewidth\": 0, \"ticks\": \"\"}}, \"type\": \"scatterternary\"}], \"surface\": [{\"colorbar\": {\"outlinewidth\": 0, \"ticks\": \"\"}, \"colorscale\": [[0.0, \"#0d0887\"], [0.1111111111111111, \"#46039f\"], [0.2222222222222222, \"#7201a8\"], [0.3333333333333333, \"#9c179e\"], [0.4444444444444444, \"#bd3786\"], [0.5555555555555556, \"#d8576b\"], [0.6666666666666666, \"#ed7953\"], [0.7777777777777778, \"#fb9f3a\"], [0.8888888888888888, \"#fdca26\"], [1.0, \"#f0f921\"]], \"type\": \"surface\"}], \"table\": [{\"cells\": {\"fill\": {\"color\": \"#EBF0F8\"}, \"line\": {\"color\": \"white\"}}, \"header\": {\"fill\": {\"color\": \"#C8D4E3\"}, \"line\": {\"color\": \"white\"}}, \"type\": \"table\"}]}, \"layout\": {\"annotationdefaults\": {\"arrowcolor\": \"#2a3f5f\", \"arrowhead\": 0, \"arrowwidth\": 1}, \"coloraxis\": {\"colorbar\": {\"outlinewidth\": 0, \"ticks\": \"\"}}, \"colorscale\": {\"diverging\": [[0, \"#8e0152\"], [0.1, \"#c51b7d\"], [0.2, \"#de77ae\"], [0.3, \"#f1b6da\"], [0.4, \"#fde0ef\"], [0.5, \"#f7f7f7\"], [0.6, \"#e6f5d0\"], [0.7, \"#b8e186\"], [0.8, \"#7fbc41\"], [0.9, \"#4d9221\"], [1, \"#276419\"]], \"sequential\": [[0.0, \"#0d0887\"], [0.1111111111111111, \"#46039f\"], [0.2222222222222222, \"#7201a8\"], [0.3333333333333333, \"#9c179e\"], [0.4444444444444444, \"#bd3786\"], [0.5555555555555556, \"#d8576b\"], [0.6666666666666666, \"#ed7953\"], [0.7777777777777778, \"#fb9f3a\"], [0.8888888888888888, \"#fdca26\"], [1.0, \"#f0f921\"]], \"sequentialminus\": [[0.0, \"#0d0887\"], [0.1111111111111111, \"#46039f\"], [0.2222222222222222, \"#7201a8\"], [0.3333333333333333, \"#9c179e\"], [0.4444444444444444, \"#bd3786\"], [0.5555555555555556, \"#d8576b\"], [0.6666666666666666, \"#ed7953\"], [0.7777777777777778, \"#fb9f3a\"], [0.8888888888888888, \"#fdca26\"], [1.0, \"#f0f921\"]]}, \"colorway\": [\"#636efa\", \"#EF553B\", \"#00cc96\", \"#ab63fa\", \"#FFA15A\", \"#19d3f3\", \"#FF6692\", \"#B6E880\", \"#FF97FF\", \"#FECB52\"], \"font\": {\"color\": \"#2a3f5f\"}, \"geo\": {\"bgcolor\": \"white\", \"lakecolor\": \"white\", \"landcolor\": \"#E5ECF6\", \"showlakes\": true, \"showland\": true, \"subunitcolor\": \"white\"}, \"hoverlabel\": {\"align\": \"left\"}, \"hovermode\": \"closest\", \"mapbox\": {\"style\": \"light\"}, \"paper_bgcolor\": \"white\", \"plot_bgcolor\": \"#E5ECF6\", \"polar\": {\"angularaxis\": {\"gridcolor\": \"white\", \"linecolor\": \"white\", \"ticks\": \"\"}, \"bgcolor\": \"#E5ECF6\", \"radialaxis\": {\"gridcolor\": \"white\", \"linecolor\": \"white\", \"ticks\": \"\"}}, \"scene\": {\"xaxis\": {\"backgroundcolor\": \"#E5ECF6\", \"gridcolor\": \"white\", \"gridwidth\": 2, \"linecolor\": \"white\", \"showbackground\": true, \"ticks\": \"\", \"zerolinecolor\": \"white\"}, \"yaxis\": {\"backgroundcolor\": \"#E5ECF6\", \"gridcolor\": \"white\", \"gridwidth\": 2, \"linecolor\": \"white\", \"showbackground\": true, \"ticks\": \"\", \"zerolinecolor\": \"white\"}, \"zaxis\": {\"backgroundcolor\": \"#E5ECF6\", \"gridcolor\": \"white\", \"gridwidth\": 2, \"linecolor\": \"white\", \"showbackground\": true, \"ticks\": \"\", \"zerolinecolor\": \"white\"}}, \"shapedefaults\": {\"line\": {\"color\": \"#2a3f5f\"}}, \"ternary\": {\"aaxis\": {\"gridcolor\": \"white\", \"linecolor\": \"white\", \"ticks\": \"\"}, \"baxis\": {\"gridcolor\": \"white\", \"linecolor\": \"white\", \"ticks\": \"\"}, \"bgcolor\": \"#E5ECF6\", \"caxis\": {\"gridcolor\": \"white\", \"linecolor\": \"white\", \"ticks\": \"\"}}, \"title\": {\"x\": 0.05}, \"xaxis\": {\"automargin\": true, \"gridcolor\": \"white\", \"linecolor\": \"white\", \"ticks\": \"\", \"title\": {\"standoff\": 15}, \"zerolinecolor\": \"white\", \"zerolinewidth\": 2}, \"yaxis\": {\"automargin\": true, \"gridcolor\": \"white\", \"linecolor\": \"white\", \"ticks\": \"\", \"title\": {\"standoff\": 15}, \"zerolinecolor\": \"white\", \"zerolinewidth\": 2}}}, \"title\": {\"font\": {\"color\": \"#F2F2F2\", \"family\": \"Courier\", \"size\": 15}, \"text\": \"Meat consumption depending on the salary from 2004 to 2013\", \"x\": 0.5, \"xanchor\": \"center\", \"y\": 0.9, \"yanchor\": \"top\"}, \"xaxis\": {\"gridcolor\": \"rgba(153, 163, 164,0.5)\", \"range\": [8000, 60000], \"tickcolor\": \"#F2F2F2\", \"ticklen\": 10, \"ticks\": \"outside\", \"tickwidth\": 2, \"title\": {\"font\": {\"color\": \"#F2F2F2\", \"family\": \"Courier\", \"size\": 10}}}, \"yaxis\": {\"gridcolor\": \"rgba(153, 163, 164,0.5)\", \"range\": [30, 120], \"tickcolor\": \"#F2F2F2\", \"ticklen\": 10, \"ticks\": \"outside\", \"tickwidth\": 2, \"title\": {\"font\": {\"color\": \"#F2F2F2\", \"family\": \"Courier\", \"size\": 10}}}},\n",
       "                        {\"responsive\": true}\n",
       "                    ).then(function(){\n",
       "                            \n",
       "var gd = document.getElementById('3c0879cd-7829-49c7-9930-d9170df821db');\n",
       "var x = new MutationObserver(function (mutations, observer) {{\n",
       "        var display = window.getComputedStyle(gd).display;\n",
       "        if (!display || display === 'none') {{\n",
       "            console.log([gd, 'removed!']);\n",
       "            Plotly.purge(gd);\n",
       "            observer.disconnect();\n",
       "        }}\n",
       "}});\n",
       "\n",
       "// Listen for the removal of the full notebook cells\n",
       "var notebookContainer = gd.closest('#notebook-container');\n",
       "if (notebookContainer) {{\n",
       "    x.observe(notebookContainer, {childList: true});\n",
       "}}\n",
       "\n",
       "// Listen for the clearing of the current output cell\n",
       "var outputEl = gd.closest('.output');\n",
       "if (outputEl) {{\n",
       "    x.observe(outputEl, {childList: true});\n",
       "}}\n",
       "\n",
       "                        })\n",
       "                };\n",
       "                });\n",
       "            </script>\n",
       "        </div>"
      ]
     },
     "metadata": {},
     "output_type": "display_data"
    }
   ],
   "source": [
    "countries_both_nLUX_all = []\n",
    "for i in range(10):\n",
    "    countries_both_nLUX_all+=countries_both_nLUX\n",
    "fig3 = go.Figure()\n",
    "fig3.add_trace(go.Scatter(y=y, x=x, mode='markers', \n",
    "            marker=dict(\n",
    "                opacity=0.5,\n",
    "                size=16,\n",
    "                color='#FF4464',\n",
    "                line=dict(\n",
    "                width=1,\n",
    "                color='DarkSlateGrey')), name='Countries', text=countries_both_nLUX_all),)\n",
    "\n",
    "#fig3.add_trace(go.Scatter(x = t[:,0],y = yt2[:,0], name='Interpolation with d=2', marker_color = 'red', opacity=1,line=dict(color='firebrick', width=3, dash='dash')))\n",
    "fig3.add_trace(go.Scatter(x = t[:,0],y = yt1[:,0], name='Interpolation with d=1', marker_color = 'red', opacity=1,line=dict(color='LightGrey', width=3, dash='dashdot'), visible=True))\n",
    "fig3.add_trace(go.Scatter(x = t[:,0],y = yt3[:,0], name='Interpolation with d=3', marker_color = 'red', opacity=1,line=dict(color='#2980b9 ', width=3, dash='longdashdot')))\n",
    "#fig3.add_trace(go.Scatter(x = t[:,0],y = yt4[:,0], name='Interpolation with d=4', marker_color = 'red', opacity=1,line=dict(color='dodgerblue', width=3, dash='solid')))\n",
    "fig3.update_xaxes(range=[8000, 60000])\n",
    "fig3.update_yaxes(range=[30, 120])\n",
    "fig3.update_layout(title={\n",
    "        'text': \"Meat consumption depending on the salary from 2004 to 2013\",\n",
    "        'y':0.9,\n",
    "        'x':0.5,\n",
    "        'xanchor': 'center',\n",
    "        'yanchor': 'top'})\n",
    "\n",
    "change_config(fig3).show()"
   ]
  },
  {
   "cell_type": "markdown",
   "metadata": {},
   "source": [
    "### map"
   ]
  },
  {
   "cell_type": "code",
   "execution_count": 255,
   "metadata": {},
   "outputs": [],
   "source": [
    "def plotMapSlider(title,zMax,zMin,colorbarTitle,vWidth,vHeight):\n",
    "    data_slider = []\n",
    "    for ix in range(0,10):\n",
    "        visible = (ix==0)\n",
    "        data_one_year = dict(\n",
    "                            type='choropleth',\n",
    "                            locations=countries_both, # Spatial coordinates\n",
    "                            z = list(k_means_groups[ix]),\n",
    "                            locationmode = 'ISO-3', # set of locations match entries in `locations`\n",
    "                            autocolorscale=False,\n",
    "                            colorscale = \"YlGnBu\",\n",
    "                            zmax = zMax,\n",
    "                            zmin = zMin,\n",
    "                            visible=visible\n",
    "                            )\n",
    "        ix = ix+1\n",
    "        data_slider.append(data_one_year) \n",
    "    steps = []\n",
    "\n",
    "    for i in range(len(data_slider)):\n",
    "        step = dict(method='restyle',args=['visible', [False] * len(data_slider)],label=(str(int(2004+i))))\n",
    "        step['args'][1][i] = True\n",
    "        steps.append(step)\n",
    "\n",
    "    #create 'sliders' object from the 'steps' \n",
    "    sliders = [dict(active=0, pad={\"t\": 1}, steps=steps)] \n",
    "\n",
    "    layout = dict(geo=dict(scope='europe', bgcolor='rgba(0,0,0,0)'),sliders=sliders,autosize=False, width=vWidth,height=vHeight,dragmode = False,title={\n",
    "        'text': \"Evolution of the 3 clusters over the years\",\n",
    "        'y':0.9,\n",
    "        'x':0.5,\n",
    "        'xanchor': 'center',\n",
    "        'yanchor': 'top'},paper_bgcolor='rgba(0,0,0,0)',\n",
    "        plot_bgcolor='rgba(0,0,0,0)')\n",
    "    fig = dict(data=data_slider, layout=layout,) \n",
    "    #pio.show(fig)\n",
    "    #l = pio.from_json(json.dumps(fig))\n",
    "    pio.write_html(fig, 'couillespoilues3')"
   ]
  },
  {
   "cell_type": "code",
   "execution_count": 256,
   "metadata": {},
   "outputs": [],
   "source": [
    "plotMapSlider(\"Eurobarometer\",2,0,\" population thinks about it's one of the most important threat\",1300,900)"
   ]
  },
  {
   "cell_type": "code",
   "execution_count": 116,
   "metadata": {},
   "outputs": [
    {
     "data": {
      "text/plain": [
       "25"
      ]
     },
     "execution_count": 116,
     "metadata": {},
     "output_type": "execute_result"
    }
   ],
   "source": [
    "len(countries_both)"
   ]
  },
  {
   "cell_type": "code",
   "execution_count": null,
   "metadata": {},
   "outputs": [],
   "source": []
  }
 ],
 "metadata": {
  "kernelspec": {
   "display_name": "Python 3",
   "language": "python",
   "name": "python3"
  },
  "language_info": {
   "codemirror_mode": {
    "name": "ipython",
    "version": 3
   },
   "file_extension": ".py",
   "mimetype": "text/x-python",
   "name": "python",
   "nbconvert_exporter": "python",
   "pygments_lexer": "ipython3",
   "version": "3.6.9"
  }
 },
 "nbformat": 4,
 "nbformat_minor": 4
}
