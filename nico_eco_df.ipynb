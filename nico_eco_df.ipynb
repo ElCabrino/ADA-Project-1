{
 "cells": [
  {
   "cell_type": "code",
   "execution_count": null,
   "metadata": {},
   "outputs": [],
   "source": [
    "import numpy as np\n",
    "import pandas as pd\n",
    "import os\n",
    "import matplotlib.pyplot as plt\n",
    "import plotly.graph_objects as go\n",
    "import plotly.offline as pyo\n",
    "from scipy import signal\n",
    "import scipy.cluster.hierarchy as spc\n",
    "from pandas import read_excel\n",
    "from ipywidgets import widgets\n",
    "from ipywidgets import interactive, HBox, VBox\n",
    "import plotly.io as pio"
   ]
  },
  {
   "cell_type": "code",
   "execution_count": null,
   "metadata": {},
   "outputs": [],
   "source": [
    "country_list_iso = [\"FRA\",\"BEL\",\"BGR\",\"CYP\",\"CZE\",\"DEU\",\"DNK\",\"EST\",\"ESP\",\"FIN\",\"AUT\",\"GBR\",\"GRC\",\"HRV\",\"HUN\",\"IRL\",\"ITA\",\"LTU\",\"LUX\",\"LVA\",\"MLT\",\"NLD\",\"POL\",\"PRT\",\"ROU\",\"SWE\",\"SVN\",\"SVK\"]\n",
    "\n",
    "PATH_Q = \"data_nico_quarterly/\"\n",
    "PATH_H = \"data_nico_household/\"\n",
    "names_q = [name for name in os.listdir(PATH_Q) if \".csv\" in name]\n",
    "names_h = [name for name in os.listdir(PATH_H) if \".csv\" in name]"
   ]
  },
  {
   "cell_type": "code",
   "execution_count": null,
   "metadata": {},
   "outputs": [],
   "source": [
    "def proc_cols(df, value_name):\n",
    "    df = df.rename(columns={\"Value\": value_name})\n",
    "    return df.drop(['INDICATOR', 'SUBJECT','MEASURE','FREQUENCY','Flag Codes'], axis=1)\n",
    "\n",
    "def generate_df(csv_names,path):\n",
    "    df = None\n",
    "    str_end = len(\".csv\")\n",
    "    for name in csv_names:\n",
    "        if df is None:\n",
    "            df = proc_cols(pd.read_csv(path+name),name[:-str_end])\n",
    "        else:\n",
    "            new_df = proc_cols(pd.read_csv(path+name),name[:-str_end])\n",
    "            df = pd.merge(df, new_df,  how='outer', left_on=['LOCATION','TIME'], right_on = ['LOCATION','TIME'])\n",
    "    return df\n",
    "\n",
    "def df_date_format(df):\n",
    "    return df.replace({'-Q1':'-01-01','-Q2':'-04-01','-Q3':'-07-01','-Q4':'-10-01'}, regex=True)\n",
    "\n",
    "#adds date format and only starting from 2004\n",
    "def df_date_format_yearly(df):\n",
    "    df = df[df[\"TIME\"] >= 2004].copy() #copy for warning\n",
    "    df[\"TIME\"] = df[\"TIME\"].astype(str) + \"-01-01\"\n",
    "    return df"
   ]
  },
  {
   "cell_type": "markdown",
   "metadata": {},
   "source": [
    "### quarterly unemployment and GDP growth"
   ]
  },
  {
   "cell_type": "code",
   "execution_count": null,
   "metadata": {},
   "outputs": [],
   "source": [
    "#https://data.oecd.org/gdp/gross-domestic-product-gdp.htm\n",
    "#https://data.oecd.org/unemp/harmonised-unemployment-rate-hur.htm#indicator-chart\n",
    "df = generate_df(names_q,PATH_Q)"
   ]
  },
  {
   "cell_type": "code",
   "execution_count": null,
   "metadata": {},
   "outputs": [],
   "source": [
    "df.head()"
   ]
  },
  {
   "cell_type": "code",
   "execution_count": null,
   "metadata": {},
   "outputs": [],
   "source": [
    "df_hur = df_date_format(df[['LOCATION','TIME','HUR']])\n",
    "df_gdp = df_date_format(df[['LOCATION','TIME','GDP_growth']])"
   ]
  },
  {
   "cell_type": "code",
   "execution_count": null,
   "metadata": {},
   "outputs": [],
   "source": [
    "len(df_gdp['LOCATION'].unique())"
   ]
  },
  {
   "cell_type": "code",
   "execution_count": null,
   "metadata": {},
   "outputs": [],
   "source": [
    "df_hur = df_hur.pivot_table(values='HUR', index='TIME', columns='LOCATION')\n",
    "df_gdp = df_gdp.pivot_table(values='GDP_growth', index='TIME', columns='LOCATION')"
   ]
  },
  {
   "cell_type": "code",
   "execution_count": null,
   "metadata": {},
   "outputs": [],
   "source": [
    "df_hur.head()"
   ]
  },
  {
   "cell_type": "code",
   "execution_count": null,
   "metadata": {},
   "outputs": [],
   "source": [
    "def plot_lines(df,value_smooth):\n",
    "    fig = go.Figure()\n",
    "    for x in df.columns:\n",
    "        if value_smooth == 0:\n",
    "            fig.add_trace(go.Scatter(x=df.index, y=df[x], mode='lines',name=x))\n",
    "        else:\n",
    "            fig.add_trace(go.Scatter(x=df.index, y=signal.savgol_filter(df[x],value_smooth, 3), mode='lines',name=x))\n",
    "    return fig"
   ]
  },
  {
   "cell_type": "code",
   "execution_count": null,
   "metadata": {},
   "outputs": [],
   "source": [
    "len(df_hur.iloc[1])"
   ]
  },
  {
   "cell_type": "code",
   "execution_count": null,
   "metadata": {},
   "outputs": [],
   "source": [
    "plot_lines(df_hur,0).show()\n",
    "plot_lines(df_gdp,0).show()"
   ]
  },
  {
   "cell_type": "code",
   "execution_count": null,
   "metadata": {},
   "outputs": [],
   "source": [
    "df_corr_hur = df_hur.corr(method ='spearman')\n",
    "df_corr_gdp = df_gdp.corr(method ='spearman')"
   ]
  },
  {
   "cell_type": "code",
   "execution_count": null,
   "metadata": {},
   "outputs": [],
   "source": [
    "df_corr_hur.shape"
   ]
  },
  {
   "cell_type": "code",
   "execution_count": null,
   "metadata": {},
   "outputs": [],
   "source": [
    "def getIdx(corr,variableTweak):\n",
    "    pdist = spc.distance.pdist(corr)\n",
    "    linkage = spc.linkage(pdist, method='complete')\n",
    "    idx = spc.fcluster(linkage, variableTweak * pdist.max(), 'distance')\n",
    "    return idx\n",
    "\n",
    "def getGroup(number,idx):\n",
    "    group = []\n",
    "    for i in range(0,len(idx)):\n",
    "        x = idx[i]\n",
    "        if x == number:\n",
    "            group.append(i)\n",
    "    return group\n",
    "\n",
    "\n",
    "def plotDifferentGroup(idx,dfPlot,indicePlot,val):\n",
    "    for i in range(1,max(idx)+1):\n",
    "        df1 = dfPlot[dfPlot.columns[getGroup(i,idx)]]\n",
    "        plot_lines(df1,indicePlot).update_layout(title_text = 'Visualization of {} for group '.format(val)+str(i),).show()\n",
    "\n",
    "#values to plot 4 groups\n",
    "idx = getIdx(df_corr_hur,0.65)\n",
    "# idx = getIdx(df_corr_gdp,0.8)"
   ]
  },
  {
   "cell_type": "code",
   "execution_count": null,
   "metadata": {},
   "outputs": [],
   "source": [
    "plotDifferentGroup(idx,df_hur,0,\"Unemployment\")\n",
    "# plotDifferentGroup(idx,df_gdp,0,\"Gdp growth\")"
   ]
  },
  {
   "cell_type": "code",
   "execution_count": null,
   "metadata": {},
   "outputs": [],
   "source": [
    "def plotMapStatic(idx, val):\n",
    "    fig = go.Figure(data=go.Choropleth(\n",
    "        locations=country_list_iso, # Spatial coordinates\n",
    "        z = idx, # Data to be color-coded\n",
    "        locationmode = 'ISO-3', # set of locations match entries in `locations`\n",
    "        #colorscale=[            [0, \"rgb(12,140,113)\"],[0.5, \"rgb(12,140,113)\"],[0.5, \"rgb(26,188,156)\"],[1, \"rgb(26,188,156)\"]],\n",
    "        colorscale=\"Blugrn\",\n",
    "        colorbar_title = \"Millions USD\",\n",
    "        showscale = False,\n",
    "    ))\n",
    "\n",
    "    fig.update_layout(\n",
    "        title_text = 'Grouping countries according to similarity in {}'.format(val),\n",
    "        geo_scope='europe', # limite map scope to USA\n",
    "        autosize=False,\n",
    "        width=800,\n",
    "        height=800,\n",
    "        dragmode = False,\n",
    "    )\n",
    "    fig.show()\n",
    "\n",
    "idx2=idx.copy()  \n",
    "plotMapStatic(idx2,'unemployment')\n",
    "# plotMapStatic(idx2,'GDP growth')"
   ]
  },
  {
   "cell_type": "markdown",
   "metadata": {},
   "source": [
    "### yearly household information"
   ]
  },
  {
   "cell_type": "code",
   "execution_count": null,
   "metadata": {},
   "outputs": [],
   "source": [
    "#https://data.oecd.org/hha/household-disposable-income.htm#indicator-chart\n",
    "df = generate_df(names_h,PATH_H)"
   ]
  },
  {
   "cell_type": "code",
   "execution_count": null,
   "metadata": {},
   "outputs": [],
   "source": [
    "df = df_date_format_yearly(df)"
   ]
  },
  {
   "cell_type": "code",
   "execution_count": null,
   "metadata": {},
   "outputs": [],
   "source": [
    "df"
   ]
  },
  {
   "cell_type": "code",
   "execution_count": null,
   "metadata": {},
   "outputs": [],
   "source": []
  },
  {
   "cell_type": "code",
   "execution_count": null,
   "metadata": {},
   "outputs": [],
   "source": []
  },
  {
   "cell_type": "markdown",
   "metadata": {},
   "source": [
    "# ICI TINMAR"
   ]
  },
  {
   "cell_type": "code",
   "execution_count": null,
   "metadata": {},
   "outputs": [],
   "source": [
    "#split europe:"
   ]
  },
  {
   "cell_type": "code",
   "execution_count": null,
   "metadata": {},
   "outputs": [],
   "source": [
    "df2 = pd.read_csv('PIB28.csv')\n",
    "df2['LOCATION'].unique().size"
   ]
  },
  {
   "cell_type": "code",
   "execution_count": null,
   "metadata": {},
   "outputs": [],
   "source": [
    "#select column name\n",
    "column = \"Value\"\n",
    "df_debt = df2[[\"LOCATION\",\"TIME\",column]].pivot_table(values=column, index='TIME', columns ='LOCATION')#values=column, index='TIME', columns='LOCATION')"
   ]
  },
  {
   "cell_type": "code",
   "execution_count": null,
   "metadata": {},
   "outputs": [],
   "source": [
    "df2\n",
    "#df_debt['LOCATIONS'].unique()#[df_debt['LOCATION']=='ESP']"
   ]
  },
  {
   "cell_type": "code",
   "execution_count": null,
   "metadata": {},
   "outputs": [],
   "source": [
    "from sklearn.cluster import KMeans"
   ]
  },
  {
   "cell_type": "code",
   "execution_count": null,
   "metadata": {},
   "outputs": [],
   "source": [
    "def plotMapStatic(idx, country_list, title):\n",
    "    fig = go.Figure(data=go.Choropleth(\n",
    "        locations=country_list, # Spatial coordinates\n",
    "        z = idx, # Data to be color-coded\n",
    "        locationmode = 'ISO-3', # set of locations match entries in `locations`\n",
    "        #colorscale=[            [0, \"rgb(12,140,113)\"],[0.5, \"rgb(12,140,113)\"],[0.5, \"rgb(26,188,156)\"],[1, \"rgb(26,188,156)\"]],\n",
    "        colorscale=\"Blugrn\",\n",
    "        colorbar_title = \"Millions USD\",\n",
    "        showscale = False,\n",
    "    ))\n",
    "\n",
    "    fig.update_layout(\n",
    "        title_text = title,\n",
    "        geo_scope='europe', # limite map scope to USA\n",
    "        autosize=False,\n",
    "        width=800,\n",
    "        height=800,\n",
    "        dragmode = False,\n",
    "    )\n",
    "    fig.show()\n",
    "\n",
    "def plot_k_mean_temporal_data(df, title, n_clusters=3):\n",
    "    country_list = df.columns.values\n",
    "    k_means = KMeans(n_clusters=n_clusters, random_state=0).fit(df.transpose().values)\n",
    "    groups = k_means.predict(df.transpose().values)\n",
    "    #print(groups)\n",
    "    #print(len(groups))\n",
    "    #print(len(country_list))\n",
    "    plotMapStatic(groups, country_list, title)\n",
    "    return groups"
   ]
  },
  {
   "cell_type": "code",
   "execution_count": null,
   "metadata": {},
   "outputs": [],
   "source": [
    "df_debt.columns.values#.size"
   ]
  },
  {
   "cell_type": "code",
   "execution_count": null,
   "metadata": {},
   "outputs": [],
   "source": [
    "plot_k_mean_temporal_data(df_debt, 'lol',3)"
   ]
  },
  {
   "cell_type": "code",
   "execution_count": null,
   "metadata": {},
   "outputs": [],
   "source": []
  },
  {
   "cell_type": "code",
   "execution_count": null,
   "metadata": {},
   "outputs": [],
   "source": []
  },
  {
   "cell_type": "code",
   "execution_count": null,
   "metadata": {},
   "outputs": [],
   "source": []
  },
  {
   "cell_type": "code",
   "execution_count": null,
   "metadata": {},
   "outputs": [],
   "source": []
  },
  {
   "cell_type": "code",
   "execution_count": null,
   "metadata": {},
   "outputs": [],
   "source": []
  },
  {
   "cell_type": "code",
   "execution_count": null,
   "metadata": {},
   "outputs": [],
   "source": []
  },
  {
   "cell_type": "code",
   "execution_count": null,
   "metadata": {},
   "outputs": [],
   "source": []
  },
  {
   "cell_type": "code",
   "execution_count": null,
   "metadata": {},
   "outputs": [],
   "source": []
  },
  {
   "cell_type": "code",
   "execution_count": null,
   "metadata": {},
   "outputs": [],
   "source": []
  },
  {
   "cell_type": "code",
   "execution_count": null,
   "metadata": {},
   "outputs": [],
   "source": []
  },
  {
   "cell_type": "code",
   "execution_count": null,
   "metadata": {},
   "outputs": [],
   "source": [
    "#select column name\n",
    "column = \"House_net_worth\"\n",
    "df_debt = df[[\"LOCATION\",\"TIME\",column]].pivot_table(values=column, index='TIME', columns='LOCATION')"
   ]
  },
  {
   "cell_type": "code",
   "execution_count": null,
   "metadata": {},
   "outputs": [],
   "source": []
  },
  {
   "cell_type": "code",
   "execution_count": null,
   "metadata": {},
   "outputs": [],
   "source": [
    "plot_lines(df_debt,0).show()"
   ]
  },
  {
   "cell_type": "code",
   "execution_count": null,
   "metadata": {},
   "outputs": [],
   "source": [
    "df_corr_debt = df_debt.corr(method ='spearman')"
   ]
  },
  {
   "cell_type": "code",
   "execution_count": null,
   "metadata": {},
   "outputs": [],
   "source": [
    "df_corr_debt = df_debt.corr(method ='spearman')\n",
    "idx = getIdx(df_corr_debt,0.8)\n",
    "plotDifferentGroup(idx,df_debt,0,'household debt')"
   ]
  },
  {
   "cell_type": "code",
   "execution_count": null,
   "metadata": {},
   "outputs": [],
   "source": [
    "idx2=idx.copy()  \n",
    "plotMapStatic(idx2,'household debt')"
   ]
  },
  {
   "cell_type": "code",
   "execution_count": null,
   "metadata": {},
   "outputs": [],
   "source": []
  }
 ],
 "metadata": {
  "kernelspec": {
   "display_name": "Python 3",
   "language": "python",
   "name": "python3"
  },
  "language_info": {
   "codemirror_mode": {
    "name": "ipython",
    "version": 3
   },
   "file_extension": ".py",
   "mimetype": "text/x-python",
   "name": "python",
   "nbconvert_exporter": "python",
   "pygments_lexer": "ipython3",
   "version": "3.6.9"
  }
 },
 "nbformat": 4,
 "nbformat_minor": 4
}
