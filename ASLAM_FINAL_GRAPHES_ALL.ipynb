{
 "cells": [
  {
   "cell_type": "code",
   "execution_count": 1,
   "metadata": {},
   "outputs": [],
   "source": [
    "import pandas as pd\n",
    "import numpy as np\n",
    "import matplotlib.pyplot as plt\n",
    "import plotly.express as px\n",
    "from sklearn import preprocessing\n",
    "from sklearn.preprocessing import minmax_scale\n",
    "\n",
    "from pytrends.request import TrendReq\n",
    "import matplotlib.pyplot as plt\n",
    "import pandas as pd\n",
    "import plotly.graph_objects as go\n",
    "import plotly.offline as pyo\n",
    "from scipy import signal\n",
    "import scipy.cluster.hierarchy as spc\n",
    "from pandas import read_excel\n",
    "from ipywidgets import widgets\n",
    "from ipywidgets import interactive, HBox, VBox\n",
    "import plotly.io as pio\n",
    "import seaborn as sns\n",
    "import numpy as np\n",
    "import os\n",
    "import plotly.express as px\n",
    "from sklearn.cluster import KMeans\n",
    "from plotly.graph_objs import *\n",
    "from plotly.subplots import make_subplots"
   ]
  },
  {
   "cell_type": "code",
   "execution_count": 7,
   "metadata": {},
   "outputs": [],
   "source": [
    "path = 'data_aslam/'"
   ]
  },
  {
   "cell_type": "code",
   "execution_count": 4,
   "metadata": {},
   "outputs": [],
   "source": [
    "def change_config(fig):\n",
    "    '''This function helps us to format graphs in order to fit with\n",
    "    html pages'''\n",
    "    # params \n",
    "    # title and labels\n",
    "    size_title = 15 \n",
    "    size_axes_labels = 14\n",
    "    family = 'Courier' # font \n",
    "    color = '#F2F2F2'\n",
    "    #color = '#444'\n",
    "    \n",
    "    \n",
    "    # plot config\n",
    "    width = 1300\n",
    "    height = 600\n",
    "    \n",
    "    # configuration of the axes (ticks for each label on the axes)\n",
    "    ticks = 'outside'\n",
    "    tickwidth = 2 \n",
    "    tickcolor = '#F2F2F2'\n",
    "    ticklen = 10\n",
    "    \n",
    "    # grid color \n",
    "    grid_color_x = 'red'\n",
    "    grid_color_y = 'rgba(0,0,0,0)'\n",
    "    \n",
    "    \n",
    "    # font for title and labels \n",
    "    font_title = dict(size=size_title, family=family, color=color)\n",
    "    font_axes_labels =  dict(size=size_axes_labels, family=family, color=color)\n",
    "    \n",
    "    \n",
    "    # remove background and configure size\n",
    "    layout = Layout(\n",
    "        paper_bgcolor='rgba(0,0,0,0)',\n",
    "        plot_bgcolor='rgba(0,0,0,0)',\n",
    "        font = font_axes_labels,\n",
    "        titlefont = font_title,\n",
    "        #height=height,\n",
    "        #width=width,\n",
    "    )\n",
    "    \n",
    "    fig.update_layout(layout)\n",
    "    \n",
    "    # update the axes configuration\n",
    "    fig.update_xaxes(\n",
    "        ticks = ticks,\n",
    "        tickwidth = tickwidth, \n",
    "        tickcolor = tickcolor,\n",
    "        ticklen = ticklen,\n",
    "        title_font = font_axes_labels,\n",
    "        #gridcolor = grid_color_x\n",
    "    )\n",
    "    \n",
    "    fig.update_yaxes(\n",
    "        ticks = ticks,\n",
    "        tickwidth = tickwidth, \n",
    "        tickcolor = tickcolor,\n",
    "        ticklen = ticklen,\n",
    "        title_font = font_axes_labels, \n",
    "        gridcolor = grid_color_y,\n",
    "        #gridwidth=None\n",
    "    )\n",
    "    \n",
    "    return fig\n",
    " \n",
    "    "
   ]
  },
  {
   "cell_type": "markdown",
   "metadata": {},
   "source": [
    "# INTRODUCTION "
   ]
  },
  {
   "cell_type": "markdown",
   "metadata": {},
   "source": [
    "## Meat consumption graph from 2004 to 2013 (EU 28 Countries mean)"
   ]
  },
  {
   "cell_type": "code",
   "execution_count": 2,
   "metadata": {},
   "outputs": [],
   "source": [
    "df = pd.read_csv('meat_consumption_per_habita_2004_2013.csv')\n",
    "mean_per_year = df.groupby(['years'])['consumption per habita'].mean()"
   ]
  },
  {
   "cell_type": "code",
   "execution_count": 6,
   "metadata": {},
   "outputs": [
    {
     "data": {
      "application/vnd.plotly.v1+json": {
       "config": {
        "plotlyServerURL": "https://plot.ly"
       },
       "data": [
        {
         "histfunc": "avg",
         "marker": {
          "color": "#FF4464"
         },
         "nbinsx": 100,
         "type": "histogram",
         "x": [
          2004,
          2005,
          2006,
          2007,
          2008,
          2009,
          2010,
          2011,
          2012,
          2013
         ],
         "xaxis": "x",
         "y": [
          79.94184178541727,
          81.58614714449638,
          81.05390524423386,
          82.57324253621002,
          81.54169140548751,
          80.8241444144794,
          79.87375075881826,
          79.60505492303508,
          80.2525112294266,
          79.4796006080886
         ],
         "yaxis": "y"
        }
       ],
       "layout": {
        "autosize": true,
        "font": {
         "color": "#F2F2F2",
         "family": "Courier",
         "size": 14
        },
        "paper_bgcolor": "rgba(0, 0, 0, 0)",
        "plot_bgcolor": "rgba(0, 0, 0, 0)",
        "template": {
         "data": {
          "bar": [
           {
            "error_x": {
             "color": "#2a3f5f"
            },
            "error_y": {
             "color": "#2a3f5f"
            },
            "marker": {
             "line": {
              "color": "#E5ECF6",
              "width": 0.5
             }
            },
            "type": "bar"
           }
          ],
          "barpolar": [
           {
            "marker": {
             "line": {
              "color": "#E5ECF6",
              "width": 0.5
             }
            },
            "type": "barpolar"
           }
          ],
          "carpet": [
           {
            "aaxis": {
             "endlinecolor": "#2a3f5f",
             "gridcolor": "white",
             "linecolor": "white",
             "minorgridcolor": "white",
             "startlinecolor": "#2a3f5f"
            },
            "baxis": {
             "endlinecolor": "#2a3f5f",
             "gridcolor": "white",
             "linecolor": "white",
             "minorgridcolor": "white",
             "startlinecolor": "#2a3f5f"
            },
            "type": "carpet"
           }
          ],
          "choropleth": [
           {
            "colorbar": {
             "outlinewidth": 0,
             "ticks": ""
            },
            "type": "choropleth"
           }
          ],
          "contour": [
           {
            "colorbar": {
             "outlinewidth": 0,
             "ticks": ""
            },
            "colorscale": [
             [
              0,
              "#0d0887"
             ],
             [
              0.1111111111111111,
              "#46039f"
             ],
             [
              0.2222222222222222,
              "#7201a8"
             ],
             [
              0.3333333333333333,
              "#9c179e"
             ],
             [
              0.4444444444444444,
              "#bd3786"
             ],
             [
              0.5555555555555556,
              "#d8576b"
             ],
             [
              0.6666666666666666,
              "#ed7953"
             ],
             [
              0.7777777777777778,
              "#fb9f3a"
             ],
             [
              0.8888888888888888,
              "#fdca26"
             ],
             [
              1,
              "#f0f921"
             ]
            ],
            "type": "contour"
           }
          ],
          "contourcarpet": [
           {
            "colorbar": {
             "outlinewidth": 0,
             "ticks": ""
            },
            "type": "contourcarpet"
           }
          ],
          "heatmap": [
           {
            "colorbar": {
             "outlinewidth": 0,
             "ticks": ""
            },
            "colorscale": [
             [
              0,
              "#0d0887"
             ],
             [
              0.1111111111111111,
              "#46039f"
             ],
             [
              0.2222222222222222,
              "#7201a8"
             ],
             [
              0.3333333333333333,
              "#9c179e"
             ],
             [
              0.4444444444444444,
              "#bd3786"
             ],
             [
              0.5555555555555556,
              "#d8576b"
             ],
             [
              0.6666666666666666,
              "#ed7953"
             ],
             [
              0.7777777777777778,
              "#fb9f3a"
             ],
             [
              0.8888888888888888,
              "#fdca26"
             ],
             [
              1,
              "#f0f921"
             ]
            ],
            "type": "heatmap"
           }
          ],
          "heatmapgl": [
           {
            "colorbar": {
             "outlinewidth": 0,
             "ticks": ""
            },
            "colorscale": [
             [
              0,
              "#0d0887"
             ],
             [
              0.1111111111111111,
              "#46039f"
             ],
             [
              0.2222222222222222,
              "#7201a8"
             ],
             [
              0.3333333333333333,
              "#9c179e"
             ],
             [
              0.4444444444444444,
              "#bd3786"
             ],
             [
              0.5555555555555556,
              "#d8576b"
             ],
             [
              0.6666666666666666,
              "#ed7953"
             ],
             [
              0.7777777777777778,
              "#fb9f3a"
             ],
             [
              0.8888888888888888,
              "#fdca26"
             ],
             [
              1,
              "#f0f921"
             ]
            ],
            "type": "heatmapgl"
           }
          ],
          "histogram": [
           {
            "marker": {
             "colorbar": {
              "outlinewidth": 0,
              "ticks": ""
             }
            },
            "type": "histogram"
           }
          ],
          "histogram2d": [
           {
            "colorbar": {
             "outlinewidth": 0,
             "ticks": ""
            },
            "colorscale": [
             [
              0,
              "#0d0887"
             ],
             [
              0.1111111111111111,
              "#46039f"
             ],
             [
              0.2222222222222222,
              "#7201a8"
             ],
             [
              0.3333333333333333,
              "#9c179e"
             ],
             [
              0.4444444444444444,
              "#bd3786"
             ],
             [
              0.5555555555555556,
              "#d8576b"
             ],
             [
              0.6666666666666666,
              "#ed7953"
             ],
             [
              0.7777777777777778,
              "#fb9f3a"
             ],
             [
              0.8888888888888888,
              "#fdca26"
             ],
             [
              1,
              "#f0f921"
             ]
            ],
            "type": "histogram2d"
           }
          ],
          "histogram2dcontour": [
           {
            "colorbar": {
             "outlinewidth": 0,
             "ticks": ""
            },
            "colorscale": [
             [
              0,
              "#0d0887"
             ],
             [
              0.1111111111111111,
              "#46039f"
             ],
             [
              0.2222222222222222,
              "#7201a8"
             ],
             [
              0.3333333333333333,
              "#9c179e"
             ],
             [
              0.4444444444444444,
              "#bd3786"
             ],
             [
              0.5555555555555556,
              "#d8576b"
             ],
             [
              0.6666666666666666,
              "#ed7953"
             ],
             [
              0.7777777777777778,
              "#fb9f3a"
             ],
             [
              0.8888888888888888,
              "#fdca26"
             ],
             [
              1,
              "#f0f921"
             ]
            ],
            "type": "histogram2dcontour"
           }
          ],
          "mesh3d": [
           {
            "colorbar": {
             "outlinewidth": 0,
             "ticks": ""
            },
            "type": "mesh3d"
           }
          ],
          "parcoords": [
           {
            "line": {
             "colorbar": {
              "outlinewidth": 0,
              "ticks": ""
             }
            },
            "type": "parcoords"
           }
          ],
          "pie": [
           {
            "automargin": true,
            "type": "pie"
           }
          ],
          "scatter": [
           {
            "marker": {
             "colorbar": {
              "outlinewidth": 0,
              "ticks": ""
             }
            },
            "type": "scatter"
           }
          ],
          "scatter3d": [
           {
            "line": {
             "colorbar": {
              "outlinewidth": 0,
              "ticks": ""
             }
            },
            "marker": {
             "colorbar": {
              "outlinewidth": 0,
              "ticks": ""
             }
            },
            "type": "scatter3d"
           }
          ],
          "scattercarpet": [
           {
            "marker": {
             "colorbar": {
              "outlinewidth": 0,
              "ticks": ""
             }
            },
            "type": "scattercarpet"
           }
          ],
          "scattergeo": [
           {
            "marker": {
             "colorbar": {
              "outlinewidth": 0,
              "ticks": ""
             }
            },
            "type": "scattergeo"
           }
          ],
          "scattergl": [
           {
            "marker": {
             "colorbar": {
              "outlinewidth": 0,
              "ticks": ""
             }
            },
            "type": "scattergl"
           }
          ],
          "scattermapbox": [
           {
            "marker": {
             "colorbar": {
              "outlinewidth": 0,
              "ticks": ""
             }
            },
            "type": "scattermapbox"
           }
          ],
          "scatterpolar": [
           {
            "marker": {
             "colorbar": {
              "outlinewidth": 0,
              "ticks": ""
             }
            },
            "type": "scatterpolar"
           }
          ],
          "scatterpolargl": [
           {
            "marker": {
             "colorbar": {
              "outlinewidth": 0,
              "ticks": ""
             }
            },
            "type": "scatterpolargl"
           }
          ],
          "scatterternary": [
           {
            "marker": {
             "colorbar": {
              "outlinewidth": 0,
              "ticks": ""
             }
            },
            "type": "scatterternary"
           }
          ],
          "surface": [
           {
            "colorbar": {
             "outlinewidth": 0,
             "ticks": ""
            },
            "colorscale": [
             [
              0,
              "#0d0887"
             ],
             [
              0.1111111111111111,
              "#46039f"
             ],
             [
              0.2222222222222222,
              "#7201a8"
             ],
             [
              0.3333333333333333,
              "#9c179e"
             ],
             [
              0.4444444444444444,
              "#bd3786"
             ],
             [
              0.5555555555555556,
              "#d8576b"
             ],
             [
              0.6666666666666666,
              "#ed7953"
             ],
             [
              0.7777777777777778,
              "#fb9f3a"
             ],
             [
              0.8888888888888888,
              "#fdca26"
             ],
             [
              1,
              "#f0f921"
             ]
            ],
            "type": "surface"
           }
          ],
          "table": [
           {
            "cells": {
             "fill": {
              "color": "#EBF0F8"
             },
             "line": {
              "color": "white"
             }
            },
            "header": {
             "fill": {
              "color": "#C8D4E3"
             },
             "line": {
              "color": "white"
             }
            },
            "type": "table"
           }
          ]
         },
         "layout": {
          "annotationdefaults": {
           "arrowcolor": "#2a3f5f",
           "arrowhead": 0,
           "arrowwidth": 1
          },
          "coloraxis": {
           "colorbar": {
            "outlinewidth": 0,
            "ticks": ""
           }
          },
          "colorscale": {
           "diverging": [
            [
             0,
             "#8e0152"
            ],
            [
             0.1,
             "#c51b7d"
            ],
            [
             0.2,
             "#de77ae"
            ],
            [
             0.3,
             "#f1b6da"
            ],
            [
             0.4,
             "#fde0ef"
            ],
            [
             0.5,
             "#f7f7f7"
            ],
            [
             0.6,
             "#e6f5d0"
            ],
            [
             0.7,
             "#b8e186"
            ],
            [
             0.8,
             "#7fbc41"
            ],
            [
             0.9,
             "#4d9221"
            ],
            [
             1,
             "#276419"
            ]
           ],
           "sequential": [
            [
             0,
             "#0d0887"
            ],
            [
             0.1111111111111111,
             "#46039f"
            ],
            [
             0.2222222222222222,
             "#7201a8"
            ],
            [
             0.3333333333333333,
             "#9c179e"
            ],
            [
             0.4444444444444444,
             "#bd3786"
            ],
            [
             0.5555555555555556,
             "#d8576b"
            ],
            [
             0.6666666666666666,
             "#ed7953"
            ],
            [
             0.7777777777777778,
             "#fb9f3a"
            ],
            [
             0.8888888888888888,
             "#fdca26"
            ],
            [
             1,
             "#f0f921"
            ]
           ],
           "sequentialminus": [
            [
             0,
             "#0d0887"
            ],
            [
             0.1111111111111111,
             "#46039f"
            ],
            [
             0.2222222222222222,
             "#7201a8"
            ],
            [
             0.3333333333333333,
             "#9c179e"
            ],
            [
             0.4444444444444444,
             "#bd3786"
            ],
            [
             0.5555555555555556,
             "#d8576b"
            ],
            [
             0.6666666666666666,
             "#ed7953"
            ],
            [
             0.7777777777777778,
             "#fb9f3a"
            ],
            [
             0.8888888888888888,
             "#fdca26"
            ],
            [
             1,
             "#f0f921"
            ]
           ]
          },
          "colorway": [
           "#636efa",
           "#EF553B",
           "#00cc96",
           "#ab63fa",
           "#FFA15A",
           "#19d3f3",
           "#FF6692",
           "#B6E880",
           "#FF97FF",
           "#FECB52"
          ],
          "font": {
           "color": "#2a3f5f"
          },
          "geo": {
           "bgcolor": "white",
           "lakecolor": "white",
           "landcolor": "#E5ECF6",
           "showlakes": true,
           "showland": true,
           "subunitcolor": "white"
          },
          "hoverlabel": {
           "align": "left"
          },
          "hovermode": "closest",
          "mapbox": {
           "style": "light"
          },
          "paper_bgcolor": "white",
          "plot_bgcolor": "#E5ECF6",
          "polar": {
           "angularaxis": {
            "gridcolor": "white",
            "linecolor": "white",
            "ticks": ""
           },
           "bgcolor": "#E5ECF6",
           "radialaxis": {
            "gridcolor": "white",
            "linecolor": "white",
            "ticks": ""
           }
          },
          "scene": {
           "xaxis": {
            "backgroundcolor": "#E5ECF6",
            "gridcolor": "white",
            "gridwidth": 2,
            "linecolor": "white",
            "showbackground": true,
            "ticks": "",
            "zerolinecolor": "white"
           },
           "yaxis": {
            "backgroundcolor": "#E5ECF6",
            "gridcolor": "white",
            "gridwidth": 2,
            "linecolor": "white",
            "showbackground": true,
            "ticks": "",
            "zerolinecolor": "white"
           },
           "zaxis": {
            "backgroundcolor": "#E5ECF6",
            "gridcolor": "white",
            "gridwidth": 2,
            "linecolor": "white",
            "showbackground": true,
            "ticks": "",
            "zerolinecolor": "white"
           }
          },
          "shapedefaults": {
           "line": {
            "color": "#2a3f5f"
           }
          },
          "ternary": {
           "aaxis": {
            "gridcolor": "white",
            "linecolor": "white",
            "ticks": ""
           },
           "baxis": {
            "gridcolor": "white",
            "linecolor": "white",
            "ticks": ""
           },
           "bgcolor": "#E5ECF6",
           "caxis": {
            "gridcolor": "white",
            "linecolor": "white",
            "ticks": ""
           }
          },
          "title": {
           "x": 0.05
          },
          "xaxis": {
           "automargin": true,
           "gridcolor": "white",
           "linecolor": "white",
           "ticks": "",
           "title": {
            "standoff": 15
           },
           "zerolinecolor": "white",
           "zerolinewidth": 2
          },
          "yaxis": {
           "automargin": true,
           "gridcolor": "white",
           "linecolor": "white",
           "ticks": "",
           "title": {
            "standoff": 15
           },
           "zerolinecolor": "white",
           "zerolinewidth": 2
          }
         }
        },
        "title": {
         "font": {
          "color": "#F2F2F2",
          "family": "Courier",
          "size": 15
         }
        },
        "xaxis": {
         "anchor": "y",
         "autorange": true,
         "domain": [
          0,
          1
         ],
         "range": [
          2003.5000000000005,
          2013.4999999999914
         ],
         "tickcolor": "#F2F2F2",
         "ticklen": 10,
         "ticks": "outside",
         "tickwidth": 2,
         "title": {
          "font": {
           "color": "#F2F2F2",
           "family": "Courier",
           "size": 14
          }
         },
         "type": "linear"
        },
        "yaxis": {
         "anchor": "x",
         "autorange": true,
         "domain": [
          0,
          1
         ],
         "gridcolor": "rgba(0, 0, 0, 0)",
         "range": [
          1.899334361464885,
          1.9177606536809004
         ],
         "tickcolor": "#F2F2F2",
         "ticklen": 10,
         "ticks": "outside",
         "tickwidth": 2,
         "title": {
          "font": {
           "color": "#F2F2F2",
           "family": "Courier",
           "size": 14
          },
          "text": "(Kg/capita)"
         },
         "type": "log"
        }
       }
      },
      "image/png": "[encoded data removed]",
      "text/html": [
       "<div>\n",
       "        \n",
       "        \n",
       "            <div id=\"b63fe9c5-6d59-4455-80d2-f39784e7cc85\" class=\"plotly-graph-div\" style=\"height:525px; width:100%;\"></div>\n",
       "            <script type=\"text/javascript\">\n",
       "                require([\"plotly\"], function(Plotly) {\n",
       "                    window.PLOTLYENV=window.PLOTLYENV || {};\n",
       "                    \n",
       "                if (document.getElementById(\"b63fe9c5-6d59-4455-80d2-f39784e7cc85\")) {\n",
       "                    Plotly.newPlot(\n",
       "                        'b63fe9c5-6d59-4455-80d2-f39784e7cc85',\n",
       "                        [{\"histfunc\": \"avg\", \"marker\": {\"color\": \"#FF4464\"}, \"nbinsx\": 100, \"type\": \"histogram\", \"x\": [2004, 2005, 2006, 2007, 2008, 2009, 2010, 2011, 2012, 2013], \"xaxis\": \"x\", \"y\": [79.94184178541727, 81.58614714449638, 81.05390524423386, 82.57324253621002, 81.54169140548751, 80.8241444144794, 79.87375075881826, 79.60505492303508, 80.2525112294266, 79.4796006080886], \"yaxis\": \"y\"}],\n",
       "                        {\"font\": {\"color\": \"#F2F2F2\", \"family\": \"Courier\", \"size\": 14}, \"paper_bgcolor\": \"rgba(0,0,0,0)\", \"plot_bgcolor\": \"rgba(0,0,0,0)\", \"template\": {\"data\": {\"bar\": [{\"error_x\": {\"color\": \"#2a3f5f\"}, \"error_y\": {\"color\": \"#2a3f5f\"}, \"marker\": {\"line\": {\"color\": \"#E5ECF6\", \"width\": 0.5}}, \"type\": \"bar\"}], \"barpolar\": [{\"marker\": {\"line\": {\"color\": \"#E5ECF6\", \"width\": 0.5}}, \"type\": \"barpolar\"}], \"carpet\": [{\"aaxis\": {\"endlinecolor\": \"#2a3f5f\", \"gridcolor\": \"white\", \"linecolor\": \"white\", \"minorgridcolor\": \"white\", \"startlinecolor\": \"#2a3f5f\"}, \"baxis\": {\"endlinecolor\": \"#2a3f5f\", \"gridcolor\": \"white\", \"linecolor\": \"white\", \"minorgridcolor\": \"white\", \"startlinecolor\": \"#2a3f5f\"}, \"type\": \"carpet\"}], \"choropleth\": [{\"colorbar\": {\"outlinewidth\": 0, \"ticks\": \"\"}, \"type\": \"choropleth\"}], \"contour\": [{\"colorbar\": {\"outlinewidth\": 0, \"ticks\": \"\"}, \"colorscale\": [[0.0, \"#0d0887\"], [0.1111111111111111, \"#46039f\"], [0.2222222222222222, \"#7201a8\"], [0.3333333333333333, \"#9c179e\"], [0.4444444444444444, \"#bd3786\"], [0.5555555555555556, \"#d8576b\"], [0.6666666666666666, \"#ed7953\"], [0.7777777777777778, \"#fb9f3a\"], [0.8888888888888888, \"#fdca26\"], [1.0, \"#f0f921\"]], \"type\": \"contour\"}], \"contourcarpet\": [{\"colorbar\": {\"outlinewidth\": 0, \"ticks\": \"\"}, \"type\": \"contourcarpet\"}], \"heatmap\": [{\"colorbar\": {\"outlinewidth\": 0, \"ticks\": \"\"}, \"colorscale\": [[0.0, \"#0d0887\"], [0.1111111111111111, \"#46039f\"], [0.2222222222222222, \"#7201a8\"], [0.3333333333333333, \"#9c179e\"], [0.4444444444444444, \"#bd3786\"], [0.5555555555555556, \"#d8576b\"], [0.6666666666666666, \"#ed7953\"], [0.7777777777777778, \"#fb9f3a\"], [0.8888888888888888, \"#fdca26\"], [1.0, \"#f0f921\"]], \"type\": \"heatmap\"}], \"heatmapgl\": [{\"colorbar\": {\"outlinewidth\": 0, \"ticks\": \"\"}, \"colorscale\": [[0.0, \"#0d0887\"], [0.1111111111111111, \"#46039f\"], [0.2222222222222222, \"#7201a8\"], [0.3333333333333333, \"#9c179e\"], [0.4444444444444444, \"#bd3786\"], [0.5555555555555556, \"#d8576b\"], [0.6666666666666666, \"#ed7953\"], [0.7777777777777778, \"#fb9f3a\"], [0.8888888888888888, \"#fdca26\"], [1.0, \"#f0f921\"]], \"type\": \"heatmapgl\"}], \"histogram\": [{\"marker\": {\"colorbar\": {\"outlinewidth\": 0, \"ticks\": \"\"}}, \"type\": \"histogram\"}], \"histogram2d\": [{\"colorbar\": {\"outlinewidth\": 0, \"ticks\": \"\"}, \"colorscale\": [[0.0, \"#0d0887\"], [0.1111111111111111, \"#46039f\"], [0.2222222222222222, \"#7201a8\"], [0.3333333333333333, \"#9c179e\"], [0.4444444444444444, \"#bd3786\"], [0.5555555555555556, \"#d8576b\"], [0.6666666666666666, \"#ed7953\"], [0.7777777777777778, \"#fb9f3a\"], [0.8888888888888888, \"#fdca26\"], [1.0, \"#f0f921\"]], \"type\": \"histogram2d\"}], \"histogram2dcontour\": [{\"colorbar\": {\"outlinewidth\": 0, \"ticks\": \"\"}, \"colorscale\": [[0.0, \"#0d0887\"], [0.1111111111111111, \"#46039f\"], [0.2222222222222222, \"#7201a8\"], [0.3333333333333333, \"#9c179e\"], [0.4444444444444444, \"#bd3786\"], [0.5555555555555556, \"#d8576b\"], [0.6666666666666666, \"#ed7953\"], [0.7777777777777778, \"#fb9f3a\"], [0.8888888888888888, \"#fdca26\"], [1.0, \"#f0f921\"]], \"type\": \"histogram2dcontour\"}], \"mesh3d\": [{\"colorbar\": {\"outlinewidth\": 0, \"ticks\": \"\"}, \"type\": \"mesh3d\"}], \"parcoords\": [{\"line\": {\"colorbar\": {\"outlinewidth\": 0, \"ticks\": \"\"}}, \"type\": \"parcoords\"}], \"pie\": [{\"automargin\": true, \"type\": \"pie\"}], \"scatter\": [{\"marker\": {\"colorbar\": {\"outlinewidth\": 0, \"ticks\": \"\"}}, \"type\": \"scatter\"}], \"scatter3d\": [{\"line\": {\"colorbar\": {\"outlinewidth\": 0, \"ticks\": \"\"}}, \"marker\": {\"colorbar\": {\"outlinewidth\": 0, \"ticks\": \"\"}}, \"type\": \"scatter3d\"}], \"scattercarpet\": [{\"marker\": {\"colorbar\": {\"outlinewidth\": 0, \"ticks\": \"\"}}, \"type\": \"scattercarpet\"}], \"scattergeo\": [{\"marker\": {\"colorbar\": {\"outlinewidth\": 0, \"ticks\": \"\"}}, \"type\": \"scattergeo\"}], \"scattergl\": [{\"marker\": {\"colorbar\": {\"outlinewidth\": 0, \"ticks\": \"\"}}, \"type\": \"scattergl\"}], \"scattermapbox\": [{\"marker\": {\"colorbar\": {\"outlinewidth\": 0, \"ticks\": \"\"}}, \"type\": \"scattermapbox\"}], \"scatterpolar\": [{\"marker\": {\"colorbar\": {\"outlinewidth\": 0, \"ticks\": \"\"}}, \"type\": \"scatterpolar\"}], \"scatterpolargl\": [{\"marker\": {\"colorbar\": {\"outlinewidth\": 0, \"ticks\": \"\"}}, \"type\": \"scatterpolargl\"}], \"scatterternary\": [{\"marker\": {\"colorbar\": {\"outlinewidth\": 0, \"ticks\": \"\"}}, \"type\": \"scatterternary\"}], \"surface\": [{\"colorbar\": {\"outlinewidth\": 0, \"ticks\": \"\"}, \"colorscale\": [[0.0, \"#0d0887\"], [0.1111111111111111, \"#46039f\"], [0.2222222222222222, \"#7201a8\"], [0.3333333333333333, \"#9c179e\"], [0.4444444444444444, \"#bd3786\"], [0.5555555555555556, \"#d8576b\"], [0.6666666666666666, \"#ed7953\"], [0.7777777777777778, \"#fb9f3a\"], [0.8888888888888888, \"#fdca26\"], [1.0, \"#f0f921\"]], \"type\": \"surface\"}], \"table\": [{\"cells\": {\"fill\": {\"color\": \"#EBF0F8\"}, \"line\": {\"color\": \"white\"}}, \"header\": {\"fill\": {\"color\": \"#C8D4E3\"}, \"line\": {\"color\": \"white\"}}, \"type\": \"table\"}]}, \"layout\": {\"annotationdefaults\": {\"arrowcolor\": \"#2a3f5f\", \"arrowhead\": 0, \"arrowwidth\": 1}, \"coloraxis\": {\"colorbar\": {\"outlinewidth\": 0, \"ticks\": \"\"}}, \"colorscale\": {\"diverging\": [[0, \"#8e0152\"], [0.1, \"#c51b7d\"], [0.2, \"#de77ae\"], [0.3, \"#f1b6da\"], [0.4, \"#fde0ef\"], [0.5, \"#f7f7f7\"], [0.6, \"#e6f5d0\"], [0.7, \"#b8e186\"], [0.8, \"#7fbc41\"], [0.9, \"#4d9221\"], [1, \"#276419\"]], \"sequential\": [[0.0, \"#0d0887\"], [0.1111111111111111, \"#46039f\"], [0.2222222222222222, \"#7201a8\"], [0.3333333333333333, \"#9c179e\"], [0.4444444444444444, \"#bd3786\"], [0.5555555555555556, \"#d8576b\"], [0.6666666666666666, \"#ed7953\"], [0.7777777777777778, \"#fb9f3a\"], [0.8888888888888888, \"#fdca26\"], [1.0, \"#f0f921\"]], \"sequentialminus\": [[0.0, \"#0d0887\"], [0.1111111111111111, \"#46039f\"], [0.2222222222222222, \"#7201a8\"], [0.3333333333333333, \"#9c179e\"], [0.4444444444444444, \"#bd3786\"], [0.5555555555555556, \"#d8576b\"], [0.6666666666666666, \"#ed7953\"], [0.7777777777777778, \"#fb9f3a\"], [0.8888888888888888, \"#fdca26\"], [1.0, \"#f0f921\"]]}, \"colorway\": [\"#636efa\", \"#EF553B\", \"#00cc96\", \"#ab63fa\", \"#FFA15A\", \"#19d3f3\", \"#FF6692\", \"#B6E880\", \"#FF97FF\", \"#FECB52\"], \"font\": {\"color\": \"#2a3f5f\"}, \"geo\": {\"bgcolor\": \"white\", \"lakecolor\": \"white\", \"landcolor\": \"#E5ECF6\", \"showlakes\": true, \"showland\": true, \"subunitcolor\": \"white\"}, \"hoverlabel\": {\"align\": \"left\"}, \"hovermode\": \"closest\", \"mapbox\": {\"style\": \"light\"}, \"paper_bgcolor\": \"white\", \"plot_bgcolor\": \"#E5ECF6\", \"polar\": {\"angularaxis\": {\"gridcolor\": \"white\", \"linecolor\": \"white\", \"ticks\": \"\"}, \"bgcolor\": \"#E5ECF6\", \"radialaxis\": {\"gridcolor\": \"white\", \"linecolor\": \"white\", \"ticks\": \"\"}}, \"scene\": {\"xaxis\": {\"backgroundcolor\": \"#E5ECF6\", \"gridcolor\": \"white\", \"gridwidth\": 2, \"linecolor\": \"white\", \"showbackground\": true, \"ticks\": \"\", \"zerolinecolor\": \"white\"}, \"yaxis\": {\"backgroundcolor\": \"#E5ECF6\", \"gridcolor\": \"white\", \"gridwidth\": 2, \"linecolor\": \"white\", \"showbackground\": true, \"ticks\": \"\", \"zerolinecolor\": \"white\"}, \"zaxis\": {\"backgroundcolor\": \"#E5ECF6\", \"gridcolor\": \"white\", \"gridwidth\": 2, \"linecolor\": \"white\", \"showbackground\": true, \"ticks\": \"\", \"zerolinecolor\": \"white\"}}, \"shapedefaults\": {\"line\": {\"color\": \"#2a3f5f\"}}, \"ternary\": {\"aaxis\": {\"gridcolor\": \"white\", \"linecolor\": \"white\", \"ticks\": \"\"}, \"baxis\": {\"gridcolor\": \"white\", \"linecolor\": \"white\", \"ticks\": \"\"}, \"bgcolor\": \"#E5ECF6\", \"caxis\": {\"gridcolor\": \"white\", \"linecolor\": \"white\", \"ticks\": \"\"}}, \"title\": {\"x\": 0.05}, \"xaxis\": {\"automargin\": true, \"gridcolor\": \"white\", \"linecolor\": \"white\", \"ticks\": \"\", \"title\": {\"standoff\": 15}, \"zerolinecolor\": \"white\", \"zerolinewidth\": 2}, \"yaxis\": {\"automargin\": true, \"gridcolor\": \"white\", \"linecolor\": \"white\", \"ticks\": \"\", \"title\": {\"standoff\": 15}, \"zerolinecolor\": \"white\", \"zerolinewidth\": 2}}}, \"title\": {\"font\": {\"color\": \"#F2F2F2\", \"family\": \"Courier\", \"size\": 15}}, \"xaxis\": {\"anchor\": \"y\", \"domain\": [0.0, 1.0], \"tickcolor\": \"#F2F2F2\", \"ticklen\": 10, \"ticks\": \"outside\", \"tickwidth\": 2, \"title\": {\"font\": {\"color\": \"#F2F2F2\", \"family\": \"Courier\", \"size\": 14}}}, \"yaxis\": {\"anchor\": \"x\", \"domain\": [0.0, 1.0], \"gridcolor\": \"rgba(0,0,0,0)\", \"tickcolor\": \"#F2F2F2\", \"ticklen\": 10, \"ticks\": \"outside\", \"tickwidth\": 2, \"title\": {\"font\": {\"color\": \"#F2F2F2\", \"family\": \"Courier\", \"size\": 14}, \"text\": \"(Kg/capita)\"}, \"type\": \"log\"}},\n",
       "                        {\"responsive\": true}\n",
       "                    ).then(function(){\n",
       "                            \n",
       "var gd = document.getElementById('b63fe9c5-6d59-4455-80d2-f39784e7cc85');\n",
       "var x = new MutationObserver(function (mutations, observer) {{\n",
       "        var display = window.getComputedStyle(gd).display;\n",
       "        if (!display || display === 'none') {{\n",
       "            console.log([gd, 'removed!']);\n",
       "            Plotly.purge(gd);\n",
       "            observer.disconnect();\n",
       "        }}\n",
       "}});\n",
       "\n",
       "// Listen for the removal of the full notebook cells\n",
       "var notebookContainer = gd.closest('#notebook-container');\n",
       "if (notebookContainer) {{\n",
       "    x.observe(notebookContainer, {childList: true});\n",
       "}}\n",
       "\n",
       "// Listen for the clearing of the current output cell\n",
       "var outputEl = gd.closest('.output');\n",
       "if (outputEl) {{\n",
       "    x.observe(outputEl, {childList: true});\n",
       "}}\n",
       "\n",
       "                        })\n",
       "                };\n",
       "                });\n",
       "            </script>\n",
       "        </div>"
      ]
     },
     "metadata": {},
     "output_type": "display_data"
    }
   ],
   "source": [
    "from plotly.subplots import make_subplots\n",
    "trace0 = go.Histogram(\n",
    "    x=mean_per_year.index,\n",
    "    y=mean_per_year.values,\n",
    "    histfunc='avg',\n",
    "    nbinsx = 100,\n",
    "    marker=dict(\n",
    "        color='#FF4464',\n",
    "    ),\n",
    "    #color_discrete_sequence=['indianred']\n",
    "  )\n",
    "\n",
    "\n",
    "\n",
    "\n",
    "fig = make_subplots(rows=1, cols=1)\n",
    "fig.update_layout(yaxis_type=\"log\")\n",
    "#fig.update_xaxes(title_text='Years')\n",
    "fig.update_yaxes(title_text='(Kg/capita)')\n",
    "#fig.update_layout(title_text ='Meat consumption of the 28 EU countries over the years')\n",
    "fig.append_trace(trace0, 1, 1)\n",
    "change_config(fig).show()\n",
    "#pio.write_html(change_config(fig), file='conso_moyenne_jusqua_2014.html', auto_open=True)"
   ]
  },
  {
   "cell_type": "markdown",
   "metadata": {},
   "source": [
    "## Meat consumption per EU country"
   ]
  },
  {
   "cell_type": "code",
   "execution_count": 8,
   "metadata": {},
   "outputs": [],
   "source": [
    "meat_consumption_path = path + 'fao_meat_consumption_pretty_clean.csv'\n",
    "meat_consumption = pd.read_csv(meat_consumption_path, low_memory=False, delimiter=';')\n",
    "meat_consumption = meat_consumption.drop(columns=['Domain'])"
   ]
  },
  {
   "cell_type": "code",
   "execution_count": 9,
   "metadata": {},
   "outputs": [],
   "source": [
    "europe = [\n",
    "    \"Austria\", \n",
    "    \"Belgium\", \n",
    "    \"Bulgaria\", \n",
    "    \"Croatia\", \n",
    "    \"Republic of Cyprus\", \"Cyprus\",\n",
    "    \"Czech Republic\", \"Czechia\",\n",
    "    \"Denmark\", \n",
    "    \"Estonia\", \n",
    "    \"Finland\", \n",
    "    \"France\", \n",
    "    \"Germany\", \n",
    "    \"Greece\", \n",
    "    \"Hungary\", \n",
    "    \"Ireland\", \n",
    "    \"Italy\", \n",
    "    \"Latvia\", \n",
    "    \"Lithuania\", \n",
    "    \"Luxembourg\", \n",
    "    \"Malta\", \n",
    "    \"Netherlands\", \n",
    "    \"Poland\", \n",
    "    \"Portugal\", \n",
    "    \"Romania\", \n",
    "    \"Slovakia\", \n",
    "    \"Slovenia\", \n",
    "    \"Spain\", \n",
    "    \"Sweden\", \n",
    "    \"United Kingdom\"\n",
    "]"
   ]
  },
  {
   "cell_type": "code",
   "execution_count": 10,
   "metadata": {},
   "outputs": [],
   "source": [
    "# filter to take only the countries from EU\n",
    "meat_consumption = meat_consumption[meat_consumption.Country.isin(europe)]"
   ]
  },
  {
   "cell_type": "code",
   "execution_count": 11,
   "metadata": {},
   "outputs": [],
   "source": [
    "# obtain the consumption by summing ['Bovine Meat', 'Mutton & Goat Meat', 'Pigmeat', 'Poultry Meat']\n",
    "meat_consumption = meat_consumption.groupby(['Country','Year']).sum().unstack(level=1)"
   ]
  },
  {
   "cell_type": "code",
   "execution_count": 13,
   "metadata": {},
   "outputs": [],
   "source": [
    "meat_consumption['Country'] = meat_consumption.index\n",
    "meat_consumption = pd.melt(meat_consumption, id_vars=['Country'])"
   ]
  },
  {
   "cell_type": "code",
   "execution_count": 17,
   "metadata": {},
   "outputs": [
    {
     "data": {
      "application/vnd.plotly.v1+json": {
       "config": {
        "plotlyServerURL": "https://plot.ly"
       },
       "data": [
        {
         "fill": "tozeroy",
         "mode": "none",
         "name": "Austria",
         "opacity": 0.1,
         "type": "scatter",
         "x": [
          2004,
          2005,
          2006,
          2007,
          2008,
          2009,
          2010,
          2011,
          2012,
          2013
         ],
         "y": [
          94.17999999999999,
          93.07,
          90.19,
          92.58,
          88.41,
          91.25999999999999,
          91.66,
          90.34,
          86.02000000000001,
          89.47
         ]
        },
        {
         "fill": "tozeroy",
         "mode": "none",
         "name": "Belgium",
         "opacity": 0.1,
         "type": "scatter",
         "visible": "legendonly",
         "x": [
          2004,
          2005,
          2006,
          2007,
          2008,
          2009,
          2010,
          2011,
          2012,
          2013
         ],
         "y": [
          76.86,
          79.98,
          76.94,
          80.85,
          66.66,
          64.17,
          67.55,
          65.39999999999999,
          70.13,
          67.8
         ]
        },
        {
         "fill": "tozeroy",
         "mode": "none",
         "name": "Bulgaria",
         "opacity": 0.1,
         "type": "scatter",
         "visible": "legendonly",
         "x": [
          2004,
          2005,
          2006,
          2007,
          2008,
          2009,
          2010,
          2011,
          2012,
          2013
         ],
         "y": [
          49.839999999999996,
          49.87,
          46.97,
          45.92,
          49.31999999999999,
          53.879999999999995,
          51.919999999999995,
          55.56999999999999,
          55.49,
          52.41
         ]
        },
        {
         "fill": "tozeroy",
         "mode": "none",
         "name": "Croatia",
         "opacity": 0.1,
         "type": "scatter",
         "visible": "legendonly",
         "x": [
          2004,
          2005,
          2006,
          2007,
          2008,
          2009,
          2010,
          2011,
          2012,
          2013
         ],
         "y": [
          48.410000000000004,
          49.02,
          57.14,
          61.900000000000006,
          61.870000000000005,
          66.44999999999999,
          60.23,
          59.82,
          67.93,
          65.42999999999999
         ]
        },
        {
         "fill": "tozeroy",
         "mode": "none",
         "name": "Cyprus",
         "opacity": 0.1,
         "type": "scatter",
         "visible": "legendonly",
         "x": [
          2004,
          2005,
          2006,
          2007,
          2008,
          2009,
          2010,
          2011,
          2012,
          2013
         ],
         "y": [
          78.75,
          82.65,
          78.83000000000001,
          79.84,
          77.57000000000001,
          77,
          76.22,
          77.38,
          77.97,
          73.67
         ]
        },
        {
         "fill": "tozeroy",
         "mode": "none",
         "name": "Czechia",
         "opacity": 0.1,
         "type": "scatter",
         "visible": "legendonly",
         "x": [
          2004,
          2005,
          2006,
          2007,
          2008,
          2009,
          2010,
          2011,
          2012,
          2013
         ],
         "y": [
          83.05,
          84.12,
          81.15,
          80.45,
          79.25,
          79.19,
          78.65,
          76.44999999999999,
          71.08000000000001,
          68.75
         ]
        },
        {
         "fill": "tozeroy",
         "mode": "none",
         "name": "Denmark",
         "opacity": 0.1,
         "type": "scatter",
         "visible": "legendonly",
         "x": [
          2004,
          2005,
          2006,
          2007,
          2008,
          2009,
          2010,
          2011,
          2012,
          2013
         ],
         "y": [
          71.37,
          91.67,
          78.22,
          87.61000000000001,
          77.47,
          65.39,
          75.05,
          74.55,
          75.41,
          81
         ]
        },
        {
         "fill": "tozeroy",
         "mode": "none",
         "name": "Estonia",
         "opacity": 0.1,
         "type": "scatter",
         "visible": "legendonly",
         "x": [
          2004,
          2005,
          2006,
          2007,
          2008,
          2009,
          2010,
          2011,
          2012,
          2013
         ],
         "y": [
          59.33,
          57.99,
          65.41,
          70.13,
          67.64,
          68.34,
          72.69,
          70.08,
          60.82000000000001,
          58.42
         ]
        },
        {
         "fill": "tozeroy",
         "mode": "none",
         "name": "Finland",
         "opacity": 0.1,
         "type": "scatter",
         "x": [
          2004,
          2005,
          2006,
          2007,
          2008,
          2009,
          2010,
          2011,
          2012,
          2013
         ],
         "y": [
          70.16,
          70.62,
          69.86,
          73.08,
          72.4,
          71.05,
          72.97,
          72.45,
          76.31,
          75.76
         ]
        },
        {
         "fill": "tozeroy",
         "mode": "none",
         "name": "France",
         "opacity": 0.1,
         "type": "scatter",
         "x": [
          2004,
          2005,
          2006,
          2007,
          2008,
          2009,
          2010,
          2011,
          2012,
          2013
         ],
         "y": [
          87.39,
          85.05,
          84.06,
          85.27000000000001,
          88.12,
          87.99000000000001,
          86.77,
          85.83,
          86.06,
          83.07
         ]
        },
        {
         "fill": "tozeroy",
         "mode": "none",
         "name": "Germany",
         "opacity": 0.1,
         "type": "scatter",
         "x": [
          2004,
          2005,
          2006,
          2007,
          2008,
          2009,
          2010,
          2011,
          2012,
          2013
         ],
         "y": [
          81.30999999999999,
          80.67999999999999,
          80.43,
          83.36,
          83.07,
          83.47,
          85.35,
          85.69999999999999,
          84.13,
          83.45
         ]
        },
        {
         "fill": "tozeroy",
         "mode": "none",
         "name": "Greece",
         "opacity": 0.1,
         "type": "scatter",
         "visible": "legendonly",
         "x": [
          2004,
          2005,
          2006,
          2007,
          2008,
          2009,
          2010,
          2011,
          2012,
          2013
         ],
         "y": [
          76.27,
          79.47,
          80.3,
          75.00999999999999,
          76.08,
          77.39,
          77.53,
          75.92,
          72.17,
          72.61999999999999
         ]
        },
        {
         "fill": "tozeroy",
         "mode": "none",
         "name": "Hungary",
         "opacity": 0.1,
         "type": "scatter",
         "visible": "legendonly",
         "x": [
          2004,
          2005,
          2006,
          2007,
          2008,
          2009,
          2010,
          2011,
          2012,
          2013
         ],
         "y": [
          89.4,
          83.31,
          83.52,
          82.25999999999999,
          79.75999999999999,
          77.7,
          69.59,
          72.82,
          70.75999999999999,
          63.78
         ]
        },
        {
         "fill": "tozeroy",
         "mode": "none",
         "name": "Ireland",
         "opacity": 0.1,
         "type": "scatter",
         "visible": "legendonly",
         "x": [
          2004,
          2005,
          2006,
          2007,
          2008,
          2009,
          2010,
          2011,
          2012,
          2013
         ],
         "y": [
          100.43,
          99.15,
          97.02000000000001,
          89.71000000000001,
          87.86000000000001,
          85.55,
          80.81,
          77.39,
          82.6,
          85.11
         ]
        },
        {
         "fill": "tozeroy",
         "mode": "none",
         "name": "Italy",
         "opacity": 0.1,
         "type": "scatter",
         "visible": "legendonly",
         "x": [
          2004,
          2005,
          2006,
          2007,
          2008,
          2009,
          2010,
          2011,
          2012,
          2013
         ],
         "y": [
          80.32,
          79.16,
          79.53999999999999,
          82.2,
          80.25,
          81.96000000000001,
          83.78999999999999,
          80.95,
          80.63,
          78.41
         ]
        },
        {
         "fill": "tozeroy",
         "mode": "none",
         "name": "Latvia",
         "opacity": 0.1,
         "type": "scatter",
         "visible": "legendonly",
         "x": [
          2004,
          2005,
          2006,
          2007,
          2008,
          2009,
          2010,
          2011,
          2012,
          2013
         ],
         "y": [
          55.25,
          59.63,
          60.480000000000004,
          64.56,
          68.25999999999999,
          65.24,
          64.65,
          68.39999999999999,
          63.73,
          60.940000000000005
         ]
        },
        {
         "fill": "tozeroy",
         "mode": "none",
         "name": "Lithuania",
         "opacity": 0.1,
         "type": "scatter",
         "visible": "legendonly",
         "x": [
          2004,
          2005,
          2006,
          2007,
          2008,
          2009,
          2010,
          2011,
          2012,
          2013
         ],
         "y": [
          70.68,
          75.6,
          79.37,
          84.16,
          84.42999999999999,
          76.71000000000001,
          73.41,
          72.27000000000001,
          73.65,
          77.24000000000001
         ]
        },
        {
         "fill": "tozeroy",
         "mode": "none",
         "name": "Luxembourg",
         "opacity": 0.1,
         "type": "scatter",
         "visible": "legendonly",
         "x": [
          2004,
          2005,
          2006,
          2007,
          2008,
          2009,
          2010,
          2011,
          2012,
          2013
         ],
         "y": [
          100.86,
          100.65,
          98.30999999999999,
          97.11,
          101.56,
          94.96000000000001,
          96.74,
          96.9,
          94.94999999999999,
          96.5
         ]
        },
        {
         "fill": "tozeroy",
         "mode": "none",
         "name": "Malta",
         "opacity": 0.1,
         "type": "scatter",
         "visible": "legendonly",
         "x": [
          2004,
          2005,
          2006,
          2007,
          2008,
          2009,
          2010,
          2011,
          2012,
          2013
         ],
         "y": [
          79.34,
          77.21000000000001,
          78.12,
          86,
          80.02000000000001,
          79.06,
          77.91,
          78.78,
          77.25,
          81.05000000000001
         ]
        },
        {
         "fill": "tozeroy",
         "mode": "none",
         "name": "Netherlands",
         "opacity": 0.1,
         "type": "scatter",
         "visible": "legendonly",
         "x": [
          2004,
          2005,
          2006,
          2007,
          2008,
          2009,
          2010,
          2011,
          2012,
          2013
         ],
         "y": [
          77.55000000000001,
          75.78,
          72.61,
          69.38,
          81.10000000000001,
          77.37,
          69.89,
          62.300000000000004,
          79.96000000000001,
          78.87
         ]
        },
        {
         "fill": "tozeroy",
         "mode": "none",
         "name": "Poland",
         "opacity": 0.1,
         "type": "scatter",
         "visible": "legendonly",
         "x": [
          2004,
          2005,
          2006,
          2007,
          2008,
          2009,
          2010,
          2011,
          2012,
          2013
         ],
         "y": [
          72.99,
          72.75,
          75.86,
          75.3,
          73.5,
          74.37,
          74.55,
          76.16,
          75.23,
          75.94
         ]
        },
        {
         "fill": "tozeroy",
         "mode": "none",
         "name": "Portugal",
         "opacity": 0.1,
         "type": "scatter",
         "visible": "legendonly",
         "x": [
          2004,
          2005,
          2006,
          2007,
          2008,
          2009,
          2010,
          2011,
          2012,
          2013
         ],
         "y": [
          83.08,
          83.86,
          86.28999999999999,
          92.9,
          91.72999999999999,
          92.47,
          92.06,
          88.89999999999999,
          86.7,
          86.88
         ]
        },
        {
         "fill": "tozeroy",
         "mode": "none",
         "name": "Romania",
         "opacity": 0.1,
         "type": "scatter",
         "visible": "legendonly",
         "x": [
          2004,
          2005,
          2006,
          2007,
          2008,
          2009,
          2010,
          2011,
          2012,
          2013
         ],
         "y": [
          52.6,
          61.89,
          61.06999999999999,
          60.31,
          60.57,
          64.81,
          56.96,
          52.95,
          53.03,
          48.88
         ]
        },
        {
         "fill": "tozeroy",
         "mode": "none",
         "name": "Slovakia",
         "opacity": 0.1,
         "type": "scatter",
         "visible": "legendonly",
         "x": [
          2004,
          2005,
          2006,
          2007,
          2008,
          2009,
          2010,
          2011,
          2012,
          2013
         ],
         "y": [
          61.11,
          64.74,
          60.8,
          58.36999999999999,
          59.47,
          58.8,
          56.81,
          58.209999999999994,
          47.650000000000006,
          52.260000000000005
         ]
        },
        {
         "fill": "tozeroy",
         "mode": "none",
         "name": "Slovenia",
         "opacity": 0.1,
         "type": "scatter",
         "visible": "legendonly",
         "x": [
          2004,
          2005,
          2006,
          2007,
          2008,
          2009,
          2010,
          2011,
          2012,
          2013
         ],
         "y": [
          88.94,
          91.08000000000001,
          86.57000000000001,
          83.68,
          87.81,
          87.02000000000001,
          85.31,
          81.15,
          77.82,
          70.87
         ]
        },
        {
         "fill": "tozeroy",
         "mode": "none",
         "name": "Spain",
         "opacity": 0.1,
         "type": "scatter",
         "visible": "legendonly",
         "x": [
          2004,
          2005,
          2006,
          2007,
          2008,
          2009,
          2010,
          2011,
          2012,
          2013
         ],
         "y": [
          106.12,
          105.84,
          104.99,
          108.25999999999999,
          100.00999999999999,
          95.16999999999999,
          93.58,
          93.71,
          93.54,
          91.86
         ]
        },
        {
         "fill": "tozeroy",
         "mode": "none",
         "name": "Sweden",
         "opacity": 0.1,
         "type": "scatter",
         "visible": "legendonly",
         "x": [
          2004,
          2005,
          2006,
          2007,
          2008,
          2009,
          2010,
          2011,
          2012,
          2013
         ],
         "y": [
          74.89999999999999,
          75.35,
          75.17,
          76.58,
          77.33,
          76.31,
          78.43,
          79.19,
          77.06,
          79.63
         ]
        },
        {
         "fill": "tozeroy",
         "mode": "none",
         "name": "United Kingdom",
         "opacity": 0.1,
         "type": "scatter",
         "visible": "legendonly",
         "x": [
          2004,
          2005,
          2006,
          2007,
          2008,
          2009,
          2010,
          2011,
          2012,
          2013
         ],
         "y": [
          84.56,
          83.16,
          85.3,
          84.46,
          80.92,
          79.99000000000001,
          80.24000000000001,
          80.94,
          81.14,
          79.95
         ]
        }
       ],
       "layout": {
        "autosize": true,
        "template": {
         "data": {
          "bar": [
           {
            "error_x": {
             "color": "#2a3f5f"
            },
            "error_y": {
             "color": "#2a3f5f"
            },
            "marker": {
             "line": {
              "color": "#E5ECF6",
              "width": 0.5
             }
            },
            "type": "bar"
           }
          ],
          "barpolar": [
           {
            "marker": {
             "line": {
              "color": "#E5ECF6",
              "width": 0.5
             }
            },
            "type": "barpolar"
           }
          ],
          "carpet": [
           {
            "aaxis": {
             "endlinecolor": "#2a3f5f",
             "gridcolor": "white",
             "linecolor": "white",
             "minorgridcolor": "white",
             "startlinecolor": "#2a3f5f"
            },
            "baxis": {
             "endlinecolor": "#2a3f5f",
             "gridcolor": "white",
             "linecolor": "white",
             "minorgridcolor": "white",
             "startlinecolor": "#2a3f5f"
            },
            "type": "carpet"
           }
          ],
          "choropleth": [
           {
            "colorbar": {
             "outlinewidth": 0,
             "ticks": ""
            },
            "type": "choropleth"
           }
          ],
          "contour": [
           {
            "colorbar": {
             "outlinewidth": 0,
             "ticks": ""
            },
            "colorscale": [
             [
              0,
              "#0d0887"
             ],
             [
              0.1111111111111111,
              "#46039f"
             ],
             [
              0.2222222222222222,
              "#7201a8"
             ],
             [
              0.3333333333333333,
              "#9c179e"
             ],
             [
              0.4444444444444444,
              "#bd3786"
             ],
             [
              0.5555555555555556,
              "#d8576b"
             ],
             [
              0.6666666666666666,
              "#ed7953"
             ],
             [
              0.7777777777777778,
              "#fb9f3a"
             ],
             [
              0.8888888888888888,
              "#fdca26"
             ],
             [
              1,
              "#f0f921"
             ]
            ],
            "type": "contour"
           }
          ],
          "contourcarpet": [
           {
            "colorbar": {
             "outlinewidth": 0,
             "ticks": ""
            },
            "type": "contourcarpet"
           }
          ],
          "heatmap": [
           {
            "colorbar": {
             "outlinewidth": 0,
             "ticks": ""
            },
            "colorscale": [
             [
              0,
              "#0d0887"
             ],
             [
              0.1111111111111111,
              "#46039f"
             ],
             [
              0.2222222222222222,
              "#7201a8"
             ],
             [
              0.3333333333333333,
              "#9c179e"
             ],
             [
              0.4444444444444444,
              "#bd3786"
             ],
             [
              0.5555555555555556,
              "#d8576b"
             ],
             [
              0.6666666666666666,
              "#ed7953"
             ],
             [
              0.7777777777777778,
              "#fb9f3a"
             ],
             [
              0.8888888888888888,
              "#fdca26"
             ],
             [
              1,
              "#f0f921"
             ]
            ],
            "type": "heatmap"
           }
          ],
          "heatmapgl": [
           {
            "colorbar": {
             "outlinewidth": 0,
             "ticks": ""
            },
            "colorscale": [
             [
              0,
              "#0d0887"
             ],
             [
              0.1111111111111111,
              "#46039f"
             ],
             [
              0.2222222222222222,
              "#7201a8"
             ],
             [
              0.3333333333333333,
              "#9c179e"
             ],
             [
              0.4444444444444444,
              "#bd3786"
             ],
             [
              0.5555555555555556,
              "#d8576b"
             ],
             [
              0.6666666666666666,
              "#ed7953"
             ],
             [
              0.7777777777777778,
              "#fb9f3a"
             ],
             [
              0.8888888888888888,
              "#fdca26"
             ],
             [
              1,
              "#f0f921"
             ]
            ],
            "type": "heatmapgl"
           }
          ],
          "histogram": [
           {
            "marker": {
             "colorbar": {
              "outlinewidth": 0,
              "ticks": ""
             }
            },
            "type": "histogram"
           }
          ],
          "histogram2d": [
           {
            "colorbar": {
             "outlinewidth": 0,
             "ticks": ""
            },
            "colorscale": [
             [
              0,
              "#0d0887"
             ],
             [
              0.1111111111111111,
              "#46039f"
             ],
             [
              0.2222222222222222,
              "#7201a8"
             ],
             [
              0.3333333333333333,
              "#9c179e"
             ],
             [
              0.4444444444444444,
              "#bd3786"
             ],
             [
              0.5555555555555556,
              "#d8576b"
             ],
             [
              0.6666666666666666,
              "#ed7953"
             ],
             [
              0.7777777777777778,
              "#fb9f3a"
             ],
             [
              0.8888888888888888,
              "#fdca26"
             ],
             [
              1,
              "#f0f921"
             ]
            ],
            "type": "histogram2d"
           }
          ],
          "histogram2dcontour": [
           {
            "colorbar": {
             "outlinewidth": 0,
             "ticks": ""
            },
            "colorscale": [
             [
              0,
              "#0d0887"
             ],
             [
              0.1111111111111111,
              "#46039f"
             ],
             [
              0.2222222222222222,
              "#7201a8"
             ],
             [
              0.3333333333333333,
              "#9c179e"
             ],
             [
              0.4444444444444444,
              "#bd3786"
             ],
             [
              0.5555555555555556,
              "#d8576b"
             ],
             [
              0.6666666666666666,
              "#ed7953"
             ],
             [
              0.7777777777777778,
              "#fb9f3a"
             ],
             [
              0.8888888888888888,
              "#fdca26"
             ],
             [
              1,
              "#f0f921"
             ]
            ],
            "type": "histogram2dcontour"
           }
          ],
          "mesh3d": [
           {
            "colorbar": {
             "outlinewidth": 0,
             "ticks": ""
            },
            "type": "mesh3d"
           }
          ],
          "parcoords": [
           {
            "line": {
             "colorbar": {
              "outlinewidth": 0,
              "ticks": ""
             }
            },
            "type": "parcoords"
           }
          ],
          "pie": [
           {
            "automargin": true,
            "type": "pie"
           }
          ],
          "scatter": [
           {
            "marker": {
             "colorbar": {
              "outlinewidth": 0,
              "ticks": ""
             }
            },
            "type": "scatter"
           }
          ],
          "scatter3d": [
           {
            "line": {
             "colorbar": {
              "outlinewidth": 0,
              "ticks": ""
             }
            },
            "marker": {
             "colorbar": {
              "outlinewidth": 0,
              "ticks": ""
             }
            },
            "type": "scatter3d"
           }
          ],
          "scattercarpet": [
           {
            "marker": {
             "colorbar": {
              "outlinewidth": 0,
              "ticks": ""
             }
            },
            "type": "scattercarpet"
           }
          ],
          "scattergeo": [
           {
            "marker": {
             "colorbar": {
              "outlinewidth": 0,
              "ticks": ""
             }
            },
            "type": "scattergeo"
           }
          ],
          "scattergl": [
           {
            "marker": {
             "colorbar": {
              "outlinewidth": 0,
              "ticks": ""
             }
            },
            "type": "scattergl"
           }
          ],
          "scattermapbox": [
           {
            "marker": {
             "colorbar": {
              "outlinewidth": 0,
              "ticks": ""
             }
            },
            "type": "scattermapbox"
           }
          ],
          "scatterpolar": [
           {
            "marker": {
             "colorbar": {
              "outlinewidth": 0,
              "ticks": ""
             }
            },
            "type": "scatterpolar"
           }
          ],
          "scatterpolargl": [
           {
            "marker": {
             "colorbar": {
              "outlinewidth": 0,
              "ticks": ""
             }
            },
            "type": "scatterpolargl"
           }
          ],
          "scatterternary": [
           {
            "marker": {
             "colorbar": {
              "outlinewidth": 0,
              "ticks": ""
             }
            },
            "type": "scatterternary"
           }
          ],
          "surface": [
           {
            "colorbar": {
             "outlinewidth": 0,
             "ticks": ""
            },
            "colorscale": [
             [
              0,
              "#0d0887"
             ],
             [
              0.1111111111111111,
              "#46039f"
             ],
             [
              0.2222222222222222,
              "#7201a8"
             ],
             [
              0.3333333333333333,
              "#9c179e"
             ],
             [
              0.4444444444444444,
              "#bd3786"
             ],
             [
              0.5555555555555556,
              "#d8576b"
             ],
             [
              0.6666666666666666,
              "#ed7953"
             ],
             [
              0.7777777777777778,
              "#fb9f3a"
             ],
             [
              0.8888888888888888,
              "#fdca26"
             ],
             [
              1,
              "#f0f921"
             ]
            ],
            "type": "surface"
           }
          ],
          "table": [
           {
            "cells": {
             "fill": {
              "color": "#EBF0F8"
             },
             "line": {
              "color": "white"
             }
            },
            "header": {
             "fill": {
              "color": "#C8D4E3"
             },
             "line": {
              "color": "white"
             }
            },
            "type": "table"
           }
          ]
         },
         "layout": {
          "annotationdefaults": {
           "arrowcolor": "#2a3f5f",
           "arrowhead": 0,
           "arrowwidth": 1
          },
          "coloraxis": {
           "colorbar": {
            "outlinewidth": 0,
            "ticks": ""
           }
          },
          "colorscale": {
           "diverging": [
            [
             0,
             "#8e0152"
            ],
            [
             0.1,
             "#c51b7d"
            ],
            [
             0.2,
             "#de77ae"
            ],
            [
             0.3,
             "#f1b6da"
            ],
            [
             0.4,
             "#fde0ef"
            ],
            [
             0.5,
             "#f7f7f7"
            ],
            [
             0.6,
             "#e6f5d0"
            ],
            [
             0.7,
             "#b8e186"
            ],
            [
             0.8,
             "#7fbc41"
            ],
            [
             0.9,
             "#4d9221"
            ],
            [
             1,
             "#276419"
            ]
           ],
           "sequential": [
            [
             0,
             "#0d0887"
            ],
            [
             0.1111111111111111,
             "#46039f"
            ],
            [
             0.2222222222222222,
             "#7201a8"
            ],
            [
             0.3333333333333333,
             "#9c179e"
            ],
            [
             0.4444444444444444,
             "#bd3786"
            ],
            [
             0.5555555555555556,
             "#d8576b"
            ],
            [
             0.6666666666666666,
             "#ed7953"
            ],
            [
             0.7777777777777778,
             "#fb9f3a"
            ],
            [
             0.8888888888888888,
             "#fdca26"
            ],
            [
             1,
             "#f0f921"
            ]
           ],
           "sequentialminus": [
            [
             0,
             "#0d0887"
            ],
            [
             0.1111111111111111,
             "#46039f"
            ],
            [
             0.2222222222222222,
             "#7201a8"
            ],
            [
             0.3333333333333333,
             "#9c179e"
            ],
            [
             0.4444444444444444,
             "#bd3786"
            ],
            [
             0.5555555555555556,
             "#d8576b"
            ],
            [
             0.6666666666666666,
             "#ed7953"
            ],
            [
             0.7777777777777778,
             "#fb9f3a"
            ],
            [
             0.8888888888888888,
             "#fdca26"
            ],
            [
             1,
             "#f0f921"
            ]
           ]
          },
          "colorway": [
           "#636efa",
           "#EF553B",
           "#00cc96",
           "#ab63fa",
           "#FFA15A",
           "#19d3f3",
           "#FF6692",
           "#B6E880",
           "#FF97FF",
           "#FECB52"
          ],
          "font": {
           "color": "#2a3f5f"
          },
          "geo": {
           "bgcolor": "white",
           "lakecolor": "white",
           "landcolor": "#E5ECF6",
           "showlakes": true,
           "showland": true,
           "subunitcolor": "white"
          },
          "hoverlabel": {
           "align": "left"
          },
          "hovermode": "closest",
          "mapbox": {
           "style": "light"
          },
          "paper_bgcolor": "white",
          "plot_bgcolor": "#E5ECF6",
          "polar": {
           "angularaxis": {
            "gridcolor": "white",
            "linecolor": "white",
            "ticks": ""
           },
           "bgcolor": "#E5ECF6",
           "radialaxis": {
            "gridcolor": "white",
            "linecolor": "white",
            "ticks": ""
           }
          },
          "scene": {
           "xaxis": {
            "backgroundcolor": "#E5ECF6",
            "gridcolor": "white",
            "gridwidth": 2,
            "linecolor": "white",
            "showbackground": true,
            "ticks": "",
            "zerolinecolor": "white"
           },
           "yaxis": {
            "backgroundcolor": "#E5ECF6",
            "gridcolor": "white",
            "gridwidth": 2,
            "linecolor": "white",
            "showbackground": true,
            "ticks": "",
            "zerolinecolor": "white"
           },
           "zaxis": {
            "backgroundcolor": "#E5ECF6",
            "gridcolor": "white",
            "gridwidth": 2,
            "linecolor": "white",
            "showbackground": true,
            "ticks": "",
            "zerolinecolor": "white"
           }
          },
          "shapedefaults": {
           "line": {
            "color": "#2a3f5f"
           }
          },
          "ternary": {
           "aaxis": {
            "gridcolor": "white",
            "linecolor": "white",
            "ticks": ""
           },
           "baxis": {
            "gridcolor": "white",
            "linecolor": "white",
            "ticks": ""
           },
           "bgcolor": "#E5ECF6",
           "caxis": {
            "gridcolor": "white",
            "linecolor": "white",
            "ticks": ""
           }
          },
          "title": {
           "x": 0.05
          },
          "xaxis": {
           "automargin": true,
           "gridcolor": "white",
           "linecolor": "white",
           "ticks": "",
           "title": {
            "standoff": 15
           },
           "zerolinecolor": "white",
           "zerolinewidth": 2
          },
          "yaxis": {
           "automargin": true,
           "gridcolor": "white",
           "linecolor": "white",
           "ticks": "",
           "title": {
            "standoff": 15
           },
           "zerolinecolor": "white",
           "zerolinewidth": 2
          }
         }
        },
        "xaxis": {
         "autorange": true,
         "range": [
          "2004-01-01",
          "2013-01-01"
         ],
         "rangeselector": {
          "buttons": [
           {
            "count": 1,
            "label": "1m",
            "step": "month",
            "stepmode": "backward"
           },
           {
            "count": 6,
            "label": "6m",
            "step": "month",
            "stepmode": "backward"
           },
           {
            "count": 1,
            "label": "YTD",
            "step": "year",
            "stepmode": "todate"
           },
           {
            "count": 1,
            "label": "1y",
            "step": "year",
            "stepmode": "backward"
           },
           {
            "step": "all"
           }
          ]
         },
         "rangeslider": {
          "autorange": true,
          "range": [
           "2004-01-01",
           "2013-01-01"
          ],
          "visible": true,
          "yaxis": {
           "_template": null,
           "rangemode": "match"
          }
         },
         "type": "date"
        },
        "yaxis": {
         "autorange": true,
         "range": [
          1.8370213532569013,
          1.9811659141514297
         ],
         "title": {
          "text": "kg/capita"
         },
         "type": "log"
        }
       }
      },
      "image/png": "[encoded data removed]",
      "text/html": [
       "<div>\n",
       "        \n",
       "        \n",
       "            <div id=\"f4d9f05f-e8c3-45e1-9d3b-62e48e52d5a2\" class=\"plotly-graph-div\" style=\"height:525px; width:100%;\"></div>\n",
       "            <script type=\"text/javascript\">\n",
       "                require([\"plotly\"], function(Plotly) {\n",
       "                    window.PLOTLYENV=window.PLOTLYENV || {};\n",
       "                    \n",
       "                if (document.getElementById(\"f4d9f05f-e8c3-45e1-9d3b-62e48e52d5a2\")) {\n",
       "                    Plotly.newPlot(\n",
       "                        'f4d9f05f-e8c3-45e1-9d3b-62e48e52d5a2',\n",
       "                        [{\"fill\": \"tozeroy\", \"mode\": \"none\", \"name\": \"Austria\", \"opacity\": 0.1, \"type\": \"scatter\", \"x\": [2004, 2005, 2006, 2007, 2008, 2009, 2010, 2011, 2012, 2013], \"y\": [94.17999999999999, 93.07, 90.19, 92.58, 88.41, 91.25999999999999, 91.66, 90.34, 86.02000000000001, 89.47]}, {\"fill\": \"tozeroy\", \"mode\": \"none\", \"name\": \"Belgium\", \"opacity\": 0.1, \"type\": \"scatter\", \"visible\": \"legendonly\", \"x\": [2004, 2005, 2006, 2007, 2008, 2009, 2010, 2011, 2012, 2013], \"y\": [76.86, 79.98, 76.94, 80.85, 66.66, 64.17, 67.55, 65.39999999999999, 70.13, 67.8]}, {\"fill\": \"tozeroy\", \"mode\": \"none\", \"name\": \"Bulgaria\", \"opacity\": 0.1, \"type\": \"scatter\", \"visible\": \"legendonly\", \"x\": [2004, 2005, 2006, 2007, 2008, 2009, 2010, 2011, 2012, 2013], \"y\": [49.839999999999996, 49.87, 46.97, 45.92, 49.31999999999999, 53.879999999999995, 51.919999999999995, 55.56999999999999, 55.49, 52.41]}, {\"fill\": \"tozeroy\", \"mode\": \"none\", \"name\": \"Croatia\", \"opacity\": 0.1, \"type\": \"scatter\", \"visible\": \"legendonly\", \"x\": [2004, 2005, 2006, 2007, 2008, 2009, 2010, 2011, 2012, 2013], \"y\": [48.410000000000004, 49.02, 57.14, 61.900000000000006, 61.870000000000005, 66.44999999999999, 60.23, 59.82, 67.93, 65.42999999999999]}, {\"fill\": \"tozeroy\", \"mode\": \"none\", \"name\": \"Cyprus\", \"opacity\": 0.1, \"type\": \"scatter\", \"visible\": \"legendonly\", \"x\": [2004, 2005, 2006, 2007, 2008, 2009, 2010, 2011, 2012, 2013], \"y\": [78.75, 82.65, 78.83000000000001, 79.84, 77.57000000000001, 77.0, 76.22, 77.38, 77.97, 73.67]}, {\"fill\": \"tozeroy\", \"mode\": \"none\", \"name\": \"Czechia\", \"opacity\": 0.1, \"type\": \"scatter\", \"visible\": \"legendonly\", \"x\": [2004, 2005, 2006, 2007, 2008, 2009, 2010, 2011, 2012, 2013], \"y\": [83.05, 84.12, 81.15, 80.45, 79.25, 79.19, 78.65, 76.44999999999999, 71.08000000000001, 68.75]}, {\"fill\": \"tozeroy\", \"mode\": \"none\", \"name\": \"Denmark\", \"opacity\": 0.1, \"type\": \"scatter\", \"visible\": \"legendonly\", \"x\": [2004, 2005, 2006, 2007, 2008, 2009, 2010, 2011, 2012, 2013], \"y\": [71.37, 91.67, 78.22, 87.61000000000001, 77.47, 65.39, 75.05, 74.55, 75.41, 81.0]}, {\"fill\": \"tozeroy\", \"mode\": \"none\", \"name\": \"Estonia\", \"opacity\": 0.1, \"type\": \"scatter\", \"visible\": \"legendonly\", \"x\": [2004, 2005, 2006, 2007, 2008, 2009, 2010, 2011, 2012, 2013], \"y\": [59.33, 57.99, 65.41, 70.13, 67.64, 68.34, 72.69, 70.08, 60.82000000000001, 58.42]}, {\"fill\": \"tozeroy\", \"mode\": \"none\", \"name\": \"Finland\", \"opacity\": 0.1, \"type\": \"scatter\", \"x\": [2004, 2005, 2006, 2007, 2008, 2009, 2010, 2011, 2012, 2013], \"y\": [70.16, 70.62, 69.86, 73.08, 72.4, 71.05, 72.97, 72.45, 76.31, 75.76]}, {\"fill\": \"tozeroy\", \"mode\": \"none\", \"name\": \"France\", \"opacity\": 0.1, \"type\": \"scatter\", \"x\": [2004, 2005, 2006, 2007, 2008, 2009, 2010, 2011, 2012, 2013], \"y\": [87.39, 85.05, 84.06, 85.27000000000001, 88.12, 87.99000000000001, 86.77, 85.83, 86.06, 83.07]}, {\"fill\": \"tozeroy\", \"mode\": \"none\", \"name\": \"Germany\", \"opacity\": 0.1, \"type\": \"scatter\", \"x\": [2004, 2005, 2006, 2007, 2008, 2009, 2010, 2011, 2012, 2013], \"y\": [81.30999999999999, 80.67999999999999, 80.43, 83.36, 83.07, 83.47, 85.35, 85.69999999999999, 84.13, 83.45]}, {\"fill\": \"tozeroy\", \"mode\": \"none\", \"name\": \"Greece\", \"opacity\": 0.1, \"type\": \"scatter\", \"visible\": \"legendonly\", \"x\": [2004, 2005, 2006, 2007, 2008, 2009, 2010, 2011, 2012, 2013], \"y\": [76.27, 79.47, 80.3, 75.00999999999999, 76.08, 77.39, 77.53, 75.92, 72.17, 72.61999999999999]}, {\"fill\": \"tozeroy\", \"mode\": \"none\", \"name\": \"Hungary\", \"opacity\": 0.1, \"type\": \"scatter\", \"visible\": \"legendonly\", \"x\": [2004, 2005, 2006, 2007, 2008, 2009, 2010, 2011, 2012, 2013], \"y\": [89.4, 83.31, 83.52, 82.25999999999999, 79.75999999999999, 77.7, 69.59, 72.82, 70.75999999999999, 63.78]}, {\"fill\": \"tozeroy\", \"mode\": \"none\", \"name\": \"Ireland\", \"opacity\": 0.1, \"type\": \"scatter\", \"visible\": \"legendonly\", \"x\": [2004, 2005, 2006, 2007, 2008, 2009, 2010, 2011, 2012, 2013], \"y\": [100.43, 99.15, 97.02000000000001, 89.71000000000001, 87.86000000000001, 85.55, 80.81, 77.39, 82.6, 85.11]}, {\"fill\": \"tozeroy\", \"mode\": \"none\", \"name\": \"Italy\", \"opacity\": 0.1, \"type\": \"scatter\", \"visible\": \"legendonly\", \"x\": [2004, 2005, 2006, 2007, 2008, 2009, 2010, 2011, 2012, 2013], \"y\": [80.32, 79.16, 79.53999999999999, 82.2, 80.25, 81.96000000000001, 83.78999999999999, 80.95, 80.63, 78.41]}, {\"fill\": \"tozeroy\", \"mode\": \"none\", \"name\": \"Latvia\", \"opacity\": 0.1, \"type\": \"scatter\", \"visible\": \"legendonly\", \"x\": [2004, 2005, 2006, 2007, 2008, 2009, 2010, 2011, 2012, 2013], \"y\": [55.25, 59.63, 60.480000000000004, 64.56, 68.25999999999999, 65.24, 64.65, 68.39999999999999, 63.73, 60.940000000000005]}, {\"fill\": \"tozeroy\", \"mode\": \"none\", \"name\": \"Lithuania\", \"opacity\": 0.1, \"type\": \"scatter\", \"visible\": \"legendonly\", \"x\": [2004, 2005, 2006, 2007, 2008, 2009, 2010, 2011, 2012, 2013], \"y\": [70.68, 75.6, 79.37, 84.16, 84.42999999999999, 76.71000000000001, 73.41, 72.27000000000001, 73.65, 77.24000000000001]}, {\"fill\": \"tozeroy\", \"mode\": \"none\", \"name\": \"Luxembourg\", \"opacity\": 0.1, \"type\": \"scatter\", \"visible\": \"legendonly\", \"x\": [2004, 2005, 2006, 2007, 2008, 2009, 2010, 2011, 2012, 2013], \"y\": [100.86, 100.65, 98.30999999999999, 97.11, 101.56, 94.96000000000001, 96.74, 96.9, 94.94999999999999, 96.5]}, {\"fill\": \"tozeroy\", \"mode\": \"none\", \"name\": \"Malta\", \"opacity\": 0.1, \"type\": \"scatter\", \"visible\": \"legendonly\", \"x\": [2004, 2005, 2006, 2007, 2008, 2009, 2010, 2011, 2012, 2013], \"y\": [79.34, 77.21000000000001, 78.12, 86.0, 80.02000000000001, 79.06, 77.91, 78.78, 77.25, 81.05000000000001]}, {\"fill\": \"tozeroy\", \"mode\": \"none\", \"name\": \"Netherlands\", \"opacity\": 0.1, \"type\": \"scatter\", \"visible\": \"legendonly\", \"x\": [2004, 2005, 2006, 2007, 2008, 2009, 2010, 2011, 2012, 2013], \"y\": [77.55000000000001, 75.78, 72.61, 69.38, 81.10000000000001, 77.37, 69.89, 62.300000000000004, 79.96000000000001, 78.87]}, {\"fill\": \"tozeroy\", \"mode\": \"none\", \"name\": \"Poland\", \"opacity\": 0.1, \"type\": \"scatter\", \"visible\": \"legendonly\", \"x\": [2004, 2005, 2006, 2007, 2008, 2009, 2010, 2011, 2012, 2013], \"y\": [72.99, 72.75, 75.86, 75.3, 73.5, 74.37, 74.55, 76.16, 75.23, 75.94]}, {\"fill\": \"tozeroy\", \"mode\": \"none\", \"name\": \"Portugal\", \"opacity\": 0.1, \"type\": \"scatter\", \"visible\": \"legendonly\", \"x\": [2004, 2005, 2006, 2007, 2008, 2009, 2010, 2011, 2012, 2013], \"y\": [83.08, 83.86, 86.28999999999999, 92.9, 91.72999999999999, 92.47, 92.06, 88.89999999999999, 86.7, 86.88]}, {\"fill\": \"tozeroy\", \"mode\": \"none\", \"name\": \"Romania\", \"opacity\": 0.1, \"type\": \"scatter\", \"visible\": \"legendonly\", \"x\": [2004, 2005, 2006, 2007, 2008, 2009, 2010, 2011, 2012, 2013], \"y\": [52.6, 61.89, 61.06999999999999, 60.31, 60.57, 64.81, 56.96, 52.95, 53.03, 48.88]}, {\"fill\": \"tozeroy\", \"mode\": \"none\", \"name\": \"Slovakia\", \"opacity\": 0.1, \"type\": \"scatter\", \"visible\": \"legendonly\", \"x\": [2004, 2005, 2006, 2007, 2008, 2009, 2010, 2011, 2012, 2013], \"y\": [61.11, 64.74, 60.8, 58.36999999999999, 59.47, 58.8, 56.81, 58.209999999999994, 47.650000000000006, 52.260000000000005]}, {\"fill\": \"tozeroy\", \"mode\": \"none\", \"name\": \"Slovenia\", \"opacity\": 0.1, \"type\": \"scatter\", \"visible\": \"legendonly\", \"x\": [2004, 2005, 2006, 2007, 2008, 2009, 2010, 2011, 2012, 2013], \"y\": [88.94, 91.08000000000001, 86.57000000000001, 83.68, 87.81, 87.02000000000001, 85.31, 81.15, 77.82, 70.87]}, {\"fill\": \"tozeroy\", \"mode\": \"none\", \"name\": \"Spain\", \"opacity\": 0.1, \"type\": \"scatter\", \"visible\": \"legendonly\", \"x\": [2004, 2005, 2006, 2007, 2008, 2009, 2010, 2011, 2012, 2013], \"y\": [106.12, 105.84, 104.99, 108.25999999999999, 100.00999999999999, 95.16999999999999, 93.58, 93.71, 93.54, 91.86]}, {\"fill\": \"tozeroy\", \"mode\": \"none\", \"name\": \"Sweden\", \"opacity\": 0.1, \"type\": \"scatter\", \"visible\": \"legendonly\", \"x\": [2004, 2005, 2006, 2007, 2008, 2009, 2010, 2011, 2012, 2013], \"y\": [74.89999999999999, 75.35, 75.17, 76.58, 77.33, 76.31, 78.43, 79.19, 77.06, 79.63]}, {\"fill\": \"tozeroy\", \"mode\": \"none\", \"name\": \"United Kingdom\", \"opacity\": 0.1, \"type\": \"scatter\", \"visible\": \"legendonly\", \"x\": [2004, 2005, 2006, 2007, 2008, 2009, 2010, 2011, 2012, 2013], \"y\": [84.56, 83.16, 85.3, 84.46, 80.92, 79.99000000000001, 80.24000000000001, 80.94, 81.14, 79.95]}],\n",
       "                        {\"template\": {\"data\": {\"bar\": [{\"error_x\": {\"color\": \"#2a3f5f\"}, \"error_y\": {\"color\": \"#2a3f5f\"}, \"marker\": {\"line\": {\"color\": \"#E5ECF6\", \"width\": 0.5}}, \"type\": \"bar\"}], \"barpolar\": [{\"marker\": {\"line\": {\"color\": \"#E5ECF6\", \"width\": 0.5}}, \"type\": \"barpolar\"}], \"carpet\": [{\"aaxis\": {\"endlinecolor\": \"#2a3f5f\", \"gridcolor\": \"white\", \"linecolor\": \"white\", \"minorgridcolor\": \"white\", \"startlinecolor\": \"#2a3f5f\"}, \"baxis\": {\"endlinecolor\": \"#2a3f5f\", \"gridcolor\": \"white\", \"linecolor\": \"white\", \"minorgridcolor\": \"white\", \"startlinecolor\": \"#2a3f5f\"}, \"type\": \"carpet\"}], \"choropleth\": [{\"colorbar\": {\"outlinewidth\": 0, \"ticks\": \"\"}, \"type\": \"choropleth\"}], \"contour\": [{\"colorbar\": {\"outlinewidth\": 0, \"ticks\": \"\"}, \"colorscale\": [[0.0, \"#0d0887\"], [0.1111111111111111, \"#46039f\"], [0.2222222222222222, \"#7201a8\"], [0.3333333333333333, \"#9c179e\"], [0.4444444444444444, \"#bd3786\"], [0.5555555555555556, \"#d8576b\"], [0.6666666666666666, \"#ed7953\"], [0.7777777777777778, \"#fb9f3a\"], [0.8888888888888888, \"#fdca26\"], [1.0, \"#f0f921\"]], \"type\": \"contour\"}], \"contourcarpet\": [{\"colorbar\": {\"outlinewidth\": 0, \"ticks\": \"\"}, \"type\": \"contourcarpet\"}], \"heatmap\": [{\"colorbar\": {\"outlinewidth\": 0, \"ticks\": \"\"}, \"colorscale\": [[0.0, \"#0d0887\"], [0.1111111111111111, \"#46039f\"], [0.2222222222222222, \"#7201a8\"], [0.3333333333333333, \"#9c179e\"], [0.4444444444444444, \"#bd3786\"], [0.5555555555555556, \"#d8576b\"], [0.6666666666666666, \"#ed7953\"], [0.7777777777777778, \"#fb9f3a\"], [0.8888888888888888, \"#fdca26\"], [1.0, \"#f0f921\"]], \"type\": \"heatmap\"}], \"heatmapgl\": [{\"colorbar\": {\"outlinewidth\": 0, \"ticks\": \"\"}, \"colorscale\": [[0.0, \"#0d0887\"], [0.1111111111111111, \"#46039f\"], [0.2222222222222222, \"#7201a8\"], [0.3333333333333333, \"#9c179e\"], [0.4444444444444444, \"#bd3786\"], [0.5555555555555556, \"#d8576b\"], [0.6666666666666666, \"#ed7953\"], [0.7777777777777778, \"#fb9f3a\"], [0.8888888888888888, \"#fdca26\"], [1.0, \"#f0f921\"]], \"type\": \"heatmapgl\"}], \"histogram\": [{\"marker\": {\"colorbar\": {\"outlinewidth\": 0, \"ticks\": \"\"}}, \"type\": \"histogram\"}], \"histogram2d\": [{\"colorbar\": {\"outlinewidth\": 0, \"ticks\": \"\"}, \"colorscale\": [[0.0, \"#0d0887\"], [0.1111111111111111, \"#46039f\"], [0.2222222222222222, \"#7201a8\"], [0.3333333333333333, \"#9c179e\"], [0.4444444444444444, \"#bd3786\"], [0.5555555555555556, \"#d8576b\"], [0.6666666666666666, \"#ed7953\"], [0.7777777777777778, \"#fb9f3a\"], [0.8888888888888888, \"#fdca26\"], [1.0, \"#f0f921\"]], \"type\": \"histogram2d\"}], \"histogram2dcontour\": [{\"colorbar\": {\"outlinewidth\": 0, \"ticks\": \"\"}, \"colorscale\": [[0.0, \"#0d0887\"], [0.1111111111111111, \"#46039f\"], [0.2222222222222222, \"#7201a8\"], [0.3333333333333333, \"#9c179e\"], [0.4444444444444444, \"#bd3786\"], [0.5555555555555556, \"#d8576b\"], [0.6666666666666666, \"#ed7953\"], [0.7777777777777778, \"#fb9f3a\"], [0.8888888888888888, \"#fdca26\"], [1.0, \"#f0f921\"]], \"type\": \"histogram2dcontour\"}], \"mesh3d\": [{\"colorbar\": {\"outlinewidth\": 0, \"ticks\": \"\"}, \"type\": \"mesh3d\"}], \"parcoords\": [{\"line\": {\"colorbar\": {\"outlinewidth\": 0, \"ticks\": \"\"}}, \"type\": \"parcoords\"}], \"pie\": [{\"automargin\": true, \"type\": \"pie\"}], \"scatter\": [{\"marker\": {\"colorbar\": {\"outlinewidth\": 0, \"ticks\": \"\"}}, \"type\": \"scatter\"}], \"scatter3d\": [{\"line\": {\"colorbar\": {\"outlinewidth\": 0, \"ticks\": \"\"}}, \"marker\": {\"colorbar\": {\"outlinewidth\": 0, \"ticks\": \"\"}}, \"type\": \"scatter3d\"}], \"scattercarpet\": [{\"marker\": {\"colorbar\": {\"outlinewidth\": 0, \"ticks\": \"\"}}, \"type\": \"scattercarpet\"}], \"scattergeo\": [{\"marker\": {\"colorbar\": {\"outlinewidth\": 0, \"ticks\": \"\"}}, \"type\": \"scattergeo\"}], \"scattergl\": [{\"marker\": {\"colorbar\": {\"outlinewidth\": 0, \"ticks\": \"\"}}, \"type\": \"scattergl\"}], \"scattermapbox\": [{\"marker\": {\"colorbar\": {\"outlinewidth\": 0, \"ticks\": \"\"}}, \"type\": \"scattermapbox\"}], \"scatterpolar\": [{\"marker\": {\"colorbar\": {\"outlinewidth\": 0, \"ticks\": \"\"}}, \"type\": \"scatterpolar\"}], \"scatterpolargl\": [{\"marker\": {\"colorbar\": {\"outlinewidth\": 0, \"ticks\": \"\"}}, \"type\": \"scatterpolargl\"}], \"scatterternary\": [{\"marker\": {\"colorbar\": {\"outlinewidth\": 0, \"ticks\": \"\"}}, \"type\": \"scatterternary\"}], \"surface\": [{\"colorbar\": {\"outlinewidth\": 0, \"ticks\": \"\"}, \"colorscale\": [[0.0, \"#0d0887\"], [0.1111111111111111, \"#46039f\"], [0.2222222222222222, \"#7201a8\"], [0.3333333333333333, \"#9c179e\"], [0.4444444444444444, \"#bd3786\"], [0.5555555555555556, \"#d8576b\"], [0.6666666666666666, \"#ed7953\"], [0.7777777777777778, \"#fb9f3a\"], [0.8888888888888888, \"#fdca26\"], [1.0, \"#f0f921\"]], \"type\": \"surface\"}], \"table\": [{\"cells\": {\"fill\": {\"color\": \"#EBF0F8\"}, \"line\": {\"color\": \"white\"}}, \"header\": {\"fill\": {\"color\": \"#C8D4E3\"}, \"line\": {\"color\": \"white\"}}, \"type\": \"table\"}]}, \"layout\": {\"annotationdefaults\": {\"arrowcolor\": \"#2a3f5f\", \"arrowhead\": 0, \"arrowwidth\": 1}, \"coloraxis\": {\"colorbar\": {\"outlinewidth\": 0, \"ticks\": \"\"}}, \"colorscale\": {\"diverging\": [[0, \"#8e0152\"], [0.1, \"#c51b7d\"], [0.2, \"#de77ae\"], [0.3, \"#f1b6da\"], [0.4, \"#fde0ef\"], [0.5, \"#f7f7f7\"], [0.6, \"#e6f5d0\"], [0.7, \"#b8e186\"], [0.8, \"#7fbc41\"], [0.9, \"#4d9221\"], [1, \"#276419\"]], \"sequential\": [[0.0, \"#0d0887\"], [0.1111111111111111, \"#46039f\"], [0.2222222222222222, \"#7201a8\"], [0.3333333333333333, \"#9c179e\"], [0.4444444444444444, \"#bd3786\"], [0.5555555555555556, \"#d8576b\"], [0.6666666666666666, \"#ed7953\"], [0.7777777777777778, \"#fb9f3a\"], [0.8888888888888888, \"#fdca26\"], [1.0, \"#f0f921\"]], \"sequentialminus\": [[0.0, \"#0d0887\"], [0.1111111111111111, \"#46039f\"], [0.2222222222222222, \"#7201a8\"], [0.3333333333333333, \"#9c179e\"], [0.4444444444444444, \"#bd3786\"], [0.5555555555555556, \"#d8576b\"], [0.6666666666666666, \"#ed7953\"], [0.7777777777777778, \"#fb9f3a\"], [0.8888888888888888, \"#fdca26\"], [1.0, \"#f0f921\"]]}, \"colorway\": [\"#636efa\", \"#EF553B\", \"#00cc96\", \"#ab63fa\", \"#FFA15A\", \"#19d3f3\", \"#FF6692\", \"#B6E880\", \"#FF97FF\", \"#FECB52\"], \"font\": {\"color\": \"#2a3f5f\"}, \"geo\": {\"bgcolor\": \"white\", \"lakecolor\": \"white\", \"landcolor\": \"#E5ECF6\", \"showlakes\": true, \"showland\": true, \"subunitcolor\": \"white\"}, \"hoverlabel\": {\"align\": \"left\"}, \"hovermode\": \"closest\", \"mapbox\": {\"style\": \"light\"}, \"paper_bgcolor\": \"white\", \"plot_bgcolor\": \"#E5ECF6\", \"polar\": {\"angularaxis\": {\"gridcolor\": \"white\", \"linecolor\": \"white\", \"ticks\": \"\"}, \"bgcolor\": \"#E5ECF6\", \"radialaxis\": {\"gridcolor\": \"white\", \"linecolor\": \"white\", \"ticks\": \"\"}}, \"scene\": {\"xaxis\": {\"backgroundcolor\": \"#E5ECF6\", \"gridcolor\": \"white\", \"gridwidth\": 2, \"linecolor\": \"white\", \"showbackground\": true, \"ticks\": \"\", \"zerolinecolor\": \"white\"}, \"yaxis\": {\"backgroundcolor\": \"#E5ECF6\", \"gridcolor\": \"white\", \"gridwidth\": 2, \"linecolor\": \"white\", \"showbackground\": true, \"ticks\": \"\", \"zerolinecolor\": \"white\"}, \"zaxis\": {\"backgroundcolor\": \"#E5ECF6\", \"gridcolor\": \"white\", \"gridwidth\": 2, \"linecolor\": \"white\", \"showbackground\": true, \"ticks\": \"\", \"zerolinecolor\": \"white\"}}, \"shapedefaults\": {\"line\": {\"color\": \"#2a3f5f\"}}, \"ternary\": {\"aaxis\": {\"gridcolor\": \"white\", \"linecolor\": \"white\", \"ticks\": \"\"}, \"baxis\": {\"gridcolor\": \"white\", \"linecolor\": \"white\", \"ticks\": \"\"}, \"bgcolor\": \"#E5ECF6\", \"caxis\": {\"gridcolor\": \"white\", \"linecolor\": \"white\", \"ticks\": \"\"}}, \"title\": {\"x\": 0.05}, \"xaxis\": {\"automargin\": true, \"gridcolor\": \"white\", \"linecolor\": \"white\", \"ticks\": \"\", \"title\": {\"standoff\": 15}, \"zerolinecolor\": \"white\", \"zerolinewidth\": 2}, \"yaxis\": {\"automargin\": true, \"gridcolor\": \"white\", \"linecolor\": \"white\", \"ticks\": \"\", \"title\": {\"standoff\": 15}, \"zerolinecolor\": \"white\", \"zerolinewidth\": 2}}}, \"xaxis\": {\"rangeselector\": {\"buttons\": [{\"count\": 1, \"label\": \"1m\", \"step\": \"month\", \"stepmode\": \"backward\"}, {\"count\": 6, \"label\": \"6m\", \"step\": \"month\", \"stepmode\": \"backward\"}, {\"count\": 1, \"label\": \"YTD\", \"step\": \"year\", \"stepmode\": \"todate\"}, {\"count\": 1, \"label\": \"1y\", \"step\": \"year\", \"stepmode\": \"backward\"}, {\"step\": \"all\"}]}, \"rangeslider\": {\"visible\": true}, \"type\": \"date\"}, \"yaxis\": {\"title\": {\"text\": \"kg/capita\"}, \"type\": \"log\"}},\n",
       "                        {\"responsive\": true}\n",
       "                    ).then(function(){\n",
       "                            \n",
       "var gd = document.getElementById('f4d9f05f-e8c3-45e1-9d3b-62e48e52d5a2');\n",
       "var x = new MutationObserver(function (mutations, observer) {{\n",
       "        var display = window.getComputedStyle(gd).display;\n",
       "        if (!display || display === 'none') {{\n",
       "            console.log([gd, 'removed!']);\n",
       "            Plotly.purge(gd);\n",
       "            observer.disconnect();\n",
       "        }}\n",
       "}});\n",
       "\n",
       "// Listen for the removal of the full notebook cells\n",
       "var notebookContainer = gd.closest('#notebook-container');\n",
       "if (notebookContainer) {{\n",
       "    x.observe(notebookContainer, {childList: true});\n",
       "}}\n",
       "\n",
       "// Listen for the clearing of the current output cell\n",
       "var outputEl = gd.closest('.output');\n",
       "if (outputEl) {{\n",
       "    x.observe(outputEl, {childList: true});\n",
       "}}\n",
       "\n",
       "                        })\n",
       "                };\n",
       "                });\n",
       "            </script>\n",
       "        </div>"
      ]
     },
     "metadata": {},
     "output_type": "display_data"
    }
   ],
   "source": [
    "fig = go.Figure()\n",
    "\n",
    "country_to_disp = ['Austria', 'Finland','Germany', 'France']\n",
    "\n",
    "for country in meat_consumption.Country.unique():\n",
    "    if(country in country_to_disp):\n",
    "        fig.add_trace(go.Scatter(\n",
    "            x=meat_consumption[meat_consumption.Country == country]['Year'],\n",
    "            y=meat_consumption[meat_consumption.Country == country]['value'],\n",
    "            #visible = \"legendonly\",\n",
    "            #fill='tonexty',\n",
    "            fill='tozeroy',\n",
    "            mode='none',\n",
    "            #color='Area',\n",
    "            name=country,\n",
    "            #histfunc='avg',\n",
    "            #nbinsx = 100,\n",
    "            #marker=dict(\n",
    "            #    color=random.randint(10,99999)#'#FF44'+str(random.randint(10,99)),\n",
    "            #),\n",
    "            #color_discrete_sequence=['indianred']\n",
    "          ))\n",
    "        \n",
    "    else:\n",
    "        fig.add_trace(go.Scatter(\n",
    "            x=meat_consumption[meat_consumption.Country == country]['Year'],\n",
    "            y=meat_consumption[meat_consumption.Country == country]['value'],\n",
    "            visible = \"legendonly\",\n",
    "            #fill='tonexty',\n",
    "            fill='tozeroy',\n",
    "            mode='none',\n",
    "            #color='Area',\n",
    "            name=country,\n",
    "            #histfunc='avg',\n",
    "            #nbinsx = 100,\n",
    "            #marker=dict(\n",
    "            #    color=random.randint(10,99999)#'#FF44'+str(random.randint(10,99)),\n",
    "            #),\n",
    "            #color_discrete_sequence=['indianred']\n",
    "          ))\n",
    "    \n",
    "    \n",
    "\n",
    "\n",
    "# Overlay both histograms\n",
    "#fig.update_layout(barmode='overlay')\n",
    "# Reduce opacity to see both histograms\n",
    "fig.update_traces(opacity=0.1)\n",
    "fig.update_layout(yaxis_type=\"log\")\n",
    "\n",
    "# Add range slider\n",
    "fig.update_layout(\n",
    "    xaxis=go.layout.XAxis(\n",
    "        rangeselector=dict(\n",
    "            buttons=list([\n",
    "                dict(count=1,\n",
    "                     label=\"1m\",\n",
    "                     step=\"month\",\n",
    "                     stepmode=\"backward\"),\n",
    "                dict(count=6,\n",
    "                     label=\"6m\",\n",
    "                     step=\"month\",\n",
    "                     stepmode=\"backward\"),\n",
    "                dict(count=1,\n",
    "                     label=\"YTD\",\n",
    "                     step=\"year\",\n",
    "                     stepmode=\"todate\"),\n",
    "                dict(count=1,\n",
    "                     label=\"1y\",\n",
    "                     step=\"year\",\n",
    "                     stepmode=\"backward\"),\n",
    "                dict(step=\"all\")\n",
    "            ])\n",
    "        ),\n",
    "        rangeslider=dict(\n",
    "            visible=True\n",
    "        ),\n",
    "        type=\"date\"\n",
    "    ), \n",
    "    yaxis_title=\"kg/capita\",\n",
    ")\n",
    "\n",
    "#change_config(fig).show()\n",
    "fig.show()\n",
    "\n",
    "#pio.write_html(change_config(fig), file='graphe2.html', auto_open=True)"
   ]
  },
  {
   "cell_type": "markdown",
   "metadata": {},
   "source": [
    "# PART 3"
   ]
  },
  {
   "cell_type": "markdown",
   "metadata": {},
   "source": [
    "## Climate Change Google trend"
   ]
  },
  {
   "cell_type": "code",
   "execution_count": 1,
   "metadata": {},
   "outputs": [
    {
     "ename": "NameError",
     "evalue": "name 'pd' is not defined",
     "output_type": "error",
     "traceback": [
      "\u001b[0;31m---------------------------------------------------------------------------\u001b[0m",
      "\u001b[0;31mNameError\u001b[0m                                 Traceback (most recent call last)",
      "\u001b[0;32m<ipython-input-1-3dd23b8f2546>\u001b[0m in \u001b[0;36m<module>\u001b[0;34m\u001b[0m\n\u001b[0;32m----> 1\u001b[0;31m \u001b[0mfr_cons\u001b[0m \u001b[0;34m=\u001b[0m \u001b[0mpd\u001b[0m\u001b[0;34m.\u001b[0m\u001b[0mread_csv\u001b[0m\u001b[0;34m(\u001b[0m\u001b[0mpath\u001b[0m \u001b[0;34m+\u001b[0m \u001b[0;34m'fr_consumption.csv'\u001b[0m\u001b[0;34m)\u001b[0m\u001b[0;34m\u001b[0m\u001b[0;34m\u001b[0m\u001b[0m\n\u001b[0m",
      "\u001b[0;31mNameError\u001b[0m: name 'pd' is not defined"
     ]
    }
   ],
   "source": [
    "fr_cons = pd.read_csv('data_aslam/fr_consumption.csv')"
   ]
  },
  {
   "cell_type": "code",
   "execution_count": 18,
   "metadata": {},
   "outputs": [],
   "source": [
    "df_ecology = pd.read_pickle(\"./data_martin/GoogleTrend0.pkl\")\n",
    "df_green_peace = pd.read_pickle(\"./data_martin/GoogleTrend1.pkl\")\n",
    "df_sea_shepherd = pd.read_pickle(\"./data_martin/GoogleTrend2.pkl\")\n",
    "df_climate_change = pd.read_pickle(\"./data_martin/GoogleTrend3.pkl\")\n",
    "df_giec = pd.read_pickle(\"./data_martin/GoogleTrend4.pkl\")\n",
    "df_global_warming = pd.read_pickle(\"./data_martin/GoogleTrend5.pkl\")"
   ]
  },
  {
   "cell_type": "code",
   "execution_count": 19,
   "metadata": {},
   "outputs": [],
   "source": [
    "data = [[\"2006-05-24\", \"An Inconvenient Truth Movie\"],\n",
    "        ['2006-11-06', \"COP12\"], \n",
    "        ['2007-12-03', \"COP13\"], \n",
    "        ['2007-09-18', \"IPCC 4th Assessment Report\"],\n",
    "        ['2008-12-01', \"COP14\"], \n",
    "        ['2009-12-07', \"COP15\"],\n",
    "        [\"2009-12-18\", \"Copenhagen Accord\"],\n",
    "        ['2010-11-28', \"COP16\"],\n",
    "        ['2011-11-27', \"COP17\"],\n",
    "        ['2012-11-26', \"COP18\"],\n",
    "        ['2013-11-11', \"COP19\"],\n",
    "        ['2014-12-01', \"COP20\"],\n",
    "        ['2015-11-30', \"COP21\"],\n",
    "        [\"2015-12-12\", \"Paris Agreement\"],\n",
    "        ['2016-11-07', \"COP22\"],\n",
    "        ['2017-11-06', \"COP23\"],\n",
    "        [\"2018-09-08\", \"Rise for climate\"],\n",
    "        ['2018-12-03', \"COP24\"],\n",
    "        ['2019-06-17', \"COP25\"],\n",
    "        [\"2019-03-19\", \"Start of School strike for the climate\"]] "
   ]
  },
  {
   "cell_type": "code",
   "execution_count": 20,
   "metadata": {},
   "outputs": [],
   "source": [
    "df_global_change = df_global_warming + df_climate_change\n",
    "\n",
    "df_global_change_norm = df_global_change.copy()\n",
    "\n",
    "for x in range(0,28):\n",
    "        df_global_change_norm.iloc[:,x] = df_global_change_norm.iloc[:,x]/df_global_change_norm.iloc[:,x].max()\n",
    "        \n",
    "df_global_change_norm.loc[:,\"Total norm\"] = df_global_change_norm.sum(axis=1)\n",
    "\n",
    "\n"
   ]
  },
  {
   "cell_type": "code",
   "execution_count": 23,
   "metadata": {},
   "outputs": [],
   "source": [
    "def change_config_graphe_1(fig):\n",
    "    '''Custom parametrization for plot'''\n",
    "    # params \n",
    "    # title and labels\n",
    "    size_title = 15 \n",
    "    size_axes_labels = 15\n",
    "    family = 'Courier' # font \n",
    "    color = '#F2F2F2'\n",
    "    #color = '#2b2b2b'\n",
    "    \n",
    "    \n",
    "    # plot config\n",
    "    width = 1300\n",
    "    height = 600\n",
    "    \n",
    "    # configuration of the axes (ticks for each label on the axes)\n",
    "    ticks = 'outside'\n",
    "    tickwidth = 2 \n",
    "    tickcolor = '#2b2b2b'\n",
    "    ticklen = 10\n",
    "    \n",
    "    # grid color \n",
    "    grid_color_x = 'white'\n",
    "    grid_color_y = 'rgba(0,0,0,0)'\n",
    "    \n",
    "    \n",
    "    # font for title and labels \n",
    "    font_title = dict(size=size_title, family=family, color=color)\n",
    "    font_axes_labels =  dict(size=size_axes_labels, family=family, color=color)\n",
    "    \n",
    "    \n",
    "    # remove background and configure size\n",
    "    layout = Layout(\n",
    "        paper_bgcolor='rgba(0,0,0,0)',\n",
    "        plot_bgcolor='rgba(0,0,0,0)',\n",
    "        font = font_axes_labels,\n",
    "        titlefont = font_title,\n",
    "        #height=height,\n",
    "        #width=width,\n",
    "    )\n",
    "    \n",
    "    fig.update_layout(layout)\n",
    "    \n",
    "    # update the axes configuration\n",
    "    fig.update_xaxes(\n",
    "      #  ticks = ticks,\n",
    "       # tickwidth = tickwidth, \n",
    "       # tickcolor = tickcolor,\n",
    "       # ticklen = ticklen,\n",
    "        title_font = font_axes_labels,\n",
    "        gridcolor = grid_color_x\n",
    "    )\n",
    "    \n",
    "    fig.update_yaxes(\n",
    "        #ticks = ticks,\n",
    "        #tickwidth = tickwidth, \n",
    "        #tickcolor = tickcolor,\n",
    "       # ticklen = ticklen,\n",
    "        title_font = font_axes_labels, \n",
    "        gridcolor = grid_color_y,\n",
    "        #gridwidth=None\n",
    "    )\n",
    "    \n",
    "    return fig"
   ]
  },
  {
   "cell_type": "code",
   "execution_count": 27,
   "metadata": {},
   "outputs": [
    {
     "data": {
      "application/vnd.plotly.v1+json": {
       "config": {
        "plotlyServerURL": "https://plot.ly"
       },
       "data": [
        {
         "marker": {
          "color": "#FF4464"
         },
         "mode": "lines",
         "name": "Climate change Google trend",
         "type": "scatter",
         "x": [
          "2005-08-01T00:00:00",
          "2005-09-01T00:00:00",
          "2005-10-01T00:00:00",
          "2005-11-01T00:00:00",
          "2005-12-01T00:00:00",
          "2006-01-01T00:00:00",
          "2006-02-01T00:00:00",
          "2006-03-01T00:00:00",
          "2006-04-01T00:00:00",
          "2006-05-01T00:00:00",
          "2006-06-01T00:00:00",
          "2006-07-01T00:00:00",
          "2006-08-01T00:00:00",
          "2006-09-01T00:00:00",
          "2006-10-01T00:00:00",
          "2006-11-01T00:00:00",
          "2006-12-01T00:00:00",
          "2007-01-01T00:00:00",
          "2007-02-01T00:00:00",
          "2007-03-01T00:00:00",
          "2007-04-01T00:00:00",
          "2007-05-01T00:00:00",
          "2007-06-01T00:00:00",
          "2007-07-01T00:00:00",
          "2007-08-01T00:00:00",
          "2007-09-01T00:00:00",
          "2007-10-01T00:00:00",
          "2007-11-01T00:00:00",
          "2007-12-01T00:00:00",
          "2008-01-01T00:00:00",
          "2008-02-01T00:00:00",
          "2008-03-01T00:00:00",
          "2008-04-01T00:00:00",
          "2008-05-01T00:00:00",
          "2008-06-01T00:00:00",
          "2008-07-01T00:00:00",
          "2008-08-01T00:00:00",
          "2008-09-01T00:00:00",
          "2008-10-01T00:00:00",
          "2008-11-01T00:00:00",
          "2008-12-01T00:00:00",
          "2009-01-01T00:00:00",
          "2009-02-01T00:00:00",
          "2009-03-01T00:00:00",
          "2009-04-01T00:00:00",
          "2009-05-01T00:00:00",
          "2009-06-01T00:00:00",
          "2009-07-01T00:00:00",
          "2009-08-01T00:00:00",
          "2009-09-01T00:00:00",
          "2009-10-01T00:00:00",
          "2009-11-01T00:00:00",
          "2009-12-01T00:00:00",
          "2010-01-01T00:00:00",
          "2010-02-01T00:00:00",
          "2010-03-01T00:00:00",
          "2010-04-01T00:00:00",
          "2010-05-01T00:00:00",
          "2010-06-01T00:00:00",
          "2010-07-01T00:00:00",
          "2010-08-01T00:00:00",
          "2010-09-01T00:00:00",
          "2010-10-01T00:00:00",
          "2010-11-01T00:00:00",
          "2010-12-01T00:00:00",
          "2011-01-01T00:00:00",
          "2011-02-01T00:00:00",
          "2011-03-01T00:00:00",
          "2011-04-01T00:00:00",
          "2011-05-01T00:00:00",
          "2011-06-01T00:00:00",
          "2011-07-01T00:00:00",
          "2011-08-01T00:00:00",
          "2011-09-01T00:00:00",
          "2011-10-01T00:00:00",
          "2011-11-01T00:00:00",
          "2011-12-01T00:00:00",
          "2012-01-01T00:00:00",
          "2012-02-01T00:00:00",
          "2012-03-01T00:00:00",
          "2012-04-01T00:00:00",
          "2012-05-01T00:00:00",
          "2012-06-01T00:00:00",
          "2012-07-01T00:00:00",
          "2012-08-01T00:00:00",
          "2012-09-01T00:00:00",
          "2012-10-01T00:00:00",
          "2012-11-01T00:00:00",
          "2012-12-01T00:00:00",
          "2013-01-01T00:00:00",
          "2013-02-01T00:00:00",
          "2013-03-01T00:00:00",
          "2013-04-01T00:00:00",
          "2013-05-01T00:00:00",
          "2013-06-01T00:00:00",
          "2013-07-01T00:00:00",
          "2013-08-01T00:00:00",
          "2013-09-01T00:00:00",
          "2013-10-01T00:00:00",
          "2013-11-01T00:00:00",
          "2013-12-01T00:00:00",
          "2014-01-01T00:00:00",
          "2014-02-01T00:00:00",
          "2014-03-01T00:00:00",
          "2014-04-01T00:00:00",
          "2014-05-01T00:00:00",
          "2014-06-01T00:00:00",
          "2014-07-01T00:00:00",
          "2014-08-01T00:00:00",
          "2014-09-01T00:00:00",
          "2014-10-01T00:00:00",
          "2014-11-01T00:00:00",
          "2014-12-01T00:00:00",
          "2015-01-01T00:00:00",
          "2015-02-01T00:00:00",
          "2015-03-01T00:00:00",
          "2015-04-01T00:00:00",
          "2015-05-01T00:00:00",
          "2015-06-01T00:00:00",
          "2015-07-01T00:00:00",
          "2015-08-01T00:00:00",
          "2015-09-01T00:00:00",
          "2015-10-01T00:00:00",
          "2015-11-01T00:00:00",
          "2015-12-01T00:00:00",
          "2016-01-01T00:00:00",
          "2016-02-01T00:00:00",
          "2016-03-01T00:00:00",
          "2016-04-01T00:00:00",
          "2016-05-01T00:00:00",
          "2016-06-01T00:00:00",
          "2016-07-01T00:00:00",
          "2016-08-01T00:00:00",
          "2016-09-01T00:00:00",
          "2016-10-01T00:00:00",
          "2016-11-01T00:00:00",
          "2016-12-01T00:00:00",
          "2017-01-01T00:00:00",
          "2017-02-01T00:00:00",
          "2017-03-01T00:00:00",
          "2017-04-01T00:00:00",
          "2017-05-01T00:00:00",
          "2017-06-01T00:00:00",
          "2017-07-01T00:00:00",
          "2017-08-01T00:00:00",
          "2017-09-01T00:00:00",
          "2017-10-01T00:00:00",
          "2017-11-01T00:00:00",
          "2017-12-01T00:00:00",
          "2018-01-01T00:00:00",
          "2018-02-01T00:00:00",
          "2018-03-01T00:00:00",
          "2018-04-01T00:00:00",
          "2018-05-01T00:00:00",
          "2018-06-01T00:00:00",
          "2018-07-01T00:00:00",
          "2018-08-01T00:00:00",
          "2018-09-01T00:00:00",
          "2018-10-01T00:00:00",
          "2018-11-01T00:00:00",
          "2018-12-01T00:00:00",
          "2019-01-01T00:00:00",
          "2019-02-01T00:00:00",
          "2019-03-01T00:00:00",
          "2019-04-01T00:00:00",
          "2019-05-01T00:00:00",
          "2019-06-01T00:00:00",
          "2019-07-01T00:00:00",
          "2019-08-01T00:00:00",
          "2019-09-01T00:00:00",
          "2019-10-01T00:00:00",
          "2019-11-01T00:00:00"
         ],
         "xaxis": "x",
         "y": [
          0.2591674266605899,
          0.45302694721299597,
          0.5741074456019752,
          0.6336787547457874,
          0.6430107075626922,
          0.6133731369709491,
          0.5560358758888184,
          0.4822687572345603,
          0.39191308007997694,
          0.3591970956540059,
          0.3159896874671173,
          0.32033568346838004,
          0.3685678206882057,
          0.4358360517731267,
          0.512869620119965,
          0.627817531305907,
          0.7102651794170304,
          0.7720088393139055,
          0.7812059349679095,
          0.7413816689466527,
          0.6780806061243856,
          0.6112438177417692,
          0.5534410186257002,
          0.5278438387877541,
          0.4810586130695596,
          0.49370198884563044,
          0.5192623382089895,
          0.5534462801220699,
          0.5858728822477146,
          0.6125013153740959,
          0.586330632431867,
          0.5337577607071482,
          0.4594654319688545,
          0.40525623487320017,
          0.3747869093970346,
          0.357797537619701,
          0.3373618857203007,
          0.34160265179417215,
          0.35226244343891594,
          0.3801536356939935,
          0.41415342523413895,
          0.44544880564032663,
          0.43999789540145473,
          0.4096548458381587,
          0.3701252236135978,
          0.3457539724297609,
          0.35185730821845923,
          0.38658844575397455,
          0.4058507839629613,
          0.4380932337156712,
          0.47012522361359843,
          0.5111280648216382,
          0.5387456592654982,
          0.5484531200673504,
          0.5337998526781047,
          0.48379459118173485,
          0.41240134694307296,
          0.34770072608650093,
          0.29550668210039094,
          0.2581132274018745,
          0.2494107124066098,
          0.2509470693465235,
          0.24787961696306565,
          0.265200463011682,
          0.2860359886351695,
          0.2978164790066312,
          0.29343891402715105,
          0.2721140692412938,
          0.24551720509312985,
          0.22787540776596993,
          0.21391665789750722,
          0.2150215721351164,
          0.21392718089024637,
          0.21904135536146602,
          0.23559928443649503,
          0.2593549405450925,
          0.27852783331579656,
          0.2912869620119979,
          0.29193412606545466,
          0.2752972745448821,
          0.25373040092602483,
          0.23714616436914793,
          0.2199989477007273,
          0.2158318425760298,
          0.20927601809954866,
          0.21208565716089775,
          0.20858676207513532,
          0.21869935809744412,
          0.23864042933810514,
          0.2484531200673486,
          0.24112385562454103,
          0.2276859938966655,
          0.21067557613385363,
          0.2021940439861108,
          0.1929180258865632,
          0.1883352625486699,
          0.18914553298958325,
          0.19525939177102075,
          0.20463537830159012,
          0.21976218036409675,
          0.23395243607282043,
          0.24915816058087062,
          0.2432442386614767,
          0.2331158581500592,
          0.21665263600968235,
          0.21511627906976866,
          0.2162580237819648,
          0.22010943912448822,
          0.21658423655687797,
          0.22379774807955508,
          0.24062401346943202,
          0.2591813111648968,
          0.28407871198569035,
          0.30589813743028693,
          0.3008891928864586,
          0.2887193517836489,
          0.256403241081765,
          0.2589445438282661,
          0.30315163632537256,
          0.3657634431232263,
          0.4097232452909631,
          0.44998947700726344,
          0.48183205303588617,
          0.5134589077133567,
          0.5333263180048438,
          0.5279385457224066,
          0.49443333684100044,
          0.44296011785752126,
          0.3628906661054424,
          0.3116436914658545,
          0.2541460591392205,
          0.25712406608439575,
          0.279653793538884,
          0.30293591497422034,
          0.31102283489424565,
          0.3293854572240364,
          0.3621067031463769,
          0.38294222876986433,
          0.3774913185309924,
          0.3557981689992654,
          0.3256287488161651,
          0.3161948858255305,
          0.3064716405345697,
          0.3178943491529008,
          0.31642113016942197,
          0.33222140376723325,
          0.3340103125328862,
          0.3520046301168072,
          0.3592812795959191,
          0.3525465642428727,
          0.35805535094180985,
          0.3265810796590568,
          0.30593496790487384,
          0.3092128801431144,
          0.323755656108599,
          0.3492318215300451,
          0.362895927601812,
          0.40131537409239415,
          0.4329632747553428,
          0.46596864148164,
          0.49519099231821817,
          0.5275491949910585,
          0.524939492791753,
          0.5148952962222485,
          0.5096601073345288,
          0.5022179086303571,
          0.49758549514021444,
          0.4982372316845638,
          0.5066474830838714,
          0.5252906141586032,
          0.5566409897292254,
          0.6031729746162037
         ],
         "yaxis": "y"
        },
        {
         "marker": {
          "color": "#FF7944"
         },
         "name": "meat consumption (kg/capita)",
         "opacity": 0.55,
         "type": "scatter",
         "x": [
          2004,
          2005,
          2006,
          2007,
          2008,
          2009,
          2010,
          2011,
          2012,
          2013,
          2014,
          2015,
          2016,
          2017,
          2018
         ],
         "xaxis": "x",
         "y": [
          88.4,
          88,
          87.4,
          88.3,
          87.8,
          86.2,
          86.6,
          86.1,
          85.8,
          84.5,
          85.6,
          85.4,
          85.4,
          85,
          86
         ],
         "yaxis": "y2"
        }
       ],
       "layout": {
        "annotations": [
         {
          "arrowcolor": "white",
          "font": {
           "color": "white",
           "family": "Courier",
           "size": 10
          },
          "showarrow": true,
          "text": "An Inconvenient Truth Movie",
          "x": "2006-05-24",
          "y": 0.32
         },
         {
          "arrowcolor": "white",
          "font": {
           "color": "white",
           "family": "Courier",
           "size": 10
          },
          "showarrow": true,
          "text": "COP12",
          "x": "2006-11-06",
          "y": 0.6415
         },
         {
          "arrowcolor": "white",
          "font": {
           "color": "white",
           "family": "Courier",
           "size": 10
          },
          "showarrow": true,
          "text": "COP13",
          "x": "2007-12-03",
          "y": 0.5875
         },
         {
          "arrowcolor": "white",
          "font": {
           "color": "white",
           "family": "Courier",
           "size": 10
          },
          "showarrow": true,
          "text": "IPCC 4th Assessment Report",
          "x": "2007-09-18",
          "y": 0.508
         },
         {
          "arrowcolor": "white",
          "font": {
           "color": "white",
           "family": "Courier",
           "size": 10
          },
          "showarrow": true,
          "text": "COP14",
          "x": "2008-12-01",
          "y": 0.4141
         },
         {
          "arrowcolor": "white",
          "font": {
           "color": "white",
           "family": "Courier",
           "size": 10
          },
          "showarrow": true,
          "text": "COP15",
          "x": "2009-12-07",
          "y": 0.5397
         },
         {
          "arrowcolor": "white",
          "ax": 20,
          "ay": -50,
          "font": {
           "color": "white",
           "family": "Courier",
           "size": 10
          },
          "showarrow": true,
          "text": "Copenhagen Accord",
          "x": "2009-12-18",
          "y": 0.544
         },
         {
          "arrowcolor": "white",
          "font": {
           "color": "white",
           "family": "Courier",
           "size": 10
          },
          "showarrow": true,
          "text": "COP16",
          "x": "2010-11-28",
          "y": 0.284
         },
         {
          "arrowcolor": "white",
          "font": {
           "color": "white",
           "family": "Courier",
           "size": 10
          },
          "showarrow": true,
          "text": "COP17",
          "x": "2011-11-27",
          "y": 0.276
         },
         {
          "arrowcolor": "white",
          "font": {
           "color": "white",
           "family": "Courier",
           "size": 10
          },
          "showarrow": true,
          "text": "COP18",
          "x": "2012-11-26",
          "y": 0.235
         },
         {
          "arrowcolor": "white",
          "font": {
           "color": "white",
           "family": "Courier",
           "size": 10
          },
          "showarrow": true,
          "text": "COP19",
          "x": "2013-11-11",
          "y": 0.2245
         },
         {
          "arrowcolor": "white",
          "font": {
           "color": "white",
           "family": "Courier",
           "size": 10
          },
          "showarrow": true,
          "text": "COP20",
          "x": "2014-12-01",
          "y": 0.284
         },
         {
          "arrowcolor": "white",
          "font": {
           "color": "white",
           "family": "Courier",
           "size": 10
          },
          "showarrow": true,
          "text": "COP21",
          "x": "2015-11-30",
          "y": 0.5334
         },
         {
          "arrowcolor": "white",
          "ax": 20,
          "ay": -50,
          "font": {
           "color": "white",
           "family": "Courier",
           "size": 10
          },
          "showarrow": true,
          "text": "Paris Agreement",
          "x": "2015-12-12",
          "y": 0.5333
         },
         {
          "arrowcolor": "white",
          "font": {
           "color": "white",
           "family": "Courier",
           "size": 10
          },
          "showarrow": true,
          "text": "COP22",
          "x": "2016-11-07",
          "y": 0.3293
         },
         {
          "arrowcolor": "white",
          "font": {
           "color": "white",
           "family": "Courier",
           "size": 10
          },
          "showarrow": true,
          "text": "COP23",
          "x": "2017-11-06",
          "y": 0.3525
         },
         {
          "arrowcolor": "white",
          "font": {
           "color": "white",
           "family": "Courier",
           "size": 10
          },
          "showarrow": true,
          "text": "Rise for climate",
          "x": "2018-09-08",
          "y": 0.4013
         },
         {
          "arrowcolor": "white",
          "font": {
           "color": "white",
           "family": "Courier",
           "size": 10
          },
          "showarrow": true,
          "text": "COP24",
          "x": "2018-12-03",
          "y": 0.4952
         },
         {
          "arrowcolor": "white",
          "ax": 20,
          "ay": 30,
          "font": {
           "color": "white",
           "family": "Courier",
           "size": 10
          },
          "showarrow": true,
          "text": "COP25",
          "x": "2019-06-17",
          "y": 0.4975
         },
         {
          "arrowcolor": "white",
          "ax": 20,
          "ay": -40,
          "font": {
           "color": "white",
           "family": "Courier",
           "size": 10
          },
          "showarrow": true,
          "text": "Start of School strike for the climate",
          "x": "2019-03-19",
          "y": 0.512
         }
        ],
        "autosize": true,
        "legend": {
         "bgcolor": "#242323",
         "x": 0.7,
         "y": 1
        },
        "template": {
         "data": {
          "bar": [
           {
            "error_x": {
             "color": "#2a3f5f"
            },
            "error_y": {
             "color": "#2a3f5f"
            },
            "marker": {
             "line": {
              "color": "#E5ECF6",
              "width": 0.5
             }
            },
            "type": "bar"
           }
          ],
          "barpolar": [
           {
            "marker": {
             "line": {
              "color": "#E5ECF6",
              "width": 0.5
             }
            },
            "type": "barpolar"
           }
          ],
          "carpet": [
           {
            "aaxis": {
             "endlinecolor": "#2a3f5f",
             "gridcolor": "white",
             "linecolor": "white",
             "minorgridcolor": "white",
             "startlinecolor": "#2a3f5f"
            },
            "baxis": {
             "endlinecolor": "#2a3f5f",
             "gridcolor": "white",
             "linecolor": "white",
             "minorgridcolor": "white",
             "startlinecolor": "#2a3f5f"
            },
            "type": "carpet"
           }
          ],
          "choropleth": [
           {
            "colorbar": {
             "outlinewidth": 0,
             "ticks": ""
            },
            "type": "choropleth"
           }
          ],
          "contour": [
           {
            "colorbar": {
             "outlinewidth": 0,
             "ticks": ""
            },
            "colorscale": [
             [
              0,
              "#0d0887"
             ],
             [
              0.1111111111111111,
              "#46039f"
             ],
             [
              0.2222222222222222,
              "#7201a8"
             ],
             [
              0.3333333333333333,
              "#9c179e"
             ],
             [
              0.4444444444444444,
              "#bd3786"
             ],
             [
              0.5555555555555556,
              "#d8576b"
             ],
             [
              0.6666666666666666,
              "#ed7953"
             ],
             [
              0.7777777777777778,
              "#fb9f3a"
             ],
             [
              0.8888888888888888,
              "#fdca26"
             ],
             [
              1,
              "#f0f921"
             ]
            ],
            "type": "contour"
           }
          ],
          "contourcarpet": [
           {
            "colorbar": {
             "outlinewidth": 0,
             "ticks": ""
            },
            "type": "contourcarpet"
           }
          ],
          "heatmap": [
           {
            "colorbar": {
             "outlinewidth": 0,
             "ticks": ""
            },
            "colorscale": [
             [
              0,
              "#0d0887"
             ],
             [
              0.1111111111111111,
              "#46039f"
             ],
             [
              0.2222222222222222,
              "#7201a8"
             ],
             [
              0.3333333333333333,
              "#9c179e"
             ],
             [
              0.4444444444444444,
              "#bd3786"
             ],
             [
              0.5555555555555556,
              "#d8576b"
             ],
             [
              0.6666666666666666,
              "#ed7953"
             ],
             [
              0.7777777777777778,
              "#fb9f3a"
             ],
             [
              0.8888888888888888,
              "#fdca26"
             ],
             [
              1,
              "#f0f921"
             ]
            ],
            "type": "heatmap"
           }
          ],
          "heatmapgl": [
           {
            "colorbar": {
             "outlinewidth": 0,
             "ticks": ""
            },
            "colorscale": [
             [
              0,
              "#0d0887"
             ],
             [
              0.1111111111111111,
              "#46039f"
             ],
             [
              0.2222222222222222,
              "#7201a8"
             ],
             [
              0.3333333333333333,
              "#9c179e"
             ],
             [
              0.4444444444444444,
              "#bd3786"
             ],
             [
              0.5555555555555556,
              "#d8576b"
             ],
             [
              0.6666666666666666,
              "#ed7953"
             ],
             [
              0.7777777777777778,
              "#fb9f3a"
             ],
             [
              0.8888888888888888,
              "#fdca26"
             ],
             [
              1,
              "#f0f921"
             ]
            ],
            "type": "heatmapgl"
           }
          ],
          "histogram": [
           {
            "marker": {
             "colorbar": {
              "outlinewidth": 0,
              "ticks": ""
             }
            },
            "type": "histogram"
           }
          ],
          "histogram2d": [
           {
            "colorbar": {
             "outlinewidth": 0,
             "ticks": ""
            },
            "colorscale": [
             [
              0,
              "#0d0887"
             ],
             [
              0.1111111111111111,
              "#46039f"
             ],
             [
              0.2222222222222222,
              "#7201a8"
             ],
             [
              0.3333333333333333,
              "#9c179e"
             ],
             [
              0.4444444444444444,
              "#bd3786"
             ],
             [
              0.5555555555555556,
              "#d8576b"
             ],
             [
              0.6666666666666666,
              "#ed7953"
             ],
             [
              0.7777777777777778,
              "#fb9f3a"
             ],
             [
              0.8888888888888888,
              "#fdca26"
             ],
             [
              1,
              "#f0f921"
             ]
            ],
            "type": "histogram2d"
           }
          ],
          "histogram2dcontour": [
           {
            "colorbar": {
             "outlinewidth": 0,
             "ticks": ""
            },
            "colorscale": [
             [
              0,
              "#0d0887"
             ],
             [
              0.1111111111111111,
              "#46039f"
             ],
             [
              0.2222222222222222,
              "#7201a8"
             ],
             [
              0.3333333333333333,
              "#9c179e"
             ],
             [
              0.4444444444444444,
              "#bd3786"
             ],
             [
              0.5555555555555556,
              "#d8576b"
             ],
             [
              0.6666666666666666,
              "#ed7953"
             ],
             [
              0.7777777777777778,
              "#fb9f3a"
             ],
             [
              0.8888888888888888,
              "#fdca26"
             ],
             [
              1,
              "#f0f921"
             ]
            ],
            "type": "histogram2dcontour"
           }
          ],
          "mesh3d": [
           {
            "colorbar": {
             "outlinewidth": 0,
             "ticks": ""
            },
            "type": "mesh3d"
           }
          ],
          "parcoords": [
           {
            "line": {
             "colorbar": {
              "outlinewidth": 0,
              "ticks": ""
             }
            },
            "type": "parcoords"
           }
          ],
          "pie": [
           {
            "automargin": true,
            "type": "pie"
           }
          ],
          "scatter": [
           {
            "marker": {
             "colorbar": {
              "outlinewidth": 0,
              "ticks": ""
             }
            },
            "type": "scatter"
           }
          ],
          "scatter3d": [
           {
            "line": {
             "colorbar": {
              "outlinewidth": 0,
              "ticks": ""
             }
            },
            "marker": {
             "colorbar": {
              "outlinewidth": 0,
              "ticks": ""
             }
            },
            "type": "scatter3d"
           }
          ],
          "scattercarpet": [
           {
            "marker": {
             "colorbar": {
              "outlinewidth": 0,
              "ticks": ""
             }
            },
            "type": "scattercarpet"
           }
          ],
          "scattergeo": [
           {
            "marker": {
             "colorbar": {
              "outlinewidth": 0,
              "ticks": ""
             }
            },
            "type": "scattergeo"
           }
          ],
          "scattergl": [
           {
            "marker": {
             "colorbar": {
              "outlinewidth": 0,
              "ticks": ""
             }
            },
            "type": "scattergl"
           }
          ],
          "scattermapbox": [
           {
            "marker": {
             "colorbar": {
              "outlinewidth": 0,
              "ticks": ""
             }
            },
            "type": "scattermapbox"
           }
          ],
          "scatterpolar": [
           {
            "marker": {
             "colorbar": {
              "outlinewidth": 0,
              "ticks": ""
             }
            },
            "type": "scatterpolar"
           }
          ],
          "scatterpolargl": [
           {
            "marker": {
             "colorbar": {
              "outlinewidth": 0,
              "ticks": ""
             }
            },
            "type": "scatterpolargl"
           }
          ],
          "scatterternary": [
           {
            "marker": {
             "colorbar": {
              "outlinewidth": 0,
              "ticks": ""
             }
            },
            "type": "scatterternary"
           }
          ],
          "surface": [
           {
            "colorbar": {
             "outlinewidth": 0,
             "ticks": ""
            },
            "colorscale": [
             [
              0,
              "#0d0887"
             ],
             [
              0.1111111111111111,
              "#46039f"
             ],
             [
              0.2222222222222222,
              "#7201a8"
             ],
             [
              0.3333333333333333,
              "#9c179e"
             ],
             [
              0.4444444444444444,
              "#bd3786"
             ],
             [
              0.5555555555555556,
              "#d8576b"
             ],
             [
              0.6666666666666666,
              "#ed7953"
             ],
             [
              0.7777777777777778,
              "#fb9f3a"
             ],
             [
              0.8888888888888888,
              "#fdca26"
             ],
             [
              1,
              "#f0f921"
             ]
            ],
            "type": "surface"
           }
          ],
          "table": [
           {
            "cells": {
             "fill": {
              "color": "#EBF0F8"
             },
             "line": {
              "color": "white"
             }
            },
            "header": {
             "fill": {
              "color": "#C8D4E3"
             },
             "line": {
              "color": "white"
             }
            },
            "type": "table"
           }
          ]
         },
         "layout": {
          "annotationdefaults": {
           "arrowcolor": "#2a3f5f",
           "arrowhead": 0,
           "arrowwidth": 1
          },
          "coloraxis": {
           "colorbar": {
            "outlinewidth": 0,
            "ticks": ""
           }
          },
          "colorscale": {
           "diverging": [
            [
             0,
             "#8e0152"
            ],
            [
             0.1,
             "#c51b7d"
            ],
            [
             0.2,
             "#de77ae"
            ],
            [
             0.3,
             "#f1b6da"
            ],
            [
             0.4,
             "#fde0ef"
            ],
            [
             0.5,
             "#f7f7f7"
            ],
            [
             0.6,
             "#e6f5d0"
            ],
            [
             0.7,
             "#b8e186"
            ],
            [
             0.8,
             "#7fbc41"
            ],
            [
             0.9,
             "#4d9221"
            ],
            [
             1,
             "#276419"
            ]
           ],
           "sequential": [
            [
             0,
             "#0d0887"
            ],
            [
             0.1111111111111111,
             "#46039f"
            ],
            [
             0.2222222222222222,
             "#7201a8"
            ],
            [
             0.3333333333333333,
             "#9c179e"
            ],
            [
             0.4444444444444444,
             "#bd3786"
            ],
            [
             0.5555555555555556,
             "#d8576b"
            ],
            [
             0.6666666666666666,
             "#ed7953"
            ],
            [
             0.7777777777777778,
             "#fb9f3a"
            ],
            [
             0.8888888888888888,
             "#fdca26"
            ],
            [
             1,
             "#f0f921"
            ]
           ],
           "sequentialminus": [
            [
             0,
             "#0d0887"
            ],
            [
             0.1111111111111111,
             "#46039f"
            ],
            [
             0.2222222222222222,
             "#7201a8"
            ],
            [
             0.3333333333333333,
             "#9c179e"
            ],
            [
             0.4444444444444444,
             "#bd3786"
            ],
            [
             0.5555555555555556,
             "#d8576b"
            ],
            [
             0.6666666666666666,
             "#ed7953"
            ],
            [
             0.7777777777777778,
             "#fb9f3a"
            ],
            [
             0.8888888888888888,
             "#fdca26"
            ],
            [
             1,
             "#f0f921"
            ]
           ]
          },
          "colorway": [
           "#636efa",
           "#EF553B",
           "#00cc96",
           "#ab63fa",
           "#FFA15A",
           "#19d3f3",
           "#FF6692",
           "#B6E880",
           "#FF97FF",
           "#FECB52"
          ],
          "font": {
           "color": "#2a3f5f"
          },
          "geo": {
           "bgcolor": "white",
           "lakecolor": "white",
           "landcolor": "#E5ECF6",
           "showlakes": true,
           "showland": true,
           "subunitcolor": "white"
          },
          "hoverlabel": {
           "align": "left"
          },
          "hovermode": "closest",
          "mapbox": {
           "style": "light"
          },
          "paper_bgcolor": "white",
          "plot_bgcolor": "#E5ECF6",
          "polar": {
           "angularaxis": {
            "gridcolor": "white",
            "linecolor": "white",
            "ticks": ""
           },
           "bgcolor": "#E5ECF6",
           "radialaxis": {
            "gridcolor": "white",
            "linecolor": "white",
            "ticks": ""
           }
          },
          "scene": {
           "xaxis": {
            "backgroundcolor": "#E5ECF6",
            "gridcolor": "white",
            "gridwidth": 2,
            "linecolor": "white",
            "showbackground": true,
            "ticks": "",
            "zerolinecolor": "white"
           },
           "yaxis": {
            "backgroundcolor": "#E5ECF6",
            "gridcolor": "white",
            "gridwidth": 2,
            "linecolor": "white",
            "showbackground": true,
            "ticks": "",
            "zerolinecolor": "white"
           },
           "zaxis": {
            "backgroundcolor": "#E5ECF6",
            "gridcolor": "white",
            "gridwidth": 2,
            "linecolor": "white",
            "showbackground": true,
            "ticks": "",
            "zerolinecolor": "white"
           }
          },
          "shapedefaults": {
           "line": {
            "color": "#2a3f5f"
           }
          },
          "ternary": {
           "aaxis": {
            "gridcolor": "white",
            "linecolor": "white",
            "ticks": ""
           },
           "baxis": {
            "gridcolor": "white",
            "linecolor": "white",
            "ticks": ""
           },
           "bgcolor": "#E5ECF6",
           "caxis": {
            "gridcolor": "white",
            "linecolor": "white",
            "ticks": ""
           }
          },
          "title": {
           "x": 0.05
          },
          "xaxis": {
           "automargin": true,
           "gridcolor": "white",
           "linecolor": "white",
           "ticks": "",
           "title": {
            "standoff": 15
           },
           "zerolinecolor": "white",
           "zerolinewidth": 2
          },
          "yaxis": {
           "automargin": true,
           "gridcolor": "white",
           "linecolor": "white",
           "ticks": "",
           "title": {
            "standoff": 15
           },
           "zerolinecolor": "white",
           "zerolinewidth": 2
          }
         }
        },
        "xaxis": {
         "autorange": true,
         "range": [
          "2003-01-08 00:33:02.7008",
          "2021-04-12 04:25:37.8641"
         ],
         "rangeselector": {
          "bgcolor": "red",
          "buttons": [
           {
            "step": "all"
           }
          ]
         },
         "rangeslider": {
          "autorange": true,
          "bgcolor": "#242323",
          "range": [
           "2003-01-08 00:33:02.7008",
           "2021-04-12 04:25:37.8641"
          ],
          "visible": true,
          "yaxis": {
           "_template": null,
           "rangemode": "match"
          },
          "yaxis2": {
           "_template": null,
           "rangemode": "match"
          }
         },
         "type": "date"
        },
        "yaxis": {
         "anchor": "x",
         "autorange": true,
         "domain": [
          0,
          1
         ],
         "range": [
          0.15539800296982326,
          0.8141431945467561
         ],
         "showgrid": false,
         "showticklabels": false,
         "ticks": "",
         "type": "linear"
        },
        "yaxis2": {
         "anchor": "x",
         "autorange": true,
         "overlaying": "y",
         "range": [
          84.18813708260106,
          88.71186291739895
         ],
         "side": "right",
         "title": {
          "text": "Meat consumption (kg/capita)"
         },
         "type": "linear"
        }
       }
      },
      "image/png": "[encoded data removed]",
      "text/html": [
       "<div>\n",
       "        \n",
       "        \n",
       "            <div id=\"bb31573d-8d4c-4de0-b069-d70825bf3f60\" class=\"plotly-graph-div\" style=\"height:525px; width:100%;\"></div>\n",
       "            <script type=\"text/javascript\">\n",
       "                require([\"plotly\"], function(Plotly) {\n",
       "                    window.PLOTLYENV=window.PLOTLYENV || {};\n",
       "                    \n",
       "                if (document.getElementById(\"bb31573d-8d4c-4de0-b069-d70825bf3f60\")) {\n",
       "                    Plotly.newPlot(\n",
       "                        'bb31573d-8d4c-4de0-b069-d70825bf3f60',\n",
       "                        [{\"marker\": {\"color\": \"#FF4464\"}, \"mode\": \"lines\", \"name\": \"Climate change Google trend\", \"type\": \"scatter\", \"x\": [\"2005-08-01T00:00:00\", \"2005-09-01T00:00:00\", \"2005-10-01T00:00:00\", \"2005-11-01T00:00:00\", \"2005-12-01T00:00:00\", \"2006-01-01T00:00:00\", \"2006-02-01T00:00:00\", \"2006-03-01T00:00:00\", \"2006-04-01T00:00:00\", \"2006-05-01T00:00:00\", \"2006-06-01T00:00:00\", \"2006-07-01T00:00:00\", \"2006-08-01T00:00:00\", \"2006-09-01T00:00:00\", \"2006-10-01T00:00:00\", \"2006-11-01T00:00:00\", \"2006-12-01T00:00:00\", \"2007-01-01T00:00:00\", \"2007-02-01T00:00:00\", \"2007-03-01T00:00:00\", \"2007-04-01T00:00:00\", \"2007-05-01T00:00:00\", \"2007-06-01T00:00:00\", \"2007-07-01T00:00:00\", \"2007-08-01T00:00:00\", \"2007-09-01T00:00:00\", \"2007-10-01T00:00:00\", \"2007-11-01T00:00:00\", \"2007-12-01T00:00:00\", \"2008-01-01T00:00:00\", \"2008-02-01T00:00:00\", \"2008-03-01T00:00:00\", \"2008-04-01T00:00:00\", \"2008-05-01T00:00:00\", \"2008-06-01T00:00:00\", \"2008-07-01T00:00:00\", \"2008-08-01T00:00:00\", \"2008-09-01T00:00:00\", \"2008-10-01T00:00:00\", \"2008-11-01T00:00:00\", \"2008-12-01T00:00:00\", \"2009-01-01T00:00:00\", \"2009-02-01T00:00:00\", \"2009-03-01T00:00:00\", \"2009-04-01T00:00:00\", \"2009-05-01T00:00:00\", \"2009-06-01T00:00:00\", \"2009-07-01T00:00:00\", \"2009-08-01T00:00:00\", \"2009-09-01T00:00:00\", \"2009-10-01T00:00:00\", \"2009-11-01T00:00:00\", \"2009-12-01T00:00:00\", \"2010-01-01T00:00:00\", \"2010-02-01T00:00:00\", \"2010-03-01T00:00:00\", \"2010-04-01T00:00:00\", \"2010-05-01T00:00:00\", \"2010-06-01T00:00:00\", \"2010-07-01T00:00:00\", \"2010-08-01T00:00:00\", \"2010-09-01T00:00:00\", \"2010-10-01T00:00:00\", \"2010-11-01T00:00:00\", \"2010-12-01T00:00:00\", \"2011-01-01T00:00:00\", \"2011-02-01T00:00:00\", \"2011-03-01T00:00:00\", \"2011-04-01T00:00:00\", \"2011-05-01T00:00:00\", \"2011-06-01T00:00:00\", \"2011-07-01T00:00:00\", \"2011-08-01T00:00:00\", \"2011-09-01T00:00:00\", \"2011-10-01T00:00:00\", \"2011-11-01T00:00:00\", \"2011-12-01T00:00:00\", \"2012-01-01T00:00:00\", \"2012-02-01T00:00:00\", \"2012-03-01T00:00:00\", \"2012-04-01T00:00:00\", \"2012-05-01T00:00:00\", \"2012-06-01T00:00:00\", \"2012-07-01T00:00:00\", \"2012-08-01T00:00:00\", \"2012-09-01T00:00:00\", \"2012-10-01T00:00:00\", \"2012-11-01T00:00:00\", \"2012-12-01T00:00:00\", \"2013-01-01T00:00:00\", \"2013-02-01T00:00:00\", \"2013-03-01T00:00:00\", \"2013-04-01T00:00:00\", \"2013-05-01T00:00:00\", \"2013-06-01T00:00:00\", \"2013-07-01T00:00:00\", \"2013-08-01T00:00:00\", \"2013-09-01T00:00:00\", \"2013-10-01T00:00:00\", \"2013-11-01T00:00:00\", \"2013-12-01T00:00:00\", \"2014-01-01T00:00:00\", \"2014-02-01T00:00:00\", \"2014-03-01T00:00:00\", \"2014-04-01T00:00:00\", \"2014-05-01T00:00:00\", \"2014-06-01T00:00:00\", \"2014-07-01T00:00:00\", \"2014-08-01T00:00:00\", \"2014-09-01T00:00:00\", \"2014-10-01T00:00:00\", \"2014-11-01T00:00:00\", \"2014-12-01T00:00:00\", \"2015-01-01T00:00:00\", \"2015-02-01T00:00:00\", \"2015-03-01T00:00:00\", \"2015-04-01T00:00:00\", \"2015-05-01T00:00:00\", \"2015-06-01T00:00:00\", \"2015-07-01T00:00:00\", \"2015-08-01T00:00:00\", \"2015-09-01T00:00:00\", \"2015-10-01T00:00:00\", \"2015-11-01T00:00:00\", \"2015-12-01T00:00:00\", \"2016-01-01T00:00:00\", \"2016-02-01T00:00:00\", \"2016-03-01T00:00:00\", \"2016-04-01T00:00:00\", \"2016-05-01T00:00:00\", \"2016-06-01T00:00:00\", \"2016-07-01T00:00:00\", \"2016-08-01T00:00:00\", \"2016-09-01T00:00:00\", \"2016-10-01T00:00:00\", \"2016-11-01T00:00:00\", \"2016-12-01T00:00:00\", \"2017-01-01T00:00:00\", \"2017-02-01T00:00:00\", \"2017-03-01T00:00:00\", \"2017-04-01T00:00:00\", \"2017-05-01T00:00:00\", \"2017-06-01T00:00:00\", \"2017-07-01T00:00:00\", \"2017-08-01T00:00:00\", \"2017-09-01T00:00:00\", \"2017-10-01T00:00:00\", \"2017-11-01T00:00:00\", \"2017-12-01T00:00:00\", \"2018-01-01T00:00:00\", \"2018-02-01T00:00:00\", \"2018-03-01T00:00:00\", \"2018-04-01T00:00:00\", \"2018-05-01T00:00:00\", \"2018-06-01T00:00:00\", \"2018-07-01T00:00:00\", \"2018-08-01T00:00:00\", \"2018-09-01T00:00:00\", \"2018-10-01T00:00:00\", \"2018-11-01T00:00:00\", \"2018-12-01T00:00:00\", \"2019-01-01T00:00:00\", \"2019-02-01T00:00:00\", \"2019-03-01T00:00:00\", \"2019-04-01T00:00:00\", \"2019-05-01T00:00:00\", \"2019-06-01T00:00:00\", \"2019-07-01T00:00:00\", \"2019-08-01T00:00:00\", \"2019-09-01T00:00:00\", \"2019-10-01T00:00:00\", \"2019-11-01T00:00:00\"], \"xaxis\": \"x\", \"y\": [0.2591674266605899, 0.45302694721299597, 0.5741074456019752, 0.6336787547457874, 0.6430107075626922, 0.6133731369709491, 0.5560358758888184, 0.4822687572345603, 0.39191308007997694, 0.3591970956540059, 0.3159896874671173, 0.32033568346838004, 0.3685678206882057, 0.4358360517731267, 0.512869620119965, 0.627817531305907, 0.7102651794170304, 0.7720088393139055, 0.7812059349679095, 0.7413816689466527, 0.6780806061243856, 0.6112438177417692, 0.5534410186257002, 0.5278438387877541, 0.4810586130695596, 0.49370198884563044, 0.5192623382089895, 0.5534462801220699, 0.5858728822477146, 0.6125013153740959, 0.586330632431867, 0.5337577607071482, 0.4594654319688545, 0.40525623487320017, 0.3747869093970346, 0.357797537619701, 0.3373618857203007, 0.34160265179417215, 0.35226244343891594, 0.3801536356939935, 0.41415342523413895, 0.44544880564032663, 0.43999789540145473, 0.4096548458381587, 0.3701252236135978, 0.3457539724297609, 0.35185730821845923, 0.38658844575397455, 0.4058507839629613, 0.4380932337156712, 0.47012522361359843, 0.5111280648216382, 0.5387456592654982, 0.5484531200673504, 0.5337998526781047, 0.48379459118173485, 0.41240134694307296, 0.34770072608650093, 0.29550668210039094, 0.2581132274018745, 0.2494107124066098, 0.2509470693465235, 0.24787961696306565, 0.265200463011682, 0.2860359886351695, 0.2978164790066312, 0.29343891402715105, 0.2721140692412938, 0.24551720509312985, 0.22787540776596993, 0.21391665789750722, 0.2150215721351164, 0.21392718089024637, 0.21904135536146602, 0.23559928443649503, 0.2593549405450925, 0.27852783331579656, 0.2912869620119979, 0.29193412606545466, 0.2752972745448821, 0.25373040092602483, 0.23714616436914793, 0.2199989477007273, 0.2158318425760298, 0.20927601809954866, 0.21208565716089775, 0.20858676207513532, 0.21869935809744412, 0.23864042933810514, 0.2484531200673486, 0.24112385562454103, 0.2276859938966655, 0.21067557613385363, 0.2021940439861108, 0.1929180258865632, 0.1883352625486699, 0.18914553298958325, 0.19525939177102075, 0.20463537830159012, 0.21976218036409675, 0.23395243607282043, 0.24915816058087062, 0.2432442386614767, 0.2331158581500592, 0.21665263600968235, 0.21511627906976866, 0.2162580237819648, 0.22010943912448822, 0.21658423655687797, 0.22379774807955508, 0.24062401346943202, 0.2591813111648968, 0.28407871198569035, 0.30589813743028693, 0.3008891928864586, 0.2887193517836489, 0.256403241081765, 0.2589445438282661, 0.30315163632537256, 0.3657634431232263, 0.4097232452909631, 0.44998947700726344, 0.48183205303588617, 0.5134589077133567, 0.5333263180048438, 0.5279385457224066, 0.49443333684100044, 0.44296011785752126, 0.3628906661054424, 0.3116436914658545, 0.2541460591392205, 0.25712406608439575, 0.279653793538884, 0.30293591497422034, 0.31102283489424565, 0.3293854572240364, 0.3621067031463769, 0.38294222876986433, 0.3774913185309924, 0.3557981689992654, 0.3256287488161651, 0.3161948858255305, 0.3064716405345697, 0.3178943491529008, 0.31642113016942197, 0.33222140376723325, 0.3340103125328862, 0.3520046301168072, 0.3592812795959191, 0.3525465642428727, 0.35805535094180985, 0.3265810796590568, 0.30593496790487384, 0.3092128801431144, 0.323755656108599, 0.3492318215300451, 0.362895927601812, 0.40131537409239415, 0.4329632747553428, 0.46596864148164, 0.49519099231821817, 0.5275491949910585, 0.524939492791753, 0.5148952962222485, 0.5096601073345288, 0.5022179086303571, 0.49758549514021444, 0.4982372316845638, 0.5066474830838714, 0.5252906141586032, 0.5566409897292254, 0.6031729746162037], \"yaxis\": \"y\"}, {\"marker\": {\"color\": \"#FF7944\"}, \"name\": \"meat consumption (kg/capita)\", \"opacity\": 0.55, \"type\": \"scatter\", \"x\": [2004, 2005, 2006, 2007, 2008, 2009, 2010, 2011, 2012, 2013, 2014, 2015, 2016, 2017, 2018], \"xaxis\": \"x\", \"y\": [88.4, 88.0, 87.4, 88.3, 87.8, 86.2, 86.6, 86.1, 85.8, 84.5, 85.6, 85.4, 85.4, 85.0, 86.0], \"yaxis\": \"y2\"}],\n",
       "                        {\"annotations\": [{\"arrowcolor\": \"white\", \"font\": {\"color\": \"white\", \"family\": \"Courier\", \"size\": 10}, \"showarrow\": true, \"text\": \"An Inconvenient Truth Movie\", \"x\": \"2006-05-24\", \"y\": 0.32}, {\"arrowcolor\": \"white\", \"font\": {\"color\": \"white\", \"family\": \"Courier\", \"size\": 10}, \"showarrow\": true, \"text\": \"COP12\", \"x\": \"2006-11-06\", \"y\": 0.6415}, {\"arrowcolor\": \"white\", \"font\": {\"color\": \"white\", \"family\": \"Courier\", \"size\": 10}, \"showarrow\": true, \"text\": \"COP13\", \"x\": \"2007-12-03\", \"y\": 0.5875}, {\"arrowcolor\": \"white\", \"font\": {\"color\": \"white\", \"family\": \"Courier\", \"size\": 10}, \"showarrow\": true, \"text\": \"IPCC 4th Assessment Report\", \"x\": \"2007-09-18\", \"y\": 0.508}, {\"arrowcolor\": \"white\", \"font\": {\"color\": \"white\", \"family\": \"Courier\", \"size\": 10}, \"showarrow\": true, \"text\": \"COP14\", \"x\": \"2008-12-01\", \"y\": 0.4141}, {\"arrowcolor\": \"white\", \"font\": {\"color\": \"white\", \"family\": \"Courier\", \"size\": 10}, \"showarrow\": true, \"text\": \"COP15\", \"x\": \"2009-12-07\", \"y\": 0.5397}, {\"arrowcolor\": \"white\", \"ax\": 20, \"ay\": -50, \"font\": {\"color\": \"white\", \"family\": \"Courier\", \"size\": 10}, \"showarrow\": true, \"text\": \"Copenhagen Accord\", \"x\": \"2009-12-18\", \"y\": 0.544}, {\"arrowcolor\": \"white\", \"font\": {\"color\": \"white\", \"family\": \"Courier\", \"size\": 10}, \"showarrow\": true, \"text\": \"COP16\", \"x\": \"2010-11-28\", \"y\": 0.284}, {\"arrowcolor\": \"white\", \"font\": {\"color\": \"white\", \"family\": \"Courier\", \"size\": 10}, \"showarrow\": true, \"text\": \"COP17\", \"x\": \"2011-11-27\", \"y\": 0.276}, {\"arrowcolor\": \"white\", \"font\": {\"color\": \"white\", \"family\": \"Courier\", \"size\": 10}, \"showarrow\": true, \"text\": \"COP18\", \"x\": \"2012-11-26\", \"y\": 0.235}, {\"arrowcolor\": \"white\", \"font\": {\"color\": \"white\", \"family\": \"Courier\", \"size\": 10}, \"showarrow\": true, \"text\": \"COP19\", \"x\": \"2013-11-11\", \"y\": 0.2245}, {\"arrowcolor\": \"white\", \"font\": {\"color\": \"white\", \"family\": \"Courier\", \"size\": 10}, \"showarrow\": true, \"text\": \"COP20\", \"x\": \"2014-12-01\", \"y\": 0.284}, {\"arrowcolor\": \"white\", \"font\": {\"color\": \"white\", \"family\": \"Courier\", \"size\": 10}, \"showarrow\": true, \"text\": \"COP21\", \"x\": \"2015-11-30\", \"y\": 0.5334}, {\"arrowcolor\": \"white\", \"ax\": 20, \"ay\": -50, \"font\": {\"color\": \"white\", \"family\": \"Courier\", \"size\": 10}, \"showarrow\": true, \"text\": \"Paris Agreement\", \"x\": \"2015-12-12\", \"y\": 0.5333}, {\"arrowcolor\": \"white\", \"font\": {\"color\": \"white\", \"family\": \"Courier\", \"size\": 10}, \"showarrow\": true, \"text\": \"COP22\", \"x\": \"2016-11-07\", \"y\": 0.3293}, {\"arrowcolor\": \"white\", \"font\": {\"color\": \"white\", \"family\": \"Courier\", \"size\": 10}, \"showarrow\": true, \"text\": \"COP23\", \"x\": \"2017-11-06\", \"y\": 0.3525}, {\"arrowcolor\": \"white\", \"font\": {\"color\": \"white\", \"family\": \"Courier\", \"size\": 10}, \"showarrow\": true, \"text\": \"Rise for climate\", \"x\": \"2018-09-08\", \"y\": 0.4013}, {\"arrowcolor\": \"white\", \"font\": {\"color\": \"white\", \"family\": \"Courier\", \"size\": 10}, \"showarrow\": true, \"text\": \"COP24\", \"x\": \"2018-12-03\", \"y\": 0.4952}, {\"arrowcolor\": \"white\", \"ax\": 20, \"ay\": 30, \"font\": {\"color\": \"white\", \"family\": \"Courier\", \"size\": 10}, \"showarrow\": true, \"text\": \"COP25\", \"x\": \"2019-06-17\", \"y\": 0.4975}, {\"arrowcolor\": \"white\", \"ax\": 20, \"ay\": -40, \"font\": {\"color\": \"white\", \"family\": \"Courier\", \"size\": 10}, \"showarrow\": true, \"text\": \"Start of School strike for the climate\", \"x\": \"2019-03-19\", \"y\": 0.512}], \"legend\": {\"bgcolor\": \"#242323\", \"x\": 0.7, \"y\": 1}, \"template\": {\"data\": {\"bar\": [{\"error_x\": {\"color\": \"#2a3f5f\"}, \"error_y\": {\"color\": \"#2a3f5f\"}, \"marker\": {\"line\": {\"color\": \"#E5ECF6\", \"width\": 0.5}}, \"type\": \"bar\"}], \"barpolar\": [{\"marker\": {\"line\": {\"color\": \"#E5ECF6\", \"width\": 0.5}}, \"type\": \"barpolar\"}], \"carpet\": [{\"aaxis\": {\"endlinecolor\": \"#2a3f5f\", \"gridcolor\": \"white\", \"linecolor\": \"white\", \"minorgridcolor\": \"white\", \"startlinecolor\": \"#2a3f5f\"}, \"baxis\": {\"endlinecolor\": \"#2a3f5f\", \"gridcolor\": \"white\", \"linecolor\": \"white\", \"minorgridcolor\": \"white\", \"startlinecolor\": \"#2a3f5f\"}, \"type\": \"carpet\"}], \"choropleth\": [{\"colorbar\": {\"outlinewidth\": 0, \"ticks\": \"\"}, \"type\": \"choropleth\"}], \"contour\": [{\"colorbar\": {\"outlinewidth\": 0, \"ticks\": \"\"}, \"colorscale\": [[0.0, \"#0d0887\"], [0.1111111111111111, \"#46039f\"], [0.2222222222222222, \"#7201a8\"], [0.3333333333333333, \"#9c179e\"], [0.4444444444444444, \"#bd3786\"], [0.5555555555555556, \"#d8576b\"], [0.6666666666666666, \"#ed7953\"], [0.7777777777777778, \"#fb9f3a\"], [0.8888888888888888, \"#fdca26\"], [1.0, \"#f0f921\"]], \"type\": \"contour\"}], \"contourcarpet\": [{\"colorbar\": {\"outlinewidth\": 0, \"ticks\": \"\"}, \"type\": \"contourcarpet\"}], \"heatmap\": [{\"colorbar\": {\"outlinewidth\": 0, \"ticks\": \"\"}, \"colorscale\": [[0.0, \"#0d0887\"], [0.1111111111111111, \"#46039f\"], [0.2222222222222222, \"#7201a8\"], [0.3333333333333333, \"#9c179e\"], [0.4444444444444444, \"#bd3786\"], [0.5555555555555556, \"#d8576b\"], [0.6666666666666666, \"#ed7953\"], [0.7777777777777778, \"#fb9f3a\"], [0.8888888888888888, \"#fdca26\"], [1.0, \"#f0f921\"]], \"type\": \"heatmap\"}], \"heatmapgl\": [{\"colorbar\": {\"outlinewidth\": 0, \"ticks\": \"\"}, \"colorscale\": [[0.0, \"#0d0887\"], [0.1111111111111111, \"#46039f\"], [0.2222222222222222, \"#7201a8\"], [0.3333333333333333, \"#9c179e\"], [0.4444444444444444, \"#bd3786\"], [0.5555555555555556, \"#d8576b\"], [0.6666666666666666, \"#ed7953\"], [0.7777777777777778, \"#fb9f3a\"], [0.8888888888888888, \"#fdca26\"], [1.0, \"#f0f921\"]], \"type\": \"heatmapgl\"}], \"histogram\": [{\"marker\": {\"colorbar\": {\"outlinewidth\": 0, \"ticks\": \"\"}}, \"type\": \"histogram\"}], \"histogram2d\": [{\"colorbar\": {\"outlinewidth\": 0, \"ticks\": \"\"}, \"colorscale\": [[0.0, \"#0d0887\"], [0.1111111111111111, \"#46039f\"], [0.2222222222222222, \"#7201a8\"], [0.3333333333333333, \"#9c179e\"], [0.4444444444444444, \"#bd3786\"], [0.5555555555555556, \"#d8576b\"], [0.6666666666666666, \"#ed7953\"], [0.7777777777777778, \"#fb9f3a\"], [0.8888888888888888, \"#fdca26\"], [1.0, \"#f0f921\"]], \"type\": \"histogram2d\"}], \"histogram2dcontour\": [{\"colorbar\": {\"outlinewidth\": 0, \"ticks\": \"\"}, \"colorscale\": [[0.0, \"#0d0887\"], [0.1111111111111111, \"#46039f\"], [0.2222222222222222, \"#7201a8\"], [0.3333333333333333, \"#9c179e\"], [0.4444444444444444, \"#bd3786\"], [0.5555555555555556, \"#d8576b\"], [0.6666666666666666, \"#ed7953\"], [0.7777777777777778, \"#fb9f3a\"], [0.8888888888888888, \"#fdca26\"], [1.0, \"#f0f921\"]], \"type\": \"histogram2dcontour\"}], \"mesh3d\": [{\"colorbar\": {\"outlinewidth\": 0, \"ticks\": \"\"}, \"type\": \"mesh3d\"}], \"parcoords\": [{\"line\": {\"colorbar\": {\"outlinewidth\": 0, \"ticks\": \"\"}}, \"type\": \"parcoords\"}], \"pie\": [{\"automargin\": true, \"type\": \"pie\"}], \"scatter\": [{\"marker\": {\"colorbar\": {\"outlinewidth\": 0, \"ticks\": \"\"}}, \"type\": \"scatter\"}], \"scatter3d\": [{\"line\": {\"colorbar\": {\"outlinewidth\": 0, \"ticks\": \"\"}}, \"marker\": {\"colorbar\": {\"outlinewidth\": 0, \"ticks\": \"\"}}, \"type\": \"scatter3d\"}], \"scattercarpet\": [{\"marker\": {\"colorbar\": {\"outlinewidth\": 0, \"ticks\": \"\"}}, \"type\": \"scattercarpet\"}], \"scattergeo\": [{\"marker\": {\"colorbar\": {\"outlinewidth\": 0, \"ticks\": \"\"}}, \"type\": \"scattergeo\"}], \"scattergl\": [{\"marker\": {\"colorbar\": {\"outlinewidth\": 0, \"ticks\": \"\"}}, \"type\": \"scattergl\"}], \"scattermapbox\": [{\"marker\": {\"colorbar\": {\"outlinewidth\": 0, \"ticks\": \"\"}}, \"type\": \"scattermapbox\"}], \"scatterpolar\": [{\"marker\": {\"colorbar\": {\"outlinewidth\": 0, \"ticks\": \"\"}}, \"type\": \"scatterpolar\"}], \"scatterpolargl\": [{\"marker\": {\"colorbar\": {\"outlinewidth\": 0, \"ticks\": \"\"}}, \"type\": \"scatterpolargl\"}], \"scatterternary\": [{\"marker\": {\"colorbar\": {\"outlinewidth\": 0, \"ticks\": \"\"}}, \"type\": \"scatterternary\"}], \"surface\": [{\"colorbar\": {\"outlinewidth\": 0, \"ticks\": \"\"}, \"colorscale\": [[0.0, \"#0d0887\"], [0.1111111111111111, \"#46039f\"], [0.2222222222222222, \"#7201a8\"], [0.3333333333333333, \"#9c179e\"], [0.4444444444444444, \"#bd3786\"], [0.5555555555555556, \"#d8576b\"], [0.6666666666666666, \"#ed7953\"], [0.7777777777777778, \"#fb9f3a\"], [0.8888888888888888, \"#fdca26\"], [1.0, \"#f0f921\"]], \"type\": \"surface\"}], \"table\": [{\"cells\": {\"fill\": {\"color\": \"#EBF0F8\"}, \"line\": {\"color\": \"white\"}}, \"header\": {\"fill\": {\"color\": \"#C8D4E3\"}, \"line\": {\"color\": \"white\"}}, \"type\": \"table\"}]}, \"layout\": {\"annotationdefaults\": {\"arrowcolor\": \"#2a3f5f\", \"arrowhead\": 0, \"arrowwidth\": 1}, \"coloraxis\": {\"colorbar\": {\"outlinewidth\": 0, \"ticks\": \"\"}}, \"colorscale\": {\"diverging\": [[0, \"#8e0152\"], [0.1, \"#c51b7d\"], [0.2, \"#de77ae\"], [0.3, \"#f1b6da\"], [0.4, \"#fde0ef\"], [0.5, \"#f7f7f7\"], [0.6, \"#e6f5d0\"], [0.7, \"#b8e186\"], [0.8, \"#7fbc41\"], [0.9, \"#4d9221\"], [1, \"#276419\"]], \"sequential\": [[0.0, \"#0d0887\"], [0.1111111111111111, \"#46039f\"], [0.2222222222222222, \"#7201a8\"], [0.3333333333333333, \"#9c179e\"], [0.4444444444444444, \"#bd3786\"], [0.5555555555555556, \"#d8576b\"], [0.6666666666666666, \"#ed7953\"], [0.7777777777777778, \"#fb9f3a\"], [0.8888888888888888, \"#fdca26\"], [1.0, \"#f0f921\"]], \"sequentialminus\": [[0.0, \"#0d0887\"], [0.1111111111111111, \"#46039f\"], [0.2222222222222222, \"#7201a8\"], [0.3333333333333333, \"#9c179e\"], [0.4444444444444444, \"#bd3786\"], [0.5555555555555556, \"#d8576b\"], [0.6666666666666666, \"#ed7953\"], [0.7777777777777778, \"#fb9f3a\"], [0.8888888888888888, \"#fdca26\"], [1.0, \"#f0f921\"]]}, \"colorway\": [\"#636efa\", \"#EF553B\", \"#00cc96\", \"#ab63fa\", \"#FFA15A\", \"#19d3f3\", \"#FF6692\", \"#B6E880\", \"#FF97FF\", \"#FECB52\"], \"font\": {\"color\": \"#2a3f5f\"}, \"geo\": {\"bgcolor\": \"white\", \"lakecolor\": \"white\", \"landcolor\": \"#E5ECF6\", \"showlakes\": true, \"showland\": true, \"subunitcolor\": \"white\"}, \"hoverlabel\": {\"align\": \"left\"}, \"hovermode\": \"closest\", \"mapbox\": {\"style\": \"light\"}, \"paper_bgcolor\": \"white\", \"plot_bgcolor\": \"#E5ECF6\", \"polar\": {\"angularaxis\": {\"gridcolor\": \"white\", \"linecolor\": \"white\", \"ticks\": \"\"}, \"bgcolor\": \"#E5ECF6\", \"radialaxis\": {\"gridcolor\": \"white\", \"linecolor\": \"white\", \"ticks\": \"\"}}, \"scene\": {\"xaxis\": {\"backgroundcolor\": \"#E5ECF6\", \"gridcolor\": \"white\", \"gridwidth\": 2, \"linecolor\": \"white\", \"showbackground\": true, \"ticks\": \"\", \"zerolinecolor\": \"white\"}, \"yaxis\": {\"backgroundcolor\": \"#E5ECF6\", \"gridcolor\": \"white\", \"gridwidth\": 2, \"linecolor\": \"white\", \"showbackground\": true, \"ticks\": \"\", \"zerolinecolor\": \"white\"}, \"zaxis\": {\"backgroundcolor\": \"#E5ECF6\", \"gridcolor\": \"white\", \"gridwidth\": 2, \"linecolor\": \"white\", \"showbackground\": true, \"ticks\": \"\", \"zerolinecolor\": \"white\"}}, \"shapedefaults\": {\"line\": {\"color\": \"#2a3f5f\"}}, \"ternary\": {\"aaxis\": {\"gridcolor\": \"white\", \"linecolor\": \"white\", \"ticks\": \"\"}, \"baxis\": {\"gridcolor\": \"white\", \"linecolor\": \"white\", \"ticks\": \"\"}, \"bgcolor\": \"#E5ECF6\", \"caxis\": {\"gridcolor\": \"white\", \"linecolor\": \"white\", \"ticks\": \"\"}}, \"title\": {\"x\": 0.05}, \"xaxis\": {\"automargin\": true, \"gridcolor\": \"white\", \"linecolor\": \"white\", \"ticks\": \"\", \"title\": {\"standoff\": 15}, \"zerolinecolor\": \"white\", \"zerolinewidth\": 2}, \"yaxis\": {\"automargin\": true, \"gridcolor\": \"white\", \"linecolor\": \"white\", \"ticks\": \"\", \"title\": {\"standoff\": 15}, \"zerolinecolor\": \"white\", \"zerolinewidth\": 2}}}, \"xaxis\": {\"rangeselector\": {\"bgcolor\": \"red\", \"buttons\": [{\"step\": \"all\"}]}, \"rangeslider\": {\"bgcolor\": \"#242323\", \"visible\": true}, \"type\": \"date\"}, \"yaxis\": {\"anchor\": \"x\", \"autorange\": true, \"domain\": [0.0, 1.0], \"showgrid\": false, \"showticklabels\": false, \"ticks\": \"\"}, \"yaxis2\": {\"anchor\": \"x\", \"overlaying\": \"y\", \"side\": \"right\", \"title\": {\"text\": \"Meat consumption (kg/capita)\"}}},\n",
       "                        {\"responsive\": true}\n",
       "                    ).then(function(){\n",
       "                            \n",
       "var gd = document.getElementById('bb31573d-8d4c-4de0-b069-d70825bf3f60');\n",
       "var x = new MutationObserver(function (mutations, observer) {{\n",
       "        var display = window.getComputedStyle(gd).display;\n",
       "        if (!display || display === 'none') {{\n",
       "            console.log([gd, 'removed!']);\n",
       "            Plotly.purge(gd);\n",
       "            observer.disconnect();\n",
       "        }}\n",
       "}});\n",
       "\n",
       "// Listen for the removal of the full notebook cells\n",
       "var notebookContainer = gd.closest('#notebook-container');\n",
       "if (notebookContainer) {{\n",
       "    x.observe(notebookContainer, {childList: true});\n",
       "}}\n",
       "\n",
       "// Listen for the clearing of the current output cell\n",
       "var outputEl = gd.closest('.output');\n",
       "if (outputEl) {{\n",
       "    x.observe(outputEl, {childList: true});\n",
       "}}\n",
       "\n",
       "                        })\n",
       "                };\n",
       "                });\n",
       "            </script>\n",
       "        </div>"
      ]
     },
     "metadata": {},
     "output_type": "display_data"
    }
   ],
   "source": [
    "\n",
    "fig = make_subplots(specs=[[{\"secondary_y\": True}]])\n",
    "#fig = go.Figure()\n",
    "df = df_global_change_norm.loc[:,\"FR\"]\n",
    "#fig.add_trace(go.Scatter(x=df.index, y=df, mode='lines',name=x))\n",
    "fig.add_trace(go.Scatter(x=df.index, y=signal.savgol_filter(df,15, 3), mode='lines', marker_color='#FF4464',\n",
    "                        name='Climate change Google trend'),\n",
    "             secondary_y=False,)\n",
    "\n",
    "fig.add_trace(go.Scatter(\n",
    "    x = fr_cons['Date'],\n",
    "    y = fr_cons['Total(kg)/hab'], \n",
    "    marker_color= '#FF7944',  opacity=0.55,\n",
    "name ='meat consumption (kg/capita)'),\n",
    "    secondary_y = True, \n",
    "              \n",
    "\n",
    ")\n",
    "\n",
    "fig.update_yaxes(title_text=\"Meat consumption (kg/capita)\", secondary_y=True)\n",
    "\n",
    "hauteurAnnotation = [-45,-15,-15,-30,-15,-30,-45,-30,-15,-30,-45,-30,-15,-30,-45,-15,-30,-15,-15,-45,-15]\n",
    "\n",
    "position = [0.8 for x in range(20)]\n",
    "position[0] = 0.32\n",
    "position[1] = 0.6415\n",
    "position[2] = 0.5875\n",
    "position[3] = 0.508\n",
    "position[4] = 0.4141\n",
    "position[5] = 0.5387+0.001\n",
    "position[6] = 0.544\n",
    "position[7] = 0.284\n",
    "position[8] = 0.276\n",
    "position[9] = 0.235\n",
    "\n",
    "position[10] = 0.2245\n",
    "position[11] = 0.2840\n",
    "position[12] = 0.5134+0.02\n",
    "position[13] = 0.5333\n",
    "position[14] = 0.3293\n",
    "position[15] = 0.3525\n",
    "position[16] = 0.4013\n",
    "position[17] = 0.4952\n",
    "position[18] = 0.4975\n",
    "position[19] = 0.512\n",
    "\n",
    "\n",
    "arrowColor = 'white'\n",
    "family = 'Courier' # font \n",
    "color = 'white'\n",
    "annotationFont= dict(size=10, family=family, color=color)\n",
    "\n",
    "for index in range(len(data)):\n",
    "    if(index == 6 or index == 13):\n",
    "        event = data[index]\n",
    "        fig.add_annotation(\n",
    "            go.layout.Annotation(\n",
    "                    x=event[0],\n",
    "                    y=position[index],\n",
    "                    text=event[1],\n",
    "                    showarrow=True,\n",
    "                arrowcolor=arrowColor,\n",
    "                font = annotationFont,\n",
    "                    ax=20,\n",
    "                    ay=-50,\n",
    "            ),) \n",
    "        \n",
    "    elif(index == 18):\n",
    "        event = data[index]\n",
    "        fig.add_annotation(\n",
    "            go.layout.Annotation(\n",
    "                    x=event[0],\n",
    "                    y=position[index],\n",
    "                    text=event[1],\n",
    "                    showarrow=True,\n",
    "                arrowcolor=arrowColor,\n",
    "                font = annotationFont,\n",
    "                    ax=20,\n",
    "                    ay=30,\n",
    "            ),) \n",
    "    elif(index == 19):\n",
    "        event = data[index]\n",
    "        fig.add_annotation(\n",
    "            go.layout.Annotation(\n",
    "                    x=event[0],\n",
    "                    y=position[index],\n",
    "                    text=event[1],\n",
    "                    showarrow=True,\n",
    "                arrowcolor=arrowColor,\n",
    "                font = annotationFont,\n",
    "                    ax=20,\n",
    "                    ay=-40,\n",
    "            ),) \n",
    "        \n",
    "    else:\n",
    "        event = data[index]\n",
    "        fig.add_annotation(\n",
    "            go.layout.Annotation(\n",
    "                    x=event[0],\n",
    "                    y=position[index],\n",
    "                    text=event[1],\n",
    "                    showarrow=True,\n",
    "                    arrowcolor=arrowColor,\n",
    "                font = annotationFont,\n",
    "\n",
    "            ), )\n",
    "        \n",
    "        \n",
    "layout = go.Layout(\n",
    "    yaxis=dict(\n",
    "        autorange=True,\n",
    "        showgrid=False,\n",
    "        ticks='',\n",
    "        showticklabels=False\n",
    "    ), \n",
    "\n",
    ")\n",
    "\n",
    "\n",
    "# legend onn graph\n",
    "fig.update_layout(\n",
    "    legend=go.layout.Legend(\n",
    "        x=0.7,\n",
    "        y=1,\n",
    "        bgcolor=\"#242323\"\n",
    "        \n",
    "    )\n",
    ")\n",
    "\n",
    "# remove y axis label    \n",
    "fig.update_layout(layout)\n",
    "\n",
    "#fig.update_layout(\n",
    "#    showlegend=False,\n",
    "#    annotations=updatePlotWithAnnotations(hauteurAnnotation,\"2004-01-01\",\"2019-11-01\")\n",
    "#    )\n",
    "\n",
    "\n",
    "\n",
    "#pio.write_html(change_config(fig), file='climate_change_google_search.html', auto_open=True)\n",
    "\n",
    "\n",
    "# Add range slider\n",
    "fig.update_layout(\n",
    "    xaxis=go.layout.XAxis(\n",
    "        rangeselector=dict(\n",
    "            buttons=list([\n",
    "                #dict(count=1,\n",
    "                #     label=\"1m\",\n",
    "                #     step=\"month\",\n",
    "                #     stepmode=\"backward\"),\n",
    "                #dict(count=6,\n",
    "                #     label=\"6m\",\n",
    "                #     step=\"month\",\n",
    "                #     stepmode=\"backward\"),\n",
    "                #dict(count=1,\n",
    "                #     label=\"YTD\",\n",
    "                #     step=\"year\",\n",
    "                #     stepmode=\"todate\"),\n",
    "                #dict(count=1,\n",
    "                #     label=\"1y\",\n",
    "                #     step=\"year\",\n",
    "                #     stepmode=\"backward\"),\n",
    "                dict(step=\"all\",)\n",
    "            ]),  bgcolor='red'\n",
    "        ),\n",
    "        rangeslider=dict(\n",
    "            visible=True, bgcolor='#242323',#bordercolor='blue'\n",
    "        ),\n",
    "        type=\"date\"\n",
    "    )\n",
    ")\n",
    "\n",
    "fig.show()\n",
    "#change_config(fig).show()\n",
    "\n",
    "# GOOOOOOOOOOOOOGLLLLLLLLEEEEEEE GOOGLE TREND\n",
    "#  FOR DATA STORY\n",
    "\n",
    "#pio.write_html(change_config_graphe_1(fig), file='climate_change_google_search.html', auto_open=True)"
   ]
  },
  {
   "cell_type": "markdown",
   "metadata": {},
   "source": [
    "## Google trend vs meat consumption per category"
   ]
  },
  {
   "cell_type": "code",
   "execution_count": 30,
   "metadata": {},
   "outputs": [],
   "source": [
    "meat_consumption_path = path + 'DP_LIVE_23112019095726322.csv'\n",
    "meat_consumption = pd.read_csv(meat_consumption_path)\n",
    "\n",
    "meat_consumption = meat_consumption.drop(columns = ['INDICATOR', 'Flag Codes', 'FREQUENCY'])\n",
    "\n",
    "meat_consumption = meat_consumption[meat_consumption['MEASURE'] == 'KG_CAP']\n",
    "meat_consumption = meat_consumption[ (meat_consumption['TIME'] >= 2004) & (meat_consumption['TIME'] <= 2018)]\n",
    "meat_consumption = meat_consumption[ (meat_consumption['LOCATION'] == 'EU27') | (meat_consumption['LOCATION'] == 'GBR')]\n",
    "population_EU28_2004_2019 = [492555798, 494598322, 496436597, 498300775, 500297033, 502090235, 503170618, 502964837, 504047749, 505163053, 507235091, 508520205, 510181874, 511373278, 512379225]\n",
    "population_UK_2004_2019 = [59793759, 60182050, 60620361, 61073279, 61571647, 62042343, 62510197, 63022532, 63495088, 63905342, 64351203, 64853393, 65379044, 65844142, 66273576]\n",
    "UK_2004_2019_ratio = [x/y for x,y in zip(population_UK_2004_2019, population_EU28_2004_2019)]\n",
    "population_EU27_2004_2019_ratio = [(x-y)/x for x,y in zip(population_EU28_2004_2019,population_UK_2004_2019)]\n",
    "def ratio(row):\n",
    "    \"\"\"This function returns the correct ratio for a row depending on LOCATION and year\"\"\"\n",
    "    if row['LOCATION'] == 'EU27':\n",
    "        val = population_EU27_2004_2019_ratio[row['TIME'] - 2004]\n",
    "    elif row['LOCATION'] == 'GBR':\n",
    "        val = UK_2004_2019_ratio[row['TIME'] - 2004]\n",
    "    return val\n",
    "\n",
    "\n",
    "meat_consumption['ratio'] =  meat_consumption.apply(ratio, axis=1)\n",
    "meat_consumption['Value'] = meat_consumption['ratio'] * meat_consumption['Value']\n",
    "\n",
    "meat_consumption = meat_consumption.groupby(['TIME', 'SUBJECT'])['Value'].sum().unstack(level=1)\n",
    "\n",
    "meat_consumption['all_consumption'] = ( \n",
    "                                    (0.7 * meat_consumption['BEEF']) +\n",
    "                                    (0.78 * meat_consumption['PIG']) +\n",
    "                                    (0.88 * (meat_consumption['SHEEP'] + meat_consumption['POULTRY'])))\n",
    "\n",
    "meat_consumption['all_consumption_2'] = ( \n",
    "                                    (meat_consumption['BEEF']) +\n",
    "                                    (meat_consumption['PIG']) +\n",
    "                                    ((meat_consumption['SHEEP'] + meat_consumption['POULTRY'])))\n",
    "\n",
    "meat_consumption['years'] = meat_consumption.index"
   ]
  },
  {
   "cell_type": "code",
   "execution_count": 32,
   "metadata": {},
   "outputs": [
    {
     "data": {
      "application/vnd.plotly.v1+json": {
       "config": {
        "plotlyServerURL": "https://plot.ly"
       },
       "data": [
        {
         "marker": {
          "color": "#FF4464"
         },
         "name": "Climate change <br>Google trend",
         "showlegend": false,
         "type": "scatter",
         "x": [
          "2005-08-01T00:00:00",
          "2005-09-01T00:00:00",
          "2005-10-01T00:00:00",
          "2005-11-01T00:00:00",
          "2005-12-01T00:00:00",
          "2006-01-01T00:00:00",
          "2006-02-01T00:00:00",
          "2006-03-01T00:00:00",
          "2006-04-01T00:00:00",
          "2006-05-01T00:00:00",
          "2006-06-01T00:00:00",
          "2006-07-01T00:00:00",
          "2006-08-01T00:00:00",
          "2006-09-01T00:00:00",
          "2006-10-01T00:00:00",
          "2006-11-01T00:00:00",
          "2006-12-01T00:00:00",
          "2007-01-01T00:00:00",
          "2007-02-01T00:00:00",
          "2007-03-01T00:00:00",
          "2007-04-01T00:00:00",
          "2007-05-01T00:00:00",
          "2007-06-01T00:00:00",
          "2007-07-01T00:00:00",
          "2007-08-01T00:00:00",
          "2007-09-01T00:00:00",
          "2007-10-01T00:00:00",
          "2007-11-01T00:00:00",
          "2007-12-01T00:00:00",
          "2008-01-01T00:00:00",
          "2008-02-01T00:00:00",
          "2008-03-01T00:00:00",
          "2008-04-01T00:00:00",
          "2008-05-01T00:00:00",
          "2008-06-01T00:00:00",
          "2008-07-01T00:00:00",
          "2008-08-01T00:00:00",
          "2008-09-01T00:00:00",
          "2008-10-01T00:00:00",
          "2008-11-01T00:00:00",
          "2008-12-01T00:00:00",
          "2009-01-01T00:00:00",
          "2009-02-01T00:00:00",
          "2009-03-01T00:00:00",
          "2009-04-01T00:00:00",
          "2009-05-01T00:00:00",
          "2009-06-01T00:00:00",
          "2009-07-01T00:00:00",
          "2009-08-01T00:00:00",
          "2009-09-01T00:00:00",
          "2009-10-01T00:00:00",
          "2009-11-01T00:00:00",
          "2009-12-01T00:00:00",
          "2010-01-01T00:00:00",
          "2010-02-01T00:00:00",
          "2010-03-01T00:00:00",
          "2010-04-01T00:00:00",
          "2010-05-01T00:00:00",
          "2010-06-01T00:00:00",
          "2010-07-01T00:00:00",
          "2010-08-01T00:00:00",
          "2010-09-01T00:00:00",
          "2010-10-01T00:00:00",
          "2010-11-01T00:00:00",
          "2010-12-01T00:00:00",
          "2011-01-01T00:00:00",
          "2011-02-01T00:00:00",
          "2011-03-01T00:00:00",
          "2011-04-01T00:00:00",
          "2011-05-01T00:00:00",
          "2011-06-01T00:00:00",
          "2011-07-01T00:00:00",
          "2011-08-01T00:00:00",
          "2011-09-01T00:00:00",
          "2011-10-01T00:00:00",
          "2011-11-01T00:00:00",
          "2011-12-01T00:00:00",
          "2012-01-01T00:00:00",
          "2012-02-01T00:00:00",
          "2012-03-01T00:00:00",
          "2012-04-01T00:00:00",
          "2012-05-01T00:00:00",
          "2012-06-01T00:00:00",
          "2012-07-01T00:00:00",
          "2012-08-01T00:00:00",
          "2012-09-01T00:00:00",
          "2012-10-01T00:00:00",
          "2012-11-01T00:00:00",
          "2012-12-01T00:00:00",
          "2013-01-01T00:00:00",
          "2013-02-01T00:00:00",
          "2013-03-01T00:00:00",
          "2013-04-01T00:00:00",
          "2013-05-01T00:00:00",
          "2013-06-01T00:00:00",
          "2013-07-01T00:00:00",
          "2013-08-01T00:00:00",
          "2013-09-01T00:00:00",
          "2013-10-01T00:00:00",
          "2013-11-01T00:00:00",
          "2013-12-01T00:00:00",
          "2014-01-01T00:00:00",
          "2014-02-01T00:00:00",
          "2014-03-01T00:00:00",
          "2014-04-01T00:00:00",
          "2014-05-01T00:00:00",
          "2014-06-01T00:00:00",
          "2014-07-01T00:00:00",
          "2014-08-01T00:00:00",
          "2014-09-01T00:00:00",
          "2014-10-01T00:00:00",
          "2014-11-01T00:00:00",
          "2014-12-01T00:00:00",
          "2015-01-01T00:00:00",
          "2015-02-01T00:00:00",
          "2015-03-01T00:00:00",
          "2015-04-01T00:00:00",
          "2015-05-01T00:00:00",
          "2015-06-01T00:00:00",
          "2015-07-01T00:00:00",
          "2015-08-01T00:00:00",
          "2015-09-01T00:00:00",
          "2015-10-01T00:00:00",
          "2015-11-01T00:00:00",
          "2015-12-01T00:00:00",
          "2016-01-01T00:00:00",
          "2016-02-01T00:00:00",
          "2016-03-01T00:00:00",
          "2016-04-01T00:00:00",
          "2016-05-01T00:00:00",
          "2016-06-01T00:00:00",
          "2016-07-01T00:00:00",
          "2016-08-01T00:00:00",
          "2016-09-01T00:00:00",
          "2016-10-01T00:00:00",
          "2016-11-01T00:00:00",
          "2016-12-01T00:00:00",
          "2017-01-01T00:00:00",
          "2017-02-01T00:00:00",
          "2017-03-01T00:00:00",
          "2017-04-01T00:00:00",
          "2017-05-01T00:00:00",
          "2017-06-01T00:00:00",
          "2017-07-01T00:00:00",
          "2017-08-01T00:00:00",
          "2017-09-01T00:00:00",
          "2017-10-01T00:00:00",
          "2017-11-01T00:00:00",
          "2017-12-01T00:00:00",
          "2018-01-01T00:00:00",
          "2018-02-01T00:00:00",
          "2018-03-01T00:00:00",
          "2018-04-01T00:00:00",
          "2018-05-01T00:00:00",
          "2018-06-01T00:00:00",
          "2018-07-01T00:00:00",
          "2018-08-01T00:00:00",
          "2018-09-01T00:00:00",
          "2018-10-01T00:00:00",
          "2018-11-01T00:00:00",
          "2018-12-01T00:00:00",
          "2019-01-01T00:00:00",
          "2019-02-01T00:00:00",
          "2019-03-01T00:00:00",
          "2019-04-01T00:00:00",
          "2019-05-01T00:00:00",
          "2019-06-01T00:00:00",
          "2019-07-01T00:00:00",
          "2019-08-01T00:00:00",
          "2019-09-01T00:00:00",
          "2019-10-01T00:00:00",
          "2019-11-01T00:00:00"
         ],
         "xaxis": "x",
         "y": [
          0.2591674266605899,
          0.45302694721299597,
          0.5741074456019752,
          0.6336787547457874,
          0.6430107075626922,
          0.6133731369709491,
          0.5560358758888184,
          0.4822687572345603,
          0.39191308007997694,
          0.3591970956540059,
          0.3159896874671173,
          0.32033568346838004,
          0.3685678206882057,
          0.4358360517731267,
          0.512869620119965,
          0.627817531305907,
          0.7102651794170304,
          0.7720088393139055,
          0.7812059349679095,
          0.7413816689466527,
          0.6780806061243856,
          0.6112438177417692,
          0.5534410186257002,
          0.5278438387877541,
          0.4810586130695596,
          0.49370198884563044,
          0.5192623382089895,
          0.5534462801220699,
          0.5858728822477146,
          0.6125013153740959,
          0.586330632431867,
          0.5337577607071482,
          0.4594654319688545,
          0.40525623487320017,
          0.3747869093970346,
          0.357797537619701,
          0.3373618857203007,
          0.34160265179417215,
          0.35226244343891594,
          0.3801536356939935,
          0.41415342523413895,
          0.44544880564032663,
          0.43999789540145473,
          0.4096548458381587,
          0.3701252236135978,
          0.3457539724297609,
          0.35185730821845923,
          0.38658844575397455,
          0.4058507839629613,
          0.4380932337156712,
          0.47012522361359843,
          0.5111280648216382,
          0.5387456592654982,
          0.5484531200673504,
          0.5337998526781047,
          0.48379459118173485,
          0.41240134694307296,
          0.34770072608650093,
          0.29550668210039094,
          0.2581132274018745,
          0.2494107124066098,
          0.2509470693465235,
          0.24787961696306565,
          0.265200463011682,
          0.2860359886351695,
          0.2978164790066312,
          0.29343891402715105,
          0.2721140692412938,
          0.24551720509312985,
          0.22787540776596993,
          0.21391665789750722,
          0.2150215721351164,
          0.21392718089024637,
          0.21904135536146602,
          0.23559928443649503,
          0.2593549405450925,
          0.27852783331579656,
          0.2912869620119979,
          0.29193412606545466,
          0.2752972745448821,
          0.25373040092602483,
          0.23714616436914793,
          0.2199989477007273,
          0.2158318425760298,
          0.20927601809954866,
          0.21208565716089775,
          0.20858676207513532,
          0.21869935809744412,
          0.23864042933810514,
          0.2484531200673486,
          0.24112385562454103,
          0.2276859938966655,
          0.21067557613385363,
          0.2021940439861108,
          0.1929180258865632,
          0.1883352625486699,
          0.18914553298958325,
          0.19525939177102075,
          0.20463537830159012,
          0.21976218036409675,
          0.23395243607282043,
          0.24915816058087062,
          0.2432442386614767,
          0.2331158581500592,
          0.21665263600968235,
          0.21511627906976866,
          0.2162580237819648,
          0.22010943912448822,
          0.21658423655687797,
          0.22379774807955508,
          0.24062401346943202,
          0.2591813111648968,
          0.28407871198569035,
          0.30589813743028693,
          0.3008891928864586,
          0.2887193517836489,
          0.256403241081765,
          0.2589445438282661,
          0.30315163632537256,
          0.3657634431232263,
          0.4097232452909631,
          0.44998947700726344,
          0.48183205303588617,
          0.5134589077133567,
          0.5333263180048438,
          0.5279385457224066,
          0.49443333684100044,
          0.44296011785752126,
          0.3628906661054424,
          0.3116436914658545,
          0.2541460591392205,
          0.25712406608439575,
          0.279653793538884,
          0.30293591497422034,
          0.31102283489424565,
          0.3293854572240364,
          0.3621067031463769,
          0.38294222876986433,
          0.3774913185309924,
          0.3557981689992654,
          0.3256287488161651,
          0.3161948858255305,
          0.3064716405345697,
          0.3178943491529008,
          0.31642113016942197,
          0.33222140376723325,
          0.3340103125328862,
          0.3520046301168072,
          0.3592812795959191,
          0.3525465642428727,
          0.35805535094180985,
          0.3265810796590568,
          0.30593496790487384,
          0.3092128801431144,
          0.323755656108599,
          0.3492318215300451,
          0.362895927601812,
          0.40131537409239415,
          0.4329632747553428,
          0.46596864148164,
          0.49519099231821817,
          0.5275491949910585,
          0.524939492791753,
          0.5148952962222485,
          0.5096601073345288,
          0.5022179086303571,
          0.49758549514021444,
          0.4982372316845638,
          0.5066474830838714,
          0.5252906141586032,
          0.5566409897292254,
          0.6031729746162037
         ],
         "yaxis": "y"
        },
        {
         "marker": {
          "color": "#FF4464"
         },
         "name": "Climate change <br>Google trend",
         "showlegend": false,
         "type": "scatter",
         "x": [
          "2005-08-01T00:00:00",
          "2005-09-01T00:00:00",
          "2005-10-01T00:00:00",
          "2005-11-01T00:00:00",
          "2005-12-01T00:00:00",
          "2006-01-01T00:00:00",
          "2006-02-01T00:00:00",
          "2006-03-01T00:00:00",
          "2006-04-01T00:00:00",
          "2006-05-01T00:00:00",
          "2006-06-01T00:00:00",
          "2006-07-01T00:00:00",
          "2006-08-01T00:00:00",
          "2006-09-01T00:00:00",
          "2006-10-01T00:00:00",
          "2006-11-01T00:00:00",
          "2006-12-01T00:00:00",
          "2007-01-01T00:00:00",
          "2007-02-01T00:00:00",
          "2007-03-01T00:00:00",
          "2007-04-01T00:00:00",
          "2007-05-01T00:00:00",
          "2007-06-01T00:00:00",
          "2007-07-01T00:00:00",
          "2007-08-01T00:00:00",
          "2007-09-01T00:00:00",
          "2007-10-01T00:00:00",
          "2007-11-01T00:00:00",
          "2007-12-01T00:00:00",
          "2008-01-01T00:00:00",
          "2008-02-01T00:00:00",
          "2008-03-01T00:00:00",
          "2008-04-01T00:00:00",
          "2008-05-01T00:00:00",
          "2008-06-01T00:00:00",
          "2008-07-01T00:00:00",
          "2008-08-01T00:00:00",
          "2008-09-01T00:00:00",
          "2008-10-01T00:00:00",
          "2008-11-01T00:00:00",
          "2008-12-01T00:00:00",
          "2009-01-01T00:00:00",
          "2009-02-01T00:00:00",
          "2009-03-01T00:00:00",
          "2009-04-01T00:00:00",
          "2009-05-01T00:00:00",
          "2009-06-01T00:00:00",
          "2009-07-01T00:00:00",
          "2009-08-01T00:00:00",
          "2009-09-01T00:00:00",
          "2009-10-01T00:00:00",
          "2009-11-01T00:00:00",
          "2009-12-01T00:00:00",
          "2010-01-01T00:00:00",
          "2010-02-01T00:00:00",
          "2010-03-01T00:00:00",
          "2010-04-01T00:00:00",
          "2010-05-01T00:00:00",
          "2010-06-01T00:00:00",
          "2010-07-01T00:00:00",
          "2010-08-01T00:00:00",
          "2010-09-01T00:00:00",
          "2010-10-01T00:00:00",
          "2010-11-01T00:00:00",
          "2010-12-01T00:00:00",
          "2011-01-01T00:00:00",
          "2011-02-01T00:00:00",
          "2011-03-01T00:00:00",
          "2011-04-01T00:00:00",
          "2011-05-01T00:00:00",
          "2011-06-01T00:00:00",
          "2011-07-01T00:00:00",
          "2011-08-01T00:00:00",
          "2011-09-01T00:00:00",
          "2011-10-01T00:00:00",
          "2011-11-01T00:00:00",
          "2011-12-01T00:00:00",
          "2012-01-01T00:00:00",
          "2012-02-01T00:00:00",
          "2012-03-01T00:00:00",
          "2012-04-01T00:00:00",
          "2012-05-01T00:00:00",
          "2012-06-01T00:00:00",
          "2012-07-01T00:00:00",
          "2012-08-01T00:00:00",
          "2012-09-01T00:00:00",
          "2012-10-01T00:00:00",
          "2012-11-01T00:00:00",
          "2012-12-01T00:00:00",
          "2013-01-01T00:00:00",
          "2013-02-01T00:00:00",
          "2013-03-01T00:00:00",
          "2013-04-01T00:00:00",
          "2013-05-01T00:00:00",
          "2013-06-01T00:00:00",
          "2013-07-01T00:00:00",
          "2013-08-01T00:00:00",
          "2013-09-01T00:00:00",
          "2013-10-01T00:00:00",
          "2013-11-01T00:00:00",
          "2013-12-01T00:00:00",
          "2014-01-01T00:00:00",
          "2014-02-01T00:00:00",
          "2014-03-01T00:00:00",
          "2014-04-01T00:00:00",
          "2014-05-01T00:00:00",
          "2014-06-01T00:00:00",
          "2014-07-01T00:00:00",
          "2014-08-01T00:00:00",
          "2014-09-01T00:00:00",
          "2014-10-01T00:00:00",
          "2014-11-01T00:00:00",
          "2014-12-01T00:00:00",
          "2015-01-01T00:00:00",
          "2015-02-01T00:00:00",
          "2015-03-01T00:00:00",
          "2015-04-01T00:00:00",
          "2015-05-01T00:00:00",
          "2015-06-01T00:00:00",
          "2015-07-01T00:00:00",
          "2015-08-01T00:00:00",
          "2015-09-01T00:00:00",
          "2015-10-01T00:00:00",
          "2015-11-01T00:00:00",
          "2015-12-01T00:00:00",
          "2016-01-01T00:00:00",
          "2016-02-01T00:00:00",
          "2016-03-01T00:00:00",
          "2016-04-01T00:00:00",
          "2016-05-01T00:00:00",
          "2016-06-01T00:00:00",
          "2016-07-01T00:00:00",
          "2016-08-01T00:00:00",
          "2016-09-01T00:00:00",
          "2016-10-01T00:00:00",
          "2016-11-01T00:00:00",
          "2016-12-01T00:00:00",
          "2017-01-01T00:00:00",
          "2017-02-01T00:00:00",
          "2017-03-01T00:00:00",
          "2017-04-01T00:00:00",
          "2017-05-01T00:00:00",
          "2017-06-01T00:00:00",
          "2017-07-01T00:00:00",
          "2017-08-01T00:00:00",
          "2017-09-01T00:00:00",
          "2017-10-01T00:00:00",
          "2017-11-01T00:00:00",
          "2017-12-01T00:00:00",
          "2018-01-01T00:00:00",
          "2018-02-01T00:00:00",
          "2018-03-01T00:00:00",
          "2018-04-01T00:00:00",
          "2018-05-01T00:00:00",
          "2018-06-01T00:00:00",
          "2018-07-01T00:00:00",
          "2018-08-01T00:00:00",
          "2018-09-01T00:00:00",
          "2018-10-01T00:00:00",
          "2018-11-01T00:00:00",
          "2018-12-01T00:00:00",
          "2019-01-01T00:00:00",
          "2019-02-01T00:00:00",
          "2019-03-01T00:00:00",
          "2019-04-01T00:00:00",
          "2019-05-01T00:00:00",
          "2019-06-01T00:00:00",
          "2019-07-01T00:00:00",
          "2019-08-01T00:00:00",
          "2019-09-01T00:00:00",
          "2019-10-01T00:00:00",
          "2019-11-01T00:00:00"
         ],
         "xaxis": "x2",
         "y": [
          0.2591674266605899,
          0.45302694721299597,
          0.5741074456019752,
          0.6336787547457874,
          0.6430107075626922,
          0.6133731369709491,
          0.5560358758888184,
          0.4822687572345603,
          0.39191308007997694,
          0.3591970956540059,
          0.3159896874671173,
          0.32033568346838004,
          0.3685678206882057,
          0.4358360517731267,
          0.512869620119965,
          0.627817531305907,
          0.7102651794170304,
          0.7720088393139055,
          0.7812059349679095,
          0.7413816689466527,
          0.6780806061243856,
          0.6112438177417692,
          0.5534410186257002,
          0.5278438387877541,
          0.4810586130695596,
          0.49370198884563044,
          0.5192623382089895,
          0.5534462801220699,
          0.5858728822477146,
          0.6125013153740959,
          0.586330632431867,
          0.5337577607071482,
          0.4594654319688545,
          0.40525623487320017,
          0.3747869093970346,
          0.357797537619701,
          0.3373618857203007,
          0.34160265179417215,
          0.35226244343891594,
          0.3801536356939935,
          0.41415342523413895,
          0.44544880564032663,
          0.43999789540145473,
          0.4096548458381587,
          0.3701252236135978,
          0.3457539724297609,
          0.35185730821845923,
          0.38658844575397455,
          0.4058507839629613,
          0.4380932337156712,
          0.47012522361359843,
          0.5111280648216382,
          0.5387456592654982,
          0.5484531200673504,
          0.5337998526781047,
          0.48379459118173485,
          0.41240134694307296,
          0.34770072608650093,
          0.29550668210039094,
          0.2581132274018745,
          0.2494107124066098,
          0.2509470693465235,
          0.24787961696306565,
          0.265200463011682,
          0.2860359886351695,
          0.2978164790066312,
          0.29343891402715105,
          0.2721140692412938,
          0.24551720509312985,
          0.22787540776596993,
          0.21391665789750722,
          0.2150215721351164,
          0.21392718089024637,
          0.21904135536146602,
          0.23559928443649503,
          0.2593549405450925,
          0.27852783331579656,
          0.2912869620119979,
          0.29193412606545466,
          0.2752972745448821,
          0.25373040092602483,
          0.23714616436914793,
          0.2199989477007273,
          0.2158318425760298,
          0.20927601809954866,
          0.21208565716089775,
          0.20858676207513532,
          0.21869935809744412,
          0.23864042933810514,
          0.2484531200673486,
          0.24112385562454103,
          0.2276859938966655,
          0.21067557613385363,
          0.2021940439861108,
          0.1929180258865632,
          0.1883352625486699,
          0.18914553298958325,
          0.19525939177102075,
          0.20463537830159012,
          0.21976218036409675,
          0.23395243607282043,
          0.24915816058087062,
          0.2432442386614767,
          0.2331158581500592,
          0.21665263600968235,
          0.21511627906976866,
          0.2162580237819648,
          0.22010943912448822,
          0.21658423655687797,
          0.22379774807955508,
          0.24062401346943202,
          0.2591813111648968,
          0.28407871198569035,
          0.30589813743028693,
          0.3008891928864586,
          0.2887193517836489,
          0.256403241081765,
          0.2589445438282661,
          0.30315163632537256,
          0.3657634431232263,
          0.4097232452909631,
          0.44998947700726344,
          0.48183205303588617,
          0.5134589077133567,
          0.5333263180048438,
          0.5279385457224066,
          0.49443333684100044,
          0.44296011785752126,
          0.3628906661054424,
          0.3116436914658545,
          0.2541460591392205,
          0.25712406608439575,
          0.279653793538884,
          0.30293591497422034,
          0.31102283489424565,
          0.3293854572240364,
          0.3621067031463769,
          0.38294222876986433,
          0.3774913185309924,
          0.3557981689992654,
          0.3256287488161651,
          0.3161948858255305,
          0.3064716405345697,
          0.3178943491529008,
          0.31642113016942197,
          0.33222140376723325,
          0.3340103125328862,
          0.3520046301168072,
          0.3592812795959191,
          0.3525465642428727,
          0.35805535094180985,
          0.3265810796590568,
          0.30593496790487384,
          0.3092128801431144,
          0.323755656108599,
          0.3492318215300451,
          0.362895927601812,
          0.40131537409239415,
          0.4329632747553428,
          0.46596864148164,
          0.49519099231821817,
          0.5275491949910585,
          0.524939492791753,
          0.5148952962222485,
          0.5096601073345288,
          0.5022179086303571,
          0.49758549514021444,
          0.4982372316845638,
          0.5066474830838714,
          0.5252906141586032,
          0.5566409897292254,
          0.6031729746162037
         ],
         "yaxis": "y3"
        },
        {
         "marker": {
          "color": "#FF4464"
         },
         "name": "Climate change <br>Google trend",
         "type": "scatter",
         "x": [
          "2005-08-01T00:00:00",
          "2005-09-01T00:00:00",
          "2005-10-01T00:00:00",
          "2005-11-01T00:00:00",
          "2005-12-01T00:00:00",
          "2006-01-01T00:00:00",
          "2006-02-01T00:00:00",
          "2006-03-01T00:00:00",
          "2006-04-01T00:00:00",
          "2006-05-01T00:00:00",
          "2006-06-01T00:00:00",
          "2006-07-01T00:00:00",
          "2006-08-01T00:00:00",
          "2006-09-01T00:00:00",
          "2006-10-01T00:00:00",
          "2006-11-01T00:00:00",
          "2006-12-01T00:00:00",
          "2007-01-01T00:00:00",
          "2007-02-01T00:00:00",
          "2007-03-01T00:00:00",
          "2007-04-01T00:00:00",
          "2007-05-01T00:00:00",
          "2007-06-01T00:00:00",
          "2007-07-01T00:00:00",
          "2007-08-01T00:00:00",
          "2007-09-01T00:00:00",
          "2007-10-01T00:00:00",
          "2007-11-01T00:00:00",
          "2007-12-01T00:00:00",
          "2008-01-01T00:00:00",
          "2008-02-01T00:00:00",
          "2008-03-01T00:00:00",
          "2008-04-01T00:00:00",
          "2008-05-01T00:00:00",
          "2008-06-01T00:00:00",
          "2008-07-01T00:00:00",
          "2008-08-01T00:00:00",
          "2008-09-01T00:00:00",
          "2008-10-01T00:00:00",
          "2008-11-01T00:00:00",
          "2008-12-01T00:00:00",
          "2009-01-01T00:00:00",
          "2009-02-01T00:00:00",
          "2009-03-01T00:00:00",
          "2009-04-01T00:00:00",
          "2009-05-01T00:00:00",
          "2009-06-01T00:00:00",
          "2009-07-01T00:00:00",
          "2009-08-01T00:00:00",
          "2009-09-01T00:00:00",
          "2009-10-01T00:00:00",
          "2009-11-01T00:00:00",
          "2009-12-01T00:00:00",
          "2010-01-01T00:00:00",
          "2010-02-01T00:00:00",
          "2010-03-01T00:00:00",
          "2010-04-01T00:00:00",
          "2010-05-01T00:00:00",
          "2010-06-01T00:00:00",
          "2010-07-01T00:00:00",
          "2010-08-01T00:00:00",
          "2010-09-01T00:00:00",
          "2010-10-01T00:00:00",
          "2010-11-01T00:00:00",
          "2010-12-01T00:00:00",
          "2011-01-01T00:00:00",
          "2011-02-01T00:00:00",
          "2011-03-01T00:00:00",
          "2011-04-01T00:00:00",
          "2011-05-01T00:00:00",
          "2011-06-01T00:00:00",
          "2011-07-01T00:00:00",
          "2011-08-01T00:00:00",
          "2011-09-01T00:00:00",
          "2011-10-01T00:00:00",
          "2011-11-01T00:00:00",
          "2011-12-01T00:00:00",
          "2012-01-01T00:00:00",
          "2012-02-01T00:00:00",
          "2012-03-01T00:00:00",
          "2012-04-01T00:00:00",
          "2012-05-01T00:00:00",
          "2012-06-01T00:00:00",
          "2012-07-01T00:00:00",
          "2012-08-01T00:00:00",
          "2012-09-01T00:00:00",
          "2012-10-01T00:00:00",
          "2012-11-01T00:00:00",
          "2012-12-01T00:00:00",
          "2013-01-01T00:00:00",
          "2013-02-01T00:00:00",
          "2013-03-01T00:00:00",
          "2013-04-01T00:00:00",
          "2013-05-01T00:00:00",
          "2013-06-01T00:00:00",
          "2013-07-01T00:00:00",
          "2013-08-01T00:00:00",
          "2013-09-01T00:00:00",
          "2013-10-01T00:00:00",
          "2013-11-01T00:00:00",
          "2013-12-01T00:00:00",
          "2014-01-01T00:00:00",
          "2014-02-01T00:00:00",
          "2014-03-01T00:00:00",
          "2014-04-01T00:00:00",
          "2014-05-01T00:00:00",
          "2014-06-01T00:00:00",
          "2014-07-01T00:00:00",
          "2014-08-01T00:00:00",
          "2014-09-01T00:00:00",
          "2014-10-01T00:00:00",
          "2014-11-01T00:00:00",
          "2014-12-01T00:00:00",
          "2015-01-01T00:00:00",
          "2015-02-01T00:00:00",
          "2015-03-01T00:00:00",
          "2015-04-01T00:00:00",
          "2015-05-01T00:00:00",
          "2015-06-01T00:00:00",
          "2015-07-01T00:00:00",
          "2015-08-01T00:00:00",
          "2015-09-01T00:00:00",
          "2015-10-01T00:00:00",
          "2015-11-01T00:00:00",
          "2015-12-01T00:00:00",
          "2016-01-01T00:00:00",
          "2016-02-01T00:00:00",
          "2016-03-01T00:00:00",
          "2016-04-01T00:00:00",
          "2016-05-01T00:00:00",
          "2016-06-01T00:00:00",
          "2016-07-01T00:00:00",
          "2016-08-01T00:00:00",
          "2016-09-01T00:00:00",
          "2016-10-01T00:00:00",
          "2016-11-01T00:00:00",
          "2016-12-01T00:00:00",
          "2017-01-01T00:00:00",
          "2017-02-01T00:00:00",
          "2017-03-01T00:00:00",
          "2017-04-01T00:00:00",
          "2017-05-01T00:00:00",
          "2017-06-01T00:00:00",
          "2017-07-01T00:00:00",
          "2017-08-01T00:00:00",
          "2017-09-01T00:00:00",
          "2017-10-01T00:00:00",
          "2017-11-01T00:00:00",
          "2017-12-01T00:00:00",
          "2018-01-01T00:00:00",
          "2018-02-01T00:00:00",
          "2018-03-01T00:00:00",
          "2018-04-01T00:00:00",
          "2018-05-01T00:00:00",
          "2018-06-01T00:00:00",
          "2018-07-01T00:00:00",
          "2018-08-01T00:00:00",
          "2018-09-01T00:00:00",
          "2018-10-01T00:00:00",
          "2018-11-01T00:00:00",
          "2018-12-01T00:00:00",
          "2019-01-01T00:00:00",
          "2019-02-01T00:00:00",
          "2019-03-01T00:00:00",
          "2019-04-01T00:00:00",
          "2019-05-01T00:00:00",
          "2019-06-01T00:00:00",
          "2019-07-01T00:00:00",
          "2019-08-01T00:00:00",
          "2019-09-01T00:00:00",
          "2019-10-01T00:00:00",
          "2019-11-01T00:00:00"
         ],
         "xaxis": "x3",
         "y": [
          0.2591674266605899,
          0.45302694721299597,
          0.5741074456019752,
          0.6336787547457874,
          0.6430107075626922,
          0.6133731369709491,
          0.5560358758888184,
          0.4822687572345603,
          0.39191308007997694,
          0.3591970956540059,
          0.3159896874671173,
          0.32033568346838004,
          0.3685678206882057,
          0.4358360517731267,
          0.512869620119965,
          0.627817531305907,
          0.7102651794170304,
          0.7720088393139055,
          0.7812059349679095,
          0.7413816689466527,
          0.6780806061243856,
          0.6112438177417692,
          0.5534410186257002,
          0.5278438387877541,
          0.4810586130695596,
          0.49370198884563044,
          0.5192623382089895,
          0.5534462801220699,
          0.5858728822477146,
          0.6125013153740959,
          0.586330632431867,
          0.5337577607071482,
          0.4594654319688545,
          0.40525623487320017,
          0.3747869093970346,
          0.357797537619701,
          0.3373618857203007,
          0.34160265179417215,
          0.35226244343891594,
          0.3801536356939935,
          0.41415342523413895,
          0.44544880564032663,
          0.43999789540145473,
          0.4096548458381587,
          0.3701252236135978,
          0.3457539724297609,
          0.35185730821845923,
          0.38658844575397455,
          0.4058507839629613,
          0.4380932337156712,
          0.47012522361359843,
          0.5111280648216382,
          0.5387456592654982,
          0.5484531200673504,
          0.5337998526781047,
          0.48379459118173485,
          0.41240134694307296,
          0.34770072608650093,
          0.29550668210039094,
          0.2581132274018745,
          0.2494107124066098,
          0.2509470693465235,
          0.24787961696306565,
          0.265200463011682,
          0.2860359886351695,
          0.2978164790066312,
          0.29343891402715105,
          0.2721140692412938,
          0.24551720509312985,
          0.22787540776596993,
          0.21391665789750722,
          0.2150215721351164,
          0.21392718089024637,
          0.21904135536146602,
          0.23559928443649503,
          0.2593549405450925,
          0.27852783331579656,
          0.2912869620119979,
          0.29193412606545466,
          0.2752972745448821,
          0.25373040092602483,
          0.23714616436914793,
          0.2199989477007273,
          0.2158318425760298,
          0.20927601809954866,
          0.21208565716089775,
          0.20858676207513532,
          0.21869935809744412,
          0.23864042933810514,
          0.2484531200673486,
          0.24112385562454103,
          0.2276859938966655,
          0.21067557613385363,
          0.2021940439861108,
          0.1929180258865632,
          0.1883352625486699,
          0.18914553298958325,
          0.19525939177102075,
          0.20463537830159012,
          0.21976218036409675,
          0.23395243607282043,
          0.24915816058087062,
          0.2432442386614767,
          0.2331158581500592,
          0.21665263600968235,
          0.21511627906976866,
          0.2162580237819648,
          0.22010943912448822,
          0.21658423655687797,
          0.22379774807955508,
          0.24062401346943202,
          0.2591813111648968,
          0.28407871198569035,
          0.30589813743028693,
          0.3008891928864586,
          0.2887193517836489,
          0.256403241081765,
          0.2589445438282661,
          0.30315163632537256,
          0.3657634431232263,
          0.4097232452909631,
          0.44998947700726344,
          0.48183205303588617,
          0.5134589077133567,
          0.5333263180048438,
          0.5279385457224066,
          0.49443333684100044,
          0.44296011785752126,
          0.3628906661054424,
          0.3116436914658545,
          0.2541460591392205,
          0.25712406608439575,
          0.279653793538884,
          0.30293591497422034,
          0.31102283489424565,
          0.3293854572240364,
          0.3621067031463769,
          0.38294222876986433,
          0.3774913185309924,
          0.3557981689992654,
          0.3256287488161651,
          0.3161948858255305,
          0.3064716405345697,
          0.3178943491529008,
          0.31642113016942197,
          0.33222140376723325,
          0.3340103125328862,
          0.3520046301168072,
          0.3592812795959191,
          0.3525465642428727,
          0.35805535094180985,
          0.3265810796590568,
          0.30593496790487384,
          0.3092128801431144,
          0.323755656108599,
          0.3492318215300451,
          0.362895927601812,
          0.40131537409239415,
          0.4329632747553428,
          0.46596864148164,
          0.49519099231821817,
          0.5275491949910585,
          0.524939492791753,
          0.5148952962222485,
          0.5096601073345288,
          0.5022179086303571,
          0.49758549514021444,
          0.4982372316845638,
          0.5066474830838714,
          0.5252906141586032,
          0.5566409897292254,
          0.6031729746162037
         ],
         "yaxis": "y5"
        },
        {
         "name": "BEEF",
         "type": "scatter",
         "x": [
          2004,
          2005,
          2006,
          2007,
          2008,
          2009,
          2010,
          2011,
          2012,
          2013,
          2014,
          2015,
          2016,
          2017,
          2018
         ],
         "xaxis": "x",
         "y": [
          12.069725850451775,
          12.043152338367085,
          12.115011461817012,
          12.15087762366916,
          11.670029587088063,
          11.562054961172855,
          11.317676315434403,
          11.025956887421101,
          10.682771219990597,
          10.405276642612899,
          10.53817868890905,
          10.613502929511249,
          10.807120211131817,
          10.711559747710536,
          10.89774159665884
         ],
         "yaxis": "y2"
        },
        {
         "name": "POULTRY",
         "type": "scatter",
         "x": [
          2004,
          2005,
          2006,
          2007,
          2008,
          2009,
          2010,
          2011,
          2012,
          2013,
          2014,
          2015,
          2016,
          2017,
          2018
         ],
         "xaxis": "x2",
         "y": [
          19.0967144220093,
          19.513323269443063,
          18.95089162600411,
          19.65383460837917,
          19.906945982889965,
          19.94029687959563,
          20.173308103086715,
          20.336002487520275,
          20.93135986335401,
          21.017799762555068,
          21.631425333552365,
          22.682513249787934,
          23.79365586436245,
          23.561575579692526,
          24.102739301240945
         ],
         "yaxis": "y4"
        },
        {
         "name": "PIG",
         "type": "scatter",
         "x": [
          2004,
          2005,
          2006,
          2007,
          2008,
          2009,
          2010,
          2011,
          2012,
          2013,
          2014,
          2015,
          2016,
          2017,
          2018
         ],
         "xaxis": "x3",
         "y": [
          32.53847906024886,
          32.49635839000909,
          32.69682577481514,
          33.860112654966,
          32.87729556988529,
          32.22802200520481,
          32.58168343562719,
          32.47262325991093,
          31.67188728210868,
          31.32412887915976,
          32.04609644053965,
          32.6703015337085,
          32.411218899933125,
          32.43571632938501,
          33.119238811927374
         ],
         "yaxis": "y6"
        }
       ],
       "layout": {
        "autosize": true,
        "template": {
         "data": {
          "bar": [
           {
            "error_x": {
             "color": "#2a3f5f"
            },
            "error_y": {
             "color": "#2a3f5f"
            },
            "marker": {
             "line": {
              "color": "#E5ECF6",
              "width": 0.5
             }
            },
            "type": "bar"
           }
          ],
          "barpolar": [
           {
            "marker": {
             "line": {
              "color": "#E5ECF6",
              "width": 0.5
             }
            },
            "type": "barpolar"
           }
          ],
          "carpet": [
           {
            "aaxis": {
             "endlinecolor": "#2a3f5f",
             "gridcolor": "white",
             "linecolor": "white",
             "minorgridcolor": "white",
             "startlinecolor": "#2a3f5f"
            },
            "baxis": {
             "endlinecolor": "#2a3f5f",
             "gridcolor": "white",
             "linecolor": "white",
             "minorgridcolor": "white",
             "startlinecolor": "#2a3f5f"
            },
            "type": "carpet"
           }
          ],
          "choropleth": [
           {
            "colorbar": {
             "outlinewidth": 0,
             "ticks": ""
            },
            "type": "choropleth"
           }
          ],
          "contour": [
           {
            "colorbar": {
             "outlinewidth": 0,
             "ticks": ""
            },
            "colorscale": [
             [
              0,
              "#0d0887"
             ],
             [
              0.1111111111111111,
              "#46039f"
             ],
             [
              0.2222222222222222,
              "#7201a8"
             ],
             [
              0.3333333333333333,
              "#9c179e"
             ],
             [
              0.4444444444444444,
              "#bd3786"
             ],
             [
              0.5555555555555556,
              "#d8576b"
             ],
             [
              0.6666666666666666,
              "#ed7953"
             ],
             [
              0.7777777777777778,
              "#fb9f3a"
             ],
             [
              0.8888888888888888,
              "#fdca26"
             ],
             [
              1,
              "#f0f921"
             ]
            ],
            "type": "contour"
           }
          ],
          "contourcarpet": [
           {
            "colorbar": {
             "outlinewidth": 0,
             "ticks": ""
            },
            "type": "contourcarpet"
           }
          ],
          "heatmap": [
           {
            "colorbar": {
             "outlinewidth": 0,
             "ticks": ""
            },
            "colorscale": [
             [
              0,
              "#0d0887"
             ],
             [
              0.1111111111111111,
              "#46039f"
             ],
             [
              0.2222222222222222,
              "#7201a8"
             ],
             [
              0.3333333333333333,
              "#9c179e"
             ],
             [
              0.4444444444444444,
              "#bd3786"
             ],
             [
              0.5555555555555556,
              "#d8576b"
             ],
             [
              0.6666666666666666,
              "#ed7953"
             ],
             [
              0.7777777777777778,
              "#fb9f3a"
             ],
             [
              0.8888888888888888,
              "#fdca26"
             ],
             [
              1,
              "#f0f921"
             ]
            ],
            "type": "heatmap"
           }
          ],
          "heatmapgl": [
           {
            "colorbar": {
             "outlinewidth": 0,
             "ticks": ""
            },
            "colorscale": [
             [
              0,
              "#0d0887"
             ],
             [
              0.1111111111111111,
              "#46039f"
             ],
             [
              0.2222222222222222,
              "#7201a8"
             ],
             [
              0.3333333333333333,
              "#9c179e"
             ],
             [
              0.4444444444444444,
              "#bd3786"
             ],
             [
              0.5555555555555556,
              "#d8576b"
             ],
             [
              0.6666666666666666,
              "#ed7953"
             ],
             [
              0.7777777777777778,
              "#fb9f3a"
             ],
             [
              0.8888888888888888,
              "#fdca26"
             ],
             [
              1,
              "#f0f921"
             ]
            ],
            "type": "heatmapgl"
           }
          ],
          "histogram": [
           {
            "marker": {
             "colorbar": {
              "outlinewidth": 0,
              "ticks": ""
             }
            },
            "type": "histogram"
           }
          ],
          "histogram2d": [
           {
            "colorbar": {
             "outlinewidth": 0,
             "ticks": ""
            },
            "colorscale": [
             [
              0,
              "#0d0887"
             ],
             [
              0.1111111111111111,
              "#46039f"
             ],
             [
              0.2222222222222222,
              "#7201a8"
             ],
             [
              0.3333333333333333,
              "#9c179e"
             ],
             [
              0.4444444444444444,
              "#bd3786"
             ],
             [
              0.5555555555555556,
              "#d8576b"
             ],
             [
              0.6666666666666666,
              "#ed7953"
             ],
             [
              0.7777777777777778,
              "#fb9f3a"
             ],
             [
              0.8888888888888888,
              "#fdca26"
             ],
             [
              1,
              "#f0f921"
             ]
            ],
            "type": "histogram2d"
           }
          ],
          "histogram2dcontour": [
           {
            "colorbar": {
             "outlinewidth": 0,
             "ticks": ""
            },
            "colorscale": [
             [
              0,
              "#0d0887"
             ],
             [
              0.1111111111111111,
              "#46039f"
             ],
             [
              0.2222222222222222,
              "#7201a8"
             ],
             [
              0.3333333333333333,
              "#9c179e"
             ],
             [
              0.4444444444444444,
              "#bd3786"
             ],
             [
              0.5555555555555556,
              "#d8576b"
             ],
             [
              0.6666666666666666,
              "#ed7953"
             ],
             [
              0.7777777777777778,
              "#fb9f3a"
             ],
             [
              0.8888888888888888,
              "#fdca26"
             ],
             [
              1,
              "#f0f921"
             ]
            ],
            "type": "histogram2dcontour"
           }
          ],
          "mesh3d": [
           {
            "colorbar": {
             "outlinewidth": 0,
             "ticks": ""
            },
            "type": "mesh3d"
           }
          ],
          "parcoords": [
           {
            "line": {
             "colorbar": {
              "outlinewidth": 0,
              "ticks": ""
             }
            },
            "type": "parcoords"
           }
          ],
          "pie": [
           {
            "automargin": true,
            "type": "pie"
           }
          ],
          "scatter": [
           {
            "marker": {
             "colorbar": {
              "outlinewidth": 0,
              "ticks": ""
             }
            },
            "type": "scatter"
           }
          ],
          "scatter3d": [
           {
            "line": {
             "colorbar": {
              "outlinewidth": 0,
              "ticks": ""
             }
            },
            "marker": {
             "colorbar": {
              "outlinewidth": 0,
              "ticks": ""
             }
            },
            "type": "scatter3d"
           }
          ],
          "scattercarpet": [
           {
            "marker": {
             "colorbar": {
              "outlinewidth": 0,
              "ticks": ""
             }
            },
            "type": "scattercarpet"
           }
          ],
          "scattergeo": [
           {
            "marker": {
             "colorbar": {
              "outlinewidth": 0,
              "ticks": ""
             }
            },
            "type": "scattergeo"
           }
          ],
          "scattergl": [
           {
            "marker": {
             "colorbar": {
              "outlinewidth": 0,
              "ticks": ""
             }
            },
            "type": "scattergl"
           }
          ],
          "scattermapbox": [
           {
            "marker": {
             "colorbar": {
              "outlinewidth": 0,
              "ticks": ""
             }
            },
            "type": "scattermapbox"
           }
          ],
          "scatterpolar": [
           {
            "marker": {
             "colorbar": {
              "outlinewidth": 0,
              "ticks": ""
             }
            },
            "type": "scatterpolar"
           }
          ],
          "scatterpolargl": [
           {
            "marker": {
             "colorbar": {
              "outlinewidth": 0,
              "ticks": ""
             }
            },
            "type": "scatterpolargl"
           }
          ],
          "scatterternary": [
           {
            "marker": {
             "colorbar": {
              "outlinewidth": 0,
              "ticks": ""
             }
            },
            "type": "scatterternary"
           }
          ],
          "surface": [
           {
            "colorbar": {
             "outlinewidth": 0,
             "ticks": ""
            },
            "colorscale": [
             [
              0,
              "#0d0887"
             ],
             [
              0.1111111111111111,
              "#46039f"
             ],
             [
              0.2222222222222222,
              "#7201a8"
             ],
             [
              0.3333333333333333,
              "#9c179e"
             ],
             [
              0.4444444444444444,
              "#bd3786"
             ],
             [
              0.5555555555555556,
              "#d8576b"
             ],
             [
              0.6666666666666666,
              "#ed7953"
             ],
             [
              0.7777777777777778,
              "#fb9f3a"
             ],
             [
              0.8888888888888888,
              "#fdca26"
             ],
             [
              1,
              "#f0f921"
             ]
            ],
            "type": "surface"
           }
          ],
          "table": [
           {
            "cells": {
             "fill": {
              "color": "#EBF0F8"
             },
             "line": {
              "color": "white"
             }
            },
            "header": {
             "fill": {
              "color": "#C8D4E3"
             },
             "line": {
              "color": "white"
             }
            },
            "type": "table"
           }
          ]
         },
         "layout": {
          "annotationdefaults": {
           "arrowcolor": "#2a3f5f",
           "arrowhead": 0,
           "arrowwidth": 1
          },
          "coloraxis": {
           "colorbar": {
            "outlinewidth": 0,
            "ticks": ""
           }
          },
          "colorscale": {
           "diverging": [
            [
             0,
             "#8e0152"
            ],
            [
             0.1,
             "#c51b7d"
            ],
            [
             0.2,
             "#de77ae"
            ],
            [
             0.3,
             "#f1b6da"
            ],
            [
             0.4,
             "#fde0ef"
            ],
            [
             0.5,
             "#f7f7f7"
            ],
            [
             0.6,
             "#e6f5d0"
            ],
            [
             0.7,
             "#b8e186"
            ],
            [
             0.8,
             "#7fbc41"
            ],
            [
             0.9,
             "#4d9221"
            ],
            [
             1,
             "#276419"
            ]
           ],
           "sequential": [
            [
             0,
             "#0d0887"
            ],
            [
             0.1111111111111111,
             "#46039f"
            ],
            [
             0.2222222222222222,
             "#7201a8"
            ],
            [
             0.3333333333333333,
             "#9c179e"
            ],
            [
             0.4444444444444444,
             "#bd3786"
            ],
            [
             0.5555555555555556,
             "#d8576b"
            ],
            [
             0.6666666666666666,
             "#ed7953"
            ],
            [
             0.7777777777777778,
             "#fb9f3a"
            ],
            [
             0.8888888888888888,
             "#fdca26"
            ],
            [
             1,
             "#f0f921"
            ]
           ],
           "sequentialminus": [
            [
             0,
             "#0d0887"
            ],
            [
             0.1111111111111111,
             "#46039f"
            ],
            [
             0.2222222222222222,
             "#7201a8"
            ],
            [
             0.3333333333333333,
             "#9c179e"
            ],
            [
             0.4444444444444444,
             "#bd3786"
            ],
            [
             0.5555555555555556,
             "#d8576b"
            ],
            [
             0.6666666666666666,
             "#ed7953"
            ],
            [
             0.7777777777777778,
             "#fb9f3a"
            ],
            [
             0.8888888888888888,
             "#fdca26"
            ],
            [
             1,
             "#f0f921"
            ]
           ]
          },
          "colorway": [
           "#636efa",
           "#EF553B",
           "#00cc96",
           "#ab63fa",
           "#FFA15A",
           "#19d3f3",
           "#FF6692",
           "#B6E880",
           "#FF97FF",
           "#FECB52"
          ],
          "font": {
           "color": "#2a3f5f"
          },
          "geo": {
           "bgcolor": "white",
           "lakecolor": "white",
           "landcolor": "#E5ECF6",
           "showlakes": true,
           "showland": true,
           "subunitcolor": "white"
          },
          "hoverlabel": {
           "align": "left"
          },
          "hovermode": "closest",
          "mapbox": {
           "style": "light"
          },
          "paper_bgcolor": "white",
          "plot_bgcolor": "#E5ECF6",
          "polar": {
           "angularaxis": {
            "gridcolor": "white",
            "linecolor": "white",
            "ticks": ""
           },
           "bgcolor": "#E5ECF6",
           "radialaxis": {
            "gridcolor": "white",
            "linecolor": "white",
            "ticks": ""
           }
          },
          "scene": {
           "xaxis": {
            "backgroundcolor": "#E5ECF6",
            "gridcolor": "white",
            "gridwidth": 2,
            "linecolor": "white",
            "showbackground": true,
            "ticks": "",
            "zerolinecolor": "white"
           },
           "yaxis": {
            "backgroundcolor": "#E5ECF6",
            "gridcolor": "white",
            "gridwidth": 2,
            "linecolor": "white",
            "showbackground": true,
            "ticks": "",
            "zerolinecolor": "white"
           },
           "zaxis": {
            "backgroundcolor": "#E5ECF6",
            "gridcolor": "white",
            "gridwidth": 2,
            "linecolor": "white",
            "showbackground": true,
            "ticks": "",
            "zerolinecolor": "white"
           }
          },
          "shapedefaults": {
           "line": {
            "color": "#2a3f5f"
           }
          },
          "ternary": {
           "aaxis": {
            "gridcolor": "white",
            "linecolor": "white",
            "ticks": ""
           },
           "baxis": {
            "gridcolor": "white",
            "linecolor": "white",
            "ticks": ""
           },
           "bgcolor": "#E5ECF6",
           "caxis": {
            "gridcolor": "white",
            "linecolor": "white",
            "ticks": ""
           }
          },
          "title": {
           "x": 0.05
          },
          "xaxis": {
           "automargin": true,
           "gridcolor": "white",
           "linecolor": "white",
           "ticks": "",
           "title": {
            "standoff": 15
           },
           "zerolinecolor": "white",
           "zerolinewidth": 2
          },
          "yaxis": {
           "automargin": true,
           "gridcolor": "white",
           "linecolor": "white",
           "ticks": "",
           "title": {
            "standoff": 15
           },
           "zerolinecolor": "white",
           "zerolinewidth": 2
          }
         }
        },
        "xaxis": {
         "anchor": "y",
         "autorange": true,
         "domain": [
          0,
          0.94
         ],
         "range": [
          "2003-02-03 04:44:45.8721",
          "2019-11-01"
         ],
         "type": "date"
        },
        "xaxis2": {
         "anchor": "y3",
         "autorange": true,
         "domain": [
          0,
          0.94
         ],
         "range": [
          "2003-02-03 04:44:45.8721",
          "2019-11-01"
         ],
         "type": "date"
        },
        "xaxis3": {
         "anchor": "y5",
         "autorange": true,
         "domain": [
          0,
          0.94
         ],
         "range": [
          "2003-02-03 04:44:45.8721",
          "2019-11-01"
         ],
         "type": "date"
        },
        "yaxis": {
         "anchor": "x",
         "autorange": true,
         "domain": [
          0.7333333333333333,
          1
         ],
         "range": [
          0.15539800296982326,
          0.8141431945467561
         ],
         "type": "linear"
        },
        "yaxis2": {
         "anchor": "x",
         "autorange": true,
         "overlaying": "y",
         "range": [
          10.181364474885786,
          12.374789791396273
         ],
         "side": "right",
         "type": "linear"
        },
        "yaxis3": {
         "anchor": "x2",
         "autorange": true,
         "domain": [
          0.36666666666666664,
          0.6333333333333333
         ],
         "range": [
          0.15539800296982326,
          0.8141431945467561
         ],
         "title": {
          "text": "Global tendancy Google search about Climate change"
         },
         "type": "linear"
        },
        "yaxis4": {
         "anchor": "x2",
         "autorange": true,
         "overlaying": "y3",
         "range": [
          18.290052526300958,
          24.7635784009441
         ],
         "side": "right",
         "title": {
          "text": "Consumption (kg/capita)"
         },
         "type": "linear"
        },
        "yaxis5": {
         "anchor": "x3",
         "autorange": true,
         "domain": [
          0,
          0.26666666666666666
         ],
         "range": [
          0.15539800296982326,
          0.8141431945467561
         ],
         "type": "linear"
        },
        "yaxis6": {
         "anchor": "x3",
         "autorange": true,
         "overlaying": "y5",
         "range": [
          30.998832530954246,
          34.185409003171515
         ],
         "side": "right",
         "type": "linear"
        }
       }
      },
      "image/png": "[encoded data removed]",
      "text/html": [
       "<div>\n",
       "        \n",
       "        \n",
       "            <div id=\"f5247878-30bd-4a4a-9097-f5bc02d1236c\" class=\"plotly-graph-div\" style=\"height:525px; width:100%;\"></div>\n",
       "            <script type=\"text/javascript\">\n",
       "                require([\"plotly\"], function(Plotly) {\n",
       "                    window.PLOTLYENV=window.PLOTLYENV || {};\n",
       "                    \n",
       "                if (document.getElementById(\"f5247878-30bd-4a4a-9097-f5bc02d1236c\")) {\n",
       "                    Plotly.newPlot(\n",
       "                        'f5247878-30bd-4a4a-9097-f5bc02d1236c',\n",
       "                        [{\"marker\": {\"color\": \"#FF4464\"}, \"name\": \"Climate change <br>Google trend\", \"showlegend\": false, \"type\": \"scatter\", \"x\": [\"2005-08-01T00:00:00\", \"2005-09-01T00:00:00\", \"2005-10-01T00:00:00\", \"2005-11-01T00:00:00\", \"2005-12-01T00:00:00\", \"2006-01-01T00:00:00\", \"2006-02-01T00:00:00\", \"2006-03-01T00:00:00\", \"2006-04-01T00:00:00\", \"2006-05-01T00:00:00\", \"2006-06-01T00:00:00\", \"2006-07-01T00:00:00\", \"2006-08-01T00:00:00\", \"2006-09-01T00:00:00\", \"2006-10-01T00:00:00\", \"2006-11-01T00:00:00\", \"2006-12-01T00:00:00\", \"2007-01-01T00:00:00\", \"2007-02-01T00:00:00\", \"2007-03-01T00:00:00\", \"2007-04-01T00:00:00\", \"2007-05-01T00:00:00\", \"2007-06-01T00:00:00\", \"2007-07-01T00:00:00\", \"2007-08-01T00:00:00\", \"2007-09-01T00:00:00\", \"2007-10-01T00:00:00\", \"2007-11-01T00:00:00\", \"2007-12-01T00:00:00\", \"2008-01-01T00:00:00\", \"2008-02-01T00:00:00\", \"2008-03-01T00:00:00\", \"2008-04-01T00:00:00\", \"2008-05-01T00:00:00\", \"2008-06-01T00:00:00\", \"2008-07-01T00:00:00\", \"2008-08-01T00:00:00\", \"2008-09-01T00:00:00\", \"2008-10-01T00:00:00\", \"2008-11-01T00:00:00\", \"2008-12-01T00:00:00\", \"2009-01-01T00:00:00\", \"2009-02-01T00:00:00\", \"2009-03-01T00:00:00\", \"2009-04-01T00:00:00\", \"2009-05-01T00:00:00\", \"2009-06-01T00:00:00\", \"2009-07-01T00:00:00\", \"2009-08-01T00:00:00\", \"2009-09-01T00:00:00\", \"2009-10-01T00:00:00\", \"2009-11-01T00:00:00\", \"2009-12-01T00:00:00\", \"2010-01-01T00:00:00\", \"2010-02-01T00:00:00\", \"2010-03-01T00:00:00\", \"2010-04-01T00:00:00\", \"2010-05-01T00:00:00\", \"2010-06-01T00:00:00\", \"2010-07-01T00:00:00\", \"2010-08-01T00:00:00\", \"2010-09-01T00:00:00\", \"2010-10-01T00:00:00\", \"2010-11-01T00:00:00\", \"2010-12-01T00:00:00\", \"2011-01-01T00:00:00\", \"2011-02-01T00:00:00\", \"2011-03-01T00:00:00\", \"2011-04-01T00:00:00\", \"2011-05-01T00:00:00\", \"2011-06-01T00:00:00\", \"2011-07-01T00:00:00\", \"2011-08-01T00:00:00\", \"2011-09-01T00:00:00\", \"2011-10-01T00:00:00\", \"2011-11-01T00:00:00\", \"2011-12-01T00:00:00\", \"2012-01-01T00:00:00\", \"2012-02-01T00:00:00\", \"2012-03-01T00:00:00\", \"2012-04-01T00:00:00\", \"2012-05-01T00:00:00\", \"2012-06-01T00:00:00\", \"2012-07-01T00:00:00\", \"2012-08-01T00:00:00\", \"2012-09-01T00:00:00\", \"2012-10-01T00:00:00\", \"2012-11-01T00:00:00\", \"2012-12-01T00:00:00\", \"2013-01-01T00:00:00\", \"2013-02-01T00:00:00\", \"2013-03-01T00:00:00\", \"2013-04-01T00:00:00\", \"2013-05-01T00:00:00\", \"2013-06-01T00:00:00\", \"2013-07-01T00:00:00\", \"2013-08-01T00:00:00\", \"2013-09-01T00:00:00\", \"2013-10-01T00:00:00\", \"2013-11-01T00:00:00\", \"2013-12-01T00:00:00\", \"2014-01-01T00:00:00\", \"2014-02-01T00:00:00\", \"2014-03-01T00:00:00\", \"2014-04-01T00:00:00\", \"2014-05-01T00:00:00\", \"2014-06-01T00:00:00\", \"2014-07-01T00:00:00\", \"2014-08-01T00:00:00\", \"2014-09-01T00:00:00\", \"2014-10-01T00:00:00\", \"2014-11-01T00:00:00\", \"2014-12-01T00:00:00\", \"2015-01-01T00:00:00\", \"2015-02-01T00:00:00\", \"2015-03-01T00:00:00\", \"2015-04-01T00:00:00\", \"2015-05-01T00:00:00\", \"2015-06-01T00:00:00\", \"2015-07-01T00:00:00\", \"2015-08-01T00:00:00\", \"2015-09-01T00:00:00\", \"2015-10-01T00:00:00\", \"2015-11-01T00:00:00\", \"2015-12-01T00:00:00\", \"2016-01-01T00:00:00\", \"2016-02-01T00:00:00\", \"2016-03-01T00:00:00\", \"2016-04-01T00:00:00\", \"2016-05-01T00:00:00\", \"2016-06-01T00:00:00\", \"2016-07-01T00:00:00\", \"2016-08-01T00:00:00\", \"2016-09-01T00:00:00\", \"2016-10-01T00:00:00\", \"2016-11-01T00:00:00\", \"2016-12-01T00:00:00\", \"2017-01-01T00:00:00\", \"2017-02-01T00:00:00\", \"2017-03-01T00:00:00\", \"2017-04-01T00:00:00\", \"2017-05-01T00:00:00\", \"2017-06-01T00:00:00\", \"2017-07-01T00:00:00\", \"2017-08-01T00:00:00\", \"2017-09-01T00:00:00\", \"2017-10-01T00:00:00\", \"2017-11-01T00:00:00\", \"2017-12-01T00:00:00\", \"2018-01-01T00:00:00\", \"2018-02-01T00:00:00\", \"2018-03-01T00:00:00\", \"2018-04-01T00:00:00\", \"2018-05-01T00:00:00\", \"2018-06-01T00:00:00\", \"2018-07-01T00:00:00\", \"2018-08-01T00:00:00\", \"2018-09-01T00:00:00\", \"2018-10-01T00:00:00\", \"2018-11-01T00:00:00\", \"2018-12-01T00:00:00\", \"2019-01-01T00:00:00\", \"2019-02-01T00:00:00\", \"2019-03-01T00:00:00\", \"2019-04-01T00:00:00\", \"2019-05-01T00:00:00\", \"2019-06-01T00:00:00\", \"2019-07-01T00:00:00\", \"2019-08-01T00:00:00\", \"2019-09-01T00:00:00\", \"2019-10-01T00:00:00\", \"2019-11-01T00:00:00\"], \"xaxis\": \"x\", \"y\": [0.2591674266605899, 0.45302694721299597, 0.5741074456019752, 0.6336787547457874, 0.6430107075626922, 0.6133731369709491, 0.5560358758888184, 0.4822687572345603, 0.39191308007997694, 0.3591970956540059, 0.3159896874671173, 0.32033568346838004, 0.3685678206882057, 0.4358360517731267, 0.512869620119965, 0.627817531305907, 0.7102651794170304, 0.7720088393139055, 0.7812059349679095, 0.7413816689466527, 0.6780806061243856, 0.6112438177417692, 0.5534410186257002, 0.5278438387877541, 0.4810586130695596, 0.49370198884563044, 0.5192623382089895, 0.5534462801220699, 0.5858728822477146, 0.6125013153740959, 0.586330632431867, 0.5337577607071482, 0.4594654319688545, 0.40525623487320017, 0.3747869093970346, 0.357797537619701, 0.3373618857203007, 0.34160265179417215, 0.35226244343891594, 0.3801536356939935, 0.41415342523413895, 0.44544880564032663, 0.43999789540145473, 0.4096548458381587, 0.3701252236135978, 0.3457539724297609, 0.35185730821845923, 0.38658844575397455, 0.4058507839629613, 0.4380932337156712, 0.47012522361359843, 0.5111280648216382, 0.5387456592654982, 0.5484531200673504, 0.5337998526781047, 0.48379459118173485, 0.41240134694307296, 0.34770072608650093, 0.29550668210039094, 0.2581132274018745, 0.2494107124066098, 0.2509470693465235, 0.24787961696306565, 0.265200463011682, 0.2860359886351695, 0.2978164790066312, 0.29343891402715105, 0.2721140692412938, 0.24551720509312985, 0.22787540776596993, 0.21391665789750722, 0.2150215721351164, 0.21392718089024637, 0.21904135536146602, 0.23559928443649503, 0.2593549405450925, 0.27852783331579656, 0.2912869620119979, 0.29193412606545466, 0.2752972745448821, 0.25373040092602483, 0.23714616436914793, 0.2199989477007273, 0.2158318425760298, 0.20927601809954866, 0.21208565716089775, 0.20858676207513532, 0.21869935809744412, 0.23864042933810514, 0.2484531200673486, 0.24112385562454103, 0.2276859938966655, 0.21067557613385363, 0.2021940439861108, 0.1929180258865632, 0.1883352625486699, 0.18914553298958325, 0.19525939177102075, 0.20463537830159012, 0.21976218036409675, 0.23395243607282043, 0.24915816058087062, 0.2432442386614767, 0.2331158581500592, 0.21665263600968235, 0.21511627906976866, 0.2162580237819648, 0.22010943912448822, 0.21658423655687797, 0.22379774807955508, 0.24062401346943202, 0.2591813111648968, 0.28407871198569035, 0.30589813743028693, 0.3008891928864586, 0.2887193517836489, 0.256403241081765, 0.2589445438282661, 0.30315163632537256, 0.3657634431232263, 0.4097232452909631, 0.44998947700726344, 0.48183205303588617, 0.5134589077133567, 0.5333263180048438, 0.5279385457224066, 0.49443333684100044, 0.44296011785752126, 0.3628906661054424, 0.3116436914658545, 0.2541460591392205, 0.25712406608439575, 0.279653793538884, 0.30293591497422034, 0.31102283489424565, 0.3293854572240364, 0.3621067031463769, 0.38294222876986433, 0.3774913185309924, 0.3557981689992654, 0.3256287488161651, 0.3161948858255305, 0.3064716405345697, 0.3178943491529008, 0.31642113016942197, 0.33222140376723325, 0.3340103125328862, 0.3520046301168072, 0.3592812795959191, 0.3525465642428727, 0.35805535094180985, 0.3265810796590568, 0.30593496790487384, 0.3092128801431144, 0.323755656108599, 0.3492318215300451, 0.362895927601812, 0.40131537409239415, 0.4329632747553428, 0.46596864148164, 0.49519099231821817, 0.5275491949910585, 0.524939492791753, 0.5148952962222485, 0.5096601073345288, 0.5022179086303571, 0.49758549514021444, 0.4982372316845638, 0.5066474830838714, 0.5252906141586032, 0.5566409897292254, 0.6031729746162037], \"yaxis\": \"y\"}, {\"marker\": {\"color\": \"#FF4464\"}, \"name\": \"Climate change <br>Google trend\", \"showlegend\": false, \"type\": \"scatter\", \"x\": [\"2005-08-01T00:00:00\", \"2005-09-01T00:00:00\", \"2005-10-01T00:00:00\", \"2005-11-01T00:00:00\", \"2005-12-01T00:00:00\", \"2006-01-01T00:00:00\", \"2006-02-01T00:00:00\", \"2006-03-01T00:00:00\", \"2006-04-01T00:00:00\", \"2006-05-01T00:00:00\", \"2006-06-01T00:00:00\", \"2006-07-01T00:00:00\", \"2006-08-01T00:00:00\", \"2006-09-01T00:00:00\", \"2006-10-01T00:00:00\", \"2006-11-01T00:00:00\", \"2006-12-01T00:00:00\", \"2007-01-01T00:00:00\", \"2007-02-01T00:00:00\", \"2007-03-01T00:00:00\", \"2007-04-01T00:00:00\", \"2007-05-01T00:00:00\", \"2007-06-01T00:00:00\", \"2007-07-01T00:00:00\", \"2007-08-01T00:00:00\", \"2007-09-01T00:00:00\", \"2007-10-01T00:00:00\", \"2007-11-01T00:00:00\", \"2007-12-01T00:00:00\", \"2008-01-01T00:00:00\", \"2008-02-01T00:00:00\", \"2008-03-01T00:00:00\", \"2008-04-01T00:00:00\", \"2008-05-01T00:00:00\", \"2008-06-01T00:00:00\", \"2008-07-01T00:00:00\", \"2008-08-01T00:00:00\", \"2008-09-01T00:00:00\", \"2008-10-01T00:00:00\", \"2008-11-01T00:00:00\", \"2008-12-01T00:00:00\", \"2009-01-01T00:00:00\", \"2009-02-01T00:00:00\", \"2009-03-01T00:00:00\", \"2009-04-01T00:00:00\", \"2009-05-01T00:00:00\", \"2009-06-01T00:00:00\", \"2009-07-01T00:00:00\", \"2009-08-01T00:00:00\", \"2009-09-01T00:00:00\", \"2009-10-01T00:00:00\", \"2009-11-01T00:00:00\", \"2009-12-01T00:00:00\", \"2010-01-01T00:00:00\", \"2010-02-01T00:00:00\", \"2010-03-01T00:00:00\", \"2010-04-01T00:00:00\", \"2010-05-01T00:00:00\", \"2010-06-01T00:00:00\", \"2010-07-01T00:00:00\", \"2010-08-01T00:00:00\", \"2010-09-01T00:00:00\", \"2010-10-01T00:00:00\", \"2010-11-01T00:00:00\", \"2010-12-01T00:00:00\", \"2011-01-01T00:00:00\", \"2011-02-01T00:00:00\", \"2011-03-01T00:00:00\", \"2011-04-01T00:00:00\", \"2011-05-01T00:00:00\", \"2011-06-01T00:00:00\", \"2011-07-01T00:00:00\", \"2011-08-01T00:00:00\", \"2011-09-01T00:00:00\", \"2011-10-01T00:00:00\", \"2011-11-01T00:00:00\", \"2011-12-01T00:00:00\", \"2012-01-01T00:00:00\", \"2012-02-01T00:00:00\", \"2012-03-01T00:00:00\", \"2012-04-01T00:00:00\", \"2012-05-01T00:00:00\", \"2012-06-01T00:00:00\", \"2012-07-01T00:00:00\", \"2012-08-01T00:00:00\", \"2012-09-01T00:00:00\", \"2012-10-01T00:00:00\", \"2012-11-01T00:00:00\", \"2012-12-01T00:00:00\", \"2013-01-01T00:00:00\", \"2013-02-01T00:00:00\", \"2013-03-01T00:00:00\", \"2013-04-01T00:00:00\", \"2013-05-01T00:00:00\", \"2013-06-01T00:00:00\", \"2013-07-01T00:00:00\", \"2013-08-01T00:00:00\", \"2013-09-01T00:00:00\", \"2013-10-01T00:00:00\", \"2013-11-01T00:00:00\", \"2013-12-01T00:00:00\", \"2014-01-01T00:00:00\", \"2014-02-01T00:00:00\", \"2014-03-01T00:00:00\", \"2014-04-01T00:00:00\", \"2014-05-01T00:00:00\", \"2014-06-01T00:00:00\", \"2014-07-01T00:00:00\", \"2014-08-01T00:00:00\", \"2014-09-01T00:00:00\", \"2014-10-01T00:00:00\", \"2014-11-01T00:00:00\", \"2014-12-01T00:00:00\", \"2015-01-01T00:00:00\", \"2015-02-01T00:00:00\", \"2015-03-01T00:00:00\", \"2015-04-01T00:00:00\", \"2015-05-01T00:00:00\", \"2015-06-01T00:00:00\", \"2015-07-01T00:00:00\", \"2015-08-01T00:00:00\", \"2015-09-01T00:00:00\", \"2015-10-01T00:00:00\", \"2015-11-01T00:00:00\", \"2015-12-01T00:00:00\", \"2016-01-01T00:00:00\", \"2016-02-01T00:00:00\", \"2016-03-01T00:00:00\", \"2016-04-01T00:00:00\", \"2016-05-01T00:00:00\", \"2016-06-01T00:00:00\", \"2016-07-01T00:00:00\", \"2016-08-01T00:00:00\", \"2016-09-01T00:00:00\", \"2016-10-01T00:00:00\", \"2016-11-01T00:00:00\", \"2016-12-01T00:00:00\", \"2017-01-01T00:00:00\", \"2017-02-01T00:00:00\", \"2017-03-01T00:00:00\", \"2017-04-01T00:00:00\", \"2017-05-01T00:00:00\", \"2017-06-01T00:00:00\", \"2017-07-01T00:00:00\", \"2017-08-01T00:00:00\", \"2017-09-01T00:00:00\", \"2017-10-01T00:00:00\", \"2017-11-01T00:00:00\", \"2017-12-01T00:00:00\", \"2018-01-01T00:00:00\", \"2018-02-01T00:00:00\", \"2018-03-01T00:00:00\", \"2018-04-01T00:00:00\", \"2018-05-01T00:00:00\", \"2018-06-01T00:00:00\", \"2018-07-01T00:00:00\", \"2018-08-01T00:00:00\", \"2018-09-01T00:00:00\", \"2018-10-01T00:00:00\", \"2018-11-01T00:00:00\", \"2018-12-01T00:00:00\", \"2019-01-01T00:00:00\", \"2019-02-01T00:00:00\", \"2019-03-01T00:00:00\", \"2019-04-01T00:00:00\", \"2019-05-01T00:00:00\", \"2019-06-01T00:00:00\", \"2019-07-01T00:00:00\", \"2019-08-01T00:00:00\", \"2019-09-01T00:00:00\", \"2019-10-01T00:00:00\", \"2019-11-01T00:00:00\"], \"xaxis\": \"x2\", \"y\": [0.2591674266605899, 0.45302694721299597, 0.5741074456019752, 0.6336787547457874, 0.6430107075626922, 0.6133731369709491, 0.5560358758888184, 0.4822687572345603, 0.39191308007997694, 0.3591970956540059, 0.3159896874671173, 0.32033568346838004, 0.3685678206882057, 0.4358360517731267, 0.512869620119965, 0.627817531305907, 0.7102651794170304, 0.7720088393139055, 0.7812059349679095, 0.7413816689466527, 0.6780806061243856, 0.6112438177417692, 0.5534410186257002, 0.5278438387877541, 0.4810586130695596, 0.49370198884563044, 0.5192623382089895, 0.5534462801220699, 0.5858728822477146, 0.6125013153740959, 0.586330632431867, 0.5337577607071482, 0.4594654319688545, 0.40525623487320017, 0.3747869093970346, 0.357797537619701, 0.3373618857203007, 0.34160265179417215, 0.35226244343891594, 0.3801536356939935, 0.41415342523413895, 0.44544880564032663, 0.43999789540145473, 0.4096548458381587, 0.3701252236135978, 0.3457539724297609, 0.35185730821845923, 0.38658844575397455, 0.4058507839629613, 0.4380932337156712, 0.47012522361359843, 0.5111280648216382, 0.5387456592654982, 0.5484531200673504, 0.5337998526781047, 0.48379459118173485, 0.41240134694307296, 0.34770072608650093, 0.29550668210039094, 0.2581132274018745, 0.2494107124066098, 0.2509470693465235, 0.24787961696306565, 0.265200463011682, 0.2860359886351695, 0.2978164790066312, 0.29343891402715105, 0.2721140692412938, 0.24551720509312985, 0.22787540776596993, 0.21391665789750722, 0.2150215721351164, 0.21392718089024637, 0.21904135536146602, 0.23559928443649503, 0.2593549405450925, 0.27852783331579656, 0.2912869620119979, 0.29193412606545466, 0.2752972745448821, 0.25373040092602483, 0.23714616436914793, 0.2199989477007273, 0.2158318425760298, 0.20927601809954866, 0.21208565716089775, 0.20858676207513532, 0.21869935809744412, 0.23864042933810514, 0.2484531200673486, 0.24112385562454103, 0.2276859938966655, 0.21067557613385363, 0.2021940439861108, 0.1929180258865632, 0.1883352625486699, 0.18914553298958325, 0.19525939177102075, 0.20463537830159012, 0.21976218036409675, 0.23395243607282043, 0.24915816058087062, 0.2432442386614767, 0.2331158581500592, 0.21665263600968235, 0.21511627906976866, 0.2162580237819648, 0.22010943912448822, 0.21658423655687797, 0.22379774807955508, 0.24062401346943202, 0.2591813111648968, 0.28407871198569035, 0.30589813743028693, 0.3008891928864586, 0.2887193517836489, 0.256403241081765, 0.2589445438282661, 0.30315163632537256, 0.3657634431232263, 0.4097232452909631, 0.44998947700726344, 0.48183205303588617, 0.5134589077133567, 0.5333263180048438, 0.5279385457224066, 0.49443333684100044, 0.44296011785752126, 0.3628906661054424, 0.3116436914658545, 0.2541460591392205, 0.25712406608439575, 0.279653793538884, 0.30293591497422034, 0.31102283489424565, 0.3293854572240364, 0.3621067031463769, 0.38294222876986433, 0.3774913185309924, 0.3557981689992654, 0.3256287488161651, 0.3161948858255305, 0.3064716405345697, 0.3178943491529008, 0.31642113016942197, 0.33222140376723325, 0.3340103125328862, 0.3520046301168072, 0.3592812795959191, 0.3525465642428727, 0.35805535094180985, 0.3265810796590568, 0.30593496790487384, 0.3092128801431144, 0.323755656108599, 0.3492318215300451, 0.362895927601812, 0.40131537409239415, 0.4329632747553428, 0.46596864148164, 0.49519099231821817, 0.5275491949910585, 0.524939492791753, 0.5148952962222485, 0.5096601073345288, 0.5022179086303571, 0.49758549514021444, 0.4982372316845638, 0.5066474830838714, 0.5252906141586032, 0.5566409897292254, 0.6031729746162037], \"yaxis\": \"y3\"}, {\"marker\": {\"color\": \"#FF4464\"}, \"name\": \"Climate change <br>Google trend\", \"type\": \"scatter\", \"x\": [\"2005-08-01T00:00:00\", \"2005-09-01T00:00:00\", \"2005-10-01T00:00:00\", \"2005-11-01T00:00:00\", \"2005-12-01T00:00:00\", \"2006-01-01T00:00:00\", \"2006-02-01T00:00:00\", \"2006-03-01T00:00:00\", \"2006-04-01T00:00:00\", \"2006-05-01T00:00:00\", \"2006-06-01T00:00:00\", \"2006-07-01T00:00:00\", \"2006-08-01T00:00:00\", \"2006-09-01T00:00:00\", \"2006-10-01T00:00:00\", \"2006-11-01T00:00:00\", \"2006-12-01T00:00:00\", \"2007-01-01T00:00:00\", \"2007-02-01T00:00:00\", \"2007-03-01T00:00:00\", \"2007-04-01T00:00:00\", \"2007-05-01T00:00:00\", \"2007-06-01T00:00:00\", \"2007-07-01T00:00:00\", \"2007-08-01T00:00:00\", \"2007-09-01T00:00:00\", \"2007-10-01T00:00:00\", \"2007-11-01T00:00:00\", \"2007-12-01T00:00:00\", \"2008-01-01T00:00:00\", \"2008-02-01T00:00:00\", \"2008-03-01T00:00:00\", \"2008-04-01T00:00:00\", \"2008-05-01T00:00:00\", \"2008-06-01T00:00:00\", \"2008-07-01T00:00:00\", \"2008-08-01T00:00:00\", \"2008-09-01T00:00:00\", \"2008-10-01T00:00:00\", \"2008-11-01T00:00:00\", \"2008-12-01T00:00:00\", \"2009-01-01T00:00:00\", \"2009-02-01T00:00:00\", \"2009-03-01T00:00:00\", \"2009-04-01T00:00:00\", \"2009-05-01T00:00:00\", \"2009-06-01T00:00:00\", \"2009-07-01T00:00:00\", \"2009-08-01T00:00:00\", \"2009-09-01T00:00:00\", \"2009-10-01T00:00:00\", \"2009-11-01T00:00:00\", \"2009-12-01T00:00:00\", \"2010-01-01T00:00:00\", \"2010-02-01T00:00:00\", \"2010-03-01T00:00:00\", \"2010-04-01T00:00:00\", \"2010-05-01T00:00:00\", \"2010-06-01T00:00:00\", \"2010-07-01T00:00:00\", \"2010-08-01T00:00:00\", \"2010-09-01T00:00:00\", \"2010-10-01T00:00:00\", \"2010-11-01T00:00:00\", \"2010-12-01T00:00:00\", \"2011-01-01T00:00:00\", \"2011-02-01T00:00:00\", \"2011-03-01T00:00:00\", \"2011-04-01T00:00:00\", \"2011-05-01T00:00:00\", \"2011-06-01T00:00:00\", \"2011-07-01T00:00:00\", \"2011-08-01T00:00:00\", \"2011-09-01T00:00:00\", \"2011-10-01T00:00:00\", \"2011-11-01T00:00:00\", \"2011-12-01T00:00:00\", \"2012-01-01T00:00:00\", \"2012-02-01T00:00:00\", \"2012-03-01T00:00:00\", \"2012-04-01T00:00:00\", \"2012-05-01T00:00:00\", \"2012-06-01T00:00:00\", \"2012-07-01T00:00:00\", \"2012-08-01T00:00:00\", \"2012-09-01T00:00:00\", \"2012-10-01T00:00:00\", \"2012-11-01T00:00:00\", \"2012-12-01T00:00:00\", \"2013-01-01T00:00:00\", \"2013-02-01T00:00:00\", \"2013-03-01T00:00:00\", \"2013-04-01T00:00:00\", \"2013-05-01T00:00:00\", \"2013-06-01T00:00:00\", \"2013-07-01T00:00:00\", \"2013-08-01T00:00:00\", \"2013-09-01T00:00:00\", \"2013-10-01T00:00:00\", \"2013-11-01T00:00:00\", \"2013-12-01T00:00:00\", \"2014-01-01T00:00:00\", \"2014-02-01T00:00:00\", \"2014-03-01T00:00:00\", \"2014-04-01T00:00:00\", \"2014-05-01T00:00:00\", \"2014-06-01T00:00:00\", \"2014-07-01T00:00:00\", \"2014-08-01T00:00:00\", \"2014-09-01T00:00:00\", \"2014-10-01T00:00:00\", \"2014-11-01T00:00:00\", \"2014-12-01T00:00:00\", \"2015-01-01T00:00:00\", \"2015-02-01T00:00:00\", \"2015-03-01T00:00:00\", \"2015-04-01T00:00:00\", \"2015-05-01T00:00:00\", \"2015-06-01T00:00:00\", \"2015-07-01T00:00:00\", \"2015-08-01T00:00:00\", \"2015-09-01T00:00:00\", \"2015-10-01T00:00:00\", \"2015-11-01T00:00:00\", \"2015-12-01T00:00:00\", \"2016-01-01T00:00:00\", \"2016-02-01T00:00:00\", \"2016-03-01T00:00:00\", \"2016-04-01T00:00:00\", \"2016-05-01T00:00:00\", \"2016-06-01T00:00:00\", \"2016-07-01T00:00:00\", \"2016-08-01T00:00:00\", \"2016-09-01T00:00:00\", \"2016-10-01T00:00:00\", \"2016-11-01T00:00:00\", \"2016-12-01T00:00:00\", \"2017-01-01T00:00:00\", \"2017-02-01T00:00:00\", \"2017-03-01T00:00:00\", \"2017-04-01T00:00:00\", \"2017-05-01T00:00:00\", \"2017-06-01T00:00:00\", \"2017-07-01T00:00:00\", \"2017-08-01T00:00:00\", \"2017-09-01T00:00:00\", \"2017-10-01T00:00:00\", \"2017-11-01T00:00:00\", \"2017-12-01T00:00:00\", \"2018-01-01T00:00:00\", \"2018-02-01T00:00:00\", \"2018-03-01T00:00:00\", \"2018-04-01T00:00:00\", \"2018-05-01T00:00:00\", \"2018-06-01T00:00:00\", \"2018-07-01T00:00:00\", \"2018-08-01T00:00:00\", \"2018-09-01T00:00:00\", \"2018-10-01T00:00:00\", \"2018-11-01T00:00:00\", \"2018-12-01T00:00:00\", \"2019-01-01T00:00:00\", \"2019-02-01T00:00:00\", \"2019-03-01T00:00:00\", \"2019-04-01T00:00:00\", \"2019-05-01T00:00:00\", \"2019-06-01T00:00:00\", \"2019-07-01T00:00:00\", \"2019-08-01T00:00:00\", \"2019-09-01T00:00:00\", \"2019-10-01T00:00:00\", \"2019-11-01T00:00:00\"], \"xaxis\": \"x3\", \"y\": [0.2591674266605899, 0.45302694721299597, 0.5741074456019752, 0.6336787547457874, 0.6430107075626922, 0.6133731369709491, 0.5560358758888184, 0.4822687572345603, 0.39191308007997694, 0.3591970956540059, 0.3159896874671173, 0.32033568346838004, 0.3685678206882057, 0.4358360517731267, 0.512869620119965, 0.627817531305907, 0.7102651794170304, 0.7720088393139055, 0.7812059349679095, 0.7413816689466527, 0.6780806061243856, 0.6112438177417692, 0.5534410186257002, 0.5278438387877541, 0.4810586130695596, 0.49370198884563044, 0.5192623382089895, 0.5534462801220699, 0.5858728822477146, 0.6125013153740959, 0.586330632431867, 0.5337577607071482, 0.4594654319688545, 0.40525623487320017, 0.3747869093970346, 0.357797537619701, 0.3373618857203007, 0.34160265179417215, 0.35226244343891594, 0.3801536356939935, 0.41415342523413895, 0.44544880564032663, 0.43999789540145473, 0.4096548458381587, 0.3701252236135978, 0.3457539724297609, 0.35185730821845923, 0.38658844575397455, 0.4058507839629613, 0.4380932337156712, 0.47012522361359843, 0.5111280648216382, 0.5387456592654982, 0.5484531200673504, 0.5337998526781047, 0.48379459118173485, 0.41240134694307296, 0.34770072608650093, 0.29550668210039094, 0.2581132274018745, 0.2494107124066098, 0.2509470693465235, 0.24787961696306565, 0.265200463011682, 0.2860359886351695, 0.2978164790066312, 0.29343891402715105, 0.2721140692412938, 0.24551720509312985, 0.22787540776596993, 0.21391665789750722, 0.2150215721351164, 0.21392718089024637, 0.21904135536146602, 0.23559928443649503, 0.2593549405450925, 0.27852783331579656, 0.2912869620119979, 0.29193412606545466, 0.2752972745448821, 0.25373040092602483, 0.23714616436914793, 0.2199989477007273, 0.2158318425760298, 0.20927601809954866, 0.21208565716089775, 0.20858676207513532, 0.21869935809744412, 0.23864042933810514, 0.2484531200673486, 0.24112385562454103, 0.2276859938966655, 0.21067557613385363, 0.2021940439861108, 0.1929180258865632, 0.1883352625486699, 0.18914553298958325, 0.19525939177102075, 0.20463537830159012, 0.21976218036409675, 0.23395243607282043, 0.24915816058087062, 0.2432442386614767, 0.2331158581500592, 0.21665263600968235, 0.21511627906976866, 0.2162580237819648, 0.22010943912448822, 0.21658423655687797, 0.22379774807955508, 0.24062401346943202, 0.2591813111648968, 0.28407871198569035, 0.30589813743028693, 0.3008891928864586, 0.2887193517836489, 0.256403241081765, 0.2589445438282661, 0.30315163632537256, 0.3657634431232263, 0.4097232452909631, 0.44998947700726344, 0.48183205303588617, 0.5134589077133567, 0.5333263180048438, 0.5279385457224066, 0.49443333684100044, 0.44296011785752126, 0.3628906661054424, 0.3116436914658545, 0.2541460591392205, 0.25712406608439575, 0.279653793538884, 0.30293591497422034, 0.31102283489424565, 0.3293854572240364, 0.3621067031463769, 0.38294222876986433, 0.3774913185309924, 0.3557981689992654, 0.3256287488161651, 0.3161948858255305, 0.3064716405345697, 0.3178943491529008, 0.31642113016942197, 0.33222140376723325, 0.3340103125328862, 0.3520046301168072, 0.3592812795959191, 0.3525465642428727, 0.35805535094180985, 0.3265810796590568, 0.30593496790487384, 0.3092128801431144, 0.323755656108599, 0.3492318215300451, 0.362895927601812, 0.40131537409239415, 0.4329632747553428, 0.46596864148164, 0.49519099231821817, 0.5275491949910585, 0.524939492791753, 0.5148952962222485, 0.5096601073345288, 0.5022179086303571, 0.49758549514021444, 0.4982372316845638, 0.5066474830838714, 0.5252906141586032, 0.5566409897292254, 0.6031729746162037], \"yaxis\": \"y5\"}, {\"name\": \"BEEF\", \"type\": \"scatter\", \"x\": [2004, 2005, 2006, 2007, 2008, 2009, 2010, 2011, 2012, 2013, 2014, 2015, 2016, 2017, 2018], \"xaxis\": \"x\", \"y\": [12.069725850451775, 12.043152338367085, 12.115011461817012, 12.15087762366916, 11.670029587088063, 11.562054961172855, 11.317676315434403, 11.025956887421101, 10.682771219990597, 10.405276642612899, 10.53817868890905, 10.613502929511249, 10.807120211131817, 10.711559747710536, 10.89774159665884], \"yaxis\": \"y2\"}, {\"name\": \"POULTRY\", \"type\": \"scatter\", \"x\": [2004, 2005, 2006, 2007, 2008, 2009, 2010, 2011, 2012, 2013, 2014, 2015, 2016, 2017, 2018], \"xaxis\": \"x2\", \"y\": [19.0967144220093, 19.513323269443063, 18.95089162600411, 19.65383460837917, 19.906945982889965, 19.94029687959563, 20.173308103086715, 20.336002487520275, 20.93135986335401, 21.017799762555068, 21.631425333552365, 22.682513249787934, 23.79365586436245, 23.561575579692526, 24.102739301240945], \"yaxis\": \"y4\"}, {\"name\": \"PIG\", \"type\": \"scatter\", \"x\": [2004, 2005, 2006, 2007, 2008, 2009, 2010, 2011, 2012, 2013, 2014, 2015, 2016, 2017, 2018], \"xaxis\": \"x3\", \"y\": [32.53847906024886, 32.49635839000909, 32.69682577481514, 33.860112654966, 32.87729556988529, 32.22802200520481, 32.58168343562719, 32.47262325991093, 31.67188728210868, 31.32412887915976, 32.04609644053965, 32.6703015337085, 32.411218899933125, 32.43571632938501, 33.119238811927374], \"yaxis\": \"y6\"}],\n",
       "                        {\"template\": {\"data\": {\"bar\": [{\"error_x\": {\"color\": \"#2a3f5f\"}, \"error_y\": {\"color\": \"#2a3f5f\"}, \"marker\": {\"line\": {\"color\": \"#E5ECF6\", \"width\": 0.5}}, \"type\": \"bar\"}], \"barpolar\": [{\"marker\": {\"line\": {\"color\": \"#E5ECF6\", \"width\": 0.5}}, \"type\": \"barpolar\"}], \"carpet\": [{\"aaxis\": {\"endlinecolor\": \"#2a3f5f\", \"gridcolor\": \"white\", \"linecolor\": \"white\", \"minorgridcolor\": \"white\", \"startlinecolor\": \"#2a3f5f\"}, \"baxis\": {\"endlinecolor\": \"#2a3f5f\", \"gridcolor\": \"white\", \"linecolor\": \"white\", \"minorgridcolor\": \"white\", \"startlinecolor\": \"#2a3f5f\"}, \"type\": \"carpet\"}], \"choropleth\": [{\"colorbar\": {\"outlinewidth\": 0, \"ticks\": \"\"}, \"type\": \"choropleth\"}], \"contour\": [{\"colorbar\": {\"outlinewidth\": 0, \"ticks\": \"\"}, \"colorscale\": [[0.0, \"#0d0887\"], [0.1111111111111111, \"#46039f\"], [0.2222222222222222, \"#7201a8\"], [0.3333333333333333, \"#9c179e\"], [0.4444444444444444, \"#bd3786\"], [0.5555555555555556, \"#d8576b\"], [0.6666666666666666, \"#ed7953\"], [0.7777777777777778, \"#fb9f3a\"], [0.8888888888888888, \"#fdca26\"], [1.0, \"#f0f921\"]], \"type\": \"contour\"}], \"contourcarpet\": [{\"colorbar\": {\"outlinewidth\": 0, \"ticks\": \"\"}, \"type\": \"contourcarpet\"}], \"heatmap\": [{\"colorbar\": {\"outlinewidth\": 0, \"ticks\": \"\"}, \"colorscale\": [[0.0, \"#0d0887\"], [0.1111111111111111, \"#46039f\"], [0.2222222222222222, \"#7201a8\"], [0.3333333333333333, \"#9c179e\"], [0.4444444444444444, \"#bd3786\"], [0.5555555555555556, \"#d8576b\"], [0.6666666666666666, \"#ed7953\"], [0.7777777777777778, \"#fb9f3a\"], [0.8888888888888888, \"#fdca26\"], [1.0, \"#f0f921\"]], \"type\": \"heatmap\"}], \"heatmapgl\": [{\"colorbar\": {\"outlinewidth\": 0, \"ticks\": \"\"}, \"colorscale\": [[0.0, \"#0d0887\"], [0.1111111111111111, \"#46039f\"], [0.2222222222222222, \"#7201a8\"], [0.3333333333333333, \"#9c179e\"], [0.4444444444444444, \"#bd3786\"], [0.5555555555555556, \"#d8576b\"], [0.6666666666666666, \"#ed7953\"], [0.7777777777777778, \"#fb9f3a\"], [0.8888888888888888, \"#fdca26\"], [1.0, \"#f0f921\"]], \"type\": \"heatmapgl\"}], \"histogram\": [{\"marker\": {\"colorbar\": {\"outlinewidth\": 0, \"ticks\": \"\"}}, \"type\": \"histogram\"}], \"histogram2d\": [{\"colorbar\": {\"outlinewidth\": 0, \"ticks\": \"\"}, \"colorscale\": [[0.0, \"#0d0887\"], [0.1111111111111111, \"#46039f\"], [0.2222222222222222, \"#7201a8\"], [0.3333333333333333, \"#9c179e\"], [0.4444444444444444, \"#bd3786\"], [0.5555555555555556, \"#d8576b\"], [0.6666666666666666, \"#ed7953\"], [0.7777777777777778, \"#fb9f3a\"], [0.8888888888888888, \"#fdca26\"], [1.0, \"#f0f921\"]], \"type\": \"histogram2d\"}], \"histogram2dcontour\": [{\"colorbar\": {\"outlinewidth\": 0, \"ticks\": \"\"}, \"colorscale\": [[0.0, \"#0d0887\"], [0.1111111111111111, \"#46039f\"], [0.2222222222222222, \"#7201a8\"], [0.3333333333333333, \"#9c179e\"], [0.4444444444444444, \"#bd3786\"], [0.5555555555555556, \"#d8576b\"], [0.6666666666666666, \"#ed7953\"], [0.7777777777777778, \"#fb9f3a\"], [0.8888888888888888, \"#fdca26\"], [1.0, \"#f0f921\"]], \"type\": \"histogram2dcontour\"}], \"mesh3d\": [{\"colorbar\": {\"outlinewidth\": 0, \"ticks\": \"\"}, \"type\": \"mesh3d\"}], \"parcoords\": [{\"line\": {\"colorbar\": {\"outlinewidth\": 0, \"ticks\": \"\"}}, \"type\": \"parcoords\"}], \"pie\": [{\"automargin\": true, \"type\": \"pie\"}], \"scatter\": [{\"marker\": {\"colorbar\": {\"outlinewidth\": 0, \"ticks\": \"\"}}, \"type\": \"scatter\"}], \"scatter3d\": [{\"line\": {\"colorbar\": {\"outlinewidth\": 0, \"ticks\": \"\"}}, \"marker\": {\"colorbar\": {\"outlinewidth\": 0, \"ticks\": \"\"}}, \"type\": \"scatter3d\"}], \"scattercarpet\": [{\"marker\": {\"colorbar\": {\"outlinewidth\": 0, \"ticks\": \"\"}}, \"type\": \"scattercarpet\"}], \"scattergeo\": [{\"marker\": {\"colorbar\": {\"outlinewidth\": 0, \"ticks\": \"\"}}, \"type\": \"scattergeo\"}], \"scattergl\": [{\"marker\": {\"colorbar\": {\"outlinewidth\": 0, \"ticks\": \"\"}}, \"type\": \"scattergl\"}], \"scattermapbox\": [{\"marker\": {\"colorbar\": {\"outlinewidth\": 0, \"ticks\": \"\"}}, \"type\": \"scattermapbox\"}], \"scatterpolar\": [{\"marker\": {\"colorbar\": {\"outlinewidth\": 0, \"ticks\": \"\"}}, \"type\": \"scatterpolar\"}], \"scatterpolargl\": [{\"marker\": {\"colorbar\": {\"outlinewidth\": 0, \"ticks\": \"\"}}, \"type\": \"scatterpolargl\"}], \"scatterternary\": [{\"marker\": {\"colorbar\": {\"outlinewidth\": 0, \"ticks\": \"\"}}, \"type\": \"scatterternary\"}], \"surface\": [{\"colorbar\": {\"outlinewidth\": 0, \"ticks\": \"\"}, \"colorscale\": [[0.0, \"#0d0887\"], [0.1111111111111111, \"#46039f\"], [0.2222222222222222, \"#7201a8\"], [0.3333333333333333, \"#9c179e\"], [0.4444444444444444, \"#bd3786\"], [0.5555555555555556, \"#d8576b\"], [0.6666666666666666, \"#ed7953\"], [0.7777777777777778, \"#fb9f3a\"], [0.8888888888888888, \"#fdca26\"], [1.0, \"#f0f921\"]], \"type\": \"surface\"}], \"table\": [{\"cells\": {\"fill\": {\"color\": \"#EBF0F8\"}, \"line\": {\"color\": \"white\"}}, \"header\": {\"fill\": {\"color\": \"#C8D4E3\"}, \"line\": {\"color\": \"white\"}}, \"type\": \"table\"}]}, \"layout\": {\"annotationdefaults\": {\"arrowcolor\": \"#2a3f5f\", \"arrowhead\": 0, \"arrowwidth\": 1}, \"coloraxis\": {\"colorbar\": {\"outlinewidth\": 0, \"ticks\": \"\"}}, \"colorscale\": {\"diverging\": [[0, \"#8e0152\"], [0.1, \"#c51b7d\"], [0.2, \"#de77ae\"], [0.3, \"#f1b6da\"], [0.4, \"#fde0ef\"], [0.5, \"#f7f7f7\"], [0.6, \"#e6f5d0\"], [0.7, \"#b8e186\"], [0.8, \"#7fbc41\"], [0.9, \"#4d9221\"], [1, \"#276419\"]], \"sequential\": [[0.0, \"#0d0887\"], [0.1111111111111111, \"#46039f\"], [0.2222222222222222, \"#7201a8\"], [0.3333333333333333, \"#9c179e\"], [0.4444444444444444, \"#bd3786\"], [0.5555555555555556, \"#d8576b\"], [0.6666666666666666, \"#ed7953\"], [0.7777777777777778, \"#fb9f3a\"], [0.8888888888888888, \"#fdca26\"], [1.0, \"#f0f921\"]], \"sequentialminus\": [[0.0, \"#0d0887\"], [0.1111111111111111, \"#46039f\"], [0.2222222222222222, \"#7201a8\"], [0.3333333333333333, \"#9c179e\"], [0.4444444444444444, \"#bd3786\"], [0.5555555555555556, \"#d8576b\"], [0.6666666666666666, \"#ed7953\"], [0.7777777777777778, \"#fb9f3a\"], [0.8888888888888888, \"#fdca26\"], [1.0, \"#f0f921\"]]}, \"colorway\": [\"#636efa\", \"#EF553B\", \"#00cc96\", \"#ab63fa\", \"#FFA15A\", \"#19d3f3\", \"#FF6692\", \"#B6E880\", \"#FF97FF\", \"#FECB52\"], \"font\": {\"color\": \"#2a3f5f\"}, \"geo\": {\"bgcolor\": \"white\", \"lakecolor\": \"white\", \"landcolor\": \"#E5ECF6\", \"showlakes\": true, \"showland\": true, \"subunitcolor\": \"white\"}, \"hoverlabel\": {\"align\": \"left\"}, \"hovermode\": \"closest\", \"mapbox\": {\"style\": \"light\"}, \"paper_bgcolor\": \"white\", \"plot_bgcolor\": \"#E5ECF6\", \"polar\": {\"angularaxis\": {\"gridcolor\": \"white\", \"linecolor\": \"white\", \"ticks\": \"\"}, \"bgcolor\": \"#E5ECF6\", \"radialaxis\": {\"gridcolor\": \"white\", \"linecolor\": \"white\", \"ticks\": \"\"}}, \"scene\": {\"xaxis\": {\"backgroundcolor\": \"#E5ECF6\", \"gridcolor\": \"white\", \"gridwidth\": 2, \"linecolor\": \"white\", \"showbackground\": true, \"ticks\": \"\", \"zerolinecolor\": \"white\"}, \"yaxis\": {\"backgroundcolor\": \"#E5ECF6\", \"gridcolor\": \"white\", \"gridwidth\": 2, \"linecolor\": \"white\", \"showbackground\": true, \"ticks\": \"\", \"zerolinecolor\": \"white\"}, \"zaxis\": {\"backgroundcolor\": \"#E5ECF6\", \"gridcolor\": \"white\", \"gridwidth\": 2, \"linecolor\": \"white\", \"showbackground\": true, \"ticks\": \"\", \"zerolinecolor\": \"white\"}}, \"shapedefaults\": {\"line\": {\"color\": \"#2a3f5f\"}}, \"ternary\": {\"aaxis\": {\"gridcolor\": \"white\", \"linecolor\": \"white\", \"ticks\": \"\"}, \"baxis\": {\"gridcolor\": \"white\", \"linecolor\": \"white\", \"ticks\": \"\"}, \"bgcolor\": \"#E5ECF6\", \"caxis\": {\"gridcolor\": \"white\", \"linecolor\": \"white\", \"ticks\": \"\"}}, \"title\": {\"x\": 0.05}, \"xaxis\": {\"automargin\": true, \"gridcolor\": \"white\", \"linecolor\": \"white\", \"ticks\": \"\", \"title\": {\"standoff\": 15}, \"zerolinecolor\": \"white\", \"zerolinewidth\": 2}, \"yaxis\": {\"automargin\": true, \"gridcolor\": \"white\", \"linecolor\": \"white\", \"ticks\": \"\", \"title\": {\"standoff\": 15}, \"zerolinecolor\": \"white\", \"zerolinewidth\": 2}}}, \"xaxis\": {\"anchor\": \"y\", \"domain\": [0.0, 0.94]}, \"xaxis2\": {\"anchor\": \"y3\", \"domain\": [0.0, 0.94]}, \"xaxis3\": {\"anchor\": \"y5\", \"domain\": [0.0, 0.94]}, \"yaxis\": {\"anchor\": \"x\", \"domain\": [0.7333333333333333, 1.0]}, \"yaxis2\": {\"anchor\": \"x\", \"overlaying\": \"y\", \"side\": \"right\"}, \"yaxis3\": {\"anchor\": \"x2\", \"domain\": [0.36666666666666664, 0.6333333333333333], \"title\": {\"text\": \"Global tendancy Google search about Climate change\"}}, \"yaxis4\": {\"anchor\": \"x2\", \"overlaying\": \"y3\", \"side\": \"right\", \"title\": {\"text\": \"Consumption (kg/capita)\"}}, \"yaxis5\": {\"anchor\": \"x3\", \"domain\": [0.0, 0.26666666666666666]}, \"yaxis6\": {\"anchor\": \"x3\", \"overlaying\": \"y5\", \"side\": \"right\"}},\n",
       "                        {\"responsive\": true}\n",
       "                    ).then(function(){\n",
       "                            \n",
       "var gd = document.getElementById('f5247878-30bd-4a4a-9097-f5bc02d1236c');\n",
       "var x = new MutationObserver(function (mutations, observer) {{\n",
       "        var display = window.getComputedStyle(gd).display;\n",
       "        if (!display || display === 'none') {{\n",
       "            console.log([gd, 'removed!']);\n",
       "            Plotly.purge(gd);\n",
       "            observer.disconnect();\n",
       "        }}\n",
       "}});\n",
       "\n",
       "// Listen for the removal of the full notebook cells\n",
       "var notebookContainer = gd.closest('#notebook-container');\n",
       "if (notebookContainer) {{\n",
       "    x.observe(notebookContainer, {childList: true});\n",
       "}}\n",
       "\n",
       "// Listen for the clearing of the current output cell\n",
       "var outputEl = gd.closest('.output');\n",
       "if (outputEl) {{\n",
       "    x.observe(outputEl, {childList: true});\n",
       "}}\n",
       "\n",
       "                        })\n",
       "                };\n",
       "                });\n",
       "            </script>\n",
       "        </div>"
      ]
     },
     "metadata": {},
     "output_type": "display_data"
    }
   ],
   "source": [
    "\n",
    "arrowColor = 'white'\n",
    "family = 'Courier' # font \n",
    "color = 'white'\n",
    "annotationFont= dict(size=10, family=family, color=color)\n",
    "\n",
    "\n",
    "label_name = 'Climate change <br>Google trend'\n",
    "\n",
    "\n",
    "# Create figure with secondary y-axis\n",
    "fig = make_subplots(specs=[[{\"secondary_y\": True}], [{\"secondary_y\": True}], [{\"secondary_y\": True}] ], rows=3, cols=1)\n",
    "\n",
    "fig.add_trace(\n",
    "    go.Scatter(x=df.index, y=signal.savgol_filter(df,15, 3), name=label_name, marker_color='#FF4464', showlegend=False,  ), secondary_y=False, \n",
    "              row=1, col=1  ,        )\n",
    "\n",
    "\n",
    "fig.add_trace(\n",
    "    go.Scatter(x=df.index, y=signal.savgol_filter(df,15, 3), name=label_name,  marker_color='#FF4464', showlegend=False ), secondary_y=False, \n",
    "              row=2, col=1   ,      )\n",
    "\n",
    "fig.add_trace(\n",
    "    go.Scatter(x=df.index, y=signal.savgol_filter(df,15, 3), name=label_name,  marker_color='#FF4464'), secondary_y=False, \n",
    "              row=3, col=1  ,        )\n",
    "\n",
    "\n",
    "fig.add_trace(\n",
    "    go.Scatter(x=meat_consumption.years,\n",
    "    y=meat_consumption.BEEF,name=\"BEEF\"),\n",
    "    secondary_y=True,\n",
    "     row=1, col=1 \n",
    ")\n",
    "#fig.update_yaxes(title_text=\"Beef consumption (kg/capita)\", row=1, col=1, secondary_y=True)\n",
    "\n",
    "fig.add_trace(\n",
    "    go.Scatter(x=meat_consumption.years,\n",
    "    y=meat_consumption.POULTRY,name=\"POULTRY\"),\n",
    "    secondary_y=True,\n",
    "     row=2, col=1, \n",
    ")\n",
    "\n",
    "#fig.update_yaxes(title_text=\"Poultry consumption (kg/capita)\",  row=2, col=1, secondary_y=True)\n",
    "\n",
    "fig.add_trace(\n",
    "    go.Scatter(x=meat_consumption.years,\n",
    "    y=meat_consumption.PIG,name=\"PIG\"),\n",
    "    secondary_y=True,\n",
    "     row=3, col=1 \n",
    ")\n",
    "\n",
    "# Set y-axes titles\n",
    "fig.update_yaxes(title_text=\"Global tendancy Google search about Climate change\", secondary_y=False, row=2, col=1)\n",
    "fig.update_yaxes(title_text=\"Consumption (kg/capita)\", secondary_y=True, row=2, col=1)\n",
    "\n",
    "fig.show()\n",
    "\n",
    "#pio.write_html(change_config_graphe_1(fig), file='GoogleTrendComparison.html', auto_open=True)"
   ]
  },
  {
   "cell_type": "markdown",
   "metadata": {},
   "source": [
    "## Media coverage vs consumption"
   ]
  },
  {
   "cell_type": "code",
   "execution_count": 34,
   "metadata": {},
   "outputs": [],
   "source": [
    "my_sheet = 'Sheet2'\n",
    "file_name = \"./data_martin/coverage_media.xlsx\"\n",
    "coverageMedia = read_excel(file_name, sheet_name = my_sheet)\n",
    "coverageMedia = coverageMedia[coverageMedia['Country'] == 'FRA']\n",
    "coverageMedia = coverageMedia.T\n",
    "def plot_lines2(df,value_smooth):\n",
    "    fig = go.Figure()\n",
    "    for x in range(0,2):\n",
    "        if value_smooth == 0:\n",
    "            fig.add_trace(go.Scatter(x=df.index, y=coverageMedia.iloc[2:,x], mode='lines',name=coverageMedia.iloc[1,:][5+x]))\n",
    "        else:\n",
    "            fig.add_trace(go.Scatter(x=df.index, y=signal.savgol_filter(coverageMedia.iloc[2:,x],value_smooth, 3), mode='lines',name=coverageMedia.iloc[1,:][5+x]))\n",
    "    change_config(fig).show()\n",
    "    #pio.write_html(change_config(fig), file='press.html', auto_open=True)\n",
    "    #fig.show()\n",
    "\n",
    "\n"
   ]
  },
  {
   "cell_type": "code",
   "execution_count": 42,
   "metadata": {},
   "outputs": [
    {
     "data": {
      "application/vnd.plotly.v1+json": {
       "config": {
        "plotlyServerURL": "https://plot.ly"
       },
       "data": [
        {
         "mode": "lines",
         "name": "Le Monde (France)",
         "type": "scatter",
         "x": [
          "Country",
          "Newspaper",
          "2004-01-01T00:00:00",
          "2004-02-01T00:00:00",
          "2004-03-01T00:00:00",
          "2004-04-01T00:00:00",
          "2004-05-01T00:00:00",
          "2004-06-01T00:00:00",
          "2004-07-01T00:00:00",
          "2004-07-01 00:00:00.1",
          "2004-09-01T00:00:00",
          "2004-10-01T00:00:00",
          "2004-11-01T00:00:00",
          "2004-12-01T00:00:00",
          "2005-01-01T00:00:00",
          "2005-02-01T00:00:00",
          "2005-03-01T00:00:00",
          "2005-04-01T00:00:00",
          "2005-05-01T00:00:00",
          "2005-06-01T00:00:00",
          "2005-07-01T00:00:00",
          "2005-08-01T00:00:00",
          "2005-09-01T00:00:00",
          "2005-10-01T00:00:00",
          "2005-11-01T00:00:00",
          "2005-12-01T00:00:00",
          "2006-01-01T00:00:00",
          "2006-02-01T00:00:00",
          "2006-03-01T00:00:00",
          "2006-04-01T00:00:00",
          "2006-05-01T00:00:00",
          "2006-06-01T00:00:00",
          "2006-07-01T00:00:00",
          "2006-08-01T00:00:00",
          "2006-09-01T00:00:00",
          "2006-10-01T00:00:00",
          "2006-11-01T00:00:00",
          "2006-12-01T00:00:00",
          "2007-01-01T00:00:00",
          "2007-02-01T00:00:00",
          "2007-03-01T00:00:00",
          "2007-04-01T00:00:00",
          "2007-05-01T00:00:00",
          "2007-06-01T00:00:00",
          "2007-07-01T00:00:00",
          "2007-08-01T00:00:00",
          "2007-09-01T00:00:00",
          "2007-10-01T00:00:00",
          "2007-11-01T00:00:00",
          "2007-12-01T00:00:00",
          "2008-01-01T00:00:00",
          "2008-02-01T00:00:00",
          "2008-03-01T00:00:00",
          "2008-04-01T00:00:00",
          "2008-05-01T00:00:00",
          "2008-06-01T00:00:00",
          "2008-07-01T00:00:00",
          "2008-08-01T00:00:00",
          "2008-09-01T00:00:00",
          "2008-10-01T00:00:00",
          "2008-11-01T00:00:00",
          "2008-12-01T00:00:00",
          "2009-01-01T00:00:00",
          "2009-02-01T00:00:00",
          "2009-03-01T00:00:00",
          "2009-04-01T00:00:00",
          "2009-05-01T00:00:00",
          "2009-06-01T00:00:00",
          "2009-07-01T00:00:00",
          "2009-08-01T00:00:00",
          "2009-09-01T00:00:00",
          "2009-10-01T00:00:00",
          "2009-11-01T00:00:00",
          "2009-12-01T00:00:00",
          "2010-01-01T00:00:00",
          "2010-02-01T00:00:00",
          "2010-03-01T00:00:00",
          "2010-04-01T00:00:00",
          "2010-05-01T00:00:00",
          "2010-06-01",
          "2010-07-01T00:00:00",
          "2010-08-01T00:00:00",
          "2010-09-01T00:00:00",
          "2010-10-01T00:00:00",
          "2010-11-01T00:00:00",
          "2010-12-01T00:00:00",
          "2011-01-01T00:00:00",
          "2011-02-01T00:00:00",
          "2011-03-01T00:00:00",
          "2011-04-01T00:00:00",
          "2011-05-01T00:00:00",
          "2011-06-01T00:00:00",
          "2011-07-01T00:00:00",
          "2011-08-01T00:00:00",
          "2011-09-01T00:00:00",
          "2011-10-01T00:00:00",
          "2011-11-01T00:00:00",
          "2011-12-01T00:00:00",
          "2012-01-01T00:00:00",
          "2012-02-01T00:00:00",
          "2012-03-01T00:00:00",
          "2012-04-01T00:00:00",
          "2012-05-01T00:00:00",
          "2012-06-01T00:00:00",
          "2012-07-01T00:00:00",
          "2012-08-01T00:00:00",
          "2012-09-01T00:00:00",
          "2012-10-01T00:00:00",
          "2012-11-01T00:00:00",
          "2012-12-01T00:00:00",
          "2013-01-01T00:00:00",
          "2013-02-01T00:00:00",
          "2013-03-01T00:00:00",
          "2013-04-01T00:00:00",
          "2013-05-01T00:00:00",
          "2013-06-01T00:00:00",
          "2013-07-01T00:00:00",
          "2013-08-01T00:00:00",
          "2013-09-01T00:00:00",
          "2013-10-01T00:00:00",
          "2013-11-01T00:00:00",
          "2013-12-01T00:00:00",
          "2014-01-01T00:00:00",
          "2014-02-01T00:00:00",
          "2014-03-01T00:00:00",
          "2014-04-01T00:00:00",
          "2014-05-01T00:00:00",
          "2014-06-01T00:00:00",
          "2014-07-01T00:00:00",
          "2014-08-01T00:00:00",
          "2014-09-01T00:00:00",
          "2014-10-01T00:00:00",
          "2014-11-01T00:00:00",
          "2014-12-01T00:00:00",
          "2015-01-01T00:00:00",
          "2015-02-01T00:00:00",
          "2015-03-01T00:00:00",
          "2015-04-01T00:00:00",
          "2015-05-01T00:00:00",
          "2015-06-01T00:00:00",
          "2015-07-01T00:00:00",
          "2015-08-01T00:00:00",
          "2015-09-01T00:00:00",
          "2015-10-01T00:00:00",
          "2015-11-01T00:00:00",
          "2015-12-01T00:00:00",
          "2016-01-01T00:00:00",
          "2016-02-01T00:00:00",
          "2016-03-01T00:00:00",
          "2016-04-01T00:00:00",
          "2016-05-01T00:00:00",
          "2016-06-01T00:00:00",
          "2016-07-01T00:00:00",
          "2016-08-01T00:00:00",
          "2016-09-01T00:00:00",
          "2016-10-01T00:00:00",
          "2016-11-01T00:00:00",
          "2016-12-01T00:00:00",
          "2017-01-01T00:00:00",
          "2017-02-01T00:00:00",
          "2017-03-01T00:00:00",
          "2017-04-01T00:00:00",
          "2017-05-01T00:00:00",
          "2017-06-01T00:00:00",
          "2017-07-01T00:00:00",
          "2017-08-01T00:00:00",
          "2017-09-01T00:00:00",
          "2017-10-01T00:00:00",
          "2017-11-01T00:00:00",
          "2017-12-01T00:00:00",
          "2018-01-01T00:00:00",
          "2018-02-01T00:00:00",
          "2018-03-01T00:00:00",
          "2018-04-01T00:00:00",
          "2018-05-01T00:00:00",
          "2018-06-01T00:00:00",
          "2018-07-01T00:00:00",
          "2018-08-01T00:00:00",
          "2018-09-01T00:00:00",
          "2018-10-01T00:00:00",
          "2018-11-01T00:00:00",
          "2018-12-01T00:00:00",
          "2019-01-01T00:00:00",
          "2019-02-01T00:00:00",
          "2019-03-01T00:00:00",
          "2019-04-01T00:00:00",
          "2019-05-01T00:00:00",
          "2019-06-01T00:00:00",
          "2019-07-01T00:00:00",
          "2019-08-01T00:00:00",
          "2019-09-01T00:00:00"
         ],
         "xaxis": "x",
         "y": [
          31.142857142857128,
          36.42857142857141,
          31.85714285714285,
          16.428571428571427,
          10.14285714285714,
          12.485714285714284,
          11.257142857142854,
          5.399999999999999,
          8.657142857142855,
          14.399999999999997,
          17.971428571428568,
          19.542857142857137,
          22.885714285714283,
          19.285714285714285,
          14.171428571428569,
          8.514285714285712,
          15.628571428571426,
          24.68571428571428,
          22.657142857142855,
          16.971428571428568,
          13.37142857142857,
          19.057142857142857,
          20.4,
          20.14285714285714,
          15.34285714285714,
          12.371428571428568,
          10.685714285714283,
          11.57142857142857,
          11.857142857142854,
          13.942857142857141,
          16.428571428571423,
          19.94285714285714,
          29.971428571428564,
          36.22857142857142,
          40.54285714285714,
          43.342857142857135,
          44.085714285714275,
          49.54285714285713,
          47.71428571428571,
          57.97142857142857,
          63.1142857142857,
          57.88571428571427,
          35.342857142857135,
          35.685714285714276,
          48.771428571428565,
          48.88571428571428,
          47.342857142857135,
          46.57142857142856,
          39.71428571428571,
          32.45714285714285,
          41.22857142857142,
          44.37142857142857,
          51.34285714285714,
          57.28571428571428,
          52.05714285714285,
          34.771428571428565,
          37.57142857142856,
          51.514285714285705,
          62.942857142857136,
          65.54285714285713,
          55.85714285714285,
          47.771428571428565,
          49.514285714285705,
          51.999999999999986,
          54.342857142857135,
          57.74285714285713,
          53.3142857142857,
          62.085714285714275,
          74.08571428571427,
          84.02857142857141,
          98.42857142857142,
          99.77142857142856,
          72.42857142857142,
          41.79999999999999,
          45.77142857142856,
          43.599999999999994,
          35.42857142857142,
          28.31428571428571,
          23.971428571428568,
          30.199999999999996,
          28.257142857142853,
          38.74285714285713,
          46.54285714285714,
          50.11428571428571,
          33.88571428571428,
          24.91428571428571,
          25.771428571428565,
          27.77142857142857,
          32.599999999999994,
          32.62857142857142,
          28.885714285714283,
          23.77142857142857,
          25.199999999999996,
          37.48571428571428,
          44.19999999999999,
          39.74285714285713,
          29.88571428571428,
          34.942857142857136,
          36.85714285714285,
          32.62857142857142,
          26.28571428571428,
          23.571428571428566,
          17.74285714285714,
          20.77142857142857,
          24.399999999999995,
          34.74285714285713,
          36.85714285714285,
          30.542857142857137,
          17.342857142857138,
          16.542857142857137,
          16.828571428571426,
          24.05714285714285,
          30.857142857142854,
          29.371428571428567,
          20.685714285714283,
          20.999999999999996,
          25.371428571428567,
          27.257142857142853,
          23.999999999999996,
          18.171428571428567,
          14.257142857142853,
          30.742857142857137,
          36,
          35.857142857142854,
          26.085714285714282,
          21.48571428571428,
          6.857142857142854,
          7.1999999999999975,
          16.17142857142857,
          27.371428571428567,
          31.771428571428565,
          29.428571428571423,
          25.228571428571428,
          29.542857142857137,
          33.05714285714285,
          30.771428571428565,
          40.11428571428571,
          43,
          37.28571428571428,
          30.88571428571428,
          41.74285714285713,
          68.42857142857142,
          86.97142857142856,
          68.82857142857142,
          29.971428571428568,
          14.428571428571425,
          18.828571428571426,
          23.085714285714282,
          25.828571428571422,
          21.685714285714283,
          17.4,
          27.685714285714283,
          39.342857142857135,
          51.54285714285713,
          44.71428571428571,
          44.54285714285713,
          37.22857142857143,
          41.171428571428564,
          32.771428571428565,
          30.171428571428567,
          38.62857142857142,
          42.85714285714285,
          34.68571428571428,
          31.11428571428571,
          31.657142857142855,
          37.54285714285713,
          53.085714285714275,
          60.19999999999999,
          44.88571428571428,
          34.114285714285714,
          38.942857142857136,
          33.37142857142857,
          35.71428571428571,
          40.085714285714275,
          39.91428571428571,
          38.428571428571416,
          45.3142857142857,
          69.08571428571427,
          83.45714285714284,
          82.88571428571427,
          65.45714285714286,
          62.771428571428565,
          55.22857142857142,
          56.914285714285704,
          65.17142857142855,
          47.457142857142856,
          26.971428571428568,
          31.68571428571427,
          72.82857142857151
         ],
         "yaxis": "y"
        },
        {
         "mode": "lines",
         "name": "Le Figaro (France)",
         "type": "scatter",
         "x": [
          "Country",
          "Newspaper",
          "2004-01-01T00:00:00",
          "2004-02-01T00:00:00",
          "2004-03-01T00:00:00",
          "2004-04-01T00:00:00",
          "2004-05-01T00:00:00",
          "2004-06-01T00:00:00",
          "2004-07-01T00:00:00",
          "2004-07-01 00:00:00.1",
          "2004-09-01T00:00:00",
          "2004-10-01T00:00:00",
          "2004-11-01T00:00:00",
          "2004-12-01T00:00:00",
          "2005-01-01T00:00:00",
          "2005-02-01T00:00:00",
          "2005-03-01T00:00:00",
          "2005-04-01T00:00:00",
          "2005-05-01T00:00:00",
          "2005-06-01T00:00:00",
          "2005-07-01T00:00:00",
          "2005-08-01T00:00:00",
          "2005-09-01T00:00:00",
          "2005-10-01T00:00:00",
          "2005-11-01T00:00:00",
          "2005-12-01T00:00:00",
          "2006-01-01T00:00:00",
          "2006-02-01T00:00:00",
          "2006-03-01T00:00:00",
          "2006-04-01T00:00:00",
          "2006-05-01T00:00:00",
          "2006-06-01T00:00:00",
          "2006-07-01T00:00:00",
          "2006-08-01T00:00:00",
          "2006-09-01T00:00:00",
          "2006-10-01T00:00:00",
          "2006-11-01T00:00:00",
          "2006-12-01T00:00:00",
          "2007-01-01T00:00:00",
          "2007-02-01T00:00:00",
          "2007-03-01T00:00:00",
          "2007-04-01T00:00:00",
          "2007-05-01T00:00:00",
          "2007-06-01T00:00:00",
          "2007-07-01T00:00:00",
          "2007-08-01T00:00:00",
          "2007-09-01T00:00:00",
          "2007-10-01T00:00:00",
          "2007-11-01T00:00:00",
          "2007-12-01T00:00:00",
          "2008-01-01T00:00:00",
          "2008-02-01T00:00:00",
          "2008-03-01T00:00:00",
          "2008-04-01T00:00:00",
          "2008-05-01T00:00:00",
          "2008-06-01T00:00:00",
          "2008-07-01T00:00:00",
          "2008-08-01T00:00:00",
          "2008-09-01T00:00:00",
          "2008-10-01T00:00:00",
          "2008-11-01T00:00:00",
          "2008-12-01T00:00:00",
          "2009-01-01T00:00:00",
          "2009-02-01T00:00:00",
          "2009-03-01T00:00:00",
          "2009-04-01T00:00:00",
          "2009-05-01T00:00:00",
          "2009-06-01T00:00:00",
          "2009-07-01T00:00:00",
          "2009-08-01T00:00:00",
          "2009-09-01T00:00:00",
          "2009-10-01T00:00:00",
          "2009-11-01T00:00:00",
          "2009-12-01T00:00:00",
          "2010-01-01T00:00:00",
          "2010-02-01T00:00:00",
          "2010-03-01T00:00:00",
          "2010-04-01T00:00:00",
          "2010-05-01T00:00:00",
          "2010-06-01",
          "2010-07-01T00:00:00",
          "2010-08-01T00:00:00",
          "2010-09-01T00:00:00",
          "2010-10-01T00:00:00",
          "2010-11-01T00:00:00",
          "2010-12-01T00:00:00",
          "2011-01-01T00:00:00",
          "2011-02-01T00:00:00",
          "2011-03-01T00:00:00",
          "2011-04-01T00:00:00",
          "2011-05-01T00:00:00",
          "2011-06-01T00:00:00",
          "2011-07-01T00:00:00",
          "2011-08-01T00:00:00",
          "2011-09-01T00:00:00",
          "2011-10-01T00:00:00",
          "2011-11-01T00:00:00",
          "2011-12-01T00:00:00",
          "2012-01-01T00:00:00",
          "2012-02-01T00:00:00",
          "2012-03-01T00:00:00",
          "2012-04-01T00:00:00",
          "2012-05-01T00:00:00",
          "2012-06-01T00:00:00",
          "2012-07-01T00:00:00",
          "2012-08-01T00:00:00",
          "2012-09-01T00:00:00",
          "2012-10-01T00:00:00",
          "2012-11-01T00:00:00",
          "2012-12-01T00:00:00",
          "2013-01-01T00:00:00",
          "2013-02-01T00:00:00",
          "2013-03-01T00:00:00",
          "2013-04-01T00:00:00",
          "2013-05-01T00:00:00",
          "2013-06-01T00:00:00",
          "2013-07-01T00:00:00",
          "2013-08-01T00:00:00",
          "2013-09-01T00:00:00",
          "2013-10-01T00:00:00",
          "2013-11-01T00:00:00",
          "2013-12-01T00:00:00",
          "2014-01-01T00:00:00",
          "2014-02-01T00:00:00",
          "2014-03-01T00:00:00",
          "2014-04-01T00:00:00",
          "2014-05-01T00:00:00",
          "2014-06-01T00:00:00",
          "2014-07-01T00:00:00",
          "2014-08-01T00:00:00",
          "2014-09-01T00:00:00",
          "2014-10-01T00:00:00",
          "2014-11-01T00:00:00",
          "2014-12-01T00:00:00",
          "2015-01-01T00:00:00",
          "2015-02-01T00:00:00",
          "2015-03-01T00:00:00",
          "2015-04-01T00:00:00",
          "2015-05-01T00:00:00",
          "2015-06-01T00:00:00",
          "2015-07-01T00:00:00",
          "2015-08-01T00:00:00",
          "2015-09-01T00:00:00",
          "2015-10-01T00:00:00",
          "2015-11-01T00:00:00",
          "2015-12-01T00:00:00",
          "2016-01-01T00:00:00",
          "2016-02-01T00:00:00",
          "2016-03-01T00:00:00",
          "2016-04-01T00:00:00",
          "2016-05-01T00:00:00",
          "2016-06-01T00:00:00",
          "2016-07-01T00:00:00",
          "2016-08-01T00:00:00",
          "2016-09-01T00:00:00",
          "2016-10-01T00:00:00",
          "2016-11-01T00:00:00",
          "2016-12-01T00:00:00",
          "2017-01-01T00:00:00",
          "2017-02-01T00:00:00",
          "2017-03-01T00:00:00",
          "2017-04-01T00:00:00",
          "2017-05-01T00:00:00",
          "2017-06-01T00:00:00",
          "2017-07-01T00:00:00",
          "2017-08-01T00:00:00",
          "2017-09-01T00:00:00",
          "2017-10-01T00:00:00",
          "2017-11-01T00:00:00",
          "2017-12-01T00:00:00",
          "2018-01-01T00:00:00",
          "2018-02-01T00:00:00",
          "2018-03-01T00:00:00",
          "2018-04-01T00:00:00",
          "2018-05-01T00:00:00",
          "2018-06-01T00:00:00",
          "2018-07-01T00:00:00",
          "2018-08-01T00:00:00",
          "2018-09-01T00:00:00",
          "2018-10-01T00:00:00",
          "2018-11-01T00:00:00",
          "2018-12-01T00:00:00",
          "2019-01-01T00:00:00",
          "2019-02-01T00:00:00",
          "2019-03-01T00:00:00",
          "2019-04-01T00:00:00",
          "2019-05-01T00:00:00",
          "2019-06-01T00:00:00",
          "2019-07-01T00:00:00",
          "2019-08-01T00:00:00",
          "2019-09-01T00:00:00"
         ],
         "xaxis": "x",
         "y": [
          5.528571428571435,
          8.885714285714279,
          10.171428571428569,
          12.999999999999998,
          15.799999999999997,
          16.028571428571425,
          14.857142857142854,
          13.74285714285714,
          12.428571428571427,
          12.57142857142857,
          17.17142857142857,
          21.857142857142854,
          27.571428571428566,
          29.199999999999996,
          21.71428571428571,
          13.057142857142855,
          10.028571428571427,
          29.028571428571425,
          37.91428571428571,
          36.65714285714285,
          20.65714285714285,
          16.628571428571426,
          15.885714285714283,
          18.628571428571426,
          15.457142857142856,
          13.428571428571427,
          20.457142857142856,
          28.171428571428567,
          27.114285714285707,
          27.68571428571428,
          20.771428571428565,
          16.857142857142854,
          24.342857142857138,
          45.85714285714285,
          59.05714285714285,
          79.6,
          88.82857142857141,
          86.28571428571428,
          63.171428571428564,
          60.59999999999999,
          69.22857142857143,
          58.999999999999986,
          42.14285714285714,
          52.514285714285705,
          69.94285714285714,
          60.39999999999999,
          44.885714285714286,
          42.57142857142856,
          33.599999999999994,
          27.54285714285714,
          26.999999999999993,
          31.028571428571425,
          30.05714285714285,
          31.914285714285707,
          24.057142857142853,
          17.799999999999997,
          15.628571428571426,
          25.114285714285707,
          39.857142857142854,
          50.05714285714285,
          46.342857142857135,
          29.371428571428567,
          22.085714285714282,
          22.028571428571425,
          27.257142857142853,
          34.91428571428571,
          30.05714285714285,
          33.42857142857142,
          33.82857142857142,
          46.88571428571428,
          59.42857142857142,
          56.085714285714275,
          36.79999999999999,
          19.94285714285714,
          23.14285714285714,
          18.828571428571426,
          15.628571428571426,
          14.828571428571426,
          13.828571428571427,
          13.457142857142854,
          15.799999999999997,
          19.657142857142855,
          19.885714285714283,
          17.171428571428567,
          14.199999999999998,
          10.799999999999999,
          12.028571428571427,
          12.314285714285713,
          8.57142857142857,
          6.857142857142856,
          8.257142857142856,
          7.97142857142857,
          6.97142857142857,
          13.14285714285714,
          18.514285714285712,
          19.942857142857143,
          13.37142857142857,
          11.599999999999998,
          13.857142857142854,
          13.457142857142856,
          8.314285714285713,
          8.599999999999998,
          9.74285714285714,
          9.599999999999998,
          6.228571428571428,
          11.399999999999999,
          13.342857142857142,
          14.171428571428569,
          8.799999999999999,
          7.685714285714284,
          5.199999999999998,
          12.57142857142857,
          18.4,
          15.628571428571426,
          5.37142857142857,
          7.714285714285713,
          10.028571428571427,
          11.057142857142855,
          7.97142857142857,
          10.857142857142856,
          7.37142857142857,
          7.628571428571427,
          7.171428571428571,
          9.342857142857142,
          11.142857142857142,
          11.74285714285714,
          8.114285714285714,
          4.628571428571428,
          5.514285714285713,
          10.657142857142855,
          17.485714285714284,
          18.657142857142855,
          13.857142857142856,
          8.857142857142856,
          10.37142857142857,
          10.771428571428569,
          21.48571428571428,
          31.514285714285705,
          29.799999999999997,
          22.399999999999995,
          24.399999999999995,
          35.54285714285714,
          51.114285714285714,
          49.171428571428564,
          31.599999999999998,
          11.428571428571425,
          9.428571428571427,
          8.828571428571427,
          12.028571428571427,
          10.914285714285711,
          7.399999999999999,
          7.257142857142855,
          13.628571428571426,
          24.257142857142853,
          27.771428571428565,
          24.171428571428567,
          14.714285714285712,
          14.057142857142853,
          16.628571428571426,
          16.857142857142854,
          22.085714285714282,
          29.171428571428564,
          32.8,
          27.599999999999994,
          24.22857142857142,
          18.028571428571425,
          23.457142857142856,
          32.71428571428571,
          31.999999999999996,
          21.11428571428571,
          17.17142857142857,
          19.71428571428571,
          19.71428571428571,
          19.085714285714282,
          17.94285714285714,
          17.199999999999996,
          20.399999999999995,
          27.742857142857137,
          32.428571428571416,
          30.399999999999995,
          22.91428571428571,
          25.999999999999996,
          30.228571428571424,
          40.514285714285705,
          39.54285714285714,
          43.54285714285714,
          40.54285714285714,
          46.971428571428554,
          62.75714285714281
         ],
         "yaxis": "y"
        },
        {
         "line": {
          "color": "grey",
          "dash": "dashdot",
          "width": 2
         },
         "name": "meat consumption (kg/capita)",
         "opacity": 0.55,
         "type": "scatter",
         "x": [
          2004,
          2005,
          2006,
          2007,
          2008,
          2009,
          2010,
          2011,
          2012,
          2013
         ],
         "xaxis": "x",
         "y": [
          79.94184178541727,
          81.58614714449638,
          81.05390524423386,
          82.57324253621002,
          81.54169140548751,
          80.8241444144794,
          79.87375075881826,
          79.60505492303508,
          80.2525112294266,
          79.4796006080886
         ],
         "yaxis": "y2"
        }
       ],
       "layout": {
        "autosize": true,
        "template": {
         "data": {
          "bar": [
           {
            "error_x": {
             "color": "#2a3f5f"
            },
            "error_y": {
             "color": "#2a3f5f"
            },
            "marker": {
             "line": {
              "color": "#E5ECF6",
              "width": 0.5
             }
            },
            "type": "bar"
           }
          ],
          "barpolar": [
           {
            "marker": {
             "line": {
              "color": "#E5ECF6",
              "width": 0.5
             }
            },
            "type": "barpolar"
           }
          ],
          "carpet": [
           {
            "aaxis": {
             "endlinecolor": "#2a3f5f",
             "gridcolor": "white",
             "linecolor": "white",
             "minorgridcolor": "white",
             "startlinecolor": "#2a3f5f"
            },
            "baxis": {
             "endlinecolor": "#2a3f5f",
             "gridcolor": "white",
             "linecolor": "white",
             "minorgridcolor": "white",
             "startlinecolor": "#2a3f5f"
            },
            "type": "carpet"
           }
          ],
          "choropleth": [
           {
            "colorbar": {
             "outlinewidth": 0,
             "ticks": ""
            },
            "type": "choropleth"
           }
          ],
          "contour": [
           {
            "colorbar": {
             "outlinewidth": 0,
             "ticks": ""
            },
            "colorscale": [
             [
              0,
              "#0d0887"
             ],
             [
              0.1111111111111111,
              "#46039f"
             ],
             [
              0.2222222222222222,
              "#7201a8"
             ],
             [
              0.3333333333333333,
              "#9c179e"
             ],
             [
              0.4444444444444444,
              "#bd3786"
             ],
             [
              0.5555555555555556,
              "#d8576b"
             ],
             [
              0.6666666666666666,
              "#ed7953"
             ],
             [
              0.7777777777777778,
              "#fb9f3a"
             ],
             [
              0.8888888888888888,
              "#fdca26"
             ],
             [
              1,
              "#f0f921"
             ]
            ],
            "type": "contour"
           }
          ],
          "contourcarpet": [
           {
            "colorbar": {
             "outlinewidth": 0,
             "ticks": ""
            },
            "type": "contourcarpet"
           }
          ],
          "heatmap": [
           {
            "colorbar": {
             "outlinewidth": 0,
             "ticks": ""
            },
            "colorscale": [
             [
              0,
              "#0d0887"
             ],
             [
              0.1111111111111111,
              "#46039f"
             ],
             [
              0.2222222222222222,
              "#7201a8"
             ],
             [
              0.3333333333333333,
              "#9c179e"
             ],
             [
              0.4444444444444444,
              "#bd3786"
             ],
             [
              0.5555555555555556,
              "#d8576b"
             ],
             [
              0.6666666666666666,
              "#ed7953"
             ],
             [
              0.7777777777777778,
              "#fb9f3a"
             ],
             [
              0.8888888888888888,
              "#fdca26"
             ],
             [
              1,
              "#f0f921"
             ]
            ],
            "type": "heatmap"
           }
          ],
          "heatmapgl": [
           {
            "colorbar": {
             "outlinewidth": 0,
             "ticks": ""
            },
            "colorscale": [
             [
              0,
              "#0d0887"
             ],
             [
              0.1111111111111111,
              "#46039f"
             ],
             [
              0.2222222222222222,
              "#7201a8"
             ],
             [
              0.3333333333333333,
              "#9c179e"
             ],
             [
              0.4444444444444444,
              "#bd3786"
             ],
             [
              0.5555555555555556,
              "#d8576b"
             ],
             [
              0.6666666666666666,
              "#ed7953"
             ],
             [
              0.7777777777777778,
              "#fb9f3a"
             ],
             [
              0.8888888888888888,
              "#fdca26"
             ],
             [
              1,
              "#f0f921"
             ]
            ],
            "type": "heatmapgl"
           }
          ],
          "histogram": [
           {
            "marker": {
             "colorbar": {
              "outlinewidth": 0,
              "ticks": ""
             }
            },
            "type": "histogram"
           }
          ],
          "histogram2d": [
           {
            "colorbar": {
             "outlinewidth": 0,
             "ticks": ""
            },
            "colorscale": [
             [
              0,
              "#0d0887"
             ],
             [
              0.1111111111111111,
              "#46039f"
             ],
             [
              0.2222222222222222,
              "#7201a8"
             ],
             [
              0.3333333333333333,
              "#9c179e"
             ],
             [
              0.4444444444444444,
              "#bd3786"
             ],
             [
              0.5555555555555556,
              "#d8576b"
             ],
             [
              0.6666666666666666,
              "#ed7953"
             ],
             [
              0.7777777777777778,
              "#fb9f3a"
             ],
             [
              0.8888888888888888,
              "#fdca26"
             ],
             [
              1,
              "#f0f921"
             ]
            ],
            "type": "histogram2d"
           }
          ],
          "histogram2dcontour": [
           {
            "colorbar": {
             "outlinewidth": 0,
             "ticks": ""
            },
            "colorscale": [
             [
              0,
              "#0d0887"
             ],
             [
              0.1111111111111111,
              "#46039f"
             ],
             [
              0.2222222222222222,
              "#7201a8"
             ],
             [
              0.3333333333333333,
              "#9c179e"
             ],
             [
              0.4444444444444444,
              "#bd3786"
             ],
             [
              0.5555555555555556,
              "#d8576b"
             ],
             [
              0.6666666666666666,
              "#ed7953"
             ],
             [
              0.7777777777777778,
              "#fb9f3a"
             ],
             [
              0.8888888888888888,
              "#fdca26"
             ],
             [
              1,
              "#f0f921"
             ]
            ],
            "type": "histogram2dcontour"
           }
          ],
          "mesh3d": [
           {
            "colorbar": {
             "outlinewidth": 0,
             "ticks": ""
            },
            "type": "mesh3d"
           }
          ],
          "parcoords": [
           {
            "line": {
             "colorbar": {
              "outlinewidth": 0,
              "ticks": ""
             }
            },
            "type": "parcoords"
           }
          ],
          "pie": [
           {
            "automargin": true,
            "type": "pie"
           }
          ],
          "scatter": [
           {
            "marker": {
             "colorbar": {
              "outlinewidth": 0,
              "ticks": ""
             }
            },
            "type": "scatter"
           }
          ],
          "scatter3d": [
           {
            "line": {
             "colorbar": {
              "outlinewidth": 0,
              "ticks": ""
             }
            },
            "marker": {
             "colorbar": {
              "outlinewidth": 0,
              "ticks": ""
             }
            },
            "type": "scatter3d"
           }
          ],
          "scattercarpet": [
           {
            "marker": {
             "colorbar": {
              "outlinewidth": 0,
              "ticks": ""
             }
            },
            "type": "scattercarpet"
           }
          ],
          "scattergeo": [
           {
            "marker": {
             "colorbar": {
              "outlinewidth": 0,
              "ticks": ""
             }
            },
            "type": "scattergeo"
           }
          ],
          "scattergl": [
           {
            "marker": {
             "colorbar": {
              "outlinewidth": 0,
              "ticks": ""
             }
            },
            "type": "scattergl"
           }
          ],
          "scattermapbox": [
           {
            "marker": {
             "colorbar": {
              "outlinewidth": 0,
              "ticks": ""
             }
            },
            "type": "scattermapbox"
           }
          ],
          "scatterpolar": [
           {
            "marker": {
             "colorbar": {
              "outlinewidth": 0,
              "ticks": ""
             }
            },
            "type": "scatterpolar"
           }
          ],
          "scatterpolargl": [
           {
            "marker": {
             "colorbar": {
              "outlinewidth": 0,
              "ticks": ""
             }
            },
            "type": "scatterpolargl"
           }
          ],
          "scatterternary": [
           {
            "marker": {
             "colorbar": {
              "outlinewidth": 0,
              "ticks": ""
             }
            },
            "type": "scatterternary"
           }
          ],
          "surface": [
           {
            "colorbar": {
             "outlinewidth": 0,
             "ticks": ""
            },
            "colorscale": [
             [
              0,
              "#0d0887"
             ],
             [
              0.1111111111111111,
              "#46039f"
             ],
             [
              0.2222222222222222,
              "#7201a8"
             ],
             [
              0.3333333333333333,
              "#9c179e"
             ],
             [
              0.4444444444444444,
              "#bd3786"
             ],
             [
              0.5555555555555556,
              "#d8576b"
             ],
             [
              0.6666666666666666,
              "#ed7953"
             ],
             [
              0.7777777777777778,
              "#fb9f3a"
             ],
             [
              0.8888888888888888,
              "#fdca26"
             ],
             [
              1,
              "#f0f921"
             ]
            ],
            "type": "surface"
           }
          ],
          "table": [
           {
            "cells": {
             "fill": {
              "color": "#EBF0F8"
             },
             "line": {
              "color": "white"
             }
            },
            "header": {
             "fill": {
              "color": "#C8D4E3"
             },
             "line": {
              "color": "white"
             }
            },
            "type": "table"
           }
          ]
         },
         "layout": {
          "annotationdefaults": {
           "arrowcolor": "#2a3f5f",
           "arrowhead": 0,
           "arrowwidth": 1
          },
          "coloraxis": {
           "colorbar": {
            "outlinewidth": 0,
            "ticks": ""
           }
          },
          "colorscale": {
           "diverging": [
            [
             0,
             "#8e0152"
            ],
            [
             0.1,
             "#c51b7d"
            ],
            [
             0.2,
             "#de77ae"
            ],
            [
             0.3,
             "#f1b6da"
            ],
            [
             0.4,
             "#fde0ef"
            ],
            [
             0.5,
             "#f7f7f7"
            ],
            [
             0.6,
             "#e6f5d0"
            ],
            [
             0.7,
             "#b8e186"
            ],
            [
             0.8,
             "#7fbc41"
            ],
            [
             0.9,
             "#4d9221"
            ],
            [
             1,
             "#276419"
            ]
           ],
           "sequential": [
            [
             0,
             "#0d0887"
            ],
            [
             0.1111111111111111,
             "#46039f"
            ],
            [
             0.2222222222222222,
             "#7201a8"
            ],
            [
             0.3333333333333333,
             "#9c179e"
            ],
            [
             0.4444444444444444,
             "#bd3786"
            ],
            [
             0.5555555555555556,
             "#d8576b"
            ],
            [
             0.6666666666666666,
             "#ed7953"
            ],
            [
             0.7777777777777778,
             "#fb9f3a"
            ],
            [
             0.8888888888888888,
             "#fdca26"
            ],
            [
             1,
             "#f0f921"
            ]
           ],
           "sequentialminus": [
            [
             0,
             "#0d0887"
            ],
            [
             0.1111111111111111,
             "#46039f"
            ],
            [
             0.2222222222222222,
             "#7201a8"
            ],
            [
             0.3333333333333333,
             "#9c179e"
            ],
            [
             0.4444444444444444,
             "#bd3786"
            ],
            [
             0.5555555555555556,
             "#d8576b"
            ],
            [
             0.6666666666666666,
             "#ed7953"
            ],
            [
             0.7777777777777778,
             "#fb9f3a"
            ],
            [
             0.8888888888888888,
             "#fdca26"
            ],
            [
             1,
             "#f0f921"
            ]
           ]
          },
          "colorway": [
           "#636efa",
           "#EF553B",
           "#00cc96",
           "#ab63fa",
           "#FFA15A",
           "#19d3f3",
           "#FF6692",
           "#B6E880",
           "#FF97FF",
           "#FECB52"
          ],
          "font": {
           "color": "#2a3f5f"
          },
          "geo": {
           "bgcolor": "white",
           "lakecolor": "white",
           "landcolor": "#E5ECF6",
           "showlakes": true,
           "showland": true,
           "subunitcolor": "white"
          },
          "hoverlabel": {
           "align": "left"
          },
          "hovermode": "closest",
          "mapbox": {
           "style": "light"
          },
          "paper_bgcolor": "white",
          "plot_bgcolor": "#E5ECF6",
          "polar": {
           "angularaxis": {
            "gridcolor": "white",
            "linecolor": "white",
            "ticks": ""
           },
           "bgcolor": "#E5ECF6",
           "radialaxis": {
            "gridcolor": "white",
            "linecolor": "white",
            "ticks": ""
           }
          },
          "scene": {
           "xaxis": {
            "backgroundcolor": "#E5ECF6",
            "gridcolor": "white",
            "gridwidth": 2,
            "linecolor": "white",
            "showbackground": true,
            "ticks": "",
            "zerolinecolor": "white"
           },
           "yaxis": {
            "backgroundcolor": "#E5ECF6",
            "gridcolor": "white",
            "gridwidth": 2,
            "linecolor": "white",
            "showbackground": true,
            "ticks": "",
            "zerolinecolor": "white"
           },
           "zaxis": {
            "backgroundcolor": "#E5ECF6",
            "gridcolor": "white",
            "gridwidth": 2,
            "linecolor": "white",
            "showbackground": true,
            "ticks": "",
            "zerolinecolor": "white"
           }
          },
          "shapedefaults": {
           "line": {
            "color": "#2a3f5f"
           }
          },
          "ternary": {
           "aaxis": {
            "gridcolor": "white",
            "linecolor": "white",
            "ticks": ""
           },
           "baxis": {
            "gridcolor": "white",
            "linecolor": "white",
            "ticks": ""
           },
           "bgcolor": "#E5ECF6",
           "caxis": {
            "gridcolor": "white",
            "linecolor": "white",
            "ticks": ""
           }
          },
          "title": {
           "x": 0.05
          },
          "xaxis": {
           "automargin": true,
           "gridcolor": "white",
           "linecolor": "white",
           "ticks": "",
           "title": {
            "standoff": 15
           },
           "zerolinecolor": "white",
           "zerolinewidth": 2
          },
          "yaxis": {
           "automargin": true,
           "gridcolor": "white",
           "linecolor": "white",
           "ticks": "",
           "title": {
            "standoff": 15
           },
           "zerolinecolor": "white",
           "zerolinewidth": 2
          }
         }
        },
        "xaxis": {
         "anchor": "y",
         "autorange": true,
         "domain": [
          0,
          0.94
         ],
         "range": [
          "2003-02-08 02:35:01.4893",
          "2019-07-01"
         ],
         "type": "date"
        },
        "yaxis": {
         "anchor": "x",
         "autorange": true,
         "domain": [
          0,
          1
         ],
         "range": [
          -0.6571428571428566,
          105.05714285714285
         ],
         "title": {
          "text": "Interest"
         },
         "type": "linear"
        },
        "yaxis2": {
         "anchor": "x",
         "autorange": true,
         "overlaying": "y",
         "range": [
          79.25299626303513,
          82.79984688126349
         ],
         "side": "right",
         "title": {
          "text": "Meat consumption (kg/capita)"
         },
         "type": "linear"
        }
       }
      },
      "image/png": "[encoded data removed]",
      "text/html": [
       "<div>\n",
       "        \n",
       "        \n",
       "            <div id=\"f36332ad-59b5-4576-b1a1-4d4e14513ae1\" class=\"plotly-graph-div\" style=\"height:525px; width:100%;\"></div>\n",
       "            <script type=\"text/javascript\">\n",
       "                require([\"plotly\"], function(Plotly) {\n",
       "                    window.PLOTLYENV=window.PLOTLYENV || {};\n",
       "                    \n",
       "                if (document.getElementById(\"f36332ad-59b5-4576-b1a1-4d4e14513ae1\")) {\n",
       "                    Plotly.newPlot(\n",
       "                        'f36332ad-59b5-4576-b1a1-4d4e14513ae1',\n",
       "                        [{\"mode\": \"lines\", \"name\": \"Le Monde (France)\", \"type\": \"scatter\", \"x\": [\"Country\", \"Newspaper\", \"2004-01-01T00:00:00\", \"2004-02-01T00:00:00\", \"2004-03-01T00:00:00\", \"2004-04-01T00:00:00\", \"2004-05-01T00:00:00\", \"2004-06-01T00:00:00\", \"2004-07-01T00:00:00\", \"2004-07-01 00:00:00.1\", \"2004-09-01T00:00:00\", \"2004-10-01T00:00:00\", \"2004-11-01T00:00:00\", \"2004-12-01T00:00:00\", \"2005-01-01T00:00:00\", \"2005-02-01T00:00:00\", \"2005-03-01T00:00:00\", \"2005-04-01T00:00:00\", \"2005-05-01T00:00:00\", \"2005-06-01T00:00:00\", \"2005-07-01T00:00:00\", \"2005-08-01T00:00:00\", \"2005-09-01T00:00:00\", \"2005-10-01T00:00:00\", \"2005-11-01T00:00:00\", \"2005-12-01T00:00:00\", \"2006-01-01T00:00:00\", \"2006-02-01T00:00:00\", \"2006-03-01T00:00:00\", \"2006-04-01T00:00:00\", \"2006-05-01T00:00:00\", \"2006-06-01T00:00:00\", \"2006-07-01T00:00:00\", \"2006-08-01T00:00:00\", \"2006-09-01T00:00:00\", \"2006-10-01T00:00:00\", \"2006-11-01T00:00:00\", \"2006-12-01T00:00:00\", \"2007-01-01T00:00:00\", \"2007-02-01T00:00:00\", \"2007-03-01T00:00:00\", \"2007-04-01T00:00:00\", \"2007-05-01T00:00:00\", \"2007-06-01T00:00:00\", \"2007-07-01T00:00:00\", \"2007-08-01T00:00:00\", \"2007-09-01T00:00:00\", \"2007-10-01T00:00:00\", \"2007-11-01T00:00:00\", \"2007-12-01T00:00:00\", \"2008-01-01T00:00:00\", \"2008-02-01T00:00:00\", \"2008-03-01T00:00:00\", \"2008-04-01T00:00:00\", \"2008-05-01T00:00:00\", \"2008-06-01T00:00:00\", \"2008-07-01T00:00:00\", \"2008-08-01T00:00:00\", \"2008-09-01T00:00:00\", \"2008-10-01T00:00:00\", \"2008-11-01T00:00:00\", \"2008-12-01T00:00:00\", \"2009-01-01T00:00:00\", \"2009-02-01T00:00:00\", \"2009-03-01T00:00:00\", \"2009-04-01T00:00:00\", \"2009-05-01T00:00:00\", \"2009-06-01T00:00:00\", \"2009-07-01T00:00:00\", \"2009-08-01T00:00:00\", \"2009-09-01T00:00:00\", \"2009-10-01T00:00:00\", \"2009-11-01T00:00:00\", \"2009-12-01T00:00:00\", \"2010-01-01T00:00:00\", \"2010-02-01T00:00:00\", \"2010-03-01T00:00:00\", \"2010-04-01T00:00:00\", \"2010-05-01T00:00:00\", \"2010-06-01\", \"2010-07-01T00:00:00\", \"2010-08-01T00:00:00\", \"2010-09-01T00:00:00\", \"2010-10-01T00:00:00\", \"2010-11-01T00:00:00\", \"2010-12-01T00:00:00\", \"2011-01-01T00:00:00\", \"2011-02-01T00:00:00\", \"2011-03-01T00:00:00\", \"2011-04-01T00:00:00\", \"2011-05-01T00:00:00\", \"2011-06-01T00:00:00\", \"2011-07-01T00:00:00\", \"2011-08-01T00:00:00\", \"2011-09-01T00:00:00\", \"2011-10-01T00:00:00\", \"2011-11-01T00:00:00\", \"2011-12-01T00:00:00\", \"2012-01-01T00:00:00\", \"2012-02-01T00:00:00\", \"2012-03-01T00:00:00\", \"2012-04-01T00:00:00\", \"2012-05-01T00:00:00\", \"2012-06-01T00:00:00\", \"2012-07-01T00:00:00\", \"2012-08-01T00:00:00\", \"2012-09-01T00:00:00\", \"2012-10-01T00:00:00\", \"2012-11-01T00:00:00\", \"2012-12-01T00:00:00\", \"2013-01-01T00:00:00\", \"2013-02-01T00:00:00\", \"2013-03-01T00:00:00\", \"2013-04-01T00:00:00\", \"2013-05-01T00:00:00\", \"2013-06-01T00:00:00\", \"2013-07-01T00:00:00\", \"2013-08-01T00:00:00\", \"2013-09-01T00:00:00\", \"2013-10-01T00:00:00\", \"2013-11-01T00:00:00\", \"2013-12-01T00:00:00\", \"2014-01-01T00:00:00\", \"2014-02-01T00:00:00\", \"2014-03-01T00:00:00\", \"2014-04-01T00:00:00\", \"2014-05-01T00:00:00\", \"2014-06-01T00:00:00\", \"2014-07-01T00:00:00\", \"2014-08-01T00:00:00\", \"2014-09-01T00:00:00\", \"2014-10-01T00:00:00\", \"2014-11-01T00:00:00\", \"2014-12-01T00:00:00\", \"2015-01-01T00:00:00\", \"2015-02-01T00:00:00\", \"2015-03-01T00:00:00\", \"2015-04-01T00:00:00\", \"2015-05-01T00:00:00\", \"2015-06-01T00:00:00\", \"2015-07-01T00:00:00\", \"2015-08-01T00:00:00\", \"2015-09-01T00:00:00\", \"2015-10-01T00:00:00\", \"2015-11-01T00:00:00\", \"2015-12-01T00:00:00\", \"2016-01-01T00:00:00\", \"2016-02-01T00:00:00\", \"2016-03-01T00:00:00\", \"2016-04-01T00:00:00\", \"2016-05-01T00:00:00\", \"2016-06-01T00:00:00\", \"2016-07-01T00:00:00\", \"2016-08-01T00:00:00\", \"2016-09-01T00:00:00\", \"2016-10-01T00:00:00\", \"2016-11-01T00:00:00\", \"2016-12-01T00:00:00\", \"2017-01-01T00:00:00\", \"2017-02-01T00:00:00\", \"2017-03-01T00:00:00\", \"2017-04-01T00:00:00\", \"2017-05-01T00:00:00\", \"2017-06-01T00:00:00\", \"2017-07-01T00:00:00\", \"2017-08-01T00:00:00\", \"2017-09-01T00:00:00\", \"2017-10-01T00:00:00\", \"2017-11-01T00:00:00\", \"2017-12-01T00:00:00\", \"2018-01-01T00:00:00\", \"2018-02-01T00:00:00\", \"2018-03-01T00:00:00\", \"2018-04-01T00:00:00\", \"2018-05-01T00:00:00\", \"2018-06-01T00:00:00\", \"2018-07-01T00:00:00\", \"2018-08-01T00:00:00\", \"2018-09-01T00:00:00\", \"2018-10-01T00:00:00\", \"2018-11-01T00:00:00\", \"2018-12-01T00:00:00\", \"2019-01-01T00:00:00\", \"2019-02-01T00:00:00\", \"2019-03-01T00:00:00\", \"2019-04-01T00:00:00\", \"2019-05-01T00:00:00\", \"2019-06-01T00:00:00\", \"2019-07-01T00:00:00\", \"2019-08-01T00:00:00\", \"2019-09-01T00:00:00\"], \"xaxis\": \"x\", \"y\": [31.142857142857128, 36.42857142857141, 31.85714285714285, 16.428571428571427, 10.14285714285714, 12.485714285714284, 11.257142857142854, 5.399999999999999, 8.657142857142855, 14.399999999999997, 17.971428571428568, 19.542857142857137, 22.885714285714283, 19.285714285714285, 14.171428571428569, 8.514285714285712, 15.628571428571426, 24.68571428571428, 22.657142857142855, 16.971428571428568, 13.37142857142857, 19.057142857142857, 20.4, 20.14285714285714, 15.34285714285714, 12.371428571428568, 10.685714285714283, 11.57142857142857, 11.857142857142854, 13.942857142857141, 16.428571428571423, 19.94285714285714, 29.971428571428564, 36.22857142857142, 40.54285714285714, 43.342857142857135, 44.085714285714275, 49.54285714285713, 47.71428571428571, 57.97142857142857, 63.1142857142857, 57.88571428571427, 35.342857142857135, 35.685714285714276, 48.771428571428565, 48.88571428571428, 47.342857142857135, 46.57142857142856, 39.71428571428571, 32.45714285714285, 41.22857142857142, 44.37142857142857, 51.34285714285714, 57.28571428571428, 52.05714285714285, 34.771428571428565, 37.57142857142856, 51.514285714285705, 62.942857142857136, 65.54285714285713, 55.85714285714285, 47.771428571428565, 49.514285714285705, 51.999999999999986, 54.342857142857135, 57.74285714285713, 53.3142857142857, 62.085714285714275, 74.08571428571427, 84.02857142857141, 98.42857142857142, 99.77142857142856, 72.42857142857142, 41.79999999999999, 45.77142857142856, 43.599999999999994, 35.42857142857142, 28.31428571428571, 23.971428571428568, 30.199999999999996, 28.257142857142853, 38.74285714285713, 46.54285714285714, 50.11428571428571, 33.88571428571428, 24.91428571428571, 25.771428571428565, 27.77142857142857, 32.599999999999994, 32.62857142857142, 28.885714285714283, 23.77142857142857, 25.199999999999996, 37.48571428571428, 44.19999999999999, 39.74285714285713, 29.88571428571428, 34.942857142857136, 36.85714285714285, 32.62857142857142, 26.28571428571428, 23.571428571428566, 17.74285714285714, 20.77142857142857, 24.399999999999995, 34.74285714285713, 36.85714285714285, 30.542857142857137, 17.342857142857138, 16.542857142857137, 16.828571428571426, 24.05714285714285, 30.857142857142854, 29.371428571428567, 20.685714285714283, 20.999999999999996, 25.371428571428567, 27.257142857142853, 23.999999999999996, 18.171428571428567, 14.257142857142853, 30.742857142857137, 36.0, 35.857142857142854, 26.085714285714282, 21.48571428571428, 6.857142857142854, 7.1999999999999975, 16.17142857142857, 27.371428571428567, 31.771428571428565, 29.428571428571423, 25.228571428571428, 29.542857142857137, 33.05714285714285, 30.771428571428565, 40.11428571428571, 43.0, 37.28571428571428, 30.88571428571428, 41.74285714285713, 68.42857142857142, 86.97142857142856, 68.82857142857142, 29.971428571428568, 14.428571428571425, 18.828571428571426, 23.085714285714282, 25.828571428571422, 21.685714285714283, 17.4, 27.685714285714283, 39.342857142857135, 51.54285714285713, 44.71428571428571, 44.54285714285713, 37.22857142857143, 41.171428571428564, 32.771428571428565, 30.171428571428567, 38.62857142857142, 42.85714285714285, 34.68571428571428, 31.11428571428571, 31.657142857142855, 37.54285714285713, 53.085714285714275, 60.19999999999999, 44.88571428571428, 34.114285714285714, 38.942857142857136, 33.37142857142857, 35.71428571428571, 40.085714285714275, 39.91428571428571, 38.428571428571416, 45.3142857142857, 69.08571428571427, 83.45714285714284, 82.88571428571427, 65.45714285714286, 62.771428571428565, 55.22857142857142, 56.914285714285704, 65.17142857142855, 47.457142857142856, 26.971428571428568, 31.68571428571427, 72.82857142857151], \"yaxis\": \"y\"}, {\"mode\": \"lines\", \"name\": \"Le Figaro (France)\", \"type\": \"scatter\", \"x\": [\"Country\", \"Newspaper\", \"2004-01-01T00:00:00\", \"2004-02-01T00:00:00\", \"2004-03-01T00:00:00\", \"2004-04-01T00:00:00\", \"2004-05-01T00:00:00\", \"2004-06-01T00:00:00\", \"2004-07-01T00:00:00\", \"2004-07-01 00:00:00.1\", \"2004-09-01T00:00:00\", \"2004-10-01T00:00:00\", \"2004-11-01T00:00:00\", \"2004-12-01T00:00:00\", \"2005-01-01T00:00:00\", \"2005-02-01T00:00:00\", \"2005-03-01T00:00:00\", \"2005-04-01T00:00:00\", \"2005-05-01T00:00:00\", \"2005-06-01T00:00:00\", \"2005-07-01T00:00:00\", \"2005-08-01T00:00:00\", \"2005-09-01T00:00:00\", \"2005-10-01T00:00:00\", \"2005-11-01T00:00:00\", \"2005-12-01T00:00:00\", \"2006-01-01T00:00:00\", \"2006-02-01T00:00:00\", \"2006-03-01T00:00:00\", \"2006-04-01T00:00:00\", \"2006-05-01T00:00:00\", \"2006-06-01T00:00:00\", \"2006-07-01T00:00:00\", \"2006-08-01T00:00:00\", \"2006-09-01T00:00:00\", \"2006-10-01T00:00:00\", \"2006-11-01T00:00:00\", \"2006-12-01T00:00:00\", \"2007-01-01T00:00:00\", \"2007-02-01T00:00:00\", \"2007-03-01T00:00:00\", \"2007-04-01T00:00:00\", \"2007-05-01T00:00:00\", \"2007-06-01T00:00:00\", \"2007-07-01T00:00:00\", \"2007-08-01T00:00:00\", \"2007-09-01T00:00:00\", \"2007-10-01T00:00:00\", \"2007-11-01T00:00:00\", \"2007-12-01T00:00:00\", \"2008-01-01T00:00:00\", \"2008-02-01T00:00:00\", \"2008-03-01T00:00:00\", \"2008-04-01T00:00:00\", \"2008-05-01T00:00:00\", \"2008-06-01T00:00:00\", \"2008-07-01T00:00:00\", \"2008-08-01T00:00:00\", \"2008-09-01T00:00:00\", \"2008-10-01T00:00:00\", \"2008-11-01T00:00:00\", \"2008-12-01T00:00:00\", \"2009-01-01T00:00:00\", \"2009-02-01T00:00:00\", \"2009-03-01T00:00:00\", \"2009-04-01T00:00:00\", \"2009-05-01T00:00:00\", \"2009-06-01T00:00:00\", \"2009-07-01T00:00:00\", \"2009-08-01T00:00:00\", \"2009-09-01T00:00:00\", \"2009-10-01T00:00:00\", \"2009-11-01T00:00:00\", \"2009-12-01T00:00:00\", \"2010-01-01T00:00:00\", \"2010-02-01T00:00:00\", \"2010-03-01T00:00:00\", \"2010-04-01T00:00:00\", \"2010-05-01T00:00:00\", \"2010-06-01\", \"2010-07-01T00:00:00\", \"2010-08-01T00:00:00\", \"2010-09-01T00:00:00\", \"2010-10-01T00:00:00\", \"2010-11-01T00:00:00\", \"2010-12-01T00:00:00\", \"2011-01-01T00:00:00\", \"2011-02-01T00:00:00\", \"2011-03-01T00:00:00\", \"2011-04-01T00:00:00\", \"2011-05-01T00:00:00\", \"2011-06-01T00:00:00\", \"2011-07-01T00:00:00\", \"2011-08-01T00:00:00\", \"2011-09-01T00:00:00\", \"2011-10-01T00:00:00\", \"2011-11-01T00:00:00\", \"2011-12-01T00:00:00\", \"2012-01-01T00:00:00\", \"2012-02-01T00:00:00\", \"2012-03-01T00:00:00\", \"2012-04-01T00:00:00\", \"2012-05-01T00:00:00\", \"2012-06-01T00:00:00\", \"2012-07-01T00:00:00\", \"2012-08-01T00:00:00\", \"2012-09-01T00:00:00\", \"2012-10-01T00:00:00\", \"2012-11-01T00:00:00\", \"2012-12-01T00:00:00\", \"2013-01-01T00:00:00\", \"2013-02-01T00:00:00\", \"2013-03-01T00:00:00\", \"2013-04-01T00:00:00\", \"2013-05-01T00:00:00\", \"2013-06-01T00:00:00\", \"2013-07-01T00:00:00\", \"2013-08-01T00:00:00\", \"2013-09-01T00:00:00\", \"2013-10-01T00:00:00\", \"2013-11-01T00:00:00\", \"2013-12-01T00:00:00\", \"2014-01-01T00:00:00\", \"2014-02-01T00:00:00\", \"2014-03-01T00:00:00\", \"2014-04-01T00:00:00\", \"2014-05-01T00:00:00\", \"2014-06-01T00:00:00\", \"2014-07-01T00:00:00\", \"2014-08-01T00:00:00\", \"2014-09-01T00:00:00\", \"2014-10-01T00:00:00\", \"2014-11-01T00:00:00\", \"2014-12-01T00:00:00\", \"2015-01-01T00:00:00\", \"2015-02-01T00:00:00\", \"2015-03-01T00:00:00\", \"2015-04-01T00:00:00\", \"2015-05-01T00:00:00\", \"2015-06-01T00:00:00\", \"2015-07-01T00:00:00\", \"2015-08-01T00:00:00\", \"2015-09-01T00:00:00\", \"2015-10-01T00:00:00\", \"2015-11-01T00:00:00\", \"2015-12-01T00:00:00\", \"2016-01-01T00:00:00\", \"2016-02-01T00:00:00\", \"2016-03-01T00:00:00\", \"2016-04-01T00:00:00\", \"2016-05-01T00:00:00\", \"2016-06-01T00:00:00\", \"2016-07-01T00:00:00\", \"2016-08-01T00:00:00\", \"2016-09-01T00:00:00\", \"2016-10-01T00:00:00\", \"2016-11-01T00:00:00\", \"2016-12-01T00:00:00\", \"2017-01-01T00:00:00\", \"2017-02-01T00:00:00\", \"2017-03-01T00:00:00\", \"2017-04-01T00:00:00\", \"2017-05-01T00:00:00\", \"2017-06-01T00:00:00\", \"2017-07-01T00:00:00\", \"2017-08-01T00:00:00\", \"2017-09-01T00:00:00\", \"2017-10-01T00:00:00\", \"2017-11-01T00:00:00\", \"2017-12-01T00:00:00\", \"2018-01-01T00:00:00\", \"2018-02-01T00:00:00\", \"2018-03-01T00:00:00\", \"2018-04-01T00:00:00\", \"2018-05-01T00:00:00\", \"2018-06-01T00:00:00\", \"2018-07-01T00:00:00\", \"2018-08-01T00:00:00\", \"2018-09-01T00:00:00\", \"2018-10-01T00:00:00\", \"2018-11-01T00:00:00\", \"2018-12-01T00:00:00\", \"2019-01-01T00:00:00\", \"2019-02-01T00:00:00\", \"2019-03-01T00:00:00\", \"2019-04-01T00:00:00\", \"2019-05-01T00:00:00\", \"2019-06-01T00:00:00\", \"2019-07-01T00:00:00\", \"2019-08-01T00:00:00\", \"2019-09-01T00:00:00\"], \"xaxis\": \"x\", \"y\": [5.528571428571435, 8.885714285714279, 10.171428571428569, 12.999999999999998, 15.799999999999997, 16.028571428571425, 14.857142857142854, 13.74285714285714, 12.428571428571427, 12.57142857142857, 17.17142857142857, 21.857142857142854, 27.571428571428566, 29.199999999999996, 21.71428571428571, 13.057142857142855, 10.028571428571427, 29.028571428571425, 37.91428571428571, 36.65714285714285, 20.65714285714285, 16.628571428571426, 15.885714285714283, 18.628571428571426, 15.457142857142856, 13.428571428571427, 20.457142857142856, 28.171428571428567, 27.114285714285707, 27.68571428571428, 20.771428571428565, 16.857142857142854, 24.342857142857138, 45.85714285714285, 59.05714285714285, 79.6, 88.82857142857141, 86.28571428571428, 63.171428571428564, 60.59999999999999, 69.22857142857143, 58.999999999999986, 42.14285714285714, 52.514285714285705, 69.94285714285714, 60.39999999999999, 44.885714285714286, 42.57142857142856, 33.599999999999994, 27.54285714285714, 26.999999999999993, 31.028571428571425, 30.05714285714285, 31.914285714285707, 24.057142857142853, 17.799999999999997, 15.628571428571426, 25.114285714285707, 39.857142857142854, 50.05714285714285, 46.342857142857135, 29.371428571428567, 22.085714285714282, 22.028571428571425, 27.257142857142853, 34.91428571428571, 30.05714285714285, 33.42857142857142, 33.82857142857142, 46.88571428571428, 59.42857142857142, 56.085714285714275, 36.79999999999999, 19.94285714285714, 23.14285714285714, 18.828571428571426, 15.628571428571426, 14.828571428571426, 13.828571428571427, 13.457142857142854, 15.799999999999997, 19.657142857142855, 19.885714285714283, 17.171428571428567, 14.199999999999998, 10.799999999999999, 12.028571428571427, 12.314285714285713, 8.57142857142857, 6.857142857142856, 8.257142857142856, 7.97142857142857, 6.97142857142857, 13.14285714285714, 18.514285714285712, 19.942857142857143, 13.37142857142857, 11.599999999999998, 13.857142857142854, 13.457142857142856, 8.314285714285713, 8.599999999999998, 9.74285714285714, 9.599999999999998, 6.228571428571428, 11.399999999999999, 13.342857142857142, 14.171428571428569, 8.799999999999999, 7.685714285714284, 5.199999999999998, 12.57142857142857, 18.4, 15.628571428571426, 5.37142857142857, 7.714285714285713, 10.028571428571427, 11.057142857142855, 7.97142857142857, 10.857142857142856, 7.37142857142857, 7.628571428571427, 7.171428571428571, 9.342857142857142, 11.142857142857142, 11.74285714285714, 8.114285714285714, 4.628571428571428, 5.514285714285713, 10.657142857142855, 17.485714285714284, 18.657142857142855, 13.857142857142856, 8.857142857142856, 10.37142857142857, 10.771428571428569, 21.48571428571428, 31.514285714285705, 29.799999999999997, 22.399999999999995, 24.399999999999995, 35.54285714285714, 51.114285714285714, 49.171428571428564, 31.599999999999998, 11.428571428571425, 9.428571428571427, 8.828571428571427, 12.028571428571427, 10.914285714285711, 7.399999999999999, 7.257142857142855, 13.628571428571426, 24.257142857142853, 27.771428571428565, 24.171428571428567, 14.714285714285712, 14.057142857142853, 16.628571428571426, 16.857142857142854, 22.085714285714282, 29.171428571428564, 32.8, 27.599999999999994, 24.22857142857142, 18.028571428571425, 23.457142857142856, 32.71428571428571, 31.999999999999996, 21.11428571428571, 17.17142857142857, 19.71428571428571, 19.71428571428571, 19.085714285714282, 17.94285714285714, 17.199999999999996, 20.399999999999995, 27.742857142857137, 32.428571428571416, 30.399999999999995, 22.91428571428571, 25.999999999999996, 30.228571428571424, 40.514285714285705, 39.54285714285714, 43.54285714285714, 40.54285714285714, 46.971428571428554, 62.75714285714281], \"yaxis\": \"y\"}, {\"line\": {\"color\": \"grey\", \"dash\": \"dashdot\", \"width\": 2}, \"name\": \"meat consumption (kg/capita)\", \"opacity\": 0.55, \"type\": \"scatter\", \"x\": [2004, 2005, 2006, 2007, 2008, 2009, 2010, 2011, 2012, 2013], \"xaxis\": \"x\", \"y\": [79.94184178541727, 81.58614714449638, 81.05390524423386, 82.57324253621002, 81.54169140548751, 80.8241444144794, 79.87375075881826, 79.60505492303508, 80.2525112294266, 79.4796006080886], \"yaxis\": \"y2\"}],\n",
       "                        {\"template\": {\"data\": {\"bar\": [{\"error_x\": {\"color\": \"#2a3f5f\"}, \"error_y\": {\"color\": \"#2a3f5f\"}, \"marker\": {\"line\": {\"color\": \"#E5ECF6\", \"width\": 0.5}}, \"type\": \"bar\"}], \"barpolar\": [{\"marker\": {\"line\": {\"color\": \"#E5ECF6\", \"width\": 0.5}}, \"type\": \"barpolar\"}], \"carpet\": [{\"aaxis\": {\"endlinecolor\": \"#2a3f5f\", \"gridcolor\": \"white\", \"linecolor\": \"white\", \"minorgridcolor\": \"white\", \"startlinecolor\": \"#2a3f5f\"}, \"baxis\": {\"endlinecolor\": \"#2a3f5f\", \"gridcolor\": \"white\", \"linecolor\": \"white\", \"minorgridcolor\": \"white\", \"startlinecolor\": \"#2a3f5f\"}, \"type\": \"carpet\"}], \"choropleth\": [{\"colorbar\": {\"outlinewidth\": 0, \"ticks\": \"\"}, \"type\": \"choropleth\"}], \"contour\": [{\"colorbar\": {\"outlinewidth\": 0, \"ticks\": \"\"}, \"colorscale\": [[0.0, \"#0d0887\"], [0.1111111111111111, \"#46039f\"], [0.2222222222222222, \"#7201a8\"], [0.3333333333333333, \"#9c179e\"], [0.4444444444444444, \"#bd3786\"], [0.5555555555555556, \"#d8576b\"], [0.6666666666666666, \"#ed7953\"], [0.7777777777777778, \"#fb9f3a\"], [0.8888888888888888, \"#fdca26\"], [1.0, \"#f0f921\"]], \"type\": \"contour\"}], \"contourcarpet\": [{\"colorbar\": {\"outlinewidth\": 0, \"ticks\": \"\"}, \"type\": \"contourcarpet\"}], \"heatmap\": [{\"colorbar\": {\"outlinewidth\": 0, \"ticks\": \"\"}, \"colorscale\": [[0.0, \"#0d0887\"], [0.1111111111111111, \"#46039f\"], [0.2222222222222222, \"#7201a8\"], [0.3333333333333333, \"#9c179e\"], [0.4444444444444444, \"#bd3786\"], [0.5555555555555556, \"#d8576b\"], [0.6666666666666666, \"#ed7953\"], [0.7777777777777778, \"#fb9f3a\"], [0.8888888888888888, \"#fdca26\"], [1.0, \"#f0f921\"]], \"type\": \"heatmap\"}], \"heatmapgl\": [{\"colorbar\": {\"outlinewidth\": 0, \"ticks\": \"\"}, \"colorscale\": [[0.0, \"#0d0887\"], [0.1111111111111111, \"#46039f\"], [0.2222222222222222, \"#7201a8\"], [0.3333333333333333, \"#9c179e\"], [0.4444444444444444, \"#bd3786\"], [0.5555555555555556, \"#d8576b\"], [0.6666666666666666, \"#ed7953\"], [0.7777777777777778, \"#fb9f3a\"], [0.8888888888888888, \"#fdca26\"], [1.0, \"#f0f921\"]], \"type\": \"heatmapgl\"}], \"histogram\": [{\"marker\": {\"colorbar\": {\"outlinewidth\": 0, \"ticks\": \"\"}}, \"type\": \"histogram\"}], \"histogram2d\": [{\"colorbar\": {\"outlinewidth\": 0, \"ticks\": \"\"}, \"colorscale\": [[0.0, \"#0d0887\"], [0.1111111111111111, \"#46039f\"], [0.2222222222222222, \"#7201a8\"], [0.3333333333333333, \"#9c179e\"], [0.4444444444444444, \"#bd3786\"], [0.5555555555555556, \"#d8576b\"], [0.6666666666666666, \"#ed7953\"], [0.7777777777777778, \"#fb9f3a\"], [0.8888888888888888, \"#fdca26\"], [1.0, \"#f0f921\"]], \"type\": \"histogram2d\"}], \"histogram2dcontour\": [{\"colorbar\": {\"outlinewidth\": 0, \"ticks\": \"\"}, \"colorscale\": [[0.0, \"#0d0887\"], [0.1111111111111111, \"#46039f\"], [0.2222222222222222, \"#7201a8\"], [0.3333333333333333, \"#9c179e\"], [0.4444444444444444, \"#bd3786\"], [0.5555555555555556, \"#d8576b\"], [0.6666666666666666, \"#ed7953\"], [0.7777777777777778, \"#fb9f3a\"], [0.8888888888888888, \"#fdca26\"], [1.0, \"#f0f921\"]], \"type\": \"histogram2dcontour\"}], \"mesh3d\": [{\"colorbar\": {\"outlinewidth\": 0, \"ticks\": \"\"}, \"type\": \"mesh3d\"}], \"parcoords\": [{\"line\": {\"colorbar\": {\"outlinewidth\": 0, \"ticks\": \"\"}}, \"type\": \"parcoords\"}], \"pie\": [{\"automargin\": true, \"type\": \"pie\"}], \"scatter\": [{\"marker\": {\"colorbar\": {\"outlinewidth\": 0, \"ticks\": \"\"}}, \"type\": \"scatter\"}], \"scatter3d\": [{\"line\": {\"colorbar\": {\"outlinewidth\": 0, \"ticks\": \"\"}}, \"marker\": {\"colorbar\": {\"outlinewidth\": 0, \"ticks\": \"\"}}, \"type\": \"scatter3d\"}], \"scattercarpet\": [{\"marker\": {\"colorbar\": {\"outlinewidth\": 0, \"ticks\": \"\"}}, \"type\": \"scattercarpet\"}], \"scattergeo\": [{\"marker\": {\"colorbar\": {\"outlinewidth\": 0, \"ticks\": \"\"}}, \"type\": \"scattergeo\"}], \"scattergl\": [{\"marker\": {\"colorbar\": {\"outlinewidth\": 0, \"ticks\": \"\"}}, \"type\": \"scattergl\"}], \"scattermapbox\": [{\"marker\": {\"colorbar\": {\"outlinewidth\": 0, \"ticks\": \"\"}}, \"type\": \"scattermapbox\"}], \"scatterpolar\": [{\"marker\": {\"colorbar\": {\"outlinewidth\": 0, \"ticks\": \"\"}}, \"type\": \"scatterpolar\"}], \"scatterpolargl\": [{\"marker\": {\"colorbar\": {\"outlinewidth\": 0, \"ticks\": \"\"}}, \"type\": \"scatterpolargl\"}], \"scatterternary\": [{\"marker\": {\"colorbar\": {\"outlinewidth\": 0, \"ticks\": \"\"}}, \"type\": \"scatterternary\"}], \"surface\": [{\"colorbar\": {\"outlinewidth\": 0, \"ticks\": \"\"}, \"colorscale\": [[0.0, \"#0d0887\"], [0.1111111111111111, \"#46039f\"], [0.2222222222222222, \"#7201a8\"], [0.3333333333333333, \"#9c179e\"], [0.4444444444444444, \"#bd3786\"], [0.5555555555555556, \"#d8576b\"], [0.6666666666666666, \"#ed7953\"], [0.7777777777777778, \"#fb9f3a\"], [0.8888888888888888, \"#fdca26\"], [1.0, \"#f0f921\"]], \"type\": \"surface\"}], \"table\": [{\"cells\": {\"fill\": {\"color\": \"#EBF0F8\"}, \"line\": {\"color\": \"white\"}}, \"header\": {\"fill\": {\"color\": \"#C8D4E3\"}, \"line\": {\"color\": \"white\"}}, \"type\": \"table\"}]}, \"layout\": {\"annotationdefaults\": {\"arrowcolor\": \"#2a3f5f\", \"arrowhead\": 0, \"arrowwidth\": 1}, \"coloraxis\": {\"colorbar\": {\"outlinewidth\": 0, \"ticks\": \"\"}}, \"colorscale\": {\"diverging\": [[0, \"#8e0152\"], [0.1, \"#c51b7d\"], [0.2, \"#de77ae\"], [0.3, \"#f1b6da\"], [0.4, \"#fde0ef\"], [0.5, \"#f7f7f7\"], [0.6, \"#e6f5d0\"], [0.7, \"#b8e186\"], [0.8, \"#7fbc41\"], [0.9, \"#4d9221\"], [1, \"#276419\"]], \"sequential\": [[0.0, \"#0d0887\"], [0.1111111111111111, \"#46039f\"], [0.2222222222222222, \"#7201a8\"], [0.3333333333333333, \"#9c179e\"], [0.4444444444444444, \"#bd3786\"], [0.5555555555555556, \"#d8576b\"], [0.6666666666666666, \"#ed7953\"], [0.7777777777777778, \"#fb9f3a\"], [0.8888888888888888, \"#fdca26\"], [1.0, \"#f0f921\"]], \"sequentialminus\": [[0.0, \"#0d0887\"], [0.1111111111111111, \"#46039f\"], [0.2222222222222222, \"#7201a8\"], [0.3333333333333333, \"#9c179e\"], [0.4444444444444444, \"#bd3786\"], [0.5555555555555556, \"#d8576b\"], [0.6666666666666666, \"#ed7953\"], [0.7777777777777778, \"#fb9f3a\"], [0.8888888888888888, \"#fdca26\"], [1.0, \"#f0f921\"]]}, \"colorway\": [\"#636efa\", \"#EF553B\", \"#00cc96\", \"#ab63fa\", \"#FFA15A\", \"#19d3f3\", \"#FF6692\", \"#B6E880\", \"#FF97FF\", \"#FECB52\"], \"font\": {\"color\": \"#2a3f5f\"}, \"geo\": {\"bgcolor\": \"white\", \"lakecolor\": \"white\", \"landcolor\": \"#E5ECF6\", \"showlakes\": true, \"showland\": true, \"subunitcolor\": \"white\"}, \"hoverlabel\": {\"align\": \"left\"}, \"hovermode\": \"closest\", \"mapbox\": {\"style\": \"light\"}, \"paper_bgcolor\": \"white\", \"plot_bgcolor\": \"#E5ECF6\", \"polar\": {\"angularaxis\": {\"gridcolor\": \"white\", \"linecolor\": \"white\", \"ticks\": \"\"}, \"bgcolor\": \"#E5ECF6\", \"radialaxis\": {\"gridcolor\": \"white\", \"linecolor\": \"white\", \"ticks\": \"\"}}, \"scene\": {\"xaxis\": {\"backgroundcolor\": \"#E5ECF6\", \"gridcolor\": \"white\", \"gridwidth\": 2, \"linecolor\": \"white\", \"showbackground\": true, \"ticks\": \"\", \"zerolinecolor\": \"white\"}, \"yaxis\": {\"backgroundcolor\": \"#E5ECF6\", \"gridcolor\": \"white\", \"gridwidth\": 2, \"linecolor\": \"white\", \"showbackground\": true, \"ticks\": \"\", \"zerolinecolor\": \"white\"}, \"zaxis\": {\"backgroundcolor\": \"#E5ECF6\", \"gridcolor\": \"white\", \"gridwidth\": 2, \"linecolor\": \"white\", \"showbackground\": true, \"ticks\": \"\", \"zerolinecolor\": \"white\"}}, \"shapedefaults\": {\"line\": {\"color\": \"#2a3f5f\"}}, \"ternary\": {\"aaxis\": {\"gridcolor\": \"white\", \"linecolor\": \"white\", \"ticks\": \"\"}, \"baxis\": {\"gridcolor\": \"white\", \"linecolor\": \"white\", \"ticks\": \"\"}, \"bgcolor\": \"#E5ECF6\", \"caxis\": {\"gridcolor\": \"white\", \"linecolor\": \"white\", \"ticks\": \"\"}}, \"title\": {\"x\": 0.05}, \"xaxis\": {\"automargin\": true, \"gridcolor\": \"white\", \"linecolor\": \"white\", \"ticks\": \"\", \"title\": {\"standoff\": 15}, \"zerolinecolor\": \"white\", \"zerolinewidth\": 2}, \"yaxis\": {\"automargin\": true, \"gridcolor\": \"white\", \"linecolor\": \"white\", \"ticks\": \"\", \"title\": {\"standoff\": 15}, \"zerolinecolor\": \"white\", \"zerolinewidth\": 2}}}, \"xaxis\": {\"anchor\": \"y\", \"domain\": [0.0, 0.94]}, \"yaxis\": {\"anchor\": \"x\", \"domain\": [0.0, 1.0], \"title\": {\"text\": \"Interest\"}}, \"yaxis2\": {\"anchor\": \"x\", \"overlaying\": \"y\", \"side\": \"right\", \"title\": {\"text\": \"Meat consumption (kg/capita)\"}}},\n",
       "                        {\"responsive\": true}\n",
       "                    ).then(function(){\n",
       "                            \n",
       "var gd = document.getElementById('f36332ad-59b5-4576-b1a1-4d4e14513ae1');\n",
       "var x = new MutationObserver(function (mutations, observer) {{\n",
       "        var display = window.getComputedStyle(gd).display;\n",
       "        if (!display || display === 'none') {{\n",
       "            console.log([gd, 'removed!']);\n",
       "            Plotly.purge(gd);\n",
       "            observer.disconnect();\n",
       "        }}\n",
       "}});\n",
       "\n",
       "// Listen for the removal of the full notebook cells\n",
       "var notebookContainer = gd.closest('#notebook-container');\n",
       "if (notebookContainer) {{\n",
       "    x.observe(notebookContainer, {childList: true});\n",
       "}}\n",
       "\n",
       "// Listen for the clearing of the current output cell\n",
       "var outputEl = gd.closest('.output');\n",
       "if (outputEl) {{\n",
       "    x.observe(outputEl, {childList: true});\n",
       "}}\n",
       "\n",
       "                        })\n",
       "                };\n",
       "                });\n",
       "            </script>\n",
       "        </div>"
      ]
     },
     "metadata": {},
     "output_type": "display_data"
    }
   ],
   "source": [
    "\n",
    "value_smooth = 5\n",
    "    \n",
    "#px.line(meat_consumption, x='years', y='all_consumption',)\n",
    "\n",
    "\n",
    "# Create figure with secondary y-axis\n",
    "fig = make_subplots(specs=[[{\"secondary_y\": True}]])\n",
    "\n",
    "\n",
    "for x in range(0,2):\n",
    "    if value_smooth == 0:\n",
    "        fig.add_trace(go.Scatter(x=coverageMedia.index, y=coverageMedia.iloc[2:,x], mode='lines',name=coverageMedia.iloc[1,:][5+x]), secondary_y=False, )\n",
    "    else:\n",
    "        fig.add_trace(go.Scatter(x=coverageMedia.index, y=signal.savgol_filter(coverageMedia.iloc[2:,x],value_smooth, 3), mode='lines',name=coverageMedia.iloc[1,:][5+x]), secondary_y=False, )\n",
    "        \n",
    "\n",
    "# jusqu'à 2018\n",
    "#fig.add_trace(\n",
    "#    go.Scatter(x=meat_consumption.years,\n",
    "#    y=meat_consumption.all_consumption,name=\"meat consumption (mean)\"),\n",
    "#    secondary_y=True,\n",
    "#)\n",
    "\n",
    "# jusqu'à 2013\n",
    "fig.add_trace(\n",
    "    go.Scatter(x=mean_per_year.index,\n",
    "    y=mean_per_year.values,name=\"meat consumption (kg/capita)\", opacity= 0.55,\n",
    "              line=dict(color='grey', width=2,\n",
    "                              dash='dashdot')),\n",
    "    secondary_y=True,\n",
    "    \n",
    ")\n",
    "\n",
    "# Add figure title\n",
    "#fig.update_layout(\n",
    "#    title_text=\"Media Coverage vs meat consumption par rapport  a yearsssssss\"\n",
    "#)\n",
    "\n",
    "# Set x-axis title\n",
    "#fig.update_xaxes(title_text=\"YEARS\")\n",
    "\n",
    "# Set y-axes titles\n",
    "fig.update_yaxes(title_text=\"Interest\", secondary_y=False)\n",
    "fig.update_yaxes(title_text=\"Meat consumption (kg/capita)\", secondary_y=True)\n",
    "\n",
    "fig.show()"
   ]
  }
 ],
 "metadata": {
  "kernelspec": {
   "display_name": "Python 3",
   "language": "python",
   "name": "python3"
  },
  "language_info": {
   "codemirror_mode": {
    "name": "ipython",
    "version": 3
   },
   "file_extension": ".py",
   "mimetype": "text/x-python",
   "name": "python",
   "nbconvert_exporter": "python",
   "pygments_lexer": "ipython3",
   "version": "3.6.9"
  }
 },
 "nbformat": 4,
 "nbformat_minor": 4
}
