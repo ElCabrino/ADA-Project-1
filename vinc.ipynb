{
 "cells": [
  {
   "cell_type": "code",
   "execution_count": null,
   "metadata": {},
   "outputs": [],
   "source": [
    "from pytrends.request import TrendReq\n",
    "import matplotlib.pyplot as plt\n",
    "import pandas as pd\n",
    "import plotly.graph_objects as go\n",
    "import plotly.offline as pyo\n",
    "from scipy import signal\n",
    "import scipy.cluster.hierarchy as spc\n",
    "from pandas import read_excel\n",
    "from ipywidgets import widgets\n",
    "from ipywidgets import interactive, HBox, VBox\n",
    "import plotly.io as pio\n",
    "import seaborn as sns\n",
    "import numpy as np\n",
    "from sklearn.cluster import KMeans"
   ]
  },
  {
   "cell_type": "markdown",
   "metadata": {},
   "source": [
    "### Loading pytrend data"
   ]
  },
  {
   "cell_type": "code",
   "execution_count": null,
   "metadata": {},
   "outputs": [],
   "source": [
    "pytrends = TrendReq(hl='en-US', tz=360)\n",
    "\n",
    "#list topics \n",
    "kw_list = []\n",
    "\n",
    "kw_list.append([\"/m/032nch\"]) #cruauté envers les animaux, Sujet\n",
    "kw_list.append([\"l214\"])\n",
    "kw_list.append([\"/m/047v0jr\"]) #abattage\n",
    "kw_list.append([\"/m/07628\"]) #spécisme\n",
    "kw_list.append([\"/m/07_lq\"]) #cuisine vegetarienne\n",
    "kw_list.append([\"/m/07_jd\"]) #végétarisme\n",
    "kw_list.append([\"/m/07_hy\"]) #véganisme\n",
    "kw_list.append([\"/m/020953\"]) #substitut de viande\n",
    "\n",
    "#list country https://abbreviations.yourdictionary.com/articles/abbreviations-european-union.html\n",
    "country_list = [\"FR\",\"BE\",\"BG\",\"CY\",\"CZ\",\"DE\",\"DK\",\"EE\",\"ES\",\"FI\",\"AT\",\"GB\",\"GR\",\"HR\",\"HU\",\"IE\",\"IT\",\"LT\",\"LU\",\"LV\",\"MT\",\"NL\",\"PL\",\"PT\",\"RO\",\"SE\",\"SI\",\"SK\"]\n",
    "country_list_iso = [\"FRA\",\"BEL\",\"BGR\",\"CYP\",\"CZE\",\"DEU\",\"DNK\",\"EST\",\"ESP\",\"FIN\",\"AUT\",\"GBR\",\"GRC\",\"HRV\",\"HUN\",\"IRL\",\"ITA\",\"LTU\",\"LUX\",\"LVA\",\"MLT\",\"NLD\",\"POL\",\"PRT\",\"ROU\",\"SWE\",\"SVN\",\"SVK\"]\n",
    "\n"
   ]
  },
  {
   "cell_type": "code",
   "execution_count": null,
   "metadata": {},
   "outputs": [],
   "source": [
    "for x in range(len(kw_list)):\n",
    "    \n",
    "    #adding just the first one\n",
    "    pytrends.build_payload(kw_list[x], cat=0, timeframe='all', geo=country_list[0], gprop='')\n",
    "    pytrends.interest_over_time()\n",
    "    newDataframe = pytrends.interest_over_time()[kw_list[x]]\n",
    "    listColumn = []\n",
    "    listColumn.append(country_list[0])\n",
    "        \n",
    "    for y in range(1, len(country_list)): \n",
    "        pytrends.build_payload(kw_list[x], cat=0, timeframe='all', geo=country_list[y], gprop='')\n",
    "        ledata = pytrends.interest_over_time()\n",
    "        if not ledata.empty:\n",
    "            ledata.drop(ledata.columns[len(ledata.columns)-1], axis=1, inplace=True)\n",
    "            newDataframe = pd.concat([newDataframe, ledata], axis=1, join='inner')\n",
    "            listColumn.append(country_list[y])\n",
    "\n",
    "    newDataframe.columns = listColumn\n",
    "    newDataframe = newDataframe[19:] #remove first strange Data\n",
    "    newDataframe.to_pickle(\"./data_vinc/GoogleTrend\"+str(x)+\".pkl\") \n",
    "\n"
   ]
  },
  {
   "cell_type": "code",
   "execution_count": null,
   "metadata": {},
   "outputs": [],
   "source": [
    "df_animal_cruelty = pd.read_pickle(\"./data_vinc/GoogleTrend0.pkl\")\n",
    "df_l214 = pd.read_pickle(\"./data_vinc/GoogleTrend1.pkl\")\n",
    "df_abattage = pd.read_pickle(\"./data_vinc/GoogleTrend2.pkl\")\n",
    "df_specism = pd.read_pickle(\"./data_vinc/GoogleTrend3.pkl\")\n",
    "df_vegan_cook = pd.read_pickle(\"./data_vinc/GoogleTrend4.pkl\")\n",
    "df_vegetarism = pd.read_pickle(\"./data_vinc/GoogleTrend5.pkl\")\n",
    "df_veganism = pd.read_pickle(\"./data_vinc/GoogleTrend6.pkl\")\n",
    "df_meat_substitute = pd.read_pickle(\"./data_vinc/GoogleTrend7.pkl\")"
   ]
  },
  {
   "cell_type": "markdown",
   "metadata": {},
   "source": [
    "### Plot raw data"
   ]
  },
  {
   "cell_type": "code",
   "execution_count": null,
   "metadata": {},
   "outputs": [],
   "source": [
    "def plot_lines(df,value_smooth):\n",
    "    fig = go.Figure()\n",
    "    for x in df.columns:\n",
    "        if value_smooth == 0:\n",
    "            fig.add_trace(go.Scatter(x=df.index, y=df[x], mode='lines',name=x))\n",
    "        else:\n",
    "            fig.add_trace(go.Scatter(x=df.index, y=signal.savgol_filter(df[x],value_smooth, 3), mode='lines',name=x))\n",
    "    return fig"
   ]
  },
  {
   "cell_type": "code",
   "execution_count": null,
   "metadata": {},
   "outputs": [],
   "source": [
    "event_dates = [['2014-03-15', 'tortured kitty in marseille'],\n",
    "               ['2016-03-15', 'l214 slaughter video of lambs'],\n",
    "               ['2016-03-15', 'l214 slaughter video of lambs'],\n",
    "               ['2018-11-03', 'l214 slaughter video, slaughtering building closed'],\n",
    "               ['2015-12-01', 'dog abused in florida, covered by es media']\n",
    "               \n",
    "              ]"
   ]
  },
  {
   "cell_type": "code",
   "execution_count": null,
   "metadata": {},
   "outputs": [],
   "source": [
    "fig_animal_cruelty = plot_lines(df_animal_cruelty,7)\n",
    "fig_l214 = plot_lines(df_l214[['FR']],7)\n",
    "fig_abattage = plot_lines(df_abattage,7)\n",
    "fig_specism = plot_lines(df_specism,7)\n",
    "fig_vegan_cook = plot_lines(df_vegan_cook,7)\n",
    "fig_vegetarism = plot_lines(df_vegetarism,7)\n",
    "fig_veganism = plot_lines(df_veganism,7)\n",
    "fig_meat_substitute = plot_lines(df_meat_substitute,7)"
   ]
  },
  {
   "cell_type": "code",
   "execution_count": null,
   "metadata": {},
   "outputs": [],
   "source": [
    "import plotly.io as pio\n",
    "pio.write_html(fig_veganism, file='couilles.html', auto_open=True)"
   ]
  },
  {
   "cell_type": "code",
   "execution_count": null,
   "metadata": {},
   "outputs": [],
   "source": [
    "fig_animal_cruelty.update_layout(title_text='Animal Cruelty interest over years', title_xanchor='left').show()\n",
    "fig_l214.update_layout(title_text='L214 interest over years', title_xanchor='left').show()\n",
    "fig_abattage.update_layout(title_text='Slaughter interest over years', title_xanchor='left').show()\n",
    "fig_specism.update_layout(title_text='Specism interest over years', title_xanchor='left').show()\n",
    "fig_vegan_cook.update_layout(title_text='Vegan cook interest over years', title_xanchor='left').show()\n",
    "fig_vegetarism.update_layout(title_text='Vegetarism interest over years', title_xanchor='left').show()\n",
    "fig_veganism.update_layout(title_text='Veganism interest over years', title_xanchor='left').show()\n",
    "fig_meat_substitute.update_layout(title_text='Meat substitute interest over years', title_xanchor='left').show()"
   ]
  },
  {
   "cell_type": "markdown",
   "metadata": {},
   "source": [
    "### Hierarchical clustering"
   ]
  },
  {
   "cell_type": "code",
   "execution_count": null,
   "metadata": {},
   "outputs": [],
   "source": [
    "plot_lines(df_veganism, 0)"
   ]
  },
  {
   "cell_type": "code",
   "execution_count": null,
   "metadata": {},
   "outputs": [],
   "source": [
    "#cluster countries based on correlation measure\n",
    "def getIdx(corr,variableTweak):\n",
    "    pdist = spc.distance.pdist(corr)\n",
    "    linkage = spc.linkage(pdist, method='complete')\n",
    "    idx = spc.fcluster(linkage, variableTweak * pdist.max(), 'distance')\n",
    "    return idx\n",
    "\n",
    "def getGroupe(number,idx):\n",
    "    groupe = []\n",
    "    for i in range(0,len(idx)):\n",
    "        x = idx[i]\n",
    "        if x == number:\n",
    "            groupe.append(i)\n",
    "    return groupe\n",
    "\n",
    "def plotDifferentGroup(idx,dfPlot,indicePlot):\n",
    "    for i in range(1,max(idx)+1):\n",
    "        df1 = dfPlot[dfPlot.columns[getGroupe(i,idx)]]\n",
    "        plot_lines(df1,indicePlot).show()\n",
    "        "
   ]
  },
  {
   "cell_type": "code",
   "execution_count": null,
   "metadata": {},
   "outputs": [],
   "source": [
    "def plotMapStatic(idx, title):\n",
    "    fig = go.Figure(data=go.Choropleth(\n",
    "        locations=country_list_iso, # Spatial coordinates\n",
    "        z = idx, # Data to be color-coded\n",
    "        locationmode = 'ISO-3', # set of locations match entries in `locations`\n",
    "        colorscale=\"Blugrn\",\n",
    "        colorbar_title = \"Millions USD\",\n",
    "        showscale = False,\n",
    "    ))\n",
    "\n",
    "    fig.update_layout(\n",
    "        title_text = title,\n",
    "        geo_scope='europe', # limite map scope to USA\n",
    "        autosize=False,\n",
    "        width=800,\n",
    "        height=800,\n",
    "        dragmode=False\n",
    "    )\n",
    "    #fig.show()\n",
    "    return fig\n",
    "    \n",
    "def plotByGroup(df, threshold=0.5, method='hierarchical', n_clusters=3):\n",
    "    df_corr= df.corr(method='kendall')\n",
    "    idx = None\n",
    "    if method== 'hierarchical':\n",
    "        idx = getIdx(df_corr, threshold)\n",
    "    else:\n",
    "        idx=getKMeansGroups(df, n_clusters)+1\n",
    "    plotDifferentGroup(idx, df, 11)\n",
    "    return plotMapStatic(idx, 'Clustering by interest on subject')\n",
    "    \n",
    "def getKMeansGroups(df, n_clusters=3):\n",
    "    k_means = KMeans(n_clusters=n_clusters, random_state=0).fit(df.transpose().values)\n",
    "    return k_means.predict(df.transpose().values)"
   ]
  },
  {
   "cell_type": "code",
   "execution_count": null,
   "metadata": {},
   "outputs": [],
   "source": [
    "f = plotByGroup(df_veganism, method='kmeans')"
   ]
  },
  {
   "cell_type": "code",
   "execution_count": null,
   "metadata": {},
   "outputs": [],
   "source": [
    "import plotly.io as pio\n",
    "pio.write_html(f, file='couille.html', auto_open=True)"
   ]
  },
  {
   "cell_type": "code",
   "execution_count": null,
   "metadata": {},
   "outputs": [],
   "source": []
  },
  {
   "cell_type": "code",
   "execution_count": null,
   "metadata": {},
   "outputs": [],
   "source": []
  },
  {
   "cell_type": "code",
   "execution_count": null,
   "metadata": {},
   "outputs": [],
   "source": [
    "plotByGroup(df_vegan_cook, n_clusters=2, method='kmeans')"
   ]
  },
  {
   "cell_type": "code",
   "execution_count": null,
   "metadata": {},
   "outputs": [],
   "source": [
    "plotByGroup(df_animal_cruelty, n_clusters=2, method='kmeans')"
   ]
  },
  {
   "cell_type": "code",
   "execution_count": null,
   "metadata": {},
   "outputs": [],
   "source": [
    "plotByGroup(df_general, n_clusters=2, method='kmeans')"
   ]
  },
  {
   "cell_type": "markdown",
   "metadata": {},
   "source": [
    "# Topics interest over years"
   ]
  },
  {
   "cell_type": "code",
   "execution_count": null,
   "metadata": {},
   "outputs": [],
   "source": [
    "def create_slider_from_df(df):\n",
    "    ### create empty list for data object:    \n",
    "    data_slider = []\n",
    "\n",
    "    for ix in range(df.shape[0]):\n",
    "        ### create the dictionary with the data for the current year\n",
    "        data_one_year = dict(\n",
    "                            type='choropleth',\n",
    "                            locations=country_list_iso, # Spatial coordinates\n",
    "                            z = df.iloc[ix], # Data to be color-coded\n",
    "                            locationmode = 'ISO-3', # set of locations match entries in `locations`\n",
    "                            autocolorscale=False,\n",
    "                            colorscale = \"Blugrn\",\n",
    "                            zmax = 100,\n",
    "                            zmin = 0,\n",
    "                            colorbar_title = \"Interest\",\n",
    "                            )\n",
    "        #ix = ix+1\n",
    "        data_slider.append(data_one_year)  # I add the dictionary to the list of dictionaries for the slider\n",
    "    return data_slider\n",
    "\n",
    "def plot_interest(df, title):\n",
    "    data_slider = create_slider_from_df(df)\n",
    "    steps = []\n",
    "    for i in range(df.shape[0]):\n",
    "        step = dict(method='restyle',\n",
    "                    args=['visible', [False] * len(data_slider)],\n",
    "                    label=df.index[i].strftime(\"%m/%d/%Y\")) # label to be displayed for each step (year)\n",
    "        step['args'][1][i] = True\n",
    "        steps.append(step)\n",
    "    ##  I create the 'sliders' object from the 'steps' \n",
    "    sliders = [dict(active=0, pad={\"t\": 1}, steps=steps)] \n",
    "    layout = dict(geo=dict(scope='europe',),sliders=sliders,title_text = title, autosize=False, width=800,height=800,dragmode=False)\n",
    "    # I create the figure object:\n",
    "    fig = dict(data=data_slider, layout=layout,) \n",
    "    pio.show(fig)\n",
    "    \n",
    "def getGroup(number,idx):\n",
    "    group = []\n",
    "    for i in range(0,len(idx)):\n",
    "        x = idx[i]\n",
    "        if x == number:\n",
    "            group.append(i)\n",
    "    return group\n",
    "    \n",
    "def plotDifferentGroup(idx,dfPlot,indicePlot):\n",
    "    for i in range(1,maxGroupe(idx)+1):\n",
    "        df1 = dfPlot[dfPlot.columns[getGroupe(i,idx)]]\n",
    "        plot_lines(df1,indicePlot).update_layout(title_text = 'Visualization Google Trend \"Animal Cruelty\" and \"Veganism\" for group '+str(i2),).show()"
   ]
  },
  {
   "cell_type": "code",
   "execution_count": null,
   "metadata": {},
   "outputs": [],
   "source": [
    "plot_interest(df_vegetarism, 'Evolution of interest over topic vegetarism between 2010 - 2018')"
   ]
  },
  {
   "cell_type": "code",
   "execution_count": null,
   "metadata": {},
   "outputs": [],
   "source": [
    "plot_interest(df_veganism)"
   ]
  },
  {
   "cell_type": "code",
   "execution_count": null,
   "metadata": {},
   "outputs": [],
   "source": [
    "plot_interest(df_meat_substitute)"
   ]
  },
  {
   "cell_type": "markdown",
   "metadata": {},
   "source": [
    "### k-means"
   ]
  },
  {
   "cell_type": "code",
   "execution_count": null,
   "metadata": {},
   "outputs": [],
   "source": [
    "def plotMapStatic(idx, title):\n",
    "    fig = go.Figure(data=go.Choropleth(\n",
    "        locations=country_list_iso, # Spatial coordinates\n",
    "        z = idx, # Data to be color-coded\n",
    "        locationmode = 'ISO-3', # set of locations match entries in `locations`\n",
    "        #colorscale=[            [0, \"rgb(12,140,113)\"],[0.5, \"rgb(12,140,113)\"],[0.5, \"rgb(26,188,156)\"],[1, \"rgb(26,188,156)\"]],\n",
    "        colorscale=\"Blugrn\",\n",
    "        colorbar_title = \"Millions USD\",\n",
    "        showscale = False,\n",
    "    ))\n",
    "\n",
    "    fig.update_layout(\n",
    "        title_text = title,\n",
    "        geo_scope='europe', # limite map scope to USA\n",
    "        autosize=False,\n",
    "        width=800,\n",
    "        height=800,\n",
    "        dragmode = False,\n",
    "    )\n",
    "    fig.show()\n",
    "    \n",
    "def plot_k_mean_temporal_data(df, title, n_clusters=3):\n",
    "    k_means = KMeans(n_clusters=n_clusters, random_state=0).fit(df.transpose().values)\n",
    "    groups = k_means.predict(df.transpose().values)\n",
    "    print(len(groups))\n",
    "    plotMapStatic(groups, title)\n",
    "    return groups\n",
    "\n",
    "def plotDifferentGroup(idx,dfPlot,indicePlot):\n",
    "    for i in range(1,maxGroupe(idx)+1):\n",
    "        df1 = dfPlot[dfPlot.columns[getGroupe(i,idx)]]\n",
    "        plot_lines(df1,indicePlot).update_layout(title_text = 'Visualization Google Trend \"Animal Cruelty\" and \"Veganism\" for group '+str(i2),).show()"
   ]
  },
  {
   "cell_type": "code",
   "execution_count": null,
   "metadata": {},
   "outputs": [],
   "source": [
    "plot_k_mean_temporal_data(df_vegetarism, 'vegetarism')"
   ]
  },
  {
   "cell_type": "code",
   "execution_count": null,
   "metadata": {},
   "outputs": [],
   "source": [
    "plot_k_mean_temporal_data(df_meat_substitute, 3)"
   ]
  },
  {
   "cell_type": "code",
   "execution_count": null,
   "metadata": {},
   "outputs": [],
   "source": [
    "plot_k_mean_temporal_data(df_vegetarism+df_veganism, 5)"
   ]
  },
  {
   "cell_type": "code",
   "execution_count": null,
   "metadata": {},
   "outputs": [],
   "source": []
  },
  {
   "cell_type": "code",
   "execution_count": null,
   "metadata": {},
   "outputs": [],
   "source": []
  },
  {
   "cell_type": "code",
   "execution_count": null,
   "metadata": {},
   "outputs": [],
   "source": []
  },
  {
   "cell_type": "code",
   "execution_count": null,
   "metadata": {},
   "outputs": [],
   "source": []
  },
  {
   "cell_type": "code",
   "execution_count": null,
   "metadata": {},
   "outputs": [],
   "source": []
  },
  {
   "cell_type": "code",
   "execution_count": null,
   "metadata": {},
   "outputs": [],
   "source": []
  },
  {
   "cell_type": "code",
   "execution_count": null,
   "metadata": {},
   "outputs": [],
   "source": []
  },
  {
   "cell_type": "code",
   "execution_count": null,
   "metadata": {},
   "outputs": [],
   "source": []
  },
  {
   "cell_type": "code",
   "execution_count": null,
   "metadata": {},
   "outputs": [],
   "source": []
  },
  {
   "cell_type": "code",
   "execution_count": null,
   "metadata": {},
   "outputs": [],
   "source": [
    "pd.read_json('data_vinc/JO1301K1.json')"
   ]
  },
  {
   "cell_type": "code",
   "execution_count": null,
   "metadata": {},
   "outputs": [],
   "source": [
    "df_viande_swe = pd.read_csv('data_vinc/swedend_meat_cons.csv')"
   ]
  },
  {
   "cell_type": "code",
   "execution_count": null,
   "metadata": {},
   "outputs": [],
   "source": [
    "plt.figure(figsize=(20,20))\n",
    "plt.plot(df_viande_swe[df_viande_swe['type']=='boeuf'].drop('type', axis=1).iloc[0])"
   ]
  },
  {
   "cell_type": "code",
   "execution_count": null,
   "metadata": {},
   "outputs": [],
   "source": []
  }
 ],
 "metadata": {
  "kernelspec": {
   "display_name": "Python 3",
   "language": "python",
   "name": "python3"
  },
  "language_info": {
   "codemirror_mode": {
    "name": "ipython",
    "version": 3
   },
   "file_extension": ".py",
   "mimetype": "text/x-python",
   "name": "python",
   "nbconvert_exporter": "python",
   "pygments_lexer": "ipython3",
   "version": "3.6.9"
  }
 },
 "nbformat": 4,
 "nbformat_minor": 4
}
