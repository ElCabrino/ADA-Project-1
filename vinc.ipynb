{
 "cells": [
  {
   "cell_type": "code",
   "execution_count": null,
   "metadata": {},
   "outputs": [],
   "source": [
    "from pytrends.request import TrendReq\n",
    "import matplotlib.pyplot as plt\n",
    "import pandas as pd\n",
    "import plotly.graph_objects as go\n",
    "import plotly.offline as pyo\n",
    "from scipy import signal\n",
    "import scipy.cluster.hierarchy as spc\n",
    "from pandas import read_excel\n",
    "from ipywidgets import widgets\n",
    "from ipywidgets import interactive, HBox, VBox\n",
    "import plotly.io as pio\n",
    "init_notebook_mode(connected=True)"
   ]
  },
  {
   "cell_type": "markdown",
   "metadata": {},
   "source": [
    "keywords:"
   ]
  },
  {
   "cell_type": "code",
   "execution_count": null,
   "metadata": {},
   "outputs": [],
   "source": [
    "pytrends = TrendReq(hl='en-US', tz=360)\n",
    "\n",
    "#list topics \n",
    "kw_list = []\n",
    "\n",
    "kw_list.append([\"/m/032nch\"]) #cruauté envers les animaux, Sujet\n",
    "kw_list.append([\"l214\"])\n",
    "kw_list.append([\"/m/047v0jr\"]) #abattage\n",
    "kw_list.append([\"/m/07628\"]) #spécisme\n",
    "kw_list.append([\"/m/07_lq\"]) #cuisine vegetarienne\n",
    "kw_list.append([\"/m/07_jd\"]) #végétarisme\n",
    "kw_list.append([\"/m/07_hy\"]) #véganisme\n",
    "kw_list.append([\"/m/020953\"]) #substitut de viande\n",
    "\n",
    "#list country https://abbreviations.yourdictionary.com/articles/abbreviations-european-union.html\n",
    "country_list = [\"FR\",\"BE\",\"BG\",\"CY\",\"CZ\",\"DE\",\"DK\",\"EE\",\"ES\",\"FI\",\"AT\",\"GB\",\"GR\",\"HR\",\"HU\",\"IE\",\"IT\",\"LT\",\"LU\",\"LV\",\"MT\",\"NL\",\"PL\",\"PT\",\"RO\",\"SE\",\"SI\",\"SK\"]\n",
    "country_list_iso = [\"FRA\",\"BEL\",\"BGR\",\"CYP\",\"CZE\",\"DEU\",\"DNK\",\"EST\",\"ESP\",\"FIN\",\"AUT\",\"GBR\",\"GRC\",\"HRV\",\"HUN\",\"IRL\",\"ITA\",\"LTU\",\"LUX\",\"LVA\",\"MLT\",\"NLD\",\"POL\",\"PRT\",\"ROU\",\"SWE\",\"SVN\",\"SVK\"]\n",
    "\n",
    "\n",
    "for x in range(len(kw_list)):\n",
    "    \n",
    "    #adding just the first one\n",
    "    pytrends.build_payload(kw_list[x], cat=0, timeframe='all', geo=country_list[0], gprop='')\n",
    "    pytrends.interest_over_time()\n",
    "    newDataframe = pytrends.interest_over_time()[kw_list[x]]\n",
    "    listColumn = []\n",
    "    listColumn.append(country_list[0])\n",
    "        \n",
    "    for y in range(1, len(country_list)): \n",
    "        pytrends.build_payload(kw_list[x], cat=0, timeframe='all', geo=country_list[y], gprop='')\n",
    "        ledata = pytrends.interest_over_time()\n",
    "        if not ledata.empty:\n",
    "            ledata.drop(ledata.columns[len(ledata.columns)-1], axis=1, inplace=True)\n",
    "            newDataframe = pd.concat([newDataframe, ledata], axis=1, join='inner')\n",
    "            listColumn.append(country_list[y])\n",
    "\n",
    "    newDataframe.columns = listColumn\n",
    "    newDataframe = newDataframe[19:] #remove first strange Data\n",
    "    newDataframe.to_pickle(\"./data_vinc/GoogleTrend\"+str(x)+\".pkl\") \n",
    "\n"
   ]
  },
  {
   "cell_type": "code",
   "execution_count": null,
   "metadata": {},
   "outputs": [],
   "source": [
    "df_animal_cruelty = pd.read_pickle(\"./data_vinc/GoogleTrend0.pkl\")\n",
    "df_l214 = pd.read_pickle(\"./data_vinc/GoogleTrend1.pkl\")\n",
    "df_abattage = pd.read_pickle(\"./data_vinc/GoogleTrend2.pkl\")\n",
    "df_specism = pd.read_pickle(\"./data_vinc/GoogleTrend3.pkl\")\n",
    "df_vegan_cook = pd.read_pickle(\"./data_vinc/GoogleTrend4.pkl\")\n",
    "df_vegetarism = pd.read_pickle(\"./data_vinc/GoogleTrend5.pkl\")\n",
    "df_veganism = pd.read_pickle(\"./data_vinc/GoogleTrend6.pkl\")\n",
    "df_meat_substitute = pd.read_pickle(\"./data_vinc/GoogleTrend7.pkl\")"
   ]
  },
  {
   "cell_type": "code",
   "execution_count": null,
   "metadata": {},
   "outputs": [],
   "source": [
    "def plot_lines(df,value_smooth):\n",
    "    fig = go.Figure()\n",
    "    for x in df.columns:\n",
    "        if value_smooth == 0:\n",
    "            fig.add_trace(go.Scatter(x=df.index, y=df[x], mode='lines',name=x))\n",
    "        else:\n",
    "            fig.add_trace(go.Scatter(x=df.index, y=signal.savgol_filter(df[x],value_smooth, 3), mode='lines',name=x))\n",
    "    fig.show()"
   ]
  },
  {
   "cell_type": "code",
   "execution_count": null,
   "metadata": {},
   "outputs": [],
   "source": [
    "plot_lines(df_animal_cruelty,25)"
   ]
  },
  {
   "cell_type": "code",
   "execution_count": null,
   "metadata": {},
   "outputs": [],
   "source": []
  }
 ],
 "metadata": {
  "kernelspec": {
   "display_name": "Python 3",
   "language": "python",
   "name": "python3"
  },
  "language_info": {
   "codemirror_mode": {
    "name": "ipython",
    "version": 3
   },
   "file_extension": ".py",
   "mimetype": "text/x-python",
   "name": "python",
   "nbconvert_exporter": "python",
   "pygments_lexer": "ipython3",
   "version": "3.7.4"
  }
 },
 "nbformat": 4,
 "nbformat_minor": 4
}
